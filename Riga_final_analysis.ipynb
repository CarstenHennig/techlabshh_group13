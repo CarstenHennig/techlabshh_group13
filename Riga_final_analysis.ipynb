{
  "cells": [
    {
      "cell_type": "markdown",
      "metadata": {
        "id": "wtG3_2JXTI4N"
      },
      "source": [
        "# Setup"
      ]
    },
    {
      "cell_type": "code",
      "execution_count": 6,
      "metadata": {
        "id": "z_vijsxsTNuH"
      },
      "outputs": [],
      "source": [
        "# Connecting google drive to Colab to import data\n",
        "# from google.colab import drive\n",
        "# drive.mount('/content/drive')"
      ]
    },
    {
      "cell_type": "code",
      "execution_count": 8,
      "metadata": {
        "id": "cwWm4dolNESY"
      },
      "outputs": [],
      "source": [
        "# Import Pandas and define dataframe as df\n",
        "import pandas as pd\n",
        "path = \"/content/fullListingsRiga.csv\"\n",
        "df = pd.read_csv(path)"
      ]
    },
    {
      "cell_type": "code",
      "execution_count": 9,
      "metadata": {
        "id": "GBNWeEIbUX0B"
      },
      "outputs": [],
      "source": [
        "# Import other libraries\n",
        "import matplotlib.pyplot as plt\n",
        "import seaborn as sns\n",
        "import numpy as np"
      ]
    },
    {
      "cell_type": "markdown",
      "metadata": {
        "id": "JQy_30AQVtIZ"
      },
      "source": [
        "#Data Cleaning"
      ]
    },
    {
      "cell_type": "markdown",
      "metadata": {
        "id": "7DQm--R1mb0M"
      },
      "source": [
        "##Verify Data"
      ]
    },
    {
      "cell_type": "code",
      "execution_count": 10,
      "metadata": {
        "colab": {
          "base_uri": "https://localhost:8080/"
        },
        "id": "gdDZS_OWVqvk",
        "outputId": "b847efbd-b41c-47d5-abf1-984ca4215bcd"
      },
      "outputs": [
        {
          "output_type": "execute_result",
          "data": {
            "text/plain": [
              "(2801, 75)"
            ]
          },
          "metadata": {},
          "execution_count": 10
        }
      ],
      "source": [
        "# Check the size of data (Rows,columns)\n",
        "# Total number of listings in Riga\n",
        "df.shape"
      ]
    },
    {
      "cell_type": "code",
      "execution_count": 11,
      "metadata": {
        "colab": {
          "base_uri": "https://localhost:8080/",
          "height": 305
        },
        "id": "GOVHABAV550x",
        "outputId": "902cf4bc-7d23-4f1e-b9b9-f5dd567a77d0"
      },
      "outputs": [
        {
          "output_type": "execute_result",
          "data": {
            "text/plain": [
              "       id                          listing_url       scrape_id last_scraped  \\\n",
              "0   21134   https://www.airbnb.com/rooms/21134  20230629191658   2023-06-29   \n",
              "1  120480  https://www.airbnb.com/rooms/120480  20230629191658   2023-06-29   \n",
              "\n",
              "        source                                               name  \\\n",
              "0  city scrape  Rental unit in Riga · ★4.75 · 1 bedroom · 1 be...   \n",
              "1  city scrape  Rental unit in Riga · ★4.58 · 2 bedrooms · 2 b...   \n",
              "\n",
              "                                         description  \\\n",
              "0  Cozy room in a shared flat with to other peopl...   \n",
              "1  Apartment \"Magic of Riga History\" is ideal for...   \n",
              "\n",
              "                               neighborhood_overview  \\\n",
              "0  The flat is in the urban, a bit bohemian centr...   \n",
              "1                                                NaN   \n",
              "\n",
              "                                         picture_url  host_id  \\\n",
              "0  https://a0.muscache.com/pictures/1850842/2a1b8...    80446   \n",
              "1  https://a0.muscache.com/pictures/1858364/affbf...   606352   \n",
              "\n",
              "                                   host_url                host_name  \\\n",
              "0   https://www.airbnb.com/users/show/80446  Ieva And Florian Daniel   \n",
              "1  https://www.airbnb.com/users/show/606352                 Kristine   \n",
              "\n",
              "   host_since host_location  \\\n",
              "0  2010-02-12  Riga, Latvia   \n",
              "1  2011-05-20  Riga, Latvia   \n",
              "\n",
              "                                          host_about  host_response_time  \\\n",
              "0                  Journalist and Graphic Designer.         within a day   \n",
              "1  I'm Kristine Rubene from Riga, Latvia.  I am w...  within a few hours   \n",
              "\n",
              "  host_response_rate host_acceptance_rate host_is_superhost  \\\n",
              "0                75%                  50%               NaN   \n",
              "1               100%                  98%                 t   \n",
              "\n",
              "                                  host_thumbnail_url  \\\n",
              "0  https://a0.muscache.com/im/users/80446/profile...   \n",
              "1  https://a0.muscache.com/im/pictures/user/e9379...   \n",
              "\n",
              "                                    host_picture_url host_neighbourhood  \\\n",
              "0  https://a0.muscache.com/im/users/80446/profile...                NaN   \n",
              "1  https://a0.muscache.com/im/pictures/user/e9379...                NaN   \n",
              "\n",
              "   host_listings_count  host_total_listings_count  host_verifications  \\\n",
              "0                  2.0                        2.0  ['email', 'phone']   \n",
              "1                  1.0                        1.0  ['email', 'phone']   \n",
              "\n",
              "  host_has_profile_pic host_identity_verified neighbourhood  \\\n",
              "0                    t                      t  Riga, Latvia   \n",
              "1                    t                      t           NaN   \n",
              "\n",
              "  neighbourhood_cleansed  neighbourhood_group_cleansed  latitude  longitude  \\\n",
              "0                  Avoti                           NaN  56.95296   24.13101   \n",
              "1            VecpilsÄta                           NaN  56.95280   24.10551   \n",
              "\n",
              "                 property_type        room_type  accommodates  bathrooms  \\\n",
              "0  Private room in rental unit     Private room             1        NaN   \n",
              "1           Entire rental unit  Entire home/apt             5        NaN   \n",
              "\n",
              "  bathrooms_text  bedrooms  beds  \\\n",
              "0  1 shared bath       NaN   1.0   \n",
              "1         1 bath       2.0   2.0   \n",
              "\n",
              "                                           amenities   price  minimum_nights  \\\n",
              "0  [\"City skyline view\", \"Indoor fireplace\", \"Bed...  $10.00              90   \n",
              "1  [\"Pets allowed\", \"Indoor fireplace: wood-burni...  $56.00               2   \n",
              "\n",
              "   maximum_nights  minimum_minimum_nights  maximum_minimum_nights  \\\n",
              "0            1125                      90                      90   \n",
              "1             730                       2                       2   \n",
              "\n",
              "   minimum_maximum_nights  maximum_maximum_nights  minimum_nights_avg_ntm  \\\n",
              "0                    1125                    1125                    90.0   \n",
              "1                     730                     730                     2.0   \n",
              "\n",
              "   maximum_nights_avg_ntm  calendar_updated has_availability  availability_30  \\\n",
              "0                  1125.0               NaN                t               22   \n",
              "1                   730.0               NaN                t                5   \n",
              "\n",
              "   availability_60  availability_90  availability_365 calendar_last_scraped  \\\n",
              "0               52               82               263            2023-06-29   \n",
              "1               14               32               304            2023-06-29   \n",
              "\n",
              "   number_of_reviews  number_of_reviews_ltm  number_of_reviews_l30d  \\\n",
              "0                 74                      0                       0   \n",
              "1                533                     65                       6   \n",
              "\n",
              "  first_review last_review  review_scores_rating  review_scores_accuracy  \\\n",
              "0   2011-07-24  2021-10-31                  4.75                    4.62   \n",
              "1   2011-06-23  2023-06-22                  4.58                    4.76   \n",
              "\n",
              "   review_scores_cleanliness  review_scores_checkin  \\\n",
              "0                       4.79                   4.94   \n",
              "1                       4.58                   4.87   \n",
              "\n",
              "   review_scores_communication  review_scores_location  review_scores_value  \\\n",
              "0                         4.90                    4.58                 4.83   \n",
              "1                         4.89                    4.94                 4.76   \n",
              "\n",
              "   license instant_bookable  calculated_host_listings_count  \\\n",
              "0      NaN                f                               2   \n",
              "1      NaN                f                               1   \n",
              "\n",
              "   calculated_host_listings_count_entire_homes  \\\n",
              "0                                            0   \n",
              "1                                            1   \n",
              "\n",
              "   calculated_host_listings_count_private_rooms  \\\n",
              "0                                             2   \n",
              "1                                             0   \n",
              "\n",
              "   calculated_host_listings_count_shared_rooms  reviews_per_month  \n",
              "0                                            0               0.51  \n",
              "1                                            0               3.64  "
            ],
            "text/html": [
              "\n",
              "  <div id=\"df-3da9e7fc-20a9-432d-9300-bcf4de13b822\" class=\"colab-df-container\">\n",
              "    <div>\n",
              "<style scoped>\n",
              "    .dataframe tbody tr th:only-of-type {\n",
              "        vertical-align: middle;\n",
              "    }\n",
              "\n",
              "    .dataframe tbody tr th {\n",
              "        vertical-align: top;\n",
              "    }\n",
              "\n",
              "    .dataframe thead th {\n",
              "        text-align: right;\n",
              "    }\n",
              "</style>\n",
              "<table border=\"1\" class=\"dataframe\">\n",
              "  <thead>\n",
              "    <tr style=\"text-align: right;\">\n",
              "      <th></th>\n",
              "      <th>id</th>\n",
              "      <th>listing_url</th>\n",
              "      <th>scrape_id</th>\n",
              "      <th>last_scraped</th>\n",
              "      <th>source</th>\n",
              "      <th>name</th>\n",
              "      <th>description</th>\n",
              "      <th>neighborhood_overview</th>\n",
              "      <th>picture_url</th>\n",
              "      <th>host_id</th>\n",
              "      <th>host_url</th>\n",
              "      <th>host_name</th>\n",
              "      <th>host_since</th>\n",
              "      <th>host_location</th>\n",
              "      <th>host_about</th>\n",
              "      <th>host_response_time</th>\n",
              "      <th>host_response_rate</th>\n",
              "      <th>host_acceptance_rate</th>\n",
              "      <th>host_is_superhost</th>\n",
              "      <th>host_thumbnail_url</th>\n",
              "      <th>host_picture_url</th>\n",
              "      <th>host_neighbourhood</th>\n",
              "      <th>host_listings_count</th>\n",
              "      <th>host_total_listings_count</th>\n",
              "      <th>host_verifications</th>\n",
              "      <th>host_has_profile_pic</th>\n",
              "      <th>host_identity_verified</th>\n",
              "      <th>neighbourhood</th>\n",
              "      <th>neighbourhood_cleansed</th>\n",
              "      <th>neighbourhood_group_cleansed</th>\n",
              "      <th>latitude</th>\n",
              "      <th>longitude</th>\n",
              "      <th>property_type</th>\n",
              "      <th>room_type</th>\n",
              "      <th>accommodates</th>\n",
              "      <th>bathrooms</th>\n",
              "      <th>bathrooms_text</th>\n",
              "      <th>bedrooms</th>\n",
              "      <th>beds</th>\n",
              "      <th>amenities</th>\n",
              "      <th>price</th>\n",
              "      <th>minimum_nights</th>\n",
              "      <th>maximum_nights</th>\n",
              "      <th>minimum_minimum_nights</th>\n",
              "      <th>maximum_minimum_nights</th>\n",
              "      <th>minimum_maximum_nights</th>\n",
              "      <th>maximum_maximum_nights</th>\n",
              "      <th>minimum_nights_avg_ntm</th>\n",
              "      <th>maximum_nights_avg_ntm</th>\n",
              "      <th>calendar_updated</th>\n",
              "      <th>has_availability</th>\n",
              "      <th>availability_30</th>\n",
              "      <th>availability_60</th>\n",
              "      <th>availability_90</th>\n",
              "      <th>availability_365</th>\n",
              "      <th>calendar_last_scraped</th>\n",
              "      <th>number_of_reviews</th>\n",
              "      <th>number_of_reviews_ltm</th>\n",
              "      <th>number_of_reviews_l30d</th>\n",
              "      <th>first_review</th>\n",
              "      <th>last_review</th>\n",
              "      <th>review_scores_rating</th>\n",
              "      <th>review_scores_accuracy</th>\n",
              "      <th>review_scores_cleanliness</th>\n",
              "      <th>review_scores_checkin</th>\n",
              "      <th>review_scores_communication</th>\n",
              "      <th>review_scores_location</th>\n",
              "      <th>review_scores_value</th>\n",
              "      <th>license</th>\n",
              "      <th>instant_bookable</th>\n",
              "      <th>calculated_host_listings_count</th>\n",
              "      <th>calculated_host_listings_count_entire_homes</th>\n",
              "      <th>calculated_host_listings_count_private_rooms</th>\n",
              "      <th>calculated_host_listings_count_shared_rooms</th>\n",
              "      <th>reviews_per_month</th>\n",
              "    </tr>\n",
              "  </thead>\n",
              "  <tbody>\n",
              "    <tr>\n",
              "      <th>0</th>\n",
              "      <td>21134</td>\n",
              "      <td>https://www.airbnb.com/rooms/21134</td>\n",
              "      <td>20230629191658</td>\n",
              "      <td>2023-06-29</td>\n",
              "      <td>city scrape</td>\n",
              "      <td>Rental unit in Riga · ★4.75 · 1 bedroom · 1 be...</td>\n",
              "      <td>Cozy room in a shared flat with to other peopl...</td>\n",
              "      <td>The flat is in the urban, a bit bohemian centr...</td>\n",
              "      <td>https://a0.muscache.com/pictures/1850842/2a1b8...</td>\n",
              "      <td>80446</td>\n",
              "      <td>https://www.airbnb.com/users/show/80446</td>\n",
              "      <td>Ieva And Florian Daniel</td>\n",
              "      <td>2010-02-12</td>\n",
              "      <td>Riga, Latvia</td>\n",
              "      <td>Journalist and Graphic Designer.</td>\n",
              "      <td>within a day</td>\n",
              "      <td>75%</td>\n",
              "      <td>50%</td>\n",
              "      <td>NaN</td>\n",
              "      <td>https://a0.muscache.com/im/users/80446/profile...</td>\n",
              "      <td>https://a0.muscache.com/im/users/80446/profile...</td>\n",
              "      <td>NaN</td>\n",
              "      <td>2.0</td>\n",
              "      <td>2.0</td>\n",
              "      <td>['email', 'phone']</td>\n",
              "      <td>t</td>\n",
              "      <td>t</td>\n",
              "      <td>Riga, Latvia</td>\n",
              "      <td>Avoti</td>\n",
              "      <td>NaN</td>\n",
              "      <td>56.95296</td>\n",
              "      <td>24.13101</td>\n",
              "      <td>Private room in rental unit</td>\n",
              "      <td>Private room</td>\n",
              "      <td>1</td>\n",
              "      <td>NaN</td>\n",
              "      <td>1 shared bath</td>\n",
              "      <td>NaN</td>\n",
              "      <td>1.0</td>\n",
              "      <td>[\"City skyline view\", \"Indoor fireplace\", \"Bed...</td>\n",
              "      <td>$10.00</td>\n",
              "      <td>90</td>\n",
              "      <td>1125</td>\n",
              "      <td>90</td>\n",
              "      <td>90</td>\n",
              "      <td>1125</td>\n",
              "      <td>1125</td>\n",
              "      <td>90.0</td>\n",
              "      <td>1125.0</td>\n",
              "      <td>NaN</td>\n",
              "      <td>t</td>\n",
              "      <td>22</td>\n",
              "      <td>52</td>\n",
              "      <td>82</td>\n",
              "      <td>263</td>\n",
              "      <td>2023-06-29</td>\n",
              "      <td>74</td>\n",
              "      <td>0</td>\n",
              "      <td>0</td>\n",
              "      <td>2011-07-24</td>\n",
              "      <td>2021-10-31</td>\n",
              "      <td>4.75</td>\n",
              "      <td>4.62</td>\n",
              "      <td>4.79</td>\n",
              "      <td>4.94</td>\n",
              "      <td>4.90</td>\n",
              "      <td>4.58</td>\n",
              "      <td>4.83</td>\n",
              "      <td>NaN</td>\n",
              "      <td>f</td>\n",
              "      <td>2</td>\n",
              "      <td>0</td>\n",
              "      <td>2</td>\n",
              "      <td>0</td>\n",
              "      <td>0.51</td>\n",
              "    </tr>\n",
              "    <tr>\n",
              "      <th>1</th>\n",
              "      <td>120480</td>\n",
              "      <td>https://www.airbnb.com/rooms/120480</td>\n",
              "      <td>20230629191658</td>\n",
              "      <td>2023-06-29</td>\n",
              "      <td>city scrape</td>\n",
              "      <td>Rental unit in Riga · ★4.58 · 2 bedrooms · 2 b...</td>\n",
              "      <td>Apartment \"Magic of Riga History\" is ideal for...</td>\n",
              "      <td>NaN</td>\n",
              "      <td>https://a0.muscache.com/pictures/1858364/affbf...</td>\n",
              "      <td>606352</td>\n",
              "      <td>https://www.airbnb.com/users/show/606352</td>\n",
              "      <td>Kristine</td>\n",
              "      <td>2011-05-20</td>\n",
              "      <td>Riga, Latvia</td>\n",
              "      <td>I'm Kristine Rubene from Riga, Latvia.  I am w...</td>\n",
              "      <td>within a few hours</td>\n",
              "      <td>100%</td>\n",
              "      <td>98%</td>\n",
              "      <td>t</td>\n",
              "      <td>https://a0.muscache.com/im/pictures/user/e9379...</td>\n",
              "      <td>https://a0.muscache.com/im/pictures/user/e9379...</td>\n",
              "      <td>NaN</td>\n",
              "      <td>1.0</td>\n",
              "      <td>1.0</td>\n",
              "      <td>['email', 'phone']</td>\n",
              "      <td>t</td>\n",
              "      <td>t</td>\n",
              "      <td>NaN</td>\n",
              "      <td>VecpilsÄta</td>\n",
              "      <td>NaN</td>\n",
              "      <td>56.95280</td>\n",
              "      <td>24.10551</td>\n",
              "      <td>Entire rental unit</td>\n",
              "      <td>Entire home/apt</td>\n",
              "      <td>5</td>\n",
              "      <td>NaN</td>\n",
              "      <td>1 bath</td>\n",
              "      <td>2.0</td>\n",
              "      <td>2.0</td>\n",
              "      <td>[\"Pets allowed\", \"Indoor fireplace: wood-burni...</td>\n",
              "      <td>$56.00</td>\n",
              "      <td>2</td>\n",
              "      <td>730</td>\n",
              "      <td>2</td>\n",
              "      <td>2</td>\n",
              "      <td>730</td>\n",
              "      <td>730</td>\n",
              "      <td>2.0</td>\n",
              "      <td>730.0</td>\n",
              "      <td>NaN</td>\n",
              "      <td>t</td>\n",
              "      <td>5</td>\n",
              "      <td>14</td>\n",
              "      <td>32</td>\n",
              "      <td>304</td>\n",
              "      <td>2023-06-29</td>\n",
              "      <td>533</td>\n",
              "      <td>65</td>\n",
              "      <td>6</td>\n",
              "      <td>2011-06-23</td>\n",
              "      <td>2023-06-22</td>\n",
              "      <td>4.58</td>\n",
              "      <td>4.76</td>\n",
              "      <td>4.58</td>\n",
              "      <td>4.87</td>\n",
              "      <td>4.89</td>\n",
              "      <td>4.94</td>\n",
              "      <td>4.76</td>\n",
              "      <td>NaN</td>\n",
              "      <td>f</td>\n",
              "      <td>1</td>\n",
              "      <td>1</td>\n",
              "      <td>0</td>\n",
              "      <td>0</td>\n",
              "      <td>3.64</td>\n",
              "    </tr>\n",
              "  </tbody>\n",
              "</table>\n",
              "</div>\n",
              "    <div class=\"colab-df-buttons\">\n",
              "\n",
              "  <div class=\"colab-df-container\">\n",
              "    <button class=\"colab-df-convert\" onclick=\"convertToInteractive('df-3da9e7fc-20a9-432d-9300-bcf4de13b822')\"\n",
              "            title=\"Convert this dataframe to an interactive table.\"\n",
              "            style=\"display:none;\">\n",
              "\n",
              "  <svg xmlns=\"http://www.w3.org/2000/svg\" height=\"24px\" viewBox=\"0 -960 960 960\">\n",
              "    <path d=\"M120-120v-720h720v720H120Zm60-500h600v-160H180v160Zm220 220h160v-160H400v160Zm0 220h160v-160H400v160ZM180-400h160v-160H180v160Zm440 0h160v-160H620v160ZM180-180h160v-160H180v160Zm440 0h160v-160H620v160Z\"/>\n",
              "  </svg>\n",
              "    </button>\n",
              "\n",
              "  <style>\n",
              "    .colab-df-container {\n",
              "      display:flex;\n",
              "      gap: 12px;\n",
              "    }\n",
              "\n",
              "    .colab-df-convert {\n",
              "      background-color: #E8F0FE;\n",
              "      border: none;\n",
              "      border-radius: 50%;\n",
              "      cursor: pointer;\n",
              "      display: none;\n",
              "      fill: #1967D2;\n",
              "      height: 32px;\n",
              "      padding: 0 0 0 0;\n",
              "      width: 32px;\n",
              "    }\n",
              "\n",
              "    .colab-df-convert:hover {\n",
              "      background-color: #E2EBFA;\n",
              "      box-shadow: 0px 1px 2px rgba(60, 64, 67, 0.3), 0px 1px 3px 1px rgba(60, 64, 67, 0.15);\n",
              "      fill: #174EA6;\n",
              "    }\n",
              "\n",
              "    .colab-df-buttons div {\n",
              "      margin-bottom: 4px;\n",
              "    }\n",
              "\n",
              "    [theme=dark] .colab-df-convert {\n",
              "      background-color: #3B4455;\n",
              "      fill: #D2E3FC;\n",
              "    }\n",
              "\n",
              "    [theme=dark] .colab-df-convert:hover {\n",
              "      background-color: #434B5C;\n",
              "      box-shadow: 0px 1px 3px 1px rgba(0, 0, 0, 0.15);\n",
              "      filter: drop-shadow(0px 1px 2px rgba(0, 0, 0, 0.3));\n",
              "      fill: #FFFFFF;\n",
              "    }\n",
              "  </style>\n",
              "\n",
              "    <script>\n",
              "      const buttonEl =\n",
              "        document.querySelector('#df-3da9e7fc-20a9-432d-9300-bcf4de13b822 button.colab-df-convert');\n",
              "      buttonEl.style.display =\n",
              "        google.colab.kernel.accessAllowed ? 'block' : 'none';\n",
              "\n",
              "      async function convertToInteractive(key) {\n",
              "        const element = document.querySelector('#df-3da9e7fc-20a9-432d-9300-bcf4de13b822');\n",
              "        const dataTable =\n",
              "          await google.colab.kernel.invokeFunction('convertToInteractive',\n",
              "                                                    [key], {});\n",
              "        if (!dataTable) return;\n",
              "\n",
              "        const docLinkHtml = 'Like what you see? Visit the ' +\n",
              "          '<a target=\"_blank\" href=https://colab.research.google.com/notebooks/data_table.ipynb>data table notebook</a>'\n",
              "          + ' to learn more about interactive tables.';\n",
              "        element.innerHTML = '';\n",
              "        dataTable['output_type'] = 'display_data';\n",
              "        await google.colab.output.renderOutput(dataTable, element);\n",
              "        const docLink = document.createElement('div');\n",
              "        docLink.innerHTML = docLinkHtml;\n",
              "        element.appendChild(docLink);\n",
              "      }\n",
              "    </script>\n",
              "  </div>\n",
              "\n",
              "\n",
              "<div id=\"df-6c3ccb10-1c8e-4901-b032-432a4aa4dc13\">\n",
              "  <button class=\"colab-df-quickchart\" onclick=\"quickchart('df-6c3ccb10-1c8e-4901-b032-432a4aa4dc13')\"\n",
              "            title=\"Suggest charts.\"\n",
              "            style=\"display:none;\">\n",
              "\n",
              "<svg xmlns=\"http://www.w3.org/2000/svg\" height=\"24px\"viewBox=\"0 0 24 24\"\n",
              "     width=\"24px\">\n",
              "    <g>\n",
              "        <path d=\"M19 3H5c-1.1 0-2 .9-2 2v14c0 1.1.9 2 2 2h14c1.1 0 2-.9 2-2V5c0-1.1-.9-2-2-2zM9 17H7v-7h2v7zm4 0h-2V7h2v10zm4 0h-2v-4h2v4z\"/>\n",
              "    </g>\n",
              "</svg>\n",
              "  </button>\n",
              "\n",
              "<style>\n",
              "  .colab-df-quickchart {\n",
              "      --bg-color: #E8F0FE;\n",
              "      --fill-color: #1967D2;\n",
              "      --hover-bg-color: #E2EBFA;\n",
              "      --hover-fill-color: #174EA6;\n",
              "      --disabled-fill-color: #AAA;\n",
              "      --disabled-bg-color: #DDD;\n",
              "  }\n",
              "\n",
              "  [theme=dark] .colab-df-quickchart {\n",
              "      --bg-color: #3B4455;\n",
              "      --fill-color: #D2E3FC;\n",
              "      --hover-bg-color: #434B5C;\n",
              "      --hover-fill-color: #FFFFFF;\n",
              "      --disabled-bg-color: #3B4455;\n",
              "      --disabled-fill-color: #666;\n",
              "  }\n",
              "\n",
              "  .colab-df-quickchart {\n",
              "    background-color: var(--bg-color);\n",
              "    border: none;\n",
              "    border-radius: 50%;\n",
              "    cursor: pointer;\n",
              "    display: none;\n",
              "    fill: var(--fill-color);\n",
              "    height: 32px;\n",
              "    padding: 0;\n",
              "    width: 32px;\n",
              "  }\n",
              "\n",
              "  .colab-df-quickchart:hover {\n",
              "    background-color: var(--hover-bg-color);\n",
              "    box-shadow: 0 1px 2px rgba(60, 64, 67, 0.3), 0 1px 3px 1px rgba(60, 64, 67, 0.15);\n",
              "    fill: var(--button-hover-fill-color);\n",
              "  }\n",
              "\n",
              "  .colab-df-quickchart-complete:disabled,\n",
              "  .colab-df-quickchart-complete:disabled:hover {\n",
              "    background-color: var(--disabled-bg-color);\n",
              "    fill: var(--disabled-fill-color);\n",
              "    box-shadow: none;\n",
              "  }\n",
              "\n",
              "  .colab-df-spinner {\n",
              "    border: 2px solid var(--fill-color);\n",
              "    border-color: transparent;\n",
              "    border-bottom-color: var(--fill-color);\n",
              "    animation:\n",
              "      spin 1s steps(1) infinite;\n",
              "  }\n",
              "\n",
              "  @keyframes spin {\n",
              "    0% {\n",
              "      border-color: transparent;\n",
              "      border-bottom-color: var(--fill-color);\n",
              "      border-left-color: var(--fill-color);\n",
              "    }\n",
              "    20% {\n",
              "      border-color: transparent;\n",
              "      border-left-color: var(--fill-color);\n",
              "      border-top-color: var(--fill-color);\n",
              "    }\n",
              "    30% {\n",
              "      border-color: transparent;\n",
              "      border-left-color: var(--fill-color);\n",
              "      border-top-color: var(--fill-color);\n",
              "      border-right-color: var(--fill-color);\n",
              "    }\n",
              "    40% {\n",
              "      border-color: transparent;\n",
              "      border-right-color: var(--fill-color);\n",
              "      border-top-color: var(--fill-color);\n",
              "    }\n",
              "    60% {\n",
              "      border-color: transparent;\n",
              "      border-right-color: var(--fill-color);\n",
              "    }\n",
              "    80% {\n",
              "      border-color: transparent;\n",
              "      border-right-color: var(--fill-color);\n",
              "      border-bottom-color: var(--fill-color);\n",
              "    }\n",
              "    90% {\n",
              "      border-color: transparent;\n",
              "      border-bottom-color: var(--fill-color);\n",
              "    }\n",
              "  }\n",
              "</style>\n",
              "\n",
              "  <script>\n",
              "    async function quickchart(key) {\n",
              "      const quickchartButtonEl =\n",
              "        document.querySelector('#' + key + ' button');\n",
              "      quickchartButtonEl.disabled = true;  // To prevent multiple clicks.\n",
              "      quickchartButtonEl.classList.add('colab-df-spinner');\n",
              "      try {\n",
              "        const charts = await google.colab.kernel.invokeFunction(\n",
              "            'suggestCharts', [key], {});\n",
              "      } catch (error) {\n",
              "        console.error('Error during call to suggestCharts:', error);\n",
              "      }\n",
              "      quickchartButtonEl.classList.remove('colab-df-spinner');\n",
              "      quickchartButtonEl.classList.add('colab-df-quickchart-complete');\n",
              "    }\n",
              "    (() => {\n",
              "      let quickchartButtonEl =\n",
              "        document.querySelector('#df-6c3ccb10-1c8e-4901-b032-432a4aa4dc13 button');\n",
              "      quickchartButtonEl.style.display =\n",
              "        google.colab.kernel.accessAllowed ? 'block' : 'none';\n",
              "    })();\n",
              "  </script>\n",
              "</div>\n",
              "    </div>\n",
              "  </div>\n"
            ]
          },
          "metadata": {},
          "execution_count": 11
        }
      ],
      "source": [
        "# Display all the columns\n",
        "pd.set_option('display.max_columns', None)\n",
        "df.head(2)"
      ]
    },
    {
      "cell_type": "code",
      "execution_count": 12,
      "metadata": {
        "colab": {
          "base_uri": "https://localhost:8080/"
        },
        "id": "O4m9o7PCsjdl",
        "outputId": "25ea96ec-a3a9-4362-f085-b90efefc5148"
      },
      "outputs": [
        {
          "output_type": "stream",
          "name": "stdout",
          "text": [
            "<class 'pandas.core.frame.DataFrame'>\n",
            "RangeIndex: 2801 entries, 0 to 2800\n",
            "Data columns (total 75 columns):\n",
            " #   Column                                        Non-Null Count  Dtype  \n",
            "---  ------                                        --------------  -----  \n",
            " 0   id                                            2801 non-null   int64  \n",
            " 1   listing_url                                   2801 non-null   object \n",
            " 2   scrape_id                                     2801 non-null   int64  \n",
            " 3   last_scraped                                  2801 non-null   object \n",
            " 4   source                                        2801 non-null   object \n",
            " 5   name                                          2801 non-null   object \n",
            " 6   description                                   2764 non-null   object \n",
            " 7   neighborhood_overview                         1467 non-null   object \n",
            " 8   picture_url                                   2801 non-null   object \n",
            " 9   host_id                                       2801 non-null   int64  \n",
            " 10  host_url                                      2801 non-null   object \n",
            " 11  host_name                                     2800 non-null   object \n",
            " 12  host_since                                    2800 non-null   object \n",
            " 13  host_location                                 2130 non-null   object \n",
            " 14  host_about                                    1314 non-null   object \n",
            " 15  host_response_time                            2331 non-null   object \n",
            " 16  host_response_rate                            2331 non-null   object \n",
            " 17  host_acceptance_rate                          2400 non-null   object \n",
            " 18  host_is_superhost                             2669 non-null   object \n",
            " 19  host_thumbnail_url                            2800 non-null   object \n",
            " 20  host_picture_url                              2800 non-null   object \n",
            " 21  host_neighbourhood                            66 non-null     object \n",
            " 22  host_listings_count                           2800 non-null   float64\n",
            " 23  host_total_listings_count                     2800 non-null   float64\n",
            " 24  host_verifications                            2801 non-null   object \n",
            " 25  host_has_profile_pic                          2800 non-null   object \n",
            " 26  host_identity_verified                        2800 non-null   object \n",
            " 27  neighbourhood                                 1467 non-null   object \n",
            " 28  neighbourhood_cleansed                        2801 non-null   object \n",
            " 29  neighbourhood_group_cleansed                  0 non-null      float64\n",
            " 30  latitude                                      2801 non-null   float64\n",
            " 31  longitude                                     2801 non-null   float64\n",
            " 32  property_type                                 2801 non-null   object \n",
            " 33  room_type                                     2801 non-null   object \n",
            " 34  accommodates                                  2801 non-null   int64  \n",
            " 35  bathrooms                                     0 non-null      float64\n",
            " 36  bathrooms_text                                2799 non-null   object \n",
            " 37  bedrooms                                      2298 non-null   float64\n",
            " 38  beds                                          2765 non-null   float64\n",
            " 39  amenities                                     2801 non-null   object \n",
            " 40  price                                         2801 non-null   object \n",
            " 41  minimum_nights                                2801 non-null   int64  \n",
            " 42  maximum_nights                                2801 non-null   int64  \n",
            " 43  minimum_minimum_nights                        2801 non-null   int64  \n",
            " 44  maximum_minimum_nights                        2801 non-null   int64  \n",
            " 45  minimum_maximum_nights                        2801 non-null   int64  \n",
            " 46  maximum_maximum_nights                        2801 non-null   int64  \n",
            " 47  minimum_nights_avg_ntm                        2801 non-null   float64\n",
            " 48  maximum_nights_avg_ntm                        2801 non-null   float64\n",
            " 49  calendar_updated                              0 non-null      float64\n",
            " 50  has_availability                              2801 non-null   object \n",
            " 51  availability_30                               2801 non-null   int64  \n",
            " 52  availability_60                               2801 non-null   int64  \n",
            " 53  availability_90                               2801 non-null   int64  \n",
            " 54  availability_365                              2801 non-null   int64  \n",
            " 55  calendar_last_scraped                         2801 non-null   object \n",
            " 56  number_of_reviews                             2801 non-null   int64  \n",
            " 57  number_of_reviews_ltm                         2801 non-null   int64  \n",
            " 58  number_of_reviews_l30d                        2801 non-null   int64  \n",
            " 59  first_review                                  2367 non-null   object \n",
            " 60  last_review                                   2367 non-null   object \n",
            " 61  review_scores_rating                          2367 non-null   float64\n",
            " 62  review_scores_accuracy                        2358 non-null   float64\n",
            " 63  review_scores_cleanliness                     2358 non-null   float64\n",
            " 64  review_scores_checkin                         2357 non-null   float64\n",
            " 65  review_scores_communication                   2358 non-null   float64\n",
            " 66  review_scores_location                        2358 non-null   float64\n",
            " 67  review_scores_value                           2358 non-null   float64\n",
            " 68  license                                       0 non-null      float64\n",
            " 69  instant_bookable                              2801 non-null   object \n",
            " 70  calculated_host_listings_count                2801 non-null   int64  \n",
            " 71  calculated_host_listings_count_entire_homes   2801 non-null   int64  \n",
            " 72  calculated_host_listings_count_private_rooms  2801 non-null   int64  \n",
            " 73  calculated_host_listings_count_shared_rooms   2801 non-null   int64  \n",
            " 74  reviews_per_month                             2367 non-null   float64\n",
            "dtypes: float64(20), int64(21), object(34)\n",
            "memory usage: 1.6+ MB\n"
          ]
        }
      ],
      "source": [
        "df.info()"
      ]
    },
    {
      "cell_type": "code",
      "execution_count": 13,
      "metadata": {
        "colab": {
          "base_uri": "https://localhost:8080/"
        },
        "id": "PMoYp3pO2ajQ",
        "outputId": "777129e7-90d3-4095-cc18-aedebe675d69"
      },
      "outputs": [
        {
          "output_type": "stream",
          "name": "stdout",
          "text": [
            "description--------------------------------------- : 37\n",
            "neighborhood_overview----------------------------- : 1334\n",
            "host_name----------------------------------------- : 1\n",
            "host_since---------------------------------------- : 1\n",
            "host_location------------------------------------- : 671\n",
            "host_about---------------------------------------- : 1487\n",
            "host_response_time-------------------------------- : 470\n",
            "host_response_rate-------------------------------- : 470\n",
            "host_acceptance_rate------------------------------ : 401\n",
            "host_is_superhost--------------------------------- : 132\n",
            "host_thumbnail_url-------------------------------- : 1\n",
            "host_picture_url---------------------------------- : 1\n",
            "host_neighbourhood-------------------------------- : 2735\n",
            "host_listings_count------------------------------- : 1\n",
            "host_total_listings_count------------------------- : 1\n",
            "host_has_profile_pic------------------------------ : 1\n",
            "host_identity_verified---------------------------- : 1\n",
            "neighbourhood------------------------------------- : 1334\n",
            "neighbourhood_group_cleansed---------------------- : 2801\n",
            "bathrooms----------------------------------------- : 2801\n",
            "bathrooms_text------------------------------------ : 2\n",
            "bedrooms------------------------------------------ : 503\n",
            "beds---------------------------------------------- : 36\n",
            "calendar_updated---------------------------------- : 2801\n",
            "first_review-------------------------------------- : 434\n",
            "last_review--------------------------------------- : 434\n",
            "review_scores_rating------------------------------ : 434\n",
            "review_scores_accuracy---------------------------- : 443\n",
            "review_scores_cleanliness------------------------- : 443\n",
            "review_scores_checkin----------------------------- : 444\n",
            "review_scores_communication----------------------- : 443\n",
            "review_scores_location---------------------------- : 443\n",
            "review_scores_value------------------------------- : 443\n",
            "license------------------------------------------- : 2801\n",
            "reviews_per_month--------------------------------- : 434\n"
          ]
        }
      ],
      "source": [
        "# Checking missing values for all columns before dropping\n",
        "for column in df.columns:\n",
        "    if df[column].isna().sum()>0:\n",
        "        print(f\"{column:-<50} : {df[column].isna().sum()}\")"
      ]
    },
    {
      "cell_type": "markdown",
      "metadata": {
        "id": "EUsGLb3omjsW"
      },
      "source": [
        "##Delete irrelevant data"
      ]
    },
    {
      "cell_type": "code",
      "execution_count": 14,
      "metadata": {
        "id": "h2G0QLeD_rtT"
      },
      "outputs": [],
      "source": [
        "# Updating dataframe only with required columns\n",
        "df=df[['id','listing_url','name','host_since','host_is_superhost','neighbourhood','accommodates','amenities','price','number_of_reviews','review_scores_rating','latitude','longitude']]"
      ]
    },
    {
      "cell_type": "code",
      "execution_count": 15,
      "metadata": {
        "colab": {
          "base_uri": "https://localhost:8080/"
        },
        "id": "eVImzZkiBtdz",
        "outputId": "4eaf8b9e-fc7c-4701-be08-43cd7908e029"
      },
      "outputs": [
        {
          "output_type": "execute_result",
          "data": {
            "text/plain": [
              "Index(['id', 'listing_url', 'name', 'host_since', 'host_is_superhost',\n",
              "       'neighbourhood', 'accommodates', 'amenities', 'price',\n",
              "       'number_of_reviews', 'review_scores_rating', 'latitude', 'longitude'],\n",
              "      dtype='object')"
            ]
          },
          "metadata": {},
          "execution_count": 15
        }
      ],
      "source": [
        "# Check current columns\n",
        "df.columns"
      ]
    },
    {
      "cell_type": "markdown",
      "metadata": {
        "id": "oRkQJmbmgVPd"
      },
      "source": [
        "Drop all listings with no reviews/rating"
      ]
    },
    {
      "cell_type": "code",
      "execution_count": 16,
      "metadata": {
        "colab": {
          "base_uri": "https://localhost:8080/"
        },
        "id": "OF5JC-k2sgda",
        "outputId": "6bdc52f7-d412-424c-9969-b4bbe5e7d3b3"
      },
      "outputs": [
        {
          "output_type": "execute_result",
          "data": {
            "text/plain": [
              "count    2358.000000\n",
              "mean        4.776675\n",
              "std         0.369211\n",
              "min         1.000000\n",
              "25%         4.710000\n",
              "50%         4.870000\n",
              "75%         5.000000\n",
              "max         5.000000\n",
              "Name: review_scores_rating, dtype: float64"
            ]
          },
          "metadata": {},
          "execution_count": 16
        }
      ],
      "source": [
        "# Drop all entries with missings values and value=0 for review_score_rating\n",
        "df=df[df['review_scores_rating'] >0]\n",
        "df.review_scores_rating.describe()"
      ]
    },
    {
      "cell_type": "code",
      "execution_count": 17,
      "metadata": {
        "colab": {
          "base_uri": "https://localhost:8080/"
        },
        "id": "qUNzoKoGsuEp",
        "outputId": "1269cbcc-aa2a-4665-96dd-3f8e5015b91c"
      },
      "outputs": [
        {
          "output_type": "execute_result",
          "data": {
            "text/plain": [
              "(2358, 13)"
            ]
          },
          "metadata": {},
          "execution_count": 17
        }
      ],
      "source": [
        "df.shape"
      ]
    },
    {
      "cell_type": "markdown",
      "metadata": {
        "id": "HwB9-lPrg1Qb"
      },
      "source": [
        "Drop irrelevant listings based on price & availability"
      ]
    },
    {
      "cell_type": "code",
      "execution_count": 18,
      "metadata": {
        "colab": {
          "base_uri": "https://localhost:8080/"
        },
        "id": "KonwTsSW8w-s",
        "outputId": "9b7f9325-d52e-4989-d835-7cab988732d0"
      },
      "outputs": [
        {
          "output_type": "stream",
          "name": "stdout",
          "text": [
            "<class 'pandas.core.series.Series'>\n",
            "Int64Index: 2358 entries, 0 to 2767\n",
            "Series name: price\n",
            "Non-Null Count  Dtype \n",
            "--------------  ----- \n",
            "2358 non-null   object\n",
            "dtypes: object(1)\n",
            "memory usage: 36.8+ KB\n"
          ]
        }
      ],
      "source": [
        "# Check datatyype of price before filtering\n",
        "df.price.info()"
      ]
    },
    {
      "cell_type": "code",
      "execution_count": 19,
      "metadata": {
        "colab": {
          "base_uri": "https://localhost:8080/"
        },
        "id": "rghlBQLo9BJw",
        "outputId": "ff92ed62-d08e-4a79-ce3e-0ef37f9a7597"
      },
      "outputs": [
        {
          "output_type": "stream",
          "name": "stderr",
          "text": [
            "<ipython-input-19-a56953956dd0>:2: FutureWarning: The default value of regex will change from True to False in a future version. In addition, single character regular expressions will *not* be treated as literal strings when regex=True.\n",
            "  df.price=df.price.str.replace('$','').str.replace(',','').astype(float)\n"
          ]
        }
      ],
      "source": [
        "# Converting price from object to int/float and removing $ signs and commas\n",
        "df.price=df.price.str.replace('$','').str.replace(',','').astype(float)"
      ]
    },
    {
      "cell_type": "code",
      "execution_count": 20,
      "metadata": {
        "colab": {
          "base_uri": "https://localhost:8080/"
        },
        "id": "jNFbmJAc9N0H",
        "outputId": "ffcfac91-d4d4-4f86-ae46-feb9b71c81f5"
      },
      "outputs": [
        {
          "output_type": "stream",
          "name": "stdout",
          "text": [
            "<class 'pandas.core.series.Series'>\n",
            "Int64Index: 2358 entries, 0 to 2767\n",
            "Series name: price\n",
            "Non-Null Count  Dtype  \n",
            "--------------  -----  \n",
            "2358 non-null   float64\n",
            "dtypes: float64(1)\n",
            "memory usage: 36.8 KB\n"
          ]
        }
      ],
      "source": [
        "# Changing price from object to float\n",
        "df.price.info()"
      ]
    },
    {
      "cell_type": "markdown",
      "metadata": {
        "id": "0eQ8SES3mOS8"
      },
      "source": [
        "##Filter by 'accomodates' (df1)\n"
      ]
    },
    {
      "cell_type": "code",
      "execution_count": 21,
      "metadata": {
        "id": "WmamK2xB2z64"
      },
      "outputs": [],
      "source": [
        "# Filtering data based on <= 2 accommodates suitable for individual digital nomads\n",
        "# Use loc() for label indexing [row, column]\n",
        "df1=df.loc[df.accommodates<3,:]"
      ]
    },
    {
      "cell_type": "code",
      "execution_count": 22,
      "metadata": {
        "colab": {
          "base_uri": "https://localhost:8080/"
        },
        "id": "9YQHSxCZy4-b",
        "outputId": "708f72eb-bcc6-411c-baa7-94a0d9bfe0a0"
      },
      "outputs": [
        {
          "output_type": "execute_result",
          "data": {
            "text/plain": [
              "2    840\n",
              "1     67\n",
              "Name: accommodates, dtype: int64"
            ]
          },
          "metadata": {},
          "execution_count": 22
        }
      ],
      "source": [
        "# Counting unique values in 'accommodates'\n",
        "df1.accommodates.value_counts()"
      ]
    },
    {
      "cell_type": "code",
      "execution_count": 23,
      "metadata": {
        "colab": {
          "base_uri": "https://localhost:8080/"
        },
        "id": "oHOF-Sl9Q743",
        "outputId": "3dd75766-9fe5-4530-b62f-2def676c0fd6"
      },
      "outputs": [
        {
          "output_type": "execute_result",
          "data": {
            "text/plain": [
              "(907, 13)"
            ]
          },
          "metadata": {},
          "execution_count": 23
        }
      ],
      "source": [
        "# Looks like there is an error as there is a listing which accommodates 0 people\n",
        "# Let's locate the entry using loc()\n",
        "df1.shape"
      ]
    },
    {
      "cell_type": "code",
      "execution_count": 24,
      "metadata": {
        "colab": {
          "base_uri": "https://localhost:8080/"
        },
        "id": "RQWG5aFi60Bs",
        "outputId": "cd38cbd6-f027-4d6a-8982-14dc642200dd"
      },
      "outputs": [
        {
          "output_type": "execute_result",
          "data": {
            "text/plain": [
              "count     907.000000\n",
              "mean       53.567806\n",
              "std        52.426534\n",
              "min        10.000000\n",
              "25%        33.000000\n",
              "50%        45.000000\n",
              "75%        62.000000\n",
              "max      1000.000000\n",
              "Name: price, dtype: float64"
            ]
          },
          "metadata": {},
          "execution_count": 24
        }
      ],
      "source": [
        "df1.price.describe()"
      ]
    },
    {
      "cell_type": "code",
      "execution_count": 25,
      "metadata": {
        "colab": {
          "base_uri": "https://localhost:8080/",
          "height": 429
        },
        "id": "eDxpgfrQCmW7",
        "outputId": "f5032107-d1ea-4ebe-ec19-80e1c3ca1277"
      },
      "outputs": [
        {
          "output_type": "execute_result",
          "data": {
            "text/plain": [
              "<Axes: ylabel='price'>"
            ]
          },
          "metadata": {},
          "execution_count": 25
        },
        {
          "output_type": "display_data",
          "data": {
            "text/plain": [
              "<Figure size 640x480 with 1 Axes>"
            ],
            "image/png": "[encoded data removed]"
          },
          "metadata": {}
        }
      ],
      "source": [
        "sns.boxplot(df,y=df1.price)"
      ]
    },
    {
      "cell_type": "code",
      "execution_count": 26,
      "metadata": {
        "colab": {
          "base_uri": "https://localhost:8080/",
          "height": 458
        },
        "id": "BjgeSoZ460Bt",
        "outputId": "6b9dcbe9-65d9-437f-a9ef-698850b2364d"
      },
      "outputs": [
        {
          "output_type": "execute_result",
          "data": {
            "text/plain": [
              "            id                            listing_url  \\\n",
              "173    9872147   https://www.airbnb.com/rooms/9872147   \n",
              "376   19065190  https://www.airbnb.com/rooms/19065190   \n",
              "1418  47763911  https://www.airbnb.com/rooms/47763911   \n",
              "\n",
              "                                                   name  host_since  \\\n",
              "173   Loft in Riga · ★4.74 · 1 bedroom · 1 bed · 1.5...  2015-12-08   \n",
              "376   Rental unit in Riga · ★4.83 · 1 bedroom · 2 be...  2017-06-02   \n",
              "1418         Condo in Riga · ★4.86 · 1 bedroom · 1 bath  2017-08-29   \n",
              "\n",
              "     host_is_superhost        neighbourhood  accommodates  \\\n",
              "173                  f         Riga, Latvia             2   \n",
              "376                NaN  Riga, Centr, Latvia             1   \n",
              "1418                 f                  NaN             2   \n",
              "\n",
              "                                              amenities   price  \\\n",
              "173   [\"Host greets you\", \"Smoke alarm\", \"Kitchen\", ...   800.0   \n",
              "376   [\"Host greets you\", \"Smoke alarm\", \"Kitchen\", ...  1000.0   \n",
              "1418  [\"Security cameras on property\", \"Smoke alarm\"...   600.0   \n",
              "\n",
              "      number_of_reviews  review_scores_rating  latitude  longitude  \n",
              "173                  24                  4.74  56.96065   24.14961  \n",
              "376                  18                  4.83  56.97259   24.12305  \n",
              "1418                  7                  4.86  56.96786   24.15023  "
            ],
            "text/html": [
              "\n",
              "  <div id=\"df-3f4ee6da-d3ac-4f24-a397-c25fac21d5ba\" class=\"colab-df-container\">\n",
              "    <div>\n",
              "<style scoped>\n",
              "    .dataframe tbody tr th:only-of-type {\n",
              "        vertical-align: middle;\n",
              "    }\n",
              "\n",
              "    .dataframe tbody tr th {\n",
              "        vertical-align: top;\n",
              "    }\n",
              "\n",
              "    .dataframe thead th {\n",
              "        text-align: right;\n",
              "    }\n",
              "</style>\n",
              "<table border=\"1\" class=\"dataframe\">\n",
              "  <thead>\n",
              "    <tr style=\"text-align: right;\">\n",
              "      <th></th>\n",
              "      <th>id</th>\n",
              "      <th>listing_url</th>\n",
              "      <th>name</th>\n",
              "      <th>host_since</th>\n",
              "      <th>host_is_superhost</th>\n",
              "      <th>neighbourhood</th>\n",
              "      <th>accommodates</th>\n",
              "      <th>amenities</th>\n",
              "      <th>price</th>\n",
              "      <th>number_of_reviews</th>\n",
              "      <th>review_scores_rating</th>\n",
              "      <th>latitude</th>\n",
              "      <th>longitude</th>\n",
              "    </tr>\n",
              "  </thead>\n",
              "  <tbody>\n",
              "    <tr>\n",
              "      <th>173</th>\n",
              "      <td>9872147</td>\n",
              "      <td>https://www.airbnb.com/rooms/9872147</td>\n",
              "      <td>Loft in Riga · ★4.74 · 1 bedroom · 1 bed · 1.5...</td>\n",
              "      <td>2015-12-08</td>\n",
              "      <td>f</td>\n",
              "      <td>Riga, Latvia</td>\n",
              "      <td>2</td>\n",
              "      <td>[\"Host greets you\", \"Smoke alarm\", \"Kitchen\", ...</td>\n",
              "      <td>800.0</td>\n",
              "      <td>24</td>\n",
              "      <td>4.74</td>\n",
              "      <td>56.96065</td>\n",
              "      <td>24.14961</td>\n",
              "    </tr>\n",
              "    <tr>\n",
              "      <th>376</th>\n",
              "      <td>19065190</td>\n",
              "      <td>https://www.airbnb.com/rooms/19065190</td>\n",
              "      <td>Rental unit in Riga · ★4.83 · 1 bedroom · 2 be...</td>\n",
              "      <td>2017-06-02</td>\n",
              "      <td>NaN</td>\n",
              "      <td>Riga, Centr, Latvia</td>\n",
              "      <td>1</td>\n",
              "      <td>[\"Host greets you\", \"Smoke alarm\", \"Kitchen\", ...</td>\n",
              "      <td>1000.0</td>\n",
              "      <td>18</td>\n",
              "      <td>4.83</td>\n",
              "      <td>56.97259</td>\n",
              "      <td>24.12305</td>\n",
              "    </tr>\n",
              "    <tr>\n",
              "      <th>1418</th>\n",
              "      <td>47763911</td>\n",
              "      <td>https://www.airbnb.com/rooms/47763911</td>\n",
              "      <td>Condo in Riga · ★4.86 · 1 bedroom · 1 bath</td>\n",
              "      <td>2017-08-29</td>\n",
              "      <td>f</td>\n",
              "      <td>NaN</td>\n",
              "      <td>2</td>\n",
              "      <td>[\"Security cameras on property\", \"Smoke alarm\"...</td>\n",
              "      <td>600.0</td>\n",
              "      <td>7</td>\n",
              "      <td>4.86</td>\n",
              "      <td>56.96786</td>\n",
              "      <td>24.15023</td>\n",
              "    </tr>\n",
              "  </tbody>\n",
              "</table>\n",
              "</div>\n",
              "    <div class=\"colab-df-buttons\">\n",
              "\n",
              "  <div class=\"colab-df-container\">\n",
              "    <button class=\"colab-df-convert\" onclick=\"convertToInteractive('df-3f4ee6da-d3ac-4f24-a397-c25fac21d5ba')\"\n",
              "            title=\"Convert this dataframe to an interactive table.\"\n",
              "            style=\"display:none;\">\n",
              "\n",
              "  <svg xmlns=\"http://www.w3.org/2000/svg\" height=\"24px\" viewBox=\"0 -960 960 960\">\n",
              "    <path d=\"M120-120v-720h720v720H120Zm60-500h600v-160H180v160Zm220 220h160v-160H400v160Zm0 220h160v-160H400v160ZM180-400h160v-160H180v160Zm440 0h160v-160H620v160ZM180-180h160v-160H180v160Zm440 0h160v-160H620v160Z\"/>\n",
              "  </svg>\n",
              "    </button>\n",
              "\n",
              "  <style>\n",
              "    .colab-df-container {\n",
              "      display:flex;\n",
              "      gap: 12px;\n",
              "    }\n",
              "\n",
              "    .colab-df-convert {\n",
              "      background-color: #E8F0FE;\n",
              "      border: none;\n",
              "      border-radius: 50%;\n",
              "      cursor: pointer;\n",
              "      display: none;\n",
              "      fill: #1967D2;\n",
              "      height: 32px;\n",
              "      padding: 0 0 0 0;\n",
              "      width: 32px;\n",
              "    }\n",
              "\n",
              "    .colab-df-convert:hover {\n",
              "      background-color: #E2EBFA;\n",
              "      box-shadow: 0px 1px 2px rgba(60, 64, 67, 0.3), 0px 1px 3px 1px rgba(60, 64, 67, 0.15);\n",
              "      fill: #174EA6;\n",
              "    }\n",
              "\n",
              "    .colab-df-buttons div {\n",
              "      margin-bottom: 4px;\n",
              "    }\n",
              "\n",
              "    [theme=dark] .colab-df-convert {\n",
              "      background-color: #3B4455;\n",
              "      fill: #D2E3FC;\n",
              "    }\n",
              "\n",
              "    [theme=dark] .colab-df-convert:hover {\n",
              "      background-color: #434B5C;\n",
              "      box-shadow: 0px 1px 3px 1px rgba(0, 0, 0, 0.15);\n",
              "      filter: drop-shadow(0px 1px 2px rgba(0, 0, 0, 0.3));\n",
              "      fill: #FFFFFF;\n",
              "    }\n",
              "  </style>\n",
              "\n",
              "    <script>\n",
              "      const buttonEl =\n",
              "        document.querySelector('#df-3f4ee6da-d3ac-4f24-a397-c25fac21d5ba button.colab-df-convert');\n",
              "      buttonEl.style.display =\n",
              "        google.colab.kernel.accessAllowed ? 'block' : 'none';\n",
              "\n",
              "      async function convertToInteractive(key) {\n",
              "        const element = document.querySelector('#df-3f4ee6da-d3ac-4f24-a397-c25fac21d5ba');\n",
              "        const dataTable =\n",
              "          await google.colab.kernel.invokeFunction('convertToInteractive',\n",
              "                                                    [key], {});\n",
              "        if (!dataTable) return;\n",
              "\n",
              "        const docLinkHtml = 'Like what you see? Visit the ' +\n",
              "          '<a target=\"_blank\" href=https://colab.research.google.com/notebooks/data_table.ipynb>data table notebook</a>'\n",
              "          + ' to learn more about interactive tables.';\n",
              "        element.innerHTML = '';\n",
              "        dataTable['output_type'] = 'display_data';\n",
              "        await google.colab.output.renderOutput(dataTable, element);\n",
              "        const docLink = document.createElement('div');\n",
              "        docLink.innerHTML = docLinkHtml;\n",
              "        element.appendChild(docLink);\n",
              "      }\n",
              "    </script>\n",
              "  </div>\n",
              "\n",
              "\n",
              "<div id=\"df-86d68f73-b5ad-49ca-95bd-de2281fd0453\">\n",
              "  <button class=\"colab-df-quickchart\" onclick=\"quickchart('df-86d68f73-b5ad-49ca-95bd-de2281fd0453')\"\n",
              "            title=\"Suggest charts.\"\n",
              "            style=\"display:none;\">\n",
              "\n",
              "<svg xmlns=\"http://www.w3.org/2000/svg\" height=\"24px\"viewBox=\"0 0 24 24\"\n",
              "     width=\"24px\">\n",
              "    <g>\n",
              "        <path d=\"M19 3H5c-1.1 0-2 .9-2 2v14c0 1.1.9 2 2 2h14c1.1 0 2-.9 2-2V5c0-1.1-.9-2-2-2zM9 17H7v-7h2v7zm4 0h-2V7h2v10zm4 0h-2v-4h2v4z\"/>\n",
              "    </g>\n",
              "</svg>\n",
              "  </button>\n",
              "\n",
              "<style>\n",
              "  .colab-df-quickchart {\n",
              "      --bg-color: #E8F0FE;\n",
              "      --fill-color: #1967D2;\n",
              "      --hover-bg-color: #E2EBFA;\n",
              "      --hover-fill-color: #174EA6;\n",
              "      --disabled-fill-color: #AAA;\n",
              "      --disabled-bg-color: #DDD;\n",
              "  }\n",
              "\n",
              "  [theme=dark] .colab-df-quickchart {\n",
              "      --bg-color: #3B4455;\n",
              "      --fill-color: #D2E3FC;\n",
              "      --hover-bg-color: #434B5C;\n",
              "      --hover-fill-color: #FFFFFF;\n",
              "      --disabled-bg-color: #3B4455;\n",
              "      --disabled-fill-color: #666;\n",
              "  }\n",
              "\n",
              "  .colab-df-quickchart {\n",
              "    background-color: var(--bg-color);\n",
              "    border: none;\n",
              "    border-radius: 50%;\n",
              "    cursor: pointer;\n",
              "    display: none;\n",
              "    fill: var(--fill-color);\n",
              "    height: 32px;\n",
              "    padding: 0;\n",
              "    width: 32px;\n",
              "  }\n",
              "\n",
              "  .colab-df-quickchart:hover {\n",
              "    background-color: var(--hover-bg-color);\n",
              "    box-shadow: 0 1px 2px rgba(60, 64, 67, 0.3), 0 1px 3px 1px rgba(60, 64, 67, 0.15);\n",
              "    fill: var(--button-hover-fill-color);\n",
              "  }\n",
              "\n",
              "  .colab-df-quickchart-complete:disabled,\n",
              "  .colab-df-quickchart-complete:disabled:hover {\n",
              "    background-color: var(--disabled-bg-color);\n",
              "    fill: var(--disabled-fill-color);\n",
              "    box-shadow: none;\n",
              "  }\n",
              "\n",
              "  .colab-df-spinner {\n",
              "    border: 2px solid var(--fill-color);\n",
              "    border-color: transparent;\n",
              "    border-bottom-color: var(--fill-color);\n",
              "    animation:\n",
              "      spin 1s steps(1) infinite;\n",
              "  }\n",
              "\n",
              "  @keyframes spin {\n",
              "    0% {\n",
              "      border-color: transparent;\n",
              "      border-bottom-color: var(--fill-color);\n",
              "      border-left-color: var(--fill-color);\n",
              "    }\n",
              "    20% {\n",
              "      border-color: transparent;\n",
              "      border-left-color: var(--fill-color);\n",
              "      border-top-color: var(--fill-color);\n",
              "    }\n",
              "    30% {\n",
              "      border-color: transparent;\n",
              "      border-left-color: var(--fill-color);\n",
              "      border-top-color: var(--fill-color);\n",
              "      border-right-color: var(--fill-color);\n",
              "    }\n",
              "    40% {\n",
              "      border-color: transparent;\n",
              "      border-right-color: var(--fill-color);\n",
              "      border-top-color: var(--fill-color);\n",
              "    }\n",
              "    60% {\n",
              "      border-color: transparent;\n",
              "      border-right-color: var(--fill-color);\n",
              "    }\n",
              "    80% {\n",
              "      border-color: transparent;\n",
              "      border-right-color: var(--fill-color);\n",
              "      border-bottom-color: var(--fill-color);\n",
              "    }\n",
              "    90% {\n",
              "      border-color: transparent;\n",
              "      border-bottom-color: var(--fill-color);\n",
              "    }\n",
              "  }\n",
              "</style>\n",
              "\n",
              "  <script>\n",
              "    async function quickchart(key) {\n",
              "      const quickchartButtonEl =\n",
              "        document.querySelector('#' + key + ' button');\n",
              "      quickchartButtonEl.disabled = true;  // To prevent multiple clicks.\n",
              "      quickchartButtonEl.classList.add('colab-df-spinner');\n",
              "      try {\n",
              "        const charts = await google.colab.kernel.invokeFunction(\n",
              "            'suggestCharts', [key], {});\n",
              "      } catch (error) {\n",
              "        console.error('Error during call to suggestCharts:', error);\n",
              "      }\n",
              "      quickchartButtonEl.classList.remove('colab-df-spinner');\n",
              "      quickchartButtonEl.classList.add('colab-df-quickchart-complete');\n",
              "    }\n",
              "    (() => {\n",
              "      let quickchartButtonEl =\n",
              "        document.querySelector('#df-86d68f73-b5ad-49ca-95bd-de2281fd0453 button');\n",
              "      quickchartButtonEl.style.display =\n",
              "        google.colab.kernel.accessAllowed ? 'block' : 'none';\n",
              "    })();\n",
              "  </script>\n",
              "</div>\n",
              "    </div>\n",
              "  </div>\n"
            ]
          },
          "metadata": {},
          "execution_count": 26
        }
      ],
      "source": [
        "df1[df1.price>400]"
      ]
    },
    {
      "cell_type": "code",
      "execution_count": 27,
      "metadata": {
        "colab": {
          "base_uri": "https://localhost:8080/"
        },
        "id": "ZPp0jdtQ60Bt",
        "outputId": "3d82b709-180c-465b-b993-0574cd247dcb"
      },
      "outputs": [
        {
          "output_type": "execute_result",
          "data": {
            "text/plain": [
              "(907, 13)"
            ]
          },
          "metadata": {},
          "execution_count": 27
        }
      ],
      "source": [
        "df1.shape"
      ]
    },
    {
      "cell_type": "code",
      "execution_count": 28,
      "metadata": {
        "id": "fB_31M9_DXCz"
      },
      "outputs": [],
      "source": [
        "# There are a total 3 listings with the wrong price or unavailable\n",
        "# After verifying each listing url, dropping all 3 to avoid skewness in the price and alter dataframe\n",
        "df1=df1[df1['price']<=400]"
      ]
    },
    {
      "cell_type": "code",
      "execution_count": 29,
      "metadata": {
        "colab": {
          "base_uri": "https://localhost:8080/"
        },
        "id": "TWAke-4Q1Kbo",
        "outputId": "2dfb7f0b-b0a8-4ac1-ca8b-b3c7bbe6479e"
      },
      "outputs": [
        {
          "output_type": "execute_result",
          "data": {
            "text/plain": [
              "(904, 13)"
            ]
          },
          "metadata": {},
          "execution_count": 29
        }
      ],
      "source": [
        "#Final dataset size\n",
        "df1.shape"
      ]
    },
    {
      "cell_type": "code",
      "execution_count": 30,
      "metadata": {
        "colab": {
          "base_uri": "https://localhost:8080/"
        },
        "id": "cOuHUV-mtJte",
        "outputId": "7bd2a489-c06b-4d14-b5d5-798ae114d5db"
      },
      "outputs": [
        {
          "output_type": "execute_result",
          "data": {
            "text/plain": [
              "2358"
            ]
          },
          "metadata": {},
          "execution_count": 30
        }
      ],
      "source": [
        "len(df)"
      ]
    },
    {
      "cell_type": "code",
      "execution_count": null,
      "metadata": {
        "colab": {
          "base_uri": "https://localhost:8080/"
        },
        "id": "UpJPH2RCtPqY",
        "outputId": "59558a96-d3b6-4c74-9492-93bce3d1a574"
      },
      "outputs": [
        {
          "data": {
            "text/plain": [
              "904"
            ]
          },
          "execution_count": 25,
          "metadata": {},
          "output_type": "execute_result"
        }
      ],
      "source": [
        "len(df1)"
      ]
    },
    {
      "cell_type": "code",
      "execution_count": 31,
      "metadata": {
        "colab": {
          "base_uri": "https://localhost:8080/"
        },
        "id": "9JtcA4ZztZ7k",
        "outputId": "0001961d-6170-426d-8823-6fcd0ee5e5a2"
      },
      "outputs": [
        {
          "output_type": "execute_result",
          "data": {
            "text/plain": [
              "0.3833757421543681"
            ]
          },
          "metadata": {},
          "execution_count": 31
        }
      ],
      "source": [
        "# Percentage of listings that accomodates<=2\n",
        "len(df1)/len(df)"
      ]
    },
    {
      "cell_type": "markdown",
      "metadata": {
        "id": "RpAu2d7sI2nu"
      },
      "source": [
        "# Data manipulation"
      ]
    },
    {
      "cell_type": "code",
      "execution_count": 32,
      "metadata": {
        "colab": {
          "base_uri": "https://localhost:8080/"
        },
        "id": "3bsc4wiaJWGp",
        "outputId": "769e573b-8ab4-42c8-cc6b-4da2dab74457"
      },
      "outputs": [
        {
          "output_type": "execute_result",
          "data": {
            "text/plain": [
              "Index(['id', 'listing_url', 'name', 'host_since', 'host_is_superhost',\n",
              "       'neighbourhood', 'accommodates', 'amenities', 'price',\n",
              "       'number_of_reviews', 'review_scores_rating', 'latitude', 'longitude'],\n",
              "      dtype='object')"
            ]
          },
          "metadata": {},
          "execution_count": 32
        }
      ],
      "source": [
        "df1.columns"
      ]
    },
    {
      "cell_type": "markdown",
      "metadata": {
        "id": "U0RgECqNvlZ2"
      },
      "source": [
        "###host_since"
      ]
    },
    {
      "cell_type": "code",
      "execution_count": 33,
      "metadata": {
        "colab": {
          "base_uri": "https://localhost:8080/"
        },
        "id": "XARUrLVqvRzb",
        "outputId": "fe4a519b-e81b-4f22-889d-c062e40fddb7"
      },
      "outputs": [
        {
          "output_type": "stream",
          "name": "stdout",
          "text": [
            "<class 'pandas.core.frame.DataFrame'>\n",
            "Int64Index: 904 entries, 0 to 2745\n",
            "Data columns (total 13 columns):\n",
            " #   Column                Non-Null Count  Dtype  \n",
            "---  ------                --------------  -----  \n",
            " 0   id                    904 non-null    int64  \n",
            " 1   listing_url           904 non-null    object \n",
            " 2   name                  904 non-null    object \n",
            " 3   host_since            904 non-null    object \n",
            " 4   host_is_superhost     821 non-null    object \n",
            " 5   neighbourhood         510 non-null    object \n",
            " 6   accommodates          904 non-null    int64  \n",
            " 7   amenities             904 non-null    object \n",
            " 8   price                 904 non-null    float64\n",
            " 9   number_of_reviews     904 non-null    int64  \n",
            " 10  review_scores_rating  904 non-null    float64\n",
            " 11  latitude              904 non-null    float64\n",
            " 12  longitude             904 non-null    float64\n",
            "dtypes: float64(4), int64(3), object(6)\n",
            "memory usage: 98.9+ KB\n"
          ]
        }
      ],
      "source": [
        "# Let's check what type of info we have\n",
        "# Info gives details of each column's datatype like int, float, or string\n",
        "df1.info()"
      ]
    },
    {
      "cell_type": "code",
      "execution_count": 35,
      "metadata": {
        "colab": {
          "base_uri": "https://localhost:8080/"
        },
        "id": "dqyLexFdsOgO",
        "outputId": "77a69319-cadd-4647-bb74-661d1904f1c1"
      },
      "outputs": [
        {
          "output_type": "execute_result",
          "data": {
            "text/plain": [
              "0       2010-02-12\n",
              "5       2011-12-27\n",
              "9       2011-05-19\n",
              "15      2012-04-25\n",
              "19      2012-08-13\n",
              "           ...    \n",
              "2723    2016-01-02\n",
              "2734    2016-01-02\n",
              "2735    2018-11-26\n",
              "2742    2018-06-04\n",
              "2745    2019-10-25\n",
              "Name: host_since, Length: 904, dtype: object"
            ]
          },
          "metadata": {},
          "execution_count": 35
        }
      ],
      "source": [
        "# Let's find the experience of host\n",
        "df1.host_since"
      ]
    },
    {
      "cell_type": "code",
      "execution_count": 36,
      "metadata": {
        "colab": {
          "base_uri": "https://localhost:8080/"
        },
        "id": "FeE8GRA7vzVf",
        "outputId": "879ee6fa-e732-45ca-9089-9a4ee6b6013c"
      },
      "outputs": [
        {
          "output_type": "execute_result",
          "data": {
            "text/plain": [
              "0       2010\n",
              "5       2011\n",
              "9       2011\n",
              "15      2012\n",
              "19      2012\n",
              "        ... \n",
              "2723    2016\n",
              "2734    2016\n",
              "2735    2018\n",
              "2742    2018\n",
              "2745    2019\n",
              "Name: host_since, Length: 904, dtype: int64"
            ]
          },
          "metadata": {},
          "execution_count": 36
        }
      ],
      "source": [
        "# Let's change the datatype from object to datetime\n",
        "from datetime import datetime as dt\n",
        "df1.host_since=pd.to_datetime(df1.host_since)\n",
        "df1.host_since.dt.year\n"
      ]
    },
    {
      "cell_type": "code",
      "execution_count": 38,
      "metadata": {
        "colab": {
          "base_uri": "https://localhost:8080/"
        },
        "id": "f4fYuPVSwMtP",
        "outputId": "c721bd4c-2cb1-46aa-a045-22e3d0f4609a"
      },
      "outputs": [
        {
          "output_type": "execute_result",
          "data": {
            "text/plain": [
              "0       13\n",
              "5       12\n",
              "9       12\n",
              "15      11\n",
              "19      11\n",
              "        ..\n",
              "2723     7\n",
              "2734     7\n",
              "2735     5\n",
              "2742     5\n",
              "2745     4\n",
              "Name: host_exp, Length: 904, dtype: int64"
            ]
          },
          "metadata": {},
          "execution_count": 38
        }
      ],
      "source": [
        "# Now datetype is changed to float\n",
        "# Create new column to verify no:of years of experience\n",
        "df1['host_exp']=dt.today().year-df1.host_since.dt.year\n",
        "df1.host_exp"
      ]
    },
    {
      "cell_type": "code",
      "execution_count": 39,
      "metadata": {
        "colab": {
          "base_uri": "https://localhost:8080/"
        },
        "id": "FTnNZRr1KlLL",
        "outputId": "00e219e2-7d13-45cc-9463-03f0f84fa98b"
      },
      "outputs": [
        {
          "output_type": "stream",
          "name": "stdout",
          "text": [
            "<class 'pandas.core.frame.DataFrame'>\n",
            "Int64Index: 904 entries, 0 to 2745\n",
            "Data columns (total 14 columns):\n",
            " #   Column                Non-Null Count  Dtype         \n",
            "---  ------                --------------  -----         \n",
            " 0   id                    904 non-null    int64         \n",
            " 1   listing_url           904 non-null    object        \n",
            " 2   name                  904 non-null    object        \n",
            " 3   host_since            904 non-null    datetime64[ns]\n",
            " 4   host_is_superhost     821 non-null    object        \n",
            " 5   neighbourhood         510 non-null    object        \n",
            " 6   accommodates          904 non-null    int64         \n",
            " 7   amenities             904 non-null    object        \n",
            " 8   price                 904 non-null    float64       \n",
            " 9   number_of_reviews     904 non-null    int64         \n",
            " 10  review_scores_rating  904 non-null    float64       \n",
            " 11  latitude              904 non-null    float64       \n",
            " 12  longitude             904 non-null    float64       \n",
            " 13  host_exp              904 non-null    int64         \n",
            "dtypes: datetime64[ns](1), float64(4), int64(4), object(5)\n",
            "memory usage: 105.9+ KB\n"
          ]
        }
      ],
      "source": [
        "# Verify if new column is added to the dataframe\n",
        "df1.info()"
      ]
    },
    {
      "cell_type": "code",
      "execution_count": 40,
      "metadata": {
        "colab": {
          "base_uri": "https://localhost:8080/"
        },
        "id": "JWVZTaKo0V4T",
        "outputId": "9c4c8e06-2b58-4543-f54d-96d59cbb1fa2"
      },
      "outputs": [
        {
          "output_type": "execute_result",
          "data": {
            "text/plain": [
              "count    904.000000\n",
              "mean       5.776549\n",
              "std        2.949344\n",
              "min        0.000000\n",
              "25%        4.000000\n",
              "50%        5.000000\n",
              "75%        8.000000\n",
              "max       14.000000\n",
              "Name: host_exp, dtype: float64"
            ]
          },
          "metadata": {},
          "execution_count": 40
        }
      ],
      "source": [
        "df1.host_exp.describe()"
      ]
    },
    {
      "cell_type": "markdown",
      "metadata": {
        "id": "cY61h6moKmOq"
      },
      "source": [
        "##host_is_superhost"
      ]
    },
    {
      "cell_type": "code",
      "execution_count": 41,
      "metadata": {
        "colab": {
          "base_uri": "https://localhost:8080/"
        },
        "id": "GCVyJB1LKrNy",
        "outputId": "6b1c5350-d484-4fa5-d2fe-8a0d846275f5"
      },
      "outputs": [
        {
          "output_type": "execute_result",
          "data": {
            "text/plain": [
              "id                        0\n",
              "listing_url               0\n",
              "name                      0\n",
              "host_since                0\n",
              "host_is_superhost        83\n",
              "neighbourhood           394\n",
              "accommodates              0\n",
              "amenities                 0\n",
              "price                     0\n",
              "number_of_reviews         0\n",
              "review_scores_rating      0\n",
              "latitude                  0\n",
              "longitude                 0\n",
              "host_exp                  0\n",
              "dtype: int64"
            ]
          },
          "metadata": {},
          "execution_count": 41
        }
      ],
      "source": [
        "df1.isna().sum()"
      ]
    },
    {
      "cell_type": "code",
      "execution_count": 42,
      "metadata": {
        "colab": {
          "base_uri": "https://localhost:8080/"
        },
        "id": "sAibNAzAMXsM",
        "outputId": "4aa04808-b148-4d56-e0c1-14280b6f9a97"
      },
      "outputs": [
        {
          "output_type": "execute_result",
          "data": {
            "text/plain": [
              "f      456\n",
              "t      365\n",
              "NaN     83\n",
              "Name: host_is_superhost, dtype: int64"
            ]
          },
          "metadata": {},
          "execution_count": 42
        }
      ],
      "source": [
        "# Checking unique values in this column including missing values\n",
        "df1.host_is_superhost.value_counts(dropna=False)"
      ]
    },
    {
      "cell_type": "code",
      "execution_count": 43,
      "metadata": {
        "id": "tTkOeIuiK3OE"
      },
      "outputs": [],
      "source": [
        "# Since there are lot of missing values in this column\n",
        "# Let's assume missing values as f\n",
        "df1.host_is_superhost.fillna(\"f\",inplace=True)"
      ]
    },
    {
      "cell_type": "code",
      "execution_count": 44,
      "metadata": {
        "colab": {
          "base_uri": "https://localhost:8080/"
        },
        "id": "fqmB6DFVPfYx",
        "outputId": "b289de20-67a9-4224-abe1-cb106c8e6491"
      },
      "outputs": [
        {
          "output_type": "execute_result",
          "data": {
            "text/plain": [
              "f    539\n",
              "t    365\n",
              "Name: host_is_superhost, dtype: int64"
            ]
          },
          "metadata": {},
          "execution_count": 44
        }
      ],
      "source": [
        "df1.host_is_superhost.value_counts()"
      ]
    },
    {
      "cell_type": "code",
      "execution_count": 45,
      "metadata": {
        "id": "fcyeN-ooPiHG"
      },
      "outputs": [],
      "source": [
        "# Alter f or t (strings) to 0 or 1 (integers)\n",
        "df1['host_is_superhost']=df1.host_is_superhost.replace({'f':0, 't':1})"
      ]
    },
    {
      "cell_type": "code",
      "execution_count": 46,
      "metadata": {
        "colab": {
          "base_uri": "https://localhost:8080/"
        },
        "id": "yVmub0OJQFBM",
        "outputId": "6439682d-73d0-4673-80ec-8593b4543e58"
      },
      "outputs": [
        {
          "output_type": "execute_result",
          "data": {
            "text/plain": [
              "0    539\n",
              "1    365\n",
              "Name: host_is_superhost, dtype: int64"
            ]
          },
          "metadata": {},
          "execution_count": 46
        }
      ],
      "source": [
        "df1.host_is_superhost.value_counts()"
      ]
    },
    {
      "cell_type": "code",
      "execution_count": 47,
      "metadata": {
        "colab": {
          "base_uri": "https://localhost:8080/"
        },
        "id": "jAbpHLnA1Vxg",
        "outputId": "71d15a29-a2a4-4655-dd1b-6a34f56b42fb"
      },
      "outputs": [
        {
          "output_type": "execute_result",
          "data": {
            "text/plain": [
              "40.376106194690266"
            ]
          },
          "metadata": {},
          "execution_count": 47
        }
      ],
      "source": [
        "# Finding % of listings with super-host status\n",
        "value_counts = df1['host_is_superhost'].value_counts()\n",
        "(value_counts[1] / value_counts.sum()) * 100\n",
        "\n",
        "\n"
      ]
    },
    {
      "cell_type": "markdown",
      "metadata": {
        "id": "Hb_o2HW1Qj4G"
      },
      "source": [
        "##price"
      ]
    },
    {
      "cell_type": "code",
      "execution_count": 48,
      "metadata": {
        "colab": {
          "base_uri": "https://localhost:8080/"
        },
        "id": "4hwJLMofTKw5",
        "outputId": "9b472413-4d09-4c6f-db9c-a8361e2d9c79"
      },
      "outputs": [
        {
          "output_type": "execute_result",
          "data": {
            "text/plain": [
              "count    904.000000\n",
              "mean      51.090708\n",
              "std       28.493915\n",
              "min       10.000000\n",
              "25%       33.000000\n",
              "50%       45.000000\n",
              "75%       61.000000\n",
              "max      307.000000\n",
              "Name: price, dtype: float64"
            ]
          },
          "metadata": {},
          "execution_count": 48
        }
      ],
      "source": [
        "df1.price.describe()"
      ]
    },
    {
      "cell_type": "code",
      "execution_count": 49,
      "metadata": {
        "colab": {
          "base_uri": "https://localhost:8080/",
          "height": 467
        },
        "id": "feWS5GWIW6Gg",
        "outputId": "6cf587a2-45d0-4e23-9451-e86e917f717d"
      },
      "outputs": [
        {
          "output_type": "execute_result",
          "data": {
            "text/plain": [
              "<Axes: xlabel='price'>"
            ]
          },
          "metadata": {},
          "execution_count": 49
        },
        {
          "output_type": "display_data",
          "data": {
            "text/plain": [
              "<Figure size 640x480 with 1 Axes>"
            ],
            "image/png": "[encoded data removed]"
          },
          "metadata": {}
        }
      ],
      "source": [
        "# Plotting outliers using boxplot (imported Seaborn already)\n",
        "sns.boxplot(data=df1,x='price')"
      ]
    },
    {
      "cell_type": "code",
      "execution_count": 50,
      "metadata": {
        "id": "GrPnYu2fWbEE"
      },
      "outputs": [],
      "source": [
        "# Anything less than -59 (which is impossible) or anything above 205 are considered as outliers by this method.\n",
        "# However, this is just for our reference, we are not deleting outliers based on boxplot!\n",
        "# Although in real world, price per night could be more than 205, based on our assumption that digital nomads make $85k yearly income, its highly unlikely that they are willing to pay more than 205 per night'''"
      ]
    },
    {
      "cell_type": "code",
      "execution_count": 51,
      "metadata": {
        "colab": {
          "base_uri": "https://localhost:8080/",
          "height": 467
        },
        "id": "KoCeB-F1CuPT",
        "outputId": "dd58e33f-ee45-44d5-e64b-1db90edadc24"
      },
      "outputs": [
        {
          "output_type": "execute_result",
          "data": {
            "text/plain": [
              "<Axes: xlabel='price', ylabel='Count'>"
            ]
          },
          "metadata": {},
          "execution_count": 51
        },
        {
          "output_type": "display_data",
          "data": {
            "text/plain": [
              "<Figure size 640x480 with 1 Axes>"
            ],
            "image/png": "[encoded data removed]"
          },
          "metadata": {}
        }
      ],
      "source": [
        "sns.histplot(data=df1.price, bins=10, kde=True)"
      ]
    },
    {
      "cell_type": "code",
      "execution_count": 52,
      "metadata": {
        "id": "mHQ6Ro4a12Hi"
      },
      "outputs": [],
      "source": [
        "# Helper function to plot histograms based on the\n",
        "# format of the `sessions` histogram\n",
        "def histogrammer(df,column_str, median_text=True, **kwargs):    # **kwargs = any keyword arguments\n",
        "                                                             # from the sns.histplot() function\n",
        "    median=round(df[column_str].median(), 1)\n",
        "    plt.figure(figsize=(5,3))\n",
        "    ax = sns.histplot(x=df[column_str], **kwargs)            # Plot the histogram\n",
        "    plt.axvline(median, color='red', linestyle='--')         # Plot the median line\n",
        "    if median_text==True:                                    # Add median text unless set to False\n",
        "        ax.text(0.25, 0.85, f'median={median}', color='red',\n",
        "            ha='left', va='top', transform=ax.transAxes)\n",
        "    else:\n",
        "        print('Median:', median)\n",
        "    plt.title(f'{column_str} histogram');"
      ]
    },
    {
      "cell_type": "code",
      "execution_count": 53,
      "metadata": {
        "colab": {
          "base_uri": "https://localhost:8080/",
          "height": 333
        },
        "id": "uBwaiN9F18Bd",
        "outputId": "508dea08-9d3c-4fb1-a1b2-1c25c167f462"
      },
      "outputs": [
        {
          "output_type": "display_data",
          "data": {
            "text/plain": [
              "<Figure size 500x300 with 1 Axes>"
            ],
            "image/png": "[encoded data removed]"
          },
          "metadata": {}
        }
      ],
      "source": [
        "histogrammer(df1,'price', median_text=True)"
      ]
    },
    {
      "cell_type": "markdown",
      "metadata": {
        "id": "QrG9KpO6dMLd"
      },
      "source": [
        "##Amenities"
      ]
    },
    {
      "cell_type": "code",
      "execution_count": 54,
      "metadata": {
        "id": "a4PX38_FdR_6"
      },
      "outputs": [],
      "source": [
        "# Creating new column for wifi\n",
        "df1['wifi']=(df1.amenities.str.contains('Wifi', case=False))"
      ]
    },
    {
      "cell_type": "code",
      "execution_count": 55,
      "metadata": {
        "colab": {
          "base_uri": "https://localhost:8080/"
        },
        "id": "2E7z7G6MflKB",
        "outputId": "a2d787d0-09a0-4434-8999-e7f25bfd00dd"
      },
      "outputs": [
        {
          "output_type": "execute_result",
          "data": {
            "text/plain": [
              "0.9789823008849557"
            ]
          },
          "metadata": {},
          "execution_count": 55
        }
      ],
      "source": [
        "df1['wifi'].sum()/df1.shape[0]"
      ]
    },
    {
      "cell_type": "code",
      "execution_count": 56,
      "metadata": {
        "colab": {
          "base_uri": "https://localhost:8080/"
        },
        "id": "eOjkJW95f0Nl",
        "outputId": "2f5356f0-0943-4489-b692-473ee7e15c2b"
      },
      "outputs": [
        {
          "output_type": "execute_result",
          "data": {
            "text/plain": [
              "0.5221238938053098"
            ]
          },
          "metadata": {},
          "execution_count": 56
        }
      ],
      "source": [
        "# Creating new column for workspace\n",
        "df1['workspace']=(df1.amenities.str.contains('workspace', case=False))\n",
        "df1['workspace'].sum()/df1.shape[0]"
      ]
    },
    {
      "cell_type": "markdown",
      "metadata": {
        "id": "Xmj3ewgJZlYs"
      },
      "source": [
        "##Coworking Place Data"
      ]
    },
    {
      "cell_type": "code",
      "execution_count": 58,
      "metadata": {
        "id": "WgN5GmlbZprG"
      },
      "outputs": [],
      "source": [
        "path = \"/content/modified_coordinates.csv\"\n",
        "cwp = pd.read_csv(path)"
      ]
    },
    {
      "cell_type": "code",
      "execution_count": 59,
      "metadata": {
        "colab": {
          "base_uri": "https://localhost:8080/",
          "height": 206
        },
        "id": "NfURyQWKaL8-",
        "outputId": "1cc94b2e-23c8-4f57-c32e-9f06cc120ab2"
      },
      "outputs": [
        {
          "output_type": "execute_result",
          "data": {
            "text/plain": [
              "          city                                           name  \\\n",
              "112  Barcelona  Cowork Rambla Catalunya - Coworking Barcelona   \n",
              "125  Barcelona    CREC Coworking Gràcia - Depot Lab Barcelona   \n",
              "168  Barcelona                         Cloudworks Sant Antoni   \n",
              "113  Barcelona                       Sowo Coworking Barcelona   \n",
              "210  Barcelona                              La Lola Coworking   \n",
              "\n",
              "                                                adress  \\\n",
              "112  Carrer Corsega, num. 284, 1 Pis, 08008 Barcelo...   \n",
              "125  Carrer de Joaquim Ruyra, 9, 11, 08025 Barcelon...   \n",
              "168  C/ del Comte Borrell, 62, 08015 Barcelona, Spa...   \n",
              "113  C/ del Consell de Cent, 413, 415, Principal 2ª...   \n",
              "210  Carrer de Sant Salvador, 109, 08024 Barcelona,...   \n",
              "\n",
              "               Google Plus-Code  longitude  latitude  \n",
              "112  95V4+RR Barcelona, Spanien    4139453   2157116  \n",
              "125  C547+9G Barcelona, Spanien    4140594   2163867  \n",
              "168  95H6+H7 Barcelona, Spanien    4137892   2160753  \n",
              "113  95WC+8M Barcelona, Spanien    4139584   2171729  \n",
              "210  C554+89 Barcelona, Spanien    4140838   2155860  "
            ],
            "text/html": [
              "\n",
              "  <div id=\"df-354849a7-7d25-4e2f-9ad4-c7faf8045a6a\" class=\"colab-df-container\">\n",
              "    <div>\n",
              "<style scoped>\n",
              "    .dataframe tbody tr th:only-of-type {\n",
              "        vertical-align: middle;\n",
              "    }\n",
              "\n",
              "    .dataframe tbody tr th {\n",
              "        vertical-align: top;\n",
              "    }\n",
              "\n",
              "    .dataframe thead th {\n",
              "        text-align: right;\n",
              "    }\n",
              "</style>\n",
              "<table border=\"1\" class=\"dataframe\">\n",
              "  <thead>\n",
              "    <tr style=\"text-align: right;\">\n",
              "      <th></th>\n",
              "      <th>city</th>\n",
              "      <th>name</th>\n",
              "      <th>adress</th>\n",
              "      <th>Google Plus-Code</th>\n",
              "      <th>longitude</th>\n",
              "      <th>latitude</th>\n",
              "    </tr>\n",
              "  </thead>\n",
              "  <tbody>\n",
              "    <tr>\n",
              "      <th>112</th>\n",
              "      <td>Barcelona</td>\n",
              "      <td>Cowork Rambla Catalunya - Coworking Barcelona</td>\n",
              "      <td>Carrer Corsega, num. 284, 1 Pis, 08008 Barcelo...</td>\n",
              "      <td>95V4+RR Barcelona, Spanien</td>\n",
              "      <td>4139453</td>\n",
              "      <td>2157116</td>\n",
              "    </tr>\n",
              "    <tr>\n",
              "      <th>125</th>\n",
              "      <td>Barcelona</td>\n",
              "      <td>CREC Coworking Gràcia - Depot Lab Barcelona</td>\n",
              "      <td>Carrer de Joaquim Ruyra, 9, 11, 08025 Barcelon...</td>\n",
              "      <td>C547+9G Barcelona, Spanien</td>\n",
              "      <td>4140594</td>\n",
              "      <td>2163867</td>\n",
              "    </tr>\n",
              "    <tr>\n",
              "      <th>168</th>\n",
              "      <td>Barcelona</td>\n",
              "      <td>Cloudworks Sant Antoni</td>\n",
              "      <td>C/ del Comte Borrell, 62, 08015 Barcelona, Spa...</td>\n",
              "      <td>95H6+H7 Barcelona, Spanien</td>\n",
              "      <td>4137892</td>\n",
              "      <td>2160753</td>\n",
              "    </tr>\n",
              "    <tr>\n",
              "      <th>113</th>\n",
              "      <td>Barcelona</td>\n",
              "      <td>Sowo Coworking Barcelona</td>\n",
              "      <td>C/ del Consell de Cent, 413, 415, Principal 2ª...</td>\n",
              "      <td>95WC+8M Barcelona, Spanien</td>\n",
              "      <td>4139584</td>\n",
              "      <td>2171729</td>\n",
              "    </tr>\n",
              "    <tr>\n",
              "      <th>210</th>\n",
              "      <td>Barcelona</td>\n",
              "      <td>La Lola Coworking</td>\n",
              "      <td>Carrer de Sant Salvador, 109, 08024 Barcelona,...</td>\n",
              "      <td>C554+89 Barcelona, Spanien</td>\n",
              "      <td>4140838</td>\n",
              "      <td>2155860</td>\n",
              "    </tr>\n",
              "  </tbody>\n",
              "</table>\n",
              "</div>\n",
              "    <div class=\"colab-df-buttons\">\n",
              "\n",
              "  <div class=\"colab-df-container\">\n",
              "    <button class=\"colab-df-convert\" onclick=\"convertToInteractive('df-354849a7-7d25-4e2f-9ad4-c7faf8045a6a')\"\n",
              "            title=\"Convert this dataframe to an interactive table.\"\n",
              "            style=\"display:none;\">\n",
              "\n",
              "  <svg xmlns=\"http://www.w3.org/2000/svg\" height=\"24px\" viewBox=\"0 -960 960 960\">\n",
              "    <path d=\"M120-120v-720h720v720H120Zm60-500h600v-160H180v160Zm220 220h160v-160H400v160Zm0 220h160v-160H400v160ZM180-400h160v-160H180v160Zm440 0h160v-160H620v160ZM180-180h160v-160H180v160Zm440 0h160v-160H620v160Z\"/>\n",
              "  </svg>\n",
              "    </button>\n",
              "\n",
              "  <style>\n",
              "    .colab-df-container {\n",
              "      display:flex;\n",
              "      gap: 12px;\n",
              "    }\n",
              "\n",
              "    .colab-df-convert {\n",
              "      background-color: #E8F0FE;\n",
              "      border: none;\n",
              "      border-radius: 50%;\n",
              "      cursor: pointer;\n",
              "      display: none;\n",
              "      fill: #1967D2;\n",
              "      height: 32px;\n",
              "      padding: 0 0 0 0;\n",
              "      width: 32px;\n",
              "    }\n",
              "\n",
              "    .colab-df-convert:hover {\n",
              "      background-color: #E2EBFA;\n",
              "      box-shadow: 0px 1px 2px rgba(60, 64, 67, 0.3), 0px 1px 3px 1px rgba(60, 64, 67, 0.15);\n",
              "      fill: #174EA6;\n",
              "    }\n",
              "\n",
              "    .colab-df-buttons div {\n",
              "      margin-bottom: 4px;\n",
              "    }\n",
              "\n",
              "    [theme=dark] .colab-df-convert {\n",
              "      background-color: #3B4455;\n",
              "      fill: #D2E3FC;\n",
              "    }\n",
              "\n",
              "    [theme=dark] .colab-df-convert:hover {\n",
              "      background-color: #434B5C;\n",
              "      box-shadow: 0px 1px 3px 1px rgba(0, 0, 0, 0.15);\n",
              "      filter: drop-shadow(0px 1px 2px rgba(0, 0, 0, 0.3));\n",
              "      fill: #FFFFFF;\n",
              "    }\n",
              "  </style>\n",
              "\n",
              "    <script>\n",
              "      const buttonEl =\n",
              "        document.querySelector('#df-354849a7-7d25-4e2f-9ad4-c7faf8045a6a button.colab-df-convert');\n",
              "      buttonEl.style.display =\n",
              "        google.colab.kernel.accessAllowed ? 'block' : 'none';\n",
              "\n",
              "      async function convertToInteractive(key) {\n",
              "        const element = document.querySelector('#df-354849a7-7d25-4e2f-9ad4-c7faf8045a6a');\n",
              "        const dataTable =\n",
              "          await google.colab.kernel.invokeFunction('convertToInteractive',\n",
              "                                                    [key], {});\n",
              "        if (!dataTable) return;\n",
              "\n",
              "        const docLinkHtml = 'Like what you see? Visit the ' +\n",
              "          '<a target=\"_blank\" href=https://colab.research.google.com/notebooks/data_table.ipynb>data table notebook</a>'\n",
              "          + ' to learn more about interactive tables.';\n",
              "        element.innerHTML = '';\n",
              "        dataTable['output_type'] = 'display_data';\n",
              "        await google.colab.output.renderOutput(dataTable, element);\n",
              "        const docLink = document.createElement('div');\n",
              "        docLink.innerHTML = docLinkHtml;\n",
              "        element.appendChild(docLink);\n",
              "      }\n",
              "    </script>\n",
              "  </div>\n",
              "\n",
              "\n",
              "<div id=\"df-ce3fe081-70b8-47a3-86aa-5897cdb31d31\">\n",
              "  <button class=\"colab-df-quickchart\" onclick=\"quickchart('df-ce3fe081-70b8-47a3-86aa-5897cdb31d31')\"\n",
              "            title=\"Suggest charts.\"\n",
              "            style=\"display:none;\">\n",
              "\n",
              "<svg xmlns=\"http://www.w3.org/2000/svg\" height=\"24px\"viewBox=\"0 0 24 24\"\n",
              "     width=\"24px\">\n",
              "    <g>\n",
              "        <path d=\"M19 3H5c-1.1 0-2 .9-2 2v14c0 1.1.9 2 2 2h14c1.1 0 2-.9 2-2V5c0-1.1-.9-2-2-2zM9 17H7v-7h2v7zm4 0h-2V7h2v10zm4 0h-2v-4h2v4z\"/>\n",
              "    </g>\n",
              "</svg>\n",
              "  </button>\n",
              "\n",
              "<style>\n",
              "  .colab-df-quickchart {\n",
              "      --bg-color: #E8F0FE;\n",
              "      --fill-color: #1967D2;\n",
              "      --hover-bg-color: #E2EBFA;\n",
              "      --hover-fill-color: #174EA6;\n",
              "      --disabled-fill-color: #AAA;\n",
              "      --disabled-bg-color: #DDD;\n",
              "  }\n",
              "\n",
              "  [theme=dark] .colab-df-quickchart {\n",
              "      --bg-color: #3B4455;\n",
              "      --fill-color: #D2E3FC;\n",
              "      --hover-bg-color: #434B5C;\n",
              "      --hover-fill-color: #FFFFFF;\n",
              "      --disabled-bg-color: #3B4455;\n",
              "      --disabled-fill-color: #666;\n",
              "  }\n",
              "\n",
              "  .colab-df-quickchart {\n",
              "    background-color: var(--bg-color);\n",
              "    border: none;\n",
              "    border-radius: 50%;\n",
              "    cursor: pointer;\n",
              "    display: none;\n",
              "    fill: var(--fill-color);\n",
              "    height: 32px;\n",
              "    padding: 0;\n",
              "    width: 32px;\n",
              "  }\n",
              "\n",
              "  .colab-df-quickchart:hover {\n",
              "    background-color: var(--hover-bg-color);\n",
              "    box-shadow: 0 1px 2px rgba(60, 64, 67, 0.3), 0 1px 3px 1px rgba(60, 64, 67, 0.15);\n",
              "    fill: var(--button-hover-fill-color);\n",
              "  }\n",
              "\n",
              "  .colab-df-quickchart-complete:disabled,\n",
              "  .colab-df-quickchart-complete:disabled:hover {\n",
              "    background-color: var(--disabled-bg-color);\n",
              "    fill: var(--disabled-fill-color);\n",
              "    box-shadow: none;\n",
              "  }\n",
              "\n",
              "  .colab-df-spinner {\n",
              "    border: 2px solid var(--fill-color);\n",
              "    border-color: transparent;\n",
              "    border-bottom-color: var(--fill-color);\n",
              "    animation:\n",
              "      spin 1s steps(1) infinite;\n",
              "  }\n",
              "\n",
              "  @keyframes spin {\n",
              "    0% {\n",
              "      border-color: transparent;\n",
              "      border-bottom-color: var(--fill-color);\n",
              "      border-left-color: var(--fill-color);\n",
              "    }\n",
              "    20% {\n",
              "      border-color: transparent;\n",
              "      border-left-color: var(--fill-color);\n",
              "      border-top-color: var(--fill-color);\n",
              "    }\n",
              "    30% {\n",
              "      border-color: transparent;\n",
              "      border-left-color: var(--fill-color);\n",
              "      border-top-color: var(--fill-color);\n",
              "      border-right-color: var(--fill-color);\n",
              "    }\n",
              "    40% {\n",
              "      border-color: transparent;\n",
              "      border-right-color: var(--fill-color);\n",
              "      border-top-color: var(--fill-color);\n",
              "    }\n",
              "    60% {\n",
              "      border-color: transparent;\n",
              "      border-right-color: var(--fill-color);\n",
              "    }\n",
              "    80% {\n",
              "      border-color: transparent;\n",
              "      border-right-color: var(--fill-color);\n",
              "      border-bottom-color: var(--fill-color);\n",
              "    }\n",
              "    90% {\n",
              "      border-color: transparent;\n",
              "      border-bottom-color: var(--fill-color);\n",
              "    }\n",
              "  }\n",
              "</style>\n",
              "\n",
              "  <script>\n",
              "    async function quickchart(key) {\n",
              "      const quickchartButtonEl =\n",
              "        document.querySelector('#' + key + ' button');\n",
              "      quickchartButtonEl.disabled = true;  // To prevent multiple clicks.\n",
              "      quickchartButtonEl.classList.add('colab-df-spinner');\n",
              "      try {\n",
              "        const charts = await google.colab.kernel.invokeFunction(\n",
              "            'suggestCharts', [key], {});\n",
              "      } catch (error) {\n",
              "        console.error('Error during call to suggestCharts:', error);\n",
              "      }\n",
              "      quickchartButtonEl.classList.remove('colab-df-spinner');\n",
              "      quickchartButtonEl.classList.add('colab-df-quickchart-complete');\n",
              "    }\n",
              "    (() => {\n",
              "      let quickchartButtonEl =\n",
              "        document.querySelector('#df-ce3fe081-70b8-47a3-86aa-5897cdb31d31 button');\n",
              "      quickchartButtonEl.style.display =\n",
              "        google.colab.kernel.accessAllowed ? 'block' : 'none';\n",
              "    })();\n",
              "  </script>\n",
              "</div>\n",
              "    </div>\n",
              "  </div>\n"
            ]
          },
          "metadata": {},
          "execution_count": 59
        }
      ],
      "source": [
        "cwp.sample(5)\n",
        "# Dataset includes data for all the cities"
      ]
    },
    {
      "cell_type": "code",
      "execution_count": 63,
      "metadata": {
        "id": "PGm3yx9PaNn1"
      },
      "outputs": [],
      "source": [
        "# Filtering cwp data for Riga and rename as cwp_bar\n",
        "# and dropping useless columns\n",
        "# and setting index with name column\n",
        "cwp_riga=cwp[cwp.city=='Riga'].drop(['city', 'Google Plus-Code', 'adress'], axis=1).set_index('name')"
      ]
    },
    {
      "cell_type": "code",
      "execution_count": 61,
      "metadata": {
        "colab": {
          "base_uri": "https://localhost:8080/",
          "height": 613
        },
        "id": "zF9hEluQbP03",
        "outputId": "12e35c1a-0b8f-4db0-c8f9-e55049cb842f"
      },
      "outputs": [
        {
          "output_type": "execute_result",
          "data": {
            "text/plain": [
              "                                                longitude  latitude\n",
              "name                                                               \n",
              "TechHub Riga                                      5694995   2412161\n",
              "Mill Riga                                         5696434   2413481\n",
              "Workland Telegraph                                5694708   2411300\n",
              "Coworking Riga                                    5696124   2413547\n",
              "Techhub Riga                                      5694996   2412167\n",
              "OraculeTang Space                                 5694931   2410388\n",
              "Double9 coworking                                 5696509   2413011\n",
              "DarbaVieta                                        5696341   2410390\n",
              "croworking                                        5695736   2414741\n",
              "LU Student Business Inkubator Co-Working Space    5694779   2411510\n",
              "Regus - Riga, Terbatas                            5695367   2412150\n",
              "Regus - Riga, Esplanade                           5695589   2411854\n",
              "Beauty Works coworking                            5695654   2413409\n",
              "Regus - Riga Opera                                5694998   2411212\n",
              "Magnēts Coworking                                 5693581   2406924\n",
              "Hamann Coworking                                  5695055   2406517\n",
              "Teikums                                           5697692   2416626"
            ],
            "text/html": [
              "\n",
              "  <div id=\"df-486d1388-109d-40bb-a72b-06482a7f88ed\" class=\"colab-df-container\">\n",
              "    <div>\n",
              "<style scoped>\n",
              "    .dataframe tbody tr th:only-of-type {\n",
              "        vertical-align: middle;\n",
              "    }\n",
              "\n",
              "    .dataframe tbody tr th {\n",
              "        vertical-align: top;\n",
              "    }\n",
              "\n",
              "    .dataframe thead th {\n",
              "        text-align: right;\n",
              "    }\n",
              "</style>\n",
              "<table border=\"1\" class=\"dataframe\">\n",
              "  <thead>\n",
              "    <tr style=\"text-align: right;\">\n",
              "      <th></th>\n",
              "      <th>longitude</th>\n",
              "      <th>latitude</th>\n",
              "    </tr>\n",
              "    <tr>\n",
              "      <th>name</th>\n",
              "      <th></th>\n",
              "      <th></th>\n",
              "    </tr>\n",
              "  </thead>\n",
              "  <tbody>\n",
              "    <tr>\n",
              "      <th>TechHub Riga</th>\n",
              "      <td>5694995</td>\n",
              "      <td>2412161</td>\n",
              "    </tr>\n",
              "    <tr>\n",
              "      <th>Mill Riga</th>\n",
              "      <td>5696434</td>\n",
              "      <td>2413481</td>\n",
              "    </tr>\n",
              "    <tr>\n",
              "      <th>Workland Telegraph</th>\n",
              "      <td>5694708</td>\n",
              "      <td>2411300</td>\n",
              "    </tr>\n",
              "    <tr>\n",
              "      <th>Coworking Riga</th>\n",
              "      <td>5696124</td>\n",
              "      <td>2413547</td>\n",
              "    </tr>\n",
              "    <tr>\n",
              "      <th>Techhub Riga</th>\n",
              "      <td>5694996</td>\n",
              "      <td>2412167</td>\n",
              "    </tr>\n",
              "    <tr>\n",
              "      <th>OraculeTang Space</th>\n",
              "      <td>5694931</td>\n",
              "      <td>2410388</td>\n",
              "    </tr>\n",
              "    <tr>\n",
              "      <th>Double9 coworking</th>\n",
              "      <td>5696509</td>\n",
              "      <td>2413011</td>\n",
              "    </tr>\n",
              "    <tr>\n",
              "      <th>DarbaVieta</th>\n",
              "      <td>5696341</td>\n",
              "      <td>2410390</td>\n",
              "    </tr>\n",
              "    <tr>\n",
              "      <th>croworking</th>\n",
              "      <td>5695736</td>\n",
              "      <td>2414741</td>\n",
              "    </tr>\n",
              "    <tr>\n",
              "      <th>LU Student Business Inkubator Co-Working Space</th>\n",
              "      <td>5694779</td>\n",
              "      <td>2411510</td>\n",
              "    </tr>\n",
              "    <tr>\n",
              "      <th>Regus - Riga, Terbatas</th>\n",
              "      <td>5695367</td>\n",
              "      <td>2412150</td>\n",
              "    </tr>\n",
              "    <tr>\n",
              "      <th>Regus - Riga, Esplanade</th>\n",
              "      <td>5695589</td>\n",
              "      <td>2411854</td>\n",
              "    </tr>\n",
              "    <tr>\n",
              "      <th>Beauty Works coworking</th>\n",
              "      <td>5695654</td>\n",
              "      <td>2413409</td>\n",
              "    </tr>\n",
              "    <tr>\n",
              "      <th>Regus - Riga Opera</th>\n",
              "      <td>5694998</td>\n",
              "      <td>2411212</td>\n",
              "    </tr>\n",
              "    <tr>\n",
              "      <th>Magnēts Coworking</th>\n",
              "      <td>5693581</td>\n",
              "      <td>2406924</td>\n",
              "    </tr>\n",
              "    <tr>\n",
              "      <th>Hamann Coworking</th>\n",
              "      <td>5695055</td>\n",
              "      <td>2406517</td>\n",
              "    </tr>\n",
              "    <tr>\n",
              "      <th>Teikums</th>\n",
              "      <td>5697692</td>\n",
              "      <td>2416626</td>\n",
              "    </tr>\n",
              "  </tbody>\n",
              "</table>\n",
              "</div>\n",
              "    <div class=\"colab-df-buttons\">\n",
              "\n",
              "  <div class=\"colab-df-container\">\n",
              "    <button class=\"colab-df-convert\" onclick=\"convertToInteractive('df-486d1388-109d-40bb-a72b-06482a7f88ed')\"\n",
              "            title=\"Convert this dataframe to an interactive table.\"\n",
              "            style=\"display:none;\">\n",
              "\n",
              "  <svg xmlns=\"http://www.w3.org/2000/svg\" height=\"24px\" viewBox=\"0 -960 960 960\">\n",
              "    <path d=\"M120-120v-720h720v720H120Zm60-500h600v-160H180v160Zm220 220h160v-160H400v160Zm0 220h160v-160H400v160ZM180-400h160v-160H180v160Zm440 0h160v-160H620v160ZM180-180h160v-160H180v160Zm440 0h160v-160H620v160Z\"/>\n",
              "  </svg>\n",
              "    </button>\n",
              "\n",
              "  <style>\n",
              "    .colab-df-container {\n",
              "      display:flex;\n",
              "      gap: 12px;\n",
              "    }\n",
              "\n",
              "    .colab-df-convert {\n",
              "      background-color: #E8F0FE;\n",
              "      border: none;\n",
              "      border-radius: 50%;\n",
              "      cursor: pointer;\n",
              "      display: none;\n",
              "      fill: #1967D2;\n",
              "      height: 32px;\n",
              "      padding: 0 0 0 0;\n",
              "      width: 32px;\n",
              "    }\n",
              "\n",
              "    .colab-df-convert:hover {\n",
              "      background-color: #E2EBFA;\n",
              "      box-shadow: 0px 1px 2px rgba(60, 64, 67, 0.3), 0px 1px 3px 1px rgba(60, 64, 67, 0.15);\n",
              "      fill: #174EA6;\n",
              "    }\n",
              "\n",
              "    .colab-df-buttons div {\n",
              "      margin-bottom: 4px;\n",
              "    }\n",
              "\n",
              "    [theme=dark] .colab-df-convert {\n",
              "      background-color: #3B4455;\n",
              "      fill: #D2E3FC;\n",
              "    }\n",
              "\n",
              "    [theme=dark] .colab-df-convert:hover {\n",
              "      background-color: #434B5C;\n",
              "      box-shadow: 0px 1px 3px 1px rgba(0, 0, 0, 0.15);\n",
              "      filter: drop-shadow(0px 1px 2px rgba(0, 0, 0, 0.3));\n",
              "      fill: #FFFFFF;\n",
              "    }\n",
              "  </style>\n",
              "\n",
              "    <script>\n",
              "      const buttonEl =\n",
              "        document.querySelector('#df-486d1388-109d-40bb-a72b-06482a7f88ed button.colab-df-convert');\n",
              "      buttonEl.style.display =\n",
              "        google.colab.kernel.accessAllowed ? 'block' : 'none';\n",
              "\n",
              "      async function convertToInteractive(key) {\n",
              "        const element = document.querySelector('#df-486d1388-109d-40bb-a72b-06482a7f88ed');\n",
              "        const dataTable =\n",
              "          await google.colab.kernel.invokeFunction('convertToInteractive',\n",
              "                                                    [key], {});\n",
              "        if (!dataTable) return;\n",
              "\n",
              "        const docLinkHtml = 'Like what you see? Visit the ' +\n",
              "          '<a target=\"_blank\" href=https://colab.research.google.com/notebooks/data_table.ipynb>data table notebook</a>'\n",
              "          + ' to learn more about interactive tables.';\n",
              "        element.innerHTML = '';\n",
              "        dataTable['output_type'] = 'display_data';\n",
              "        await google.colab.output.renderOutput(dataTable, element);\n",
              "        const docLink = document.createElement('div');\n",
              "        docLink.innerHTML = docLinkHtml;\n",
              "        element.appendChild(docLink);\n",
              "      }\n",
              "    </script>\n",
              "  </div>\n",
              "\n",
              "\n",
              "<div id=\"df-244c7ed1-06aa-4fb1-84f7-ba0e8f139fb5\">\n",
              "  <button class=\"colab-df-quickchart\" onclick=\"quickchart('df-244c7ed1-06aa-4fb1-84f7-ba0e8f139fb5')\"\n",
              "            title=\"Suggest charts.\"\n",
              "            style=\"display:none;\">\n",
              "\n",
              "<svg xmlns=\"http://www.w3.org/2000/svg\" height=\"24px\"viewBox=\"0 0 24 24\"\n",
              "     width=\"24px\">\n",
              "    <g>\n",
              "        <path d=\"M19 3H5c-1.1 0-2 .9-2 2v14c0 1.1.9 2 2 2h14c1.1 0 2-.9 2-2V5c0-1.1-.9-2-2-2zM9 17H7v-7h2v7zm4 0h-2V7h2v10zm4 0h-2v-4h2v4z\"/>\n",
              "    </g>\n",
              "</svg>\n",
              "  </button>\n",
              "\n",
              "<style>\n",
              "  .colab-df-quickchart {\n",
              "      --bg-color: #E8F0FE;\n",
              "      --fill-color: #1967D2;\n",
              "      --hover-bg-color: #E2EBFA;\n",
              "      --hover-fill-color: #174EA6;\n",
              "      --disabled-fill-color: #AAA;\n",
              "      --disabled-bg-color: #DDD;\n",
              "  }\n",
              "\n",
              "  [theme=dark] .colab-df-quickchart {\n",
              "      --bg-color: #3B4455;\n",
              "      --fill-color: #D2E3FC;\n",
              "      --hover-bg-color: #434B5C;\n",
              "      --hover-fill-color: #FFFFFF;\n",
              "      --disabled-bg-color: #3B4455;\n",
              "      --disabled-fill-color: #666;\n",
              "  }\n",
              "\n",
              "  .colab-df-quickchart {\n",
              "    background-color: var(--bg-color);\n",
              "    border: none;\n",
              "    border-radius: 50%;\n",
              "    cursor: pointer;\n",
              "    display: none;\n",
              "    fill: var(--fill-color);\n",
              "    height: 32px;\n",
              "    padding: 0;\n",
              "    width: 32px;\n",
              "  }\n",
              "\n",
              "  .colab-df-quickchart:hover {\n",
              "    background-color: var(--hover-bg-color);\n",
              "    box-shadow: 0 1px 2px rgba(60, 64, 67, 0.3), 0 1px 3px 1px rgba(60, 64, 67, 0.15);\n",
              "    fill: var(--button-hover-fill-color);\n",
              "  }\n",
              "\n",
              "  .colab-df-quickchart-complete:disabled,\n",
              "  .colab-df-quickchart-complete:disabled:hover {\n",
              "    background-color: var(--disabled-bg-color);\n",
              "    fill: var(--disabled-fill-color);\n",
              "    box-shadow: none;\n",
              "  }\n",
              "\n",
              "  .colab-df-spinner {\n",
              "    border: 2px solid var(--fill-color);\n",
              "    border-color: transparent;\n",
              "    border-bottom-color: var(--fill-color);\n",
              "    animation:\n",
              "      spin 1s steps(1) infinite;\n",
              "  }\n",
              "\n",
              "  @keyframes spin {\n",
              "    0% {\n",
              "      border-color: transparent;\n",
              "      border-bottom-color: var(--fill-color);\n",
              "      border-left-color: var(--fill-color);\n",
              "    }\n",
              "    20% {\n",
              "      border-color: transparent;\n",
              "      border-left-color: var(--fill-color);\n",
              "      border-top-color: var(--fill-color);\n",
              "    }\n",
              "    30% {\n",
              "      border-color: transparent;\n",
              "      border-left-color: var(--fill-color);\n",
              "      border-top-color: var(--fill-color);\n",
              "      border-right-color: var(--fill-color);\n",
              "    }\n",
              "    40% {\n",
              "      border-color: transparent;\n",
              "      border-right-color: var(--fill-color);\n",
              "      border-top-color: var(--fill-color);\n",
              "    }\n",
              "    60% {\n",
              "      border-color: transparent;\n",
              "      border-right-color: var(--fill-color);\n",
              "    }\n",
              "    80% {\n",
              "      border-color: transparent;\n",
              "      border-right-color: var(--fill-color);\n",
              "      border-bottom-color: var(--fill-color);\n",
              "    }\n",
              "    90% {\n",
              "      border-color: transparent;\n",
              "      border-bottom-color: var(--fill-color);\n",
              "    }\n",
              "  }\n",
              "</style>\n",
              "\n",
              "  <script>\n",
              "    async function quickchart(key) {\n",
              "      const quickchartButtonEl =\n",
              "        document.querySelector('#' + key + ' button');\n",
              "      quickchartButtonEl.disabled = true;  // To prevent multiple clicks.\n",
              "      quickchartButtonEl.classList.add('colab-df-spinner');\n",
              "      try {\n",
              "        const charts = await google.colab.kernel.invokeFunction(\n",
              "            'suggestCharts', [key], {});\n",
              "      } catch (error) {\n",
              "        console.error('Error during call to suggestCharts:', error);\n",
              "      }\n",
              "      quickchartButtonEl.classList.remove('colab-df-spinner');\n",
              "      quickchartButtonEl.classList.add('colab-df-quickchart-complete');\n",
              "    }\n",
              "    (() => {\n",
              "      let quickchartButtonEl =\n",
              "        document.querySelector('#df-244c7ed1-06aa-4fb1-84f7-ba0e8f139fb5 button');\n",
              "      quickchartButtonEl.style.display =\n",
              "        google.colab.kernel.accessAllowed ? 'block' : 'none';\n",
              "    })();\n",
              "  </script>\n",
              "</div>\n",
              "    </div>\n",
              "  </div>\n"
            ]
          },
          "metadata": {},
          "execution_count": 61
        }
      ],
      "source": [
        "# Number of coworking places in Riga=17\n",
        "cwp_riga"
      ]
    },
    {
      "cell_type": "code",
      "execution_count": 65,
      "metadata": {
        "colab": {
          "base_uri": "https://localhost:8080/"
        },
        "id": "r2m-MXfwPMUO",
        "outputId": "83f7399f-8ebb-465d-b443-901f074785bc"
      },
      "outputs": [
        {
          "output_type": "execute_result",
          "data": {
            "text/plain": [
              "dtype('int64')"
            ]
          },
          "metadata": {},
          "execution_count": 65
        }
      ],
      "source": [
        "cwp_riga.longitude.dtype\n",
        "cwp_riga.latitude.dtype"
      ]
    },
    {
      "cell_type": "code",
      "execution_count": 66,
      "metadata": {
        "id": "ZQ1UU3i-bQ6r"
      },
      "outputs": [],
      "source": [
        "# Adjusting longitude and latitude in valid format\n",
        "cwp_riga.longitude=cwp_riga.longitude/100000\n",
        "cwp_riga.latitude=cwp_riga.latitude/100000"
      ]
    },
    {
      "cell_type": "code",
      "execution_count": 67,
      "metadata": {
        "id": "CWzjB0j3cbMu"
      },
      "outputs": [],
      "source": [
        "# Create a dictionnary dict_cwp for easy iteration\n",
        "dict_cwp={cwp_riga.index.tolist()[i] :(cwp_riga.longitude.tolist()[i],cwp_riga.latitude.tolist()[i]) for i in range(len(cwp_riga.index.tolist()))}"
      ]
    },
    {
      "cell_type": "code",
      "execution_count": 68,
      "metadata": {
        "colab": {
          "base_uri": "https://localhost:8080/"
        },
        "id": "n9uFFSTv60B0",
        "outputId": "2de30ecf-07d3-4f7e-bbd9-422adbaea84b"
      },
      "outputs": [
        {
          "output_type": "execute_result",
          "data": {
            "text/plain": [
              "{'TechHub Riga': (56.94995, 24.12161),\n",
              " 'Mill Riga': (56.96434, 24.13481),\n",
              " 'Workland Telegraph': (56.94708, 24.113),\n",
              " 'Coworking Riga': (56.96124, 24.13547),\n",
              " 'Techhub Riga': (56.94996, 24.12167),\n",
              " 'OraculeTang Space': (56.94931, 24.10388),\n",
              " 'Double9 coworking': (56.96509, 24.13011),\n",
              " 'DarbaVieta': (56.96341, 24.1039),\n",
              " 'croworking': (56.95736, 24.14741),\n",
              " 'LU Student Business Inkubator Co-Working Space': (56.94779, 24.1151),\n",
              " 'Regus - Riga, Terbatas': (56.95367, 24.1215),\n",
              " 'Regus - Riga, Esplanade': (56.95589, 24.11854),\n",
              " 'Beauty Works coworking': (56.95654, 24.13409),\n",
              " 'Regus - Riga Opera': (56.94998, 24.11212),\n",
              " 'Magnēts Coworking': (56.93581, 24.06924),\n",
              " 'Hamann Coworking': (56.95055, 24.06517),\n",
              " 'Teikums': (56.97692, 24.16626)}"
            ]
          },
          "metadata": {},
          "execution_count": 68
        }
      ],
      "source": [
        "dict_cwp"
      ]
    },
    {
      "cell_type": "code",
      "execution_count": 73,
      "metadata": {
        "colab": {
          "base_uri": "https://localhost:8080/",
          "height": 36
        },
        "id": "v4rt7qtq3sRz",
        "outputId": "7a2a0ccf-005e-4b73-94cf-ba179109d064"
      },
      "outputs": [
        {
          "output_type": "execute_result",
          "data": {
            "text/plain": [
              "'In the 3 following code lines we prepare functions for calculating distance from each listing to coworkingspace'"
            ],
            "application/vnd.google.colaboratory.intrinsic+json": {
              "type": "string"
            }
          },
          "metadata": {},
          "execution_count": 73
        }
      ],
      "source": [
        "'''In the 3 following code lines we prepare functions for calculating distance from each listing to coworkingspace'''"
      ]
    },
    {
      "cell_type": "code",
      "execution_count": 74,
      "metadata": {
        "id": "BewVuHCX3zGT"
      },
      "outputs": [],
      "source": [
        "import math\n",
        "\n",
        "def distance(origin, destination):\n",
        "    \"\"\"\n",
        "    Calculate the Haversine distance used for calculation between our dataset entries and coworking places.\n",
        "\n",
        "    Parameters\n",
        "    ----------\n",
        "    origin : tuple of float\n",
        "        (lat, long)\n",
        "    destination : tuple of float\n",
        "        (lat, long)\n",
        "\n",
        "    Returns\n",
        "    -------\n",
        "    distance_in_km : float\n",
        "\n",
        "    Examples\n",
        "    --------\n",
        "    >>> origin = (48.1372, 11.5756)  # Munich\n",
        "    >>> destination = (52.5186, 13.4083)  # Berlin\n",
        "    >>> round(distance(origin, destination), 1)\n",
        "    504.2\n",
        "    \"\"\"\n",
        "    lat1, lon1 = origin\n",
        "    lat2, lon2 = destination\n",
        "    radius = 6371  # km\n",
        "\n",
        "    dlat = math.radians(lat2 - lat1)\n",
        "    dlon = math.radians(lon2 - lon1)\n",
        "    a = (math.sin(dlat / 2) * math.sin(dlat / 2) +\n",
        "         math.cos(math.radians(lat1)) * math.cos(math.radians(lat2)) *\n",
        "         math.sin(dlon / 2) * math.sin(dlon / 2))\n",
        "    c = 2 * math.atan2(math.sqrt(a), math.sqrt(1 - a))\n",
        "    d = radius * c\n",
        "\n",
        "    return d"
      ]
    },
    {
      "cell_type": "code",
      "execution_count": 75,
      "metadata": {
        "id": "4Qb5g6M_4CvD"
      },
      "outputs": [],
      "source": [
        "def get_minimal_distance_from_coworking_place(l,L):\n",
        "    \"\"\"\n",
        "    Get the minimal distance from co-working place listed in the dictionnary dict_cwp build on 'modified_coordinates.csv\n",
        "    l for longitude\n",
        "    L for latitude\n",
        "    Result in km rounded with 3 digits\n",
        "    \"\"\"\n",
        "    origin=(l,L)\n",
        "    min_dist=\"\"\n",
        "    for cwp in dict_cwp:\n",
        "        if min_dist==\"\":\n",
        "            min_dist=distance(origin, dict_cwp[cwp])\n",
        "            continue\n",
        "        if min_dist<distance(origin, dict_cwp[cwp]):\n",
        "            continue\n",
        "        else:\n",
        "            min_dist=distance(origin, dict_cwp[cwp])\n",
        "    return round(min_dist,3)\n"
      ]
    },
    {
      "cell_type": "code",
      "execution_count": 76,
      "metadata": {
        "id": "ZyHfPpLP4GVp"
      },
      "outputs": [],
      "source": [
        "def get_number_of_coworking_place_less_than_n_km(l,L,n):\n",
        "    \"\"\"\n",
        "    Get the number of co-working place listed in the dictionnary dict_cwp build on 'modified_coordinates.csv'\n",
        "    within a radius of n kilometers\n",
        "    l for longitude\n",
        "    L for latitude\n",
        "    n : float : lenght of radius within to check the number of co-working place\n",
        "    Result is integer\n",
        "    \"\"\"\n",
        "    origin=(l,L)\n",
        "    count=0\n",
        "    for cwp in dict_cwp:\n",
        "        if distance(origin, dict_cwp[cwp])<=n:\n",
        "            count+=1\n",
        "    return count"
      ]
    },
    {
      "cell_type": "code",
      "execution_count": 77,
      "metadata": {
        "id": "YH5MB3Q-9vls"
      },
      "outputs": [],
      "source": [
        "# Finding the distance between each listing to the nearest cwp\n",
        "df1['distance']=df1.apply(lambda x: get_minimal_distance_from_coworking_place(x.latitude,x.longitude), axis=1)"
      ]
    },
    {
      "cell_type": "code",
      "execution_count": 78,
      "metadata": {
        "colab": {
          "base_uri": "https://localhost:8080/"
        },
        "id": "egcQGZvqR_0s",
        "outputId": "8d43f8e3-6cca-4e6c-c53e-2eeb3680fd9f"
      },
      "outputs": [
        {
          "output_type": "execute_result",
          "data": {
            "text/plain": [
              "0       0.440\n",
              "5       4.704\n",
              "9       0.072\n",
              "15      1.142\n",
              "19      0.466\n",
              "        ...  \n",
              "2723    0.608\n",
              "2734    0.594\n",
              "2735    0.968\n",
              "2742    0.978\n",
              "2745    0.309\n",
              "Name: distance, Length: 904, dtype: float64"
            ]
          },
          "metadata": {},
          "execution_count": 78
        }
      ],
      "source": [
        "df1.distance"
      ]
    },
    {
      "cell_type": "code",
      "execution_count": 79,
      "metadata": {
        "colab": {
          "base_uri": "https://localhost:8080/"
        },
        "id": "ZpnITpZm5aFr",
        "outputId": "a1e2253a-2590-4dc7-ddba-f926a146233b"
      },
      "outputs": [
        {
          "output_type": "execute_result",
          "data": {
            "text/plain": [
              "count    904.000000\n",
              "mean       0.760442\n",
              "std        1.230812\n",
              "min        0.006000\n",
              "25%        0.195500\n",
              "50%        0.379000\n",
              "75%        0.810250\n",
              "max       11.646000\n",
              "Name: distance, dtype: float64"
            ]
          },
          "metadata": {},
          "execution_count": 79
        }
      ],
      "source": [
        "# 75%of listings are < 500m away from a cwp\n",
        "# Any listing with distance <= 500m is considered as attractive\n",
        "df1.distance.describe()"
      ]
    },
    {
      "cell_type": "code",
      "execution_count": 80,
      "metadata": {
        "id": "mXnHq91BGKOi"
      },
      "outputs": [],
      "source": [
        "df1['count_of_cwp_0.5km']=df1.apply(lambda x: get_number_of_coworking_place_less_than_n_km(x.latitude,x.longitude,0.5), axis=1)"
      ]
    },
    {
      "cell_type": "markdown",
      "metadata": {
        "id": "ZGpEImsNyz4t"
      },
      "source": [
        "##Reviews"
      ]
    },
    {
      "cell_type": "code",
      "execution_count": 81,
      "metadata": {
        "colab": {
          "base_uri": "https://localhost:8080/"
        },
        "id": "2KA2X_U2zu1-",
        "outputId": "f51ff878-5b6c-4c13-8fa8-693b82a9564f"
      },
      "outputs": [
        {
          "output_type": "execute_result",
          "data": {
            "text/plain": [
              "count    904.000000\n",
              "mean      45.564159\n",
              "std       73.358721\n",
              "min        1.000000\n",
              "25%        5.000000\n",
              "50%       18.000000\n",
              "75%       52.000000\n",
              "max      556.000000\n",
              "Name: number_of_reviews, dtype: float64"
            ]
          },
          "metadata": {},
          "execution_count": 81
        }
      ],
      "source": [
        "# Since we already deleted listings with 0 reviews\n",
        "df1.number_of_reviews.describe()"
      ]
    },
    {
      "cell_type": "code",
      "execution_count": 82,
      "metadata": {
        "colab": {
          "base_uri": "https://localhost:8080/"
        },
        "id": "1f3RvJezzIB2",
        "outputId": "3ab4f22b-d3cc-4609-f5d0-247c7b7596cc"
      },
      "outputs": [
        {
          "output_type": "execute_result",
          "data": {
            "text/plain": [
              "count    904.000000\n",
              "mean       4.776117\n",
              "std        0.353148\n",
              "min        1.000000\n",
              "25%        4.700000\n",
              "50%        4.860000\n",
              "75%        5.000000\n",
              "max        5.000000\n",
              "Name: review_scores_rating, dtype: float64"
            ]
          },
          "metadata": {},
          "execution_count": 82
        }
      ],
      "source": [
        "df1.review_scores_rating.describe()"
      ]
    },
    {
      "cell_type": "markdown",
      "metadata": {
        "id": "n12a50u060QB"
      },
      "source": [
        "#Scoring\n"
      ]
    },
    {
      "cell_type": "code",
      "execution_count": 83,
      "metadata": {
        "colab": {
          "base_uri": "https://localhost:8080/"
        },
        "id": "-URMnjuEuSbz",
        "outputId": "b97f097b-1698-4891-b5e0-5e44d671542b"
      },
      "outputs": [
        {
          "output_type": "execute_result",
          "data": {
            "text/plain": [
              "Index(['id', 'listing_url', 'name', 'host_since', 'host_is_superhost',\n",
              "       'neighbourhood', 'accommodates', 'amenities', 'price',\n",
              "       'number_of_reviews', 'review_scores_rating', 'latitude', 'longitude',\n",
              "       'host_exp', 'wifi', 'workspace', 'distance', 'count_of_cwp_0.5km'],\n",
              "      dtype='object')"
            ]
          },
          "metadata": {},
          "execution_count": 83
        }
      ],
      "source": [
        "df1.columns"
      ]
    },
    {
      "cell_type": "code",
      "execution_count": 84,
      "metadata": {
        "id": "8uU6PvbXu7BI"
      },
      "outputs": [],
      "source": [
        "columns=['price','host_exp','review_scores_rating','distance']"
      ]
    },
    {
      "cell_type": "code",
      "execution_count": 85,
      "metadata": {
        "id": "7Q5RyMOIwpnX"
      },
      "outputs": [],
      "source": [
        "import numpy as np"
      ]
    },
    {
      "cell_type": "code",
      "execution_count": 86,
      "metadata": {
        "colab": {
          "base_uri": "https://localhost:8080/"
        },
        "id": "pHys-dvYwyBn",
        "outputId": "ec7665fc-4e53-4909-c28c-b87b0170e28e"
      },
      "outputs": [
        {
          "output_type": "execute_result",
          "data": {
            "text/plain": [
              "array([0.2, 0.4, 0.6, 0.8, 1. ])"
            ]
          },
          "metadata": {},
          "execution_count": 86
        }
      ],
      "source": [
        "quantiles = np.linspace(0.2, 1, 5)\n",
        "quantiles"
      ]
    },
    {
      "cell_type": "code",
      "execution_count": 87,
      "metadata": {
        "colab": {
          "base_uri": "https://localhost:8080/",
          "height": 206
        },
        "id": "iCWYkzw6uNVh",
        "outputId": "ddfe284c-c7b0-4a14-b933-b3e7fec36e83"
      },
      "outputs": [
        {
          "output_type": "execute_result",
          "data": {
            "text/plain": [
              "   price  host_exp  review_scores_rating  distance\n",
              "0   30.0       4.0                 4.670    0.1706\n",
              "1   40.0       5.0                 4.820    0.2780\n",
              "2   50.0       7.0                 4.918    0.5080\n",
              "3   67.0       9.0                 5.000    0.9604\n",
              "4  307.0      14.0                 5.000   11.6460"
            ],
            "text/html": [
              "\n",
              "  <div id=\"df-68e68d24-db4f-4941-9ccf-c156601c1e9a\" class=\"colab-df-container\">\n",
              "    <div>\n",
              "<style scoped>\n",
              "    .dataframe tbody tr th:only-of-type {\n",
              "        vertical-align: middle;\n",
              "    }\n",
              "\n",
              "    .dataframe tbody tr th {\n",
              "        vertical-align: top;\n",
              "    }\n",
              "\n",
              "    .dataframe thead th {\n",
              "        text-align: right;\n",
              "    }\n",
              "</style>\n",
              "<table border=\"1\" class=\"dataframe\">\n",
              "  <thead>\n",
              "    <tr style=\"text-align: right;\">\n",
              "      <th></th>\n",
              "      <th>price</th>\n",
              "      <th>host_exp</th>\n",
              "      <th>review_scores_rating</th>\n",
              "      <th>distance</th>\n",
              "    </tr>\n",
              "  </thead>\n",
              "  <tbody>\n",
              "    <tr>\n",
              "      <th>0</th>\n",
              "      <td>30.0</td>\n",
              "      <td>4.0</td>\n",
              "      <td>4.670</td>\n",
              "      <td>0.1706</td>\n",
              "    </tr>\n",
              "    <tr>\n",
              "      <th>1</th>\n",
              "      <td>40.0</td>\n",
              "      <td>5.0</td>\n",
              "      <td>4.820</td>\n",
              "      <td>0.2780</td>\n",
              "    </tr>\n",
              "    <tr>\n",
              "      <th>2</th>\n",
              "      <td>50.0</td>\n",
              "      <td>7.0</td>\n",
              "      <td>4.918</td>\n",
              "      <td>0.5080</td>\n",
              "    </tr>\n",
              "    <tr>\n",
              "      <th>3</th>\n",
              "      <td>67.0</td>\n",
              "      <td>9.0</td>\n",
              "      <td>5.000</td>\n",
              "      <td>0.9604</td>\n",
              "    </tr>\n",
              "    <tr>\n",
              "      <th>4</th>\n",
              "      <td>307.0</td>\n",
              "      <td>14.0</td>\n",
              "      <td>5.000</td>\n",
              "      <td>11.6460</td>\n",
              "    </tr>\n",
              "  </tbody>\n",
              "</table>\n",
              "</div>\n",
              "    <div class=\"colab-df-buttons\">\n",
              "\n",
              "  <div class=\"colab-df-container\">\n",
              "    <button class=\"colab-df-convert\" onclick=\"convertToInteractive('df-68e68d24-db4f-4941-9ccf-c156601c1e9a')\"\n",
              "            title=\"Convert this dataframe to an interactive table.\"\n",
              "            style=\"display:none;\">\n",
              "\n",
              "  <svg xmlns=\"http://www.w3.org/2000/svg\" height=\"24px\" viewBox=\"0 -960 960 960\">\n",
              "    <path d=\"M120-120v-720h720v720H120Zm60-500h600v-160H180v160Zm220 220h160v-160H400v160Zm0 220h160v-160H400v160ZM180-400h160v-160H180v160Zm440 0h160v-160H620v160ZM180-180h160v-160H180v160Zm440 0h160v-160H620v160Z\"/>\n",
              "  </svg>\n",
              "    </button>\n",
              "\n",
              "  <style>\n",
              "    .colab-df-container {\n",
              "      display:flex;\n",
              "      gap: 12px;\n",
              "    }\n",
              "\n",
              "    .colab-df-convert {\n",
              "      background-color: #E8F0FE;\n",
              "      border: none;\n",
              "      border-radius: 50%;\n",
              "      cursor: pointer;\n",
              "      display: none;\n",
              "      fill: #1967D2;\n",
              "      height: 32px;\n",
              "      padding: 0 0 0 0;\n",
              "      width: 32px;\n",
              "    }\n",
              "\n",
              "    .colab-df-convert:hover {\n",
              "      background-color: #E2EBFA;\n",
              "      box-shadow: 0px 1px 2px rgba(60, 64, 67, 0.3), 0px 1px 3px 1px rgba(60, 64, 67, 0.15);\n",
              "      fill: #174EA6;\n",
              "    }\n",
              "\n",
              "    .colab-df-buttons div {\n",
              "      margin-bottom: 4px;\n",
              "    }\n",
              "\n",
              "    [theme=dark] .colab-df-convert {\n",
              "      background-color: #3B4455;\n",
              "      fill: #D2E3FC;\n",
              "    }\n",
              "\n",
              "    [theme=dark] .colab-df-convert:hover {\n",
              "      background-color: #434B5C;\n",
              "      box-shadow: 0px 1px 3px 1px rgba(0, 0, 0, 0.15);\n",
              "      filter: drop-shadow(0px 1px 2px rgba(0, 0, 0, 0.3));\n",
              "      fill: #FFFFFF;\n",
              "    }\n",
              "  </style>\n",
              "\n",
              "    <script>\n",
              "      const buttonEl =\n",
              "        document.querySelector('#df-68e68d24-db4f-4941-9ccf-c156601c1e9a button.colab-df-convert');\n",
              "      buttonEl.style.display =\n",
              "        google.colab.kernel.accessAllowed ? 'block' : 'none';\n",
              "\n",
              "      async function convertToInteractive(key) {\n",
              "        const element = document.querySelector('#df-68e68d24-db4f-4941-9ccf-c156601c1e9a');\n",
              "        const dataTable =\n",
              "          await google.colab.kernel.invokeFunction('convertToInteractive',\n",
              "                                                    [key], {});\n",
              "        if (!dataTable) return;\n",
              "\n",
              "        const docLinkHtml = 'Like what you see? Visit the ' +\n",
              "          '<a target=\"_blank\" href=https://colab.research.google.com/notebooks/data_table.ipynb>data table notebook</a>'\n",
              "          + ' to learn more about interactive tables.';\n",
              "        element.innerHTML = '';\n",
              "        dataTable['output_type'] = 'display_data';\n",
              "        await google.colab.output.renderOutput(dataTable, element);\n",
              "        const docLink = document.createElement('div');\n",
              "        docLink.innerHTML = docLinkHtml;\n",
              "        element.appendChild(docLink);\n",
              "      }\n",
              "    </script>\n",
              "  </div>\n",
              "\n",
              "\n",
              "<div id=\"df-e64646d1-a240-4423-803d-3401a50bedf0\">\n",
              "  <button class=\"colab-df-quickchart\" onclick=\"quickchart('df-e64646d1-a240-4423-803d-3401a50bedf0')\"\n",
              "            title=\"Suggest charts.\"\n",
              "            style=\"display:none;\">\n",
              "\n",
              "<svg xmlns=\"http://www.w3.org/2000/svg\" height=\"24px\"viewBox=\"0 0 24 24\"\n",
              "     width=\"24px\">\n",
              "    <g>\n",
              "        <path d=\"M19 3H5c-1.1 0-2 .9-2 2v14c0 1.1.9 2 2 2h14c1.1 0 2-.9 2-2V5c0-1.1-.9-2-2-2zM9 17H7v-7h2v7zm4 0h-2V7h2v10zm4 0h-2v-4h2v4z\"/>\n",
              "    </g>\n",
              "</svg>\n",
              "  </button>\n",
              "\n",
              "<style>\n",
              "  .colab-df-quickchart {\n",
              "      --bg-color: #E8F0FE;\n",
              "      --fill-color: #1967D2;\n",
              "      --hover-bg-color: #E2EBFA;\n",
              "      --hover-fill-color: #174EA6;\n",
              "      --disabled-fill-color: #AAA;\n",
              "      --disabled-bg-color: #DDD;\n",
              "  }\n",
              "\n",
              "  [theme=dark] .colab-df-quickchart {\n",
              "      --bg-color: #3B4455;\n",
              "      --fill-color: #D2E3FC;\n",
              "      --hover-bg-color: #434B5C;\n",
              "      --hover-fill-color: #FFFFFF;\n",
              "      --disabled-bg-color: #3B4455;\n",
              "      --disabled-fill-color: #666;\n",
              "  }\n",
              "\n",
              "  .colab-df-quickchart {\n",
              "    background-color: var(--bg-color);\n",
              "    border: none;\n",
              "    border-radius: 50%;\n",
              "    cursor: pointer;\n",
              "    display: none;\n",
              "    fill: var(--fill-color);\n",
              "    height: 32px;\n",
              "    padding: 0;\n",
              "    width: 32px;\n",
              "  }\n",
              "\n",
              "  .colab-df-quickchart:hover {\n",
              "    background-color: var(--hover-bg-color);\n",
              "    box-shadow: 0 1px 2px rgba(60, 64, 67, 0.3), 0 1px 3px 1px rgba(60, 64, 67, 0.15);\n",
              "    fill: var(--button-hover-fill-color);\n",
              "  }\n",
              "\n",
              "  .colab-df-quickchart-complete:disabled,\n",
              "  .colab-df-quickchart-complete:disabled:hover {\n",
              "    background-color: var(--disabled-bg-color);\n",
              "    fill: var(--disabled-fill-color);\n",
              "    box-shadow: none;\n",
              "  }\n",
              "\n",
              "  .colab-df-spinner {\n",
              "    border: 2px solid var(--fill-color);\n",
              "    border-color: transparent;\n",
              "    border-bottom-color: var(--fill-color);\n",
              "    animation:\n",
              "      spin 1s steps(1) infinite;\n",
              "  }\n",
              "\n",
              "  @keyframes spin {\n",
              "    0% {\n",
              "      border-color: transparent;\n",
              "      border-bottom-color: var(--fill-color);\n",
              "      border-left-color: var(--fill-color);\n",
              "    }\n",
              "    20% {\n",
              "      border-color: transparent;\n",
              "      border-left-color: var(--fill-color);\n",
              "      border-top-color: var(--fill-color);\n",
              "    }\n",
              "    30% {\n",
              "      border-color: transparent;\n",
              "      border-left-color: var(--fill-color);\n",
              "      border-top-color: var(--fill-color);\n",
              "      border-right-color: var(--fill-color);\n",
              "    }\n",
              "    40% {\n",
              "      border-color: transparent;\n",
              "      border-right-color: var(--fill-color);\n",
              "      border-top-color: var(--fill-color);\n",
              "    }\n",
              "    60% {\n",
              "      border-color: transparent;\n",
              "      border-right-color: var(--fill-color);\n",
              "    }\n",
              "    80% {\n",
              "      border-color: transparent;\n",
              "      border-right-color: var(--fill-color);\n",
              "      border-bottom-color: var(--fill-color);\n",
              "    }\n",
              "    90% {\n",
              "      border-color: transparent;\n",
              "      border-bottom-color: var(--fill-color);\n",
              "    }\n",
              "  }\n",
              "</style>\n",
              "\n",
              "  <script>\n",
              "    async function quickchart(key) {\n",
              "      const quickchartButtonEl =\n",
              "        document.querySelector('#' + key + ' button');\n",
              "      quickchartButtonEl.disabled = true;  // To prevent multiple clicks.\n",
              "      quickchartButtonEl.classList.add('colab-df-spinner');\n",
              "      try {\n",
              "        const charts = await google.colab.kernel.invokeFunction(\n",
              "            'suggestCharts', [key], {});\n",
              "      } catch (error) {\n",
              "        console.error('Error during call to suggestCharts:', error);\n",
              "      }\n",
              "      quickchartButtonEl.classList.remove('colab-df-spinner');\n",
              "      quickchartButtonEl.classList.add('colab-df-quickchart-complete');\n",
              "    }\n",
              "    (() => {\n",
              "      let quickchartButtonEl =\n",
              "        document.querySelector('#df-e64646d1-a240-4423-803d-3401a50bedf0 button');\n",
              "      quickchartButtonEl.style.display =\n",
              "        google.colab.kernel.accessAllowed ? 'block' : 'none';\n",
              "    })();\n",
              "  </script>\n",
              "</div>\n",
              "    </div>\n",
              "  </div>\n"
            ]
          },
          "metadata": {},
          "execution_count": 87
        }
      ],
      "source": [
        "df_threshold = df1[columns].quantile(quantiles)\n",
        "df_threshold = df_threshold.reset_index(drop = True)\n",
        "df_threshold"
      ]
    },
    {
      "cell_type": "code",
      "execution_count": 88,
      "metadata": {
        "id": "B1m6ziYCw8NZ"
      },
      "outputs": [],
      "source": [
        "def calc_attractiveness(\n",
        "        data: pd.DataFrame,\n",
        "        df_threshold: pd.DataFrame,\n",
        "    ) -> pd.Series:\n",
        "\n",
        "    for column in df_threshold.columns:\n",
        "        for idx, threshold in enumerate(df_threshold[column]):\n",
        "            if idx == 0:\n",
        "                boolean_series = data[column] <= threshold\n",
        "            else:\n",
        "                boolean_series = data[column].between(\n",
        "                    df_threshold.loc[idx-1, column],\n",
        "                    df_threshold.loc[idx, column]\n",
        "                )\n",
        "\n",
        "            if f'{column}_Score' not in data.columns:\n",
        "                data[f'{column}_Score'] = 8 # placeholder to create column\n",
        "            data.loc[boolean_series, f'{column}_Score'] = idx + 1\n",
        "\n",
        "    return data"
      ]
    },
    {
      "cell_type": "code",
      "execution_count": 89,
      "metadata": {
        "id": "qRknd0rp0kPa"
      },
      "outputs": [],
      "source": [
        "# Create new df 'result'\n",
        "result = calc_attractiveness(df1, df_threshold)"
      ]
    },
    {
      "cell_type": "code",
      "execution_count": 90,
      "metadata": {
        "colab": {
          "base_uri": "https://localhost:8080/",
          "height": 320
        },
        "id": "99_sM7ob60B3",
        "outputId": "1ad80080-69c3-4365-be08-159a7a33ef6a"
      },
      "outputs": [
        {
          "output_type": "execute_result",
          "data": {
            "text/plain": [
              "                 id  host_is_superhost  accommodates       price  \\\n",
              "count  9.040000e+02         904.000000    904.000000  904.000000   \n",
              "mean   2.828624e+17           0.403761      1.926991   51.090708   \n",
              "std    3.656926e+17           0.490922      0.260295   28.493915   \n",
              "min    2.113400e+04           0.000000      1.000000   10.000000   \n",
              "25%    3.217335e+07           0.000000      2.000000   33.000000   \n",
              "50%    4.872482e+07           0.000000      2.000000   45.000000   \n",
              "75%    6.755762e+17           1.000000      2.000000   61.000000   \n",
              "max    9.120969e+17           1.000000      2.000000  307.000000   \n",
              "\n",
              "       number_of_reviews  review_scores_rating    latitude   longitude  \\\n",
              "count         904.000000            904.000000  904.000000  904.000000   \n",
              "mean           45.564159              4.776117   56.954006   24.123945   \n",
              "std            73.358721              0.353148    0.015208    0.028219   \n",
              "min             1.000000              1.000000   56.899390   23.992580   \n",
              "25%             5.000000              4.700000   56.948837   24.110023   \n",
              "50%            18.000000              4.860000   56.952065   24.124020   \n",
              "75%            52.000000              5.000000   56.957583   24.139105   \n",
              "max           556.000000              5.000000   57.074460   24.250110   \n",
              "\n",
              "         host_exp    distance  count_of_cwp_0.5km  price_Score  \\\n",
              "count  904.000000  904.000000          904.000000   904.000000   \n",
              "mean     5.776549    0.760442            1.502212     3.071903   \n",
              "std      2.949344    1.230812            1.597338     1.367365   \n",
              "min      0.000000    0.006000            0.000000     1.000000   \n",
              "25%      4.000000    0.195500            0.000000     2.000000   \n",
              "50%      5.000000    0.379000            1.000000     3.000000   \n",
              "75%      8.000000    0.810250            3.000000     4.000000   \n",
              "max     14.000000   11.646000            6.000000     5.000000   \n",
              "\n",
              "       host_exp_Score  review_scores_rating_Score  distance_Score  \n",
              "count      904.000000                  904.000000      904.000000  \n",
              "mean         3.080752                    3.075221        3.003319  \n",
              "std          1.394144                    1.481852        1.415384  \n",
              "min          1.000000                    1.000000        1.000000  \n",
              "25%          2.000000                    2.000000        2.000000  \n",
              "50%          3.000000                    3.000000        3.000000  \n",
              "75%          4.000000                    5.000000        4.000000  \n",
              "max          5.000000                    5.000000        5.000000  "
            ],
            "text/html": [
              "\n",
              "  <div id=\"df-25856e04-e6f1-4aa0-bf61-87f2a1a2c216\" class=\"colab-df-container\">\n",
              "    <div>\n",
              "<style scoped>\n",
              "    .dataframe tbody tr th:only-of-type {\n",
              "        vertical-align: middle;\n",
              "    }\n",
              "\n",
              "    .dataframe tbody tr th {\n",
              "        vertical-align: top;\n",
              "    }\n",
              "\n",
              "    .dataframe thead th {\n",
              "        text-align: right;\n",
              "    }\n",
              "</style>\n",
              "<table border=\"1\" class=\"dataframe\">\n",
              "  <thead>\n",
              "    <tr style=\"text-align: right;\">\n",
              "      <th></th>\n",
              "      <th>id</th>\n",
              "      <th>host_is_superhost</th>\n",
              "      <th>accommodates</th>\n",
              "      <th>price</th>\n",
              "      <th>number_of_reviews</th>\n",
              "      <th>review_scores_rating</th>\n",
              "      <th>latitude</th>\n",
              "      <th>longitude</th>\n",
              "      <th>host_exp</th>\n",
              "      <th>distance</th>\n",
              "      <th>count_of_cwp_0.5km</th>\n",
              "      <th>price_Score</th>\n",
              "      <th>host_exp_Score</th>\n",
              "      <th>review_scores_rating_Score</th>\n",
              "      <th>distance_Score</th>\n",
              "    </tr>\n",
              "  </thead>\n",
              "  <tbody>\n",
              "    <tr>\n",
              "      <th>count</th>\n",
              "      <td>9.040000e+02</td>\n",
              "      <td>904.000000</td>\n",
              "      <td>904.000000</td>\n",
              "      <td>904.000000</td>\n",
              "      <td>904.000000</td>\n",
              "      <td>904.000000</td>\n",
              "      <td>904.000000</td>\n",
              "      <td>904.000000</td>\n",
              "      <td>904.000000</td>\n",
              "      <td>904.000000</td>\n",
              "      <td>904.000000</td>\n",
              "      <td>904.000000</td>\n",
              "      <td>904.000000</td>\n",
              "      <td>904.000000</td>\n",
              "      <td>904.000000</td>\n",
              "    </tr>\n",
              "    <tr>\n",
              "      <th>mean</th>\n",
              "      <td>2.828624e+17</td>\n",
              "      <td>0.403761</td>\n",
              "      <td>1.926991</td>\n",
              "      <td>51.090708</td>\n",
              "      <td>45.564159</td>\n",
              "      <td>4.776117</td>\n",
              "      <td>56.954006</td>\n",
              "      <td>24.123945</td>\n",
              "      <td>5.776549</td>\n",
              "      <td>0.760442</td>\n",
              "      <td>1.502212</td>\n",
              "      <td>3.071903</td>\n",
              "      <td>3.080752</td>\n",
              "      <td>3.075221</td>\n",
              "      <td>3.003319</td>\n",
              "    </tr>\n",
              "    <tr>\n",
              "      <th>std</th>\n",
              "      <td>3.656926e+17</td>\n",
              "      <td>0.490922</td>\n",
              "      <td>0.260295</td>\n",
              "      <td>28.493915</td>\n",
              "      <td>73.358721</td>\n",
              "      <td>0.353148</td>\n",
              "      <td>0.015208</td>\n",
              "      <td>0.028219</td>\n",
              "      <td>2.949344</td>\n",
              "      <td>1.230812</td>\n",
              "      <td>1.597338</td>\n",
              "      <td>1.367365</td>\n",
              "      <td>1.394144</td>\n",
              "      <td>1.481852</td>\n",
              "      <td>1.415384</td>\n",
              "    </tr>\n",
              "    <tr>\n",
              "      <th>min</th>\n",
              "      <td>2.113400e+04</td>\n",
              "      <td>0.000000</td>\n",
              "      <td>1.000000</td>\n",
              "      <td>10.000000</td>\n",
              "      <td>1.000000</td>\n",
              "      <td>1.000000</td>\n",
              "      <td>56.899390</td>\n",
              "      <td>23.992580</td>\n",
              "      <td>0.000000</td>\n",
              "      <td>0.006000</td>\n",
              "      <td>0.000000</td>\n",
              "      <td>1.000000</td>\n",
              "      <td>1.000000</td>\n",
              "      <td>1.000000</td>\n",
              "      <td>1.000000</td>\n",
              "    </tr>\n",
              "    <tr>\n",
              "      <th>25%</th>\n",
              "      <td>3.217335e+07</td>\n",
              "      <td>0.000000</td>\n",
              "      <td>2.000000</td>\n",
              "      <td>33.000000</td>\n",
              "      <td>5.000000</td>\n",
              "      <td>4.700000</td>\n",
              "      <td>56.948837</td>\n",
              "      <td>24.110023</td>\n",
              "      <td>4.000000</td>\n",
              "      <td>0.195500</td>\n",
              "      <td>0.000000</td>\n",
              "      <td>2.000000</td>\n",
              "      <td>2.000000</td>\n",
              "      <td>2.000000</td>\n",
              "      <td>2.000000</td>\n",
              "    </tr>\n",
              "    <tr>\n",
              "      <th>50%</th>\n",
              "      <td>4.872482e+07</td>\n",
              "      <td>0.000000</td>\n",
              "      <td>2.000000</td>\n",
              "      <td>45.000000</td>\n",
              "      <td>18.000000</td>\n",
              "      <td>4.860000</td>\n",
              "      <td>56.952065</td>\n",
              "      <td>24.124020</td>\n",
              "      <td>5.000000</td>\n",
              "      <td>0.379000</td>\n",
              "      <td>1.000000</td>\n",
              "      <td>3.000000</td>\n",
              "      <td>3.000000</td>\n",
              "      <td>3.000000</td>\n",
              "      <td>3.000000</td>\n",
              "    </tr>\n",
              "    <tr>\n",
              "      <th>75%</th>\n",
              "      <td>6.755762e+17</td>\n",
              "      <td>1.000000</td>\n",
              "      <td>2.000000</td>\n",
              "      <td>61.000000</td>\n",
              "      <td>52.000000</td>\n",
              "      <td>5.000000</td>\n",
              "      <td>56.957583</td>\n",
              "      <td>24.139105</td>\n",
              "      <td>8.000000</td>\n",
              "      <td>0.810250</td>\n",
              "      <td>3.000000</td>\n",
              "      <td>4.000000</td>\n",
              "      <td>4.000000</td>\n",
              "      <td>5.000000</td>\n",
              "      <td>4.000000</td>\n",
              "    </tr>\n",
              "    <tr>\n",
              "      <th>max</th>\n",
              "      <td>9.120969e+17</td>\n",
              "      <td>1.000000</td>\n",
              "      <td>2.000000</td>\n",
              "      <td>307.000000</td>\n",
              "      <td>556.000000</td>\n",
              "      <td>5.000000</td>\n",
              "      <td>57.074460</td>\n",
              "      <td>24.250110</td>\n",
              "      <td>14.000000</td>\n",
              "      <td>11.646000</td>\n",
              "      <td>6.000000</td>\n",
              "      <td>5.000000</td>\n",
              "      <td>5.000000</td>\n",
              "      <td>5.000000</td>\n",
              "      <td>5.000000</td>\n",
              "    </tr>\n",
              "  </tbody>\n",
              "</table>\n",
              "</div>\n",
              "    <div class=\"colab-df-buttons\">\n",
              "\n",
              "  <div class=\"colab-df-container\">\n",
              "    <button class=\"colab-df-convert\" onclick=\"convertToInteractive('df-25856e04-e6f1-4aa0-bf61-87f2a1a2c216')\"\n",
              "            title=\"Convert this dataframe to an interactive table.\"\n",
              "            style=\"display:none;\">\n",
              "\n",
              "  <svg xmlns=\"http://www.w3.org/2000/svg\" height=\"24px\" viewBox=\"0 -960 960 960\">\n",
              "    <path d=\"M120-120v-720h720v720H120Zm60-500h600v-160H180v160Zm220 220h160v-160H400v160Zm0 220h160v-160H400v160ZM180-400h160v-160H180v160Zm440 0h160v-160H620v160ZM180-180h160v-160H180v160Zm440 0h160v-160H620v160Z\"/>\n",
              "  </svg>\n",
              "    </button>\n",
              "\n",
              "  <style>\n",
              "    .colab-df-container {\n",
              "      display:flex;\n",
              "      gap: 12px;\n",
              "    }\n",
              "\n",
              "    .colab-df-convert {\n",
              "      background-color: #E8F0FE;\n",
              "      border: none;\n",
              "      border-radius: 50%;\n",
              "      cursor: pointer;\n",
              "      display: none;\n",
              "      fill: #1967D2;\n",
              "      height: 32px;\n",
              "      padding: 0 0 0 0;\n",
              "      width: 32px;\n",
              "    }\n",
              "\n",
              "    .colab-df-convert:hover {\n",
              "      background-color: #E2EBFA;\n",
              "      box-shadow: 0px 1px 2px rgba(60, 64, 67, 0.3), 0px 1px 3px 1px rgba(60, 64, 67, 0.15);\n",
              "      fill: #174EA6;\n",
              "    }\n",
              "\n",
              "    .colab-df-buttons div {\n",
              "      margin-bottom: 4px;\n",
              "    }\n",
              "\n",
              "    [theme=dark] .colab-df-convert {\n",
              "      background-color: #3B4455;\n",
              "      fill: #D2E3FC;\n",
              "    }\n",
              "\n",
              "    [theme=dark] .colab-df-convert:hover {\n",
              "      background-color: #434B5C;\n",
              "      box-shadow: 0px 1px 3px 1px rgba(0, 0, 0, 0.15);\n",
              "      filter: drop-shadow(0px 1px 2px rgba(0, 0, 0, 0.3));\n",
              "      fill: #FFFFFF;\n",
              "    }\n",
              "  </style>\n",
              "\n",
              "    <script>\n",
              "      const buttonEl =\n",
              "        document.querySelector('#df-25856e04-e6f1-4aa0-bf61-87f2a1a2c216 button.colab-df-convert');\n",
              "      buttonEl.style.display =\n",
              "        google.colab.kernel.accessAllowed ? 'block' : 'none';\n",
              "\n",
              "      async function convertToInteractive(key) {\n",
              "        const element = document.querySelector('#df-25856e04-e6f1-4aa0-bf61-87f2a1a2c216');\n",
              "        const dataTable =\n",
              "          await google.colab.kernel.invokeFunction('convertToInteractive',\n",
              "                                                    [key], {});\n",
              "        if (!dataTable) return;\n",
              "\n",
              "        const docLinkHtml = 'Like what you see? Visit the ' +\n",
              "          '<a target=\"_blank\" href=https://colab.research.google.com/notebooks/data_table.ipynb>data table notebook</a>'\n",
              "          + ' to learn more about interactive tables.';\n",
              "        element.innerHTML = '';\n",
              "        dataTable['output_type'] = 'display_data';\n",
              "        await google.colab.output.renderOutput(dataTable, element);\n",
              "        const docLink = document.createElement('div');\n",
              "        docLink.innerHTML = docLinkHtml;\n",
              "        element.appendChild(docLink);\n",
              "      }\n",
              "    </script>\n",
              "  </div>\n",
              "\n",
              "\n",
              "<div id=\"df-8058cf10-0afd-4bae-9d20-3174618f4e88\">\n",
              "  <button class=\"colab-df-quickchart\" onclick=\"quickchart('df-8058cf10-0afd-4bae-9d20-3174618f4e88')\"\n",
              "            title=\"Suggest charts.\"\n",
              "            style=\"display:none;\">\n",
              "\n",
              "<svg xmlns=\"http://www.w3.org/2000/svg\" height=\"24px\"viewBox=\"0 0 24 24\"\n",
              "     width=\"24px\">\n",
              "    <g>\n",
              "        <path d=\"M19 3H5c-1.1 0-2 .9-2 2v14c0 1.1.9 2 2 2h14c1.1 0 2-.9 2-2V5c0-1.1-.9-2-2-2zM9 17H7v-7h2v7zm4 0h-2V7h2v10zm4 0h-2v-4h2v4z\"/>\n",
              "    </g>\n",
              "</svg>\n",
              "  </button>\n",
              "\n",
              "<style>\n",
              "  .colab-df-quickchart {\n",
              "      --bg-color: #E8F0FE;\n",
              "      --fill-color: #1967D2;\n",
              "      --hover-bg-color: #E2EBFA;\n",
              "      --hover-fill-color: #174EA6;\n",
              "      --disabled-fill-color: #AAA;\n",
              "      --disabled-bg-color: #DDD;\n",
              "  }\n",
              "\n",
              "  [theme=dark] .colab-df-quickchart {\n",
              "      --bg-color: #3B4455;\n",
              "      --fill-color: #D2E3FC;\n",
              "      --hover-bg-color: #434B5C;\n",
              "      --hover-fill-color: #FFFFFF;\n",
              "      --disabled-bg-color: #3B4455;\n",
              "      --disabled-fill-color: #666;\n",
              "  }\n",
              "\n",
              "  .colab-df-quickchart {\n",
              "    background-color: var(--bg-color);\n",
              "    border: none;\n",
              "    border-radius: 50%;\n",
              "    cursor: pointer;\n",
              "    display: none;\n",
              "    fill: var(--fill-color);\n",
              "    height: 32px;\n",
              "    padding: 0;\n",
              "    width: 32px;\n",
              "  }\n",
              "\n",
              "  .colab-df-quickchart:hover {\n",
              "    background-color: var(--hover-bg-color);\n",
              "    box-shadow: 0 1px 2px rgba(60, 64, 67, 0.3), 0 1px 3px 1px rgba(60, 64, 67, 0.15);\n",
              "    fill: var(--button-hover-fill-color);\n",
              "  }\n",
              "\n",
              "  .colab-df-quickchart-complete:disabled,\n",
              "  .colab-df-quickchart-complete:disabled:hover {\n",
              "    background-color: var(--disabled-bg-color);\n",
              "    fill: var(--disabled-fill-color);\n",
              "    box-shadow: none;\n",
              "  }\n",
              "\n",
              "  .colab-df-spinner {\n",
              "    border: 2px solid var(--fill-color);\n",
              "    border-color: transparent;\n",
              "    border-bottom-color: var(--fill-color);\n",
              "    animation:\n",
              "      spin 1s steps(1) infinite;\n",
              "  }\n",
              "\n",
              "  @keyframes spin {\n",
              "    0% {\n",
              "      border-color: transparent;\n",
              "      border-bottom-color: var(--fill-color);\n",
              "      border-left-color: var(--fill-color);\n",
              "    }\n",
              "    20% {\n",
              "      border-color: transparent;\n",
              "      border-left-color: var(--fill-color);\n",
              "      border-top-color: var(--fill-color);\n",
              "    }\n",
              "    30% {\n",
              "      border-color: transparent;\n",
              "      border-left-color: var(--fill-color);\n",
              "      border-top-color: var(--fill-color);\n",
              "      border-right-color: var(--fill-color);\n",
              "    }\n",
              "    40% {\n",
              "      border-color: transparent;\n",
              "      border-right-color: var(--fill-color);\n",
              "      border-top-color: var(--fill-color);\n",
              "    }\n",
              "    60% {\n",
              "      border-color: transparent;\n",
              "      border-right-color: var(--fill-color);\n",
              "    }\n",
              "    80% {\n",
              "      border-color: transparent;\n",
              "      border-right-color: var(--fill-color);\n",
              "      border-bottom-color: var(--fill-color);\n",
              "    }\n",
              "    90% {\n",
              "      border-color: transparent;\n",
              "      border-bottom-color: var(--fill-color);\n",
              "    }\n",
              "  }\n",
              "</style>\n",
              "\n",
              "  <script>\n",
              "    async function quickchart(key) {\n",
              "      const quickchartButtonEl =\n",
              "        document.querySelector('#' + key + ' button');\n",
              "      quickchartButtonEl.disabled = true;  // To prevent multiple clicks.\n",
              "      quickchartButtonEl.classList.add('colab-df-spinner');\n",
              "      try {\n",
              "        const charts = await google.colab.kernel.invokeFunction(\n",
              "            'suggestCharts', [key], {});\n",
              "      } catch (error) {\n",
              "        console.error('Error during call to suggestCharts:', error);\n",
              "      }\n",
              "      quickchartButtonEl.classList.remove('colab-df-spinner');\n",
              "      quickchartButtonEl.classList.add('colab-df-quickchart-complete');\n",
              "    }\n",
              "    (() => {\n",
              "      let quickchartButtonEl =\n",
              "        document.querySelector('#df-8058cf10-0afd-4bae-9d20-3174618f4e88 button');\n",
              "      quickchartButtonEl.style.display =\n",
              "        google.colab.kernel.accessAllowed ? 'block' : 'none';\n",
              "    })();\n",
              "  </script>\n",
              "</div>\n",
              "    </div>\n",
              "  </div>\n"
            ]
          },
          "metadata": {},
          "execution_count": 90
        }
      ],
      "source": [
        "result.describe()"
      ]
    },
    {
      "cell_type": "code",
      "execution_count": 91,
      "metadata": {
        "colab": {
          "base_uri": "https://localhost:8080/"
        },
        "id": "30h0PrKy1CSh",
        "outputId": "75577f72-c0bc-4fa2-cdc6-3ec2b41ab4ec"
      },
      "outputs": [
        {
          "output_type": "execute_result",
          "data": {
            "text/plain": [
              "Index(['id', 'listing_url', 'name', 'host_since', 'host_is_superhost',\n",
              "       'neighbourhood', 'accommodates', 'amenities', 'price',\n",
              "       'number_of_reviews', 'review_scores_rating', 'latitude', 'longitude',\n",
              "       'host_exp', 'wifi', 'workspace', 'distance', 'count_of_cwp_0.5km',\n",
              "       'price_Score', 'host_exp_Score', 'review_scores_rating_Score',\n",
              "       'distance_Score'],\n",
              "      dtype='object')"
            ]
          },
          "metadata": {},
          "execution_count": 91
        }
      ],
      "source": [
        "result.columns"
      ]
    },
    {
      "cell_type": "code",
      "execution_count": 92,
      "metadata": {
        "id": "ZuOrP10oGij1"
      },
      "outputs": [],
      "source": [
        "reverse_price_quantile = result['price_Score'].map(lambda x: 5 - (x - 1))"
      ]
    },
    {
      "cell_type": "code",
      "execution_count": 93,
      "metadata": {
        "id": "1H25ij0kXd_T"
      },
      "outputs": [],
      "source": [
        "reverse_distance_quantile = result['distance_Score'].map(lambda x: 5 - (x - 1))"
      ]
    },
    {
      "cell_type": "code",
      "execution_count": 94,
      "metadata": {
        "colab": {
          "base_uri": "https://localhost:8080/"
        },
        "id": "gpLJGO9_BYBV",
        "outputId": "efe064fa-c7af-44ad-b696-9fbb6a667dfa"
      },
      "outputs": [
        {
          "output_type": "execute_result",
          "data": {
            "text/plain": [
              "0       3\n",
              "5       1\n",
              "9       5\n",
              "15      1\n",
              "19      3\n",
              "       ..\n",
              "2723    2\n",
              "2734    2\n",
              "2735    1\n",
              "2742    1\n",
              "2745    3\n",
              "Name: distance_Score, Length: 904, dtype: int64"
            ]
          },
          "metadata": {},
          "execution_count": 94
        }
      ],
      "source": [
        "reverse_distance_quantile"
      ]
    },
    {
      "cell_type": "code",
      "execution_count": 95,
      "metadata": {
        "id": "bwVseK66Z6H6"
      },
      "outputs": [],
      "source": [
        "result['final score'] = 0.5 * reverse_price_quantile + 0.25 * result['review_scores_rating_Score'] + 0.15 * reverse_distance_quantile + 0.1 * result['host_exp_Score']"
      ]
    },
    {
      "cell_type": "code",
      "execution_count": 96,
      "metadata": {
        "colab": {
          "base_uri": "https://localhost:8080/"
        },
        "id": "5jYPYoCx5njD",
        "outputId": "0273193c-28a1-43c7-b842-95b62fc18daa"
      },
      "outputs": [
        {
          "output_type": "execute_result",
          "data": {
            "text/plain": [
              "count    904.000000\n",
              "mean       2.488541\n",
              "std        0.687089\n",
              "min        0.950000\n",
              "25%        1.915125\n",
              "50%        2.501250\n",
              "75%        3.069375\n",
              "max        3.750000\n",
              "Name: final score, dtype: float64"
            ]
          },
          "metadata": {},
          "execution_count": 96
        }
      ],
      "source": [
        "result['final score'] = 0.5 * reverse_price_quantile +  0.1 * result['host_exp_Score'] + 0.15 * result['review_scores_rating']\n",
        "result['final score'].describe()"
      ]
    },
    {
      "cell_type": "code",
      "execution_count": 97,
      "metadata": {
        "colab": {
          "base_uri": "https://localhost:8080/"
        },
        "id": "vGlH9-Lw60B4",
        "outputId": "3408682e-734f-4a67-c144-3eb82abfda9e"
      },
      "outputs": [
        {
          "output_type": "execute_result",
          "data": {
            "text/plain": [
              "Riga, Latvia                508\n",
              "NaN                         394\n",
              "Riga, State Riga, Latvia      1\n",
              "Vecriga, Latvia               1\n",
              "Name: neighbourhood, dtype: int64"
            ]
          },
          "metadata": {},
          "execution_count": 97
        }
      ],
      "source": [
        "df1.neighbourhood.value_counts(dropna=False)"
      ]
    },
    {
      "cell_type": "code",
      "execution_count": 98,
      "metadata": {
        "colab": {
          "base_uri": "https://localhost:8080/",
          "height": 175
        },
        "id": "1aYovI4OKSN-",
        "outputId": "e4716c21-d5e0-4de8-c0a4-4f3b61da75b8"
      },
      "outputs": [
        {
          "output_type": "execute_result",
          "data": {
            "text/plain": [
              "<pandas.io.formats.style.Styler at 0x7c3d7f901ae0>"
            ],
            "text/html": [
              "<style type=\"text/css\">\n",
              "#T_25804_row0_col0, #T_25804_row1_col1, #T_25804_row1_col2, #T_25804_row1_col3 {\n",
              "  background-color: #fff7fb;\n",
              "  color: #000000;\n",
              "}\n",
              "#T_25804_row0_col1, #T_25804_row0_col3, #T_25804_row2_col0, #T_25804_row2_col1, #T_25804_row2_col2 {\n",
              "  background-color: #023858;\n",
              "  color: #f1f1f1;\n",
              "}\n",
              "#T_25804_row0_col2 {\n",
              "  background-color: #023f64;\n",
              "  color: #f1f1f1;\n",
              "}\n",
              "#T_25804_row1_col0 {\n",
              "  background-color: #2987bc;\n",
              "  color: #f1f1f1;\n",
              "}\n",
              "#T_25804_row2_col3 {\n",
              "  background-color: #d2d2e7;\n",
              "  color: #000000;\n",
              "}\n",
              "</style>\n",
              "<table id=\"T_25804\" class=\"dataframe\">\n",
              "  <thead>\n",
              "    <tr>\n",
              "      <th class=\"blank level0\" >&nbsp;</th>\n",
              "      <th id=\"T_25804_level0_col0\" class=\"col_heading level0 col0\" >min</th>\n",
              "      <th id=\"T_25804_level0_col1\" class=\"col_heading level0 col1\" >mean</th>\n",
              "      <th id=\"T_25804_level0_col2\" class=\"col_heading level0 col2\" >median</th>\n",
              "      <th id=\"T_25804_level0_col3\" class=\"col_heading level0 col3\" >max</th>\n",
              "    </tr>\n",
              "    <tr>\n",
              "      <th class=\"index_name level0\" >neighbourhood</th>\n",
              "      <th class=\"blank col0\" >&nbsp;</th>\n",
              "      <th class=\"blank col1\" >&nbsp;</th>\n",
              "      <th class=\"blank col2\" >&nbsp;</th>\n",
              "      <th class=\"blank col3\" >&nbsp;</th>\n",
              "    </tr>\n",
              "  </thead>\n",
              "  <tbody>\n",
              "    <tr>\n",
              "      <th id=\"T_25804_level0_row0\" class=\"row_heading level0 row0\" >Riga, Latvia</th>\n",
              "      <td id=\"T_25804_row0_col0\" class=\"data row0 col0\" >1.200000</td>\n",
              "      <td id=\"T_25804_row0_col1\" class=\"data row0 col1\" >2.443602</td>\n",
              "      <td id=\"T_25804_row0_col2\" class=\"data row0 col2\" >2.430500</td>\n",
              "      <td id=\"T_25804_row0_col3\" class=\"data row0 col3\" >3.750000</td>\n",
              "    </tr>\n",
              "    <tr>\n",
              "      <th id=\"T_25804_level0_row1\" class=\"row_heading level0 row1\" >Riga, State Riga, Latvia</th>\n",
              "      <td id=\"T_25804_row1_col0\" class=\"data row1 col0\" >2.017000</td>\n",
              "      <td id=\"T_25804_row1_col1\" class=\"data row1 col1\" >2.017000</td>\n",
              "      <td id=\"T_25804_row1_col2\" class=\"data row1 col2\" >2.017000</td>\n",
              "      <td id=\"T_25804_row1_col3\" class=\"data row1 col3\" >2.017000</td>\n",
              "    </tr>\n",
              "    <tr>\n",
              "      <th id=\"T_25804_level0_row2\" class=\"row_heading level0 row2\" >Vecriga, Latvia</th>\n",
              "      <td id=\"T_25804_row2_col0\" class=\"data row2 col0\" >2.442500</td>\n",
              "      <td id=\"T_25804_row2_col1\" class=\"data row2 col1\" >2.442500</td>\n",
              "      <td id=\"T_25804_row2_col2\" class=\"data row2 col2\" >2.442500</td>\n",
              "      <td id=\"T_25804_row2_col3\" class=\"data row2 col3\" >2.442500</td>\n",
              "    </tr>\n",
              "  </tbody>\n",
              "</table>\n"
            ]
          },
          "metadata": {},
          "execution_count": 98
        }
      ],
      "source": [
        "result.groupby(['neighbourhood'])['final score'].agg(['min','mean','median','max']).style.background_gradient()"
      ]
    },
    {
      "cell_type": "code",
      "execution_count": 99,
      "metadata": {
        "colab": {
          "base_uri": "https://localhost:8080/"
        },
        "id": "unvFbOnQ8mUj",
        "outputId": "fc579a17-6b14-4901-f5a6-fb8fb5649ffa"
      },
      "outputs": [
        {
          "output_type": "execute_result",
          "data": {
            "text/plain": [
              "Index(['id', 'listing_url', 'name', 'host_since', 'host_is_superhost',\n",
              "       'neighbourhood', 'accommodates', 'amenities', 'price',\n",
              "       'number_of_reviews', 'review_scores_rating', 'latitude', 'longitude',\n",
              "       'host_exp', 'wifi', 'workspace', 'distance', 'count_of_cwp_0.5km',\n",
              "       'price_Score', 'host_exp_Score', 'review_scores_rating_Score',\n",
              "       'distance_Score', 'final score'],\n",
              "      dtype='object')"
            ]
          },
          "metadata": {},
          "execution_count": 99
        }
      ],
      "source": [
        "df1.columns"
      ]
    },
    {
      "cell_type": "code",
      "execution_count": 100,
      "metadata": {
        "colab": {
          "base_uri": "https://localhost:8080/",
          "height": 817
        },
        "id": "sByO7WCvKSN_",
        "outputId": "b9d6b0c7-4247-4885-9eb8-6a832a99951c"
      },
      "outputs": [
        {
          "output_type": "display_data",
          "data": {
            "text/html": [
              "<html>\n",
              "<head><meta charset=\"utf-8\" /></head>\n",
              "<body>\n",
              "    <div>            <script src=\"https://cdnjs.cloudflare.com/ajax/libs/mathjax/2.7.5/MathJax.js?config=TeX-AMS-MML_SVG\"></script><script type=\"text/javascript\">if (window.MathJax && window.MathJax.Hub && window.MathJax.Hub.Config) {window.MathJax.Hub.Config({SVG: {font: \"STIX-Web\"}});}</script>                <script type=\"text/javascript\">window.PlotlyConfig = {MathJaxConfig: 'local'};</script>\n",
              "        <script charset=\"utf-8\" src=\"https://cdn.plot.ly/plotly-2.24.1.min.js\"></script>                <div id=\"118a3ee1-99d3-45ec-bba1-122dbd3c83db\" class=\"plotly-graph-div\" style=\"height:800px; width:1000px;\"></div>            <script type=\"text/javascript\">                                    window.PLOTLYENV=window.PLOTLYENV || {};                                    if (document.getElementById(\"118a3ee1-99d3-45ec-bba1-122dbd3c83db\")) {                    Plotly.newPlot(                        \"118a3ee1-99d3-45ec-bba1-122dbd3c83db\",                        [{\"coloraxis\":\"coloraxis\",\"customdata\":[[1.6425,\"0.4187495170436463,1.2152211746573816\",0],[1.544,\"0.4187495170436463,1.2172972091071834\",0],[3.45,\"0.41889934192470135,1.2154806789636068\",0],[2.85,\"0.4191989916868114,1.2149616703511563\",0],[2.9749999999999996,\"0.4193488165678664,1.2144426617387056\",0],[1.55,\"0.4193488165678664,1.2147021660449309\",0],[1.8250000000000002,\"0.4193488165678664,1.2154806789636068\",0],[2.05,\"0.4194986414489214,1.2152211746573816\",0],[1.7999999999999998,\"0.41979829121103146,1.2144426617387056\",0],[3.138,\"0.41979829121103146,1.2149616703511563\",0],[2.2365,\"0.41979829121103146,1.2152211746573816\",0],[2.05,\"0.41979829121103146,1.215740183269832\",0],[2.93725,\"0.4199481160920865,1.2147021660449309\",0],[3.55,\"0.4199481160920865,1.2149616703511563\",0],[2.35,\"0.4199481160920865,1.215740183269832\",0],[2.65,\"0.4199481160920865,1.2183352263320846\",0],[2.396,\"0.42009794097314146,1.2144426617387056\",0],[3.25,\"0.42009794097314146,1.2147021660449309\",0],[2.45,\"0.42009794097314146,1.2152211746573816\",0],[1.705,\"0.4202477658541965,1.2144426617387056\",0],[2.80725,\"0.4202477658541965,1.2147021660449309\",0],[2.9699,\"0.4202477658541965,1.2149616703511563\",0],[3.2752499999999998,\"0.4203975907352515,1.2141831574324804\",0],[2.35,\"0.4203975907352515,1.2144426617387056\",0],[2.6125,\"0.4203975907352515,1.2152211746573816\",0],[3.0801666666666665,\"0.42054741561630654,1.2141831574324804\",0],[3.1304,\"0.42054741561630654,1.2147021660449309\",0],[3.5,\"0.42054741561630654,1.2152211746573816\",0],[2.5999999999999996,\"0.42054741561630654,1.215740183269832\",0],[1.65,\"0.42054741561630654,1.2191137392507603\",0],[2.1794000000000002,\"0.42069724049736157,1.2149616703511563\",0],[2.423,\"0.42069724049736157,1.2152211746573816\",0],[2.2,\"0.42069724049736157,1.2154806789636068\",0],[2.8097000000000003,\"0.42069724049736157,1.215740183269832\",0],[2.75,\"0.42069724049736157,1.217816217719634\",0],[2.0094189189189184,\"0.4208470653784166,1.2149616703511563\",0],[1.7385000000000002,\"0.4208470653784166,1.2152211746573816\",0],[1.8217500000000004,\"0.4208470653784166,1.2154806789636068\",0],[2.8346666666666667,\"0.4209968902594716,1.2147021660449309\",0],[2.812235294117647,\"0.4209968902594716,1.2149616703511563\",0],[2.5204558823529406,\"0.4209968902594716,1.2152211746573816\",0],[2.195611111111111,\"0.4209968902594716,1.2154806789636068\",0],[1.7000000000000002,\"0.4209968902594716,1.215740183269832\",0],[3.0869999999999997,\"0.4211467151405266,1.2147021660449309\",0],[1.7005,\"0.4211467151405266,1.2149616703511563\",0],[2.653539473684211,\"0.4211467151405266,1.2152211746573816\",0],[3.0427,\"0.4211467151405266,1.2154806789636068\",0],[2.585625,\"0.4211467151405266,1.215740183269832\",0],[2.72525,\"0.4211467151405266,1.216778200494733\",0],[3.35,\"0.4211467151405266,1.2172972091071834\",0],[2.7914999999999996,\"0.4212965400215816,1.2147021660449309\",0],[2.7585555555555556,\"0.4212965400215816,1.2149616703511563\",0],[2.62584,\"0.4212965400215816,1.2152211746573816\",0],[2.0648947368421053,\"0.4212965400215816,1.2154806789636068\",0],[3.5244999999999997,\"0.4212965400215816,1.215740183269832\",0],[3.1319999999999997,\"0.4212965400215816,1.2159996875760573\",0],[2.85,\"0.4212965400215816,1.2162591918822825\",0],[1.6744999999999999,\"0.42144636490263665,1.2149616703511563\",0],[2.7583571428571427,\"0.42144636490263665,1.2152211746573816\",0],[2.7149375,\"0.42144636490263665,1.2154806789636068\",0],[2.8036666666666665,\"0.42144636490263665,1.215740183269832\",0],[2.727916666666667,\"0.4215961897836917,1.2147021660449309\",0],[3.0081666666666664,\"0.4215961897836917,1.2152211746573816\",0],[2.5108,\"0.4215961897836917,1.2154806789636068\",0],[2.7,\"0.4215961897836917,1.215740183269832\",0],[1.65,\"0.4215961897836917,1.2165186961885077\",0],[2.3,\"0.4217460146647467,1.2139236531262552\",0],[2.4,\"0.4217460146647467,1.2159996875760573\",0],[3.05,\"0.4218958395458017,1.2144426617387056\",0],[2.275,\"0.4218958395458017,1.2149616703511563\",0],[2.726,\"0.4218958395458017,1.215740183269832\",0],[2.15,\"0.4220456644268567,1.2141831574324804\",0],[1.9372500000000001,\"0.4220456644268567,1.2152211746573816\",0],[2.4846666666666666,\"0.4220456644268567,1.2154806789636068\",0],[3.1374999999999997,\"0.4220456644268567,1.215740183269832\",0],[3.3499999999999996,\"0.42219548930791173,1.2152211746573816\",0],[2.349875,\"0.42219548930791173,1.2154806789636068\",0],[2.53,\"0.42219548930791173,1.2159996875760573\",0],[3.0244999999999997,\"0.4224951390700218,1.2147021660449309\",0],[3.15,\"0.4226449639510768,1.2134046445138047\",0],[2.85,\"0.42309443859424184,1.2152211746573816\",0],[3.1864999999999997,\"0.41897425436522884,1.2148319181980436\",0],[3.05,\"0.41912407924628386,1.2150914225042688\",0],[3.5,\"0.41957355388944895,1.2156104311167193\",0],[1.7454999999999998,\"0.4197233787705039,1.2145724138918184\",0],[2.25,\"0.4197233787705039,1.2150914225042688\",0],[2.716416666666666,\"0.41987320365155895,1.2148319181980436\",0],[2.34625,\"0.41987320365155895,1.215350926810494\",0],[2.9895,\"0.420023028532614,1.2148319181980436\",0],[2.747,\"0.420172853413669,1.214053405279368\",0],[3.5199999999999996,\"0.420172853413669,1.2145724138918184\",0],[2.891666666666667,\"0.420172853413669,1.2148319181980436\",0],[2.230625,\"0.42032267829472403,1.2143129095855931\",0],[3.0065,\"0.42032267829472403,1.2145724138918184\",0],[1.99775,\"0.42032267829472403,1.2148319181980436\",0],[2.45,\"0.42032267829472403,1.2150914225042688\",0],[3.25,\"0.42032267829472403,1.215350926810494\",0],[2.3499999999999996,\"0.42047250317577906,1.2143129095855931\",0],[2.752333333333333,\"0.42047250317577906,1.2148319181980436\",0],[1.7245,\"0.420622328056834,1.2135343966669174\",0],[1.55,\"0.420622328056834,1.214053405279368\",0],[1.35,\"0.420622328056834,1.2145724138918184\",0],[2.05,\"0.420622328056834,1.2148319181980436\",0],[2.0293125,\"0.420622328056834,1.2150914225042688\",0],[2.519625,\"0.420622328056834,1.215350926810494\",0],[2.4212,\"0.420622328056834,1.2156104311167193\",0],[2.65,\"0.420622328056834,1.2189839870976478\",0],[2.227347457627119,\"0.42077215293788905,1.2150914225042688\",0],[2.536033333333333,\"0.42077215293788905,1.215350926810494\",0],[1.6395,\"0.42077215293788905,1.2156104311167193\",0],[2.802,\"0.42077215293788905,1.2158699354229445\",0],[3.532,\"0.4209219778189441,1.2148319181980436\",0],[2.328969696969697,\"0.4209219778189441,1.2150914225042688\",0],[1.7618636363636362,\"0.4209219778189441,1.215350926810494\",0],[2.61325,\"0.4210718026999991,1.2148319181980436\",0],[2.3321692307692308,\"0.4210718026999991,1.2150914225042688\",0],[2.3941785714285717,\"0.4210718026999991,1.215350926810494\",0],[3.01525,\"0.4210718026999991,1.2156104311167193\",0],[3.75,\"0.4210718026999991,1.2166484483416204\",0],[3.35,\"0.4210718026999991,1.2169079526478457\",0],[2.0458333333333334,\"0.42122162758105414,1.2148319181980436\",0],[2.6566071428571427,\"0.42122162758105414,1.2150914225042688\",0],[2.2594000000000003,\"0.42122162758105414,1.215350926810494\",0],[2.8375833333333333,\"0.42122162758105414,1.2156104311167193\",0],[3.121,\"0.42122162758105414,1.2158699354229445\",0],[2.85,\"0.42122162758105414,1.2174269612602961\",0],[2.5700000000000003,\"0.42137145246210916,1.2148319181980436\",0],[2.4626891891891893,\"0.42137145246210916,1.2150914225042688\",0],[2.688166666666666,\"0.42137145246210916,1.215350926810494\",0],[3.2455,\"0.42137145246210916,1.2156104311167193\",0],[2.359083333333333,\"0.42137145246210916,1.2158699354229445\",0],[2.8335,\"0.42152127734316414,1.2148319181980436\",0],[2.9113571428571428,\"0.42152127734316414,1.2150914225042688\",0],[3.1155500000000003,\"0.42152127734316414,1.215350926810494\",0],[2.5215,\"0.42152127734316414,1.2156104311167193\",0],[3.2748333333333335,\"0.42152127734316414,1.2158699354229445\",0],[1.6251000000000002,\"0.42152127734316414,1.2174269612602961\",0],[3.3200000000000003,\"0.42167110222421916,1.2143129095855931\",0],[1.69,\"0.42167110222421916,1.215350926810494\",0],[2.6833333333333336,\"0.42167110222421916,1.2158699354229445\",0],[2.802,\"0.4218209271052742,1.214053405279368\",0],[2.35,\"0.4218209271052742,1.2145724138918184\",0],[2.35,\"0.4218209271052742,1.215350926810494\",0],[3.2199999999999998,\"0.4219707519863292,1.2137939009731427\",0],[2.432,\"0.4219707519863292,1.2150914225042688\",0],[3.5839999999999996,\"0.4219707519863292,1.2158699354229445\",0],[2.6005,\"0.4219707519863292,1.21612943972917\",0],[2.8200000000000003,\"0.42212057686738425,1.214053405279368\",0],[2.2,\"0.42212057686738425,1.2156104311167193\",0],[2.275,\"0.42212057686738425,1.21612943972917\",0],[2.9855,\"0.4222704017484393,1.2137939009731427\",0],[3.0364999999999998,\"0.4222704017484393,1.2145724138918184\",0],[2.8994999999999997,\"0.42242022662949424,1.2150914225042688\",0],[0.9500000000000001,\"0.42301952615371435,1.21612943972917\",0],[3.7005,\"0.4231693510347694,1.2158699354229445\",0]],\"geojson\":{\"type\":\"FeatureCollection\",\"features\":[{\"type\":\"Feature\",\"id\":\"0.4187495170436463,1.2152211746573816\",\"geometry\":{\"type\":\"Polygon\",\"coordinates\":[[[23.992579999742468,56.951907940681615],[23.996872166417717,56.95325932121056],[23.996872166417717,56.95596193529381],[23.992579999742468,56.95731316885016],[23.98828783306722,56.95596193529381],[23.98828783306722,56.95325932121056],[23.992579999742468,56.951907940681615]]]}},{\"type\":\"Feature\",\"id\":\"0.4187495170436463,1.2172972091071834\",\"geometry\":{\"type\":\"Polygon\",\"coordinates\":[[[23.992579999742468,57.01671896094861],[23.996872166417717,57.01806799102352],[23.996872166417717,57.02076590434641],[23.992579999742468,57.022114787596486],[23.98828783306722,57.02076590434641],[23.98828783306722,57.01806799102352],[23.992579999742468,57.01671896094861]]]}},{\"type\":\"Feature\",\"id\":\"0.41889934192470135,1.2154806789636068\",\"geometry\":{\"type\":\"Polygon\",\"coordinates\":[[[24.001164333092973,56.960015488997406],[24.00545649976822,56.961366575590375],[24.00545649976822,56.9640686018201],[24.001164333092973,56.9654195414589],[23.99687216641772,56.9640686018201],[23.99687216641772,56.961366575590375],[24.001164333092973,56.960015488997406]]]}},{\"type\":\"Feature\",\"id\":\"0.4191989916868114,1.2149616703511563\",\"geometry\":{\"type\":\"Polygon\",\"coordinates\":[[[24.018332999793973,56.94379862862078],[24.022625166469226,56.94515030312259],[24.022625166469226,56.94785350513315],[24.018332999793973,56.949205032643924],[24.014040833118727,56.94785350513315],[24.014040833118727,56.94515030312259],[24.018332999793973,56.94379862862078]]]}},{\"type\":\"Feature\",\"id\":\"0.4193488165678664,1.2144426617387056\",\"geometry\":{\"type\":\"Polygon\",\"coordinates\":[[[24.026917333144475,56.92757471237926],[24.031209499819724,56.92892697493739],[24.031209499819724,56.93163135302371],[24.026917333144475,56.93298346855393],[24.022625166469226,56.93163135302371],[24.022625166469226,56.92892697493739],[24.026917333144475,56.92757471237926]]]}},{\"type\":\"Feature\",\"id\":\"0.4193488165678664,1.2147021660449309\",\"geometry\":{\"type\":\"Polygon\",\"coordinates\":[[[24.026917333144475,56.93568755259368],[24.031209499819724,56.93703952110525],[24.031209499819724,56.939743311116814],[24.026917333144475,56.941095132618905],[24.022625166469226,56.939743311116814],[24.022625166469226,56.93703952110525],[24.026917333144475,56.93568755259368]]]}},{\"type\":\"Feature\",\"id\":\"0.4193488165678664,1.2154806789636068\",\"geometry\":{\"type\":\"Polygon\",\"coordinates\":[[[24.026917333144475,56.960015488997406],[24.031209499819724,56.961366575590375],[24.031209499819724,56.9640686018201],[24.026917333144475,56.9654195414589],[24.022625166469226,56.9640686018201],[24.022625166469226,56.961366575590375],[24.026917333144475,56.960015488997406]]]}},{\"type\":\"Feature\",\"id\":\"0.4194986414489214,1.2152211746573816\",\"geometry\":{\"type\":\"Polygon\",\"coordinates\":[[[24.035501666494977,56.951907940681615],[24.03979383317023,56.95325932121056],[24.03979383317023,56.95596193529381],[24.035501666494977,56.95731316885016],[24.03120949981973,56.95596193529381],[24.03120949981973,56.95325932121056],[24.035501666494977,56.951907940681615]]]}},{\"type\":\"Feature\",\"id\":\"0.41979829121103146,1.2144426617387056\",\"geometry\":{\"type\":\"Polygon\",\"coordinates\":[[[24.052670333195984,56.92757471237926],[24.056962499871236,56.92892697493739],[24.056962499871236,56.93163135302371],[24.052670333195984,56.93298346855393],[24.04837816652073,56.93163135302371],[24.04837816652073,56.92892697493739],[24.052670333195984,56.92757471237926]]]}},{\"type\":\"Feature\",\"id\":\"0.41979829121103146,1.2149616703511563\",\"geometry\":{\"type\":\"Polygon\",\"coordinates\":[[[24.052670333195984,56.94379862862078],[24.056962499871236,56.94515030312259],[24.056962499871236,56.94785350513315],[24.052670333195984,56.949205032643924],[24.04837816652073,56.94785350513315],[24.04837816652073,56.94515030312259],[24.052670333195984,56.94379862862078]]]}},{\"type\":\"Feature\",\"id\":\"0.41979829121103146,1.2152211746573816\",\"geometry\":{\"type\":\"Polygon\",\"coordinates\":[[[24.052670333195984,56.951907940681615],[24.056962499871236,56.95325932121056],[24.056962499871236,56.95596193529381],[24.052670333195984,56.95731316885016],[24.04837816652073,56.95596193529381],[24.04837816652073,56.95325932121056],[24.052670333195984,56.951907940681615]]]}},{\"type\":\"Feature\",\"id\":\"0.41979829121103146,1.215740183269832\",\"geometry\":{\"type\":\"Polygon\",\"coordinates\":[[[24.052670333195984,56.96812127378952],[24.056962499871236,56.969472066483384],[24.056962499871236,56.972173504933345],[24.052670333195984,56.97352415069148],[24.04837816652073,56.972173504933345],[24.04837816652073,56.969472066483384],[24.052670333195984,56.96812127378952]]]}},{\"type\":\"Feature\",\"id\":\"0.4199481160920865,1.2147021660449309\",\"geometry\":{\"type\":\"Polygon\",\"coordinates\":[[[24.061254666546485,56.93568755259368],[24.065546833221735,56.93703952110525],[24.065546833221735,56.939743311116814],[24.061254666546485,56.941095132618905],[24.056962499871236,56.939743311116814],[24.056962499871236,56.93703952110525],[24.061254666546485,56.93568755259368]]]}},{\"type\":\"Feature\",\"id\":\"0.4199481160920865,1.2149616703511563\",\"geometry\":{\"type\":\"Polygon\",\"coordinates\":[[[24.061254666546485,56.94379862862078],[24.065546833221735,56.94515030312259],[24.065546833221735,56.94785350513315],[24.061254666546485,56.949205032643924],[24.056962499871236,56.94785350513315],[24.056962499871236,56.94515030312259],[24.061254666546485,56.94379862862078]]]}},{\"type\":\"Feature\",\"id\":\"0.4199481160920865,1.215740183269832\",\"geometry\":{\"type\":\"Polygon\",\"coordinates\":[[[24.061254666546485,56.96812127378952],[24.065546833221735,56.969472066483384],[24.065546833221735,56.972173504933345],[24.061254666546485,56.97352415069148],[24.056962499871236,56.972173504933345],[24.056962499871236,56.969472066483384],[24.061254666546485,56.96812127378952]]]}},{\"type\":\"Feature\",\"id\":\"0.4199481160920865,1.2183352263320846\",\"geometry\":{\"type\":\"Polygon\",\"coordinates\":[[[24.061254666546485,57.04908217665897],[24.065546833221735,57.050430032394395],[24.065546833221735,57.05312559711235],[24.061254666546485,57.054473306097],[24.056962499871236,57.05312559711235],[24.056962499871236,57.050430032394395],[24.061254666546485,57.04908217665897]]]}},{\"type\":\"Feature\",\"id\":\"0.42009794097314146,1.2144426617387056\",\"geometry\":{\"type\":\"Polygon\",\"coordinates\":[[[24.069838999896987,56.92757471237926],[24.074131166572233,56.92892697493739],[24.074131166572233,56.93163135302371],[24.069838999896987,56.93298346855393],[24.065546833221735,56.93163135302371],[24.065546833221735,56.92892697493739],[24.069838999896987,56.92757471237926]]]}},{\"type\":\"Feature\",\"id\":\"0.42009794097314146,1.2147021660449309\",\"geometry\":{\"type\":\"Polygon\",\"coordinates\":[[[24.069838999896987,56.93568755259368],[24.074131166572233,56.93703952110525],[24.074131166572233,56.939743311116814],[24.069838999896987,56.941095132618905],[24.065546833221735,56.939743311116814],[24.065546833221735,56.93703952110525],[24.069838999896987,56.93568755259368]]]}},{\"type\":\"Feature\",\"id\":\"0.42009794097314146,1.2152211746573816\",\"geometry\":{\"type\":\"Polygon\",\"coordinates\":[[[24.069838999896987,56.951907940681615],[24.074131166572233,56.95325932121056],[24.074131166572233,56.95596193529381],[24.069838999896987,56.95731316885016],[24.065546833221735,56.95596193529381],[24.065546833221735,56.95325932121056],[24.069838999896987,56.951907940681615]]]}},{\"type\":\"Feature\",\"id\":\"0.4202477658541965,1.2144426617387056\",\"geometry\":{\"type\":\"Polygon\",\"coordinates\":[[[24.07842333324749,56.92757471237926],[24.082715499922738,56.92892697493739],[24.082715499922738,56.93163135302371],[24.07842333324749,56.93298346855393],[24.074131166572236,56.93163135302371],[24.074131166572236,56.92892697493739],[24.07842333324749,56.92757471237926]]]}},{\"type\":\"Feature\",\"id\":\"0.4202477658541965,1.2147021660449309\",\"geometry\":{\"type\":\"Polygon\",\"coordinates\":[[[24.07842333324749,56.93568755259368],[24.082715499922738,56.93703952110525],[24.082715499922738,56.939743311116814],[24.07842333324749,56.941095132618905],[24.074131166572236,56.939743311116814],[24.074131166572236,56.93703952110525],[24.07842333324749,56.93568755259368]]]}},{\"type\":\"Feature\",\"id\":\"0.4202477658541965,1.2149616703511563\",\"geometry\":{\"type\":\"Polygon\",\"coordinates\":[[[24.07842333324749,56.94379862862078],[24.082715499922738,56.94515030312259],[24.082715499922738,56.94785350513315],[24.07842333324749,56.949205032643924],[24.074131166572236,56.94785350513315],[24.074131166572236,56.94515030312259],[24.07842333324749,56.94379862862078]]]}},{\"type\":\"Feature\",\"id\":\"0.4203975907352515,1.2141831574324804\",\"geometry\":{\"type\":\"Polygon\",\"coordinates\":[[[24.087007666597994,56.91946010775646],[24.09129983327324,56.92081266439798],[24.09129983327324,56.92351763063271],[24.087007666597994,56.92487004022793],[24.08271549992274,56.92351763063271],[24.08271549992274,56.92081266439798],[24.087007666597994,56.91946010775646]]]}},{\"type\":\"Feature\",\"id\":\"0.4203975907352515,1.2144426617387056\",\"geometry\":{\"type\":\"Polygon\",\"coordinates\":[[[24.087007666597994,56.92757471237926],[24.09129983327324,56.92892697493739],[24.09129983327324,56.93163135302371],[24.087007666597994,56.93298346855393],[24.08271549992274,56.93163135302371],[24.08271549992274,56.92892697493739],[24.087007666597994,56.92757471237926]]]}},{\"type\":\"Feature\",\"id\":\"0.4203975907352515,1.2152211746573816\",\"geometry\":{\"type\":\"Polygon\",\"coordinates\":[[[24.087007666597994,56.951907940681615],[24.09129983327324,56.95325932121056],[24.09129983327324,56.95596193529381],[24.087007666597994,56.95731316885016],[24.08271549992274,56.95596193529381],[24.08271549992274,56.95325932121056],[24.087007666597994,56.951907940681615]]]}},{\"type\":\"Feature\",\"id\":\"0.42054741561630654,1.2141831574324804\",\"geometry\":{\"type\":\"Polygon\",\"coordinates\":[[[24.095591999948493,56.91946010775646],[24.099884166623742,56.92081266439798],[24.099884166623742,56.92351763063271],[24.095591999948493,56.92487004022793],[24.091299833273244,56.92351763063271],[24.091299833273244,56.92081266439798],[24.095591999948493,56.91946010775646]]]}},{\"type\":\"Feature\",\"id\":\"0.42054741561630654,1.2147021660449309\",\"geometry\":{\"type\":\"Polygon\",\"coordinates\":[[[24.095591999948493,56.93568755259368],[24.099884166623742,56.93703952110525],[24.099884166623742,56.939743311116814],[24.095591999948493,56.941095132618905],[24.091299833273244,56.939743311116814],[24.091299833273244,56.93703952110525],[24.095591999948493,56.93568755259368]]]}},{\"type\":\"Feature\",\"id\":\"0.42054741561630654,1.2152211746573816\",\"geometry\":{\"type\":\"Polygon\",\"coordinates\":[[[24.095591999948493,56.951907940681615],[24.099884166623742,56.95325932121056],[24.099884166623742,56.95596193529381],[24.095591999948493,56.95731316885016],[24.091299833273244,56.95596193529381],[24.091299833273244,56.95325932121056],[24.095591999948493,56.951907940681615]]]}},{\"type\":\"Feature\",\"id\":\"0.42054741561630654,1.215740183269832\",\"geometry\":{\"type\":\"Polygon\",\"coordinates\":[[[24.095591999948493,56.96812127378952],[24.099884166623742,56.969472066483384],[24.099884166623742,56.972173504933345],[24.095591999948493,56.97352415069148],[24.091299833273244,56.972173504933345],[24.091299833273244,56.969472066483384],[24.095591999948493,56.96812127378952]]]}},{\"type\":\"Feature\",\"id\":\"0.42054741561630654,1.2191137392507603\",\"geometry\":{\"type\":\"Polygon\",\"coordinates\":[[[24.095591999948493,57.07333609629019],[24.099884166623742,57.07468307166009],[24.099884166623742,57.077376875702676],[24.095591999948493,57.07872370437742],[24.091299833273244,57.077376875702676],[24.091299833273244,57.07468307166009],[24.095591999948493,57.07333609629019]]]}},{\"type\":\"Feature\",\"id\":\"0.42069724049736157,1.2149616703511563\",\"geometry\":{\"type\":\"Polygon\",\"coordinates\":[[[24.104176333298994,56.94379862862078],[24.108468499974247,56.94515030312259],[24.108468499974247,56.94785350513315],[24.104176333298994,56.949205032643924],[24.09988416662375,56.94785350513315],[24.09988416662375,56.94515030312259],[24.104176333298994,56.94379862862078]]]}},{\"type\":\"Feature\",\"id\":\"0.42069724049736157,1.2152211746573816\",\"geometry\":{\"type\":\"Polygon\",\"coordinates\":[[[24.104176333298994,56.951907940681615],[24.108468499974247,56.95325932121056],[24.108468499974247,56.95596193529381],[24.104176333298994,56.95731316885016],[24.09988416662375,56.95596193529381],[24.09988416662375,56.95325932121056],[24.104176333298994,56.951907940681615]]]}},{\"type\":\"Feature\",\"id\":\"0.42069724049736157,1.2154806789636068\",\"geometry\":{\"type\":\"Polygon\",\"coordinates\":[[[24.104176333298994,56.960015488997406],[24.108468499974247,56.961366575590375],[24.108468499974247,56.9640686018201],[24.104176333298994,56.9654195414589],[24.09988416662375,56.9640686018201],[24.09988416662375,56.961366575590375],[24.104176333298994,56.960015488997406]]]}},{\"type\":\"Feature\",\"id\":\"0.42069724049736157,1.215740183269832\",\"geometry\":{\"type\":\"Polygon\",\"coordinates\":[[[24.104176333298994,56.96812127378952],[24.108468499974247,56.969472066483384],[24.108468499974247,56.972173504933345],[24.104176333298994,56.97352415069148],[24.09988416662375,56.972173504933345],[24.09988416662375,56.969472066483384],[24.104176333298994,56.96812127378952]]]}},{\"type\":\"Feature\",\"id\":\"0.42069724049736157,1.217816217719634\",\"geometry\":{\"type\":\"Polygon\",\"coordinates\":[[[24.104176333298994,57.03290409185938],[24.108468499974247,57.03425253469046],[24.108468499974247,57.03694927356275],[24.104176333298994,57.03829756960602],[24.09988416662375,57.03694927356275],[24.09988416662375,57.03425253469046],[24.104176333298994,57.03290409185938]]]}},{\"type\":\"Feature\",\"id\":\"0.4208470653784166,1.2149616703511563\",\"geometry\":{\"type\":\"Polygon\",\"coordinates\":[[[24.1127606666495,56.94379862862078],[24.11705283332475,56.94515030312259],[24.11705283332475,56.94785350513315],[24.1127606666495,56.949205032643924],[24.108468499974247,56.94785350513315],[24.108468499974247,56.94515030312259],[24.1127606666495,56.94379862862078]]]}},{\"type\":\"Feature\",\"id\":\"0.4208470653784166,1.2152211746573816\",\"geometry\":{\"type\":\"Polygon\",\"coordinates\":[[[24.1127606666495,56.951907940681615],[24.11705283332475,56.95325932121056],[24.11705283332475,56.95596193529381],[24.1127606666495,56.95731316885016],[24.108468499974247,56.95596193529381],[24.108468499974247,56.95325932121056],[24.1127606666495,56.951907940681615]]]}},{\"type\":\"Feature\",\"id\":\"0.4208470653784166,1.2154806789636068\",\"geometry\":{\"type\":\"Polygon\",\"coordinates\":[[[24.1127606666495,56.960015488997406],[24.11705283332475,56.961366575590375],[24.11705283332475,56.9640686018201],[24.1127606666495,56.9654195414589],[24.108468499974247,56.9640686018201],[24.108468499974247,56.961366575590375],[24.1127606666495,56.960015488997406]]]}},{\"type\":\"Feature\",\"id\":\"0.4209968902594716,1.2147021660449309\",\"geometry\":{\"type\":\"Polygon\",\"coordinates\":[[[24.121345,56.93568755259368],[24.12563716667525,56.93703952110525],[24.12563716667525,56.939743311116814],[24.121345,56.941095132618905],[24.11705283332475,56.939743311116814],[24.11705283332475,56.93703952110525],[24.121345,56.93568755259368]]]}},{\"type\":\"Feature\",\"id\":\"0.4209968902594716,1.2149616703511563\",\"geometry\":{\"type\":\"Polygon\",\"coordinates\":[[[24.121345,56.94379862862078],[24.12563716667525,56.94515030312259],[24.12563716667525,56.94785350513315],[24.121345,56.949205032643924],[24.11705283332475,56.94785350513315],[24.11705283332475,56.94515030312259],[24.121345,56.94379862862078]]]}},{\"type\":\"Feature\",\"id\":\"0.4209968902594716,1.2152211746573816\",\"geometry\":{\"type\":\"Polygon\",\"coordinates\":[[[24.121345,56.951907940681615],[24.12563716667525,56.95325932121056],[24.12563716667525,56.95596193529381],[24.121345,56.95731316885016],[24.11705283332475,56.95596193529381],[24.11705283332475,56.95325932121056],[24.121345,56.951907940681615]]]}},{\"type\":\"Feature\",\"id\":\"0.4209968902594716,1.2154806789636068\",\"geometry\":{\"type\":\"Polygon\",\"coordinates\":[[[24.121345,56.960015488997406],[24.12563716667525,56.961366575590375],[24.12563716667525,56.9640686018201],[24.121345,56.9654195414589],[24.11705283332475,56.9640686018201],[24.11705283332475,56.961366575590375],[24.121345,56.960015488997406]]]}},{\"type\":\"Feature\",\"id\":\"0.4209968902594716,1.215740183269832\",\"geometry\":{\"type\":\"Polygon\",\"coordinates\":[[[24.121345,56.96812127378952],[24.12563716667525,56.969472066483384],[24.12563716667525,56.972173504933345],[24.121345,56.97352415069148],[24.11705283332475,56.972173504933345],[24.11705283332475,56.969472066483384],[24.121345,56.96812127378952]]]}},{\"type\":\"Feature\",\"id\":\"0.4211467151405266,1.2147021660449309\",\"geometry\":{\"type\":\"Polygon\",\"coordinates\":[[[24.1299293333505,56.93568755259368],[24.134221500025753,56.93703952110525],[24.134221500025753,56.939743311116814],[24.1299293333505,56.941095132618905],[24.12563716667525,56.939743311116814],[24.12563716667525,56.93703952110525],[24.1299293333505,56.93568755259368]]]}},{\"type\":\"Feature\",\"id\":\"0.4211467151405266,1.2149616703511563\",\"geometry\":{\"type\":\"Polygon\",\"coordinates\":[[[24.1299293333505,56.94379862862078],[24.134221500025753,56.94515030312259],[24.134221500025753,56.94785350513315],[24.1299293333505,56.949205032643924],[24.12563716667525,56.94785350513315],[24.12563716667525,56.94515030312259],[24.1299293333505,56.94379862862078]]]}},{\"type\":\"Feature\",\"id\":\"0.4211467151405266,1.2152211746573816\",\"geometry\":{\"type\":\"Polygon\",\"coordinates\":[[[24.1299293333505,56.951907940681615],[24.134221500025753,56.95325932121056],[24.134221500025753,56.95596193529381],[24.1299293333505,56.95731316885016],[24.12563716667525,56.95596193529381],[24.12563716667525,56.95325932121056],[24.1299293333505,56.951907940681615]]]}},{\"type\":\"Feature\",\"id\":\"0.4211467151405266,1.2154806789636068\",\"geometry\":{\"type\":\"Polygon\",\"coordinates\":[[[24.1299293333505,56.960015488997406],[24.134221500025753,56.961366575590375],[24.134221500025753,56.9640686018201],[24.1299293333505,56.9654195414589],[24.12563716667525,56.9640686018201],[24.12563716667525,56.961366575590375],[24.1299293333505,56.960015488997406]]]}},{\"type\":\"Feature\",\"id\":\"0.4211467151405266,1.215740183269832\",\"geometry\":{\"type\":\"Polygon\",\"coordinates\":[[[24.1299293333505,56.96812127378952],[24.134221500025753,56.969472066483384],[24.134221500025753,56.972173504933345],[24.1299293333505,56.97352415069148],[24.12563716667525,56.972173504933345],[24.12563716667525,56.969472066483384],[24.1299293333505,56.96812127378952]]]}},{\"type\":\"Feature\",\"id\":\"0.4211467151405266,1.216778200494733\",\"geometry\":{\"type\":\"Polygon\",\"coordinates\":[[[24.1299293333505,57.00052678214998],[24.134221500025753,57.001876399616705],[24.134221500025753,57.004575487686246],[24.1299293333505,57.00592495829113],[24.12563716667525,57.004575487686246],[24.12563716667525,57.001876399616705],[24.1299293333505,57.00052678214998]]]}},{\"type\":\"Feature\",\"id\":\"0.4211467151405266,1.2172972091071834\",\"geometry\":{\"type\":\"Polygon\",\"coordinates\":[[[24.1299293333505,57.01671896094861],[24.134221500025753,57.01806799102352],[24.134221500025753,57.02076590434641],[24.1299293333505,57.022114787596486],[24.12563716667525,57.02076590434641],[24.12563716667525,57.01806799102352],[24.1299293333505,57.01671896094861]]]}},{\"type\":\"Feature\",\"id\":\"0.4212965400215816,1.2147021660449309\",\"geometry\":{\"type\":\"Polygon\",\"coordinates\":[[[24.138513666701005,56.93568755259368],[24.14280583337625,56.93703952110525],[24.14280583337625,56.939743311116814],[24.138513666701005,56.941095132618905],[24.134221500025753,56.939743311116814],[24.134221500025753,56.93703952110525],[24.138513666701005,56.93568755259368]]]}},{\"type\":\"Feature\",\"id\":\"0.4212965400215816,1.2149616703511563\",\"geometry\":{\"type\":\"Polygon\",\"coordinates\":[[[24.138513666701005,56.94379862862078],[24.14280583337625,56.94515030312259],[24.14280583337625,56.94785350513315],[24.138513666701005,56.949205032643924],[24.134221500025753,56.94785350513315],[24.134221500025753,56.94515030312259],[24.138513666701005,56.94379862862078]]]}},{\"type\":\"Feature\",\"id\":\"0.4212965400215816,1.2152211746573816\",\"geometry\":{\"type\":\"Polygon\",\"coordinates\":[[[24.138513666701005,56.951907940681615],[24.14280583337625,56.95325932121056],[24.14280583337625,56.95596193529381],[24.138513666701005,56.95731316885016],[24.134221500025753,56.95596193529381],[24.134221500025753,56.95325932121056],[24.138513666701005,56.951907940681615]]]}},{\"type\":\"Feature\",\"id\":\"0.4212965400215816,1.2154806789636068\",\"geometry\":{\"type\":\"Polygon\",\"coordinates\":[[[24.138513666701005,56.960015488997406],[24.14280583337625,56.961366575590375],[24.14280583337625,56.9640686018201],[24.138513666701005,56.9654195414589],[24.134221500025753,56.9640686018201],[24.134221500025753,56.961366575590375],[24.138513666701005,56.960015488997406]]]}},{\"type\":\"Feature\",\"id\":\"0.4212965400215816,1.215740183269832\",\"geometry\":{\"type\":\"Polygon\",\"coordinates\":[[[24.138513666701005,56.96812127378952],[24.14280583337625,56.969472066483384],[24.14280583337625,56.972173504933345],[24.138513666701005,56.97352415069148],[24.134221500025753,56.972173504933345],[24.134221500025753,56.969472066483384],[24.138513666701005,56.96812127378952]]]}},{\"type\":\"Feature\",\"id\":\"0.4212965400215816,1.2159996875760573\",\"geometry\":{\"type\":\"Polygon\",\"coordinates\":[[[24.138513666701005,56.97622529527929],[24.14280583337625,56.97757579411093],[24.14280583337625,56.98027664485501],[24.138513666701005,56.981626996769414],[24.134221500025753,56.98027664485501],[24.134221500025753,56.97757579411093],[24.138513666701005,56.97622529527929]]]}},{\"type\":\"Feature\",\"id\":\"0.4212965400215816,1.2162591918822825\",\"geometry\":{\"type\":\"Polygon\",\"coordinates\":[[[24.138513666701005,56.98432755368822],[24.14280583337625,56.98567775869462],[24.14280583337625,56.98837802180658],[24.138513666701005,56.989728079914215],[24.134221500025753,56.98837802180658],[24.134221500025753,56.98567775869462],[24.138513666701005,56.98432755368822]]]}},{\"type\":\"Feature\",\"id\":\"0.42144636490263665,1.2149616703511563\",\"geometry\":{\"type\":\"Polygon\",\"coordinates\":[[[24.147098000051507,56.94379862862078],[24.151390166726756,56.94515030312259],[24.151390166726756,56.94785350513315],[24.147098000051507,56.949205032643924],[24.142805833376254,56.94785350513315],[24.142805833376254,56.94515030312259],[24.147098000051507,56.94379862862078]]]}},{\"type\":\"Feature\",\"id\":\"0.42144636490263665,1.2152211746573816\",\"geometry\":{\"type\":\"Polygon\",\"coordinates\":[[[24.147098000051507,56.951907940681615],[24.151390166726756,56.95325932121056],[24.151390166726756,56.95596193529381],[24.147098000051507,56.95731316885016],[24.142805833376254,56.95596193529381],[24.142805833376254,56.95325932121056],[24.147098000051507,56.951907940681615]]]}},{\"type\":\"Feature\",\"id\":\"0.42144636490263665,1.2154806789636068\",\"geometry\":{\"type\":\"Polygon\",\"coordinates\":[[[24.147098000051507,56.960015488997406],[24.151390166726756,56.961366575590375],[24.151390166726756,56.9640686018201],[24.147098000051507,56.9654195414589],[24.142805833376254,56.9640686018201],[24.142805833376254,56.961366575590375],[24.147098000051507,56.960015488997406]]]}},{\"type\":\"Feature\",\"id\":\"0.42144636490263665,1.215740183269832\",\"geometry\":{\"type\":\"Polygon\",\"coordinates\":[[[24.147098000051507,56.96812127378952],[24.151390166726756,56.969472066483384],[24.151390166726756,56.972173504933345],[24.147098000051507,56.97352415069148],[24.142805833376254,56.972173504933345],[24.142805833376254,56.969472066483384],[24.147098000051507,56.96812127378952]]]}},{\"type\":\"Feature\",\"id\":\"0.4215961897836917,1.2147021660449309\",\"geometry\":{\"type\":\"Polygon\",\"coordinates\":[[[24.155682333402005,56.93568755259368],[24.159974500077258,56.93703952110525],[24.159974500077258,56.939743311116814],[24.155682333402005,56.941095132618905],[24.15139016672676,56.939743311116814],[24.15139016672676,56.93703952110525],[24.155682333402005,56.93568755259368]]]}},{\"type\":\"Feature\",\"id\":\"0.4215961897836917,1.2152211746573816\",\"geometry\":{\"type\":\"Polygon\",\"coordinates\":[[[24.155682333402005,56.951907940681615],[24.159974500077258,56.95325932121056],[24.159974500077258,56.95596193529381],[24.155682333402005,56.95731316885016],[24.15139016672676,56.95596193529381],[24.15139016672676,56.95325932121056],[24.155682333402005,56.951907940681615]]]}},{\"type\":\"Feature\",\"id\":\"0.4215961897836917,1.2154806789636068\",\"geometry\":{\"type\":\"Polygon\",\"coordinates\":[[[24.155682333402005,56.960015488997406],[24.159974500077258,56.961366575590375],[24.159974500077258,56.9640686018201],[24.155682333402005,56.9654195414589],[24.15139016672676,56.9640686018201],[24.15139016672676,56.961366575590375],[24.155682333402005,56.960015488997406]]]}},{\"type\":\"Feature\",\"id\":\"0.4215961897836917,1.215740183269832\",\"geometry\":{\"type\":\"Polygon\",\"coordinates\":[[[24.155682333402005,56.96812127378952],[24.159974500077258,56.969472066483384],[24.159974500077258,56.972173504933345],[24.155682333402005,56.97352415069148],[24.15139016672676,56.972173504933345],[24.15139016672676,56.969472066483384],[24.155682333402005,56.96812127378952]]]}},{\"type\":\"Feature\",\"id\":\"0.4215961897836917,1.2165186961885077\",\"geometry\":{\"type\":\"Polygon\",\"coordinates\":[[[24.155682333402005,56.99242804923789],[24.159974500077258,56.99377796045596],[24.159974500077258,56.99647763600977],[24.155682333402005,56.99782740034754],[24.15139016672676,56.99647763600977],[24.15139016672676,56.99377796045596],[24.155682333402005,56.99242804923789]]]}},{\"type\":\"Feature\",\"id\":\"0.4217460146647467,1.2139236531262552\",\"geometry\":{\"type\":\"Polygon\",\"coordinates\":[[[24.16426666675251,56.91134373850433],[24.168558833427763,56.9126965892661],[24.168558833427763,56.915402143722865],[24.16426666675251,56.9167548474199],[24.15997450007726,56.915402143722865],[24.15997450007726,56.9126965892661],[24.16426666675251,56.91134373850433]]]}},{\"type\":\"Feature\",\"id\":\"0.4217460146647467,1.2159996875760573\",\"geometry\":{\"type\":\"Polygon\",\"coordinates\":[[[24.16426666675251,56.97622529527929],[24.168558833427763,56.97757579411093],[24.168558833427763,56.98027664485501],[24.16426666675251,56.981626996769414],[24.15997450007726,56.98027664485501],[24.15997450007726,56.97757579411093],[24.16426666675251,56.97622529527929]]]}},{\"type\":\"Feature\",\"id\":\"0.4218958395458017,1.2144426617387056\",\"geometry\":{\"type\":\"Polygon\",\"coordinates\":[[[24.17285100010301,56.92757471237926],[24.17714316677826,56.92892697493739],[24.17714316677826,56.93163135302371],[24.17285100010301,56.93298346855393],[24.168558833427763,56.93163135302371],[24.168558833427763,56.92892697493739],[24.17285100010301,56.92757471237926]]]}},{\"type\":\"Feature\",\"id\":\"0.4218958395458017,1.2149616703511563\",\"geometry\":{\"type\":\"Polygon\",\"coordinates\":[[[24.17285100010301,56.94379862862078],[24.17714316677826,56.94515030312259],[24.17714316677826,56.94785350513315],[24.17285100010301,56.949205032643924],[24.168558833427763,56.94785350513315],[24.168558833427763,56.94515030312259],[24.17285100010301,56.94379862862078]]]}},{\"type\":\"Feature\",\"id\":\"0.4218958395458017,1.215740183269832\",\"geometry\":{\"type\":\"Polygon\",\"coordinates\":[[[24.17285100010301,56.96812127378952],[24.17714316677826,56.969472066483384],[24.17714316677826,56.972173504933345],[24.17285100010301,56.97352415069148],[24.168558833427763,56.972173504933345],[24.168558833427763,56.969472066483384],[24.17285100010301,56.96812127378952]]]}},{\"type\":\"Feature\",\"id\":\"0.4220456644268567,1.2141831574324804\",\"geometry\":{\"type\":\"Polygon\",\"coordinates\":[[[24.18143533345351,56.91946010775646],[24.185727500128763,56.92081266439798],[24.185727500128763,56.92351763063271],[24.18143533345351,56.92487004022793],[24.177143166778265,56.92351763063271],[24.177143166778265,56.92081266439798],[24.18143533345351,56.91946010775646]]]}},{\"type\":\"Feature\",\"id\":\"0.4220456644268567,1.2152211746573816\",\"geometry\":{\"type\":\"Polygon\",\"coordinates\":[[[24.18143533345351,56.951907940681615],[24.185727500128763,56.95325932121056],[24.185727500128763,56.95596193529381],[24.18143533345351,56.95731316885016],[24.177143166778265,56.95596193529381],[24.177143166778265,56.95325932121056],[24.18143533345351,56.951907940681615]]]}},{\"type\":\"Feature\",\"id\":\"0.4220456644268567,1.2154806789636068\",\"geometry\":{\"type\":\"Polygon\",\"coordinates\":[[[24.18143533345351,56.960015488997406],[24.185727500128763,56.961366575590375],[24.185727500128763,56.9640686018201],[24.18143533345351,56.9654195414589],[24.177143166778265,56.9640686018201],[24.177143166778265,56.961366575590375],[24.18143533345351,56.960015488997406]]]}},{\"type\":\"Feature\",\"id\":\"0.4220456644268567,1.215740183269832\",\"geometry\":{\"type\":\"Polygon\",\"coordinates\":[[[24.18143533345351,56.96812127378952],[24.185727500128763,56.969472066483384],[24.185727500128763,56.972173504933345],[24.18143533345351,56.97352415069148],[24.177143166778265,56.972173504933345],[24.177143166778265,56.969472066483384],[24.18143533345351,56.96812127378952]]]}},{\"type\":\"Feature\",\"id\":\"0.42219548930791173,1.2152211746573816\",\"geometry\":{\"type\":\"Polygon\",\"coordinates\":[[[24.190019666804016,56.951907940681615],[24.19431183347927,56.95325932121056],[24.19431183347927,56.95596193529381],[24.190019666804016,56.95731316885016],[24.185727500128767,56.95596193529381],[24.185727500128767,56.95325932121056],[24.190019666804016,56.951907940681615]]]}},{\"type\":\"Feature\",\"id\":\"0.42219548930791173,1.2154806789636068\",\"geometry\":{\"type\":\"Polygon\",\"coordinates\":[[[24.190019666804016,56.960015488997406],[24.19431183347927,56.961366575590375],[24.19431183347927,56.9640686018201],[24.190019666804016,56.9654195414589],[24.185727500128767,56.9640686018201],[24.185727500128767,56.961366575590375],[24.190019666804016,56.960015488997406]]]}},{\"type\":\"Feature\",\"id\":\"0.42219548930791173,1.2159996875760573\",\"geometry\":{\"type\":\"Polygon\",\"coordinates\":[[[24.190019666804016,56.97622529527929],[24.19431183347927,56.97757579411093],[24.19431183347927,56.98027664485501],[24.190019666804016,56.981626996769414],[24.185727500128767,56.98027664485501],[24.185727500128767,56.97757579411093],[24.190019666804016,56.97622529527929]]]}},{\"type\":\"Feature\",\"id\":\"0.4224951390700218,1.2147021660449309\",\"geometry\":{\"type\":\"Polygon\",\"coordinates\":[[[24.207188333505023,56.93568755259368],[24.21148050018027,56.93703952110525],[24.21148050018027,56.939743311116814],[24.207188333505023,56.941095132618905],[24.20289616682977,56.939743311116814],[24.20289616682977,56.93703952110525],[24.207188333505023,56.93568755259368]]]}},{\"type\":\"Feature\",\"id\":\"0.4226449639510768,1.2134046445138047\",\"geometry\":{\"type\":\"Polygon\",\"coordinates\":[[[24.215772666855525,56.8951057052289],[24.220064833530774,56.896459144341506],[24.220064833530774,56.899165875463126],[24.215772666855525,56.900519167474236],[24.211480500180276,56.899165875463126],[24.211480500180276,56.896459144341506],[24.215772666855525,56.8951057052289]]]}},{\"type\":\"Feature\",\"id\":\"0.42309443859424184,1.2152211746573816\",\"geometry\":{\"type\":\"Polygon\",\"coordinates\":[[[24.241525666907027,56.951907940681615],[24.24581783358228,56.95325932121056],[24.24581783358228,56.95596193529381],[24.241525666907027,56.95731316885016],[24.23723350023178,56.95596193529381],[24.23723350023178,56.95325932121056],[24.241525666907027,56.951907940681615]]]}},{\"type\":\"Feature\",\"id\":\"0.41897425436522884,1.2148319181980436\",\"geometry\":{\"type\":\"Polygon\",\"coordinates\":[[[24.00545649976822,56.93974331111684],[24.00974866644347,56.941095132618926],[24.00974866644347,56.943798628620755],[24.00545649976822,56.94515030312259],[24.001164333092973,56.943798628620755],[24.001164333092973,56.941095132618926],[24.00545649976822,56.93974331111684]]]}},{\"type\":\"Feature\",\"id\":\"0.41912407924628386,1.2150914225042688\",\"geometry\":{\"type\":\"Polygon\",\"coordinates\":[[[24.014040833118724,56.94785350513315],[24.018332999793973,56.949205032643924],[24.018332999793973,56.951907940681615],[24.014040833118724,56.95325932121056],[24.009748666443475,56.951907940681615],[24.009748666443475,56.949205032643924],[24.014040833118724,56.94785350513315]]]}},{\"type\":\"Feature\",\"id\":\"0.41957355388944895,1.2156104311167193\",\"geometry\":{\"type\":\"Polygon\",\"coordinates\":[[[24.039793833170233,56.9640686018201],[24.044085999845482,56.9654195414589],[24.044085999845482,56.96812127378949],[24.039793833170233,56.969472066483384],[24.03550166649498,56.96812127378949],[24.03550166649498,56.9654195414589],[24.039793833170233,56.9640686018201]]]}},{\"type\":\"Feature\",\"id\":\"0.4197233787705039,1.2145724138918184\",\"geometry\":{\"type\":\"Polygon\",\"coordinates\":[[[24.04837816652073,56.93163135302371],[24.05267033319598,56.93298346855396],[24.05267033319598,56.93568755259368],[24.04837816652073,56.93703952110525],[24.044085999845482,56.93568755259368],[24.044085999845482,56.93298346855396],[24.04837816652073,56.93163135302371]]]}},{\"type\":\"Feature\",\"id\":\"0.4197233787705039,1.2150914225042688\",\"geometry\":{\"type\":\"Polygon\",\"coordinates\":[[[24.04837816652073,56.94785350513315],[24.05267033319598,56.949205032643924],[24.05267033319598,56.951907940681615],[24.04837816652073,56.95325932121056],[24.044085999845482,56.951907940681615],[24.044085999845482,56.949205032643924],[24.04837816652073,56.94785350513315]]]}},{\"type\":\"Feature\",\"id\":\"0.41987320365155895,1.2148319181980436\",\"geometry\":{\"type\":\"Polygon\",\"coordinates\":[[[24.056962499871236,56.93974331111684],[24.061254666546482,56.941095132618926],[24.061254666546482,56.943798628620755],[24.056962499871236,56.94515030312259],[24.052670333195984,56.943798628620755],[24.052670333195984,56.941095132618926],[24.056962499871236,56.93974331111684]]]}},{\"type\":\"Feature\",\"id\":\"0.41987320365155895,1.215350926810494\",\"geometry\":{\"type\":\"Polygon\",\"coordinates\":[[[24.056962499871236,56.95596193529381],[24.061254666546482,56.95731316885016],[24.061254666546482,56.960015488997406],[24.056962499871236,56.961366575590375],[24.052670333195984,56.960015488997406],[24.052670333195984,56.95731316885016],[24.056962499871236,56.95596193529381]]]}},{\"type\":\"Feature\",\"id\":\"0.420023028532614,1.2148319181980436\",\"geometry\":{\"type\":\"Polygon\",\"coordinates\":[[[24.065546833221735,56.93974331111684],[24.069838999896987,56.941095132618926],[24.069838999896987,56.943798628620755],[24.065546833221735,56.94515030312259],[24.061254666546485,56.943798628620755],[24.061254666546485,56.941095132618926],[24.065546833221735,56.93974331111684]]]}},{\"type\":\"Feature\",\"id\":\"0.420172853413669,1.214053405279368\",\"geometry\":{\"type\":\"Polygon\",\"coordinates\":[[[24.074131166572236,56.915402143722865],[24.07842333324749,56.9167548474199],[24.07842333324749,56.91946010775646],[24.074131166572236,56.92081266439798],[24.06983899989699,56.91946010775646],[24.06983899989699,56.9167548474199],[24.074131166572236,56.915402143722865]]]}},{\"type\":\"Feature\",\"id\":\"0.420172853413669,1.2145724138918184\",\"geometry\":{\"type\":\"Polygon\",\"coordinates\":[[[24.074131166572236,56.93163135302371],[24.07842333324749,56.93298346855396],[24.07842333324749,56.93568755259368],[24.074131166572236,56.93703952110525],[24.06983899989699,56.93568755259368],[24.06983899989699,56.93298346855396],[24.074131166572236,56.93163135302371]]]}},{\"type\":\"Feature\",\"id\":\"0.420172853413669,1.2148319181980436\",\"geometry\":{\"type\":\"Polygon\",\"coordinates\":[[[24.074131166572236,56.93974331111684],[24.07842333324749,56.941095132618926],[24.07842333324749,56.943798628620755],[24.074131166572236,56.94515030312259],[24.06983899989699,56.943798628620755],[24.06983899989699,56.941095132618926],[24.074131166572236,56.93974331111684]]]}},{\"type\":\"Feature\",\"id\":\"0.42032267829472403,1.2143129095855931\",\"geometry\":{\"type\":\"Polygon\",\"coordinates\":[[[24.08271549992274,56.92351763063271],[24.087007666597994,56.924870040227944],[24.087007666597994,56.92757471237926],[24.08271549992274,56.92892697493739],[24.07842333324749,56.92757471237926],[24.07842333324749,56.924870040227944],[24.08271549992274,56.92351763063271]]]}},{\"type\":\"Feature\",\"id\":\"0.42032267829472403,1.2145724138918184\",\"geometry\":{\"type\":\"Polygon\",\"coordinates\":[[[24.08271549992274,56.93163135302371],[24.087007666597994,56.93298346855396],[24.087007666597994,56.93568755259368],[24.08271549992274,56.93703952110525],[24.07842333324749,56.93568755259368],[24.07842333324749,56.93298346855396],[24.08271549992274,56.93163135302371]]]}},{\"type\":\"Feature\",\"id\":\"0.42032267829472403,1.2148319181980436\",\"geometry\":{\"type\":\"Polygon\",\"coordinates\":[[[24.08271549992274,56.93974331111684],[24.087007666597994,56.941095132618926],[24.087007666597994,56.943798628620755],[24.08271549992274,56.94515030312259],[24.07842333324749,56.943798628620755],[24.07842333324749,56.941095132618926],[24.08271549992274,56.93974331111684]]]}},{\"type\":\"Feature\",\"id\":\"0.42032267829472403,1.2150914225042688\",\"geometry\":{\"type\":\"Polygon\",\"coordinates\":[[[24.08271549992274,56.94785350513315],[24.087007666597994,56.949205032643924],[24.087007666597994,56.951907940681615],[24.08271549992274,56.95325932121056],[24.07842333324749,56.951907940681615],[24.07842333324749,56.949205032643924],[24.08271549992274,56.94785350513315]]]}},{\"type\":\"Feature\",\"id\":\"0.42032267829472403,1.215350926810494\",\"geometry\":{\"type\":\"Polygon\",\"coordinates\":[[[24.08271549992274,56.95596193529381],[24.087007666597994,56.95731316885016],[24.087007666597994,56.960015488997406],[24.08271549992274,56.961366575590375],[24.07842333324749,56.960015488997406],[24.07842333324749,56.95731316885016],[24.08271549992274,56.95596193529381]]]}},{\"type\":\"Feature\",\"id\":\"0.42047250317577906,1.2143129095855931\",\"geometry\":{\"type\":\"Polygon\",\"coordinates\":[[[24.091299833273244,56.92351763063271],[24.095591999948493,56.924870040227944],[24.095591999948493,56.92757471237926],[24.091299833273244,56.92892697493739],[24.087007666597994,56.92757471237926],[24.087007666597994,56.924870040227944],[24.091299833273244,56.92351763063271]]]}},{\"type\":\"Feature\",\"id\":\"0.42047250317577906,1.2148319181980436\",\"geometry\":{\"type\":\"Polygon\",\"coordinates\":[[[24.091299833273244,56.93974331111684],[24.095591999948493,56.941095132618926],[24.095591999948493,56.943798628620755],[24.091299833273244,56.94515030312259],[24.087007666597994,56.943798628620755],[24.087007666597994,56.941095132618926],[24.091299833273244,56.93974331111684]]]}},{\"type\":\"Feature\",\"id\":\"0.420622328056834,1.2135343966669174\",\"geometry\":{\"type\":\"Polygon\",\"coordinates\":[[[24.099884166623742,56.89916587546315],[24.104176333298994,56.900519167474236],[24.104176333298994,56.90322560440205],[24.099884166623742,56.904578749320855],[24.095591999948493,56.90322560440205],[24.095591999948493,56.900519167474236],[24.099884166623742,56.89916587546315]]]}},{\"type\":\"Feature\",\"id\":\"0.420622328056834,1.214053405279368\",\"geometry\":{\"type\":\"Polygon\",\"coordinates\":[[[24.099884166623742,56.915402143722865],[24.104176333298994,56.9167548474199],[24.104176333298994,56.91946010775646],[24.099884166623742,56.92081266439798],[24.095591999948493,56.91946010775646],[24.095591999948493,56.9167548474199],[24.099884166623742,56.915402143722865]]]}},{\"type\":\"Feature\",\"id\":\"0.420622328056834,1.2145724138918184\",\"geometry\":{\"type\":\"Polygon\",\"coordinates\":[[[24.099884166623742,56.93163135302371],[24.104176333298994,56.93298346855396],[24.104176333298994,56.93568755259368],[24.099884166623742,56.93703952110525],[24.095591999948493,56.93568755259368],[24.095591999948493,56.93298346855396],[24.099884166623742,56.93163135302371]]]}},{\"type\":\"Feature\",\"id\":\"0.420622328056834,1.2148319181980436\",\"geometry\":{\"type\":\"Polygon\",\"coordinates\":[[[24.099884166623742,56.93974331111684],[24.104176333298994,56.941095132618926],[24.104176333298994,56.943798628620755],[24.099884166623742,56.94515030312259],[24.095591999948493,56.943798628620755],[24.095591999948493,56.941095132618926],[24.099884166623742,56.93974331111684]]]}},{\"type\":\"Feature\",\"id\":\"0.420622328056834,1.2150914225042688\",\"geometry\":{\"type\":\"Polygon\",\"coordinates\":[[[24.099884166623742,56.94785350513315],[24.104176333298994,56.949205032643924],[24.104176333298994,56.951907940681615],[24.099884166623742,56.95325932121056],[24.095591999948493,56.951907940681615],[24.095591999948493,56.949205032643924],[24.099884166623742,56.94785350513315]]]}},{\"type\":\"Feature\",\"id\":\"0.420622328056834,1.215350926810494\",\"geometry\":{\"type\":\"Polygon\",\"coordinates\":[[[24.099884166623742,56.95596193529381],[24.104176333298994,56.95731316885016],[24.104176333298994,56.960015488997406],[24.099884166623742,56.961366575590375],[24.095591999948493,56.960015488997406],[24.095591999948493,56.95731316885016],[24.099884166623742,56.95596193529381]]]}},{\"type\":\"Feature\",\"id\":\"0.420622328056834,1.2156104311167193\",\"geometry\":{\"type\":\"Polygon\",\"coordinates\":[[[24.099884166623742,56.9640686018201],[24.104176333298994,56.9654195414589],[24.104176333298994,56.96812127378949],[24.099884166623742,56.969472066483384],[24.095591999948493,56.96812127378949],[24.095591999948493,56.9654195414589],[24.099884166623742,56.9640686018201]]]}},{\"type\":\"Feature\",\"id\":\"0.420622328056834,1.2189839870976478\",\"geometry\":{\"type\":\"Polygon\",\"coordinates\":[[[24.099884166623742,57.06929487677381],[24.104176333298994,57.07064199884809],[24.104176333298994,57.07333609629019],[24.099884166623742,57.07468307166009],[24.095591999948493,57.07333609629019],[24.095591999948493,57.07064199884809],[24.099884166623742,57.06929487677381]]]}},{\"type\":\"Feature\",\"id\":\"0.42077215293788905,1.2150914225042688\",\"geometry\":{\"type\":\"Polygon\",\"coordinates\":[[[24.108468499974247,56.94785350513315],[24.112760666649493,56.949205032643924],[24.112760666649493,56.951907940681615],[24.108468499974247,56.95325932121056],[24.104176333298994,56.951907940681615],[24.104176333298994,56.949205032643924],[24.108468499974247,56.94785350513315]]]}},{\"type\":\"Feature\",\"id\":\"0.42077215293788905,1.215350926810494\",\"geometry\":{\"type\":\"Polygon\",\"coordinates\":[[[24.108468499974247,56.95596193529381],[24.112760666649493,56.95731316885016],[24.112760666649493,56.960015488997406],[24.108468499974247,56.961366575590375],[24.104176333298994,56.960015488997406],[24.104176333298994,56.95731316885016],[24.108468499974247,56.95596193529381]]]}},{\"type\":\"Feature\",\"id\":\"0.42077215293788905,1.2156104311167193\",\"geometry\":{\"type\":\"Polygon\",\"coordinates\":[[[24.108468499974247,56.9640686018201],[24.112760666649493,56.9654195414589],[24.112760666649493,56.96812127378949],[24.108468499974247,56.969472066483384],[24.104176333298994,56.96812127378949],[24.104176333298994,56.9654195414589],[24.108468499974247,56.9640686018201]]]}},{\"type\":\"Feature\",\"id\":\"0.42077215293788905,1.2158699354229445\",\"geometry\":{\"type\":\"Polygon\",\"coordinates\":[[[24.108468499974247,56.972173504933345],[24.112760666649493,56.97352415069148],[24.112760666649493,56.976225295279264],[24.108468499974247,56.97757579411093],[24.104176333298994,56.976225295279264],[24.104176333298994,56.97352415069148],[24.108468499974247,56.972173504933345]]]}},{\"type\":\"Feature\",\"id\":\"0.4209219778189441,1.2148319181980436\",\"geometry\":{\"type\":\"Polygon\",\"coordinates\":[[[24.11705283332475,56.93974331111684],[24.121344999999998,56.941095132618926],[24.121344999999998,56.943798628620755],[24.11705283332475,56.94515030312259],[24.1127606666495,56.943798628620755],[24.1127606666495,56.941095132618926],[24.11705283332475,56.93974331111684]]]}},{\"type\":\"Feature\",\"id\":\"0.4209219778189441,1.2150914225042688\",\"geometry\":{\"type\":\"Polygon\",\"coordinates\":[[[24.11705283332475,56.94785350513315],[24.121344999999998,56.949205032643924],[24.121344999999998,56.951907940681615],[24.11705283332475,56.95325932121056],[24.1127606666495,56.951907940681615],[24.1127606666495,56.949205032643924],[24.11705283332475,56.94785350513315]]]}},{\"type\":\"Feature\",\"id\":\"0.4209219778189441,1.215350926810494\",\"geometry\":{\"type\":\"Polygon\",\"coordinates\":[[[24.11705283332475,56.95596193529381],[24.121344999999998,56.95731316885016],[24.121344999999998,56.960015488997406],[24.11705283332475,56.961366575590375],[24.1127606666495,56.960015488997406],[24.1127606666495,56.95731316885016],[24.11705283332475,56.95596193529381]]]}},{\"type\":\"Feature\",\"id\":\"0.4210718026999991,1.2148319181980436\",\"geometry\":{\"type\":\"Polygon\",\"coordinates\":[[[24.12563716667525,56.93974331111684],[24.1299293333505,56.941095132618926],[24.1299293333505,56.943798628620755],[24.12563716667525,56.94515030312259],[24.121345,56.943798628620755],[24.121345,56.941095132618926],[24.12563716667525,56.93974331111684]]]}},{\"type\":\"Feature\",\"id\":\"0.4210718026999991,1.2150914225042688\",\"geometry\":{\"type\":\"Polygon\",\"coordinates\":[[[24.12563716667525,56.94785350513315],[24.1299293333505,56.949205032643924],[24.1299293333505,56.951907940681615],[24.12563716667525,56.95325932121056],[24.121345,56.951907940681615],[24.121345,56.949205032643924],[24.12563716667525,56.94785350513315]]]}},{\"type\":\"Feature\",\"id\":\"0.4210718026999991,1.215350926810494\",\"geometry\":{\"type\":\"Polygon\",\"coordinates\":[[[24.12563716667525,56.95596193529381],[24.1299293333505,56.95731316885016],[24.1299293333505,56.960015488997406],[24.12563716667525,56.961366575590375],[24.121345,56.960015488997406],[24.121345,56.95731316885016],[24.12563716667525,56.95596193529381]]]}},{\"type\":\"Feature\",\"id\":\"0.4210718026999991,1.2156104311167193\",\"geometry\":{\"type\":\"Polygon\",\"coordinates\":[[[24.12563716667525,56.9640686018201],[24.1299293333505,56.9654195414589],[24.1299293333505,56.96812127378949],[24.12563716667525,56.969472066483384],[24.121345,56.96812127378949],[24.121345,56.9654195414589],[24.12563716667525,56.9640686018201]]]}},{\"type\":\"Feature\",\"id\":\"0.4210718026999991,1.2166484483416204\",\"geometry\":{\"type\":\"Polygon\",\"coordinates\":[[[24.12563716667525,56.99647763600977],[24.1299293333505,56.99782740034757],[24.1299293333505,57.00052678214998],[24.12563716667525,57.001876399616705],[24.121345,57.00052678214998],[24.121345,56.99782740034757],[24.12563716667525,56.99647763600977]]]}},{\"type\":\"Feature\",\"id\":\"0.4210718026999991,1.2169079526478457\",\"geometry\":{\"type\":\"Polygon\",\"coordinates\":[[[24.12563716667525,57.004575487686246],[24.1299293333505,57.00592495829113],[24.1299293333505,57.00862375264627],[24.12563716667525,57.009973076398595],[24.121345,57.00862375264627],[24.121345,57.00592495829113],[24.12563716667525,57.004575487686246]]]}},{\"type\":\"Feature\",\"id\":\"0.42122162758105414,1.2148319181980436\",\"geometry\":{\"type\":\"Polygon\",\"coordinates\":[[[24.134221500025753,56.93974331111684],[24.138513666701005,56.941095132618926],[24.138513666701005,56.943798628620755],[24.134221500025753,56.94515030312259],[24.129929333350507,56.943798628620755],[24.129929333350507,56.941095132618926],[24.134221500025753,56.93974331111684]]]}},{\"type\":\"Feature\",\"id\":\"0.42122162758105414,1.2150914225042688\",\"geometry\":{\"type\":\"Polygon\",\"coordinates\":[[[24.134221500025753,56.94785350513315],[24.138513666701005,56.949205032643924],[24.138513666701005,56.951907940681615],[24.134221500025753,56.95325932121056],[24.129929333350507,56.951907940681615],[24.129929333350507,56.949205032643924],[24.134221500025753,56.94785350513315]]]}},{\"type\":\"Feature\",\"id\":\"0.42122162758105414,1.215350926810494\",\"geometry\":{\"type\":\"Polygon\",\"coordinates\":[[[24.134221500025753,56.95596193529381],[24.138513666701005,56.95731316885016],[24.138513666701005,56.960015488997406],[24.134221500025753,56.961366575590375],[24.129929333350507,56.960015488997406],[24.129929333350507,56.95731316885016],[24.134221500025753,56.95596193529381]]]}},{\"type\":\"Feature\",\"id\":\"0.42122162758105414,1.2156104311167193\",\"geometry\":{\"type\":\"Polygon\",\"coordinates\":[[[24.134221500025753,56.9640686018201],[24.138513666701005,56.9654195414589],[24.138513666701005,56.96812127378949],[24.134221500025753,56.969472066483384],[24.129929333350507,56.96812127378949],[24.129929333350507,56.9654195414589],[24.134221500025753,56.9640686018201]]]}},{\"type\":\"Feature\",\"id\":\"0.42122162758105414,1.2158699354229445\",\"geometry\":{\"type\":\"Polygon\",\"coordinates\":[[[24.134221500025753,56.972173504933345],[24.138513666701005,56.97352415069148],[24.138513666701005,56.976225295279264],[24.134221500025753,56.97757579411093],[24.129929333350507,56.976225295279264],[24.129929333350507,56.97352415069148],[24.134221500025753,56.972173504933345]]]}},{\"type\":\"Feature\",\"id\":\"0.42122162758105414,1.2174269612602961\",\"geometry\":{\"type\":\"Polygon\",\"coordinates\":[[[24.134221500025753,57.02076590434641],[24.138513666701005,57.022114787596486],[24.138513666701005,57.024812407278965],[24.134221500025753,57.02616114371344],[24.129929333350507,57.024812407278965],[24.129929333350507,57.022114787596486],[24.134221500025753,57.02076590434641]]]}},{\"type\":\"Feature\",\"id\":\"0.42137145246210916,1.2148319181980436\",\"geometry\":{\"type\":\"Polygon\",\"coordinates\":[[[24.142805833376254,56.93974331111684],[24.147098000051507,56.941095132618926],[24.147098000051507,56.943798628620755],[24.142805833376254,56.94515030312259],[24.13851366670101,56.943798628620755],[24.13851366670101,56.941095132618926],[24.142805833376254,56.93974331111684]]]}},{\"type\":\"Feature\",\"id\":\"0.42137145246210916,1.2150914225042688\",\"geometry\":{\"type\":\"Polygon\",\"coordinates\":[[[24.142805833376254,56.94785350513315],[24.147098000051507,56.949205032643924],[24.147098000051507,56.951907940681615],[24.142805833376254,56.95325932121056],[24.13851366670101,56.951907940681615],[24.13851366670101,56.949205032643924],[24.142805833376254,56.94785350513315]]]}},{\"type\":\"Feature\",\"id\":\"0.42137145246210916,1.215350926810494\",\"geometry\":{\"type\":\"Polygon\",\"coordinates\":[[[24.142805833376254,56.95596193529381],[24.147098000051507,56.95731316885016],[24.147098000051507,56.960015488997406],[24.142805833376254,56.961366575590375],[24.13851366670101,56.960015488997406],[24.13851366670101,56.95731316885016],[24.142805833376254,56.95596193529381]]]}},{\"type\":\"Feature\",\"id\":\"0.42137145246210916,1.2156104311167193\",\"geometry\":{\"type\":\"Polygon\",\"coordinates\":[[[24.142805833376254,56.9640686018201],[24.147098000051507,56.9654195414589],[24.147098000051507,56.96812127378949],[24.142805833376254,56.969472066483384],[24.13851366670101,56.96812127378949],[24.13851366670101,56.9654195414589],[24.142805833376254,56.9640686018201]]]}},{\"type\":\"Feature\",\"id\":\"0.42137145246210916,1.2158699354229445\",\"geometry\":{\"type\":\"Polygon\",\"coordinates\":[[[24.142805833376254,56.972173504933345],[24.147098000051507,56.97352415069148],[24.147098000051507,56.976225295279264],[24.142805833376254,56.97757579411093],[24.13851366670101,56.976225295279264],[24.13851366670101,56.97352415069148],[24.142805833376254,56.972173504933345]]]}},{\"type\":\"Feature\",\"id\":\"0.42152127734316414,1.2148319181980436\",\"geometry\":{\"type\":\"Polygon\",\"coordinates\":[[[24.151390166726756,56.93974331111684],[24.155682333402005,56.941095132618926],[24.155682333402005,56.943798628620755],[24.151390166726756,56.94515030312259],[24.147098000051507,56.943798628620755],[24.147098000051507,56.941095132618926],[24.151390166726756,56.93974331111684]]]}},{\"type\":\"Feature\",\"id\":\"0.42152127734316414,1.2150914225042688\",\"geometry\":{\"type\":\"Polygon\",\"coordinates\":[[[24.151390166726756,56.94785350513315],[24.155682333402005,56.949205032643924],[24.155682333402005,56.951907940681615],[24.151390166726756,56.95325932121056],[24.147098000051507,56.951907940681615],[24.147098000051507,56.949205032643924],[24.151390166726756,56.94785350513315]]]}},{\"type\":\"Feature\",\"id\":\"0.42152127734316414,1.215350926810494\",\"geometry\":{\"type\":\"Polygon\",\"coordinates\":[[[24.151390166726756,56.95596193529381],[24.155682333402005,56.95731316885016],[24.155682333402005,56.960015488997406],[24.151390166726756,56.961366575590375],[24.147098000051507,56.960015488997406],[24.147098000051507,56.95731316885016],[24.151390166726756,56.95596193529381]]]}},{\"type\":\"Feature\",\"id\":\"0.42152127734316414,1.2156104311167193\",\"geometry\":{\"type\":\"Polygon\",\"coordinates\":[[[24.151390166726756,56.9640686018201],[24.155682333402005,56.9654195414589],[24.155682333402005,56.96812127378949],[24.151390166726756,56.969472066483384],[24.147098000051507,56.96812127378949],[24.147098000051507,56.9654195414589],[24.151390166726756,56.9640686018201]]]}},{\"type\":\"Feature\",\"id\":\"0.42152127734316414,1.2158699354229445\",\"geometry\":{\"type\":\"Polygon\",\"coordinates\":[[[24.151390166726756,56.972173504933345],[24.155682333402005,56.97352415069148],[24.155682333402005,56.976225295279264],[24.151390166726756,56.97757579411093],[24.147098000051507,56.976225295279264],[24.147098000051507,56.97352415069148],[24.151390166726756,56.972173504933345]]]}},{\"type\":\"Feature\",\"id\":\"0.42152127734316414,1.2174269612602961\",\"geometry\":{\"type\":\"Polygon\",\"coordinates\":[[[24.151390166726756,57.02076590434641],[24.155682333402005,57.022114787596486],[24.155682333402005,57.024812407278965],[24.151390166726756,57.02616114371344],[24.147098000051507,57.024812407278965],[24.147098000051507,57.022114787596486],[24.151390166726756,57.02076590434641]]]}},{\"type\":\"Feature\",\"id\":\"0.42167110222421916,1.2143129095855931\",\"geometry\":{\"type\":\"Polygon\",\"coordinates\":[[[24.159974500077258,56.92351763063271],[24.16426666675251,56.924870040227944],[24.16426666675251,56.92757471237926],[24.159974500077258,56.92892697493739],[24.155682333402005,56.92757471237926],[24.155682333402005,56.924870040227944],[24.159974500077258,56.92351763063271]]]}},{\"type\":\"Feature\",\"id\":\"0.42167110222421916,1.215350926810494\",\"geometry\":{\"type\":\"Polygon\",\"coordinates\":[[[24.159974500077258,56.95596193529381],[24.16426666675251,56.95731316885016],[24.16426666675251,56.960015488997406],[24.159974500077258,56.961366575590375],[24.155682333402005,56.960015488997406],[24.155682333402005,56.95731316885016],[24.159974500077258,56.95596193529381]]]}},{\"type\":\"Feature\",\"id\":\"0.42167110222421916,1.2158699354229445\",\"geometry\":{\"type\":\"Polygon\",\"coordinates\":[[[24.159974500077258,56.972173504933345],[24.16426666675251,56.97352415069148],[24.16426666675251,56.976225295279264],[24.159974500077258,56.97757579411093],[24.155682333402005,56.976225295279264],[24.155682333402005,56.97352415069148],[24.159974500077258,56.972173504933345]]]}},{\"type\":\"Feature\",\"id\":\"0.4218209271052742,1.214053405279368\",\"geometry\":{\"type\":\"Polygon\",\"coordinates\":[[[24.168558833427763,56.915402143722865],[24.17285100010301,56.9167548474199],[24.17285100010301,56.91946010775646],[24.168558833427763,56.92081266439798],[24.16426666675251,56.91946010775646],[24.16426666675251,56.9167548474199],[24.168558833427763,56.915402143722865]]]}},{\"type\":\"Feature\",\"id\":\"0.4218209271052742,1.2145724138918184\",\"geometry\":{\"type\":\"Polygon\",\"coordinates\":[[[24.168558833427763,56.93163135302371],[24.17285100010301,56.93298346855396],[24.17285100010301,56.93568755259368],[24.168558833427763,56.93703952110525],[24.16426666675251,56.93568755259368],[24.16426666675251,56.93298346855396],[24.168558833427763,56.93163135302371]]]}},{\"type\":\"Feature\",\"id\":\"0.4218209271052742,1.215350926810494\",\"geometry\":{\"type\":\"Polygon\",\"coordinates\":[[[24.168558833427763,56.95596193529381],[24.17285100010301,56.95731316885016],[24.17285100010301,56.960015488997406],[24.168558833427763,56.961366575590375],[24.16426666675251,56.960015488997406],[24.16426666675251,56.95731316885016],[24.168558833427763,56.95596193529381]]]}},{\"type\":\"Feature\",\"id\":\"0.4219707519863292,1.2137939009731427\",\"geometry\":{\"type\":\"Polygon\",\"coordinates\":[[[24.177143166778265,56.90728489207327],[24.18143533345351,56.908637889908945],[24.18143533345351,56.91134373850433],[24.177143166778265,56.9126965892661],[24.172851000103012,56.91134373850433],[24.172851000103012,56.908637889908945],[24.177143166778265,56.90728489207327]]]}},{\"type\":\"Feature\",\"id\":\"0.4219707519863292,1.2150914225042688\",\"geometry\":{\"type\":\"Polygon\",\"coordinates\":[[[24.177143166778265,56.94785350513315],[24.18143533345351,56.949205032643924],[24.18143533345351,56.951907940681615],[24.177143166778265,56.95325932121056],[24.172851000103012,56.951907940681615],[24.172851000103012,56.949205032643924],[24.177143166778265,56.94785350513315]]]}},{\"type\":\"Feature\",\"id\":\"0.4219707519863292,1.2158699354229445\",\"geometry\":{\"type\":\"Polygon\",\"coordinates\":[[[24.177143166778265,56.972173504933345],[24.18143533345351,56.97352415069148],[24.18143533345351,56.976225295279264],[24.177143166778265,56.97757579411093],[24.172851000103012,56.976225295279264],[24.172851000103012,56.97352415069148],[24.177143166778265,56.972173504933345]]]}},{\"type\":\"Feature\",\"id\":\"0.4219707519863292,1.21612943972917\",\"geometry\":{\"type\":\"Polygon\",\"coordinates\":[[[24.177143166778265,56.98027664485501],[24.18143533345351,56.98162699676943],[24.18143533345351,56.98432755368822],[24.177143166778265,56.98567775869462],[24.172851000103012,56.98432755368822],[24.172851000103012,56.98162699676943],[24.177143166778265,56.98027664485501]]]}},{\"type\":\"Feature\",\"id\":\"0.42212057686738425,1.214053405279368\",\"geometry\":{\"type\":\"Polygon\",\"coordinates\":[[[24.185727500128767,56.915402143722865],[24.190019666804016,56.9167548474199],[24.190019666804016,56.91946010775646],[24.185727500128767,56.92081266439798],[24.181435333453518,56.91946010775646],[24.181435333453518,56.9167548474199],[24.185727500128767,56.915402143722865]]]}},{\"type\":\"Feature\",\"id\":\"0.42212057686738425,1.2156104311167193\",\"geometry\":{\"type\":\"Polygon\",\"coordinates\":[[[24.185727500128767,56.9640686018201],[24.190019666804016,56.9654195414589],[24.190019666804016,56.96812127378949],[24.185727500128767,56.969472066483384],[24.181435333453518,56.96812127378949],[24.181435333453518,56.9654195414589],[24.185727500128767,56.9640686018201]]]}},{\"type\":\"Feature\",\"id\":\"0.42212057686738425,1.21612943972917\",\"geometry\":{\"type\":\"Polygon\",\"coordinates\":[[[24.185727500128767,56.98027664485501],[24.190019666804016,56.98162699676943],[24.190019666804016,56.98432755368822],[24.185727500128767,56.98567775869462],[24.181435333453518,56.98432755368822],[24.181435333453518,56.98162699676943],[24.185727500128767,56.98027664485501]]]}},{\"type\":\"Feature\",\"id\":\"0.4222704017484393,1.2137939009731427\",\"geometry\":{\"type\":\"Polygon\",\"coordinates\":[[[24.19431183347927,56.90728489207327],[24.198604000154518,56.908637889908945],[24.198604000154518,56.91134373850433],[24.19431183347927,56.9126965892661],[24.19001966680402,56.91134373850433],[24.19001966680402,56.908637889908945],[24.19431183347927,56.90728489207327]]]}},{\"type\":\"Feature\",\"id\":\"0.4222704017484393,1.2145724138918184\",\"geometry\":{\"type\":\"Polygon\",\"coordinates\":[[[24.19431183347927,56.93163135302371],[24.198604000154518,56.93298346855396],[24.198604000154518,56.93568755259368],[24.19431183347927,56.93703952110525],[24.19001966680402,56.93568755259368],[24.19001966680402,56.93298346855396],[24.19431183347927,56.93163135302371]]]}},{\"type\":\"Feature\",\"id\":\"0.42242022662949424,1.2150914225042688\",\"geometry\":{\"type\":\"Polygon\",\"coordinates\":[[[24.202896166829767,56.94785350513315],[24.20718833350502,56.949205032643924],[24.20718833350502,56.951907940681615],[24.202896166829767,56.95325932121056],[24.198604000154518,56.951907940681615],[24.198604000154518,56.949205032643924],[24.202896166829767,56.94785350513315]]]}},{\"type\":\"Feature\",\"id\":\"0.42301952615371435,1.21612943972917\",\"geometry\":{\"type\":\"Polygon\",\"coordinates\":[[[24.23723350023178,56.98027664485501],[24.241525666907027,56.98162699676943],[24.241525666907027,56.98432755368822],[24.23723350023178,56.98567775869462],[24.23294133355653,56.98432755368822],[24.23294133355653,56.98162699676943],[24.23723350023178,56.98027664485501]]]}},{\"type\":\"Feature\",\"id\":\"0.4231693510347694,1.2158699354229445\",\"geometry\":{\"type\":\"Polygon\",\"coordinates\":[[[24.245817833582283,56.972173504933345],[24.250110000257532,56.97352415069148],[24.250110000257532,56.976225295279264],[24.245817833582283,56.97757579411093],[24.24152566690703,56.976225295279264],[24.24152566690703,56.97352415069148],[24.245817833582283,56.972173504933345]]]}}]},\"hovertemplate\":\"Score=%{z}\\u003cextra\\u003e\\u003c\\u002fextra\\u003e\",\"locations\":[\"0.4187495170436463,1.2152211746573816\",\"0.4187495170436463,1.2172972091071834\",\"0.41889934192470135,1.2154806789636068\",\"0.4191989916868114,1.2149616703511563\",\"0.4193488165678664,1.2144426617387056\",\"0.4193488165678664,1.2147021660449309\",\"0.4193488165678664,1.2154806789636068\",\"0.4194986414489214,1.2152211746573816\",\"0.41979829121103146,1.2144426617387056\",\"0.41979829121103146,1.2149616703511563\",\"0.41979829121103146,1.2152211746573816\",\"0.41979829121103146,1.215740183269832\",\"0.4199481160920865,1.2147021660449309\",\"0.4199481160920865,1.2149616703511563\",\"0.4199481160920865,1.215740183269832\",\"0.4199481160920865,1.2183352263320846\",\"0.42009794097314146,1.2144426617387056\",\"0.42009794097314146,1.2147021660449309\",\"0.42009794097314146,1.2152211746573816\",\"0.4202477658541965,1.2144426617387056\",\"0.4202477658541965,1.2147021660449309\",\"0.4202477658541965,1.2149616703511563\",\"0.4203975907352515,1.2141831574324804\",\"0.4203975907352515,1.2144426617387056\",\"0.4203975907352515,1.2152211746573816\",\"0.42054741561630654,1.2141831574324804\",\"0.42054741561630654,1.2147021660449309\",\"0.42054741561630654,1.2152211746573816\",\"0.42054741561630654,1.215740183269832\",\"0.42054741561630654,1.2191137392507603\",\"0.42069724049736157,1.2149616703511563\",\"0.42069724049736157,1.2152211746573816\",\"0.42069724049736157,1.2154806789636068\",\"0.42069724049736157,1.215740183269832\",\"0.42069724049736157,1.217816217719634\",\"0.4208470653784166,1.2149616703511563\",\"0.4208470653784166,1.2152211746573816\",\"0.4208470653784166,1.2154806789636068\",\"0.4209968902594716,1.2147021660449309\",\"0.4209968902594716,1.2149616703511563\",\"0.4209968902594716,1.2152211746573816\",\"0.4209968902594716,1.2154806789636068\",\"0.4209968902594716,1.215740183269832\",\"0.4211467151405266,1.2147021660449309\",\"0.4211467151405266,1.2149616703511563\",\"0.4211467151405266,1.2152211746573816\",\"0.4211467151405266,1.2154806789636068\",\"0.4211467151405266,1.215740183269832\",\"0.4211467151405266,1.216778200494733\",\"0.4211467151405266,1.2172972091071834\",\"0.4212965400215816,1.2147021660449309\",\"0.4212965400215816,1.2149616703511563\",\"0.4212965400215816,1.2152211746573816\",\"0.4212965400215816,1.2154806789636068\",\"0.4212965400215816,1.215740183269832\",\"0.4212965400215816,1.2159996875760573\",\"0.4212965400215816,1.2162591918822825\",\"0.42144636490263665,1.2149616703511563\",\"0.42144636490263665,1.2152211746573816\",\"0.42144636490263665,1.2154806789636068\",\"0.42144636490263665,1.215740183269832\",\"0.4215961897836917,1.2147021660449309\",\"0.4215961897836917,1.2152211746573816\",\"0.4215961897836917,1.2154806789636068\",\"0.4215961897836917,1.215740183269832\",\"0.4215961897836917,1.2165186961885077\",\"0.4217460146647467,1.2139236531262552\",\"0.4217460146647467,1.2159996875760573\",\"0.4218958395458017,1.2144426617387056\",\"0.4218958395458017,1.2149616703511563\",\"0.4218958395458017,1.215740183269832\",\"0.4220456644268567,1.2141831574324804\",\"0.4220456644268567,1.2152211746573816\",\"0.4220456644268567,1.2154806789636068\",\"0.4220456644268567,1.215740183269832\",\"0.42219548930791173,1.2152211746573816\",\"0.42219548930791173,1.2154806789636068\",\"0.42219548930791173,1.2159996875760573\",\"0.4224951390700218,1.2147021660449309\",\"0.4226449639510768,1.2134046445138047\",\"0.42309443859424184,1.2152211746573816\",\"0.41897425436522884,1.2148319181980436\",\"0.41912407924628386,1.2150914225042688\",\"0.41957355388944895,1.2156104311167193\",\"0.4197233787705039,1.2145724138918184\",\"0.4197233787705039,1.2150914225042688\",\"0.41987320365155895,1.2148319181980436\",\"0.41987320365155895,1.215350926810494\",\"0.420023028532614,1.2148319181980436\",\"0.420172853413669,1.214053405279368\",\"0.420172853413669,1.2145724138918184\",\"0.420172853413669,1.2148319181980436\",\"0.42032267829472403,1.2143129095855931\",\"0.42032267829472403,1.2145724138918184\",\"0.42032267829472403,1.2148319181980436\",\"0.42032267829472403,1.2150914225042688\",\"0.42032267829472403,1.215350926810494\",\"0.42047250317577906,1.2143129095855931\",\"0.42047250317577906,1.2148319181980436\",\"0.420622328056834,1.2135343966669174\",\"0.420622328056834,1.214053405279368\",\"0.420622328056834,1.2145724138918184\",\"0.420622328056834,1.2148319181980436\",\"0.420622328056834,1.2150914225042688\",\"0.420622328056834,1.215350926810494\",\"0.420622328056834,1.2156104311167193\",\"0.420622328056834,1.2189839870976478\",\"0.42077215293788905,1.2150914225042688\",\"0.42077215293788905,1.215350926810494\",\"0.42077215293788905,1.2156104311167193\",\"0.42077215293788905,1.2158699354229445\",\"0.4209219778189441,1.2148319181980436\",\"0.4209219778189441,1.2150914225042688\",\"0.4209219778189441,1.215350926810494\",\"0.4210718026999991,1.2148319181980436\",\"0.4210718026999991,1.2150914225042688\",\"0.4210718026999991,1.215350926810494\",\"0.4210718026999991,1.2156104311167193\",\"0.4210718026999991,1.2166484483416204\",\"0.4210718026999991,1.2169079526478457\",\"0.42122162758105414,1.2148319181980436\",\"0.42122162758105414,1.2150914225042688\",\"0.42122162758105414,1.215350926810494\",\"0.42122162758105414,1.2156104311167193\",\"0.42122162758105414,1.2158699354229445\",\"0.42122162758105414,1.2174269612602961\",\"0.42137145246210916,1.2148319181980436\",\"0.42137145246210916,1.2150914225042688\",\"0.42137145246210916,1.215350926810494\",\"0.42137145246210916,1.2156104311167193\",\"0.42137145246210916,1.2158699354229445\",\"0.42152127734316414,1.2148319181980436\",\"0.42152127734316414,1.2150914225042688\",\"0.42152127734316414,1.215350926810494\",\"0.42152127734316414,1.2156104311167193\",\"0.42152127734316414,1.2158699354229445\",\"0.42152127734316414,1.2174269612602961\",\"0.42167110222421916,1.2143129095855931\",\"0.42167110222421916,1.215350926810494\",\"0.42167110222421916,1.2158699354229445\",\"0.4218209271052742,1.214053405279368\",\"0.4218209271052742,1.2145724138918184\",\"0.4218209271052742,1.215350926810494\",\"0.4219707519863292,1.2137939009731427\",\"0.4219707519863292,1.2150914225042688\",\"0.4219707519863292,1.2158699354229445\",\"0.4219707519863292,1.21612943972917\",\"0.42212057686738425,1.214053405279368\",\"0.42212057686738425,1.2156104311167193\",\"0.42212057686738425,1.21612943972917\",\"0.4222704017484393,1.2137939009731427\",\"0.4222704017484393,1.2145724138918184\",\"0.42242022662949424,1.2150914225042688\",\"0.42301952615371435,1.21612943972917\",\"0.4231693510347694,1.2158699354229445\"],\"marker\":{\"opacity\":0.6},\"name\":\"\",\"subplot\":\"mapbox\",\"z\":[1.6425,1.544,3.45,2.85,2.9749999999999996,1.55,1.8250000000000002,2.05,1.7999999999999998,3.138,2.2365,2.05,2.93725,3.55,2.35,2.65,2.396,3.25,2.45,1.705,2.80725,2.9699,3.2752499999999998,2.35,2.6125,3.0801666666666665,3.1304,3.5,2.5999999999999996,1.65,2.1794000000000002,2.423,2.2,2.8097000000000003,2.75,2.0094189189189184,1.7385000000000002,1.8217500000000004,2.8346666666666667,2.812235294117647,2.5204558823529406,2.195611111111111,1.7000000000000002,3.0869999999999997,1.7005,2.653539473684211,3.0427,2.585625,2.72525,3.35,2.7914999999999996,2.7585555555555556,2.62584,2.0648947368421053,3.5244999999999997,3.1319999999999997,2.85,1.6744999999999999,2.7583571428571427,2.7149375,2.8036666666666665,2.727916666666667,3.0081666666666664,2.5108,2.7,1.65,2.3,2.4,3.05,2.275,2.726,2.15,1.9372500000000001,2.4846666666666666,3.1374999999999997,3.3499999999999996,2.349875,2.53,3.0244999999999997,3.15,2.85,3.1864999999999997,3.05,3.5,1.7454999999999998,2.25,2.716416666666666,2.34625,2.9895,2.747,3.5199999999999996,2.891666666666667,2.230625,3.0065,1.99775,2.45,3.25,2.3499999999999996,2.752333333333333,1.7245,1.55,1.35,2.05,2.0293125,2.519625,2.4212,2.65,2.227347457627119,2.536033333333333,1.6395,2.802,3.532,2.328969696969697,1.7618636363636362,2.61325,2.3321692307692308,2.3941785714285717,3.01525,3.75,3.35,2.0458333333333334,2.6566071428571427,2.2594000000000003,2.8375833333333333,3.121,2.85,2.5700000000000003,2.4626891891891893,2.688166666666666,3.2455,2.359083333333333,2.8335,2.9113571428571428,3.1155500000000003,2.5215,3.2748333333333335,1.6251000000000002,3.3200000000000003,1.69,2.6833333333333336,2.802,2.35,2.35,3.2199999999999998,2.432,3.5839999999999996,2.6005,2.8200000000000003,2.2,2.275,2.9855,3.0364999999999998,2.8994999999999997,0.9500000000000001,3.7005],\"type\":\"choroplethmapbox\"}],                        {\"template\":{\"data\":{\"histogram2dcontour\":[{\"type\":\"histogram2dcontour\",\"colorbar\":{\"outlinewidth\":0,\"ticks\":\"\"},\"colorscale\":[[0.0,\"#0d0887\"],[0.1111111111111111,\"#46039f\"],[0.2222222222222222,\"#7201a8\"],[0.3333333333333333,\"#9c179e\"],[0.4444444444444444,\"#bd3786\"],[0.5555555555555556,\"#d8576b\"],[0.6666666666666666,\"#ed7953\"],[0.7777777777777778,\"#fb9f3a\"],[0.8888888888888888,\"#fdca26\"],[1.0,\"#f0f921\"]]}],\"choropleth\":[{\"type\":\"choropleth\",\"colorbar\":{\"outlinewidth\":0,\"ticks\":\"\"}}],\"histogram2d\":[{\"type\":\"histogram2d\",\"colorbar\":{\"outlinewidth\":0,\"ticks\":\"\"},\"colorscale\":[[0.0,\"#0d0887\"],[0.1111111111111111,\"#46039f\"],[0.2222222222222222,\"#7201a8\"],[0.3333333333333333,\"#9c179e\"],[0.4444444444444444,\"#bd3786\"],[0.5555555555555556,\"#d8576b\"],[0.6666666666666666,\"#ed7953\"],[0.7777777777777778,\"#fb9f3a\"],[0.8888888888888888,\"#fdca26\"],[1.0,\"#f0f921\"]]}],\"heatmap\":[{\"type\":\"heatmap\",\"colorbar\":{\"outlinewidth\":0,\"ticks\":\"\"},\"colorscale\":[[0.0,\"#0d0887\"],[0.1111111111111111,\"#46039f\"],[0.2222222222222222,\"#7201a8\"],[0.3333333333333333,\"#9c179e\"],[0.4444444444444444,\"#bd3786\"],[0.5555555555555556,\"#d8576b\"],[0.6666666666666666,\"#ed7953\"],[0.7777777777777778,\"#fb9f3a\"],[0.8888888888888888,\"#fdca26\"],[1.0,\"#f0f921\"]]}],\"heatmapgl\":[{\"type\":\"heatmapgl\",\"colorbar\":{\"outlinewidth\":0,\"ticks\":\"\"},\"colorscale\":[[0.0,\"#0d0887\"],[0.1111111111111111,\"#46039f\"],[0.2222222222222222,\"#7201a8\"],[0.3333333333333333,\"#9c179e\"],[0.4444444444444444,\"#bd3786\"],[0.5555555555555556,\"#d8576b\"],[0.6666666666666666,\"#ed7953\"],[0.7777777777777778,\"#fb9f3a\"],[0.8888888888888888,\"#fdca26\"],[1.0,\"#f0f921\"]]}],\"contourcarpet\":[{\"type\":\"contourcarpet\",\"colorbar\":{\"outlinewidth\":0,\"ticks\":\"\"}}],\"contour\":[{\"type\":\"contour\",\"colorbar\":{\"outlinewidth\":0,\"ticks\":\"\"},\"colorscale\":[[0.0,\"#0d0887\"],[0.1111111111111111,\"#46039f\"],[0.2222222222222222,\"#7201a8\"],[0.3333333333333333,\"#9c179e\"],[0.4444444444444444,\"#bd3786\"],[0.5555555555555556,\"#d8576b\"],[0.6666666666666666,\"#ed7953\"],[0.7777777777777778,\"#fb9f3a\"],[0.8888888888888888,\"#fdca26\"],[1.0,\"#f0f921\"]]}],\"surface\":[{\"type\":\"surface\",\"colorbar\":{\"outlinewidth\":0,\"ticks\":\"\"},\"colorscale\":[[0.0,\"#0d0887\"],[0.1111111111111111,\"#46039f\"],[0.2222222222222222,\"#7201a8\"],[0.3333333333333333,\"#9c179e\"],[0.4444444444444444,\"#bd3786\"],[0.5555555555555556,\"#d8576b\"],[0.6666666666666666,\"#ed7953\"],[0.7777777777777778,\"#fb9f3a\"],[0.8888888888888888,\"#fdca26\"],[1.0,\"#f0f921\"]]}],\"mesh3d\":[{\"type\":\"mesh3d\",\"colorbar\":{\"outlinewidth\":0,\"ticks\":\"\"}}],\"scatter\":[{\"fillpattern\":{\"fillmode\":\"overlay\",\"size\":10,\"solidity\":0.2},\"type\":\"scatter\"}],\"parcoords\":[{\"type\":\"parcoords\",\"line\":{\"colorbar\":{\"outlinewidth\":0,\"ticks\":\"\"}}}],\"scatterpolargl\":[{\"type\":\"scatterpolargl\",\"marker\":{\"colorbar\":{\"outlinewidth\":0,\"ticks\":\"\"}}}],\"bar\":[{\"error_x\":{\"color\":\"#2a3f5f\"},\"error_y\":{\"color\":\"#2a3f5f\"},\"marker\":{\"line\":{\"color\":\"#E5ECF6\",\"width\":0.5},\"pattern\":{\"fillmode\":\"overlay\",\"size\":10,\"solidity\":0.2}},\"type\":\"bar\"}],\"scattergeo\":[{\"type\":\"scattergeo\",\"marker\":{\"colorbar\":{\"outlinewidth\":0,\"ticks\":\"\"}}}],\"scatterpolar\":[{\"type\":\"scatterpolar\",\"marker\":{\"colorbar\":{\"outlinewidth\":0,\"ticks\":\"\"}}}],\"histogram\":[{\"marker\":{\"pattern\":{\"fillmode\":\"overlay\",\"size\":10,\"solidity\":0.2}},\"type\":\"histogram\"}],\"scattergl\":[{\"type\":\"scattergl\",\"marker\":{\"colorbar\":{\"outlinewidth\":0,\"ticks\":\"\"}}}],\"scatter3d\":[{\"type\":\"scatter3d\",\"line\":{\"colorbar\":{\"outlinewidth\":0,\"ticks\":\"\"}},\"marker\":{\"colorbar\":{\"outlinewidth\":0,\"ticks\":\"\"}}}],\"scattermapbox\":[{\"type\":\"scattermapbox\",\"marker\":{\"colorbar\":{\"outlinewidth\":0,\"ticks\":\"\"}}}],\"scatterternary\":[{\"type\":\"scatterternary\",\"marker\":{\"colorbar\":{\"outlinewidth\":0,\"ticks\":\"\"}}}],\"scattercarpet\":[{\"type\":\"scattercarpet\",\"marker\":{\"colorbar\":{\"outlinewidth\":0,\"ticks\":\"\"}}}],\"carpet\":[{\"aaxis\":{\"endlinecolor\":\"#2a3f5f\",\"gridcolor\":\"white\",\"linecolor\":\"white\",\"minorgridcolor\":\"white\",\"startlinecolor\":\"#2a3f5f\"},\"baxis\":{\"endlinecolor\":\"#2a3f5f\",\"gridcolor\":\"white\",\"linecolor\":\"white\",\"minorgridcolor\":\"white\",\"startlinecolor\":\"#2a3f5f\"},\"type\":\"carpet\"}],\"table\":[{\"cells\":{\"fill\":{\"color\":\"#EBF0F8\"},\"line\":{\"color\":\"white\"}},\"header\":{\"fill\":{\"color\":\"#C8D4E3\"},\"line\":{\"color\":\"white\"}},\"type\":\"table\"}],\"barpolar\":[{\"marker\":{\"line\":{\"color\":\"#E5ECF6\",\"width\":0.5},\"pattern\":{\"fillmode\":\"overlay\",\"size\":10,\"solidity\":0.2}},\"type\":\"barpolar\"}],\"pie\":[{\"automargin\":true,\"type\":\"pie\"}]},\"layout\":{\"autotypenumbers\":\"strict\",\"colorway\":[\"#636efa\",\"#EF553B\",\"#00cc96\",\"#ab63fa\",\"#FFA15A\",\"#19d3f3\",\"#FF6692\",\"#B6E880\",\"#FF97FF\",\"#FECB52\"],\"font\":{\"color\":\"#2a3f5f\"},\"hovermode\":\"closest\",\"hoverlabel\":{\"align\":\"left\"},\"paper_bgcolor\":\"white\",\"plot_bgcolor\":\"#E5ECF6\",\"polar\":{\"bgcolor\":\"#E5ECF6\",\"angularaxis\":{\"gridcolor\":\"white\",\"linecolor\":\"white\",\"ticks\":\"\"},\"radialaxis\":{\"gridcolor\":\"white\",\"linecolor\":\"white\",\"ticks\":\"\"}},\"ternary\":{\"bgcolor\":\"#E5ECF6\",\"aaxis\":{\"gridcolor\":\"white\",\"linecolor\":\"white\",\"ticks\":\"\"},\"baxis\":{\"gridcolor\":\"white\",\"linecolor\":\"white\",\"ticks\":\"\"},\"caxis\":{\"gridcolor\":\"white\",\"linecolor\":\"white\",\"ticks\":\"\"}},\"coloraxis\":{\"colorbar\":{\"outlinewidth\":0,\"ticks\":\"\"}},\"colorscale\":{\"sequential\":[[0.0,\"#0d0887\"],[0.1111111111111111,\"#46039f\"],[0.2222222222222222,\"#7201a8\"],[0.3333333333333333,\"#9c179e\"],[0.4444444444444444,\"#bd3786\"],[0.5555555555555556,\"#d8576b\"],[0.6666666666666666,\"#ed7953\"],[0.7777777777777778,\"#fb9f3a\"],[0.8888888888888888,\"#fdca26\"],[1.0,\"#f0f921\"]],\"sequentialminus\":[[0.0,\"#0d0887\"],[0.1111111111111111,\"#46039f\"],[0.2222222222222222,\"#7201a8\"],[0.3333333333333333,\"#9c179e\"],[0.4444444444444444,\"#bd3786\"],[0.5555555555555556,\"#d8576b\"],[0.6666666666666666,\"#ed7953\"],[0.7777777777777778,\"#fb9f3a\"],[0.8888888888888888,\"#fdca26\"],[1.0,\"#f0f921\"]],\"diverging\":[[0,\"#8e0152\"],[0.1,\"#c51b7d\"],[0.2,\"#de77ae\"],[0.3,\"#f1b6da\"],[0.4,\"#fde0ef\"],[0.5,\"#f7f7f7\"],[0.6,\"#e6f5d0\"],[0.7,\"#b8e186\"],[0.8,\"#7fbc41\"],[0.9,\"#4d9221\"],[1,\"#276419\"]]},\"xaxis\":{\"gridcolor\":\"white\",\"linecolor\":\"white\",\"ticks\":\"\",\"title\":{\"standoff\":15},\"zerolinecolor\":\"white\",\"automargin\":true,\"zerolinewidth\":2},\"yaxis\":{\"gridcolor\":\"white\",\"linecolor\":\"white\",\"ticks\":\"\",\"title\":{\"standoff\":15},\"zerolinecolor\":\"white\",\"automargin\":true,\"zerolinewidth\":2},\"scene\":{\"xaxis\":{\"backgroundcolor\":\"#E5ECF6\",\"gridcolor\":\"white\",\"linecolor\":\"white\",\"showbackground\":true,\"ticks\":\"\",\"zerolinecolor\":\"white\",\"gridwidth\":2},\"yaxis\":{\"backgroundcolor\":\"#E5ECF6\",\"gridcolor\":\"white\",\"linecolor\":\"white\",\"showbackground\":true,\"ticks\":\"\",\"zerolinecolor\":\"white\",\"gridwidth\":2},\"zaxis\":{\"backgroundcolor\":\"#E5ECF6\",\"gridcolor\":\"white\",\"linecolor\":\"white\",\"showbackground\":true,\"ticks\":\"\",\"zerolinecolor\":\"white\",\"gridwidth\":2}},\"shapedefaults\":{\"line\":{\"color\":\"#2a3f5f\"}},\"annotationdefaults\":{\"arrowcolor\":\"#2a3f5f\",\"arrowhead\":0,\"arrowwidth\":1},\"geo\":{\"bgcolor\":\"white\",\"landcolor\":\"#E5ECF6\",\"subunitcolor\":\"white\",\"showland\":true,\"showlakes\":true,\"lakecolor\":\"white\"},\"title\":{\"x\":0.05},\"mapbox\":{\"style\":\"light\"}}},\"mapbox\":{\"domain\":{\"x\":[0.0,1.0],\"y\":[0.0,1.0]},\"center\":{\"lat\":56.986925,\"lon\":24.121344999999998},\"zoom\":10.234902333442237,\"style\":\"open-street-map\"},\"coloraxis\":{\"colorbar\":{\"title\":{\"text\":\"Score\"}},\"colorscale\":[[0.0,\"rgb(253, 237, 176)\"],[0.09090909090909091,\"rgb(250, 205, 145)\"],[0.18181818181818182,\"rgb(246, 173, 119)\"],[0.2727272727272727,\"rgb(240, 142, 98)\"],[0.36363636363636365,\"rgb(231, 109, 84)\"],[0.45454545454545453,\"rgb(216, 80, 83)\"],[0.5454545454545454,\"rgb(195, 56, 90)\"],[0.6363636363636364,\"rgb(168, 40, 96)\"],[0.7272727272727273,\"rgb(138, 29, 99)\"],[0.8181818181818182,\"rgb(107, 24, 93)\"],[0.9090909090909091,\"rgb(76, 21, 80)\"],[1.0,\"rgb(47, 15, 61)\"]],\"cmin\":0.9500000000000001,\"cmax\":3.75},\"legend\":{\"tracegroupgap\":0},\"margin\":{\"t\":60},\"height\":800,\"width\":1000},                        {\"responsive\": true}                    ).then(function(){\n",
              "                            \n",
              "var gd = document.getElementById('118a3ee1-99d3-45ec-bba1-122dbd3c83db');\n",
              "var x = new MutationObserver(function (mutations, observer) {{\n",
              "        var display = window.getComputedStyle(gd).display;\n",
              "        if (!display || display === 'none') {{\n",
              "            console.log([gd, 'removed!']);\n",
              "            Plotly.purge(gd);\n",
              "            observer.disconnect();\n",
              "        }}\n",
              "}});\n",
              "\n",
              "// Listen for the removal of the full notebook cells\n",
              "var notebookContainer = gd.closest('#notebook-container');\n",
              "if (notebookContainer) {{\n",
              "    x.observe(notebookContainer, {childList: true});\n",
              "}}\n",
              "\n",
              "// Listen for the clearing of the current output cell\n",
              "var outputEl = gd.closest('.output');\n",
              "if (outputEl) {{\n",
              "    x.observe(outputEl, {childList: true});\n",
              "}}\n",
              "\n",
              "                        })                };                            </script>        </div>\n",
              "</body>\n",
              "</html>"
            ]
          },
          "metadata": {}
        }
      ],
      "source": [
        "import plotly.figure_factory as ff\n",
        "import plotly.express as px\n",
        "import plotly.graph_objects as go\n",
        "\n",
        "fig = go.Figure()\n",
        "\n",
        "fig = ff.create_hexbin_mapbox(\n",
        "    data_frame=result, lat=\"latitude\", lon=\"longitude\",width=1000, height=800,\n",
        "    nx_hexagon=30, opacity=0.6, min_count=1,color='final score',agg_func=np.mean,\n",
        "    color_continuous_scale=\"matter\",\n",
        "    labels={\"color\":\"Score\"},\n",
        "    show_original_data=False,\n",
        "    original_data_marker=dict(size=4, opacity=0.6, color=\"blue\"))\n",
        "\n",
        "\n",
        "fig.update_layout(mapbox_style=\"open-street-map\")\n",
        "\n",
        "fig.show()"
      ]
    },
    {
      "cell_type": "code",
      "execution_count": 101,
      "metadata": {
        "colab": {
          "base_uri": "https://localhost:8080/",
          "height": 472
        },
        "id": "0F2vwxQLaaML",
        "outputId": "1a836248-bb32-4f62-85f9-a49eea95abdb"
      },
      "outputs": [
        {
          "output_type": "display_data",
          "data": {
            "text/plain": [
              "<Figure size 640x480 with 1 Axes>"
            ],
            "image/png": "[encoded data removed]"
          },
          "metadata": {}
        }
      ],
      "source": [
        "final_scores = result['final score']\n",
        "plt.hist(final_scores, bins=20, edgecolor='k')  # Du kannst die Anzahl der Bins anpassen\n",
        "plt.xlabel('Final Score')\n",
        "plt.ylabel('Frequency')\n",
        "plt.title('Distribution of Final Scores of Airbnb Hosts in Riga')\n",
        "plt.show()\n",
        "\n",
        "\n",
        "\n",
        "\n",
        "\n",
        "\n"
      ]
    },
    {
      "cell_type": "code",
      "execution_count": null,
      "metadata": {
        "id": "9xJ2n9ti6vhM"
      },
      "outputs": [],
      "source": []
    }
  ],
  "metadata": {
    "colab": {
      "collapsed_sections": [
        "7DQm--R1mb0M",
        "0eQ8SES3mOS8"
      ],
      "provenance": []
    },
    "kernelspec": {
      "display_name": "Python 3 (ipykernel)",
      "language": "python",
      "name": "python3"
    },
    "language_info": {
      "codemirror_mode": {
        "name": "ipython",
        "version": 3
      },
      "file_extension": ".py",
      "mimetype": "text/x-python",
      "name": "python",
      "nbconvert_exporter": "python",
      "pygments_lexer": "ipython3",
      "version": "3.10.9"
    }
  },
  "nbformat": 4,
  "nbformat_minor": 0
}