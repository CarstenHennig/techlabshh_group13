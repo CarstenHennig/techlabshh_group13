{
  "cells": [
    {
      "cell_type": "markdown",
      "metadata": {
        "id": "wtG3_2JXTI4N"
      },
      "source": [
        "# Setup"
      ]
    },
    {
      "cell_type": "code",
      "execution_count": 1,
      "metadata": {
        "colab": {
          "base_uri": "https://localhost:8080/"
        },
        "id": "z_vijsxsTNuH",
        "outputId": "d36da373-f00c-4f43-c453-d07cff24ac30"
      },
      "outputs": [
        {
          "output_type": "stream",
          "name": "stdout",
          "text": [
            "Drive already mounted at /content/drive; to attempt to forcibly remount, call drive.mount(\"/content/drive\", force_remount=True).\n"
          ]
        }
      ],
      "source": [
        "#Connecting google drive to Colab to import data\n",
        "from google.colab import drive\n",
        "drive.mount('/content/drive')"
      ]
    },
    {
      "cell_type": "code",
      "execution_count": 2,
      "metadata": {
        "id": "cwWm4dolNESY"
      },
      "outputs": [],
      "source": [
        "#Import libraries\n",
        "import pandas as pd\n",
        "import matplotlib.pyplot as plt\n",
        "import seaborn as sns\n",
        "import numpy as np\n"
      ]
    },
    {
      "cell_type": "code",
      "source": [
        "path = \"/content/drive/MyDrive/Barcelona/Barcelona.listings.csv\"\n",
        "df = pd.read_csv(path)"
      ],
      "metadata": {
        "id": "QggqtJxXIYPn"
      },
      "execution_count": 3,
      "outputs": []
    },
    {
      "cell_type": "markdown",
      "metadata": {
        "id": "JQy_30AQVtIZ"
      },
      "source": [
        "#Data Cleaning"
      ]
    },
    {
      "cell_type": "markdown",
      "metadata": {
        "id": "7DQm--R1mb0M"
      },
      "source": [
        "##Verify Data"
      ]
    },
    {
      "cell_type": "code",
      "execution_count": 4,
      "metadata": {
        "colab": {
          "base_uri": "https://localhost:8080/"
        },
        "id": "gdDZS_OWVqvk",
        "outputId": "c5941f20-03c7-4c23-d8e5-34b15efe2ffb"
      },
      "outputs": [
        {
          "output_type": "execute_result",
          "data": {
            "text/plain": [
              "(17230, 75)"
            ]
          },
          "metadata": {},
          "execution_count": 4
        }
      ],
      "source": [
        "#Check the size of data (Rows,columns)\n",
        "#Total number of listings in Barcelona\n",
        "df.shape"
      ]
    },
    {
      "cell_type": "code",
      "execution_count": 5,
      "metadata": {
        "colab": {
          "base_uri": "https://localhost:8080/",
          "height": 340
        },
        "id": "GOVHABAV550x",
        "outputId": "2afc9e2b-54d6-47f2-f114-627f2000185f"
      },
      "outputs": [
        {
          "output_type": "execute_result",
          "data": {
            "text/plain": [
              "      id                         listing_url       scrape_id last_scraped  \\\n",
              "0  18674  https://www.airbnb.com/rooms/18674  20230610001920   2023-06-10   \n",
              "1  23197  https://www.airbnb.com/rooms/23197  20230610001920   2023-06-10   \n",
              "\n",
              "        source                                               name  \\\n",
              "0  city scrape  Rental unit in Barcelona · ★4.35 · 3 bedrooms ...   \n",
              "1  city scrape  Rental unit in Sant Adria de Besos · ★4.77 · 3...   \n",
              "\n",
              "                                         description  \\\n",
              "0  110m2 apartment to rent in Barcelona. Located ...   \n",
              "1  Beautiful spacious apartment, large terrace, 5...   \n",
              "\n",
              "                               neighborhood_overview  \\\n",
              "0  Apartment in Barcelona located in the heart of...   \n",
              "1  Strategically located in the Parc del Fòrum, a...   \n",
              "\n",
              "                                         picture_url  host_id  \\\n",
              "0  https://a0.muscache.com/pictures/13031453/413c...    71615   \n",
              "1  https://a0.muscache.com/pictures/miso/Hosting-...    90417   \n",
              "\n",
              "                                  host_url         host_name  host_since  \\\n",
              "0  https://www.airbnb.com/users/show/71615  Mireia And Maria  2010-01-19   \n",
              "1  https://www.airbnb.com/users/show/90417    Etain (Marnie)  2010-03-09   \n",
              "\n",
              "      host_location                                         host_about  \\\n",
              "0  Barcelona, Spain  We are Mireia (43) & Maria (45), two multiling...   \n",
              "1  Catalonia, Spain  Hi there, I'm marnie from Australia, though I ...   \n",
              "\n",
              "  host_response_time host_response_rate host_acceptance_rate  \\\n",
              "0     within an hour                95%                  93%   \n",
              "1     within an hour               100%                 100%   \n",
              "\n",
              "  host_is_superhost                                 host_thumbnail_url  \\\n",
              "0                 f  https://a0.muscache.com/im/users/71615/profile...   \n",
              "1                 t  https://a0.muscache.com/im/pictures/user/44b56...   \n",
              "\n",
              "                                    host_picture_url     host_neighbourhood  \\\n",
              "0  https://a0.muscache.com/im/users/71615/profile...     la Sagrada Família   \n",
              "1  https://a0.muscache.com/im/pictures/user/44b56...  El Besòs i el Maresme   \n",
              "\n",
              "   host_listings_count  host_total_listings_count  host_verifications  \\\n",
              "0                 46.0                       46.0  ['email', 'phone']   \n",
              "1                  6.0                        9.0  ['email', 'phone']   \n",
              "\n",
              "  host_has_profile_pic host_identity_verified  \\\n",
              "0                    t                      t   \n",
              "1                    t                      t   \n",
              "\n",
              "                           neighbourhood neighbourhood_cleansed  \\\n",
              "0                   Barcelona, CT, Spain     la Sagrada Família   \n",
              "1  Sant Adria de Besos, Barcelona, Spain  el Besòs i el Maresme   \n",
              "\n",
              "  neighbourhood_group_cleansed   latitude  longitude       property_type  \\\n",
              "0                     Eixample  41.405560   2.172620  Entire rental unit   \n",
              "1                   Sant Martí  41.412907   2.220633  Entire rental unit   \n",
              "\n",
              "         room_type  accommodates  bathrooms bathrooms_text  bedrooms  beds  \\\n",
              "0  Entire home/apt             8        NaN        2 baths       3.0   6.0   \n",
              "1  Entire home/apt             5        NaN        2 baths       3.0   4.0   \n",
              "\n",
              "                                           amenities    price  minimum_nights  \\\n",
              "0  [\"Refrigerator\", \"Hangers\", \"Wifi\", \"30\\\" TV\",...  $210.00               1   \n",
              "1  [\"Fire extinguisher\", \"Oven\", \"Refrigerator\", ...  $250.00               4   \n",
              "\n",
              "   maximum_nights  minimum_minimum_nights  maximum_minimum_nights  \\\n",
              "0            1125                     1.0                     5.0   \n",
              "1             300                     4.0                     7.0   \n",
              "\n",
              "   minimum_maximum_nights  maximum_maximum_nights  minimum_nights_avg_ntm  \\\n",
              "0                  1125.0                  1125.0                     2.8   \n",
              "1                  1125.0                  1125.0                     4.6   \n",
              "\n",
              "   maximum_nights_avg_ntm  calendar_updated has_availability  availability_30  \\\n",
              "0                  1125.0               NaN                t                0   \n",
              "1                  1125.0               NaN                t                8   \n",
              "\n",
              "   availability_60  availability_90  availability_365 calendar_last_scraped  \\\n",
              "0                0               14                18            2023-06-10   \n",
              "1               15               39               185            2023-06-10   \n",
              "\n",
              "   number_of_reviews  number_of_reviews_ltm  number_of_reviews_l30d  \\\n",
              "0                 35                      8                       0   \n",
              "1                 72                     13                       2   \n",
              "\n",
              "  first_review last_review  review_scores_rating  review_scores_accuracy  \\\n",
              "0   2013-05-27  2023-04-07                  4.35                    4.44   \n",
              "1   2011-03-15  2023-05-29                  4.77                    4.93   \n",
              "\n",
              "   review_scores_cleanliness  review_scores_checkin  \\\n",
              "0                       4.65                   4.79   \n",
              "1                       4.88                   4.94   \n",
              "\n",
              "   review_scores_communication  review_scores_location  review_scores_value  \\\n",
              "0                         4.71                    4.82                 4.32   \n",
              "1                         4.99                    4.61                 4.63   \n",
              "\n",
              "       license instant_bookable  calculated_host_listings_count  \\\n",
              "0  HUTB-002062                t                              28   \n",
              "1   HUTB005057                f                               2   \n",
              "\n",
              "   calculated_host_listings_count_entire_homes  \\\n",
              "0                                           28   \n",
              "1                                            2   \n",
              "\n",
              "   calculated_host_listings_count_private_rooms  \\\n",
              "0                                             0   \n",
              "1                                             0   \n",
              "\n",
              "   calculated_host_listings_count_shared_rooms  reviews_per_month  \n",
              "0                                            0               0.29  \n",
              "1                                            0               0.48  "
            ],
            "text/html": [
              "\n",
              "  <div id=\"df-13cd12ec-0a9a-4e52-8274-aab6d9425ef7\" class=\"colab-df-container\">\n",
              "    <div>\n",
              "<style scoped>\n",
              "    .dataframe tbody tr th:only-of-type {\n",
              "        vertical-align: middle;\n",
              "    }\n",
              "\n",
              "    .dataframe tbody tr th {\n",
              "        vertical-align: top;\n",
              "    }\n",
              "\n",
              "    .dataframe thead th {\n",
              "        text-align: right;\n",
              "    }\n",
              "</style>\n",
              "<table border=\"1\" class=\"dataframe\">\n",
              "  <thead>\n",
              "    <tr style=\"text-align: right;\">\n",
              "      <th></th>\n",
              "      <th>id</th>\n",
              "      <th>listing_url</th>\n",
              "      <th>scrape_id</th>\n",
              "      <th>last_scraped</th>\n",
              "      <th>source</th>\n",
              "      <th>name</th>\n",
              "      <th>description</th>\n",
              "      <th>neighborhood_overview</th>\n",
              "      <th>picture_url</th>\n",
              "      <th>host_id</th>\n",
              "      <th>host_url</th>\n",
              "      <th>host_name</th>\n",
              "      <th>host_since</th>\n",
              "      <th>host_location</th>\n",
              "      <th>host_about</th>\n",
              "      <th>host_response_time</th>\n",
              "      <th>host_response_rate</th>\n",
              "      <th>host_acceptance_rate</th>\n",
              "      <th>host_is_superhost</th>\n",
              "      <th>host_thumbnail_url</th>\n",
              "      <th>host_picture_url</th>\n",
              "      <th>host_neighbourhood</th>\n",
              "      <th>host_listings_count</th>\n",
              "      <th>host_total_listings_count</th>\n",
              "      <th>host_verifications</th>\n",
              "      <th>host_has_profile_pic</th>\n",
              "      <th>host_identity_verified</th>\n",
              "      <th>neighbourhood</th>\n",
              "      <th>neighbourhood_cleansed</th>\n",
              "      <th>neighbourhood_group_cleansed</th>\n",
              "      <th>latitude</th>\n",
              "      <th>longitude</th>\n",
              "      <th>property_type</th>\n",
              "      <th>room_type</th>\n",
              "      <th>accommodates</th>\n",
              "      <th>bathrooms</th>\n",
              "      <th>bathrooms_text</th>\n",
              "      <th>bedrooms</th>\n",
              "      <th>beds</th>\n",
              "      <th>amenities</th>\n",
              "      <th>price</th>\n",
              "      <th>minimum_nights</th>\n",
              "      <th>maximum_nights</th>\n",
              "      <th>minimum_minimum_nights</th>\n",
              "      <th>maximum_minimum_nights</th>\n",
              "      <th>minimum_maximum_nights</th>\n",
              "      <th>maximum_maximum_nights</th>\n",
              "      <th>minimum_nights_avg_ntm</th>\n",
              "      <th>maximum_nights_avg_ntm</th>\n",
              "      <th>calendar_updated</th>\n",
              "      <th>has_availability</th>\n",
              "      <th>availability_30</th>\n",
              "      <th>availability_60</th>\n",
              "      <th>availability_90</th>\n",
              "      <th>availability_365</th>\n",
              "      <th>calendar_last_scraped</th>\n",
              "      <th>number_of_reviews</th>\n",
              "      <th>number_of_reviews_ltm</th>\n",
              "      <th>number_of_reviews_l30d</th>\n",
              "      <th>first_review</th>\n",
              "      <th>last_review</th>\n",
              "      <th>review_scores_rating</th>\n",
              "      <th>review_scores_accuracy</th>\n",
              "      <th>review_scores_cleanliness</th>\n",
              "      <th>review_scores_checkin</th>\n",
              "      <th>review_scores_communication</th>\n",
              "      <th>review_scores_location</th>\n",
              "      <th>review_scores_value</th>\n",
              "      <th>license</th>\n",
              "      <th>instant_bookable</th>\n",
              "      <th>calculated_host_listings_count</th>\n",
              "      <th>calculated_host_listings_count_entire_homes</th>\n",
              "      <th>calculated_host_listings_count_private_rooms</th>\n",
              "      <th>calculated_host_listings_count_shared_rooms</th>\n",
              "      <th>reviews_per_month</th>\n",
              "    </tr>\n",
              "  </thead>\n",
              "  <tbody>\n",
              "    <tr>\n",
              "      <th>0</th>\n",
              "      <td>18674</td>\n",
              "      <td>https://www.airbnb.com/rooms/18674</td>\n",
              "      <td>20230610001920</td>\n",
              "      <td>2023-06-10</td>\n",
              "      <td>city scrape</td>\n",
              "      <td>Rental unit in Barcelona · ★4.35 · 3 bedrooms ...</td>\n",
              "      <td>110m2 apartment to rent in Barcelona. Located ...</td>\n",
              "      <td>Apartment in Barcelona located in the heart of...</td>\n",
              "      <td>https://a0.muscache.com/pictures/13031453/413c...</td>\n",
              "      <td>71615</td>\n",
              "      <td>https://www.airbnb.com/users/show/71615</td>\n",
              "      <td>Mireia And Maria</td>\n",
              "      <td>2010-01-19</td>\n",
              "      <td>Barcelona, Spain</td>\n",
              "      <td>We are Mireia (43) &amp; Maria (45), two multiling...</td>\n",
              "      <td>within an hour</td>\n",
              "      <td>95%</td>\n",
              "      <td>93%</td>\n",
              "      <td>f</td>\n",
              "      <td>https://a0.muscache.com/im/users/71615/profile...</td>\n",
              "      <td>https://a0.muscache.com/im/users/71615/profile...</td>\n",
              "      <td>la Sagrada Família</td>\n",
              "      <td>46.0</td>\n",
              "      <td>46.0</td>\n",
              "      <td>['email', 'phone']</td>\n",
              "      <td>t</td>\n",
              "      <td>t</td>\n",
              "      <td>Barcelona, CT, Spain</td>\n",
              "      <td>la Sagrada Família</td>\n",
              "      <td>Eixample</td>\n",
              "      <td>41.405560</td>\n",
              "      <td>2.172620</td>\n",
              "      <td>Entire rental unit</td>\n",
              "      <td>Entire home/apt</td>\n",
              "      <td>8</td>\n",
              "      <td>NaN</td>\n",
              "      <td>2 baths</td>\n",
              "      <td>3.0</td>\n",
              "      <td>6.0</td>\n",
              "      <td>[\"Refrigerator\", \"Hangers\", \"Wifi\", \"30\\\" TV\",...</td>\n",
              "      <td>$210.00</td>\n",
              "      <td>1</td>\n",
              "      <td>1125</td>\n",
              "      <td>1.0</td>\n",
              "      <td>5.0</td>\n",
              "      <td>1125.0</td>\n",
              "      <td>1125.0</td>\n",
              "      <td>2.8</td>\n",
              "      <td>1125.0</td>\n",
              "      <td>NaN</td>\n",
              "      <td>t</td>\n",
              "      <td>0</td>\n",
              "      <td>0</td>\n",
              "      <td>14</td>\n",
              "      <td>18</td>\n",
              "      <td>2023-06-10</td>\n",
              "      <td>35</td>\n",
              "      <td>8</td>\n",
              "      <td>0</td>\n",
              "      <td>2013-05-27</td>\n",
              "      <td>2023-04-07</td>\n",
              "      <td>4.35</td>\n",
              "      <td>4.44</td>\n",
              "      <td>4.65</td>\n",
              "      <td>4.79</td>\n",
              "      <td>4.71</td>\n",
              "      <td>4.82</td>\n",
              "      <td>4.32</td>\n",
              "      <td>HUTB-002062</td>\n",
              "      <td>t</td>\n",
              "      <td>28</td>\n",
              "      <td>28</td>\n",
              "      <td>0</td>\n",
              "      <td>0</td>\n",
              "      <td>0.29</td>\n",
              "    </tr>\n",
              "    <tr>\n",
              "      <th>1</th>\n",
              "      <td>23197</td>\n",
              "      <td>https://www.airbnb.com/rooms/23197</td>\n",
              "      <td>20230610001920</td>\n",
              "      <td>2023-06-10</td>\n",
              "      <td>city scrape</td>\n",
              "      <td>Rental unit in Sant Adria de Besos · ★4.77 · 3...</td>\n",
              "      <td>Beautiful spacious apartment, large terrace, 5...</td>\n",
              "      <td>Strategically located in the Parc del Fòrum, a...</td>\n",
              "      <td>https://a0.muscache.com/pictures/miso/Hosting-...</td>\n",
              "      <td>90417</td>\n",
              "      <td>https://www.airbnb.com/users/show/90417</td>\n",
              "      <td>Etain (Marnie)</td>\n",
              "      <td>2010-03-09</td>\n",
              "      <td>Catalonia, Spain</td>\n",
              "      <td>Hi there, I'm marnie from Australia, though I ...</td>\n",
              "      <td>within an hour</td>\n",
              "      <td>100%</td>\n",
              "      <td>100%</td>\n",
              "      <td>t</td>\n",
              "      <td>https://a0.muscache.com/im/pictures/user/44b56...</td>\n",
              "      <td>https://a0.muscache.com/im/pictures/user/44b56...</td>\n",
              "      <td>El Besòs i el Maresme</td>\n",
              "      <td>6.0</td>\n",
              "      <td>9.0</td>\n",
              "      <td>['email', 'phone']</td>\n",
              "      <td>t</td>\n",
              "      <td>t</td>\n",
              "      <td>Sant Adria de Besos, Barcelona, Spain</td>\n",
              "      <td>el Besòs i el Maresme</td>\n",
              "      <td>Sant Martí</td>\n",
              "      <td>41.412907</td>\n",
              "      <td>2.220633</td>\n",
              "      <td>Entire rental unit</td>\n",
              "      <td>Entire home/apt</td>\n",
              "      <td>5</td>\n",
              "      <td>NaN</td>\n",
              "      <td>2 baths</td>\n",
              "      <td>3.0</td>\n",
              "      <td>4.0</td>\n",
              "      <td>[\"Fire extinguisher\", \"Oven\", \"Refrigerator\", ...</td>\n",
              "      <td>$250.00</td>\n",
              "      <td>4</td>\n",
              "      <td>300</td>\n",
              "      <td>4.0</td>\n",
              "      <td>7.0</td>\n",
              "      <td>1125.0</td>\n",
              "      <td>1125.0</td>\n",
              "      <td>4.6</td>\n",
              "      <td>1125.0</td>\n",
              "      <td>NaN</td>\n",
              "      <td>t</td>\n",
              "      <td>8</td>\n",
              "      <td>15</td>\n",
              "      <td>39</td>\n",
              "      <td>185</td>\n",
              "      <td>2023-06-10</td>\n",
              "      <td>72</td>\n",
              "      <td>13</td>\n",
              "      <td>2</td>\n",
              "      <td>2011-03-15</td>\n",
              "      <td>2023-05-29</td>\n",
              "      <td>4.77</td>\n",
              "      <td>4.93</td>\n",
              "      <td>4.88</td>\n",
              "      <td>4.94</td>\n",
              "      <td>4.99</td>\n",
              "      <td>4.61</td>\n",
              "      <td>4.63</td>\n",
              "      <td>HUTB005057</td>\n",
              "      <td>f</td>\n",
              "      <td>2</td>\n",
              "      <td>2</td>\n",
              "      <td>0</td>\n",
              "      <td>0</td>\n",
              "      <td>0.48</td>\n",
              "    </tr>\n",
              "  </tbody>\n",
              "</table>\n",
              "</div>\n",
              "    <div class=\"colab-df-buttons\">\n",
              "\n",
              "  <div class=\"colab-df-container\">\n",
              "    <button class=\"colab-df-convert\" onclick=\"convertToInteractive('df-13cd12ec-0a9a-4e52-8274-aab6d9425ef7')\"\n",
              "            title=\"Convert this dataframe to an interactive table.\"\n",
              "            style=\"display:none;\">\n",
              "\n",
              "  <svg xmlns=\"http://www.w3.org/2000/svg\" height=\"24px\" viewBox=\"0 -960 960 960\">\n",
              "    <path d=\"M120-120v-720h720v720H120Zm60-500h600v-160H180v160Zm220 220h160v-160H400v160Zm0 220h160v-160H400v160ZM180-400h160v-160H180v160Zm440 0h160v-160H620v160ZM180-180h160v-160H180v160Zm440 0h160v-160H620v160Z\"/>\n",
              "  </svg>\n",
              "    </button>\n",
              "\n",
              "  <style>\n",
              "    .colab-df-container {\n",
              "      display:flex;\n",
              "      gap: 12px;\n",
              "    }\n",
              "\n",
              "    .colab-df-convert {\n",
              "      background-color: #E8F0FE;\n",
              "      border: none;\n",
              "      border-radius: 50%;\n",
              "      cursor: pointer;\n",
              "      display: none;\n",
              "      fill: #1967D2;\n",
              "      height: 32px;\n",
              "      padding: 0 0 0 0;\n",
              "      width: 32px;\n",
              "    }\n",
              "\n",
              "    .colab-df-convert:hover {\n",
              "      background-color: #E2EBFA;\n",
              "      box-shadow: 0px 1px 2px rgba(60, 64, 67, 0.3), 0px 1px 3px 1px rgba(60, 64, 67, 0.15);\n",
              "      fill: #174EA6;\n",
              "    }\n",
              "\n",
              "    .colab-df-buttons div {\n",
              "      margin-bottom: 4px;\n",
              "    }\n",
              "\n",
              "    [theme=dark] .colab-df-convert {\n",
              "      background-color: #3B4455;\n",
              "      fill: #D2E3FC;\n",
              "    }\n",
              "\n",
              "    [theme=dark] .colab-df-convert:hover {\n",
              "      background-color: #434B5C;\n",
              "      box-shadow: 0px 1px 3px 1px rgba(0, 0, 0, 0.15);\n",
              "      filter: drop-shadow(0px 1px 2px rgba(0, 0, 0, 0.3));\n",
              "      fill: #FFFFFF;\n",
              "    }\n",
              "  </style>\n",
              "\n",
              "    <script>\n",
              "      const buttonEl =\n",
              "        document.querySelector('#df-13cd12ec-0a9a-4e52-8274-aab6d9425ef7 button.colab-df-convert');\n",
              "      buttonEl.style.display =\n",
              "        google.colab.kernel.accessAllowed ? 'block' : 'none';\n",
              "\n",
              "      async function convertToInteractive(key) {\n",
              "        const element = document.querySelector('#df-13cd12ec-0a9a-4e52-8274-aab6d9425ef7');\n",
              "        const dataTable =\n",
              "          await google.colab.kernel.invokeFunction('convertToInteractive',\n",
              "                                                    [key], {});\n",
              "        if (!dataTable) return;\n",
              "\n",
              "        const docLinkHtml = 'Like what you see? Visit the ' +\n",
              "          '<a target=\"_blank\" href=https://colab.research.google.com/notebooks/data_table.ipynb>data table notebook</a>'\n",
              "          + ' to learn more about interactive tables.';\n",
              "        element.innerHTML = '';\n",
              "        dataTable['output_type'] = 'display_data';\n",
              "        await google.colab.output.renderOutput(dataTable, element);\n",
              "        const docLink = document.createElement('div');\n",
              "        docLink.innerHTML = docLinkHtml;\n",
              "        element.appendChild(docLink);\n",
              "      }\n",
              "    </script>\n",
              "  </div>\n",
              "\n",
              "\n",
              "<div id=\"df-f37fac6d-a2f4-4b21-bf7b-7f5c3036ae85\">\n",
              "  <button class=\"colab-df-quickchart\" onclick=\"quickchart('df-f37fac6d-a2f4-4b21-bf7b-7f5c3036ae85')\"\n",
              "            title=\"Suggest charts.\"\n",
              "            style=\"display:none;\">\n",
              "\n",
              "<svg xmlns=\"http://www.w3.org/2000/svg\" height=\"24px\"viewBox=\"0 0 24 24\"\n",
              "     width=\"24px\">\n",
              "    <g>\n",
              "        <path d=\"M19 3H5c-1.1 0-2 .9-2 2v14c0 1.1.9 2 2 2h14c1.1 0 2-.9 2-2V5c0-1.1-.9-2-2-2zM9 17H7v-7h2v7zm4 0h-2V7h2v10zm4 0h-2v-4h2v4z\"/>\n",
              "    </g>\n",
              "</svg>\n",
              "  </button>\n",
              "\n",
              "<style>\n",
              "  .colab-df-quickchart {\n",
              "      --bg-color: #E8F0FE;\n",
              "      --fill-color: #1967D2;\n",
              "      --hover-bg-color: #E2EBFA;\n",
              "      --hover-fill-color: #174EA6;\n",
              "      --disabled-fill-color: #AAA;\n",
              "      --disabled-bg-color: #DDD;\n",
              "  }\n",
              "\n",
              "  [theme=dark] .colab-df-quickchart {\n",
              "      --bg-color: #3B4455;\n",
              "      --fill-color: #D2E3FC;\n",
              "      --hover-bg-color: #434B5C;\n",
              "      --hover-fill-color: #FFFFFF;\n",
              "      --disabled-bg-color: #3B4455;\n",
              "      --disabled-fill-color: #666;\n",
              "  }\n",
              "\n",
              "  .colab-df-quickchart {\n",
              "    background-color: var(--bg-color);\n",
              "    border: none;\n",
              "    border-radius: 50%;\n",
              "    cursor: pointer;\n",
              "    display: none;\n",
              "    fill: var(--fill-color);\n",
              "    height: 32px;\n",
              "    padding: 0;\n",
              "    width: 32px;\n",
              "  }\n",
              "\n",
              "  .colab-df-quickchart:hover {\n",
              "    background-color: var(--hover-bg-color);\n",
              "    box-shadow: 0 1px 2px rgba(60, 64, 67, 0.3), 0 1px 3px 1px rgba(60, 64, 67, 0.15);\n",
              "    fill: var(--button-hover-fill-color);\n",
              "  }\n",
              "\n",
              "  .colab-df-quickchart-complete:disabled,\n",
              "  .colab-df-quickchart-complete:disabled:hover {\n",
              "    background-color: var(--disabled-bg-color);\n",
              "    fill: var(--disabled-fill-color);\n",
              "    box-shadow: none;\n",
              "  }\n",
              "\n",
              "  .colab-df-spinner {\n",
              "    border: 2px solid var(--fill-color);\n",
              "    border-color: transparent;\n",
              "    border-bottom-color: var(--fill-color);\n",
              "    animation:\n",
              "      spin 1s steps(1) infinite;\n",
              "  }\n",
              "\n",
              "  @keyframes spin {\n",
              "    0% {\n",
              "      border-color: transparent;\n",
              "      border-bottom-color: var(--fill-color);\n",
              "      border-left-color: var(--fill-color);\n",
              "    }\n",
              "    20% {\n",
              "      border-color: transparent;\n",
              "      border-left-color: var(--fill-color);\n",
              "      border-top-color: var(--fill-color);\n",
              "    }\n",
              "    30% {\n",
              "      border-color: transparent;\n",
              "      border-left-color: var(--fill-color);\n",
              "      border-top-color: var(--fill-color);\n",
              "      border-right-color: var(--fill-color);\n",
              "    }\n",
              "    40% {\n",
              "      border-color: transparent;\n",
              "      border-right-color: var(--fill-color);\n",
              "      border-top-color: var(--fill-color);\n",
              "    }\n",
              "    60% {\n",
              "      border-color: transparent;\n",
              "      border-right-color: var(--fill-color);\n",
              "    }\n",
              "    80% {\n",
              "      border-color: transparent;\n",
              "      border-right-color: var(--fill-color);\n",
              "      border-bottom-color: var(--fill-color);\n",
              "    }\n",
              "    90% {\n",
              "      border-color: transparent;\n",
              "      border-bottom-color: var(--fill-color);\n",
              "    }\n",
              "  }\n",
              "</style>\n",
              "\n",
              "  <script>\n",
              "    async function quickchart(key) {\n",
              "      const quickchartButtonEl =\n",
              "        document.querySelector('#' + key + ' button');\n",
              "      quickchartButtonEl.disabled = true;  // To prevent multiple clicks.\n",
              "      quickchartButtonEl.classList.add('colab-df-spinner');\n",
              "      try {\n",
              "        const charts = await google.colab.kernel.invokeFunction(\n",
              "            'suggestCharts', [key], {});\n",
              "      } catch (error) {\n",
              "        console.error('Error during call to suggestCharts:', error);\n",
              "      }\n",
              "      quickchartButtonEl.classList.remove('colab-df-spinner');\n",
              "      quickchartButtonEl.classList.add('colab-df-quickchart-complete');\n",
              "    }\n",
              "    (() => {\n",
              "      let quickchartButtonEl =\n",
              "        document.querySelector('#df-f37fac6d-a2f4-4b21-bf7b-7f5c3036ae85 button');\n",
              "      quickchartButtonEl.style.display =\n",
              "        google.colab.kernel.accessAllowed ? 'block' : 'none';\n",
              "    })();\n",
              "  </script>\n",
              "</div>\n",
              "    </div>\n",
              "  </div>\n"
            ]
          },
          "metadata": {},
          "execution_count": 5
        }
      ],
      "source": [
        "#To display all the columns\n",
        "pd.set_option('display.max_columns', None)\n",
        "df.head(2)"
      ]
    },
    {
      "cell_type": "code",
      "execution_count": 6,
      "metadata": {
        "colab": {
          "base_uri": "https://localhost:8080/"
        },
        "id": "O4m9o7PCsjdl",
        "outputId": "65e5909e-fb9f-4629-9bb7-f08008f963e7"
      },
      "outputs": [
        {
          "output_type": "stream",
          "name": "stdout",
          "text": [
            "<class 'pandas.core.frame.DataFrame'>\n",
            "RangeIndex: 17230 entries, 0 to 17229\n",
            "Data columns (total 75 columns):\n",
            " #   Column                                        Non-Null Count  Dtype  \n",
            "---  ------                                        --------------  -----  \n",
            " 0   id                                            17230 non-null  int64  \n",
            " 1   listing_url                                   17230 non-null  object \n",
            " 2   scrape_id                                     17230 non-null  int64  \n",
            " 3   last_scraped                                  17230 non-null  object \n",
            " 4   source                                        17230 non-null  object \n",
            " 5   name                                          17230 non-null  object \n",
            " 6   description                                   17120 non-null  object \n",
            " 7   neighborhood_overview                         9879 non-null   object \n",
            " 8   picture_url                                   17230 non-null  object \n",
            " 9   host_id                                       17230 non-null  int64  \n",
            " 10  host_url                                      17230 non-null  object \n",
            " 11  host_name                                     17228 non-null  object \n",
            " 12  host_since                                    17228 non-null  object \n",
            " 13  host_location                                 13378 non-null  object \n",
            " 14  host_about                                    11002 non-null  object \n",
            " 15  host_response_time                            14224 non-null  object \n",
            " 16  host_response_rate                            14224 non-null  object \n",
            " 17  host_acceptance_rate                          14472 non-null  object \n",
            " 18  host_is_superhost                             11188 non-null  object \n",
            " 19  host_thumbnail_url                            17228 non-null  object \n",
            " 20  host_picture_url                              17228 non-null  object \n",
            " 21  host_neighbourhood                            9471 non-null   object \n",
            " 22  host_listings_count                           17228 non-null  float64\n",
            " 23  host_total_listings_count                     17228 non-null  float64\n",
            " 24  host_verifications                            17230 non-null  object \n",
            " 25  host_has_profile_pic                          17228 non-null  object \n",
            " 26  host_identity_verified                        17228 non-null  object \n",
            " 27  neighbourhood                                 9879 non-null   object \n",
            " 28  neighbourhood_cleansed                        17230 non-null  object \n",
            " 29  neighbourhood_group_cleansed                  17230 non-null  object \n",
            " 30  latitude                                      17230 non-null  float64\n",
            " 31  longitude                                     17230 non-null  float64\n",
            " 32  property_type                                 17230 non-null  object \n",
            " 33  room_type                                     17230 non-null  object \n",
            " 34  accommodates                                  17230 non-null  int64  \n",
            " 35  bathrooms                                     0 non-null      float64\n",
            " 36  bathrooms_text                                17222 non-null  object \n",
            " 37  bedrooms                                      11336 non-null  float64\n",
            " 38  beds                                          16906 non-null  float64\n",
            " 39  amenities                                     17230 non-null  object \n",
            " 40  price                                         17230 non-null  object \n",
            " 41  minimum_nights                                17230 non-null  int64  \n",
            " 42  maximum_nights                                17230 non-null  int64  \n",
            " 43  minimum_minimum_nights                        17229 non-null  float64\n",
            " 44  maximum_minimum_nights                        17229 non-null  float64\n",
            " 45  minimum_maximum_nights                        17229 non-null  float64\n",
            " 46  maximum_maximum_nights                        17229 non-null  float64\n",
            " 47  minimum_nights_avg_ntm                        17229 non-null  float64\n",
            " 48  maximum_nights_avg_ntm                        17229 non-null  float64\n",
            " 49  calendar_updated                              0 non-null      float64\n",
            " 50  has_availability                              17230 non-null  object \n",
            " 51  availability_30                               17230 non-null  int64  \n",
            " 52  availability_60                               17230 non-null  int64  \n",
            " 53  availability_90                               17230 non-null  int64  \n",
            " 54  availability_365                              17230 non-null  int64  \n",
            " 55  calendar_last_scraped                         17230 non-null  object \n",
            " 56  number_of_reviews                             17230 non-null  int64  \n",
            " 57  number_of_reviews_ltm                         17230 non-null  int64  \n",
            " 58  number_of_reviews_l30d                        17230 non-null  int64  \n",
            " 59  first_review                                  13198 non-null  object \n",
            " 60  last_review                                   13198 non-null  object \n",
            " 61  review_scores_rating                          13198 non-null  float64\n",
            " 62  review_scores_accuracy                        13111 non-null  float64\n",
            " 63  review_scores_cleanliness                     13112 non-null  float64\n",
            " 64  review_scores_checkin                         13107 non-null  float64\n",
            " 65  review_scores_communication                   13113 non-null  float64\n",
            " 66  review_scores_location                        13108 non-null  float64\n",
            " 67  review_scores_value                           13108 non-null  float64\n",
            " 68  license                                       8862 non-null   object \n",
            " 69  instant_bookable                              17230 non-null  object \n",
            " 70  calculated_host_listings_count                17230 non-null  int64  \n",
            " 71  calculated_host_listings_count_entire_homes   17230 non-null  int64  \n",
            " 72  calculated_host_listings_count_private_rooms  17230 non-null  int64  \n",
            " 73  calculated_host_listings_count_shared_rooms   17230 non-null  int64  \n",
            " 74  reviews_per_month                             13198 non-null  float64\n",
            "dtypes: float64(22), int64(17), object(36)\n",
            "memory usage: 9.9+ MB\n"
          ]
        }
      ],
      "source": [
        "df.info()"
      ]
    },
    {
      "cell_type": "code",
      "execution_count": 7,
      "metadata": {
        "colab": {
          "base_uri": "https://localhost:8080/"
        },
        "id": "PMoYp3pO2ajQ",
        "outputId": "9215d415-6ae2-4a32-bb5b-44dbf96086b1"
      },
      "outputs": [
        {
          "output_type": "stream",
          "name": "stdout",
          "text": [
            "description--------------------------------------- : 110\n",
            "neighborhood_overview----------------------------- : 7351\n",
            "host_name----------------------------------------- : 2\n",
            "host_since---------------------------------------- : 2\n",
            "host_location------------------------------------- : 3852\n",
            "host_about---------------------------------------- : 6228\n",
            "host_response_time-------------------------------- : 3006\n",
            "host_response_rate-------------------------------- : 3006\n",
            "host_acceptance_rate------------------------------ : 2758\n",
            "host_is_superhost--------------------------------- : 6042\n",
            "host_thumbnail_url-------------------------------- : 2\n",
            "host_picture_url---------------------------------- : 2\n",
            "host_neighbourhood-------------------------------- : 7759\n",
            "host_listings_count------------------------------- : 2\n",
            "host_total_listings_count------------------------- : 2\n",
            "host_has_profile_pic------------------------------ : 2\n",
            "host_identity_verified---------------------------- : 2\n",
            "neighbourhood------------------------------------- : 7351\n",
            "bathrooms----------------------------------------- : 17230\n",
            "bathrooms_text------------------------------------ : 8\n",
            "bedrooms------------------------------------------ : 5894\n",
            "beds---------------------------------------------- : 324\n",
            "minimum_minimum_nights---------------------------- : 1\n",
            "maximum_minimum_nights---------------------------- : 1\n",
            "minimum_maximum_nights---------------------------- : 1\n",
            "maximum_maximum_nights---------------------------- : 1\n",
            "minimum_nights_avg_ntm---------------------------- : 1\n",
            "maximum_nights_avg_ntm---------------------------- : 1\n",
            "calendar_updated---------------------------------- : 17230\n",
            "first_review-------------------------------------- : 4032\n",
            "last_review--------------------------------------- : 4032\n",
            "review_scores_rating------------------------------ : 4032\n",
            "review_scores_accuracy---------------------------- : 4119\n",
            "review_scores_cleanliness------------------------- : 4118\n",
            "review_scores_checkin----------------------------- : 4123\n",
            "review_scores_communication----------------------- : 4117\n",
            "review_scores_location---------------------------- : 4122\n",
            "review_scores_value------------------------------- : 4122\n",
            "license------------------------------------------- : 8368\n",
            "reviews_per_month--------------------------------- : 4032\n"
          ]
        }
      ],
      "source": [
        "#Check missing values for all the columns before dropping\n",
        "for column in df.columns:\n",
        "  if df[column].isna().sum()>0:\n",
        "\n",
        "    print(f\"{column:-<50} : {df[column].isna().sum()}\")\n"
      ]
    },
    {
      "cell_type": "markdown",
      "source": [
        "##Filter the data by accommodates\n",
        "###Assumption:Filter the data based on <= 2 accommodates suitable for digital nomads"
      ],
      "metadata": {
        "id": "ycD5fFkRCfpd"
      }
    },
    {
      "cell_type": "code",
      "source": [
        "#Use loc() for label indexing [Row, column]\n",
        "df=df.loc[df.accommodates<3,:]"
      ],
      "metadata": {
        "id": "TkTaeQ0VCcBL"
      },
      "execution_count": 8,
      "outputs": []
    },
    {
      "cell_type": "code",
      "source": [
        "df.shape"
      ],
      "metadata": {
        "colab": {
          "base_uri": "https://localhost:8080/"
        },
        "id": "gcKb8THbC8Rd",
        "outputId": "1dd645ae-e197-4254-9dd2-f7421f05a595"
      },
      "execution_count": 9,
      "outputs": [
        {
          "output_type": "execute_result",
          "data": {
            "text/plain": [
              "(8117, 75)"
            ]
          },
          "metadata": {},
          "execution_count": 9
        }
      ]
    },
    {
      "cell_type": "code",
      "source": [
        "#Use Count() to count unique values in 'accommodates'\n",
        "df.accommodates.value_counts()"
      ],
      "metadata": {
        "colab": {
          "base_uri": "https://localhost:8080/"
        },
        "id": "9nP8rO_GDDj9",
        "outputId": "44b5a9c7-8103-43fe-f982-ab0f5e0c9c40"
      },
      "execution_count": 10,
      "outputs": [
        {
          "output_type": "execute_result",
          "data": {
            "text/plain": [
              "2    5604\n",
              "1    2512\n",
              "0       1\n",
              "Name: accommodates, dtype: int64"
            ]
          },
          "metadata": {},
          "execution_count": 10
        }
      ]
    },
    {
      "cell_type": "code",
      "source": [
        "#Looks like there is an error as there is a listing which accommodates 0 people\n",
        "#Lets locate the entry using loc()\n",
        "df.loc[df.accommodates==0]"
      ],
      "metadata": {
        "colab": {
          "base_uri": "https://localhost:8080/",
          "height": 170
        },
        "id": "DHZkW9adDPXK",
        "outputId": "7e76b4bb-390a-4ad3-e998-f0e4f5c5fc51"
      },
      "execution_count": 11,
      "outputs": [
        {
          "output_type": "execute_result",
          "data": {
            "text/plain": [
              "            id                            listing_url       scrape_id  \\\n",
              "9254  44345400  https://www.airbnb.com/rooms/44345400  20230610001920   \n",
              "\n",
              "     last_scraped           source                              name  \\\n",
              "9254   2023-06-10  previous scrape  Aparthotel in Barcelona · Studio   \n",
              "\n",
              "     description neighborhood_overview  \\\n",
              "9254         NaN                   NaN   \n",
              "\n",
              "                                            picture_url    host_id  \\\n",
              "9254  https://a0.muscache.com/pictures/miso/Hosting-...  357768035   \n",
              "\n",
              "                                         host_url          host_name  \\\n",
              "9254  https://www.airbnb.com/users/show/357768035  Citadines Ramblas   \n",
              "\n",
              "      host_since     host_location host_about host_response_time  \\\n",
              "9254  2020-07-22  Barcelona, Spain        NaN                NaN   \n",
              "\n",
              "     host_response_rate host_acceptance_rate host_is_superhost  \\\n",
              "9254                NaN                  NaN               NaN   \n",
              "\n",
              "                                     host_thumbnail_url  \\\n",
              "9254  https://a0.muscache.com/im/pictures/user/2bc61...   \n",
              "\n",
              "                                       host_picture_url host_neighbourhood  \\\n",
              "9254  https://a0.muscache.com/im/pictures/user/2bc61...                NaN   \n",
              "\n",
              "      host_listings_count  host_total_listings_count  host_verifications  \\\n",
              "9254                  4.0                        5.0  ['email', 'phone']   \n",
              "\n",
              "     host_has_profile_pic host_identity_verified neighbourhood  \\\n",
              "9254                    t                      t           NaN   \n",
              "\n",
              "     neighbourhood_cleansed neighbourhood_group_cleansed  latitude  longitude  \\\n",
              "9254         el Barri Gòtic                 Ciutat Vella  41.38382    2.17146   \n",
              "\n",
              "           property_type   room_type  accommodates  bathrooms bathrooms_text  \\\n",
              "9254  Room in aparthotel  Hotel room             0        NaN            NaN   \n",
              "\n",
              "      bedrooms  beds                                          amenities  \\\n",
              "9254       NaN   NaN  [\"Fire extinguisher\", \"Pets allowed\", \"Refrige...   \n",
              "\n",
              "      price  minimum_nights  maximum_nights  minimum_minimum_nights  \\\n",
              "9254  $0.00               1              28                     NaN   \n",
              "\n",
              "      maximum_minimum_nights  minimum_maximum_nights  maximum_maximum_nights  \\\n",
              "9254                     NaN                     NaN                     NaN   \n",
              "\n",
              "      minimum_nights_avg_ntm  maximum_nights_avg_ntm  calendar_updated  \\\n",
              "9254                     NaN                     NaN               NaN   \n",
              "\n",
              "     has_availability  availability_30  availability_60  availability_90  \\\n",
              "9254                f                0                0                0   \n",
              "\n",
              "      availability_365 calendar_last_scraped  number_of_reviews  \\\n",
              "9254                 0            2023-06-10                  0   \n",
              "\n",
              "      number_of_reviews_ltm  number_of_reviews_l30d first_review last_review  \\\n",
              "9254                      0                       0          NaN         NaN   \n",
              "\n",
              "      review_scores_rating  review_scores_accuracy  review_scores_cleanliness  \\\n",
              "9254                   NaN                     NaN                        NaN   \n",
              "\n",
              "      review_scores_checkin  review_scores_communication  \\\n",
              "9254                    NaN                          NaN   \n",
              "\n",
              "      review_scores_location  review_scores_value license instant_bookable  \\\n",
              "9254                     NaN                  NaN     NaN                f   \n",
              "\n",
              "      calculated_host_listings_count  \\\n",
              "9254                               1   \n",
              "\n",
              "      calculated_host_listings_count_entire_homes  \\\n",
              "9254                                            0   \n",
              "\n",
              "      calculated_host_listings_count_private_rooms  \\\n",
              "9254                                             0   \n",
              "\n",
              "      calculated_host_listings_count_shared_rooms  reviews_per_month  \n",
              "9254                                            0                NaN  "
            ],
            "text/html": [
              "\n",
              "  <div id=\"df-124b09e9-e6a8-44ea-a1e3-d16cf4063f21\" class=\"colab-df-container\">\n",
              "    <div>\n",
              "<style scoped>\n",
              "    .dataframe tbody tr th:only-of-type {\n",
              "        vertical-align: middle;\n",
              "    }\n",
              "\n",
              "    .dataframe tbody tr th {\n",
              "        vertical-align: top;\n",
              "    }\n",
              "\n",
              "    .dataframe thead th {\n",
              "        text-align: right;\n",
              "    }\n",
              "</style>\n",
              "<table border=\"1\" class=\"dataframe\">\n",
              "  <thead>\n",
              "    <tr style=\"text-align: right;\">\n",
              "      <th></th>\n",
              "      <th>id</th>\n",
              "      <th>listing_url</th>\n",
              "      <th>scrape_id</th>\n",
              "      <th>last_scraped</th>\n",
              "      <th>source</th>\n",
              "      <th>name</th>\n",
              "      <th>description</th>\n",
              "      <th>neighborhood_overview</th>\n",
              "      <th>picture_url</th>\n",
              "      <th>host_id</th>\n",
              "      <th>host_url</th>\n",
              "      <th>host_name</th>\n",
              "      <th>host_since</th>\n",
              "      <th>host_location</th>\n",
              "      <th>host_about</th>\n",
              "      <th>host_response_time</th>\n",
              "      <th>host_response_rate</th>\n",
              "      <th>host_acceptance_rate</th>\n",
              "      <th>host_is_superhost</th>\n",
              "      <th>host_thumbnail_url</th>\n",
              "      <th>host_picture_url</th>\n",
              "      <th>host_neighbourhood</th>\n",
              "      <th>host_listings_count</th>\n",
              "      <th>host_total_listings_count</th>\n",
              "      <th>host_verifications</th>\n",
              "      <th>host_has_profile_pic</th>\n",
              "      <th>host_identity_verified</th>\n",
              "      <th>neighbourhood</th>\n",
              "      <th>neighbourhood_cleansed</th>\n",
              "      <th>neighbourhood_group_cleansed</th>\n",
              "      <th>latitude</th>\n",
              "      <th>longitude</th>\n",
              "      <th>property_type</th>\n",
              "      <th>room_type</th>\n",
              "      <th>accommodates</th>\n",
              "      <th>bathrooms</th>\n",
              "      <th>bathrooms_text</th>\n",
              "      <th>bedrooms</th>\n",
              "      <th>beds</th>\n",
              "      <th>amenities</th>\n",
              "      <th>price</th>\n",
              "      <th>minimum_nights</th>\n",
              "      <th>maximum_nights</th>\n",
              "      <th>minimum_minimum_nights</th>\n",
              "      <th>maximum_minimum_nights</th>\n",
              "      <th>minimum_maximum_nights</th>\n",
              "      <th>maximum_maximum_nights</th>\n",
              "      <th>minimum_nights_avg_ntm</th>\n",
              "      <th>maximum_nights_avg_ntm</th>\n",
              "      <th>calendar_updated</th>\n",
              "      <th>has_availability</th>\n",
              "      <th>availability_30</th>\n",
              "      <th>availability_60</th>\n",
              "      <th>availability_90</th>\n",
              "      <th>availability_365</th>\n",
              "      <th>calendar_last_scraped</th>\n",
              "      <th>number_of_reviews</th>\n",
              "      <th>number_of_reviews_ltm</th>\n",
              "      <th>number_of_reviews_l30d</th>\n",
              "      <th>first_review</th>\n",
              "      <th>last_review</th>\n",
              "      <th>review_scores_rating</th>\n",
              "      <th>review_scores_accuracy</th>\n",
              "      <th>review_scores_cleanliness</th>\n",
              "      <th>review_scores_checkin</th>\n",
              "      <th>review_scores_communication</th>\n",
              "      <th>review_scores_location</th>\n",
              "      <th>review_scores_value</th>\n",
              "      <th>license</th>\n",
              "      <th>instant_bookable</th>\n",
              "      <th>calculated_host_listings_count</th>\n",
              "      <th>calculated_host_listings_count_entire_homes</th>\n",
              "      <th>calculated_host_listings_count_private_rooms</th>\n",
              "      <th>calculated_host_listings_count_shared_rooms</th>\n",
              "      <th>reviews_per_month</th>\n",
              "    </tr>\n",
              "  </thead>\n",
              "  <tbody>\n",
              "    <tr>\n",
              "      <th>9254</th>\n",
              "      <td>44345400</td>\n",
              "      <td>https://www.airbnb.com/rooms/44345400</td>\n",
              "      <td>20230610001920</td>\n",
              "      <td>2023-06-10</td>\n",
              "      <td>previous scrape</td>\n",
              "      <td>Aparthotel in Barcelona · Studio</td>\n",
              "      <td>NaN</td>\n",
              "      <td>NaN</td>\n",
              "      <td>https://a0.muscache.com/pictures/miso/Hosting-...</td>\n",
              "      <td>357768035</td>\n",
              "      <td>https://www.airbnb.com/users/show/357768035</td>\n",
              "      <td>Citadines Ramblas</td>\n",
              "      <td>2020-07-22</td>\n",
              "      <td>Barcelona, Spain</td>\n",
              "      <td>NaN</td>\n",
              "      <td>NaN</td>\n",
              "      <td>NaN</td>\n",
              "      <td>NaN</td>\n",
              "      <td>NaN</td>\n",
              "      <td>https://a0.muscache.com/im/pictures/user/2bc61...</td>\n",
              "      <td>https://a0.muscache.com/im/pictures/user/2bc61...</td>\n",
              "      <td>NaN</td>\n",
              "      <td>4.0</td>\n",
              "      <td>5.0</td>\n",
              "      <td>['email', 'phone']</td>\n",
              "      <td>t</td>\n",
              "      <td>t</td>\n",
              "      <td>NaN</td>\n",
              "      <td>el Barri Gòtic</td>\n",
              "      <td>Ciutat Vella</td>\n",
              "      <td>41.38382</td>\n",
              "      <td>2.17146</td>\n",
              "      <td>Room in aparthotel</td>\n",
              "      <td>Hotel room</td>\n",
              "      <td>0</td>\n",
              "      <td>NaN</td>\n",
              "      <td>NaN</td>\n",
              "      <td>NaN</td>\n",
              "      <td>NaN</td>\n",
              "      <td>[\"Fire extinguisher\", \"Pets allowed\", \"Refrige...</td>\n",
              "      <td>$0.00</td>\n",
              "      <td>1</td>\n",
              "      <td>28</td>\n",
              "      <td>NaN</td>\n",
              "      <td>NaN</td>\n",
              "      <td>NaN</td>\n",
              "      <td>NaN</td>\n",
              "      <td>NaN</td>\n",
              "      <td>NaN</td>\n",
              "      <td>NaN</td>\n",
              "      <td>f</td>\n",
              "      <td>0</td>\n",
              "      <td>0</td>\n",
              "      <td>0</td>\n",
              "      <td>0</td>\n",
              "      <td>2023-06-10</td>\n",
              "      <td>0</td>\n",
              "      <td>0</td>\n",
              "      <td>0</td>\n",
              "      <td>NaN</td>\n",
              "      <td>NaN</td>\n",
              "      <td>NaN</td>\n",
              "      <td>NaN</td>\n",
              "      <td>NaN</td>\n",
              "      <td>NaN</td>\n",
              "      <td>NaN</td>\n",
              "      <td>NaN</td>\n",
              "      <td>NaN</td>\n",
              "      <td>NaN</td>\n",
              "      <td>f</td>\n",
              "      <td>1</td>\n",
              "      <td>0</td>\n",
              "      <td>0</td>\n",
              "      <td>0</td>\n",
              "      <td>NaN</td>\n",
              "    </tr>\n",
              "  </tbody>\n",
              "</table>\n",
              "</div>\n",
              "    <div class=\"colab-df-buttons\">\n",
              "\n",
              "  <div class=\"colab-df-container\">\n",
              "    <button class=\"colab-df-convert\" onclick=\"convertToInteractive('df-124b09e9-e6a8-44ea-a1e3-d16cf4063f21')\"\n",
              "            title=\"Convert this dataframe to an interactive table.\"\n",
              "            style=\"display:none;\">\n",
              "\n",
              "  <svg xmlns=\"http://www.w3.org/2000/svg\" height=\"24px\" viewBox=\"0 -960 960 960\">\n",
              "    <path d=\"M120-120v-720h720v720H120Zm60-500h600v-160H180v160Zm220 220h160v-160H400v160Zm0 220h160v-160H400v160ZM180-400h160v-160H180v160Zm440 0h160v-160H620v160ZM180-180h160v-160H180v160Zm440 0h160v-160H620v160Z\"/>\n",
              "  </svg>\n",
              "    </button>\n",
              "\n",
              "  <style>\n",
              "    .colab-df-container {\n",
              "      display:flex;\n",
              "      gap: 12px;\n",
              "    }\n",
              "\n",
              "    .colab-df-convert {\n",
              "      background-color: #E8F0FE;\n",
              "      border: none;\n",
              "      border-radius: 50%;\n",
              "      cursor: pointer;\n",
              "      display: none;\n",
              "      fill: #1967D2;\n",
              "      height: 32px;\n",
              "      padding: 0 0 0 0;\n",
              "      width: 32px;\n",
              "    }\n",
              "\n",
              "    .colab-df-convert:hover {\n",
              "      background-color: #E2EBFA;\n",
              "      box-shadow: 0px 1px 2px rgba(60, 64, 67, 0.3), 0px 1px 3px 1px rgba(60, 64, 67, 0.15);\n",
              "      fill: #174EA6;\n",
              "    }\n",
              "\n",
              "    .colab-df-buttons div {\n",
              "      margin-bottom: 4px;\n",
              "    }\n",
              "\n",
              "    [theme=dark] .colab-df-convert {\n",
              "      background-color: #3B4455;\n",
              "      fill: #D2E3FC;\n",
              "    }\n",
              "\n",
              "    [theme=dark] .colab-df-convert:hover {\n",
              "      background-color: #434B5C;\n",
              "      box-shadow: 0px 1px 3px 1px rgba(0, 0, 0, 0.15);\n",
              "      filter: drop-shadow(0px 1px 2px rgba(0, 0, 0, 0.3));\n",
              "      fill: #FFFFFF;\n",
              "    }\n",
              "  </style>\n",
              "\n",
              "    <script>\n",
              "      const buttonEl =\n",
              "        document.querySelector('#df-124b09e9-e6a8-44ea-a1e3-d16cf4063f21 button.colab-df-convert');\n",
              "      buttonEl.style.display =\n",
              "        google.colab.kernel.accessAllowed ? 'block' : 'none';\n",
              "\n",
              "      async function convertToInteractive(key) {\n",
              "        const element = document.querySelector('#df-124b09e9-e6a8-44ea-a1e3-d16cf4063f21');\n",
              "        const dataTable =\n",
              "          await google.colab.kernel.invokeFunction('convertToInteractive',\n",
              "                                                    [key], {});\n",
              "        if (!dataTable) return;\n",
              "\n",
              "        const docLinkHtml = 'Like what you see? Visit the ' +\n",
              "          '<a target=\"_blank\" href=https://colab.research.google.com/notebooks/data_table.ipynb>data table notebook</a>'\n",
              "          + ' to learn more about interactive tables.';\n",
              "        element.innerHTML = '';\n",
              "        dataTable['output_type'] = 'display_data';\n",
              "        await google.colab.output.renderOutput(dataTable, element);\n",
              "        const docLink = document.createElement('div');\n",
              "        docLink.innerHTML = docLinkHtml;\n",
              "        element.appendChild(docLink);\n",
              "      }\n",
              "    </script>\n",
              "  </div>\n",
              "\n",
              "    </div>\n",
              "  </div>\n"
            ]
          },
          "metadata": {},
          "execution_count": 11
        }
      ]
    },
    {
      "cell_type": "code",
      "source": [
        "#Looks like the above listing is indeed an error\n",
        "#Lets drop that entry using drop() & Boolean indexing technique\n",
        "df=df.drop(df[df['accommodates']==0].index)\n",
        "df.accommodates.value_counts()"
      ],
      "metadata": {
        "colab": {
          "base_uri": "https://localhost:8080/"
        },
        "id": "E2kI2Wg7DV8T",
        "outputId": "f7428798-f78a-4d16-8541-590bdce6f0a9"
      },
      "execution_count": 12,
      "outputs": [
        {
          "output_type": "execute_result",
          "data": {
            "text/plain": [
              "2    5604\n",
              "1    2512\n",
              "Name: accommodates, dtype: int64"
            ]
          },
          "metadata": {},
          "execution_count": 12
        }
      ]
    },
    {
      "cell_type": "markdown",
      "metadata": {
        "id": "EUsGLb3omjsW"
      },
      "source": [
        "##Create 'df1' with relevant columns\n",
        "### Drop irrelvant listings"
      ]
    },
    {
      "cell_type": "code",
      "execution_count": 13,
      "metadata": {
        "id": "h2G0QLeD_rtT"
      },
      "outputs": [],
      "source": [
        "#Create new dataframe keeping only required columns\n",
        "df1=df[['id','listing_url','name','host_since','host_is_superhost','neighbourhood_group_cleansed','accommodates','amenities','price','number_of_reviews','review_scores_rating','latitude','longitude']]"
      ]
    },
    {
      "cell_type": "code",
      "execution_count": 14,
      "metadata": {
        "colab": {
          "base_uri": "https://localhost:8080/"
        },
        "id": "eVImzZkiBtdz",
        "outputId": "18dee1c6-2b50-49c6-a0b8-1f2afa910d4d"
      },
      "outputs": [
        {
          "output_type": "execute_result",
          "data": {
            "text/plain": [
              "Index(['id', 'listing_url', 'name', 'host_since', 'host_is_superhost',\n",
              "       'neighbourhood_group_cleansed', 'accommodates', 'amenities', 'price',\n",
              "       'number_of_reviews', 'review_scores_rating', 'latitude', 'longitude'],\n",
              "      dtype='object')"
            ]
          },
          "metadata": {},
          "execution_count": 14
        }
      ],
      "source": [
        "#Check columns that we have\n",
        "df1.columns"
      ]
    },
    {
      "cell_type": "markdown",
      "source": [
        "####Drop all listings with no review_scores_rating"
      ],
      "metadata": {
        "id": "eVcj9484Ecnp"
      }
    },
    {
      "cell_type": "code",
      "execution_count": 15,
      "metadata": {
        "colab": {
          "base_uri": "https://localhost:8080/"
        },
        "id": "fhCkuHnuJ0rr",
        "outputId": "a1d76878-d1a5-4e04-d483-89db0692acf9"
      },
      "outputs": [
        {
          "output_type": "stream",
          "name": "stderr",
          "text": [
            "<ipython-input-15-9eebd8b0557d>:3: SettingWithCopyWarning: \n",
            "A value is trying to be set on a copy of a slice from a DataFrame\n",
            "\n",
            "See the caveats in the documentation: https://pandas.pydata.org/pandas-docs/stable/user_guide/indexing.html#returning-a-view-versus-a-copy\n",
            "  df1.dropna(subset=['review_scores_rating'],inplace=True)\n"
          ]
        }
      ],
      "source": [
        "#Drop all listings with review_scores_rating is nill and number_of_reviews=0\n",
        "df1.review_scores_rating.value_counts(dropna=False)\n",
        "df1.dropna(subset=['review_scores_rating'],inplace=True)"
      ]
    },
    {
      "cell_type": "code",
      "execution_count": 16,
      "metadata": {
        "colab": {
          "base_uri": "https://localhost:8080/"
        },
        "id": "gnvnk27gwy8p",
        "outputId": "c0b3d638-fff1-4a86-d6ea-c3b6ca75fdfb"
      },
      "outputs": [
        {
          "output_type": "execute_result",
          "data": {
            "text/plain": [
              "(5794, 13)"
            ]
          },
          "metadata": {},
          "execution_count": 16
        }
      ],
      "source": [
        "df1.shape"
      ]
    },
    {
      "cell_type": "markdown",
      "source": [
        "####Drop listings with abnormal pricing"
      ],
      "metadata": {
        "id": "XIyncRDnExUh"
      }
    },
    {
      "cell_type": "code",
      "source": [
        "df1.price.describe"
      ],
      "metadata": {
        "colab": {
          "base_uri": "https://localhost:8080/"
        },
        "id": "OmG195BoE-_B",
        "outputId": "5811f7e1-766b-4a72-bba7-36cb9506b512"
      },
      "execution_count": 17,
      "outputs": [
        {
          "output_type": "execute_result",
          "data": {
            "text/plain": [
              "<bound method NDFrame.describe of 4         $63.00\n",
              "7         $30.00\n",
              "8        $200.00\n",
              "12       $186.00\n",
              "14        $32.00\n",
              "          ...   \n",
              "17060     $82.00\n",
              "17063     $91.00\n",
              "17074    $300.00\n",
              "17104     $89.00\n",
              "17149     $76.00\n",
              "Name: price, Length: 5794, dtype: object>"
            ]
          },
          "metadata": {},
          "execution_count": 17
        }
      ]
    },
    {
      "cell_type": "code",
      "source": [
        "#Convert price from object to int/float and\n",
        "#also remove $ and Commas\n",
        "df1.price=df1.price.str.replace('$','').str.replace(',','').astype(float)"
      ],
      "metadata": {
        "colab": {
          "base_uri": "https://localhost:8080/"
        },
        "id": "xRg-6wzQFHE9",
        "outputId": "25b39f67-6eae-4183-d6fb-7d3ca1e33f39"
      },
      "execution_count": 18,
      "outputs": [
        {
          "output_type": "stream",
          "name": "stderr",
          "text": [
            "<ipython-input-18-4d5ced287eb1>:3: FutureWarning: The default value of regex will change from True to False in a future version. In addition, single character regular expressions will *not* be treated as literal strings when regex=True.\n",
            "  df1.price=df1.price.str.replace('$','').str.replace(',','').astype(float)\n",
            "<ipython-input-18-4d5ced287eb1>:3: SettingWithCopyWarning: \n",
            "A value is trying to be set on a copy of a slice from a DataFrame.\n",
            "Try using .loc[row_indexer,col_indexer] = value instead\n",
            "\n",
            "See the caveats in the documentation: https://pandas.pydata.org/pandas-docs/stable/user_guide/indexing.html#returning-a-view-versus-a-copy\n",
            "  df1.price=df1.price.str.replace('$','').str.replace(',','').astype(float)\n"
          ]
        }
      ]
    },
    {
      "cell_type": "code",
      "source": [
        "#Price is changed from object to float\n",
        "df1.price.dtypes"
      ],
      "metadata": {
        "colab": {
          "base_uri": "https://localhost:8080/"
        },
        "id": "lvEluZ9vFSKM",
        "outputId": "1a82c619-a38d-4722-c2a1-25ccfa39e576"
      },
      "execution_count": 19,
      "outputs": [
        {
          "output_type": "execute_result",
          "data": {
            "text/plain": [
              "dtype('float64')"
            ]
          },
          "metadata": {},
          "execution_count": 19
        }
      ]
    },
    {
      "cell_type": "code",
      "source": [
        "#Check all the listings with pricee above 1000\n",
        "df1[df1['price']>1500].shape"
      ],
      "metadata": {
        "colab": {
          "base_uri": "https://localhost:8080/"
        },
        "id": "w-SenMF9FUq_",
        "outputId": "18ec57d0-44ef-493a-c160-dc1b2f0d4309"
      },
      "execution_count": 20,
      "outputs": [
        {
          "output_type": "execute_result",
          "data": {
            "text/plain": [
              "(13, 13)"
            ]
          },
          "metadata": {},
          "execution_count": 20
        }
      ]
    },
    {
      "cell_type": "code",
      "source": [
        "#There are a total 13 listings with wrong price or unavailable\n",
        "#After verifying each listing url, dropping all 13 to avoid skewness in the price and alter dataframe\n",
        "df1=df1[df1['price']<=1500]"
      ],
      "metadata": {
        "id": "xYLh_77mFm6E"
      },
      "execution_count": 21,
      "outputs": []
    },
    {
      "cell_type": "code",
      "source": [
        "df1.shape"
      ],
      "metadata": {
        "colab": {
          "base_uri": "https://localhost:8080/"
        },
        "id": "Ch0I75DgJOjN",
        "outputId": "42800bc4-6c4b-4b9e-c605-1b4785ad846f"
      },
      "execution_count": 22,
      "outputs": [
        {
          "output_type": "execute_result",
          "data": {
            "text/plain": [
              "(5781, 13)"
            ]
          },
          "metadata": {},
          "execution_count": 22
        }
      ]
    },
    {
      "cell_type": "markdown",
      "source": [
        "#Listings\n",
        "####Listings in the original dataset=17230\n",
        "####After filtering by accommodates=8117\n",
        "####After dropping listings with no reviews=5794\n",
        "####After dropping abnormal listings=5781 (Final Dataset)\n",
        "\n"
      ],
      "metadata": {
        "id": "vBVcSQTlKGou"
      }
    },
    {
      "cell_type": "markdown",
      "metadata": {
        "id": "RpAu2d7sI2nu"
      },
      "source": [
        "# Data manipulation"
      ]
    },
    {
      "cell_type": "code",
      "execution_count": 23,
      "metadata": {
        "colab": {
          "base_uri": "https://localhost:8080/"
        },
        "id": "3bsc4wiaJWGp",
        "outputId": "413a1658-2280-4e0e-e773-4b166c55958d"
      },
      "outputs": [
        {
          "output_type": "execute_result",
          "data": {
            "text/plain": [
              "Index(['id', 'listing_url', 'name', 'host_since', 'host_is_superhost',\n",
              "       'neighbourhood_group_cleansed', 'accommodates', 'amenities', 'price',\n",
              "       'number_of_reviews', 'review_scores_rating', 'latitude', 'longitude'],\n",
              "      dtype='object')"
            ]
          },
          "metadata": {},
          "execution_count": 23
        }
      ],
      "source": [
        "df1.columns"
      ]
    },
    {
      "cell_type": "markdown",
      "metadata": {
        "id": "U0RgECqNvlZ2"
      },
      "source": [
        "###host_since"
      ]
    },
    {
      "cell_type": "code",
      "execution_count": 24,
      "metadata": {
        "colab": {
          "base_uri": "https://localhost:8080/"
        },
        "id": "XARUrLVqvRzb",
        "outputId": "28e50a0b-0ddd-41aa-b03b-7539098ec0ac"
      },
      "outputs": [
        {
          "output_type": "stream",
          "name": "stdout",
          "text": [
            "<class 'pandas.core.frame.DataFrame'>\n",
            "Int64Index: 5781 entries, 4 to 17149\n",
            "Data columns (total 13 columns):\n",
            " #   Column                        Non-Null Count  Dtype  \n",
            "---  ------                        --------------  -----  \n",
            " 0   id                            5781 non-null   int64  \n",
            " 1   listing_url                   5781 non-null   object \n",
            " 2   name                          5781 non-null   object \n",
            " 3   host_since                    5780 non-null   object \n",
            " 4   host_is_superhost             2205 non-null   object \n",
            " 5   neighbourhood_group_cleansed  5781 non-null   object \n",
            " 6   accommodates                  5781 non-null   int64  \n",
            " 7   amenities                     5781 non-null   object \n",
            " 8   price                         5781 non-null   float64\n",
            " 9   number_of_reviews             5781 non-null   int64  \n",
            " 10  review_scores_rating          5781 non-null   float64\n",
            " 11  latitude                      5781 non-null   float64\n",
            " 12  longitude                     5781 non-null   float64\n",
            "dtypes: float64(4), int64(3), object(6)\n",
            "memory usage: 632.3+ KB\n"
          ]
        }
      ],
      "source": [
        "#Lets check what type of info we have\n",
        "#Info gives details of each column's datatype like int, float, or string\n",
        "df1.info()"
      ]
    },
    {
      "cell_type": "code",
      "execution_count": 25,
      "metadata": {
        "colab": {
          "base_uri": "https://localhost:8080/"
        },
        "id": "dqyLexFdsOgO",
        "outputId": "67e2ecab-bc0d-4022-8d13-a602a65c0c77"
      },
      "outputs": [
        {
          "output_type": "execute_result",
          "data": {
            "text/plain": [
              "4        2010-03-09\n",
              "7        2010-07-05\n",
              "8        2011-01-09\n",
              "12       2011-01-28\n",
              "14       2011-03-14\n",
              "            ...    \n",
              "17060    2018-04-23\n",
              "17063    2019-08-20\n",
              "17074    2022-10-04\n",
              "17104    2019-08-27\n",
              "17149    2023-04-25\n",
              "Name: host_since, Length: 5781, dtype: object"
            ]
          },
          "metadata": {},
          "execution_count": 25
        }
      ],
      "source": [
        "#Lets find the experince of host\n",
        "df1.host_since"
      ]
    },
    {
      "cell_type": "code",
      "execution_count": 26,
      "metadata": {
        "colab": {
          "base_uri": "https://localhost:8080/"
        },
        "id": "FeE8GRA7vzVf",
        "outputId": "07cf51ce-fd0f-449e-99b2-3b6de61d4f2a"
      },
      "outputs": [
        {
          "output_type": "execute_result",
          "data": {
            "text/plain": [
              "4        2010.0\n",
              "7        2010.0\n",
              "8        2011.0\n",
              "12       2011.0\n",
              "14       2011.0\n",
              "          ...  \n",
              "17060    2018.0\n",
              "17063    2019.0\n",
              "17074    2022.0\n",
              "17104    2019.0\n",
              "17149    2023.0\n",
              "Name: host_since, Length: 5781, dtype: float64"
            ]
          },
          "metadata": {},
          "execution_count": 26
        }
      ],
      "source": [
        "# Lets change the datatype from object to datetime\n",
        "from datetime import datetime as dt\n",
        "df1.host_since=pd.to_datetime(df1.host_since)\n",
        "df1.host_since.dt.year\n"
      ]
    },
    {
      "cell_type": "code",
      "execution_count": 27,
      "metadata": {
        "colab": {
          "base_uri": "https://localhost:8080/"
        },
        "id": "f4fYuPVSwMtP",
        "outputId": "c5762aaa-5171-4b59-9743-4225818690d0"
      },
      "outputs": [
        {
          "output_type": "execute_result",
          "data": {
            "text/plain": [
              "4        13.0\n",
              "7        13.0\n",
              "8        12.0\n",
              "12       12.0\n",
              "14       12.0\n",
              "         ... \n",
              "17060     5.0\n",
              "17063     4.0\n",
              "17074     1.0\n",
              "17104     4.0\n",
              "17149     0.0\n",
              "Name: host_exp, Length: 5781, dtype: float64"
            ]
          },
          "metadata": {},
          "execution_count": 27
        }
      ],
      "source": [
        "#Now datetype is changed to float\n",
        "#Create new column to verify no:of years of experience\n",
        "df1['host_exp']=dt.today().year-df1.host_since.dt.year\n",
        "df1.host_exp"
      ]
    },
    {
      "cell_type": "code",
      "execution_count": 28,
      "metadata": {
        "colab": {
          "base_uri": "https://localhost:8080/"
        },
        "id": "FTnNZRr1KlLL",
        "outputId": "cb00bf8a-aa35-45e7-9c43-16c4f0a40c11"
      },
      "outputs": [
        {
          "output_type": "stream",
          "name": "stdout",
          "text": [
            "<class 'pandas.core.frame.DataFrame'>\n",
            "Int64Index: 5781 entries, 4 to 17149\n",
            "Data columns (total 14 columns):\n",
            " #   Column                        Non-Null Count  Dtype         \n",
            "---  ------                        --------------  -----         \n",
            " 0   id                            5781 non-null   int64         \n",
            " 1   listing_url                   5781 non-null   object        \n",
            " 2   name                          5781 non-null   object        \n",
            " 3   host_since                    5780 non-null   datetime64[ns]\n",
            " 4   host_is_superhost             2205 non-null   object        \n",
            " 5   neighbourhood_group_cleansed  5781 non-null   object        \n",
            " 6   accommodates                  5781 non-null   int64         \n",
            " 7   amenities                     5781 non-null   object        \n",
            " 8   price                         5781 non-null   float64       \n",
            " 9   number_of_reviews             5781 non-null   int64         \n",
            " 10  review_scores_rating          5781 non-null   float64       \n",
            " 11  latitude                      5781 non-null   float64       \n",
            " 12  longitude                     5781 non-null   float64       \n",
            " 13  host_exp                      5780 non-null   float64       \n",
            "dtypes: datetime64[ns](1), float64(5), int64(3), object(5)\n",
            "memory usage: 677.5+ KB\n"
          ]
        }
      ],
      "source": [
        "#Verify if new column is added to the dataframe\n",
        "df1.info()"
      ]
    },
    {
      "cell_type": "markdown",
      "metadata": {
        "id": "cY61h6moKmOq"
      },
      "source": [
        "##host_is_superhost"
      ]
    },
    {
      "cell_type": "code",
      "execution_count": 29,
      "metadata": {
        "colab": {
          "base_uri": "https://localhost:8080/"
        },
        "id": "GCVyJB1LKrNy",
        "outputId": "97edc6c3-4720-44e1-b4e0-995ada86dc02"
      },
      "outputs": [
        {
          "output_type": "execute_result",
          "data": {
            "text/plain": [
              "id                                 0\n",
              "listing_url                        0\n",
              "name                               0\n",
              "host_since                         1\n",
              "host_is_superhost               3576\n",
              "neighbourhood_group_cleansed       0\n",
              "accommodates                       0\n",
              "amenities                          0\n",
              "price                              0\n",
              "number_of_reviews                  0\n",
              "review_scores_rating               0\n",
              "latitude                           0\n",
              "longitude                          0\n",
              "host_exp                           1\n",
              "dtype: int64"
            ]
          },
          "metadata": {},
          "execution_count": 29
        }
      ],
      "source": [
        "df1.isna().sum()"
      ]
    },
    {
      "cell_type": "code",
      "execution_count": 30,
      "metadata": {
        "colab": {
          "base_uri": "https://localhost:8080/"
        },
        "id": "sAibNAzAMXsM",
        "outputId": "a16cddd8-6afc-4cda-ccb5-00ae7485fc01"
      },
      "outputs": [
        {
          "output_type": "execute_result",
          "data": {
            "text/plain": [
              "NaN    3576\n",
              "f      1639\n",
              "t       566\n",
              "Name: host_is_superhost, dtype: int64"
            ]
          },
          "metadata": {},
          "execution_count": 30
        }
      ],
      "source": [
        "#check unique values in this column including missing values\n",
        "df1.host_is_superhost.value_counts(dropna=False)"
      ]
    },
    {
      "cell_type": "code",
      "execution_count": 31,
      "metadata": {
        "id": "tTkOeIuiK3OE"
      },
      "outputs": [],
      "source": [
        "#Since there are lot of missing values in this column\n",
        "#Lets assume missing values as f\n",
        "df1.host_is_superhost.fillna(\"f\",inplace=True)"
      ]
    },
    {
      "cell_type": "code",
      "execution_count": 32,
      "metadata": {
        "colab": {
          "base_uri": "https://localhost:8080/"
        },
        "id": "fqmB6DFVPfYx",
        "outputId": "840544f9-15d7-405e-901f-c6c3c27a6d95"
      },
      "outputs": [
        {
          "output_type": "execute_result",
          "data": {
            "text/plain": [
              "f    5215\n",
              "t     566\n",
              "Name: host_is_superhost, dtype: int64"
            ]
          },
          "metadata": {},
          "execution_count": 32
        }
      ],
      "source": [
        "df1.host_is_superhost.value_counts()"
      ]
    },
    {
      "cell_type": "code",
      "execution_count": 33,
      "metadata": {
        "id": "fcyeN-ooPiHG"
      },
      "outputs": [],
      "source": [
        "#Alter f or t (strings) to 0 or 1 (integers)\n",
        "df1['host_is_superhost']=df1.host_is_superhost.replace({'f':0, 't':1})"
      ]
    },
    {
      "cell_type": "code",
      "execution_count": 34,
      "metadata": {
        "colab": {
          "base_uri": "https://localhost:8080/"
        },
        "id": "yVmub0OJQFBM",
        "outputId": "53ff93a4-518d-45e6-df51-2a813586ffc0"
      },
      "outputs": [
        {
          "output_type": "execute_result",
          "data": {
            "text/plain": [
              "0    5215\n",
              "1     566\n",
              "Name: host_is_superhost, dtype: int64"
            ]
          },
          "metadata": {},
          "execution_count": 34
        }
      ],
      "source": [
        "df1.host_is_superhost.value_counts()"
      ]
    },
    {
      "cell_type": "markdown",
      "metadata": {
        "id": "Hb_o2HW1Qj4G"
      },
      "source": [
        "##price"
      ]
    },
    {
      "cell_type": "code",
      "execution_count": 35,
      "metadata": {
        "colab": {
          "base_uri": "https://localhost:8080/"
        },
        "id": "UhXz3uX-VRz-",
        "outputId": "bd060fbc-7b5f-454a-a413-76c05be65662"
      },
      "outputs": [
        {
          "output_type": "execute_result",
          "data": {
            "text/plain": [
              "count    5781.000000\n",
              "mean       87.192873\n",
              "std        77.095184\n",
              "min         8.000000\n",
              "25%        40.000000\n",
              "50%        63.000000\n",
              "75%       105.000000\n",
              "max      1485.000000\n",
              "Name: price, dtype: float64"
            ]
          },
          "metadata": {},
          "execution_count": 35
        }
      ],
      "source": [
        "#Now price is displayed as float\n",
        "df1.price.describe()"
      ]
    },
    {
      "cell_type": "code",
      "execution_count": 36,
      "metadata": {
        "colab": {
          "base_uri": "https://localhost:8080/",
          "height": 466
        },
        "id": "feWS5GWIW6Gg",
        "outputId": "ebab5dab-0c4a-4332-92c7-e65c229e08fe"
      },
      "outputs": [
        {
          "output_type": "execute_result",
          "data": {
            "text/plain": [
              "<Axes: xlabel='price'>"
            ]
          },
          "metadata": {},
          "execution_count": 36
        },
        {
          "output_type": "display_data",
          "data": {
            "text/plain": [
              "<Figure size 640x480 with 1 Axes>"
            ],
            "image/png": "[encoded data removed]"
          },
          "metadata": {}
        }
      ],
      "source": [
        "#plot outliers using boxplot\n",
        "sns.boxplot(data=df1,x='price')"
      ]
    },
    {
      "cell_type": "code",
      "execution_count": 37,
      "metadata": {
        "id": "PNcJVCkZL9Xb"
      },
      "outputs": [],
      "source": [
        "# Identify outliers using interquartile range.\n",
        "#calculate IQR for 'price' column\n",
        "Q1 = df1['price'].quantile(0.25)\n",
        "Q3 = df1['price'].quantile(0.75)\n",
        "IQR = Q3 - Q1\n",
        "\n",
        "# identify outliers\n",
        "threshold = 1.5\n",
        "outliers = df1[(df1['price'] < Q1 - threshold * IQR) | (df1['price'] > Q3 + threshold * IQR)]"
      ]
    },
    {
      "cell_type": "code",
      "execution_count": 38,
      "metadata": {
        "colab": {
          "base_uri": "https://localhost:8080/"
        },
        "id": "FMOMLgcLQdSw",
        "outputId": "0e6a4a7f-16e2-4704-c2a8-b6455153b292"
      },
      "outputs": [
        {
          "output_type": "stream",
          "name": "stdout",
          "text": [
            "-57.5 202.5\n"
          ]
        }
      ],
      "source": [
        "print( Q1 - threshold * IQR,Q3 + threshold * IQR)"
      ]
    },
    {
      "cell_type": "markdown",
      "source": [
        "This is just for our reference, we are not deleting outliers based on boxplot!"
      ],
      "metadata": {
        "id": "zTw5-e-6LWBO"
      }
    },
    {
      "cell_type": "code",
      "execution_count": 39,
      "metadata": {
        "colab": {
          "base_uri": "https://localhost:8080/",
          "height": 466
        },
        "id": "KoCeB-F1CuPT",
        "outputId": "f4ba41ba-982b-4c4e-c3c1-d64d56d266a8"
      },
      "outputs": [
        {
          "output_type": "execute_result",
          "data": {
            "text/plain": [
              "<Axes: xlabel='price', ylabel='Count'>"
            ]
          },
          "metadata": {},
          "execution_count": 39
        },
        {
          "output_type": "display_data",
          "data": {
            "text/plain": [
              "<Figure size 640x480 with 1 Axes>"
            ],
            "image/png": "[encoded data removed]"
          },
          "metadata": {}
        }
      ],
      "source": [
        "sns.histplot(data=df1.price, bins=10, kde=True)"
      ]
    },
    {
      "cell_type": "code",
      "execution_count": 40,
      "metadata": {
        "id": "mHQ6Ro4a12Hi"
      },
      "outputs": [],
      "source": [
        "# Helper function to plot histograms based on the\n",
        "# format of the `sessions` histogram\n",
        "def histogrammer(df,column_str, median_text=True, **kwargs):    # **kwargs = any keyword arguments\n",
        "                                                             # from the sns.histplot() function\n",
        "    median=round(df[column_str].median(), 1)\n",
        "    plt.figure(figsize=(5,3))\n",
        "    ax = sns.histplot(x=df[column_str], **kwargs)            # Plot the histogram\n",
        "    plt.axvline(median, color='red', linestyle='--')         # Plot the median line\n",
        "    if median_text==True:                                    # Add median text unless set to False\n",
        "        ax.text(0.25, 0.85, f'median={median}', color='red',\n",
        "            ha='left', va='top', transform=ax.transAxes)\n",
        "    else:\n",
        "        print('Median:', median)\n",
        "    plt.title(f'{column_str} histogram');"
      ]
    },
    {
      "cell_type": "code",
      "execution_count": 41,
      "metadata": {
        "colab": {
          "base_uri": "https://localhost:8080/",
          "height": 333
        },
        "id": "uBwaiN9F18Bd",
        "outputId": "0e4c42ba-0984-483b-ec62-1ab5c8c17e9a"
      },
      "outputs": [
        {
          "output_type": "display_data",
          "data": {
            "text/plain": [
              "<Figure size 500x300 with 1 Axes>"
            ],
            "image/png": "[encoded data removed]"
          },
          "metadata": {}
        }
      ],
      "source": [
        "histogrammer(df1,'price', median_text=True)"
      ]
    },
    {
      "cell_type": "markdown",
      "metadata": {
        "id": "QrG9KpO6dMLd"
      },
      "source": [
        "##Amenities"
      ]
    },
    {
      "cell_type": "code",
      "execution_count": 42,
      "metadata": {
        "id": "a4PX38_FdR_6"
      },
      "outputs": [],
      "source": [
        "#Create new column for wifi\n",
        "df1['wifi']=(df1.amenities.str.contains('Wifi', case=False))"
      ]
    },
    {
      "cell_type": "code",
      "execution_count": 43,
      "metadata": {
        "colab": {
          "base_uri": "https://localhost:8080/"
        },
        "id": "2E7z7G6MflKB",
        "outputId": "68633c98-0355-497b-a57e-459fa2b4a0f4"
      },
      "outputs": [
        {
          "output_type": "execute_result",
          "data": {
            "text/plain": [
              "0.9769935997232313"
            ]
          },
          "metadata": {},
          "execution_count": 43
        }
      ],
      "source": [
        "df1['wifi'].sum()/df1.shape[0]"
      ]
    },
    {
      "cell_type": "code",
      "execution_count": 44,
      "metadata": {
        "colab": {
          "base_uri": "https://localhost:8080/"
        },
        "id": "eOjkJW95f0Nl",
        "outputId": "f244ebd6-5d67-4e7d-d8b4-b779077ccef6"
      },
      "outputs": [
        {
          "output_type": "execute_result",
          "data": {
            "text/plain": [
              "0.39456841376924406"
            ]
          },
          "metadata": {},
          "execution_count": 44
        }
      ],
      "source": [
        "#Create new column for workspace\n",
        "df1['workspace']=(df1.amenities.str.contains('workspace', case=False))\n",
        "df1['workspace'].sum()/df1.shape[0]"
      ]
    },
    {
      "cell_type": "markdown",
      "metadata": {
        "id": "Xmj3ewgJZlYs"
      },
      "source": [
        "##Coworking Place Data"
      ]
    },
    {
      "cell_type": "code",
      "execution_count": 45,
      "metadata": {
        "id": "WgN5GmlbZprG"
      },
      "outputs": [],
      "source": [
        "path = \"/content/drive/MyDrive/Barcelona/modified_coordinates.csv\"\n",
        "cwp = pd.read_csv(path)"
      ]
    },
    {
      "cell_type": "code",
      "execution_count": 46,
      "metadata": {
        "colab": {
          "base_uri": "https://localhost:8080/",
          "height": 258
        },
        "id": "NfURyQWKaL8-",
        "outputId": "a5b63a71-231b-4d65-bad9-edf6b744c368"
      },
      "outputs": [
        {
          "output_type": "execute_result",
          "data": {
            "text/plain": [
              "          city                                               name  \\\n",
              "153  Barcelona              MOB Caterina - Coworking in Barcelona   \n",
              "104       Riga                                            Teikums   \n",
              "126  Barcelona  Coworking RavalCo - Peaceful Coworking (24/7 f...   \n",
              "14      Lisbon                                   DeBru Craft Beer   \n",
              "196  Barcelona              Coworking Loft para Creativos: WeLoft   \n",
              "\n",
              "                                                adress  \\\n",
              "153  Av. de Francesc Cambó, 17, 1er piso, 08003 Bar...   \n",
              "104  Gustava Zemgala gat. 78, Vidzemes priekšpilsēt...   \n",
              "126    C/ de Sant Vicenç, 21, 08001 Barcelona, Spanien   \n",
              "14   R. Luciano Cordeiro 2C, 1150-313 Lisboa, Portugal   \n",
              "196  C/ de Pere IV, 78, 6º 2ª, 08005 Barcelona, Spa...   \n",
              "\n",
              "               Google Plus-Code  longitude  latitude  \n",
              "153  95PG+FX Barcelona, Spanien    4138622   2177492  \n",
              "104      X5G8+QF Riga, Lettland    5697692   2416626  \n",
              "126  95J7+FX Barcelona, Spanien    4138122   2164982  \n",
              "14   PVF4+9X Lissabon, Portugal    3872346   -914253  \n",
              "196  95WV+VF Barcelona, Spanien    4139716   2193665  "
            ],
            "text/html": [
              "\n",
              "  <div id=\"df-2d63f419-f210-4825-950c-df8cbb29e863\" class=\"colab-df-container\">\n",
              "    <div>\n",
              "<style scoped>\n",
              "    .dataframe tbody tr th:only-of-type {\n",
              "        vertical-align: middle;\n",
              "    }\n",
              "\n",
              "    .dataframe tbody tr th {\n",
              "        vertical-align: top;\n",
              "    }\n",
              "\n",
              "    .dataframe thead th {\n",
              "        text-align: right;\n",
              "    }\n",
              "</style>\n",
              "<table border=\"1\" class=\"dataframe\">\n",
              "  <thead>\n",
              "    <tr style=\"text-align: right;\">\n",
              "      <th></th>\n",
              "      <th>city</th>\n",
              "      <th>name</th>\n",
              "      <th>adress</th>\n",
              "      <th>Google Plus-Code</th>\n",
              "      <th>longitude</th>\n",
              "      <th>latitude</th>\n",
              "    </tr>\n",
              "  </thead>\n",
              "  <tbody>\n",
              "    <tr>\n",
              "      <th>153</th>\n",
              "      <td>Barcelona</td>\n",
              "      <td>MOB Caterina - Coworking in Barcelona</td>\n",
              "      <td>Av. de Francesc Cambó, 17, 1er piso, 08003 Bar...</td>\n",
              "      <td>95PG+FX Barcelona, Spanien</td>\n",
              "      <td>4138622</td>\n",
              "      <td>2177492</td>\n",
              "    </tr>\n",
              "    <tr>\n",
              "      <th>104</th>\n",
              "      <td>Riga</td>\n",
              "      <td>Teikums</td>\n",
              "      <td>Gustava Zemgala gat. 78, Vidzemes priekšpilsēt...</td>\n",
              "      <td>X5G8+QF Riga, Lettland</td>\n",
              "      <td>5697692</td>\n",
              "      <td>2416626</td>\n",
              "    </tr>\n",
              "    <tr>\n",
              "      <th>126</th>\n",
              "      <td>Barcelona</td>\n",
              "      <td>Coworking RavalCo - Peaceful Coworking (24/7 f...</td>\n",
              "      <td>C/ de Sant Vicenç, 21, 08001 Barcelona, Spanien</td>\n",
              "      <td>95J7+FX Barcelona, Spanien</td>\n",
              "      <td>4138122</td>\n",
              "      <td>2164982</td>\n",
              "    </tr>\n",
              "    <tr>\n",
              "      <th>14</th>\n",
              "      <td>Lisbon</td>\n",
              "      <td>DeBru Craft Beer</td>\n",
              "      <td>R. Luciano Cordeiro 2C, 1150-313 Lisboa, Portugal</td>\n",
              "      <td>PVF4+9X Lissabon, Portugal</td>\n",
              "      <td>3872346</td>\n",
              "      <td>-914253</td>\n",
              "    </tr>\n",
              "    <tr>\n",
              "      <th>196</th>\n",
              "      <td>Barcelona</td>\n",
              "      <td>Coworking Loft para Creativos: WeLoft</td>\n",
              "      <td>C/ de Pere IV, 78, 6º 2ª, 08005 Barcelona, Spa...</td>\n",
              "      <td>95WV+VF Barcelona, Spanien</td>\n",
              "      <td>4139716</td>\n",
              "      <td>2193665</td>\n",
              "    </tr>\n",
              "  </tbody>\n",
              "</table>\n",
              "</div>\n",
              "    <div class=\"colab-df-buttons\">\n",
              "\n",
              "  <div class=\"colab-df-container\">\n",
              "    <button class=\"colab-df-convert\" onclick=\"convertToInteractive('df-2d63f419-f210-4825-950c-df8cbb29e863')\"\n",
              "            title=\"Convert this dataframe to an interactive table.\"\n",
              "            style=\"display:none;\">\n",
              "\n",
              "  <svg xmlns=\"http://www.w3.org/2000/svg\" height=\"24px\" viewBox=\"0 -960 960 960\">\n",
              "    <path d=\"M120-120v-720h720v720H120Zm60-500h600v-160H180v160Zm220 220h160v-160H400v160Zm0 220h160v-160H400v160ZM180-400h160v-160H180v160Zm440 0h160v-160H620v160ZM180-180h160v-160H180v160Zm440 0h160v-160H620v160Z\"/>\n",
              "  </svg>\n",
              "    </button>\n",
              "\n",
              "  <style>\n",
              "    .colab-df-container {\n",
              "      display:flex;\n",
              "      gap: 12px;\n",
              "    }\n",
              "\n",
              "    .colab-df-convert {\n",
              "      background-color: #E8F0FE;\n",
              "      border: none;\n",
              "      border-radius: 50%;\n",
              "      cursor: pointer;\n",
              "      display: none;\n",
              "      fill: #1967D2;\n",
              "      height: 32px;\n",
              "      padding: 0 0 0 0;\n",
              "      width: 32px;\n",
              "    }\n",
              "\n",
              "    .colab-df-convert:hover {\n",
              "      background-color: #E2EBFA;\n",
              "      box-shadow: 0px 1px 2px rgba(60, 64, 67, 0.3), 0px 1px 3px 1px rgba(60, 64, 67, 0.15);\n",
              "      fill: #174EA6;\n",
              "    }\n",
              "\n",
              "    .colab-df-buttons div {\n",
              "      margin-bottom: 4px;\n",
              "    }\n",
              "\n",
              "    [theme=dark] .colab-df-convert {\n",
              "      background-color: #3B4455;\n",
              "      fill: #D2E3FC;\n",
              "    }\n",
              "\n",
              "    [theme=dark] .colab-df-convert:hover {\n",
              "      background-color: #434B5C;\n",
              "      box-shadow: 0px 1px 3px 1px rgba(0, 0, 0, 0.15);\n",
              "      filter: drop-shadow(0px 1px 2px rgba(0, 0, 0, 0.3));\n",
              "      fill: #FFFFFF;\n",
              "    }\n",
              "  </style>\n",
              "\n",
              "    <script>\n",
              "      const buttonEl =\n",
              "        document.querySelector('#df-2d63f419-f210-4825-950c-df8cbb29e863 button.colab-df-convert');\n",
              "      buttonEl.style.display =\n",
              "        google.colab.kernel.accessAllowed ? 'block' : 'none';\n",
              "\n",
              "      async function convertToInteractive(key) {\n",
              "        const element = document.querySelector('#df-2d63f419-f210-4825-950c-df8cbb29e863');\n",
              "        const dataTable =\n",
              "          await google.colab.kernel.invokeFunction('convertToInteractive',\n",
              "                                                    [key], {});\n",
              "        if (!dataTable) return;\n",
              "\n",
              "        const docLinkHtml = 'Like what you see? Visit the ' +\n",
              "          '<a target=\"_blank\" href=https://colab.research.google.com/notebooks/data_table.ipynb>data table notebook</a>'\n",
              "          + ' to learn more about interactive tables.';\n",
              "        element.innerHTML = '';\n",
              "        dataTable['output_type'] = 'display_data';\n",
              "        await google.colab.output.renderOutput(dataTable, element);\n",
              "        const docLink = document.createElement('div');\n",
              "        docLink.innerHTML = docLinkHtml;\n",
              "        element.appendChild(docLink);\n",
              "      }\n",
              "    </script>\n",
              "  </div>\n",
              "\n",
              "\n",
              "<div id=\"df-28fce940-e778-4b68-a1a4-6957ef2eb0f7\">\n",
              "  <button class=\"colab-df-quickchart\" onclick=\"quickchart('df-28fce940-e778-4b68-a1a4-6957ef2eb0f7')\"\n",
              "            title=\"Suggest charts.\"\n",
              "            style=\"display:none;\">\n",
              "\n",
              "<svg xmlns=\"http://www.w3.org/2000/svg\" height=\"24px\"viewBox=\"0 0 24 24\"\n",
              "     width=\"24px\">\n",
              "    <g>\n",
              "        <path d=\"M19 3H5c-1.1 0-2 .9-2 2v14c0 1.1.9 2 2 2h14c1.1 0 2-.9 2-2V5c0-1.1-.9-2-2-2zM9 17H7v-7h2v7zm4 0h-2V7h2v10zm4 0h-2v-4h2v4z\"/>\n",
              "    </g>\n",
              "</svg>\n",
              "  </button>\n",
              "\n",
              "<style>\n",
              "  .colab-df-quickchart {\n",
              "      --bg-color: #E8F0FE;\n",
              "      --fill-color: #1967D2;\n",
              "      --hover-bg-color: #E2EBFA;\n",
              "      --hover-fill-color: #174EA6;\n",
              "      --disabled-fill-color: #AAA;\n",
              "      --disabled-bg-color: #DDD;\n",
              "  }\n",
              "\n",
              "  [theme=dark] .colab-df-quickchart {\n",
              "      --bg-color: #3B4455;\n",
              "      --fill-color: #D2E3FC;\n",
              "      --hover-bg-color: #434B5C;\n",
              "      --hover-fill-color: #FFFFFF;\n",
              "      --disabled-bg-color: #3B4455;\n",
              "      --disabled-fill-color: #666;\n",
              "  }\n",
              "\n",
              "  .colab-df-quickchart {\n",
              "    background-color: var(--bg-color);\n",
              "    border: none;\n",
              "    border-radius: 50%;\n",
              "    cursor: pointer;\n",
              "    display: none;\n",
              "    fill: var(--fill-color);\n",
              "    height: 32px;\n",
              "    padding: 0;\n",
              "    width: 32px;\n",
              "  }\n",
              "\n",
              "  .colab-df-quickchart:hover {\n",
              "    background-color: var(--hover-bg-color);\n",
              "    box-shadow: 0 1px 2px rgba(60, 64, 67, 0.3), 0 1px 3px 1px rgba(60, 64, 67, 0.15);\n",
              "    fill: var(--button-hover-fill-color);\n",
              "  }\n",
              "\n",
              "  .colab-df-quickchart-complete:disabled,\n",
              "  .colab-df-quickchart-complete:disabled:hover {\n",
              "    background-color: var(--disabled-bg-color);\n",
              "    fill: var(--disabled-fill-color);\n",
              "    box-shadow: none;\n",
              "  }\n",
              "\n",
              "  .colab-df-spinner {\n",
              "    border: 2px solid var(--fill-color);\n",
              "    border-color: transparent;\n",
              "    border-bottom-color: var(--fill-color);\n",
              "    animation:\n",
              "      spin 1s steps(1) infinite;\n",
              "  }\n",
              "\n",
              "  @keyframes spin {\n",
              "    0% {\n",
              "      border-color: transparent;\n",
              "      border-bottom-color: var(--fill-color);\n",
              "      border-left-color: var(--fill-color);\n",
              "    }\n",
              "    20% {\n",
              "      border-color: transparent;\n",
              "      border-left-color: var(--fill-color);\n",
              "      border-top-color: var(--fill-color);\n",
              "    }\n",
              "    30% {\n",
              "      border-color: transparent;\n",
              "      border-left-color: var(--fill-color);\n",
              "      border-top-color: var(--fill-color);\n",
              "      border-right-color: var(--fill-color);\n",
              "    }\n",
              "    40% {\n",
              "      border-color: transparent;\n",
              "      border-right-color: var(--fill-color);\n",
              "      border-top-color: var(--fill-color);\n",
              "    }\n",
              "    60% {\n",
              "      border-color: transparent;\n",
              "      border-right-color: var(--fill-color);\n",
              "    }\n",
              "    80% {\n",
              "      border-color: transparent;\n",
              "      border-right-color: var(--fill-color);\n",
              "      border-bottom-color: var(--fill-color);\n",
              "    }\n",
              "    90% {\n",
              "      border-color: transparent;\n",
              "      border-bottom-color: var(--fill-color);\n",
              "    }\n",
              "  }\n",
              "</style>\n",
              "\n",
              "  <script>\n",
              "    async function quickchart(key) {\n",
              "      const quickchartButtonEl =\n",
              "        document.querySelector('#' + key + ' button');\n",
              "      quickchartButtonEl.disabled = true;  // To prevent multiple clicks.\n",
              "      quickchartButtonEl.classList.add('colab-df-spinner');\n",
              "      try {\n",
              "        const charts = await google.colab.kernel.invokeFunction(\n",
              "            'suggestCharts', [key], {});\n",
              "      } catch (error) {\n",
              "        console.error('Error during call to suggestCharts:', error);\n",
              "      }\n",
              "      quickchartButtonEl.classList.remove('colab-df-spinner');\n",
              "      quickchartButtonEl.classList.add('colab-df-quickchart-complete');\n",
              "    }\n",
              "    (() => {\n",
              "      let quickchartButtonEl =\n",
              "        document.querySelector('#df-28fce940-e778-4b68-a1a4-6957ef2eb0f7 button');\n",
              "      quickchartButtonEl.style.display =\n",
              "        google.colab.kernel.accessAllowed ? 'block' : 'none';\n",
              "    })();\n",
              "  </script>\n",
              "</div>\n",
              "    </div>\n",
              "  </div>\n"
            ]
          },
          "metadata": {},
          "execution_count": 46
        }
      ],
      "source": [
        "cwp.sample(5)\n",
        "#Dataset includes data for all the cities"
      ]
    },
    {
      "cell_type": "code",
      "execution_count": 47,
      "metadata": {
        "id": "PGm3yx9PaNn1"
      },
      "outputs": [],
      "source": [
        "# lets Filter cwp data for Barcelona and rename as cwp_bar\n",
        "# and Drop useless columns\n",
        "# and Set index with name column\n",
        "cwp_bar=cwp[cwp.city=='Barcelona'].drop(['city', 'Google Plus-Code', 'adress'], axis=1).set_index('name')"
      ]
    },
    {
      "cell_type": "code",
      "execution_count": 48,
      "metadata": {
        "colab": {
          "base_uri": "https://localhost:8080/",
          "height": 455
        },
        "id": "zF9hEluQbP03",
        "outputId": "7334287e-b642-4e01-89a3-40e0c26f7fb6"
      },
      "outputs": [
        {
          "output_type": "execute_result",
          "data": {
            "text/plain": [
              "                                                 longitude  latitude\n",
              "name                                                                \n",
              "La Vaca Coworking Barcelona                        4137409   2161937\n",
              "OneCoWork Catedral | Barcelona Coworking           4138499   2176744\n",
              "betahaus I - Coworking in Barcelona, Gràcia        4140696   2156778\n",
              "Meet BCN - Coworking Space in Barcelona            4139482   2157991\n",
              "Barcelona Reial Coworking                          4137942   2175059\n",
              "...                                                    ...       ...\n",
              "Coworking Poblenou                                 4139419   2188538\n",
              "Acla Coworking                                     4139832   2167709\n",
              "Beauty Loft Coworking                              4140338   2160729\n",
              "Spaces - Barcelona, Spaces Passatge Mas de Roda    4139629   2199412\n",
              "Coworking el Raval                                 4138113   2165944\n",
              "\n",
              "[111 rows x 2 columns]"
            ],
            "text/html": [
              "\n",
              "  <div id=\"df-cbbcde73-63ce-49a7-af63-9be9523d6523\" class=\"colab-df-container\">\n",
              "    <div>\n",
              "<style scoped>\n",
              "    .dataframe tbody tr th:only-of-type {\n",
              "        vertical-align: middle;\n",
              "    }\n",
              "\n",
              "    .dataframe tbody tr th {\n",
              "        vertical-align: top;\n",
              "    }\n",
              "\n",
              "    .dataframe thead th {\n",
              "        text-align: right;\n",
              "    }\n",
              "</style>\n",
              "<table border=\"1\" class=\"dataframe\">\n",
              "  <thead>\n",
              "    <tr style=\"text-align: right;\">\n",
              "      <th></th>\n",
              "      <th>longitude</th>\n",
              "      <th>latitude</th>\n",
              "    </tr>\n",
              "    <tr>\n",
              "      <th>name</th>\n",
              "      <th></th>\n",
              "      <th></th>\n",
              "    </tr>\n",
              "  </thead>\n",
              "  <tbody>\n",
              "    <tr>\n",
              "      <th>La Vaca Coworking Barcelona</th>\n",
              "      <td>4137409</td>\n",
              "      <td>2161937</td>\n",
              "    </tr>\n",
              "    <tr>\n",
              "      <th>OneCoWork Catedral | Barcelona Coworking</th>\n",
              "      <td>4138499</td>\n",
              "      <td>2176744</td>\n",
              "    </tr>\n",
              "    <tr>\n",
              "      <th>betahaus I - Coworking in Barcelona, Gràcia</th>\n",
              "      <td>4140696</td>\n",
              "      <td>2156778</td>\n",
              "    </tr>\n",
              "    <tr>\n",
              "      <th>Meet BCN - Coworking Space in Barcelona</th>\n",
              "      <td>4139482</td>\n",
              "      <td>2157991</td>\n",
              "    </tr>\n",
              "    <tr>\n",
              "      <th>Barcelona Reial Coworking</th>\n",
              "      <td>4137942</td>\n",
              "      <td>2175059</td>\n",
              "    </tr>\n",
              "    <tr>\n",
              "      <th>...</th>\n",
              "      <td>...</td>\n",
              "      <td>...</td>\n",
              "    </tr>\n",
              "    <tr>\n",
              "      <th>Coworking Poblenou</th>\n",
              "      <td>4139419</td>\n",
              "      <td>2188538</td>\n",
              "    </tr>\n",
              "    <tr>\n",
              "      <th>Acla Coworking</th>\n",
              "      <td>4139832</td>\n",
              "      <td>2167709</td>\n",
              "    </tr>\n",
              "    <tr>\n",
              "      <th>Beauty Loft Coworking</th>\n",
              "      <td>4140338</td>\n",
              "      <td>2160729</td>\n",
              "    </tr>\n",
              "    <tr>\n",
              "      <th>Spaces - Barcelona, Spaces Passatge Mas de Roda</th>\n",
              "      <td>4139629</td>\n",
              "      <td>2199412</td>\n",
              "    </tr>\n",
              "    <tr>\n",
              "      <th>Coworking el Raval</th>\n",
              "      <td>4138113</td>\n",
              "      <td>2165944</td>\n",
              "    </tr>\n",
              "  </tbody>\n",
              "</table>\n",
              "<p>111 rows × 2 columns</p>\n",
              "</div>\n",
              "    <div class=\"colab-df-buttons\">\n",
              "\n",
              "  <div class=\"colab-df-container\">\n",
              "    <button class=\"colab-df-convert\" onclick=\"convertToInteractive('df-cbbcde73-63ce-49a7-af63-9be9523d6523')\"\n",
              "            title=\"Convert this dataframe to an interactive table.\"\n",
              "            style=\"display:none;\">\n",
              "\n",
              "  <svg xmlns=\"http://www.w3.org/2000/svg\" height=\"24px\" viewBox=\"0 -960 960 960\">\n",
              "    <path d=\"M120-120v-720h720v720H120Zm60-500h600v-160H180v160Zm220 220h160v-160H400v160Zm0 220h160v-160H400v160ZM180-400h160v-160H180v160Zm440 0h160v-160H620v160ZM180-180h160v-160H180v160Zm440 0h160v-160H620v160Z\"/>\n",
              "  </svg>\n",
              "    </button>\n",
              "\n",
              "  <style>\n",
              "    .colab-df-container {\n",
              "      display:flex;\n",
              "      gap: 12px;\n",
              "    }\n",
              "\n",
              "    .colab-df-convert {\n",
              "      background-color: #E8F0FE;\n",
              "      border: none;\n",
              "      border-radius: 50%;\n",
              "      cursor: pointer;\n",
              "      display: none;\n",
              "      fill: #1967D2;\n",
              "      height: 32px;\n",
              "      padding: 0 0 0 0;\n",
              "      width: 32px;\n",
              "    }\n",
              "\n",
              "    .colab-df-convert:hover {\n",
              "      background-color: #E2EBFA;\n",
              "      box-shadow: 0px 1px 2px rgba(60, 64, 67, 0.3), 0px 1px 3px 1px rgba(60, 64, 67, 0.15);\n",
              "      fill: #174EA6;\n",
              "    }\n",
              "\n",
              "    .colab-df-buttons div {\n",
              "      margin-bottom: 4px;\n",
              "    }\n",
              "\n",
              "    [theme=dark] .colab-df-convert {\n",
              "      background-color: #3B4455;\n",
              "      fill: #D2E3FC;\n",
              "    }\n",
              "\n",
              "    [theme=dark] .colab-df-convert:hover {\n",
              "      background-color: #434B5C;\n",
              "      box-shadow: 0px 1px 3px 1px rgba(0, 0, 0, 0.15);\n",
              "      filter: drop-shadow(0px 1px 2px rgba(0, 0, 0, 0.3));\n",
              "      fill: #FFFFFF;\n",
              "    }\n",
              "  </style>\n",
              "\n",
              "    <script>\n",
              "      const buttonEl =\n",
              "        document.querySelector('#df-cbbcde73-63ce-49a7-af63-9be9523d6523 button.colab-df-convert');\n",
              "      buttonEl.style.display =\n",
              "        google.colab.kernel.accessAllowed ? 'block' : 'none';\n",
              "\n",
              "      async function convertToInteractive(key) {\n",
              "        const element = document.querySelector('#df-cbbcde73-63ce-49a7-af63-9be9523d6523');\n",
              "        const dataTable =\n",
              "          await google.colab.kernel.invokeFunction('convertToInteractive',\n",
              "                                                    [key], {});\n",
              "        if (!dataTable) return;\n",
              "\n",
              "        const docLinkHtml = 'Like what you see? Visit the ' +\n",
              "          '<a target=\"_blank\" href=https://colab.research.google.com/notebooks/data_table.ipynb>data table notebook</a>'\n",
              "          + ' to learn more about interactive tables.';\n",
              "        element.innerHTML = '';\n",
              "        dataTable['output_type'] = 'display_data';\n",
              "        await google.colab.output.renderOutput(dataTable, element);\n",
              "        const docLink = document.createElement('div');\n",
              "        docLink.innerHTML = docLinkHtml;\n",
              "        element.appendChild(docLink);\n",
              "      }\n",
              "    </script>\n",
              "  </div>\n",
              "\n",
              "\n",
              "<div id=\"df-18211014-9f1f-41cd-9571-136868c0390f\">\n",
              "  <button class=\"colab-df-quickchart\" onclick=\"quickchart('df-18211014-9f1f-41cd-9571-136868c0390f')\"\n",
              "            title=\"Suggest charts.\"\n",
              "            style=\"display:none;\">\n",
              "\n",
              "<svg xmlns=\"http://www.w3.org/2000/svg\" height=\"24px\"viewBox=\"0 0 24 24\"\n",
              "     width=\"24px\">\n",
              "    <g>\n",
              "        <path d=\"M19 3H5c-1.1 0-2 .9-2 2v14c0 1.1.9 2 2 2h14c1.1 0 2-.9 2-2V5c0-1.1-.9-2-2-2zM9 17H7v-7h2v7zm4 0h-2V7h2v10zm4 0h-2v-4h2v4z\"/>\n",
              "    </g>\n",
              "</svg>\n",
              "  </button>\n",
              "\n",
              "<style>\n",
              "  .colab-df-quickchart {\n",
              "      --bg-color: #E8F0FE;\n",
              "      --fill-color: #1967D2;\n",
              "      --hover-bg-color: #E2EBFA;\n",
              "      --hover-fill-color: #174EA6;\n",
              "      --disabled-fill-color: #AAA;\n",
              "      --disabled-bg-color: #DDD;\n",
              "  }\n",
              "\n",
              "  [theme=dark] .colab-df-quickchart {\n",
              "      --bg-color: #3B4455;\n",
              "      --fill-color: #D2E3FC;\n",
              "      --hover-bg-color: #434B5C;\n",
              "      --hover-fill-color: #FFFFFF;\n",
              "      --disabled-bg-color: #3B4455;\n",
              "      --disabled-fill-color: #666;\n",
              "  }\n",
              "\n",
              "  .colab-df-quickchart {\n",
              "    background-color: var(--bg-color);\n",
              "    border: none;\n",
              "    border-radius: 50%;\n",
              "    cursor: pointer;\n",
              "    display: none;\n",
              "    fill: var(--fill-color);\n",
              "    height: 32px;\n",
              "    padding: 0;\n",
              "    width: 32px;\n",
              "  }\n",
              "\n",
              "  .colab-df-quickchart:hover {\n",
              "    background-color: var(--hover-bg-color);\n",
              "    box-shadow: 0 1px 2px rgba(60, 64, 67, 0.3), 0 1px 3px 1px rgba(60, 64, 67, 0.15);\n",
              "    fill: var(--button-hover-fill-color);\n",
              "  }\n",
              "\n",
              "  .colab-df-quickchart-complete:disabled,\n",
              "  .colab-df-quickchart-complete:disabled:hover {\n",
              "    background-color: var(--disabled-bg-color);\n",
              "    fill: var(--disabled-fill-color);\n",
              "    box-shadow: none;\n",
              "  }\n",
              "\n",
              "  .colab-df-spinner {\n",
              "    border: 2px solid var(--fill-color);\n",
              "    border-color: transparent;\n",
              "    border-bottom-color: var(--fill-color);\n",
              "    animation:\n",
              "      spin 1s steps(1) infinite;\n",
              "  }\n",
              "\n",
              "  @keyframes spin {\n",
              "    0% {\n",
              "      border-color: transparent;\n",
              "      border-bottom-color: var(--fill-color);\n",
              "      border-left-color: var(--fill-color);\n",
              "    }\n",
              "    20% {\n",
              "      border-color: transparent;\n",
              "      border-left-color: var(--fill-color);\n",
              "      border-top-color: var(--fill-color);\n",
              "    }\n",
              "    30% {\n",
              "      border-color: transparent;\n",
              "      border-left-color: var(--fill-color);\n",
              "      border-top-color: var(--fill-color);\n",
              "      border-right-color: var(--fill-color);\n",
              "    }\n",
              "    40% {\n",
              "      border-color: transparent;\n",
              "      border-right-color: var(--fill-color);\n",
              "      border-top-color: var(--fill-color);\n",
              "    }\n",
              "    60% {\n",
              "      border-color: transparent;\n",
              "      border-right-color: var(--fill-color);\n",
              "    }\n",
              "    80% {\n",
              "      border-color: transparent;\n",
              "      border-right-color: var(--fill-color);\n",
              "      border-bottom-color: var(--fill-color);\n",
              "    }\n",
              "    90% {\n",
              "      border-color: transparent;\n",
              "      border-bottom-color: var(--fill-color);\n",
              "    }\n",
              "  }\n",
              "</style>\n",
              "\n",
              "  <script>\n",
              "    async function quickchart(key) {\n",
              "      const quickchartButtonEl =\n",
              "        document.querySelector('#' + key + ' button');\n",
              "      quickchartButtonEl.disabled = true;  // To prevent multiple clicks.\n",
              "      quickchartButtonEl.classList.add('colab-df-spinner');\n",
              "      try {\n",
              "        const charts = await google.colab.kernel.invokeFunction(\n",
              "            'suggestCharts', [key], {});\n",
              "      } catch (error) {\n",
              "        console.error('Error during call to suggestCharts:', error);\n",
              "      }\n",
              "      quickchartButtonEl.classList.remove('colab-df-spinner');\n",
              "      quickchartButtonEl.classList.add('colab-df-quickchart-complete');\n",
              "    }\n",
              "    (() => {\n",
              "      let quickchartButtonEl =\n",
              "        document.querySelector('#df-18211014-9f1f-41cd-9571-136868c0390f button');\n",
              "      quickchartButtonEl.style.display =\n",
              "        google.colab.kernel.accessAllowed ? 'block' : 'none';\n",
              "    })();\n",
              "  </script>\n",
              "</div>\n",
              "    </div>\n",
              "  </div>\n"
            ]
          },
          "metadata": {},
          "execution_count": 48
        }
      ],
      "source": [
        "cwp_bar"
      ]
    },
    {
      "cell_type": "code",
      "execution_count": 49,
      "metadata": {
        "colab": {
          "base_uri": "https://localhost:8080/"
        },
        "id": "r2m-MXfwPMUO",
        "outputId": "70badc98-f124-465b-c92a-f660c06397e3"
      },
      "outputs": [
        {
          "output_type": "execute_result",
          "data": {
            "text/plain": [
              "dtype('int64')"
            ]
          },
          "metadata": {},
          "execution_count": 49
        }
      ],
      "source": [
        "cwp_bar.longitude.dtype"
      ]
    },
    {
      "cell_type": "code",
      "execution_count": 50,
      "metadata": {
        "id": "ZQ1UU3i-bQ6r"
      },
      "outputs": [],
      "source": [
        "# Adjust longitude and latitude in valid format\n",
        "cwp_bar.longitude=cwp_bar.longitude/100000\n",
        "cwp_bar.latitude=cwp_bar.latitude/1000000"
      ]
    },
    {
      "cell_type": "code",
      "execution_count": 51,
      "metadata": {
        "id": "CWzjB0j3cbMu"
      },
      "outputs": [],
      "source": [
        "# Create a dictionnary dict_cwp for easy iteration\n",
        "dict_cwp={cwp_bar.index.tolist()[i] :(cwp_bar.longitude.tolist()[i],cwp_bar.latitude.tolist()[i]) for i in range(len(cwp_bar.index.tolist()))}"
      ]
    },
    {
      "cell_type": "code",
      "execution_count": 52,
      "metadata": {
        "colab": {
          "base_uri": "https://localhost:8080/",
          "height": 35
        },
        "id": "v4rt7qtq3sRz",
        "outputId": "655651e4-5807-482a-b2ed-ef2fdb67b06a"
      },
      "outputs": [
        {
          "output_type": "execute_result",
          "data": {
            "text/plain": [
              "'Import functions for calculating distance from each listing to coworkingspace'"
            ],
            "application/vnd.google.colaboratory.intrinsic+json": {
              "type": "string"
            }
          },
          "metadata": {},
          "execution_count": 52
        }
      ],
      "source": [
        "'''Import functions for calculating distance from each listing to coworkingspace'''"
      ]
    },
    {
      "cell_type": "code",
      "execution_count": 53,
      "metadata": {
        "id": "BewVuHCX3zGT"
      },
      "outputs": [],
      "source": [
        "import math\n",
        "\n",
        "def distance(origin, destination):\n",
        "    \"\"\"\n",
        "    Calculate the Haversine distance used for calculation between our dataset entries and coworking places.\n",
        "\n",
        "    Parameters\n",
        "    ----------\n",
        "    origin : tuple of float\n",
        "        (lat, long)\n",
        "    destination : tuple of float\n",
        "        (lat, long)\n",
        "\n",
        "    Returns\n",
        "    -------\n",
        "    distance_in_km : float\n",
        "\n",
        "    Examples\n",
        "    --------\n",
        "    >>> origin = (48.1372, 11.5756)  # Munich\n",
        "    >>> destination = (52.5186, 13.4083)  # Berlin\n",
        "    >>> round(distance(origin, destination), 1)\n",
        "    504.2\n",
        "    \"\"\"\n",
        "    lat1, lon1 = origin\n",
        "    lat2, lon2 = destination\n",
        "    radius = 6371  # km\n",
        "\n",
        "    dlat = math.radians(lat2 - lat1)\n",
        "    dlon = math.radians(lon2 - lon1)\n",
        "    a = (math.sin(dlat / 2) * math.sin(dlat / 2) +\n",
        "         math.cos(math.radians(lat1)) * math.cos(math.radians(lat2)) *\n",
        "         math.sin(dlon / 2) * math.sin(dlon / 2))\n",
        "    c = 2 * math.atan2(math.sqrt(a), math.sqrt(1 - a))\n",
        "    d = radius * c\n",
        "\n",
        "    return d"
      ]
    },
    {
      "cell_type": "code",
      "execution_count": 54,
      "metadata": {
        "id": "4Qb5g6M_4CvD"
      },
      "outputs": [],
      "source": [
        "def get_minimal_distance_from_coworking_place(l,L):\n",
        "    \"\"\"\n",
        "    Get the minimal distance from co-working place listed in the dictionnary dict_cwp build on 'modified_coordinates.csv\n",
        "    l for longitude\n",
        "    L for latitude\n",
        "    Result in km rounded with 3 digits\n",
        "    \"\"\"\n",
        "    origin=(l,L)\n",
        "    min_dist=\"\"\n",
        "    for cwp in dict_cwp:\n",
        "        if min_dist==\"\":\n",
        "            min_dist=distance(origin, dict_cwp[cwp])\n",
        "            continue\n",
        "        if min_dist<distance(origin, dict_cwp[cwp]):\n",
        "            continue\n",
        "        else:\n",
        "            min_dist=distance(origin, dict_cwp[cwp])\n",
        "    return round(min_dist,3)\n"
      ]
    },
    {
      "cell_type": "code",
      "execution_count": 55,
      "metadata": {
        "id": "ZyHfPpLP4GVp"
      },
      "outputs": [],
      "source": [
        "def get_number_of_coworking_place_less_than_n_km(l,L,n):\n",
        "    \"\"\"\n",
        "    Get the number of co-working place listed in the dictionnary dict_cwp build on 'modified_coordinates.csv'\n",
        "    within a radius of n kilometers\n",
        "    l for longitude\n",
        "    L for latitude\n",
        "    n : float : lenght of radius within to check the number of co-working place\n",
        "    Result is integer\n",
        "    \"\"\"\n",
        "    origin=(l,L)\n",
        "    count=0\n",
        "    for cwp in dict_cwp:\n",
        "        if distance(origin, dict_cwp[cwp])<=n:\n",
        "            count+=1\n",
        "    return count"
      ]
    },
    {
      "cell_type": "code",
      "execution_count": 56,
      "metadata": {
        "id": "YH5MB3Q-9vls"
      },
      "outputs": [],
      "source": [
        "#Find the distance between each listing to the nearest cwp\n",
        "df1['distance']=df1.apply(lambda x: get_minimal_distance_from_coworking_place(x.latitude,x.longitude), axis=1)"
      ]
    },
    {
      "cell_type": "code",
      "execution_count": 57,
      "metadata": {
        "colab": {
          "base_uri": "https://localhost:8080/"
        },
        "id": "egcQGZvqR_0s",
        "outputId": "03bc2aa2-e2e6-491a-b6f2-504635fb8f23"
      },
      "outputs": [
        {
          "output_type": "execute_result",
          "data": {
            "text/plain": [
              "4        0.105\n",
              "7        0.307\n",
              "8        0.255\n",
              "12       0.203\n",
              "14       0.110\n",
              "         ...  \n",
              "17060    0.707\n",
              "17063    0.217\n",
              "17074    0.164\n",
              "17104    0.255\n",
              "17149    0.304\n",
              "Name: distance, Length: 5781, dtype: float64"
            ]
          },
          "metadata": {},
          "execution_count": 57
        }
      ],
      "source": [
        "df1.distance"
      ]
    },
    {
      "cell_type": "markdown",
      "metadata": {
        "id": "n12a50u060QB"
      },
      "source": [
        "#Scoring\n"
      ]
    },
    {
      "cell_type": "code",
      "execution_count": 58,
      "metadata": {
        "id": "-URMnjuEuSbz",
        "colab": {
          "base_uri": "https://localhost:8080/"
        },
        "outputId": "ea982234-faca-492b-af1e-db378c081dd4"
      },
      "outputs": [
        {
          "output_type": "execute_result",
          "data": {
            "text/plain": [
              "Index(['id', 'listing_url', 'name', 'host_since', 'host_is_superhost',\n",
              "       'neighbourhood_group_cleansed', 'accommodates', 'amenities', 'price',\n",
              "       'number_of_reviews', 'review_scores_rating', 'latitude', 'longitude',\n",
              "       'host_exp', 'wifi', 'workspace', 'distance'],\n",
              "      dtype='object')"
            ]
          },
          "metadata": {},
          "execution_count": 58
        }
      ],
      "source": [
        "df1.columns"
      ]
    },
    {
      "cell_type": "code",
      "execution_count": 59,
      "metadata": {
        "id": "8uU6PvbXu7BI"
      },
      "outputs": [],
      "source": [
        "#Select columns on which attractivness scoring is based\n",
        "columns=['price','host_exp','review_scores_rating','distance']"
      ]
    },
    {
      "cell_type": "code",
      "execution_count": 60,
      "metadata": {
        "id": "7Q5RyMOIwpnX"
      },
      "outputs": [],
      "source": [
        "import numpy as np"
      ]
    },
    {
      "cell_type": "code",
      "execution_count": 61,
      "metadata": {
        "id": "pHys-dvYwyBn",
        "colab": {
          "base_uri": "https://localhost:8080/"
        },
        "outputId": "57557496-ffaa-410c-9f9c-c5435186a1d5"
      },
      "outputs": [
        {
          "output_type": "execute_result",
          "data": {
            "text/plain": [
              "array([0.2, 0.4, 0.6, 0.8, 1. ])"
            ]
          },
          "metadata": {},
          "execution_count": 61
        }
      ],
      "source": [
        "#Select five quantiles\n",
        "quantiles = np.linspace(0.2, 1, 5)\n",
        "quantiles"
      ]
    },
    {
      "cell_type": "code",
      "execution_count": 62,
      "metadata": {
        "id": "iCWYkzw6uNVh",
        "colab": {
          "base_uri": "https://localhost:8080/",
          "height": 206
        },
        "outputId": "dcac3298-8e78-4801-c10d-da72485aec85"
      },
      "outputs": [
        {
          "output_type": "execute_result",
          "data": {
            "text/plain": [
              "    price  host_exp  review_scores_rating  distance\n",
              "0    35.0       3.0                  4.33     0.136\n",
              "1    52.0       5.0                  4.63     0.210\n",
              "2    75.0       7.0                  4.80     0.307\n",
              "3   126.0       9.0                  5.00     0.594\n",
              "4  1485.0      15.0                  5.00     5.612"
            ],
            "text/html": [
              "\n",
              "  <div id=\"df-d6256034-e0a5-49bf-a4ad-e95fee1b637b\" class=\"colab-df-container\">\n",
              "    <div>\n",
              "<style scoped>\n",
              "    .dataframe tbody tr th:only-of-type {\n",
              "        vertical-align: middle;\n",
              "    }\n",
              "\n",
              "    .dataframe tbody tr th {\n",
              "        vertical-align: top;\n",
              "    }\n",
              "\n",
              "    .dataframe thead th {\n",
              "        text-align: right;\n",
              "    }\n",
              "</style>\n",
              "<table border=\"1\" class=\"dataframe\">\n",
              "  <thead>\n",
              "    <tr style=\"text-align: right;\">\n",
              "      <th></th>\n",
              "      <th>price</th>\n",
              "      <th>host_exp</th>\n",
              "      <th>review_scores_rating</th>\n",
              "      <th>distance</th>\n",
              "    </tr>\n",
              "  </thead>\n",
              "  <tbody>\n",
              "    <tr>\n",
              "      <th>0</th>\n",
              "      <td>35.0</td>\n",
              "      <td>3.0</td>\n",
              "      <td>4.33</td>\n",
              "      <td>0.136</td>\n",
              "    </tr>\n",
              "    <tr>\n",
              "      <th>1</th>\n",
              "      <td>52.0</td>\n",
              "      <td>5.0</td>\n",
              "      <td>4.63</td>\n",
              "      <td>0.210</td>\n",
              "    </tr>\n",
              "    <tr>\n",
              "      <th>2</th>\n",
              "      <td>75.0</td>\n",
              "      <td>7.0</td>\n",
              "      <td>4.80</td>\n",
              "      <td>0.307</td>\n",
              "    </tr>\n",
              "    <tr>\n",
              "      <th>3</th>\n",
              "      <td>126.0</td>\n",
              "      <td>9.0</td>\n",
              "      <td>5.00</td>\n",
              "      <td>0.594</td>\n",
              "    </tr>\n",
              "    <tr>\n",
              "      <th>4</th>\n",
              "      <td>1485.0</td>\n",
              "      <td>15.0</td>\n",
              "      <td>5.00</td>\n",
              "      <td>5.612</td>\n",
              "    </tr>\n",
              "  </tbody>\n",
              "</table>\n",
              "</div>\n",
              "    <div class=\"colab-df-buttons\">\n",
              "\n",
              "  <div class=\"colab-df-container\">\n",
              "    <button class=\"colab-df-convert\" onclick=\"convertToInteractive('df-d6256034-e0a5-49bf-a4ad-e95fee1b637b')\"\n",
              "            title=\"Convert this dataframe to an interactive table.\"\n",
              "            style=\"display:none;\">\n",
              "\n",
              "  <svg xmlns=\"http://www.w3.org/2000/svg\" height=\"24px\" viewBox=\"0 -960 960 960\">\n",
              "    <path d=\"M120-120v-720h720v720H120Zm60-500h600v-160H180v160Zm220 220h160v-160H400v160Zm0 220h160v-160H400v160ZM180-400h160v-160H180v160Zm440 0h160v-160H620v160ZM180-180h160v-160H180v160Zm440 0h160v-160H620v160Z\"/>\n",
              "  </svg>\n",
              "    </button>\n",
              "\n",
              "  <style>\n",
              "    .colab-df-container {\n",
              "      display:flex;\n",
              "      gap: 12px;\n",
              "    }\n",
              "\n",
              "    .colab-df-convert {\n",
              "      background-color: #E8F0FE;\n",
              "      border: none;\n",
              "      border-radius: 50%;\n",
              "      cursor: pointer;\n",
              "      display: none;\n",
              "      fill: #1967D2;\n",
              "      height: 32px;\n",
              "      padding: 0 0 0 0;\n",
              "      width: 32px;\n",
              "    }\n",
              "\n",
              "    .colab-df-convert:hover {\n",
              "      background-color: #E2EBFA;\n",
              "      box-shadow: 0px 1px 2px rgba(60, 64, 67, 0.3), 0px 1px 3px 1px rgba(60, 64, 67, 0.15);\n",
              "      fill: #174EA6;\n",
              "    }\n",
              "\n",
              "    .colab-df-buttons div {\n",
              "      margin-bottom: 4px;\n",
              "    }\n",
              "\n",
              "    [theme=dark] .colab-df-convert {\n",
              "      background-color: #3B4455;\n",
              "      fill: #D2E3FC;\n",
              "    }\n",
              "\n",
              "    [theme=dark] .colab-df-convert:hover {\n",
              "      background-color: #434B5C;\n",
              "      box-shadow: 0px 1px 3px 1px rgba(0, 0, 0, 0.15);\n",
              "      filter: drop-shadow(0px 1px 2px rgba(0, 0, 0, 0.3));\n",
              "      fill: #FFFFFF;\n",
              "    }\n",
              "  </style>\n",
              "\n",
              "    <script>\n",
              "      const buttonEl =\n",
              "        document.querySelector('#df-d6256034-e0a5-49bf-a4ad-e95fee1b637b button.colab-df-convert');\n",
              "      buttonEl.style.display =\n",
              "        google.colab.kernel.accessAllowed ? 'block' : 'none';\n",
              "\n",
              "      async function convertToInteractive(key) {\n",
              "        const element = document.querySelector('#df-d6256034-e0a5-49bf-a4ad-e95fee1b637b');\n",
              "        const dataTable =\n",
              "          await google.colab.kernel.invokeFunction('convertToInteractive',\n",
              "                                                    [key], {});\n",
              "        if (!dataTable) return;\n",
              "\n",
              "        const docLinkHtml = 'Like what you see? Visit the ' +\n",
              "          '<a target=\"_blank\" href=https://colab.research.google.com/notebooks/data_table.ipynb>data table notebook</a>'\n",
              "          + ' to learn more about interactive tables.';\n",
              "        element.innerHTML = '';\n",
              "        dataTable['output_type'] = 'display_data';\n",
              "        await google.colab.output.renderOutput(dataTable, element);\n",
              "        const docLink = document.createElement('div');\n",
              "        docLink.innerHTML = docLinkHtml;\n",
              "        element.appendChild(docLink);\n",
              "      }\n",
              "    </script>\n",
              "  </div>\n",
              "\n",
              "\n",
              "<div id=\"df-71b10e23-d326-40fd-a727-cb816d61ca25\">\n",
              "  <button class=\"colab-df-quickchart\" onclick=\"quickchart('df-71b10e23-d326-40fd-a727-cb816d61ca25')\"\n",
              "            title=\"Suggest charts.\"\n",
              "            style=\"display:none;\">\n",
              "\n",
              "<svg xmlns=\"http://www.w3.org/2000/svg\" height=\"24px\"viewBox=\"0 0 24 24\"\n",
              "     width=\"24px\">\n",
              "    <g>\n",
              "        <path d=\"M19 3H5c-1.1 0-2 .9-2 2v14c0 1.1.9 2 2 2h14c1.1 0 2-.9 2-2V5c0-1.1-.9-2-2-2zM9 17H7v-7h2v7zm4 0h-2V7h2v10zm4 0h-2v-4h2v4z\"/>\n",
              "    </g>\n",
              "</svg>\n",
              "  </button>\n",
              "\n",
              "<style>\n",
              "  .colab-df-quickchart {\n",
              "      --bg-color: #E8F0FE;\n",
              "      --fill-color: #1967D2;\n",
              "      --hover-bg-color: #E2EBFA;\n",
              "      --hover-fill-color: #174EA6;\n",
              "      --disabled-fill-color: #AAA;\n",
              "      --disabled-bg-color: #DDD;\n",
              "  }\n",
              "\n",
              "  [theme=dark] .colab-df-quickchart {\n",
              "      --bg-color: #3B4455;\n",
              "      --fill-color: #D2E3FC;\n",
              "      --hover-bg-color: #434B5C;\n",
              "      --hover-fill-color: #FFFFFF;\n",
              "      --disabled-bg-color: #3B4455;\n",
              "      --disabled-fill-color: #666;\n",
              "  }\n",
              "\n",
              "  .colab-df-quickchart {\n",
              "    background-color: var(--bg-color);\n",
              "    border: none;\n",
              "    border-radius: 50%;\n",
              "    cursor: pointer;\n",
              "    display: none;\n",
              "    fill: var(--fill-color);\n",
              "    height: 32px;\n",
              "    padding: 0;\n",
              "    width: 32px;\n",
              "  }\n",
              "\n",
              "  .colab-df-quickchart:hover {\n",
              "    background-color: var(--hover-bg-color);\n",
              "    box-shadow: 0 1px 2px rgba(60, 64, 67, 0.3), 0 1px 3px 1px rgba(60, 64, 67, 0.15);\n",
              "    fill: var(--button-hover-fill-color);\n",
              "  }\n",
              "\n",
              "  .colab-df-quickchart-complete:disabled,\n",
              "  .colab-df-quickchart-complete:disabled:hover {\n",
              "    background-color: var(--disabled-bg-color);\n",
              "    fill: var(--disabled-fill-color);\n",
              "    box-shadow: none;\n",
              "  }\n",
              "\n",
              "  .colab-df-spinner {\n",
              "    border: 2px solid var(--fill-color);\n",
              "    border-color: transparent;\n",
              "    border-bottom-color: var(--fill-color);\n",
              "    animation:\n",
              "      spin 1s steps(1) infinite;\n",
              "  }\n",
              "\n",
              "  @keyframes spin {\n",
              "    0% {\n",
              "      border-color: transparent;\n",
              "      border-bottom-color: var(--fill-color);\n",
              "      border-left-color: var(--fill-color);\n",
              "    }\n",
              "    20% {\n",
              "      border-color: transparent;\n",
              "      border-left-color: var(--fill-color);\n",
              "      border-top-color: var(--fill-color);\n",
              "    }\n",
              "    30% {\n",
              "      border-color: transparent;\n",
              "      border-left-color: var(--fill-color);\n",
              "      border-top-color: var(--fill-color);\n",
              "      border-right-color: var(--fill-color);\n",
              "    }\n",
              "    40% {\n",
              "      border-color: transparent;\n",
              "      border-right-color: var(--fill-color);\n",
              "      border-top-color: var(--fill-color);\n",
              "    }\n",
              "    60% {\n",
              "      border-color: transparent;\n",
              "      border-right-color: var(--fill-color);\n",
              "    }\n",
              "    80% {\n",
              "      border-color: transparent;\n",
              "      border-right-color: var(--fill-color);\n",
              "      border-bottom-color: var(--fill-color);\n",
              "    }\n",
              "    90% {\n",
              "      border-color: transparent;\n",
              "      border-bottom-color: var(--fill-color);\n",
              "    }\n",
              "  }\n",
              "</style>\n",
              "\n",
              "  <script>\n",
              "    async function quickchart(key) {\n",
              "      const quickchartButtonEl =\n",
              "        document.querySelector('#' + key + ' button');\n",
              "      quickchartButtonEl.disabled = true;  // To prevent multiple clicks.\n",
              "      quickchartButtonEl.classList.add('colab-df-spinner');\n",
              "      try {\n",
              "        const charts = await google.colab.kernel.invokeFunction(\n",
              "            'suggestCharts', [key], {});\n",
              "      } catch (error) {\n",
              "        console.error('Error during call to suggestCharts:', error);\n",
              "      }\n",
              "      quickchartButtonEl.classList.remove('colab-df-spinner');\n",
              "      quickchartButtonEl.classList.add('colab-df-quickchart-complete');\n",
              "    }\n",
              "    (() => {\n",
              "      let quickchartButtonEl =\n",
              "        document.querySelector('#df-71b10e23-d326-40fd-a727-cb816d61ca25 button');\n",
              "      quickchartButtonEl.style.display =\n",
              "        google.colab.kernel.accessAllowed ? 'block' : 'none';\n",
              "    })();\n",
              "  </script>\n",
              "</div>\n",
              "    </div>\n",
              "  </div>\n"
            ]
          },
          "metadata": {},
          "execution_count": 62
        }
      ],
      "source": [
        "#Create threshold DataFrame based on quantiles\n",
        "df_threshold = df1[columns].quantile(quantiles)\n",
        "df_threshold = df_threshold.reset_index(drop = True)\n",
        "df_threshold"
      ]
    },
    {
      "cell_type": "code",
      "execution_count": 63,
      "metadata": {
        "id": "B1m6ziYCw8NZ"
      },
      "outputs": [],
      "source": [
        "#define function to calculate attractiveness score\n",
        "def calc_attractiveness(\n",
        "        data: pd.DataFrame,\n",
        "        df_threshold: pd.DataFrame,\n",
        "    ) -> pd.Series:\n",
        "\n",
        "    for column in df_threshold.columns:\n",
        "        for idx, threshold in enumerate(df_threshold[column]):\n",
        "            if idx == 0:\n",
        "                boolean_series = data[column] <= threshold\n",
        "            else:\n",
        "                boolean_series = data[column].between(\n",
        "                    df_threshold.loc[idx-1, column],\n",
        "                    df_threshold.loc[idx, column]\n",
        "                )\n",
        "\n",
        "            if f'{column} Score' not in data.columns:\n",
        "                data[f'{column} Score'] = 8 # placeholder to create column\n",
        "            data.loc[boolean_series, f'{column} Score'] = idx + 1\n",
        "\n",
        "    return data"
      ]
    },
    {
      "cell_type": "code",
      "execution_count": 64,
      "metadata": {
        "id": "qRknd0rp0kPa"
      },
      "outputs": [],
      "source": [
        "#Create new df 'result'\n",
        "result = calc_attractiveness(df1, df_threshold)"
      ]
    },
    {
      "cell_type": "code",
      "execution_count": 65,
      "metadata": {
        "id": "30h0PrKy1CSh",
        "colab": {
          "base_uri": "https://localhost:8080/"
        },
        "outputId": "851dc27a-6967-4d6f-93e7-6be4552690fd"
      },
      "outputs": [
        {
          "output_type": "execute_result",
          "data": {
            "text/plain": [
              "Index(['id', 'listing_url', 'name', 'host_since', 'host_is_superhost',\n",
              "       'neighbourhood_group_cleansed', 'accommodates', 'amenities', 'price',\n",
              "       'number_of_reviews', 'review_scores_rating', 'latitude', 'longitude',\n",
              "       'host_exp', 'wifi', 'workspace', 'distance', 'price Score',\n",
              "       'host_exp Score', 'review_scores_rating Score', 'distance Score'],\n",
              "      dtype='object')"
            ]
          },
          "metadata": {},
          "execution_count": 65
        }
      ],
      "source": [
        "result.columns"
      ]
    },
    {
      "cell_type": "code",
      "execution_count": 66,
      "metadata": {
        "id": "ZuOrP10oGij1"
      },
      "outputs": [],
      "source": [
        "#Use reverse quantile function to give high weightage to lower price\n",
        "reverse_price_quantile = result['price Score'].map(lambda x: 5 - (x - 1))"
      ]
    },
    {
      "cell_type": "code",
      "execution_count": 67,
      "metadata": {
        "id": "1H25ij0kXd_T"
      },
      "outputs": [],
      "source": [
        "##Use reverse quantile function to give high weightage to shorter distance\n",
        "reverse_distance_quantile = result['distance Score'].map(lambda x: 5 - (x - 1))"
      ]
    },
    {
      "cell_type": "code",
      "execution_count": 68,
      "metadata": {
        "id": "bwVseK66Z6H6"
      },
      "outputs": [],
      "source": [
        "#Calculate final score by assigning weights\n",
        "#we assumed that price has the highest weight for digital nomads followed by other factors\n",
        "result['final score'] = 0.5 * reverse_price_quantile + 0.25 * result['review_scores_rating Score'] + 0.15 * reverse_distance_quantile + 0.1 * result['host_exp Score']"
      ]
    },
    {
      "cell_type": "code",
      "execution_count": 69,
      "metadata": {
        "id": "5jYPYoCx5njD",
        "colab": {
          "base_uri": "https://localhost:8080/"
        },
        "outputId": "499d7d97-6437-4d6c-e6ba-441bf433b4e5"
      },
      "outputs": [
        {
          "output_type": "execute_result",
          "data": {
            "text/plain": [
              "4        3.00\n",
              "7        4.05\n",
              "8        2.20\n",
              "12       1.85\n",
              "14       4.50\n",
              "         ... \n",
              "17060    2.70\n",
              "17063    2.90\n",
              "17074    2.45\n",
              "17104    1.90\n",
              "17149    2.80\n",
              "Name: final score, Length: 5781, dtype: float64"
            ]
          },
          "metadata": {},
          "execution_count": 69
        }
      ],
      "source": [
        "result['final score']"
      ]
    },
    {
      "cell_type": "code",
      "execution_count": 70,
      "metadata": {
        "id": "1aYovI4OKSN-",
        "colab": {
          "base_uri": "https://localhost:8080/",
          "height": 394
        },
        "outputId": "ee04550d-35a3-4e61-89c2-873b0df63089"
      },
      "outputs": [
        {
          "output_type": "execute_result",
          "data": {
            "text/plain": [
              "<pandas.io.formats.style.Styler at 0x7d76199ceaa0>"
            ],
            "text/html": [
              "<style type=\"text/css\">\n",
              "#T_ad2a4_row0_col0, #T_ad2a4_row4_col0, #T_ad2a4_row7_col0 {\n",
              "  background-color: #f0eaf4;\n",
              "  color: #000000;\n",
              "}\n",
              "#T_ad2a4_row0_col1 {\n",
              "  background-color: #fdf5fa;\n",
              "  color: #000000;\n",
              "}\n",
              "#T_ad2a4_row0_col2, #T_ad2a4_row1_col0, #T_ad2a4_row1_col2, #T_ad2a4_row2_col0, #T_ad2a4_row3_col3, #T_ad2a4_row5_col3, #T_ad2a4_row6_col3, #T_ad2a4_row8_col0, #T_ad2a4_row9_col0, #T_ad2a4_row9_col1, #T_ad2a4_row9_col2 {\n",
              "  background-color: #fff7fb;\n",
              "  color: #000000;\n",
              "}\n",
              "#T_ad2a4_row0_col3, #T_ad2a4_row1_col3, #T_ad2a4_row5_col0, #T_ad2a4_row5_col1, #T_ad2a4_row5_col2, #T_ad2a4_row7_col3 {\n",
              "  background-color: #023858;\n",
              "  color: #f1f1f1;\n",
              "}\n",
              "#T_ad2a4_row1_col1 {\n",
              "  background-color: #dedcec;\n",
              "  color: #000000;\n",
              "}\n",
              "#T_ad2a4_row2_col1 {\n",
              "  background-color: #034c78;\n",
              "  color: #f1f1f1;\n",
              "}\n",
              "#T_ad2a4_row2_col2 {\n",
              "  background-color: #03517e;\n",
              "  color: #f1f1f1;\n",
              "}\n",
              "#T_ad2a4_row2_col3 {\n",
              "  background-color: #046198;\n",
              "  color: #f1f1f1;\n",
              "}\n",
              "#T_ad2a4_row3_col0 {\n",
              "  background-color: #e7e3f0;\n",
              "  color: #000000;\n",
              "}\n",
              "#T_ad2a4_row3_col1 {\n",
              "  background-color: #1e80b8;\n",
              "  color: #f1f1f1;\n",
              "}\n",
              "#T_ad2a4_row3_col2 {\n",
              "  background-color: #0d75b3;\n",
              "  color: #f1f1f1;\n",
              "}\n",
              "#T_ad2a4_row4_col1, #T_ad2a4_row4_col2 {\n",
              "  background-color: #f1ebf5;\n",
              "  color: #000000;\n",
              "}\n",
              "#T_ad2a4_row4_col3, #T_ad2a4_row9_col3 {\n",
              "  background-color: #4a98c5;\n",
              "  color: #f1f1f1;\n",
              "}\n",
              "#T_ad2a4_row6_col0 {\n",
              "  background-color: #73a9cf;\n",
              "  color: #f1f1f1;\n",
              "}\n",
              "#T_ad2a4_row6_col1 {\n",
              "  background-color: #04639b;\n",
              "  color: #f1f1f1;\n",
              "}\n",
              "#T_ad2a4_row6_col2 {\n",
              "  background-color: #5ea0ca;\n",
              "  color: #f1f1f1;\n",
              "}\n",
              "#T_ad2a4_row7_col1 {\n",
              "  background-color: #529bc7;\n",
              "  color: #f1f1f1;\n",
              "}\n",
              "#T_ad2a4_row7_col2 {\n",
              "  background-color: #328dbf;\n",
              "  color: #f1f1f1;\n",
              "}\n",
              "#T_ad2a4_row8_col1 {\n",
              "  background-color: #d6d6e9;\n",
              "  color: #000000;\n",
              "}\n",
              "#T_ad2a4_row8_col2 {\n",
              "  background-color: #a9bfdc;\n",
              "  color: #000000;\n",
              "}\n",
              "#T_ad2a4_row8_col3 {\n",
              "  background-color: #b4c4df;\n",
              "  color: #000000;\n",
              "}\n",
              "</style>\n",
              "<table id=\"T_ad2a4\" class=\"dataframe\">\n",
              "  <thead>\n",
              "    <tr>\n",
              "      <th class=\"blank level0\" >&nbsp;</th>\n",
              "      <th id=\"T_ad2a4_level0_col0\" class=\"col_heading level0 col0\" >min</th>\n",
              "      <th id=\"T_ad2a4_level0_col1\" class=\"col_heading level0 col1\" >mean</th>\n",
              "      <th id=\"T_ad2a4_level0_col2\" class=\"col_heading level0 col2\" >median</th>\n",
              "      <th id=\"T_ad2a4_level0_col3\" class=\"col_heading level0 col3\" >max</th>\n",
              "    </tr>\n",
              "    <tr>\n",
              "      <th class=\"index_name level0\" >neighbourhood_group_cleansed</th>\n",
              "      <th class=\"blank col0\" >&nbsp;</th>\n",
              "      <th class=\"blank col1\" >&nbsp;</th>\n",
              "      <th class=\"blank col2\" >&nbsp;</th>\n",
              "      <th class=\"blank col3\" >&nbsp;</th>\n",
              "    </tr>\n",
              "  </thead>\n",
              "  <tbody>\n",
              "    <tr>\n",
              "      <th id=\"T_ad2a4_level0_row0\" class=\"row_heading level0 row0\" >Ciutat Vella</th>\n",
              "      <td id=\"T_ad2a4_row0_col0\" class=\"data row0 col0\" >1.100000</td>\n",
              "      <td id=\"T_ad2a4_row0_col1\" class=\"data row0 col1\" >2.927490</td>\n",
              "      <td id=\"T_ad2a4_row0_col2\" class=\"data row0 col2\" >2.900000</td>\n",
              "      <td id=\"T_ad2a4_row0_col3\" class=\"data row0 col3\" >5.000000</td>\n",
              "    </tr>\n",
              "    <tr>\n",
              "      <th id=\"T_ad2a4_level0_row1\" class=\"row_heading level0 row1\" >Eixample</th>\n",
              "      <td id=\"T_ad2a4_row1_col0\" class=\"data row1 col0\" >1.000000</td>\n",
              "      <td id=\"T_ad2a4_row1_col1\" class=\"data row1 col1\" >2.998390</td>\n",
              "      <td id=\"T_ad2a4_row1_col2\" class=\"data row1 col2\" >2.900000</td>\n",
              "      <td id=\"T_ad2a4_row1_col3\" class=\"data row1 col3\" >5.000000</td>\n",
              "    </tr>\n",
              "    <tr>\n",
              "      <th id=\"T_ad2a4_level0_row2\" class=\"row_heading level0 row2\" >Gràcia</th>\n",
              "      <td id=\"T_ad2a4_row2_col0\" class=\"data row2 col0\" >1.000000</td>\n",
              "      <td id=\"T_ad2a4_row2_col1\" class=\"data row2 col1\" >3.296946</td>\n",
              "      <td id=\"T_ad2a4_row2_col2\" class=\"data row2 col2\" >3.400000</td>\n",
              "      <td id=\"T_ad2a4_row2_col3\" class=\"data row2 col3\" >4.900000</td>\n",
              "    </tr>\n",
              "    <tr>\n",
              "      <th id=\"T_ad2a4_level0_row3\" class=\"row_heading level0 row3\" >Horta-Guinardó</th>\n",
              "      <td id=\"T_ad2a4_row3_col0\" class=\"data row3 col0\" >1.150000</td>\n",
              "      <td id=\"T_ad2a4_row3_col1\" class=\"data row3 col1\" >3.200217</td>\n",
              "      <td id=\"T_ad2a4_row3_col2\" class=\"data row3 col2\" >3.300000</td>\n",
              "      <td id=\"T_ad2a4_row3_col3\" class=\"data row3 col3\" >4.400000</td>\n",
              "    </tr>\n",
              "    <tr>\n",
              "      <th id=\"T_ad2a4_level0_row4\" class=\"row_heading level0 row4\" >Les Corts</th>\n",
              "      <td id=\"T_ad2a4_row4_col0\" class=\"data row4 col0\" >1.100000</td>\n",
              "      <td id=\"T_ad2a4_row4_col1\" class=\"data row4 col1\" >2.958333</td>\n",
              "      <td id=\"T_ad2a4_row4_col2\" class=\"data row4 col2\" >2.950000</td>\n",
              "      <td id=\"T_ad2a4_row4_col3\" class=\"data row4 col3\" >4.750000</td>\n",
              "    </tr>\n",
              "    <tr>\n",
              "      <th id=\"T_ad2a4_level0_row5\" class=\"row_heading level0 row5\" >Nou Barris</th>\n",
              "      <td id=\"T_ad2a4_row5_col0\" class=\"data row5 col0\" >2.000000</td>\n",
              "      <td id=\"T_ad2a4_row5_col1\" class=\"data row5 col1\" >3.327830</td>\n",
              "      <td id=\"T_ad2a4_row5_col2\" class=\"data row5 col2\" >3.450000</td>\n",
              "      <td id=\"T_ad2a4_row5_col3\" class=\"data row5 col3\" >4.400000</td>\n",
              "    </tr>\n",
              "    <tr>\n",
              "      <th id=\"T_ad2a4_level0_row6\" class=\"row_heading level0 row6\" >Sant Andreu</th>\n",
              "      <td id=\"T_ad2a4_row6_col0\" class=\"data row6 col0\" >1.500000</td>\n",
              "      <td id=\"T_ad2a4_row6_col1\" class=\"data row6 col1\" >3.255376</td>\n",
              "      <td id=\"T_ad2a4_row6_col2\" class=\"data row6 col2\" >3.200000</td>\n",
              "      <td id=\"T_ad2a4_row6_col3\" class=\"data row6 col3\" >4.400000</td>\n",
              "    </tr>\n",
              "    <tr>\n",
              "      <th id=\"T_ad2a4_level0_row7\" class=\"row_heading level0 row7\" >Sant Martí</th>\n",
              "      <td id=\"T_ad2a4_row7_col0\" class=\"data row7 col0\" >1.100000</td>\n",
              "      <td id=\"T_ad2a4_row7_col1\" class=\"data row7 col1\" >3.151677</td>\n",
              "      <td id=\"T_ad2a4_row7_col2\" class=\"data row7 col2\" >3.250000</td>\n",
              "      <td id=\"T_ad2a4_row7_col3\" class=\"data row7 col3\" >5.000000</td>\n",
              "    </tr>\n",
              "    <tr>\n",
              "      <th id=\"T_ad2a4_level0_row8\" class=\"row_heading level0 row8\" >Sants-Montjuïc</th>\n",
              "      <td id=\"T_ad2a4_row8_col0\" class=\"data row8 col0\" >1.000000</td>\n",
              "      <td id=\"T_ad2a4_row8_col1\" class=\"data row8 col1\" >3.012399</td>\n",
              "      <td id=\"T_ad2a4_row8_col2\" class=\"data row8 col2\" >3.100000</td>\n",
              "      <td id=\"T_ad2a4_row8_col3\" class=\"data row8 col3\" >4.600000</td>\n",
              "    </tr>\n",
              "    <tr>\n",
              "      <th id=\"T_ad2a4_level0_row9\" class=\"row_heading level0 row9\" >Sarrià-Sant Gervasi</th>\n",
              "      <td id=\"T_ad2a4_row9_col0\" class=\"data row9 col0\" >1.000000</td>\n",
              "      <td id=\"T_ad2a4_row9_col1\" class=\"data row9 col1\" >2.920519</td>\n",
              "      <td id=\"T_ad2a4_row9_col2\" class=\"data row9 col2\" >2.900000</td>\n",
              "      <td id=\"T_ad2a4_row9_col3\" class=\"data row9 col3\" >4.750000</td>\n",
              "    </tr>\n",
              "  </tbody>\n",
              "</table>\n"
            ]
          },
          "metadata": {},
          "execution_count": 70
        }
      ],
      "source": [
        "result.groupby(['neighbourhood_group_cleansed'])['final score'].agg(['min','mean','median','max']).style.background_gradient()"
      ]
    },
    {
      "cell_type": "code",
      "execution_count": 71,
      "metadata": {
        "id": "unvFbOnQ8mUj",
        "colab": {
          "base_uri": "https://localhost:8080/"
        },
        "outputId": "7e237747-047d-4d97-edf2-d3a0a34cd4ba"
      },
      "outputs": [
        {
          "output_type": "execute_result",
          "data": {
            "text/plain": [
              "Index(['id', 'listing_url', 'name', 'host_since', 'host_is_superhost',\n",
              "       'neighbourhood_group_cleansed', 'accommodates', 'amenities', 'price',\n",
              "       'number_of_reviews', 'review_scores_rating', 'latitude', 'longitude',\n",
              "       'host_exp', 'wifi', 'workspace', 'distance', 'price Score',\n",
              "       'host_exp Score', 'review_scores_rating Score', 'distance Score',\n",
              "       'final score'],\n",
              "      dtype='object')"
            ]
          },
          "metadata": {},
          "execution_count": 71
        }
      ],
      "source": [
        "df1.columns"
      ]
    },
    {
      "cell_type": "code",
      "execution_count": 72,
      "metadata": {
        "id": "sByO7WCvKSN_",
        "colab": {
          "base_uri": "https://localhost:8080/",
          "height": 817
        },
        "outputId": "0206dc4d-4c6a-4d21-be4a-a42ff78f322a"
      },
      "outputs": [
        {
          "output_type": "display_data",
          "data": {
            "text/html": [
              "<html>\n",
              "<head><meta charset=\"utf-8\" /></head>\n",
              "<body>\n",
              "    <div>            <script src=\"https://cdnjs.cloudflare.com/ajax/libs/mathjax/2.7.5/MathJax.js?config=TeX-AMS-MML_SVG\"></script><script type=\"text/javascript\">if (window.MathJax && window.MathJax.Hub && window.MathJax.Hub.Config) {window.MathJax.Hub.Config({SVG: {font: \"STIX-Web\"}});}</script>                <script type=\"text/javascript\">window.PlotlyConfig = {MathJaxConfig: 'local'};</script>\n",
              "        <script charset=\"utf-8\" src=\"https://cdn.plot.ly/plotly-2.24.1.min.js\"></script>                <div id=\"2c5e0282-093c-4e91-91ec-ccb3e5ab475c\" class=\"plotly-graph-div\" style=\"height:800px; width:1000px;\"></div>            <script type=\"text/javascript\">                                    window.PLOTLYENV=window.PLOTLYENV || {};                                    if (document.getElementById(\"2c5e0282-093c-4e91-91ec-ccb3e5ab475c\")) {                    Plotly.newPlot(                        \"2c5e0282-093c-4e91-91ec-ccb3e5ab475c\",                        [{\"coloraxis\":\"coloraxis\",\"customdata\":[[3.8,\"0.03660164858057148,0.795588546164288\",0],[2.55,\"0.036745009940730454,0.7953402370046504\",0],[1.75,\"0.036745009940730454,0.7954643915844692\",0],[2.1,\"0.036816690620809944,0.7948436186853753\",0],[2.2,\"0.036816690620809944,0.7949677732651942\",0],[2.55,\"0.036816690620809944,0.7953402370046504\",0],[2.9499999999999997,\"0.036888371300889435,0.7945953095257379\",0],[3.05,\"0.036888371300889435,0.7948436186853753\",0],[3.44,\"0.03696005198096892,0.7945953095257379\",0],[3.45,\"0.03696005198096892,0.7952160824248317\",0],[2.55,\"0.03696005198096892,0.795588546164288\",0],[3.0125,\"0.03703173266104841,0.7945953095257379\",0],[3.4,\"0.03703173266104841,0.7948436186853753\",0],[1.875,\"0.03703173266104841,0.7949677732651942\",0],[3.45,\"0.03703173266104841,0.7950919278450129\",0],[2.6,\"0.0371034133411279,0.7944711549459191\",0],[2.952380952380952,\"0.0371034133411279,0.7945953095257379\",0],[3.5,\"0.0371034133411279,0.7947194641055566\",0],[3.0,\"0.0371034133411279,0.7949677732651942\",0],[3.5250000000000004,\"0.0371034133411279,0.7950919278450129\",0],[1.0,\"0.0371034133411279,0.7952160824248317\",0],[2.8850000000000002,\"0.03717509402120738,0.7944711549459191\",0],[3.223076923076923,\"0.03717509402120738,0.7945953095257379\",0],[2.61,\"0.03717509402120738,0.7947194641055566\",0],[2.225,\"0.03717509402120738,0.7948436186853753\",0],[2.3833333333333333,\"0.03717509402120738,0.7949677732651942\",0],[2.4499999999999997,\"0.03717509402120738,0.7952160824248317\",0],[2.4499999999999997,\"0.03724677470128687,0.7942228457862816\",0],[2.95,\"0.03724677470128687,0.7943470003661003\",0],[2.869444444444445,\"0.03724677470128687,0.7944711549459191\",0],[3.125,\"0.03724677470128687,0.7945953095257379\",0],[2.4749999999999996,\"0.03724677470128687,0.7947194641055566\",0],[3.233333333333333,\"0.03724677470128687,0.7948436186853753\",0],[3.0124999999999997,\"0.03724677470128687,0.7949677732651942\",0],[3.1,\"0.03724677470128687,0.7950919278450129\",0],[3.016666666666667,\"0.03724677470128687,0.7952160824248317\",0],[2.9277777777777776,\"0.03731845538136636,0.7942228457862816\",0],[3.8,\"0.03731845538136636,0.7943470003661003\",0],[2.875,\"0.03731845538136636,0.7944711549459191\",0],[3.0777777777777775,\"0.03731845538136636,0.7945953095257379\",0],[2.9142857142857146,\"0.03731845538136636,0.7947194641055566\",0],[3.2999999999999994,\"0.03731845538136636,0.7948436186853753\",0],[3.05,\"0.03731845538136636,0.7949677732651942\",0],[3.5,\"0.03731845538136636,0.7952160824248317\",0],[3.75,\"0.03731845538136636,0.7953402370046504\",0],[3.675,\"0.03731845538136636,0.7954643915844692\",0],[3.5666666666666664,\"0.03731845538136636,0.7957127007441067\",0],[4.05,\"0.037390136061445846,0.7942228457862816\",0],[2.5,\"0.037390136061445846,0.7943470003661003\",0],[3.139583333333333,\"0.037390136061445846,0.7944711549459191\",0],[2.97,\"0.037390136061445846,0.7945953095257379\",0],[2.8000000000000003,\"0.037390136061445846,0.7947194641055566\",0],[2.9722222222222223,\"0.037390136061445846,0.7948436186853753\",0],[2.36875,\"0.037390136061445846,0.7950919278450129\",0],[3.0625,\"0.037390136061445846,0.7952160824248317\",0],[2.4250000000000003,\"0.037390136061445846,0.7953402370046504\",0],[2.65,\"0.037390136061445846,0.7954643915844692\",0],[3.7,\"0.037390136061445846,0.7959610099037443\",0],[3.05,\"0.037461816741525336,0.7942228457862816\",0],[3.0833333333333335,\"0.037461816741525336,0.7944711549459191\",0],[2.885294117647059,\"0.037461816741525336,0.7945953095257379\",0],[3.0846153846153848,\"0.037461816741525336,0.7947194641055566\",0],[3.33,\"0.037461816741525336,0.7948436186853753\",0],[2.04375,\"0.037461816741525336,0.7949677732651942\",0],[3.4928571428571424,\"0.037461816741525336,0.7950919278450129\",0],[3.1999999999999997,\"0.037461816741525336,0.7952160824248317\",0],[2.9444444444444446,\"0.037461816741525336,0.7953402370046504\",0],[2.9250000000000003,\"0.037461816741525336,0.7954643915844692\",0],[3.05,\"0.037461816741525336,0.795588546164288\",0],[3.0,\"0.037461816741525336,0.7957127007441067\",0],[3.09,\"0.037533497421604826,0.7944711549459191\",0],[2.8944444444444444,\"0.037533497421604826,0.7945953095257379\",0],[3.231818181818182,\"0.037533497421604826,0.7947194641055566\",0],[2.886666666666667,\"0.037533497421604826,0.7948436186853753\",0],[2.868181818181818,\"0.037533497421604826,0.7949677732651942\",0],[3.0972222222222223,\"0.037533497421604826,0.7950919278450129\",0],[2.980769230769231,\"0.037533497421604826,0.7952160824248317\",0],[3.433333333333333,\"0.037533497421604826,0.7953402370046504\",0],[3.7833333333333337,\"0.037533497421604826,0.7954643915844692\",0],[3.516666666666666,\"0.037533497421604826,0.795588546164288\",0],[2.66875,\"0.037533497421604826,0.7957127007441067\",0],[4.3,\"0.037533497421604826,0.7958368553239255\",0],[3.5833333333333335,\"0.03760517810168431,0.7944711549459191\",0],[3.2024999999999997,\"0.03760517810168431,0.7945953095257379\",0],[3.1550000000000002,\"0.03760517810168431,0.7947194641055566\",0],[3.1750000000000003,\"0.03760517810168431,0.7948436186853753\",0],[2.784375,\"0.03760517810168431,0.7949677732651942\",0],[3.463333333333334,\"0.03760517810168431,0.7950919278450129\",0],[3.088095238095238,\"0.03760517810168431,0.7952160824248317\",0],[4.0375000000000005,\"0.03760517810168431,0.7953402370046504\",0],[2.95,\"0.03760517810168431,0.7954643915844692\",0],[2.25,\"0.03760517810168431,0.795588546164288\",0],[3.7624999999999997,\"0.03760517810168431,0.7957127007441067\",0],[3.55,\"0.03760517810168431,0.7959610099037443\",0],[2.5949999999999998,\"0.0376768587817638,0.7944711549459191\",0],[3.219642857142857,\"0.0376768587817638,0.7945953095257379\",0],[3.0014285714285713,\"0.0376768587817638,0.7947194641055566\",0],[2.8954545454545464,\"0.0376768587817638,0.7948436186853753\",0],[2.5447368421052627,\"0.0376768587817638,0.7949677732651942\",0],[2.8282608695652174,\"0.0376768587817638,0.7950919278450129\",0],[3.4814814814814814,\"0.0376768587817638,0.7952160824248317\",0],[3.35,\"0.0376768587817638,0.7953402370046504\",0],[4.0875,\"0.0376768587817638,0.7954643915844692\",0],[3.07,\"0.0376768587817638,0.795588546164288\",0],[2.9,\"0.0376768587817638,0.7957127007441067\",0],[3.375,\"0.0376768587817638,0.7958368553239255\",0],[2.95,\"0.0376768587817638,0.7959610099037443\",0],[3.1839999999999997,\"0.03774853946184329,0.7944711549459191\",0],[3.0250000000000004,\"0.03774853946184329,0.7945953095257379\",0],[3.344736842105263,\"0.03774853946184329,0.7947194641055566\",0],[2.778260869565217,\"0.03774853946184329,0.7948436186853753\",0],[2.683333333333334,\"0.03774853946184329,0.7949677732651942\",0],[3.1879310344827583,\"0.03774853946184329,0.7950919278450129\",0],[3.3125,\"0.03774853946184329,0.7952160824248317\",0],[3.407142857142858,\"0.03774853946184329,0.7953402370046504\",0],[3.0269230769230764,\"0.03774853946184329,0.7954643915844692\",0],[3.8,\"0.03774853946184329,0.795588546164288\",0],[3.3,\"0.03774853946184329,0.7958368553239255\",0],[3.3,\"0.03774853946184329,0.7959610099037443\",0],[3.084090909090909,\"0.037820220141922774,0.7944711549459191\",0],[3.3391304347826085,\"0.037820220141922774,0.7945953095257379\",0],[3.402564102564103,\"0.037820220141922774,0.7947194641055566\",0],[2.54622641509434,\"0.037820220141922774,0.7948436186853753\",0],[2.234615384615385,\"0.037820220141922774,0.7949677732651942\",0],[3.3892857142857133,\"0.037820220141922774,0.7950919278450129\",0],[3.25,\"0.037820220141922774,0.7952160824248317\",0],[3.177272727272727,\"0.037820220141922774,0.7953402370046504\",0],[3.79,\"0.037820220141922774,0.7954643915844692\",0],[3.65,\"0.037820220141922774,0.7957127007441067\",0],[3.5449999999999995,\"0.037820220141922774,0.7958368553239255\",0],[2.875,\"0.037820220141922774,0.7962093190633818\",0],[3.6166666666666667,\"0.037891900822002264,0.7944711549459191\",0],[3.1140625,\"0.037891900822002264,0.7945953095257379\",0],[2.6364197530864204,\"0.037891900822002264,0.7947194641055566\",0],[3.0500000000000007,\"0.037891900822002264,0.7948436186853753\",0],[2.6828125000000003,\"0.037891900822002264,0.7949677732651942\",0],[3.0785714285714283,\"0.037891900822002264,0.7950919278450129\",0],[3.3218750000000004,\"0.037891900822002264,0.7952160824248317\",0],[3.3208333333333333,\"0.037891900822002264,0.7953402370046504\",0],[3.4,\"0.037891900822002264,0.7954643915844692\",0],[2.96875,\"0.037891900822002264,0.795588546164288\",0],[2.7,\"0.037891900822002264,0.7957127007441067\",0],[3.3,\"0.037891900822002264,0.7958368553239255\",0],[3.6375,\"0.037891900822002264,0.7959610099037443\",0],[2.1,\"0.037891900822002264,0.796085164483563\",0],[4.1,\"0.037891900822002264,0.7962093190633818\",0],[2.7426470588235294,\"0.037963581502081754,0.7945953095257379\",0],[2.873949579831933,\"0.037963581502081754,0.7947194641055566\",0],[3.0609375,\"0.037963581502081754,0.7948436186853753\",0],[3.0000000000000004,\"0.037963581502081754,0.7949677732651942\",0],[3.0760869565217397,\"0.037963581502081754,0.7950919278450129\",0],[3.2607142857142857,\"0.037963581502081754,0.7952160824248317\",0],[3.354347826086957,\"0.037963581502081754,0.7953402370046504\",0],[3.0,\"0.037963581502081754,0.7954643915844692\",0],[3.6400000000000006,\"0.037963581502081754,0.795588546164288\",0],[3.425,\"0.037963581502081754,0.7957127007441067\",0],[3.825,\"0.037963581502081754,0.7958368553239255\",0],[3.1833333333333336,\"0.037963581502081754,0.7959610099037443\",0],[3.1666666666666665,\"0.037963581502081754,0.796085164483563\",0],[3.225,\"0.037963581502081754,0.7962093190633818\",0],[2.5571428571428574,\"0.03803526218216124,0.7945953095257379\",0],[2.782291666666666,\"0.03803526218216124,0.7947194641055566\",0],[3.1874999999999996,\"0.03803526218216124,0.7948436186853753\",0],[3.4964285714285714,\"0.03803526218216124,0.7949677732651942\",0],[2.9734374999999997,\"0.03803526218216124,0.7950919278450129\",0],[3.246774193548387,\"0.03803526218216124,0.7952160824248317\",0],[3.1605263157894736,\"0.03803526218216124,0.7953402370046504\",0],[3.1357142857142857,\"0.03803526218216124,0.7954643915844692\",0],[3.5199999999999996,\"0.03803526218216124,0.795588546164288\",0],[3.2399999999999998,\"0.03803526218216124,0.7957127007441067\",0],[3.3200000000000003,\"0.03803526218216124,0.7958368553239255\",0],[2.5,\"0.03803526218216124,0.796085164483563\",0],[4.3,\"0.03803526218216124,0.7962093190633818\",0],[2.2,\"0.03810694286224073,0.7945953095257379\",0],[2.8209302325581396,\"0.03810694286224073,0.7947194641055566\",0],[2.992857142857143,\"0.03810694286224073,0.7948436186853753\",0],[2.9749999999999996,\"0.03810694286224073,0.7949677732651942\",0],[3.3187499999999996,\"0.03810694286224073,0.7950919278450129\",0],[3.106666666666666,\"0.03810694286224073,0.7952160824248317\",0],[2.86875,\"0.03810694286224073,0.7953402370046504\",0],[3.5444444444444443,\"0.03810694286224073,0.7954643915844692\",0],[3.3499999999999996,\"0.03810694286224073,0.795588546164288\",0],[3.55,\"0.03810694286224073,0.7957127007441067\",0],[3.0124999999999997,\"0.03810694286224073,0.7958368553239255\",0],[3.25,\"0.03810694286224073,0.796085164483563\",0],[3.4,\"0.03810694286224073,0.7962093190633818\",0],[4.15,\"0.03810694286224073,0.7964576282230194\",0],[2.8277777777777775,\"0.03817862354232022,0.7945953095257379\",0],[2.6859999999999995,\"0.03817862354232022,0.7947194641055566\",0],[2.8499999999999996,\"0.03817862354232022,0.7948436186853753\",0],[3.1921052631578952,\"0.03817862354232022,0.7949677732651942\",0],[1.875,\"0.03817862354232022,0.7950919278450129\",0],[3.9000000000000004,\"0.03817862354232022,0.7952160824248317\",0],[3.1966666666666663,\"0.03817862354232022,0.7953402370046504\",0],[3.0785714285714287,\"0.03817862354232022,0.7954643915844692\",0],[2.85,\"0.03817862354232022,0.795588546164288\",0],[3.2999999999999994,\"0.03817862354232022,0.7957127007441067\",0],[2.7750000000000004,\"0.03817862354232022,0.7958368553239255\",0],[2.6833333333333336,\"0.03817862354232022,0.7959610099037443\",0],[3.8,\"0.03817862354232022,0.7962093190633818\",0],[2.5,\"0.03817862354232022,0.7963334736432005\",0],[2.755405405405405,\"0.0382503042223997,0.7945953095257379\",0],[3.035294117647059,\"0.0382503042223997,0.7947194641055566\",0],[3.7874999999999996,\"0.0382503042223997,0.7949677732651942\",0],[2.8833333333333333,\"0.0382503042223997,0.7950919278450129\",0],[2.71,\"0.0382503042223997,0.7953402370046504\",0],[3.2600000000000002,\"0.0382503042223997,0.7954643915844692\",0],[3.1,\"0.0382503042223997,0.795588546164288\",0],[2.675,\"0.0382503042223997,0.7957127007441067\",0],[3.1,\"0.0382503042223997,0.7959610099037443\",0],[4.075,\"0.0382503042223997,0.7963334736432005\",0],[4.85,\"0.03832198490247919,0.7948436186853753\",0],[2.9499999999999997,\"0.03832198490247919,0.7949677732651942\",0],[3.0583333333333336,\"0.03832198490247919,0.7950919278450129\",0],[3.15,\"0.03832198490247919,0.7952160824248317\",0],[3.425,\"0.03832198490247919,0.7953402370046504\",0],[3.4428571428571426,\"0.03832198490247919,0.7954643915844692\",0],[3.3,\"0.03832198490247919,0.795588546164288\",0],[2.4,\"0.03832198490247919,0.7957127007441067\",0],[3.3,\"0.03832198490247919,0.7958368553239255\",0],[3.45,\"0.03839366558255868,0.7948436186853753\",0],[2.84,\"0.03839366558255868,0.7950919278450129\",0],[3.75,\"0.03839366558255868,0.7952160824248317\",0],[2.825,\"0.03839366558255868,0.7953402370046504\",0],[3.96,\"0.03839366558255868,0.7954643915844692\",0],[3.3,\"0.03839366558255868,0.795588546164288\",0],[3.45,\"0.03839366558255868,0.7957127007441067\",0],[3.6100000000000003,\"0.038465346262638166,0.7950919278450129\",0],[2.7750000000000004,\"0.038465346262638166,0.7952160824248317\",0],[2.8833333333333333,\"0.038465346262638166,0.7953402370046504\",0],[4.075,\"0.038465346262638166,0.7954643915844692\",0],[3.3,\"0.038465346262638166,0.795588546164288\",0],[3.2249999999999996,\"0.038465346262638166,0.7957127007441067\",0],[2.3642857142857143,\"0.038537026942717656,0.7950919278450129\",0],[2.788888888888889,\"0.038537026942717656,0.7952160824248317\",0],[2.992857142857143,\"0.038537026942717656,0.7953402370046504\",0],[3.05,\"0.038537026942717656,0.7954643915844692\",0],[2.8499999999999996,\"0.038537026942717656,0.795588546164288\",0],[3.0,\"0.038537026942717656,0.7957127007441067\",0],[3.6750000000000003,\"0.038537026942717656,0.7959610099037443\",0],[3.0833333333333335,\"0.038608707622797146,0.7952160824248317\",0],[2.966666666666667,\"0.038608707622797146,0.7953402370046504\",0],[1.7,\"0.038608707622797146,0.7954643915844692\",0],[3.0100000000000002,\"0.038608707622797146,0.795588546164288\",0],[2.55,\"0.03868038830287663,0.7953402370046504\",0],[3.1100000000000003,\"0.03868038830287663,0.7954643915844692\",0],[3.0500000000000003,\"0.03875206898295612,0.7954643915844692\",0],[2.4,\"0.03663748892061122,0.7954023142945599\",0],[3.05,\"0.03670916960069071,0.7954023142945599\",0],[2.9,\"0.0367808502807702,0.794781541395466\",0],[1.7,\"0.036852530960849686,0.794781541395466\",0],[3.5,\"0.036852530960849686,0.7955264688743786\",0],[2.9499999999999997,\"0.036924211640929176,0.7946573868156472\",0],[3.55,\"0.036924211640929176,0.7954023142945599\",0],[2.95,\"0.036924211640929176,0.7956506234541973\",0],[3.25,\"0.03699589232100867,0.7946573868156472\",0],[2.5500000000000003,\"0.03699589232100867,0.7949056959752848\",0],[2.55,\"0.03699589232100867,0.7950298505551036\",0],[2.875,\"0.03699589232100867,0.7951540051349223\",0],[2.55,\"0.03699589232100867,0.7955264688743786\",0],[2.9,\"0.03699589232100867,0.7956506234541973\",0],[2.390909090909091,\"0.03706757300108815,0.7945332322358285\",0],[3.395454545454545,\"0.03706757300108815,0.7946573868156472\",0],[3.8,\"0.03706757300108815,0.794781541395466\",0],[2.5,\"0.03706757300108815,0.7949056959752848\",0],[1.9000000000000001,\"0.03706757300108815,0.7950298505551036\",0],[3.4,\"0.03706757300108815,0.7954023142945599\",0],[3.2038461538461536,\"0.03713925368116764,0.7945332322358285\",0],[3.4555555555555557,\"0.03713925368116764,0.7946573868156472\",0],[3.2249999999999996,\"0.03713925368116764,0.794781541395466\",0],[2.0666666666666664,\"0.03713925368116764,0.7949056959752848\",0],[2.9166666666666665,\"0.03713925368116764,0.7950298505551036\",0],[3.4,\"0.03713925368116764,0.7954023142945599\",0],[2.1,\"0.03713925368116764,0.7955264688743786\",0],[3.4,\"0.03721093436124713,0.7944090776560098\",0],[2.9925000000000006,\"0.03721093436124713,0.7945332322358285\",0],[3.7166666666666663,\"0.03721093436124713,0.7946573868156472\",0],[3.1545454545454543,\"0.03721093436124713,0.794781541395466\",0],[3.05,\"0.03721093436124713,0.7950298505551036\",0],[1.4000000000000001,\"0.03721093436124713,0.7951540051349223\",0],[3.25,\"0.03721093436124713,0.7954023142945599\",0],[2.7,\"0.03721093436124713,0.7956506234541973\",0],[3.25,\"0.03721093436124713,0.7957747780340161\",0],[2.983333333333333,\"0.037282615041326614,0.7941607684963722\",0],[3.0374999999999996,\"0.037282615041326614,0.7942849230761909\",0],[2.983333333333333,\"0.037282615041326614,0.7944090776560098\",0],[2.6040000000000005,\"0.037282615041326614,0.7945332322358285\",0],[2.9916666666666667,\"0.037282615041326614,0.7946573868156472\",0],[3.7249999999999996,\"0.037282615041326614,0.794781541395466\",0],[3.7249999999999996,\"0.037282615041326614,0.7949056959752848\",0],[2.0,\"0.037282615041326614,0.7950298505551036\",0],[3.1500000000000004,\"0.037282615041326614,0.7951540051349223\",0],[3.3875,\"0.037282615041326614,0.795278159714741\",0],[3.4714285714285715,\"0.037354295721406104,0.7941607684963722\",0],[2.5,\"0.037354295721406104,0.7942849230761909\",0],[3.4214285714285713,\"0.037354295721406104,0.7944090776560098\",0],[3.2230769230769236,\"0.037354295721406104,0.7945332322358285\",0],[2.2416666666666667,\"0.037354295721406104,0.7946573868156472\",0],[2.73125,\"0.037354295721406104,0.794781541395466\",0],[2.075,\"0.037354295721406104,0.7949056959752848\",0],[2.5,\"0.037354295721406104,0.7950298505551036\",0],[3.1833333333333336,\"0.037354295721406104,0.7951540051349223\",0],[3.5833333333333335,\"0.037354295721406104,0.795278159714741\",0],[3.105555555555555,\"0.037354295721406104,0.7954023142945599\",0],[3.7,\"0.037354295721406104,0.7956506234541973\",0],[3.2249999999999996,\"0.037354295721406104,0.7958989326138349\",0],[3.5500000000000003,\"0.037425976401485594,0.7944090776560098\",0],[2.8021739130434784,\"0.037425976401485594,0.7945332322358285\",0],[3.142857142857143,\"0.037425976401485594,0.7946573868156472\",0],[3.1124999999999994,\"0.037425976401485594,0.794781541395466\",0],[2.711764705882353,\"0.037425976401485594,0.7949056959752848\",0],[2.975,\"0.037425976401485594,0.7950298505551036\",0],[2.5807692307692305,\"0.037425976401485594,0.7951540051349223\",0],[2.8600000000000003,\"0.037425976401485594,0.795278159714741\",0],[3.72,\"0.037425976401485594,0.7954023142945599\",0],[3.2875,\"0.037425976401485594,0.7956506234541973\",0],[3.35,\"0.037425976401485594,0.7958989326138349\",0],[2.7722222222222226,\"0.03749765708156508,0.7945332322358285\",0],[3.2399999999999998,\"0.03749765708156508,0.7946573868156472\",0],[3.2394736842105267,\"0.03749765708156508,0.794781541395466\",0],[2.227272727272727,\"0.03749765708156508,0.7949056959752848\",0],[2.5949999999999998,\"0.03749765708156508,0.7950298505551036\",0],[3.224999999999999,\"0.03749765708156508,0.7951540051349223\",0],[2.62,\"0.03749765708156508,0.795278159714741\",0],[3.25,\"0.03749765708156508,0.7954023142945599\",0],[4.15,\"0.03749765708156508,0.7955264688743786\",0],[3.3,\"0.03749765708156508,0.7956506234541973\",0],[3.0,\"0.03749765708156508,0.7957747780340161\",0],[3.15,\"0.03756933776164457,0.7945332322358285\",0],[2.956060606060606,\"0.03756933776164457,0.7946573868156472\",0],[3.1500000000000004,\"0.03756933776164457,0.794781541395466\",0],[2.783333333333333,\"0.03756933776164457,0.7949056959752848\",0],[3.04,\"0.03756933776164457,0.7950298505551036\",0],[3.191071428571429,\"0.03756933776164457,0.7951540051349223\",0],[3.6049999999999995,\"0.03756933776164457,0.795278159714741\",0],[3.271428571428572,\"0.03756933776164457,0.7954023142945599\",0],[3.15,\"0.03756933776164457,0.7956506234541973\",0],[3.95,\"0.03756933776164457,0.7958989326138349\",0],[3.025,\"0.03764101844172406,0.7945332322358285\",0],[2.9216216216216218,\"0.03764101844172406,0.7946573868156472\",0],[2.875641025641026,\"0.03764101844172406,0.794781541395466\",0],[2.7823529411764705,\"0.03764101844172406,0.7949056959752848\",0],[2.960526315789474,\"0.03764101844172406,0.7950298505551036\",0],[3.337234042553191,\"0.03764101844172406,0.7951540051349223\",0],[3.6928571428571426,\"0.03764101844172406,0.795278159714741\",0],[4.029999999999999,\"0.03764101844172406,0.7954023142945599\",0],[3.0916666666666663,\"0.03764101844172406,0.7955264688743786\",0],[3.48125,\"0.03764101844172406,0.7956506234541973\",0],[2.483333333333333,\"0.03764101844172406,0.7957747780340161\",0],[2.9,\"0.03764101844172406,0.7958989326138349\",0],[3.8249999999999997,\"0.03764101844172406,0.7960230871936537\",0],[3.076785714285714,\"0.03771269912180354,0.7945332322358285\",0],[3.417142857142857,\"0.03771269912180354,0.7946573868156472\",0],[2.9439393939393943,\"0.03771269912180354,0.794781541395466\",0],[3.157608695652174,\"0.03771269912180354,0.7949056959752848\",0],[2.7233333333333336,\"0.03771269912180354,0.7950298505551036\",0],[2.932352941176471,\"0.03771269912180354,0.7951540051349223\",0],[3.45625,\"0.03771269912180354,0.795278159714741\",0],[3.6916666666666664,\"0.03771269912180354,0.7954023142945599\",0],[3.1055555555555556,\"0.03771269912180354,0.7955264688743786\",0],[4.199999999999999,\"0.03771269912180354,0.7956506234541973\",0],[3.2,\"0.03771269912180354,0.7957747780340161\",0],[3.25,\"0.03771269912180354,0.7961472417734724\",0],[3.6999999999999997,\"0.03778437980188303,0.7944090776560098\",0],[3.0245283018867926,\"0.03778437980188303,0.7945332322358285\",0],[3.087244897959183,\"0.03778437980188303,0.7946573868156472\",0],[2.7879032258064504,\"0.03778437980188303,0.794781541395466\",0],[2.7338235294117648,\"0.03778437980188303,0.7949056959752848\",0],[2.716666666666667,\"0.03778437980188303,0.7950298505551036\",0],[2.914583333333334,\"0.03778437980188303,0.7951540051349223\",0],[3.6149999999999998,\"0.03778437980188303,0.795278159714741\",0],[3.0124999999999997,\"0.03778437980188303,0.7954023142945599\",0],[3.466666666666667,\"0.03778437980188303,0.7955264688743786\",0],[2.45,\"0.03778437980188303,0.7958989326138349\",0],[3.5,\"0.03778437980188303,0.7961472417734724\",0],[3.0128205128205137,\"0.03785606048196252,0.7945332322358285\",0],[2.9399999999999995,\"0.03785606048196252,0.7946573868156472\",0],[2.799324324324324,\"0.03785606048196252,0.794781541395466\",0],[2.5833333333333335,\"0.03785606048196252,0.7949056959752848\",0],[2.775,\"0.03785606048196252,0.7950298505551036\",0],[2.75,\"0.03785606048196252,0.7951540051349223\",0],[3.2111111111111112,\"0.03785606048196252,0.795278159714741\",0],[3.3227272727272723,\"0.03785606048196252,0.7954023142945599\",0],[3.4333333333333336,\"0.03785606048196252,0.7955264688743786\",0],[3.9,\"0.03785606048196252,0.7956506234541973\",0],[2.585714285714286,\"0.03785606048196252,0.7957747780340161\",0],[3.559090909090909,\"0.03785606048196252,0.7958989326138349\",0],[2.95,\"0.03785606048196252,0.7960230871936537\",0],[3.3111111111111113,\"0.037927741162042006,0.7945332322358285\",0],[2.8055555555555554,\"0.037927741162042006,0.7946573868156472\",0],[3.0490909090909093,\"0.037927741162042006,0.794781541395466\",0],[2.5816666666666666,\"0.037927741162042006,0.7949056959752848\",0],[2.8269230769230775,\"0.037927741162042006,0.7950298505551036\",0],[2.9588235294117644,\"0.037927741162042006,0.7951540051349223\",0],[2.948648648648649,\"0.037927741162042006,0.795278159714741\",0],[2.923684210526316,\"0.037927741162042006,0.7954023142945599\",0],[2.9583333333333335,\"0.037927741162042006,0.7955264688743786\",0],[3.408333333333333,\"0.037927741162042006,0.7956506234541973\",0],[3.25,\"0.037927741162042006,0.7957747780340161\",0],[3.3374999999999995,\"0.037927741162042006,0.7958989326138349\",0],[3.75,\"0.037927741162042006,0.7960230871936537\",0],[3.75,\"0.037927741162042006,0.7961472417734724\",0],[2.95,\"0.037927741162042006,0.7962713963532911\",0],[3.7,\"0.037999421842121496,0.7945332322358285\",0],[2.6920454545454544,\"0.037999421842121496,0.7946573868156472\",0],[2.8807692307692303,\"0.037999421842121496,0.794781541395466\",0],[3.057377049180328,\"0.037999421842121496,0.7949056959752848\",0],[3.244186046511628,\"0.037999421842121496,0.7950298505551036\",0],[3.0349999999999997,\"0.037999421842121496,0.7951540051349223\",0],[3.170833333333334,\"0.037999421842121496,0.795278159714741\",0],[3.172916666666667,\"0.037999421842121496,0.7954023142945599\",0],[2.75,\"0.037999421842121496,0.7955264688743786\",0],[3.8625,\"0.037999421842121496,0.7956506234541973\",0],[3.4375,\"0.037999421842121496,0.7957747780340161\",0],[2.6999999999999997,\"0.037999421842121496,0.7958989326138349\",0],[2.875,\"0.037999421842121496,0.7960230871936537\",0],[3.125,\"0.037999421842121496,0.7961472417734724\",0],[3.283333333333333,\"0.037999421842121496,0.7962713963532911\",0],[3.75,\"0.037999421842121496,0.7965197055129287\",0],[2.806818181818181,\"0.038071102522200986,0.7946573868156472\",0],[3.0500000000000003,\"0.038071102522200986,0.794781541395466\",0],[2.9236842105263157,\"0.038071102522200986,0.7949056959752848\",0],[2.7357142857142853,\"0.038071102522200986,0.7950298505551036\",0],[3.217567567567567,\"0.038071102522200986,0.7951540051349223\",0],[3.3666666666666667,\"0.038071102522200986,0.795278159714741\",0],[2.792857142857143,\"0.038071102522200986,0.7954023142945599\",0],[2.975,\"0.038071102522200986,0.7955264688743786\",0],[3.4850000000000003,\"0.038071102522200986,0.7956506234541973\",0],[2.775,\"0.038071102522200986,0.7957747780340161\",0],[3.95,\"0.038071102522200986,0.7958989326138349\",0],[3.0,\"0.038071102522200986,0.7960230871936537\",0],[4.2,\"0.038071102522200986,0.7962713963532911\",0],[2.685714285714286,\"0.03814278320228047,0.7946573868156472\",0],[2.6109375000000004,\"0.03814278320228047,0.794781541395466\",0],[3.1750000000000003,\"0.03814278320228047,0.7949056959752848\",0],[3.4200000000000004,\"0.03814278320228047,0.7950298505551036\",0],[2.8428571428571425,\"0.03814278320228047,0.7951540051349223\",0],[3.475,\"0.03814278320228047,0.795278159714741\",0],[2.6766666666666667,\"0.03814278320228047,0.7954023142945599\",0],[2.9499999999999997,\"0.03814278320228047,0.7955264688743786\",0],[3.3125,\"0.03814278320228047,0.7956506234541973\",0],[3.4125,\"0.03814278320228047,0.7961472417734724\",0],[3.2249999999999996,\"0.03821446388235996,0.7945332322358285\",0],[2.8148437499999996,\"0.03821446388235996,0.7946573868156472\",0],[3.2583333333333333,\"0.03821446388235996,0.7949056959752848\",0],[2.857142857142857,\"0.03821446388235996,0.7950298505551036\",0],[2.8874999999999997,\"0.03821446388235996,0.7951540051349223\",0],[3.4899999999999998,\"0.03821446388235996,0.795278159714741\",0],[3.3428571428571425,\"0.03821446388235996,0.7954023142945599\",0],[3.24375,\"0.03821446388235996,0.7955264688743786\",0],[3.5125,\"0.03821446388235996,0.7956506234541973\",0],[3.55,\"0.03821446388235996,0.7957747780340161\",0],[3.44,\"0.03821446388235996,0.7960230871936537\",0],[3.1,\"0.03821446388235996,0.7961472417734724\",0],[3.75,\"0.03821446388235996,0.79639555093311\",0],[3.228571428571428,\"0.03828614456243945,0.7946573868156472\",0],[3.7625,\"0.03828614456243945,0.7949056959752848\",0],[3.2928571428571423,\"0.03828614456243945,0.7950298505551036\",0],[3.633333333333333,\"0.03828614456243945,0.7951540051349223\",0],[3.3499999999999996,\"0.03828614456243945,0.795278159714741\",0],[1.95,\"0.03828614456243945,0.7954023142945599\",0],[3.625,\"0.03828614456243945,0.7955264688743786\",0],[3.2,\"0.03828614456243945,0.7958989326138349\",0],[3.825,\"0.038357825242518934,0.7950298505551036\",0],[3.423076923076924,\"0.038357825242518934,0.7951540051349223\",0],[3.8499999999999996,\"0.038357825242518934,0.795278159714741\",0],[3.5785714285714283,\"0.038357825242518934,0.7954023142945599\",0],[4.057142857142857,\"0.038357825242518934,0.7955264688743786\",0],[3.9666666666666663,\"0.038357825242518934,0.7956506234541973\",0],[3.05,\"0.038429505922598424,0.7950298505551036\",0],[3.1700000000000004,\"0.038429505922598424,0.7951540051349223\",0],[4.15,\"0.038429505922598424,0.795278159714741\",0],[3.1833333333333336,\"0.038429505922598424,0.7955264688743786\",0],[2.8666666666666667,\"0.038429505922598424,0.7956506234541973\",0],[1.5,\"0.038429505922598424,0.7960230871936537\",0],[2.4,\"0.038429505922598424,0.7961472417734724\",0],[2.465384615384615,\"0.038501186602677914,0.7951540051349223\",0],[3.1999999999999997,\"0.038501186602677914,0.795278159714741\",0],[3.5666666666666664,\"0.038501186602677914,0.7955264688743786\",0],[3.675,\"0.038501186602677914,0.7956506234541973\",0],[2.4,\"0.0385728672827574,0.7951540051349223\",0],[2.5124999999999997,\"0.0385728672827574,0.795278159714741\",0],[2.75,\"0.0385728672827574,0.7954023142945599\",0],[3.075,\"0.0385728672827574,0.7955264688743786\",0],[3.525,\"0.0385728672827574,0.7956506234541973\",0],[2.983333333333333,\"0.03864454796283689,0.795278159714741\",0],[3.2,\"0.03864454796283689,0.7954023142945599\",0],[2.875,\"0.03864454796283689,0.7955264688743786\",0],[2.9583333333333335,\"0.03871622864291638,0.7954023142945599\",0],[2.9916666666666667,\"0.03871622864291638,0.7955264688743786\",0]],\"geojson\":{\"type\":\"FeatureCollection\",\"features\":[{\"type\":\"Feature\",\"id\":\"0.03660164858057148,0.795588546164288\",\"geometry\":{\"type\":\"Polygon\",\"coordinates\":[[[2.097119986887746,41.41742962588065],[2.099173487108337,41.41831870460638],[2.099173487108337,41.42009682554596],[2.097119986887746,41.42098586775969],[2.095066486667155,41.42009682554596],[2.095066486667155,41.41831870460638],[2.097119986887746,41.41742962588065]]]}},{\"type\":\"Feature\",\"id\":\"0.036745009940730454,0.7953402370046504\",\"geometry\":{\"type\":\"Polygon\",\"coordinates\":[[[2.10533398777011,41.40675973188121],[2.1073874879907013,41.4076489566506],[2.1073874879907013,41.40942736967922],[2.10533398777011,41.41031655793835],[2.1032804875495192,41.40942736967922],[2.1032804875495192,41.4076489566506],[2.10533398777011,41.40675973188121]]]}},{\"type\":\"Feature\",\"id\":\"0.036745009940730454,0.7954643915844692\",\"geometry\":{\"type\":\"Polygon\",\"coordinates\":[[[2.10533398777011,41.412094897946005],[2.1073874879907013,41.41298404969442],[2.1073874879907013,41.414762316680246],[2.10533398777011,41.41565143191752],[2.1032804875495192,41.414762316680246],[2.1032804875495192,41.41298404969442],[2.10533398777011,41.412094897946005]]]}},{\"type\":\"Feature\",\"id\":\"0.036816690620809944,0.7948436186853753\",\"geometry\":{\"type\":\"Polygon\",\"coordinates\":[[[2.1094409882112926,41.38541468652647],[2.1114944884318834,41.38630420336262],[2.1114944884318834,41.38808320052814],[2.1094409882112926,41.38897268085745],[2.1073874879907017,41.38808320052814],[2.1073874879907017,41.38630420336262],[2.1094409882112926,41.38541468652647]]]}},{\"type\":\"Feature\",\"id\":\"0.036816690620809944,0.7949677732651942\",\"geometry\":{\"type\":\"Polygon\",\"coordinates\":[[[2.1094409882112926,41.390751605008894],[2.1114944884318834,41.3916410488309],[2.1114944884318834,41.39341989996736],[2.1094409882112926,41.394309307281695],[2.1073874879907017,41.39341989996736],[2.1073874879907017,41.3916410488309],[2.1094409882112926,41.390751605008894]]]}},{\"type\":\"Feature\",\"id\":\"0.036816690620809944,0.7953402370046504\",\"geometry\":{\"type\":\"Polygon\",\"coordinates\":[[[2.1094409882112926,41.40675973188121],[2.1114944884318834,41.4076489566506],[2.1114944884318834,41.40942736967922],[2.1094409882112926,41.41031655793835],[2.1073874879907017,41.40942736967922],[2.1073874879907017,41.4076489566506],[2.1094409882112926,41.40675973188121]]]}},{\"type\":\"Feature\",\"id\":\"0.036888371300889435,0.7945953095257379\",\"geometry\":{\"type\":\"Polygon\",\"coordinates\":[[[2.1135479886524746,41.37473953533631],[2.115601488873066,41.37562919819547],[2.115601488873066,41.377408487408786],[2.1135479886524746,41.378298113762824],[2.111494488431884,41.377408487408786],[2.111494488431884,41.37562919819547],[2.1135479886524746,41.37473953533631]]]}},{\"type\":\"Feature\",\"id\":\"0.036888371300889435,0.7948436186853753\",\"geometry\":{\"type\":\"Polygon\",\"coordinates\":[[[2.1135479886524746,41.38541468652647],[2.115601488873066,41.38630420336262],[2.115601488873066,41.38808320052814],[2.1135479886524746,41.38897268085745],[2.111494488431884,41.38808320052814],[2.111494488431884,41.38630420336262],[2.1135479886524746,41.38541468652647]]]}},{\"type\":\"Feature\",\"id\":\"0.03696005198096892,0.7945953095257379\",\"geometry\":{\"type\":\"Polygon\",\"coordinates\":[[[2.1176549890936567,41.37473953533631],[2.1197084893142475,41.37562919819547],[2.1197084893142475,41.377408487408786],[2.1176549890936567,41.378298113762824],[2.115601488873066,41.377408487408786],[2.115601488873066,41.37562919819547],[2.1176549890936567,41.37473953533631]]]}},{\"type\":\"Feature\",\"id\":\"0.03696005198096892,0.7952160824248317\",\"geometry\":{\"type\":\"Polygon\",\"coordinates\":[[[2.1176549890936567,41.401424127696544],[2.1197084893142475,41.40231342548522],[2.1197084893142475,41.40409198455321],[2.1176549890936567,41.40498124583247],[2.115601488873066,41.40409198455321],[2.115601488873066,41.40231342548522],[2.1176549890936567,41.401424127696544]]]}},{\"type\":\"Feature\",\"id\":\"0.03696005198096892,0.795588546164288\",\"geometry\":{\"type\":\"Polygon\",\"coordinates\":[[[2.1176549890936567,41.41742962588065],[2.1197084893142475,41.41831870460638],[2.1197084893142475,41.42009682554596],[2.1176549890936567,41.42098586775969],[2.115601488873066,41.42009682554596],[2.115601488873066,41.41831870460638],[2.1176549890936567,41.41742962588065]]]}},{\"type\":\"Feature\",\"id\":\"0.03703173266104841,0.7945953095257379\",\"geometry\":{\"type\":\"Polygon\",\"coordinates\":[[[2.121761989534839,41.37473953533631],[2.12381548975543,41.37562919819547],[2.12381548975543,41.377408487408786],[2.121761989534839,41.378298113762824],[2.119708489314248,41.377408487408786],[2.119708489314248,41.37562919819547],[2.121761989534839,41.37473953533631]]]}},{\"type\":\"Feature\",\"id\":\"0.03703173266104841,0.7948436186853753\",\"geometry\":{\"type\":\"Polygon\",\"coordinates\":[[[2.121761989534839,41.38541468652647],[2.12381548975543,41.38630420336262],[2.12381548975543,41.38808320052814],[2.121761989534839,41.38897268085745],[2.119708489314248,41.38808320052814],[2.119708489314248,41.38630420336262],[2.121761989534839,41.38541468652647]]]}},{\"type\":\"Feature\",\"id\":\"0.03703173266104841,0.7949677732651942\",\"geometry\":{\"type\":\"Polygon\",\"coordinates\":[[[2.121761989534839,41.390751605008894],[2.12381548975543,41.3916410488309],[2.12381548975543,41.39341989996736],[2.121761989534839,41.394309307281695],[2.119708489314248,41.39341989996736],[2.119708489314248,41.3916410488309],[2.121761989534839,41.390751605008894]]]}},{\"type\":\"Feature\",\"id\":\"0.03703173266104841,0.7950919278450129\",\"geometry\":{\"type\":\"Polygon\",\"coordinates\":[[[2.121761989534839,41.39608808540234],[2.12381548975543,41.39697745620856],[2.12381548975543,41.398756161312505],[2.121761989534839,41.39964549561015],[2.119708489314248,41.398756161312505],[2.119708489314248,41.39697745620856],[2.121761989534839,41.39608808540234]]]}},{\"type\":\"Feature\",\"id\":\"0.0371034133411279,0.7944711549459191\",\"geometry\":{\"type\":\"Polygon\",\"coordinates\":[[[2.1258689899760213,41.369401302649266],[2.127922490196612,41.37029103851734],[2.127922490196612,41.37207047374936],[2.1258689899760213,41.37296017311321],[2.1238154897554304,41.37207047374936],[2.1238154897554304,41.37029103851734],[2.1258689899760213,41.369401302649266]]]}},{\"type\":\"Feature\",\"id\":\"0.0371034133411279,0.7945953095257379\",\"geometry\":{\"type\":\"Polygon\",\"coordinates\":[[[2.1258689899760213,41.37473953533631],[2.127922490196612,41.37562919819547],[2.127922490196612,41.377408487408786],[2.1258689899760213,41.378298113762824],[2.1238154897554304,41.377408487408786],[2.1238154897554304,41.37562919819547],[2.1258689899760213,41.37473953533631]]]}},{\"type\":\"Feature\",\"id\":\"0.0371034133411279,0.7947194641055566\",\"geometry\":{\"type\":\"Polygon\",\"coordinates\":[[[2.1258689899760213,41.380077329965495],[2.127922490196612,41.380966919814014],[2.127922490196612,41.38274606300517],[2.1258689899760213,41.3836356163477],[2.1238154897554304,41.38274606300517],[2.1238154897554304,41.380966919814014],[2.1258689899760213,41.380077329965495]]]}},{\"type\":\"Feature\",\"id\":\"0.0371034133411279,0.7949677732651942\",\"geometry\":{\"type\":\"Polygon\",\"coordinates\":[[[2.1258689899760213,41.390751605008894],[2.127922490196612,41.3916410488309],[2.127922490196612,41.39341989996736],[2.1258689899760213,41.394309307281695],[2.1238154897554304,41.39341989996736],[2.1238154897554304,41.3916410488309],[2.1258689899760213,41.390751605008894]]]}},{\"type\":\"Feature\",\"id\":\"0.0371034133411279,0.7950919278450129\",\"geometry\":{\"type\":\"Polygon\",\"coordinates\":[[[2.1258689899760213,41.39608808540234],[2.127922490196612,41.39697745620856],[2.127922490196612,41.398756161312505],[2.1258689899760213,41.39964549561015],[2.1238154897554304,41.398756161312505],[2.1238154897554304,41.39697745620856],[2.1258689899760213,41.39608808540234]]]}},{\"type\":\"Feature\",\"id\":\"0.0371034133411279,0.7952160824248317\",\"geometry\":{\"type\":\"Polygon\",\"coordinates\":[[[2.1258689899760213,41.401424127696544],[2.127922490196612,41.40231342548522],[2.127922490196612,41.40409198455321],[2.1258689899760213,41.40498124583247],[2.1238154897554304,41.40409198455321],[2.1238154897554304,41.40231342548522],[2.1258689899760213,41.401424127696544]]]}},{\"type\":\"Feature\",\"id\":\"0.03717509402120738,0.7944711549459191\",\"geometry\":{\"type\":\"Polygon\",\"coordinates\":[[[2.129975990417203,41.369401302649266],[2.132029490637794,41.37029103851734],[2.132029490637794,41.37207047374936],[2.129975990417203,41.37296017311321],[2.127922490196612,41.37207047374936],[2.127922490196612,41.37029103851734],[2.129975990417203,41.369401302649266]]]}},{\"type\":\"Feature\",\"id\":\"0.03717509402120738,0.7945953095257379\",\"geometry\":{\"type\":\"Polygon\",\"coordinates\":[[[2.129975990417203,41.37473953533631],[2.132029490637794,41.37562919819547],[2.132029490637794,41.377408487408786],[2.129975990417203,41.378298113762824],[2.127922490196612,41.377408487408786],[2.127922490196612,41.37562919819547],[2.129975990417203,41.37473953533631]]]}},{\"type\":\"Feature\",\"id\":\"0.03717509402120738,0.7947194641055566\",\"geometry\":{\"type\":\"Polygon\",\"coordinates\":[[[2.129975990417203,41.380077329965495],[2.132029490637794,41.380966919814014],[2.132029490637794,41.38274606300517],[2.129975990417203,41.3836356163477],[2.127922490196612,41.38274606300517],[2.127922490196612,41.380966919814014],[2.129975990417203,41.380077329965495]]]}},{\"type\":\"Feature\",\"id\":\"0.03717509402120738,0.7948436186853753\",\"geometry\":{\"type\":\"Polygon\",\"coordinates\":[[[2.129975990417203,41.38541468652647],[2.132029490637794,41.38630420336262],[2.132029490637794,41.38808320052814],[2.129975990417203,41.38897268085745],[2.127922490196612,41.38808320052814],[2.127922490196612,41.38630420336262],[2.129975990417203,41.38541468652647]]]}},{\"type\":\"Feature\",\"id\":\"0.03717509402120738,0.7949677732651942\",\"geometry\":{\"type\":\"Polygon\",\"coordinates\":[[[2.129975990417203,41.390751605008894],[2.132029490637794,41.3916410488309],[2.132029490637794,41.39341989996736],[2.129975990417203,41.394309307281695],[2.127922490196612,41.39341989996736],[2.127922490196612,41.3916410488309],[2.129975990417203,41.390751605008894]]]}},{\"type\":\"Feature\",\"id\":\"0.03717509402120738,0.7952160824248317\",\"geometry\":{\"type\":\"Polygon\",\"coordinates\":[[[2.129975990417203,41.401424127696544],[2.132029490637794,41.40231342548522],[2.132029490637794,41.40409198455321],[2.129975990417203,41.40498124583247],[2.127922490196612,41.40409198455321],[2.127922490196612,41.40231342548522],[2.129975990417203,41.401424127696544]]]}},{\"type\":\"Feature\",\"id\":\"0.03724677470128687,0.7942228457862816\",\"geometry\":{\"type\":\"Polygon\",\"coordinates\":[[[2.1340829908583854,41.35872352314324],[2.136136491078976,41.359613405023964],[2.136136491078976,41.36139313228299],[2.1340829908583854,41.3622829776612],[2.132029490637794,41.36139313228299],[2.132029490637794,41.359613405023964],[2.1340829908583854,41.35872352314324]]]}},{\"type\":\"Feature\",\"id\":\"0.03724677470128687,0.7943470003661003\",\"geometry\":{\"type\":\"Polygon\",\"coordinates\":[[[2.1340829908583854,41.36406263191477],[2.136136491078976,41.36495244079003],[2.136136491078976,41.3667320220373],[2.1340829908583854,41.36762179440918],[2.132029490637794,41.3667320220373],[2.132029490637794,41.36495244079003],[2.1340829908583854,41.36406263191477]]]}},{\"type\":\"Feature\",\"id\":\"0.03724677470128687,0.7944711549459191\",\"geometry\":{\"type\":\"Polygon\",\"coordinates\":[[[2.1340829908583854,41.369401302649266],[2.136136491078976,41.37029103851734],[2.136136491078976,41.37207047374936],[2.1340829908583854,41.37296017311321],[2.132029490637794,41.37207047374936],[2.132029490637794,41.37029103851734],[2.1340829908583854,41.369401302649266]]]}},{\"type\":\"Feature\",\"id\":\"0.03724677470128687,0.7945953095257379\",\"geometry\":{\"type\":\"Polygon\",\"coordinates\":[[[2.1340829908583854,41.37473953533631],[2.136136491078976,41.37562919819547],[2.136136491078976,41.377408487408786],[2.1340829908583854,41.378298113762824],[2.132029490637794,41.377408487408786],[2.132029490637794,41.37562919819547],[2.1340829908583854,41.37473953533631]]]}},{\"type\":\"Feature\",\"id\":\"0.03724677470128687,0.7947194641055566\",\"geometry\":{\"type\":\"Polygon\",\"coordinates\":[[[2.1340829908583854,41.380077329965495],[2.136136491078976,41.380966919814014],[2.136136491078976,41.38274606300517],[2.1340829908583854,41.3836356163477],[2.132029490637794,41.38274606300517],[2.132029490637794,41.380966919814014],[2.1340829908583854,41.380077329965495]]]}},{\"type\":\"Feature\",\"id\":\"0.03724677470128687,0.7948436186853753\",\"geometry\":{\"type\":\"Polygon\",\"coordinates\":[[[2.1340829908583854,41.38541468652647],[2.136136491078976,41.38630420336262],[2.136136491078976,41.38808320052814],[2.1340829908583854,41.38897268085745],[2.132029490637794,41.38808320052814],[2.132029490637794,41.38630420336262],[2.1340829908583854,41.38541468652647]]]}},{\"type\":\"Feature\",\"id\":\"0.03724677470128687,0.7949677732651942\",\"geometry\":{\"type\":\"Polygon\",\"coordinates\":[[[2.1340829908583854,41.390751605008894],[2.136136491078976,41.3916410488309],[2.136136491078976,41.39341989996736],[2.1340829908583854,41.394309307281695],[2.132029490637794,41.39341989996736],[2.132029490637794,41.3916410488309],[2.1340829908583854,41.390751605008894]]]}},{\"type\":\"Feature\",\"id\":\"0.03724677470128687,0.7950919278450129\",\"geometry\":{\"type\":\"Polygon\",\"coordinates\":[[[2.1340829908583854,41.39608808540234],[2.136136491078976,41.39697745620856],[2.136136491078976,41.398756161312505],[2.1340829908583854,41.39964549561015],[2.132029490637794,41.398756161312505],[2.132029490637794,41.39697745620856],[2.1340829908583854,41.39608808540234]]]}},{\"type\":\"Feature\",\"id\":\"0.03724677470128687,0.7952160824248317\",\"geometry\":{\"type\":\"Polygon\",\"coordinates\":[[[2.1340829908583854,41.401424127696544],[2.136136491078976,41.40231342548522],[2.136136491078976,41.40409198455321],[2.1340829908583854,41.40498124583247],[2.132029490637794,41.40409198455321],[2.132029490637794,41.40231342548522],[2.1340829908583854,41.401424127696544]]]}},{\"type\":\"Feature\",\"id\":\"0.03731845538136636,0.7942228457862816\",\"geometry\":{\"type\":\"Polygon\",\"coordinates\":[[[2.1381899912995674,41.35872352314324],[2.1402434915201587,41.359613405023964],[2.1402434915201587,41.36139313228299],[2.1381899912995674,41.3622829776612],[2.1361364910789766,41.36139313228299],[2.1361364910789766,41.359613405023964],[2.1381899912995674,41.35872352314324]]]}},{\"type\":\"Feature\",\"id\":\"0.03731845538136636,0.7943470003661003\",\"geometry\":{\"type\":\"Polygon\",\"coordinates\":[[[2.1381899912995674,41.36406263191477],[2.1402434915201587,41.36495244079003],[2.1402434915201587,41.3667320220373],[2.1381899912995674,41.36762179440918],[2.1361364910789766,41.3667320220373],[2.1361364910789766,41.36495244079003],[2.1381899912995674,41.36406263191477]]]}},{\"type\":\"Feature\",\"id\":\"0.03731845538136636,0.7944711549459191\",\"geometry\":{\"type\":\"Polygon\",\"coordinates\":[[[2.1381899912995674,41.369401302649266],[2.1402434915201587,41.37029103851734],[2.1402434915201587,41.37207047374936],[2.1381899912995674,41.37296017311321],[2.1361364910789766,41.37207047374936],[2.1361364910789766,41.37029103851734],[2.1381899912995674,41.369401302649266]]]}},{\"type\":\"Feature\",\"id\":\"0.03731845538136636,0.7945953095257379\",\"geometry\":{\"type\":\"Polygon\",\"coordinates\":[[[2.1381899912995674,41.37473953533631],[2.1402434915201587,41.37562919819547],[2.1402434915201587,41.377408487408786],[2.1381899912995674,41.378298113762824],[2.1361364910789766,41.377408487408786],[2.1361364910789766,41.37562919819547],[2.1381899912995674,41.37473953533631]]]}},{\"type\":\"Feature\",\"id\":\"0.03731845538136636,0.7947194641055566\",\"geometry\":{\"type\":\"Polygon\",\"coordinates\":[[[2.1381899912995674,41.380077329965495],[2.1402434915201587,41.380966919814014],[2.1402434915201587,41.38274606300517],[2.1381899912995674,41.3836356163477],[2.1361364910789766,41.38274606300517],[2.1361364910789766,41.380966919814014],[2.1381899912995674,41.380077329965495]]]}},{\"type\":\"Feature\",\"id\":\"0.03731845538136636,0.7948436186853753\",\"geometry\":{\"type\":\"Polygon\",\"coordinates\":[[[2.1381899912995674,41.38541468652647],[2.1402434915201587,41.38630420336262],[2.1402434915201587,41.38808320052814],[2.1381899912995674,41.38897268085745],[2.1361364910789766,41.38808320052814],[2.1361364910789766,41.38630420336262],[2.1381899912995674,41.38541468652647]]]}},{\"type\":\"Feature\",\"id\":\"0.03731845538136636,0.7949677732651942\",\"geometry\":{\"type\":\"Polygon\",\"coordinates\":[[[2.1381899912995674,41.390751605008894],[2.1402434915201587,41.3916410488309],[2.1402434915201587,41.39341989996736],[2.1381899912995674,41.394309307281695],[2.1361364910789766,41.39341989996736],[2.1361364910789766,41.3916410488309],[2.1381899912995674,41.390751605008894]]]}},{\"type\":\"Feature\",\"id\":\"0.03731845538136636,0.7952160824248317\",\"geometry\":{\"type\":\"Polygon\",\"coordinates\":[[[2.1381899912995674,41.401424127696544],[2.1402434915201587,41.40231342548522],[2.1402434915201587,41.40409198455321],[2.1381899912995674,41.40498124583247],[2.1361364910789766,41.40409198455321],[2.1361364910789766,41.40231342548522],[2.1381899912995674,41.401424127696544]]]}},{\"type\":\"Feature\",\"id\":\"0.03731845538136636,0.7953402370046504\",\"geometry\":{\"type\":\"Polygon\",\"coordinates\":[[[2.1381899912995674,41.40675973188121],[2.1402434915201587,41.4076489566506],[2.1402434915201587,41.40942736967922],[2.1381899912995674,41.41031655793835],[2.1361364910789766,41.40942736967922],[2.1361364910789766,41.4076489566506],[2.1381899912995674,41.40675973188121]]]}},{\"type\":\"Feature\",\"id\":\"0.03731845538136636,0.7954643915844692\",\"geometry\":{\"type\":\"Polygon\",\"coordinates\":[[[2.1381899912995674,41.412094897946005],[2.1402434915201587,41.41298404969442],[2.1402434915201587,41.414762316680246],[2.1381899912995674,41.41565143191752],[2.1361364910789766,41.414762316680246],[2.1361364910789766,41.41298404969442],[2.1381899912995674,41.412094897946005]]]}},{\"type\":\"Feature\",\"id\":\"0.03731845538136636,0.7957127007441067\",\"geometry\":{\"type\":\"Polygon\",\"coordinates\":[[[2.1381899912995674,41.42276391567488],[2.1402434915201587,41.42365292137622],[2.1402434915201587,41.42543089626615],[2.1381899912995674,41.42631986545462],[2.1361364910789766,41.42543089626615],[2.1361364910789766,41.42365292137622],[2.1381899912995674,41.42276391567488]]]}},{\"type\":\"Feature\",\"id\":\"0.037390136061445846,0.7942228457862816\",\"geometry\":{\"type\":\"Polygon\",\"coordinates\":[[[2.1422969917407495,41.35872352314324],[2.1443504919613403,41.359613405023964],[2.1443504919613403,41.36139313228299],[2.1422969917407495,41.3622829776612],[2.1402434915201587,41.36139313228299],[2.1402434915201587,41.359613405023964],[2.1422969917407495,41.35872352314324]]]}},{\"type\":\"Feature\",\"id\":\"0.037390136061445846,0.7943470003661003\",\"geometry\":{\"type\":\"Polygon\",\"coordinates\":[[[2.1422969917407495,41.36406263191477],[2.1443504919613403,41.36495244079003],[2.1443504919613403,41.3667320220373],[2.1422969917407495,41.36762179440918],[2.1402434915201587,41.3667320220373],[2.1402434915201587,41.36495244079003],[2.1422969917407495,41.36406263191477]]]}},{\"type\":\"Feature\",\"id\":\"0.037390136061445846,0.7944711549459191\",\"geometry\":{\"type\":\"Polygon\",\"coordinates\":[[[2.1422969917407495,41.369401302649266],[2.1443504919613403,41.37029103851734],[2.1443504919613403,41.37207047374936],[2.1422969917407495,41.37296017311321],[2.1402434915201587,41.37207047374936],[2.1402434915201587,41.37029103851734],[2.1422969917407495,41.369401302649266]]]}},{\"type\":\"Feature\",\"id\":\"0.037390136061445846,0.7945953095257379\",\"geometry\":{\"type\":\"Polygon\",\"coordinates\":[[[2.1422969917407495,41.37473953533631],[2.1443504919613403,41.37562919819547],[2.1443504919613403,41.377408487408786],[2.1422969917407495,41.378298113762824],[2.1402434915201587,41.377408487408786],[2.1402434915201587,41.37562919819547],[2.1422969917407495,41.37473953533631]]]}},{\"type\":\"Feature\",\"id\":\"0.037390136061445846,0.7947194641055566\",\"geometry\":{\"type\":\"Polygon\",\"coordinates\":[[[2.1422969917407495,41.380077329965495],[2.1443504919613403,41.380966919814014],[2.1443504919613403,41.38274606300517],[2.1422969917407495,41.3836356163477],[2.1402434915201587,41.38274606300517],[2.1402434915201587,41.380966919814014],[2.1422969917407495,41.380077329965495]]]}},{\"type\":\"Feature\",\"id\":\"0.037390136061445846,0.7948436186853753\",\"geometry\":{\"type\":\"Polygon\",\"coordinates\":[[[2.1422969917407495,41.38541468652647],[2.1443504919613403,41.38630420336262],[2.1443504919613403,41.38808320052814],[2.1422969917407495,41.38897268085745],[2.1402434915201587,41.38808320052814],[2.1402434915201587,41.38630420336262],[2.1422969917407495,41.38541468652647]]]}},{\"type\":\"Feature\",\"id\":\"0.037390136061445846,0.7950919278450129\",\"geometry\":{\"type\":\"Polygon\",\"coordinates\":[[[2.1422969917407495,41.39608808540234],[2.1443504919613403,41.39697745620856],[2.1443504919613403,41.398756161312505],[2.1422969917407495,41.39964549561015],[2.1402434915201587,41.398756161312505],[2.1402434915201587,41.39697745620856],[2.1422969917407495,41.39608808540234]]]}},{\"type\":\"Feature\",\"id\":\"0.037390136061445846,0.7952160824248317\",\"geometry\":{\"type\":\"Polygon\",\"coordinates\":[[[2.1422969917407495,41.401424127696544],[2.1443504919613403,41.40231342548522],[2.1443504919613403,41.40409198455321],[2.1422969917407495,41.40498124583247],[2.1402434915201587,41.40409198455321],[2.1402434915201587,41.40231342548522],[2.1422969917407495,41.401424127696544]]]}},{\"type\":\"Feature\",\"id\":\"0.037390136061445846,0.7953402370046504\",\"geometry\":{\"type\":\"Polygon\",\"coordinates\":[[[2.1422969917407495,41.40675973188121],[2.1443504919613403,41.4076489566506],[2.1443504919613403,41.40942736967922],[2.1422969917407495,41.41031655793835],[2.1402434915201587,41.40942736967922],[2.1402434915201587,41.4076489566506],[2.1422969917407495,41.40675973188121]]]}},{\"type\":\"Feature\",\"id\":\"0.037390136061445846,0.7954643915844692\",\"geometry\":{\"type\":\"Polygon\",\"coordinates\":[[[2.1422969917407495,41.412094897946005],[2.1443504919613403,41.41298404969442],[2.1443504919613403,41.414762316680246],[2.1422969917407495,41.41565143191752],[2.1402434915201587,41.414762316680246],[2.1402434915201587,41.41298404969442],[2.1422969917407495,41.412094897946005]]]}},{\"type\":\"Feature\",\"id\":\"0.037390136061445846,0.7959610099037443\",\"geometry\":{\"type\":\"Polygon\",\"coordinates\":[[[2.1422969917407495,41.43343118080115],[2.1443504919613403,41.43432004044856],[2.1443504919613403,41.43609772322898],[2.1422969917407495,41.43698654636185],[2.1402434915201587,41.43609772322898],[2.1402434915201587,41.43432004044856],[2.1422969917407495,41.43343118080115]]]}},{\"type\":\"Feature\",\"id\":\"0.037461816741525336,0.7942228457862816\",\"geometry\":{\"type\":\"Polygon\",\"coordinates\":[[[2.1464039921819316,41.35872352314324],[2.148457492402523,41.359613405023964],[2.148457492402523,41.36139313228299],[2.1464039921819316,41.3622829776612],[2.1443504919613408,41.36139313228299],[2.1443504919613408,41.359613405023964],[2.1464039921819316,41.35872352314324]]]}},{\"type\":\"Feature\",\"id\":\"0.037461816741525336,0.7944711549459191\",\"geometry\":{\"type\":\"Polygon\",\"coordinates\":[[[2.1464039921819316,41.369401302649266],[2.148457492402523,41.37029103851734],[2.148457492402523,41.37207047374936],[2.1464039921819316,41.37296017311321],[2.1443504919613408,41.37207047374936],[2.1443504919613408,41.37029103851734],[2.1464039921819316,41.369401302649266]]]}},{\"type\":\"Feature\",\"id\":\"0.037461816741525336,0.7945953095257379\",\"geometry\":{\"type\":\"Polygon\",\"coordinates\":[[[2.1464039921819316,41.37473953533631],[2.148457492402523,41.37562919819547],[2.148457492402523,41.377408487408786],[2.1464039921819316,41.378298113762824],[2.1443504919613408,41.377408487408786],[2.1443504919613408,41.37562919819547],[2.1464039921819316,41.37473953533631]]]}},{\"type\":\"Feature\",\"id\":\"0.037461816741525336,0.7947194641055566\",\"geometry\":{\"type\":\"Polygon\",\"coordinates\":[[[2.1464039921819316,41.380077329965495],[2.148457492402523,41.380966919814014],[2.148457492402523,41.38274606300517],[2.1464039921819316,41.3836356163477],[2.1443504919613408,41.38274606300517],[2.1443504919613408,41.380966919814014],[2.1464039921819316,41.380077329965495]]]}},{\"type\":\"Feature\",\"id\":\"0.037461816741525336,0.7948436186853753\",\"geometry\":{\"type\":\"Polygon\",\"coordinates\":[[[2.1464039921819316,41.38541468652647],[2.148457492402523,41.38630420336262],[2.148457492402523,41.38808320052814],[2.1464039921819316,41.38897268085745],[2.1443504919613408,41.38808320052814],[2.1443504919613408,41.38630420336262],[2.1464039921819316,41.38541468652647]]]}},{\"type\":\"Feature\",\"id\":\"0.037461816741525336,0.7949677732651942\",\"geometry\":{\"type\":\"Polygon\",\"coordinates\":[[[2.1464039921819316,41.390751605008894],[2.148457492402523,41.3916410488309],[2.148457492402523,41.39341989996736],[2.1464039921819316,41.394309307281695],[2.1443504919613408,41.39341989996736],[2.1443504919613408,41.3916410488309],[2.1464039921819316,41.390751605008894]]]}},{\"type\":\"Feature\",\"id\":\"0.037461816741525336,0.7950919278450129\",\"geometry\":{\"type\":\"Polygon\",\"coordinates\":[[[2.1464039921819316,41.39608808540234],[2.148457492402523,41.39697745620856],[2.148457492402523,41.398756161312505],[2.1464039921819316,41.39964549561015],[2.1443504919613408,41.398756161312505],[2.1443504919613408,41.39697745620856],[2.1464039921819316,41.39608808540234]]]}},{\"type\":\"Feature\",\"id\":\"0.037461816741525336,0.7952160824248317\",\"geometry\":{\"type\":\"Polygon\",\"coordinates\":[[[2.1464039921819316,41.401424127696544],[2.148457492402523,41.40231342548522],[2.148457492402523,41.40409198455321],[2.1464039921819316,41.40498124583247],[2.1443504919613408,41.40409198455321],[2.1443504919613408,41.40231342548522],[2.1464039921819316,41.401424127696544]]]}},{\"type\":\"Feature\",\"id\":\"0.037461816741525336,0.7953402370046504\",\"geometry\":{\"type\":\"Polygon\",\"coordinates\":[[[2.1464039921819316,41.40675973188121],[2.148457492402523,41.4076489566506],[2.148457492402523,41.40942736967922],[2.1464039921819316,41.41031655793835],[2.1443504919613408,41.40942736967922],[2.1443504919613408,41.4076489566506],[2.1464039921819316,41.40675973188121]]]}},{\"type\":\"Feature\",\"id\":\"0.037461816741525336,0.7954643915844692\",\"geometry\":{\"type\":\"Polygon\",\"coordinates\":[[[2.1464039921819316,41.412094897946005],[2.148457492402523,41.41298404969442],[2.148457492402523,41.414762316680246],[2.1464039921819316,41.41565143191752],[2.1443504919613408,41.414762316680246],[2.1443504919613408,41.41298404969442],[2.1464039921819316,41.412094897946005]]]}},{\"type\":\"Feature\",\"id\":\"0.037461816741525336,0.795588546164288\",\"geometry\":{\"type\":\"Polygon\",\"coordinates\":[[[2.1464039921819316,41.41742962588065],[2.148457492402523,41.41831870460638],[2.148457492402523,41.42009682554596],[2.1464039921819316,41.42098586775969],[2.1443504919613408,41.42009682554596],[2.1443504919613408,41.41831870460638],[2.1464039921819316,41.41742962588065]]]}},{\"type\":\"Feature\",\"id\":\"0.037461816741525336,0.7957127007441067\",\"geometry\":{\"type\":\"Polygon\",\"coordinates\":[[[2.1464039921819316,41.42276391567488],[2.148457492402523,41.42365292137622],[2.148457492402523,41.42543089626615],[2.1464039921819316,41.42631986545462],[2.1443504919613408,41.42543089626615],[2.1443504919613408,41.42365292137622],[2.1464039921819316,41.42276391567488]]]}},{\"type\":\"Feature\",\"id\":\"0.037533497421604826,0.7944711549459191\",\"geometry\":{\"type\":\"Polygon\",\"coordinates\":[[[2.150510992623114,41.369401302649266],[2.152564492843705,41.37029103851734],[2.152564492843705,41.37207047374936],[2.150510992623114,41.37296017311321],[2.1484574924025233,41.37207047374936],[2.1484574924025233,41.37029103851734],[2.150510992623114,41.369401302649266]]]}},{\"type\":\"Feature\",\"id\":\"0.037533497421604826,0.7945953095257379\",\"geometry\":{\"type\":\"Polygon\",\"coordinates\":[[[2.150510992623114,41.37473953533631],[2.152564492843705,41.37562919819547],[2.152564492843705,41.377408487408786],[2.150510992623114,41.378298113762824],[2.1484574924025233,41.377408487408786],[2.1484574924025233,41.37562919819547],[2.150510992623114,41.37473953533631]]]}},{\"type\":\"Feature\",\"id\":\"0.037533497421604826,0.7947194641055566\",\"geometry\":{\"type\":\"Polygon\",\"coordinates\":[[[2.150510992623114,41.380077329965495],[2.152564492843705,41.380966919814014],[2.152564492843705,41.38274606300517],[2.150510992623114,41.3836356163477],[2.1484574924025233,41.38274606300517],[2.1484574924025233,41.380966919814014],[2.150510992623114,41.380077329965495]]]}},{\"type\":\"Feature\",\"id\":\"0.037533497421604826,0.7948436186853753\",\"geometry\":{\"type\":\"Polygon\",\"coordinates\":[[[2.150510992623114,41.38541468652647],[2.152564492843705,41.38630420336262],[2.152564492843705,41.38808320052814],[2.150510992623114,41.38897268085745],[2.1484574924025233,41.38808320052814],[2.1484574924025233,41.38630420336262],[2.150510992623114,41.38541468652647]]]}},{\"type\":\"Feature\",\"id\":\"0.037533497421604826,0.7949677732651942\",\"geometry\":{\"type\":\"Polygon\",\"coordinates\":[[[2.150510992623114,41.390751605008894],[2.152564492843705,41.3916410488309],[2.152564492843705,41.39341989996736],[2.150510992623114,41.394309307281695],[2.1484574924025233,41.39341989996736],[2.1484574924025233,41.3916410488309],[2.150510992623114,41.390751605008894]]]}},{\"type\":\"Feature\",\"id\":\"0.037533497421604826,0.7950919278450129\",\"geometry\":{\"type\":\"Polygon\",\"coordinates\":[[[2.150510992623114,41.39608808540234],[2.152564492843705,41.39697745620856],[2.152564492843705,41.398756161312505],[2.150510992623114,41.39964549561015],[2.1484574924025233,41.398756161312505],[2.1484574924025233,41.39697745620856],[2.150510992623114,41.39608808540234]]]}},{\"type\":\"Feature\",\"id\":\"0.037533497421604826,0.7952160824248317\",\"geometry\":{\"type\":\"Polygon\",\"coordinates\":[[[2.150510992623114,41.401424127696544],[2.152564492843705,41.40231342548522],[2.152564492843705,41.40409198455321],[2.150510992623114,41.40498124583247],[2.1484574924025233,41.40409198455321],[2.1484574924025233,41.40231342548522],[2.150510992623114,41.401424127696544]]]}},{\"type\":\"Feature\",\"id\":\"0.037533497421604826,0.7953402370046504\",\"geometry\":{\"type\":\"Polygon\",\"coordinates\":[[[2.150510992623114,41.40675973188121],[2.152564492843705,41.4076489566506],[2.152564492843705,41.40942736967922],[2.150510992623114,41.41031655793835],[2.1484574924025233,41.40942736967922],[2.1484574924025233,41.4076489566506],[2.150510992623114,41.40675973188121]]]}},{\"type\":\"Feature\",\"id\":\"0.037533497421604826,0.7954643915844692\",\"geometry\":{\"type\":\"Polygon\",\"coordinates\":[[[2.150510992623114,41.412094897946005],[2.152564492843705,41.41298404969442],[2.152564492843705,41.414762316680246],[2.150510992623114,41.41565143191752],[2.1484574924025233,41.414762316680246],[2.1484574924025233,41.41298404969442],[2.150510992623114,41.412094897946005]]]}},{\"type\":\"Feature\",\"id\":\"0.037533497421604826,0.795588546164288\",\"geometry\":{\"type\":\"Polygon\",\"coordinates\":[[[2.150510992623114,41.41742962588065],[2.152564492843705,41.41831870460638],[2.152564492843705,41.42009682554596],[2.150510992623114,41.42098586775969],[2.1484574924025233,41.42009682554596],[2.1484574924025233,41.41831870460638],[2.150510992623114,41.41742962588065]]]}},{\"type\":\"Feature\",\"id\":\"0.037533497421604826,0.7957127007441067\",\"geometry\":{\"type\":\"Polygon\",\"coordinates\":[[[2.150510992623114,41.42276391567488],[2.152564492843705,41.42365292137622],[2.152564492843705,41.42543089626615],[2.150510992623114,41.42631986545462],[2.1484574924025233,41.42543089626615],[2.1484574924025233,41.42365292137622],[2.150510992623114,41.42276391567488]]]}},{\"type\":\"Feature\",\"id\":\"0.037533497421604826,0.7958368553239255\",\"geometry\":{\"type\":\"Polygon\",\"coordinates\":[[[2.150510992623114,41.42809776731846],[2.152564492843705,41.42898669999367],[2.152564492843705,41.43076452883055],[2.150510992623114,41.4316534249921],[2.1484574924025233,41.43076452883055],[2.1484574924025233,41.42898669999367],[2.150510992623114,41.42809776731846]]]}},{\"type\":\"Feature\",\"id\":\"0.03760517810168431,0.7944711549459191\",\"geometry\":{\"type\":\"Polygon\",\"coordinates\":[[[2.154617993064296,41.369401302649266],[2.156671493284887,41.37029103851734],[2.156671493284887,41.37207047374936],[2.154617993064296,41.37296017311321],[2.152564492843705,41.37207047374936],[2.152564492843705,41.37029103851734],[2.154617993064296,41.369401302649266]]]}},{\"type\":\"Feature\",\"id\":\"0.03760517810168431,0.7945953095257379\",\"geometry\":{\"type\":\"Polygon\",\"coordinates\":[[[2.154617993064296,41.37473953533631],[2.156671493284887,41.37562919819547],[2.156671493284887,41.377408487408786],[2.154617993064296,41.378298113762824],[2.152564492843705,41.377408487408786],[2.152564492843705,41.37562919819547],[2.154617993064296,41.37473953533631]]]}},{\"type\":\"Feature\",\"id\":\"0.03760517810168431,0.7947194641055566\",\"geometry\":{\"type\":\"Polygon\",\"coordinates\":[[[2.154617993064296,41.380077329965495],[2.156671493284887,41.380966919814014],[2.156671493284887,41.38274606300517],[2.154617993064296,41.3836356163477],[2.152564492843705,41.38274606300517],[2.152564492843705,41.380966919814014],[2.154617993064296,41.380077329965495]]]}},{\"type\":\"Feature\",\"id\":\"0.03760517810168431,0.7948436186853753\",\"geometry\":{\"type\":\"Polygon\",\"coordinates\":[[[2.154617993064296,41.38541468652647],[2.156671493284887,41.38630420336262],[2.156671493284887,41.38808320052814],[2.154617993064296,41.38897268085745],[2.152564492843705,41.38808320052814],[2.152564492843705,41.38630420336262],[2.154617993064296,41.38541468652647]]]}},{\"type\":\"Feature\",\"id\":\"0.03760517810168431,0.7949677732651942\",\"geometry\":{\"type\":\"Polygon\",\"coordinates\":[[[2.154617993064296,41.390751605008894],[2.156671493284887,41.3916410488309],[2.156671493284887,41.39341989996736],[2.154617993064296,41.394309307281695],[2.152564492843705,41.39341989996736],[2.152564492843705,41.3916410488309],[2.154617993064296,41.390751605008894]]]}},{\"type\":\"Feature\",\"id\":\"0.03760517810168431,0.7950919278450129\",\"geometry\":{\"type\":\"Polygon\",\"coordinates\":[[[2.154617993064296,41.39608808540234],[2.156671493284887,41.39697745620856],[2.156671493284887,41.398756161312505],[2.154617993064296,41.39964549561015],[2.152564492843705,41.398756161312505],[2.152564492843705,41.39697745620856],[2.154617993064296,41.39608808540234]]]}},{\"type\":\"Feature\",\"id\":\"0.03760517810168431,0.7952160824248317\",\"geometry\":{\"type\":\"Polygon\",\"coordinates\":[[[2.154617993064296,41.401424127696544],[2.156671493284887,41.40231342548522],[2.156671493284887,41.40409198455321],[2.154617993064296,41.40498124583247],[2.152564492843705,41.40409198455321],[2.152564492843705,41.40231342548522],[2.154617993064296,41.401424127696544]]]}},{\"type\":\"Feature\",\"id\":\"0.03760517810168431,0.7953402370046504\",\"geometry\":{\"type\":\"Polygon\",\"coordinates\":[[[2.154617993064296,41.40675973188121],[2.156671493284887,41.4076489566506],[2.156671493284887,41.40942736967922],[2.154617993064296,41.41031655793835],[2.152564492843705,41.40942736967922],[2.152564492843705,41.4076489566506],[2.154617993064296,41.40675973188121]]]}},{\"type\":\"Feature\",\"id\":\"0.03760517810168431,0.7954643915844692\",\"geometry\":{\"type\":\"Polygon\",\"coordinates\":[[[2.154617993064296,41.412094897946005],[2.156671493284887,41.41298404969442],[2.156671493284887,41.414762316680246],[2.154617993064296,41.41565143191752],[2.152564492843705,41.414762316680246],[2.152564492843705,41.41298404969442],[2.154617993064296,41.412094897946005]]]}},{\"type\":\"Feature\",\"id\":\"0.03760517810168431,0.795588546164288\",\"geometry\":{\"type\":\"Polygon\",\"coordinates\":[[[2.154617993064296,41.41742962588065],[2.156671493284887,41.41831870460638],[2.156671493284887,41.42009682554596],[2.154617993064296,41.42098586775969],[2.152564492843705,41.42009682554596],[2.152564492843705,41.41831870460638],[2.154617993064296,41.41742962588065]]]}},{\"type\":\"Feature\",\"id\":\"0.03760517810168431,0.7957127007441067\",\"geometry\":{\"type\":\"Polygon\",\"coordinates\":[[[2.154617993064296,41.42276391567488],[2.156671493284887,41.42365292137622],[2.156671493284887,41.42543089626615],[2.154617993064296,41.42631986545462],[2.152564492843705,41.42543089626615],[2.152564492843705,41.42365292137622],[2.154617993064296,41.42276391567488]]]}},{\"type\":\"Feature\",\"id\":\"0.03760517810168431,0.7959610099037443\",\"geometry\":{\"type\":\"Polygon\",\"coordinates\":[[[2.154617993064296,41.43343118080115],[2.156671493284887,41.43432004044856],[2.156671493284887,41.43609772322898],[2.154617993064296,41.43698654636185],[2.152564492843705,41.43609772322898],[2.152564492843705,41.43432004044856],[2.154617993064296,41.43343118080115]]]}},{\"type\":\"Feature\",\"id\":\"0.0376768587817638,0.7944711549459191\",\"geometry\":{\"type\":\"Polygon\",\"coordinates\":[[[2.158724993505478,41.369401302649266],[2.160778493726069,41.37029103851734],[2.160778493726069,41.37207047374936],[2.158724993505478,41.37296017311321],[2.1566714932848874,41.37207047374936],[2.1566714932848874,41.37029103851734],[2.158724993505478,41.369401302649266]]]}},{\"type\":\"Feature\",\"id\":\"0.0376768587817638,0.7945953095257379\",\"geometry\":{\"type\":\"Polygon\",\"coordinates\":[[[2.158724993505478,41.37473953533631],[2.160778493726069,41.37562919819547],[2.160778493726069,41.377408487408786],[2.158724993505478,41.378298113762824],[2.1566714932848874,41.377408487408786],[2.1566714932848874,41.37562919819547],[2.158724993505478,41.37473953533631]]]}},{\"type\":\"Feature\",\"id\":\"0.0376768587817638,0.7947194641055566\",\"geometry\":{\"type\":\"Polygon\",\"coordinates\":[[[2.158724993505478,41.380077329965495],[2.160778493726069,41.380966919814014],[2.160778493726069,41.38274606300517],[2.158724993505478,41.3836356163477],[2.1566714932848874,41.38274606300517],[2.1566714932848874,41.380966919814014],[2.158724993505478,41.380077329965495]]]}},{\"type\":\"Feature\",\"id\":\"0.0376768587817638,0.7948436186853753\",\"geometry\":{\"type\":\"Polygon\",\"coordinates\":[[[2.158724993505478,41.38541468652647],[2.160778493726069,41.38630420336262],[2.160778493726069,41.38808320052814],[2.158724993505478,41.38897268085745],[2.1566714932848874,41.38808320052814],[2.1566714932848874,41.38630420336262],[2.158724993505478,41.38541468652647]]]}},{\"type\":\"Feature\",\"id\":\"0.0376768587817638,0.7949677732651942\",\"geometry\":{\"type\":\"Polygon\",\"coordinates\":[[[2.158724993505478,41.390751605008894],[2.160778493726069,41.3916410488309],[2.160778493726069,41.39341989996736],[2.158724993505478,41.394309307281695],[2.1566714932848874,41.39341989996736],[2.1566714932848874,41.3916410488309],[2.158724993505478,41.390751605008894]]]}},{\"type\":\"Feature\",\"id\":\"0.0376768587817638,0.7950919278450129\",\"geometry\":{\"type\":\"Polygon\",\"coordinates\":[[[2.158724993505478,41.39608808540234],[2.160778493726069,41.39697745620856],[2.160778493726069,41.398756161312505],[2.158724993505478,41.39964549561015],[2.1566714932848874,41.398756161312505],[2.1566714932848874,41.39697745620856],[2.158724993505478,41.39608808540234]]]}},{\"type\":\"Feature\",\"id\":\"0.0376768587817638,0.7952160824248317\",\"geometry\":{\"type\":\"Polygon\",\"coordinates\":[[[2.158724993505478,41.401424127696544],[2.160778493726069,41.40231342548522],[2.160778493726069,41.40409198455321],[2.158724993505478,41.40498124583247],[2.1566714932848874,41.40409198455321],[2.1566714932848874,41.40231342548522],[2.158724993505478,41.401424127696544]]]}},{\"type\":\"Feature\",\"id\":\"0.0376768587817638,0.7953402370046504\",\"geometry\":{\"type\":\"Polygon\",\"coordinates\":[[[2.158724993505478,41.40675973188121],[2.160778493726069,41.4076489566506],[2.160778493726069,41.40942736967922],[2.158724993505478,41.41031655793835],[2.1566714932848874,41.40942736967922],[2.1566714932848874,41.4076489566506],[2.158724993505478,41.40675973188121]]]}},{\"type\":\"Feature\",\"id\":\"0.0376768587817638,0.7954643915844692\",\"geometry\":{\"type\":\"Polygon\",\"coordinates\":[[[2.158724993505478,41.412094897946005],[2.160778493726069,41.41298404969442],[2.160778493726069,41.414762316680246],[2.158724993505478,41.41565143191752],[2.1566714932848874,41.414762316680246],[2.1566714932848874,41.41298404969442],[2.158724993505478,41.412094897946005]]]}},{\"type\":\"Feature\",\"id\":\"0.0376768587817638,0.795588546164288\",\"geometry\":{\"type\":\"Polygon\",\"coordinates\":[[[2.158724993505478,41.41742962588065],[2.160778493726069,41.41831870460638],[2.160778493726069,41.42009682554596],[2.158724993505478,41.42098586775969],[2.1566714932848874,41.42009682554596],[2.1566714932848874,41.41831870460638],[2.158724993505478,41.41742962588065]]]}},{\"type\":\"Feature\",\"id\":\"0.0376768587817638,0.7957127007441067\",\"geometry\":{\"type\":\"Polygon\",\"coordinates\":[[[2.158724993505478,41.42276391567488],[2.160778493726069,41.42365292137622],[2.160778493726069,41.42543089626615],[2.158724993505478,41.42631986545462],[2.1566714932848874,41.42543089626615],[2.1566714932848874,41.42365292137622],[2.158724993505478,41.42276391567488]]]}},{\"type\":\"Feature\",\"id\":\"0.0376768587817638,0.7958368553239255\",\"geometry\":{\"type\":\"Polygon\",\"coordinates\":[[[2.158724993505478,41.42809776731846],[2.160778493726069,41.42898669999367],[2.160778493726069,41.43076452883055],[2.158724993505478,41.4316534249921],[2.1566714932848874,41.43076452883055],[2.1566714932848874,41.42898669999367],[2.158724993505478,41.42809776731846]]]}},{\"type\":\"Feature\",\"id\":\"0.0376768587817638,0.7959610099037443\",\"geometry\":{\"type\":\"Polygon\",\"coordinates\":[[[2.158724993505478,41.43343118080115],[2.160778493726069,41.43432004044856],[2.160778493726069,41.43609772322898],[2.158724993505478,41.43698654636185],[2.1566714932848874,41.43609772322898],[2.1566714932848874,41.43432004044856],[2.158724993505478,41.43343118080115]]]}},{\"type\":\"Feature\",\"id\":\"0.03774853946184329,0.7944711549459191\",\"geometry\":{\"type\":\"Polygon\",\"coordinates\":[[[2.1628319939466607,41.369401302649266],[2.164885494167251,41.37029103851734],[2.164885494167251,41.37207047374936],[2.1628319939466607,41.37296017311321],[2.1607784937260694,41.37207047374936],[2.1607784937260694,41.37029103851734],[2.1628319939466607,41.369401302649266]]]}},{\"type\":\"Feature\",\"id\":\"0.03774853946184329,0.7945953095257379\",\"geometry\":{\"type\":\"Polygon\",\"coordinates\":[[[2.1628319939466607,41.37473953533631],[2.164885494167251,41.37562919819547],[2.164885494167251,41.377408487408786],[2.1628319939466607,41.378298113762824],[2.1607784937260694,41.377408487408786],[2.1607784937260694,41.37562919819547],[2.1628319939466607,41.37473953533631]]]}},{\"type\":\"Feature\",\"id\":\"0.03774853946184329,0.7947194641055566\",\"geometry\":{\"type\":\"Polygon\",\"coordinates\":[[[2.1628319939466607,41.380077329965495],[2.164885494167251,41.380966919814014],[2.164885494167251,41.38274606300517],[2.1628319939466607,41.3836356163477],[2.1607784937260694,41.38274606300517],[2.1607784937260694,41.380966919814014],[2.1628319939466607,41.380077329965495]]]}},{\"type\":\"Feature\",\"id\":\"0.03774853946184329,0.7948436186853753\",\"geometry\":{\"type\":\"Polygon\",\"coordinates\":[[[2.1628319939466607,41.38541468652647],[2.164885494167251,41.38630420336262],[2.164885494167251,41.38808320052814],[2.1628319939466607,41.38897268085745],[2.1607784937260694,41.38808320052814],[2.1607784937260694,41.38630420336262],[2.1628319939466607,41.38541468652647]]]}},{\"type\":\"Feature\",\"id\":\"0.03774853946184329,0.7949677732651942\",\"geometry\":{\"type\":\"Polygon\",\"coordinates\":[[[2.1628319939466607,41.390751605008894],[2.164885494167251,41.3916410488309],[2.164885494167251,41.39341989996736],[2.1628319939466607,41.394309307281695],[2.1607784937260694,41.39341989996736],[2.1607784937260694,41.3916410488309],[2.1628319939466607,41.390751605008894]]]}},{\"type\":\"Feature\",\"id\":\"0.03774853946184329,0.7950919278450129\",\"geometry\":{\"type\":\"Polygon\",\"coordinates\":[[[2.1628319939466607,41.39608808540234],[2.164885494167251,41.39697745620856],[2.164885494167251,41.398756161312505],[2.1628319939466607,41.39964549561015],[2.1607784937260694,41.398756161312505],[2.1607784937260694,41.39697745620856],[2.1628319939466607,41.39608808540234]]]}},{\"type\":\"Feature\",\"id\":\"0.03774853946184329,0.7952160824248317\",\"geometry\":{\"type\":\"Polygon\",\"coordinates\":[[[2.1628319939466607,41.401424127696544],[2.164885494167251,41.40231342548522],[2.164885494167251,41.40409198455321],[2.1628319939466607,41.40498124583247],[2.1607784937260694,41.40409198455321],[2.1607784937260694,41.40231342548522],[2.1628319939466607,41.401424127696544]]]}},{\"type\":\"Feature\",\"id\":\"0.03774853946184329,0.7953402370046504\",\"geometry\":{\"type\":\"Polygon\",\"coordinates\":[[[2.1628319939466607,41.40675973188121],[2.164885494167251,41.4076489566506],[2.164885494167251,41.40942736967922],[2.1628319939466607,41.41031655793835],[2.1607784937260694,41.40942736967922],[2.1607784937260694,41.4076489566506],[2.1628319939466607,41.40675973188121]]]}},{\"type\":\"Feature\",\"id\":\"0.03774853946184329,0.7954643915844692\",\"geometry\":{\"type\":\"Polygon\",\"coordinates\":[[[2.1628319939466607,41.412094897946005],[2.164885494167251,41.41298404969442],[2.164885494167251,41.414762316680246],[2.1628319939466607,41.41565143191752],[2.1607784937260694,41.414762316680246],[2.1607784937260694,41.41298404969442],[2.1628319939466607,41.412094897946005]]]}},{\"type\":\"Feature\",\"id\":\"0.03774853946184329,0.795588546164288\",\"geometry\":{\"type\":\"Polygon\",\"coordinates\":[[[2.1628319939466607,41.41742962588065],[2.164885494167251,41.41831870460638],[2.164885494167251,41.42009682554596],[2.1628319939466607,41.42098586775969],[2.1607784937260694,41.42009682554596],[2.1607784937260694,41.41831870460638],[2.1628319939466607,41.41742962588065]]]}},{\"type\":\"Feature\",\"id\":\"0.03774853946184329,0.7958368553239255\",\"geometry\":{\"type\":\"Polygon\",\"coordinates\":[[[2.1628319939466607,41.42809776731846],[2.164885494167251,41.42898669999367],[2.164885494167251,41.43076452883055],[2.1628319939466607,41.4316534249921],[2.1607784937260694,41.43076452883055],[2.1607784937260694,41.42898669999367],[2.1628319939466607,41.42809776731846]]]}},{\"type\":\"Feature\",\"id\":\"0.03774853946184329,0.7959610099037443\",\"geometry\":{\"type\":\"Polygon\",\"coordinates\":[[[2.1628319939466607,41.43343118080115],[2.164885494167251,41.43432004044856],[2.164885494167251,41.43609772322898],[2.1628319939466607,41.43698654636185],[2.1607784937260694,41.43609772322898],[2.1607784937260694,41.43432004044856],[2.1628319939466607,41.43343118080115]]]}},{\"type\":\"Feature\",\"id\":\"0.037820220141922774,0.7944711549459191\",\"geometry\":{\"type\":\"Polygon\",\"coordinates\":[[[2.1669389943878423,41.369401302649266],[2.168992494608433,41.37029103851734],[2.168992494608433,41.37207047374936],[2.1669389943878423,41.37296017311321],[2.164885494167251,41.37207047374936],[2.164885494167251,41.37029103851734],[2.1669389943878423,41.369401302649266]]]}},{\"type\":\"Feature\",\"id\":\"0.037820220141922774,0.7945953095257379\",\"geometry\":{\"type\":\"Polygon\",\"coordinates\":[[[2.1669389943878423,41.37473953533631],[2.168992494608433,41.37562919819547],[2.168992494608433,41.377408487408786],[2.1669389943878423,41.378298113762824],[2.164885494167251,41.377408487408786],[2.164885494167251,41.37562919819547],[2.1669389943878423,41.37473953533631]]]}},{\"type\":\"Feature\",\"id\":\"0.037820220141922774,0.7947194641055566\",\"geometry\":{\"type\":\"Polygon\",\"coordinates\":[[[2.1669389943878423,41.380077329965495],[2.168992494608433,41.380966919814014],[2.168992494608433,41.38274606300517],[2.1669389943878423,41.3836356163477],[2.164885494167251,41.38274606300517],[2.164885494167251,41.380966919814014],[2.1669389943878423,41.380077329965495]]]}},{\"type\":\"Feature\",\"id\":\"0.037820220141922774,0.7948436186853753\",\"geometry\":{\"type\":\"Polygon\",\"coordinates\":[[[2.1669389943878423,41.38541468652647],[2.168992494608433,41.38630420336262],[2.168992494608433,41.38808320052814],[2.1669389943878423,41.38897268085745],[2.164885494167251,41.38808320052814],[2.164885494167251,41.38630420336262],[2.1669389943878423,41.38541468652647]]]}},{\"type\":\"Feature\",\"id\":\"0.037820220141922774,0.7949677732651942\",\"geometry\":{\"type\":\"Polygon\",\"coordinates\":[[[2.1669389943878423,41.390751605008894],[2.168992494608433,41.3916410488309],[2.168992494608433,41.39341989996736],[2.1669389943878423,41.394309307281695],[2.164885494167251,41.39341989996736],[2.164885494167251,41.3916410488309],[2.1669389943878423,41.390751605008894]]]}},{\"type\":\"Feature\",\"id\":\"0.037820220141922774,0.7950919278450129\",\"geometry\":{\"type\":\"Polygon\",\"coordinates\":[[[2.1669389943878423,41.39608808540234],[2.168992494608433,41.39697745620856],[2.168992494608433,41.398756161312505],[2.1669389943878423,41.39964549561015],[2.164885494167251,41.398756161312505],[2.164885494167251,41.39697745620856],[2.1669389943878423,41.39608808540234]]]}},{\"type\":\"Feature\",\"id\":\"0.037820220141922774,0.7952160824248317\",\"geometry\":{\"type\":\"Polygon\",\"coordinates\":[[[2.1669389943878423,41.401424127696544],[2.168992494608433,41.40231342548522],[2.168992494608433,41.40409198455321],[2.1669389943878423,41.40498124583247],[2.164885494167251,41.40409198455321],[2.164885494167251,41.40231342548522],[2.1669389943878423,41.401424127696544]]]}},{\"type\":\"Feature\",\"id\":\"0.037820220141922774,0.7953402370046504\",\"geometry\":{\"type\":\"Polygon\",\"coordinates\":[[[2.1669389943878423,41.40675973188121],[2.168992494608433,41.4076489566506],[2.168992494608433,41.40942736967922],[2.1669389943878423,41.41031655793835],[2.164885494167251,41.40942736967922],[2.164885494167251,41.4076489566506],[2.1669389943878423,41.40675973188121]]]}},{\"type\":\"Feature\",\"id\":\"0.037820220141922774,0.7954643915844692\",\"geometry\":{\"type\":\"Polygon\",\"coordinates\":[[[2.1669389943878423,41.412094897946005],[2.168992494608433,41.41298404969442],[2.168992494608433,41.414762316680246],[2.1669389943878423,41.41565143191752],[2.164885494167251,41.414762316680246],[2.164885494167251,41.41298404969442],[2.1669389943878423,41.412094897946005]]]}},{\"type\":\"Feature\",\"id\":\"0.037820220141922774,0.7957127007441067\",\"geometry\":{\"type\":\"Polygon\",\"coordinates\":[[[2.1669389943878423,41.42276391567488],[2.168992494608433,41.42365292137622],[2.168992494608433,41.42543089626615],[2.1669389943878423,41.42631986545462],[2.164885494167251,41.42543089626615],[2.164885494167251,41.42365292137622],[2.1669389943878423,41.42276391567488]]]}},{\"type\":\"Feature\",\"id\":\"0.037820220141922774,0.7958368553239255\",\"geometry\":{\"type\":\"Polygon\",\"coordinates\":[[[2.1669389943878423,41.42809776731846],[2.168992494608433,41.42898669999367],[2.168992494608433,41.43076452883055],[2.1669389943878423,41.4316534249921],[2.164885494167251,41.43076452883055],[2.164885494167251,41.42898669999367],[2.1669389943878423,41.42809776731846]]]}},{\"type\":\"Feature\",\"id\":\"0.037820220141922774,0.7962093190633818\",\"geometry\":{\"type\":\"Polygon\",\"coordinates\":[[[2.1669389943878423,41.44409669324301],[2.168992494608433,41.44498540682972],[2.168992494608433,41.446762797487],[2.1669389943878423,41.44765147455745],[2.164885494167251,41.446762797487],[2.164885494167251,41.44498540682972],[2.1669389943878423,41.44409669324301]]]}},{\"type\":\"Feature\",\"id\":\"0.037891900822002264,0.7944711549459191\",\"geometry\":{\"type\":\"Polygon\",\"coordinates\":[[[2.1710459948290244,41.369401302649266],[2.1730994950496156,41.37029103851734],[2.1730994950496156,41.37207047374936],[2.1710459948290244,41.37296017311321],[2.1689924946084336,41.37207047374936],[2.1689924946084336,41.37029103851734],[2.1710459948290244,41.369401302649266]]]}},{\"type\":\"Feature\",\"id\":\"0.037891900822002264,0.7945953095257379\",\"geometry\":{\"type\":\"Polygon\",\"coordinates\":[[[2.1710459948290244,41.37473953533631],[2.1730994950496156,41.37562919819547],[2.1730994950496156,41.377408487408786],[2.1710459948290244,41.378298113762824],[2.1689924946084336,41.377408487408786],[2.1689924946084336,41.37562919819547],[2.1710459948290244,41.37473953533631]]]}},{\"type\":\"Feature\",\"id\":\"0.037891900822002264,0.7947194641055566\",\"geometry\":{\"type\":\"Polygon\",\"coordinates\":[[[2.1710459948290244,41.380077329965495],[2.1730994950496156,41.380966919814014],[2.1730994950496156,41.38274606300517],[2.1710459948290244,41.3836356163477],[2.1689924946084336,41.38274606300517],[2.1689924946084336,41.380966919814014],[2.1710459948290244,41.380077329965495]]]}},{\"type\":\"Feature\",\"id\":\"0.037891900822002264,0.7948436186853753\",\"geometry\":{\"type\":\"Polygon\",\"coordinates\":[[[2.1710459948290244,41.38541468652647],[2.1730994950496156,41.38630420336262],[2.1730994950496156,41.38808320052814],[2.1710459948290244,41.38897268085745],[2.1689924946084336,41.38808320052814],[2.1689924946084336,41.38630420336262],[2.1710459948290244,41.38541468652647]]]}},{\"type\":\"Feature\",\"id\":\"0.037891900822002264,0.7949677732651942\",\"geometry\":{\"type\":\"Polygon\",\"coordinates\":[[[2.1710459948290244,41.390751605008894],[2.1730994950496156,41.3916410488309],[2.1730994950496156,41.39341989996736],[2.1710459948290244,41.394309307281695],[2.1689924946084336,41.39341989996736],[2.1689924946084336,41.3916410488309],[2.1710459948290244,41.390751605008894]]]}},{\"type\":\"Feature\",\"id\":\"0.037891900822002264,0.7950919278450129\",\"geometry\":{\"type\":\"Polygon\",\"coordinates\":[[[2.1710459948290244,41.39608808540234],[2.1730994950496156,41.39697745620856],[2.1730994950496156,41.398756161312505],[2.1710459948290244,41.39964549561015],[2.1689924946084336,41.398756161312505],[2.1689924946084336,41.39697745620856],[2.1710459948290244,41.39608808540234]]]}},{\"type\":\"Feature\",\"id\":\"0.037891900822002264,0.7952160824248317\",\"geometry\":{\"type\":\"Polygon\",\"coordinates\":[[[2.1710459948290244,41.401424127696544],[2.1730994950496156,41.40231342548522],[2.1730994950496156,41.40409198455321],[2.1710459948290244,41.40498124583247],[2.1689924946084336,41.40409198455321],[2.1689924946084336,41.40231342548522],[2.1710459948290244,41.401424127696544]]]}},{\"type\":\"Feature\",\"id\":\"0.037891900822002264,0.7953402370046504\",\"geometry\":{\"type\":\"Polygon\",\"coordinates\":[[[2.1710459948290244,41.40675973188121],[2.1730994950496156,41.4076489566506],[2.1730994950496156,41.40942736967922],[2.1710459948290244,41.41031655793835],[2.1689924946084336,41.40942736967922],[2.1689924946084336,41.4076489566506],[2.1710459948290244,41.40675973188121]]]}},{\"type\":\"Feature\",\"id\":\"0.037891900822002264,0.7954643915844692\",\"geometry\":{\"type\":\"Polygon\",\"coordinates\":[[[2.1710459948290244,41.412094897946005],[2.1730994950496156,41.41298404969442],[2.1730994950496156,41.414762316680246],[2.1710459948290244,41.41565143191752],[2.1689924946084336,41.414762316680246],[2.1689924946084336,41.41298404969442],[2.1710459948290244,41.412094897946005]]]}},{\"type\":\"Feature\",\"id\":\"0.037891900822002264,0.795588546164288\",\"geometry\":{\"type\":\"Polygon\",\"coordinates\":[[[2.1710459948290244,41.41742962588065],[2.1730994950496156,41.41831870460638],[2.1730994950496156,41.42009682554596],[2.1710459948290244,41.42098586775969],[2.1689924946084336,41.42009682554596],[2.1689924946084336,41.41831870460638],[2.1710459948290244,41.41742962588065]]]}},{\"type\":\"Feature\",\"id\":\"0.037891900822002264,0.7957127007441067\",\"geometry\":{\"type\":\"Polygon\",\"coordinates\":[[[2.1710459948290244,41.42276391567488],[2.1730994950496156,41.42365292137622],[2.1730994950496156,41.42543089626615],[2.1710459948290244,41.42631986545462],[2.1689924946084336,41.42543089626615],[2.1689924946084336,41.42365292137622],[2.1710459948290244,41.42276391567488]]]}},{\"type\":\"Feature\",\"id\":\"0.037891900822002264,0.7958368553239255\",\"geometry\":{\"type\":\"Polygon\",\"coordinates\":[[[2.1710459948290244,41.42809776731846],[2.1730994950496156,41.42898669999367],[2.1730994950496156,41.43076452883055],[2.1710459948290244,41.4316534249921],[2.1689924946084336,41.43076452883055],[2.1689924946084336,41.42898669999367],[2.1710459948290244,41.42809776731846]]]}},{\"type\":\"Feature\",\"id\":\"0.037891900822002264,0.7959610099037443\",\"geometry\":{\"type\":\"Polygon\",\"coordinates\":[[[2.1710459948290244,41.43343118080115],[2.1730994950496156,41.43432004044856],[2.1730994950496156,41.43609772322898],[2.1710459948290244,41.43698654636185],[2.1689924946084336,41.43609772322898],[2.1689924946084336,41.43432004044856],[2.1710459948290244,41.43343118080115]]]}},{\"type\":\"Feature\",\"id\":\"0.037891900822002264,0.796085164483563\",\"geometry\":{\"type\":\"Polygon\",\"coordinates\":[[[2.1710459948290244,41.43876415611273],[2.1730994950496156,41.439652942730646],[2.1730994950496156,41.441430479451185],[2.1710459948290244,41.4423192295537],[2.1689924946084336,41.441430479451185],[2.1689924946084336,41.439652942730646],[2.1710459948290244,41.43876415611273]]]}},{\"type\":\"Feature\",\"id\":\"0.037891900822002264,0.7962093190633818\",\"geometry\":{\"type\":\"Polygon\",\"coordinates\":[[[2.1710459948290244,41.44409669324301],[2.1730994950496156,41.44498540682972],[2.1730994950496156,41.446762797487],[2.1710459948290244,41.44765147455745],[2.1689924946084336,41.446762797487],[2.1689924946084336,41.44498540682972],[2.1710459948290244,41.44409669324301]]]}},{\"type\":\"Feature\",\"id\":\"0.037963581502081754,0.7945953095257379\",\"geometry\":{\"type\":\"Polygon\",\"coordinates\":[[[2.175152995270207,41.37473953533631],[2.1772064954907977,41.37562919819547],[2.1772064954907977,41.377408487408786],[2.175152995270207,41.378298113762824],[2.1730994950496156,41.377408487408786],[2.1730994950496156,41.37562919819547],[2.175152995270207,41.37473953533631]]]}},{\"type\":\"Feature\",\"id\":\"0.037963581502081754,0.7947194641055566\",\"geometry\":{\"type\":\"Polygon\",\"coordinates\":[[[2.175152995270207,41.380077329965495],[2.1772064954907977,41.380966919814014],[2.1772064954907977,41.38274606300517],[2.175152995270207,41.3836356163477],[2.1730994950496156,41.38274606300517],[2.1730994950496156,41.380966919814014],[2.175152995270207,41.380077329965495]]]}},{\"type\":\"Feature\",\"id\":\"0.037963581502081754,0.7948436186853753\",\"geometry\":{\"type\":\"Polygon\",\"coordinates\":[[[2.175152995270207,41.38541468652647],[2.1772064954907977,41.38630420336262],[2.1772064954907977,41.38808320052814],[2.175152995270207,41.38897268085745],[2.1730994950496156,41.38808320052814],[2.1730994950496156,41.38630420336262],[2.175152995270207,41.38541468652647]]]}},{\"type\":\"Feature\",\"id\":\"0.037963581502081754,0.7949677732651942\",\"geometry\":{\"type\":\"Polygon\",\"coordinates\":[[[2.175152995270207,41.390751605008894],[2.1772064954907977,41.3916410488309],[2.1772064954907977,41.39341989996736],[2.175152995270207,41.394309307281695],[2.1730994950496156,41.39341989996736],[2.1730994950496156,41.3916410488309],[2.175152995270207,41.390751605008894]]]}},{\"type\":\"Feature\",\"id\":\"0.037963581502081754,0.7950919278450129\",\"geometry\":{\"type\":\"Polygon\",\"coordinates\":[[[2.175152995270207,41.39608808540234],[2.1772064954907977,41.39697745620856],[2.1772064954907977,41.398756161312505],[2.175152995270207,41.39964549561015],[2.1730994950496156,41.398756161312505],[2.1730994950496156,41.39697745620856],[2.175152995270207,41.39608808540234]]]}},{\"type\":\"Feature\",\"id\":\"0.037963581502081754,0.7952160824248317\",\"geometry\":{\"type\":\"Polygon\",\"coordinates\":[[[2.175152995270207,41.401424127696544],[2.1772064954907977,41.40231342548522],[2.1772064954907977,41.40409198455321],[2.175152995270207,41.40498124583247],[2.1730994950496156,41.40409198455321],[2.1730994950496156,41.40231342548522],[2.175152995270207,41.401424127696544]]]}},{\"type\":\"Feature\",\"id\":\"0.037963581502081754,0.7953402370046504\",\"geometry\":{\"type\":\"Polygon\",\"coordinates\":[[[2.175152995270207,41.40675973188121],[2.1772064954907977,41.4076489566506],[2.1772064954907977,41.40942736967922],[2.175152995270207,41.41031655793835],[2.1730994950496156,41.40942736967922],[2.1730994950496156,41.4076489566506],[2.175152995270207,41.40675973188121]]]}},{\"type\":\"Feature\",\"id\":\"0.037963581502081754,0.7954643915844692\",\"geometry\":{\"type\":\"Polygon\",\"coordinates\":[[[2.175152995270207,41.412094897946005],[2.1772064954907977,41.41298404969442],[2.1772064954907977,41.414762316680246],[2.175152995270207,41.41565143191752],[2.1730994950496156,41.414762316680246],[2.1730994950496156,41.41298404969442],[2.175152995270207,41.412094897946005]]]}},{\"type\":\"Feature\",\"id\":\"0.037963581502081754,0.795588546164288\",\"geometry\":{\"type\":\"Polygon\",\"coordinates\":[[[2.175152995270207,41.41742962588065],[2.1772064954907977,41.41831870460638],[2.1772064954907977,41.42009682554596],[2.175152995270207,41.42098586775969],[2.1730994950496156,41.42009682554596],[2.1730994950496156,41.41831870460638],[2.175152995270207,41.41742962588065]]]}},{\"type\":\"Feature\",\"id\":\"0.037963581502081754,0.7957127007441067\",\"geometry\":{\"type\":\"Polygon\",\"coordinates\":[[[2.175152995270207,41.42276391567488],[2.1772064954907977,41.42365292137622],[2.1772064954907977,41.42543089626615],[2.175152995270207,41.42631986545462],[2.1730994950496156,41.42543089626615],[2.1730994950496156,41.42365292137622],[2.175152995270207,41.42276391567488]]]}},{\"type\":\"Feature\",\"id\":\"0.037963581502081754,0.7958368553239255\",\"geometry\":{\"type\":\"Polygon\",\"coordinates\":[[[2.175152995270207,41.42809776731846],[2.1772064954907977,41.42898669999367],[2.1772064954907977,41.43076452883055],[2.175152995270207,41.4316534249921],[2.1730994950496156,41.43076452883055],[2.1730994950496156,41.42898669999367],[2.175152995270207,41.42809776731846]]]}},{\"type\":\"Feature\",\"id\":\"0.037963581502081754,0.7959610099037443\",\"geometry\":{\"type\":\"Polygon\",\"coordinates\":[[[2.175152995270207,41.43343118080115],[2.1772064954907977,41.43432004044856],[2.1772064954907977,41.43609772322898],[2.175152995270207,41.43698654636185],[2.1730994950496156,41.43609772322898],[2.1730994950496156,41.43432004044856],[2.175152995270207,41.43343118080115]]]}},{\"type\":\"Feature\",\"id\":\"0.037963581502081754,0.796085164483563\",\"geometry\":{\"type\":\"Polygon\",\"coordinates\":[[[2.175152995270207,41.43876415611273],[2.1772064954907977,41.439652942730646],[2.1772064954907977,41.441430479451185],[2.175152995270207,41.4423192295537],[2.1730994950496156,41.441430479451185],[2.1730994950496156,41.439652942730646],[2.175152995270207,41.43876415611273]]]}},{\"type\":\"Feature\",\"id\":\"0.037963581502081754,0.7962093190633818\",\"geometry\":{\"type\":\"Polygon\",\"coordinates\":[[[2.175152995270207,41.44409669324301],[2.1772064954907977,41.44498540682972],[2.1772064954907977,41.446762797487],[2.175152995270207,41.44765147455745],[2.1730994950496156,41.446762797487],[2.1730994950496156,41.44498540682972],[2.175152995270207,41.44409669324301]]]}},{\"type\":\"Feature\",\"id\":\"0.03803526218216124,0.7945953095257379\",\"geometry\":{\"type\":\"Polygon\",\"coordinates\":[[[2.1792599957113885,41.37473953533631],[2.1813134959319798,41.37562919819547],[2.1813134959319798,41.377408487408786],[2.1792599957113885,41.378298113762824],[2.1772064954907977,41.377408487408786],[2.1772064954907977,41.37562919819547],[2.1792599957113885,41.37473953533631]]]}},{\"type\":\"Feature\",\"id\":\"0.03803526218216124,0.7947194641055566\",\"geometry\":{\"type\":\"Polygon\",\"coordinates\":[[[2.1792599957113885,41.380077329965495],[2.1813134959319798,41.380966919814014],[2.1813134959319798,41.38274606300517],[2.1792599957113885,41.3836356163477],[2.1772064954907977,41.38274606300517],[2.1772064954907977,41.380966919814014],[2.1792599957113885,41.380077329965495]]]}},{\"type\":\"Feature\",\"id\":\"0.03803526218216124,0.7948436186853753\",\"geometry\":{\"type\":\"Polygon\",\"coordinates\":[[[2.1792599957113885,41.38541468652647],[2.1813134959319798,41.38630420336262],[2.1813134959319798,41.38808320052814],[2.1792599957113885,41.38897268085745],[2.1772064954907977,41.38808320052814],[2.1772064954907977,41.38630420336262],[2.1792599957113885,41.38541468652647]]]}},{\"type\":\"Feature\",\"id\":\"0.03803526218216124,0.7949677732651942\",\"geometry\":{\"type\":\"Polygon\",\"coordinates\":[[[2.1792599957113885,41.390751605008894],[2.1813134959319798,41.3916410488309],[2.1813134959319798,41.39341989996736],[2.1792599957113885,41.394309307281695],[2.1772064954907977,41.39341989996736],[2.1772064954907977,41.3916410488309],[2.1792599957113885,41.390751605008894]]]}},{\"type\":\"Feature\",\"id\":\"0.03803526218216124,0.7950919278450129\",\"geometry\":{\"type\":\"Polygon\",\"coordinates\":[[[2.1792599957113885,41.39608808540234],[2.1813134959319798,41.39697745620856],[2.1813134959319798,41.398756161312505],[2.1792599957113885,41.39964549561015],[2.1772064954907977,41.398756161312505],[2.1772064954907977,41.39697745620856],[2.1792599957113885,41.39608808540234]]]}},{\"type\":\"Feature\",\"id\":\"0.03803526218216124,0.7952160824248317\",\"geometry\":{\"type\":\"Polygon\",\"coordinates\":[[[2.1792599957113885,41.401424127696544],[2.1813134959319798,41.40231342548522],[2.1813134959319798,41.40409198455321],[2.1792599957113885,41.40498124583247],[2.1772064954907977,41.40409198455321],[2.1772064954907977,41.40231342548522],[2.1792599957113885,41.401424127696544]]]}},{\"type\":\"Feature\",\"id\":\"0.03803526218216124,0.7953402370046504\",\"geometry\":{\"type\":\"Polygon\",\"coordinates\":[[[2.1792599957113885,41.40675973188121],[2.1813134959319798,41.4076489566506],[2.1813134959319798,41.40942736967922],[2.1792599957113885,41.41031655793835],[2.1772064954907977,41.40942736967922],[2.1772064954907977,41.4076489566506],[2.1792599957113885,41.40675973188121]]]}},{\"type\":\"Feature\",\"id\":\"0.03803526218216124,0.7954643915844692\",\"geometry\":{\"type\":\"Polygon\",\"coordinates\":[[[2.1792599957113885,41.412094897946005],[2.1813134959319798,41.41298404969442],[2.1813134959319798,41.414762316680246],[2.1792599957113885,41.41565143191752],[2.1772064954907977,41.414762316680246],[2.1772064954907977,41.41298404969442],[2.1792599957113885,41.412094897946005]]]}},{\"type\":\"Feature\",\"id\":\"0.03803526218216124,0.795588546164288\",\"geometry\":{\"type\":\"Polygon\",\"coordinates\":[[[2.1792599957113885,41.41742962588065],[2.1813134959319798,41.41831870460638],[2.1813134959319798,41.42009682554596],[2.1792599957113885,41.42098586775969],[2.1772064954907977,41.42009682554596],[2.1772064954907977,41.41831870460638],[2.1792599957113885,41.41742962588065]]]}},{\"type\":\"Feature\",\"id\":\"0.03803526218216124,0.7957127007441067\",\"geometry\":{\"type\":\"Polygon\",\"coordinates\":[[[2.1792599957113885,41.42276391567488],[2.1813134959319798,41.42365292137622],[2.1813134959319798,41.42543089626615],[2.1792599957113885,41.42631986545462],[2.1772064954907977,41.42543089626615],[2.1772064954907977,41.42365292137622],[2.1792599957113885,41.42276391567488]]]}},{\"type\":\"Feature\",\"id\":\"0.03803526218216124,0.7958368553239255\",\"geometry\":{\"type\":\"Polygon\",\"coordinates\":[[[2.1792599957113885,41.42809776731846],[2.1813134959319798,41.42898669999367],[2.1813134959319798,41.43076452883055],[2.1792599957113885,41.4316534249921],[2.1772064954907977,41.43076452883055],[2.1772064954907977,41.42898669999367],[2.1792599957113885,41.42809776731846]]]}},{\"type\":\"Feature\",\"id\":\"0.03803526218216124,0.796085164483563\",\"geometry\":{\"type\":\"Polygon\",\"coordinates\":[[[2.1792599957113885,41.43876415611273],[2.1813134959319798,41.439652942730646],[2.1813134959319798,41.441430479451185],[2.1792599957113885,41.4423192295537],[2.1772064954907977,41.441430479451185],[2.1772064954907977,41.439652942730646],[2.1792599957113885,41.43876415611273]]]}},{\"type\":\"Feature\",\"id\":\"0.03803526218216124,0.7962093190633818\",\"geometry\":{\"type\":\"Polygon\",\"coordinates\":[[[2.1792599957113885,41.44409669324301],[2.1813134959319798,41.44498540682972],[2.1813134959319798,41.446762797487],[2.1792599957113885,41.44765147455745],[2.1772064954907977,41.446762797487],[2.1772064954907977,41.44498540682972],[2.1792599957113885,41.44409669324301]]]}},{\"type\":\"Feature\",\"id\":\"0.03810694286224073,0.7945953095257379\",\"geometry\":{\"type\":\"Polygon\",\"coordinates\":[[[2.183366996152571,41.37473953533631],[2.185420496373162,41.37562919819547],[2.185420496373162,41.377408487408786],[2.183366996152571,41.378298113762824],[2.18131349593198,41.377408487408786],[2.18131349593198,41.37562919819547],[2.183366996152571,41.37473953533631]]]}},{\"type\":\"Feature\",\"id\":\"0.03810694286224073,0.7947194641055566\",\"geometry\":{\"type\":\"Polygon\",\"coordinates\":[[[2.183366996152571,41.380077329965495],[2.185420496373162,41.380966919814014],[2.185420496373162,41.38274606300517],[2.183366996152571,41.3836356163477],[2.18131349593198,41.38274606300517],[2.18131349593198,41.380966919814014],[2.183366996152571,41.380077329965495]]]}},{\"type\":\"Feature\",\"id\":\"0.03810694286224073,0.7948436186853753\",\"geometry\":{\"type\":\"Polygon\",\"coordinates\":[[[2.183366996152571,41.38541468652647],[2.185420496373162,41.38630420336262],[2.185420496373162,41.38808320052814],[2.183366996152571,41.38897268085745],[2.18131349593198,41.38808320052814],[2.18131349593198,41.38630420336262],[2.183366996152571,41.38541468652647]]]}},{\"type\":\"Feature\",\"id\":\"0.03810694286224073,0.7949677732651942\",\"geometry\":{\"type\":\"Polygon\",\"coordinates\":[[[2.183366996152571,41.390751605008894],[2.185420496373162,41.3916410488309],[2.185420496373162,41.39341989996736],[2.183366996152571,41.394309307281695],[2.18131349593198,41.39341989996736],[2.18131349593198,41.3916410488309],[2.183366996152571,41.390751605008894]]]}},{\"type\":\"Feature\",\"id\":\"0.03810694286224073,0.7950919278450129\",\"geometry\":{\"type\":\"Polygon\",\"coordinates\":[[[2.183366996152571,41.39608808540234],[2.185420496373162,41.39697745620856],[2.185420496373162,41.398756161312505],[2.183366996152571,41.39964549561015],[2.18131349593198,41.398756161312505],[2.18131349593198,41.39697745620856],[2.183366996152571,41.39608808540234]]]}},{\"type\":\"Feature\",\"id\":\"0.03810694286224073,0.7952160824248317\",\"geometry\":{\"type\":\"Polygon\",\"coordinates\":[[[2.183366996152571,41.401424127696544],[2.185420496373162,41.40231342548522],[2.185420496373162,41.40409198455321],[2.183366996152571,41.40498124583247],[2.18131349593198,41.40409198455321],[2.18131349593198,41.40231342548522],[2.183366996152571,41.401424127696544]]]}},{\"type\":\"Feature\",\"id\":\"0.03810694286224073,0.7953402370046504\",\"geometry\":{\"type\":\"Polygon\",\"coordinates\":[[[2.183366996152571,41.40675973188121],[2.185420496373162,41.4076489566506],[2.185420496373162,41.40942736967922],[2.183366996152571,41.41031655793835],[2.18131349593198,41.40942736967922],[2.18131349593198,41.4076489566506],[2.183366996152571,41.40675973188121]]]}},{\"type\":\"Feature\",\"id\":\"0.03810694286224073,0.7954643915844692\",\"geometry\":{\"type\":\"Polygon\",\"coordinates\":[[[2.183366996152571,41.412094897946005],[2.185420496373162,41.41298404969442],[2.185420496373162,41.414762316680246],[2.183366996152571,41.41565143191752],[2.18131349593198,41.414762316680246],[2.18131349593198,41.41298404969442],[2.183366996152571,41.412094897946005]]]}},{\"type\":\"Feature\",\"id\":\"0.03810694286224073,0.795588546164288\",\"geometry\":{\"type\":\"Polygon\",\"coordinates\":[[[2.183366996152571,41.41742962588065],[2.185420496373162,41.41831870460638],[2.185420496373162,41.42009682554596],[2.183366996152571,41.42098586775969],[2.18131349593198,41.42009682554596],[2.18131349593198,41.41831870460638],[2.183366996152571,41.41742962588065]]]}},{\"type\":\"Feature\",\"id\":\"0.03810694286224073,0.7957127007441067\",\"geometry\":{\"type\":\"Polygon\",\"coordinates\":[[[2.183366996152571,41.42276391567488],[2.185420496373162,41.42365292137622],[2.185420496373162,41.42543089626615],[2.183366996152571,41.42631986545462],[2.18131349593198,41.42543089626615],[2.18131349593198,41.42365292137622],[2.183366996152571,41.42276391567488]]]}},{\"type\":\"Feature\",\"id\":\"0.03810694286224073,0.7958368553239255\",\"geometry\":{\"type\":\"Polygon\",\"coordinates\":[[[2.183366996152571,41.42809776731846],[2.185420496373162,41.42898669999367],[2.185420496373162,41.43076452883055],[2.183366996152571,41.4316534249921],[2.18131349593198,41.43076452883055],[2.18131349593198,41.42898669999367],[2.183366996152571,41.42809776731846]]]}},{\"type\":\"Feature\",\"id\":\"0.03810694286224073,0.796085164483563\",\"geometry\":{\"type\":\"Polygon\",\"coordinates\":[[[2.183366996152571,41.43876415611273],[2.185420496373162,41.439652942730646],[2.185420496373162,41.441430479451185],[2.183366996152571,41.4423192295537],[2.18131349593198,41.441430479451185],[2.18131349593198,41.439652942730646],[2.183366996152571,41.43876415611273]]]}},{\"type\":\"Feature\",\"id\":\"0.03810694286224073,0.7962093190633818\",\"geometry\":{\"type\":\"Polygon\",\"coordinates\":[[[2.183366996152571,41.44409669324301],[2.185420496373162,41.44498540682972],[2.185420496373162,41.446762797487],[2.183366996152571,41.44765147455745],[2.18131349593198,41.446762797487],[2.18131349593198,41.44498540682972],[2.183366996152571,41.44409669324301]]]}},{\"type\":\"Feature\",\"id\":\"0.03810694286224073,0.7964576282230194\",\"geometry\":{\"type\":\"Polygon\",\"coordinates\":[[[2.183366996152571,41.45476045291896],[2.185420496373162,41.45564902043816],[2.185420496373162,41.45742611895874],[2.183366996152571,41.45831464996],[2.18131349593198,41.45742611895874],[2.18131349593198,41.45564902043816],[2.183366996152571,41.45476045291896]]]}},{\"type\":\"Feature\",\"id\":\"0.03817862354232022,0.7945953095257379\",\"geometry\":{\"type\":\"Polygon\",\"coordinates\":[[[2.187473996593753,41.37473953533631],[2.1895274968143443,41.37562919819547],[2.1895274968143443,41.377408487408786],[2.187473996593753,41.378298113762824],[2.1854204963731623,41.377408487408786],[2.1854204963731623,41.37562919819547],[2.187473996593753,41.37473953533631]]]}},{\"type\":\"Feature\",\"id\":\"0.03817862354232022,0.7947194641055566\",\"geometry\":{\"type\":\"Polygon\",\"coordinates\":[[[2.187473996593753,41.380077329965495],[2.1895274968143443,41.380966919814014],[2.1895274968143443,41.38274606300517],[2.187473996593753,41.3836356163477],[2.1854204963731623,41.38274606300517],[2.1854204963731623,41.380966919814014],[2.187473996593753,41.380077329965495]]]}},{\"type\":\"Feature\",\"id\":\"0.03817862354232022,0.7948436186853753\",\"geometry\":{\"type\":\"Polygon\",\"coordinates\":[[[2.187473996593753,41.38541468652647],[2.1895274968143443,41.38630420336262],[2.1895274968143443,41.38808320052814],[2.187473996593753,41.38897268085745],[2.1854204963731623,41.38808320052814],[2.1854204963731623,41.38630420336262],[2.187473996593753,41.38541468652647]]]}},{\"type\":\"Feature\",\"id\":\"0.03817862354232022,0.7949677732651942\",\"geometry\":{\"type\":\"Polygon\",\"coordinates\":[[[2.187473996593753,41.390751605008894],[2.1895274968143443,41.3916410488309],[2.1895274968143443,41.39341989996736],[2.187473996593753,41.394309307281695],[2.1854204963731623,41.39341989996736],[2.1854204963731623,41.3916410488309],[2.187473996593753,41.390751605008894]]]}},{\"type\":\"Feature\",\"id\":\"0.03817862354232022,0.7950919278450129\",\"geometry\":{\"type\":\"Polygon\",\"coordinates\":[[[2.187473996593753,41.39608808540234],[2.1895274968143443,41.39697745620856],[2.1895274968143443,41.398756161312505],[2.187473996593753,41.39964549561015],[2.1854204963731623,41.398756161312505],[2.1854204963731623,41.39697745620856],[2.187473996593753,41.39608808540234]]]}},{\"type\":\"Feature\",\"id\":\"0.03817862354232022,0.7952160824248317\",\"geometry\":{\"type\":\"Polygon\",\"coordinates\":[[[2.187473996593753,41.401424127696544],[2.1895274968143443,41.40231342548522],[2.1895274968143443,41.40409198455321],[2.187473996593753,41.40498124583247],[2.1854204963731623,41.40409198455321],[2.1854204963731623,41.40231342548522],[2.187473996593753,41.401424127696544]]]}},{\"type\":\"Feature\",\"id\":\"0.03817862354232022,0.7953402370046504\",\"geometry\":{\"type\":\"Polygon\",\"coordinates\":[[[2.187473996593753,41.40675973188121],[2.1895274968143443,41.4076489566506],[2.1895274968143443,41.40942736967922],[2.187473996593753,41.41031655793835],[2.1854204963731623,41.40942736967922],[2.1854204963731623,41.4076489566506],[2.187473996593753,41.40675973188121]]]}},{\"type\":\"Feature\",\"id\":\"0.03817862354232022,0.7954643915844692\",\"geometry\":{\"type\":\"Polygon\",\"coordinates\":[[[2.187473996593753,41.412094897946005],[2.1895274968143443,41.41298404969442],[2.1895274968143443,41.414762316680246],[2.187473996593753,41.41565143191752],[2.1854204963731623,41.414762316680246],[2.1854204963731623,41.41298404969442],[2.187473996593753,41.412094897946005]]]}},{\"type\":\"Feature\",\"id\":\"0.03817862354232022,0.795588546164288\",\"geometry\":{\"type\":\"Polygon\",\"coordinates\":[[[2.187473996593753,41.41742962588065],[2.1895274968143443,41.41831870460638],[2.1895274968143443,41.42009682554596],[2.187473996593753,41.42098586775969],[2.1854204963731623,41.42009682554596],[2.1854204963731623,41.41831870460638],[2.187473996593753,41.41742962588065]]]}},{\"type\":\"Feature\",\"id\":\"0.03817862354232022,0.7957127007441067\",\"geometry\":{\"type\":\"Polygon\",\"coordinates\":[[[2.187473996593753,41.42276391567488],[2.1895274968143443,41.42365292137622],[2.1895274968143443,41.42543089626615],[2.187473996593753,41.42631986545462],[2.1854204963731623,41.42543089626615],[2.1854204963731623,41.42365292137622],[2.187473996593753,41.42276391567488]]]}},{\"type\":\"Feature\",\"id\":\"0.03817862354232022,0.7958368553239255\",\"geometry\":{\"type\":\"Polygon\",\"coordinates\":[[[2.187473996593753,41.42809776731846],[2.1895274968143443,41.42898669999367],[2.1895274968143443,41.43076452883055],[2.187473996593753,41.4316534249921],[2.1854204963731623,41.43076452883055],[2.1854204963731623,41.42898669999367],[2.187473996593753,41.42809776731846]]]}},{\"type\":\"Feature\",\"id\":\"0.03817862354232022,0.7959610099037443\",\"geometry\":{\"type\":\"Polygon\",\"coordinates\":[[[2.187473996593753,41.43343118080115],[2.1895274968143443,41.43432004044856],[2.1895274968143443,41.43609772322898],[2.187473996593753,41.43698654636185],[2.1854204963731623,41.43609772322898],[2.1854204963731623,41.43432004044856],[2.187473996593753,41.43343118080115]]]}},{\"type\":\"Feature\",\"id\":\"0.03817862354232022,0.7962093190633818\",\"geometry\":{\"type\":\"Polygon\",\"coordinates\":[[[2.187473996593753,41.44409669324301],[2.1895274968143443,41.44498540682972],[2.1895274968143443,41.446762797487],[2.187473996593753,41.44765147455745],[2.1854204963731623,41.446762797487],[2.1854204963731623,41.44498540682972],[2.187473996593753,41.44409669324301]]]}},{\"type\":\"Feature\",\"id\":\"0.03817862354232022,0.7963334736432005\",\"geometry\":{\"type\":\"Polygon\",\"coordinates\":[[[2.187473996593753,41.44942879218182],[2.1895274968143443,41.45031743273561],[2.1895274968143443,41.452094677326244],[2.187473996593753,41.45298328136295],[2.1854204963731623,41.452094677326244],[2.1854204963731623,41.45031743273561],[2.187473996593753,41.44942879218182]]]}},{\"type\":\"Feature\",\"id\":\"0.0382503042223997,0.7945953095257379\",\"geometry\":{\"type\":\"Polygon\",\"coordinates\":[[[2.191580997034935,41.37473953533631],[2.193634497255526,41.37562919819547],[2.193634497255526,41.377408487408786],[2.191580997034935,41.378298113762824],[2.1895274968143443,41.377408487408786],[2.1895274968143443,41.37562919819547],[2.191580997034935,41.37473953533631]]]}},{\"type\":\"Feature\",\"id\":\"0.0382503042223997,0.7947194641055566\",\"geometry\":{\"type\":\"Polygon\",\"coordinates\":[[[2.191580997034935,41.380077329965495],[2.193634497255526,41.380966919814014],[2.193634497255526,41.38274606300517],[2.191580997034935,41.3836356163477],[2.1895274968143443,41.38274606300517],[2.1895274968143443,41.380966919814014],[2.191580997034935,41.380077329965495]]]}},{\"type\":\"Feature\",\"id\":\"0.0382503042223997,0.7949677732651942\",\"geometry\":{\"type\":\"Polygon\",\"coordinates\":[[[2.191580997034935,41.390751605008894],[2.193634497255526,41.3916410488309],[2.193634497255526,41.39341989996736],[2.191580997034935,41.394309307281695],[2.1895274968143443,41.39341989996736],[2.1895274968143443,41.3916410488309],[2.191580997034935,41.390751605008894]]]}},{\"type\":\"Feature\",\"id\":\"0.0382503042223997,0.7950919278450129\",\"geometry\":{\"type\":\"Polygon\",\"coordinates\":[[[2.191580997034935,41.39608808540234],[2.193634497255526,41.39697745620856],[2.193634497255526,41.398756161312505],[2.191580997034935,41.39964549561015],[2.1895274968143443,41.398756161312505],[2.1895274968143443,41.39697745620856],[2.191580997034935,41.39608808540234]]]}},{\"type\":\"Feature\",\"id\":\"0.0382503042223997,0.7953402370046504\",\"geometry\":{\"type\":\"Polygon\",\"coordinates\":[[[2.191580997034935,41.40675973188121],[2.193634497255526,41.4076489566506],[2.193634497255526,41.40942736967922],[2.191580997034935,41.41031655793835],[2.1895274968143443,41.40942736967922],[2.1895274968143443,41.4076489566506],[2.191580997034935,41.40675973188121]]]}},{\"type\":\"Feature\",\"id\":\"0.0382503042223997,0.7954643915844692\",\"geometry\":{\"type\":\"Polygon\",\"coordinates\":[[[2.191580997034935,41.412094897946005],[2.193634497255526,41.41298404969442],[2.193634497255526,41.414762316680246],[2.191580997034935,41.41565143191752],[2.1895274968143443,41.414762316680246],[2.1895274968143443,41.41298404969442],[2.191580997034935,41.412094897946005]]]}},{\"type\":\"Feature\",\"id\":\"0.0382503042223997,0.795588546164288\",\"geometry\":{\"type\":\"Polygon\",\"coordinates\":[[[2.191580997034935,41.41742962588065],[2.193634497255526,41.41831870460638],[2.193634497255526,41.42009682554596],[2.191580997034935,41.42098586775969],[2.1895274968143443,41.42009682554596],[2.1895274968143443,41.41831870460638],[2.191580997034935,41.41742962588065]]]}},{\"type\":\"Feature\",\"id\":\"0.0382503042223997,0.7957127007441067\",\"geometry\":{\"type\":\"Polygon\",\"coordinates\":[[[2.191580997034935,41.42276391567488],[2.193634497255526,41.42365292137622],[2.193634497255526,41.42543089626615],[2.191580997034935,41.42631986545462],[2.1895274968143443,41.42543089626615],[2.1895274968143443,41.42365292137622],[2.191580997034935,41.42276391567488]]]}},{\"type\":\"Feature\",\"id\":\"0.0382503042223997,0.7959610099037443\",\"geometry\":{\"type\":\"Polygon\",\"coordinates\":[[[2.191580997034935,41.43343118080115],[2.193634497255526,41.43432004044856],[2.193634497255526,41.43609772322898],[2.191580997034935,41.43698654636185],[2.1895274968143443,41.43609772322898],[2.1895274968143443,41.43432004044856],[2.191580997034935,41.43343118080115]]]}},{\"type\":\"Feature\",\"id\":\"0.0382503042223997,0.7963334736432005\",\"geometry\":{\"type\":\"Polygon\",\"coordinates\":[[[2.191580997034935,41.44942879218182],[2.193634497255526,41.45031743273561],[2.193634497255526,41.452094677326244],[2.191580997034935,41.45298328136295],[2.1895274968143443,41.452094677326244],[2.1895274968143443,41.45031743273561],[2.191580997034935,41.44942879218182]]]}},{\"type\":\"Feature\",\"id\":\"0.03832198490247919,0.7948436186853753\",\"geometry\":{\"type\":\"Polygon\",\"coordinates\":[[[2.1956879974761176,41.38541468652647],[2.197741497696708,41.38630420336262],[2.197741497696708,41.38808320052814],[2.1956879974761176,41.38897268085745],[2.1936344972555264,41.38808320052814],[2.1936344972555264,41.38630420336262],[2.1956879974761176,41.38541468652647]]]}},{\"type\":\"Feature\",\"id\":\"0.03832198490247919,0.7949677732651942\",\"geometry\":{\"type\":\"Polygon\",\"coordinates\":[[[2.1956879974761176,41.390751605008894],[2.197741497696708,41.3916410488309],[2.197741497696708,41.39341989996736],[2.1956879974761176,41.394309307281695],[2.1936344972555264,41.39341989996736],[2.1936344972555264,41.3916410488309],[2.1956879974761176,41.390751605008894]]]}},{\"type\":\"Feature\",\"id\":\"0.03832198490247919,0.7950919278450129\",\"geometry\":{\"type\":\"Polygon\",\"coordinates\":[[[2.1956879974761176,41.39608808540234],[2.197741497696708,41.39697745620856],[2.197741497696708,41.398756161312505],[2.1956879974761176,41.39964549561015],[2.1936344972555264,41.398756161312505],[2.1936344972555264,41.39697745620856],[2.1956879974761176,41.39608808540234]]]}},{\"type\":\"Feature\",\"id\":\"0.03832198490247919,0.7952160824248317\",\"geometry\":{\"type\":\"Polygon\",\"coordinates\":[[[2.1956879974761176,41.401424127696544],[2.197741497696708,41.40231342548522],[2.197741497696708,41.40409198455321],[2.1956879974761176,41.40498124583247],[2.1936344972555264,41.40409198455321],[2.1936344972555264,41.40231342548522],[2.1956879974761176,41.401424127696544]]]}},{\"type\":\"Feature\",\"id\":\"0.03832198490247919,0.7953402370046504\",\"geometry\":{\"type\":\"Polygon\",\"coordinates\":[[[2.1956879974761176,41.40675973188121],[2.197741497696708,41.4076489566506],[2.197741497696708,41.40942736967922],[2.1956879974761176,41.41031655793835],[2.1936344972555264,41.40942736967922],[2.1936344972555264,41.4076489566506],[2.1956879974761176,41.40675973188121]]]}},{\"type\":\"Feature\",\"id\":\"0.03832198490247919,0.7954643915844692\",\"geometry\":{\"type\":\"Polygon\",\"coordinates\":[[[2.1956879974761176,41.412094897946005],[2.197741497696708,41.41298404969442],[2.197741497696708,41.414762316680246],[2.1956879974761176,41.41565143191752],[2.1936344972555264,41.414762316680246],[2.1936344972555264,41.41298404969442],[2.1956879974761176,41.412094897946005]]]}},{\"type\":\"Feature\",\"id\":\"0.03832198490247919,0.795588546164288\",\"geometry\":{\"type\":\"Polygon\",\"coordinates\":[[[2.1956879974761176,41.41742962588065],[2.197741497696708,41.41831870460638],[2.197741497696708,41.42009682554596],[2.1956879974761176,41.42098586775969],[2.1936344972555264,41.42009682554596],[2.1936344972555264,41.41831870460638],[2.1956879974761176,41.41742962588065]]]}},{\"type\":\"Feature\",\"id\":\"0.03832198490247919,0.7957127007441067\",\"geometry\":{\"type\":\"Polygon\",\"coordinates\":[[[2.1956879974761176,41.42276391567488],[2.197741497696708,41.42365292137622],[2.197741497696708,41.42543089626615],[2.1956879974761176,41.42631986545462],[2.1936344972555264,41.42543089626615],[2.1936344972555264,41.42365292137622],[2.1956879974761176,41.42276391567488]]]}},{\"type\":\"Feature\",\"id\":\"0.03832198490247919,0.7958368553239255\",\"geometry\":{\"type\":\"Polygon\",\"coordinates\":[[[2.1956879974761176,41.42809776731846],[2.197741497696708,41.42898669999367],[2.197741497696708,41.43076452883055],[2.1956879974761176,41.4316534249921],[2.1936344972555264,41.43076452883055],[2.1936344972555264,41.42898669999367],[2.1956879974761176,41.42809776731846]]]}},{\"type\":\"Feature\",\"id\":\"0.03839366558255868,0.7948436186853753\",\"geometry\":{\"type\":\"Polygon\",\"coordinates\":[[[2.1997949979172997,41.38541468652647],[2.2018484981378905,41.38630420336262],[2.2018484981378905,41.38808320052814],[2.1997949979172997,41.38897268085745],[2.197741497696709,41.38808320052814],[2.197741497696709,41.38630420336262],[2.1997949979172997,41.38541468652647]]]}},{\"type\":\"Feature\",\"id\":\"0.03839366558255868,0.7950919278450129\",\"geometry\":{\"type\":\"Polygon\",\"coordinates\":[[[2.1997949979172997,41.39608808540234],[2.2018484981378905,41.39697745620856],[2.2018484981378905,41.398756161312505],[2.1997949979172997,41.39964549561015],[2.197741497696709,41.398756161312505],[2.197741497696709,41.39697745620856],[2.1997949979172997,41.39608808540234]]]}},{\"type\":\"Feature\",\"id\":\"0.03839366558255868,0.7952160824248317\",\"geometry\":{\"type\":\"Polygon\",\"coordinates\":[[[2.1997949979172997,41.401424127696544],[2.2018484981378905,41.40231342548522],[2.2018484981378905,41.40409198455321],[2.1997949979172997,41.40498124583247],[2.197741497696709,41.40409198455321],[2.197741497696709,41.40231342548522],[2.1997949979172997,41.401424127696544]]]}},{\"type\":\"Feature\",\"id\":\"0.03839366558255868,0.7953402370046504\",\"geometry\":{\"type\":\"Polygon\",\"coordinates\":[[[2.1997949979172997,41.40675973188121],[2.2018484981378905,41.4076489566506],[2.2018484981378905,41.40942736967922],[2.1997949979172997,41.41031655793835],[2.197741497696709,41.40942736967922],[2.197741497696709,41.4076489566506],[2.1997949979172997,41.40675973188121]]]}},{\"type\":\"Feature\",\"id\":\"0.03839366558255868,0.7954643915844692\",\"geometry\":{\"type\":\"Polygon\",\"coordinates\":[[[2.1997949979172997,41.412094897946005],[2.2018484981378905,41.41298404969442],[2.2018484981378905,41.414762316680246],[2.1997949979172997,41.41565143191752],[2.197741497696709,41.414762316680246],[2.197741497696709,41.41298404969442],[2.1997949979172997,41.412094897946005]]]}},{\"type\":\"Feature\",\"id\":\"0.03839366558255868,0.795588546164288\",\"geometry\":{\"type\":\"Polygon\",\"coordinates\":[[[2.1997949979172997,41.41742962588065],[2.2018484981378905,41.41831870460638],[2.2018484981378905,41.42009682554596],[2.1997949979172997,41.42098586775969],[2.197741497696709,41.42009682554596],[2.197741497696709,41.41831870460638],[2.1997949979172997,41.41742962588065]]]}},{\"type\":\"Feature\",\"id\":\"0.03839366558255868,0.7957127007441067\",\"geometry\":{\"type\":\"Polygon\",\"coordinates\":[[[2.1997949979172997,41.42276391567488],[2.2018484981378905,41.42365292137622],[2.2018484981378905,41.42543089626615],[2.1997949979172997,41.42631986545462],[2.197741497696709,41.42543089626615],[2.197741497696709,41.42365292137622],[2.1997949979172997,41.42276391567488]]]}},{\"type\":\"Feature\",\"id\":\"0.038465346262638166,0.7950919278450129\",\"geometry\":{\"type\":\"Polygon\",\"coordinates\":[[[2.2039019983584813,41.39608808540234],[2.2059554985790726,41.39697745620856],[2.2059554985790726,41.398756161312505],[2.2039019983584813,41.39964549561015],[2.2018484981378905,41.398756161312505],[2.2018484981378905,41.39697745620856],[2.2039019983584813,41.39608808540234]]]}},{\"type\":\"Feature\",\"id\":\"0.038465346262638166,0.7952160824248317\",\"geometry\":{\"type\":\"Polygon\",\"coordinates\":[[[2.2039019983584813,41.401424127696544],[2.2059554985790726,41.40231342548522],[2.2059554985790726,41.40409198455321],[2.2039019983584813,41.40498124583247],[2.2018484981378905,41.40409198455321],[2.2018484981378905,41.40231342548522],[2.2039019983584813,41.401424127696544]]]}},{\"type\":\"Feature\",\"id\":\"0.038465346262638166,0.7953402370046504\",\"geometry\":{\"type\":\"Polygon\",\"coordinates\":[[[2.2039019983584813,41.40675973188121],[2.2059554985790726,41.4076489566506],[2.2059554985790726,41.40942736967922],[2.2039019983584813,41.41031655793835],[2.2018484981378905,41.40942736967922],[2.2018484981378905,41.4076489566506],[2.2039019983584813,41.40675973188121]]]}},{\"type\":\"Feature\",\"id\":\"0.038465346262638166,0.7954643915844692\",\"geometry\":{\"type\":\"Polygon\",\"coordinates\":[[[2.2039019983584813,41.412094897946005],[2.2059554985790726,41.41298404969442],[2.2059554985790726,41.414762316680246],[2.2039019983584813,41.41565143191752],[2.2018484981378905,41.414762316680246],[2.2018484981378905,41.41298404969442],[2.2039019983584813,41.412094897946005]]]}},{\"type\":\"Feature\",\"id\":\"0.038465346262638166,0.795588546164288\",\"geometry\":{\"type\":\"Polygon\",\"coordinates\":[[[2.2039019983584813,41.41742962588065],[2.2059554985790726,41.41831870460638],[2.2059554985790726,41.42009682554596],[2.2039019983584813,41.42098586775969],[2.2018484981378905,41.42009682554596],[2.2018484981378905,41.41831870460638],[2.2039019983584813,41.41742962588065]]]}},{\"type\":\"Feature\",\"id\":\"0.038465346262638166,0.7957127007441067\",\"geometry\":{\"type\":\"Polygon\",\"coordinates\":[[[2.2039019983584813,41.42276391567488],[2.2059554985790726,41.42365292137622],[2.2059554985790726,41.42543089626615],[2.2039019983584813,41.42631986545462],[2.2018484981378905,41.42543089626615],[2.2018484981378905,41.42365292137622],[2.2039019983584813,41.42276391567488]]]}},{\"type\":\"Feature\",\"id\":\"0.038537026942717656,0.7950919278450129\",\"geometry\":{\"type\":\"Polygon\",\"coordinates\":[[[2.208008998799664,41.39608808540234],[2.2100624990202546,41.39697745620856],[2.2100624990202546,41.398756161312505],[2.208008998799664,41.39964549561015],[2.2059554985790726,41.398756161312505],[2.2059554985790726,41.39697745620856],[2.208008998799664,41.39608808540234]]]}},{\"type\":\"Feature\",\"id\":\"0.038537026942717656,0.7952160824248317\",\"geometry\":{\"type\":\"Polygon\",\"coordinates\":[[[2.208008998799664,41.401424127696544],[2.2100624990202546,41.40231342548522],[2.2100624990202546,41.40409198455321],[2.208008998799664,41.40498124583247],[2.2059554985790726,41.40409198455321],[2.2059554985790726,41.40231342548522],[2.208008998799664,41.401424127696544]]]}},{\"type\":\"Feature\",\"id\":\"0.038537026942717656,0.7953402370046504\",\"geometry\":{\"type\":\"Polygon\",\"coordinates\":[[[2.208008998799664,41.40675973188121],[2.2100624990202546,41.4076489566506],[2.2100624990202546,41.40942736967922],[2.208008998799664,41.41031655793835],[2.2059554985790726,41.40942736967922],[2.2059554985790726,41.4076489566506],[2.208008998799664,41.40675973188121]]]}},{\"type\":\"Feature\",\"id\":\"0.038537026942717656,0.7954643915844692\",\"geometry\":{\"type\":\"Polygon\",\"coordinates\":[[[2.208008998799664,41.412094897946005],[2.2100624990202546,41.41298404969442],[2.2100624990202546,41.414762316680246],[2.208008998799664,41.41565143191752],[2.2059554985790726,41.414762316680246],[2.2059554985790726,41.41298404969442],[2.208008998799664,41.412094897946005]]]}},{\"type\":\"Feature\",\"id\":\"0.038537026942717656,0.795588546164288\",\"geometry\":{\"type\":\"Polygon\",\"coordinates\":[[[2.208008998799664,41.41742962588065],[2.2100624990202546,41.41831870460638],[2.2100624990202546,41.42009682554596],[2.208008998799664,41.42098586775969],[2.2059554985790726,41.42009682554596],[2.2059554985790726,41.41831870460638],[2.208008998799664,41.41742962588065]]]}},{\"type\":\"Feature\",\"id\":\"0.038537026942717656,0.7957127007441067\",\"geometry\":{\"type\":\"Polygon\",\"coordinates\":[[[2.208008998799664,41.42276391567488],[2.2100624990202546,41.42365292137622],[2.2100624990202546,41.42543089626615],[2.208008998799664,41.42631986545462],[2.2059554985790726,41.42543089626615],[2.2059554985790726,41.42365292137622],[2.208008998799664,41.42276391567488]]]}},{\"type\":\"Feature\",\"id\":\"0.038537026942717656,0.7959610099037443\",\"geometry\":{\"type\":\"Polygon\",\"coordinates\":[[[2.208008998799664,41.43343118080115],[2.2100624990202546,41.43432004044856],[2.2100624990202546,41.43609772322898],[2.208008998799664,41.43698654636185],[2.2059554985790726,41.43609772322898],[2.2059554985790726,41.43432004044856],[2.208008998799664,41.43343118080115]]]}},{\"type\":\"Feature\",\"id\":\"0.038608707622797146,0.7952160824248317\",\"geometry\":{\"type\":\"Polygon\",\"coordinates\":[[[2.2121159992408463,41.401424127696544],[2.214169499461437,41.40231342548522],[2.214169499461437,41.40409198455321],[2.2121159992408463,41.40498124583247],[2.210062499020255,41.40409198455321],[2.210062499020255,41.40231342548522],[2.2121159992408463,41.401424127696544]]]}},{\"type\":\"Feature\",\"id\":\"0.038608707622797146,0.7953402370046504\",\"geometry\":{\"type\":\"Polygon\",\"coordinates\":[[[2.2121159992408463,41.40675973188121],[2.214169499461437,41.4076489566506],[2.214169499461437,41.40942736967922],[2.2121159992408463,41.41031655793835],[2.210062499020255,41.40942736967922],[2.210062499020255,41.4076489566506],[2.2121159992408463,41.40675973188121]]]}},{\"type\":\"Feature\",\"id\":\"0.038608707622797146,0.7954643915844692\",\"geometry\":{\"type\":\"Polygon\",\"coordinates\":[[[2.2121159992408463,41.412094897946005],[2.214169499461437,41.41298404969442],[2.214169499461437,41.414762316680246],[2.2121159992408463,41.41565143191752],[2.210062499020255,41.414762316680246],[2.210062499020255,41.41298404969442],[2.2121159992408463,41.412094897946005]]]}},{\"type\":\"Feature\",\"id\":\"0.038608707622797146,0.795588546164288\",\"geometry\":{\"type\":\"Polygon\",\"coordinates\":[[[2.2121159992408463,41.41742962588065],[2.214169499461437,41.41831870460638],[2.214169499461437,41.42009682554596],[2.2121159992408463,41.42098586775969],[2.210062499020255,41.42009682554596],[2.210062499020255,41.41831870460638],[2.2121159992408463,41.41742962588065]]]}},{\"type\":\"Feature\",\"id\":\"0.03868038830287663,0.7953402370046504\",\"geometry\":{\"type\":\"Polygon\",\"coordinates\":[[[2.216222999682028,41.40675973188121],[2.2182764999026188,41.4076489566506],[2.2182764999026188,41.40942736967922],[2.216222999682028,41.41031655793835],[2.214169499461437,41.40942736967922],[2.214169499461437,41.4076489566506],[2.216222999682028,41.40675973188121]]]}},{\"type\":\"Feature\",\"id\":\"0.03868038830287663,0.7954643915844692\",\"geometry\":{\"type\":\"Polygon\",\"coordinates\":[[[2.216222999682028,41.412094897946005],[2.2182764999026188,41.41298404969442],[2.2182764999026188,41.414762316680246],[2.216222999682028,41.41565143191752],[2.214169499461437,41.414762316680246],[2.214169499461437,41.41298404969442],[2.216222999682028,41.412094897946005]]]}},{\"type\":\"Feature\",\"id\":\"0.03875206898295612,0.7954643915844692\",\"geometry\":{\"type\":\"Polygon\",\"coordinates\":[[[2.22033000012321,41.412094897946005],[2.2223835003438013,41.41298404969442],[2.2223835003438013,41.414762316680246],[2.22033000012321,41.41565143191752],[2.218276499902619,41.414762316680246],[2.218276499902619,41.41298404969442],[2.22033000012321,41.412094897946005]]]}},{\"type\":\"Feature\",\"id\":\"0.03663748892061122,0.7954023142945599\",\"geometry\":{\"type\":\"Polygon\",\"coordinates\":[[[2.099173487108337,41.40942736967922],[2.101226987328928,41.41031655793835],[2.101226987328928,41.412094897946005],[2.099173487108337,41.41298404969442],[2.097119986887746,41.412094897946005],[2.097119986887746,41.41031655793835],[2.099173487108337,41.40942736967922]]]}},{\"type\":\"Feature\",\"id\":\"0.03670916960069071,0.7954023142945599\",\"geometry\":{\"type\":\"Polygon\",\"coordinates\":[[[2.1032804875495192,41.40942736967922],[2.10533398777011,41.41031655793835],[2.10533398777011,41.412094897946005],[2.1032804875495192,41.41298404969442],[2.1012269873289284,41.412094897946005],[2.1012269873289284,41.41031655793835],[2.1032804875495192,41.40942736967922]]]}},{\"type\":\"Feature\",\"id\":\"0.0367808502807702,0.794781541395466\",\"geometry\":{\"type\":\"Polygon\",\"coordinates\":[[[2.1073874879907017,41.38274606300517],[2.1094409882112926,41.3836356163477],[2.1094409882112926,41.38541468652647],[2.1073874879907017,41.38630420336262],[2.1053339877701105,41.38541468652647],[2.1053339877701105,41.3836356163477],[2.1073874879907017,41.38274606300517]]]}},{\"type\":\"Feature\",\"id\":\"0.036852530960849686,0.794781541395466\",\"geometry\":{\"type\":\"Polygon\",\"coordinates\":[[[2.1114944884318834,41.38274606300517],[2.1135479886524746,41.3836356163477],[2.1135479886524746,41.38541468652647],[2.1114944884318834,41.38630420336262],[2.1094409882112926,41.38541468652647],[2.1094409882112926,41.3836356163477],[2.1114944884318834,41.38274606300517]]]}},{\"type\":\"Feature\",\"id\":\"0.036852530960849686,0.7955264688743786\",\"geometry\":{\"type\":\"Polygon\",\"coordinates\":[[[2.1114944884318834,41.414762316680246],[2.1135479886524746,41.41565143191752],[2.1135479886524746,41.41742962588065],[2.1114944884318834,41.41831870460638],[2.1094409882112926,41.41742962588065],[2.1094409882112926,41.41565143191752],[2.1114944884318834,41.414762316680246]]]}},{\"type\":\"Feature\",\"id\":\"0.036924211640929176,0.7946573868156472\",\"geometry\":{\"type\":\"Polygon\",\"coordinates\":[[[2.115601488873066,41.377408487408786],[2.1176549890936567,41.378298113762824],[2.1176549890936567,41.380077329965495],[2.115601488873066,41.380966919814014],[2.1135479886524746,41.380077329965495],[2.1135479886524746,41.378298113762824],[2.115601488873066,41.377408487408786]]]}},{\"type\":\"Feature\",\"id\":\"0.036924211640929176,0.7954023142945599\",\"geometry\":{\"type\":\"Polygon\",\"coordinates\":[[[2.115601488873066,41.40942736967922],[2.1176549890936567,41.41031655793835],[2.1176549890936567,41.412094897946005],[2.115601488873066,41.41298404969442],[2.1135479886524746,41.412094897946005],[2.1135479886524746,41.41031655793835],[2.115601488873066,41.40942736967922]]]}},{\"type\":\"Feature\",\"id\":\"0.036924211640929176,0.7956506234541973\",\"geometry\":{\"type\":\"Polygon\",\"coordinates\":[[[2.115601488873066,41.42009682554596],[2.1176549890936567,41.42098586775969],[2.1176549890936567,41.42276391567488],[2.115601488873066,41.42365292137622],[2.1135479886524746,41.42276391567488],[2.1135479886524746,41.42098586775969],[2.115601488873066,41.42009682554596]]]}},{\"type\":\"Feature\",\"id\":\"0.03699589232100867,0.7946573868156472\",\"geometry\":{\"type\":\"Polygon\",\"coordinates\":[[[2.119708489314248,41.377408487408786],[2.121761989534839,41.378298113762824],[2.121761989534839,41.380077329965495],[2.119708489314248,41.380966919814014],[2.117654989093657,41.380077329965495],[2.117654989093657,41.378298113762824],[2.119708489314248,41.377408487408786]]]}},{\"type\":\"Feature\",\"id\":\"0.03699589232100867,0.7949056959752848\",\"geometry\":{\"type\":\"Polygon\",\"coordinates\":[[[2.119708489314248,41.38808320052814],[2.121761989534839,41.38897268085745],[2.121761989534839,41.390751605008894],[2.119708489314248,41.3916410488309],[2.117654989093657,41.390751605008894],[2.117654989093657,41.38897268085745],[2.119708489314248,41.38808320052814]]]}},{\"type\":\"Feature\",\"id\":\"0.03699589232100867,0.7950298505551036\",\"geometry\":{\"type\":\"Polygon\",\"coordinates\":[[[2.119708489314248,41.39341989996736],[2.121761989534839,41.394309307281695],[2.121761989534839,41.39608808540234],[2.119708489314248,41.39697745620856],[2.117654989093657,41.39608808540234],[2.117654989093657,41.394309307281695],[2.119708489314248,41.39341989996736]]]}},{\"type\":\"Feature\",\"id\":\"0.03699589232100867,0.7951540051349223\",\"geometry\":{\"type\":\"Polygon\",\"coordinates\":[[[2.119708489314248,41.398756161312505],[2.121761989534839,41.39964549561015],[2.121761989534839,41.401424127696544],[2.119708489314248,41.40231342548522],[2.117654989093657,41.401424127696544],[2.117654989093657,41.39964549561015],[2.119708489314248,41.398756161312505]]]}},{\"type\":\"Feature\",\"id\":\"0.03699589232100867,0.7955264688743786\",\"geometry\":{\"type\":\"Polygon\",\"coordinates\":[[[2.119708489314248,41.414762316680246],[2.121761989534839,41.41565143191752],[2.121761989534839,41.41742962588065],[2.119708489314248,41.41831870460638],[2.117654989093657,41.41742962588065],[2.117654989093657,41.41565143191752],[2.119708489314248,41.414762316680246]]]}},{\"type\":\"Feature\",\"id\":\"0.03699589232100867,0.7956506234541973\",\"geometry\":{\"type\":\"Polygon\",\"coordinates\":[[[2.119708489314248,41.42009682554596],[2.121761989534839,41.42098586775969],[2.121761989534839,41.42276391567488],[2.119708489314248,41.42365292137622],[2.117654989093657,41.42276391567488],[2.117654989093657,41.42098586775969],[2.119708489314248,41.42009682554596]]]}},{\"type\":\"Feature\",\"id\":\"0.03706757300108815,0.7945332322358285\",\"geometry\":{\"type\":\"Polygon\",\"coordinates\":[[[2.12381548975543,41.37207047374936],[2.125868989976021,41.37296017311321],[2.125868989976021,41.37473953533631],[2.12381548975543,41.37562919819547],[2.121761989534839,41.37473953533631],[2.121761989534839,41.37296017311321],[2.12381548975543,41.37207047374936]]]}},{\"type\":\"Feature\",\"id\":\"0.03706757300108815,0.7946573868156472\",\"geometry\":{\"type\":\"Polygon\",\"coordinates\":[[[2.12381548975543,41.377408487408786],[2.125868989976021,41.378298113762824],[2.125868989976021,41.380077329965495],[2.12381548975543,41.380966919814014],[2.121761989534839,41.380077329965495],[2.121761989534839,41.378298113762824],[2.12381548975543,41.377408487408786]]]}},{\"type\":\"Feature\",\"id\":\"0.03706757300108815,0.794781541395466\",\"geometry\":{\"type\":\"Polygon\",\"coordinates\":[[[2.12381548975543,41.38274606300517],[2.125868989976021,41.3836356163477],[2.125868989976021,41.38541468652647],[2.12381548975543,41.38630420336262],[2.121761989534839,41.38541468652647],[2.121761989534839,41.3836356163477],[2.12381548975543,41.38274606300517]]]}},{\"type\":\"Feature\",\"id\":\"0.03706757300108815,0.7949056959752848\",\"geometry\":{\"type\":\"Polygon\",\"coordinates\":[[[2.12381548975543,41.38808320052814],[2.125868989976021,41.38897268085745],[2.125868989976021,41.390751605008894],[2.12381548975543,41.3916410488309],[2.121761989534839,41.390751605008894],[2.121761989534839,41.38897268085745],[2.12381548975543,41.38808320052814]]]}},{\"type\":\"Feature\",\"id\":\"0.03706757300108815,0.7950298505551036\",\"geometry\":{\"type\":\"Polygon\",\"coordinates\":[[[2.12381548975543,41.39341989996736],[2.125868989976021,41.394309307281695],[2.125868989976021,41.39608808540234],[2.12381548975543,41.39697745620856],[2.121761989534839,41.39608808540234],[2.121761989534839,41.394309307281695],[2.12381548975543,41.39341989996736]]]}},{\"type\":\"Feature\",\"id\":\"0.03706757300108815,0.7954023142945599\",\"geometry\":{\"type\":\"Polygon\",\"coordinates\":[[[2.12381548975543,41.40942736967922],[2.125868989976021,41.41031655793835],[2.125868989976021,41.412094897946005],[2.12381548975543,41.41298404969442],[2.121761989534839,41.412094897946005],[2.121761989534839,41.41031655793835],[2.12381548975543,41.40942736967922]]]}},{\"type\":\"Feature\",\"id\":\"0.03713925368116764,0.7945332322358285\",\"geometry\":{\"type\":\"Polygon\",\"coordinates\":[[[2.127922490196612,41.37207047374936],[2.129975990417203,41.37296017311321],[2.129975990417203,41.37473953533631],[2.127922490196612,41.37562919819547],[2.1258689899760213,41.37473953533631],[2.1258689899760213,41.37296017311321],[2.127922490196612,41.37207047374936]]]}},{\"type\":\"Feature\",\"id\":\"0.03713925368116764,0.7946573868156472\",\"geometry\":{\"type\":\"Polygon\",\"coordinates\":[[[2.127922490196612,41.377408487408786],[2.129975990417203,41.378298113762824],[2.129975990417203,41.380077329965495],[2.127922490196612,41.380966919814014],[2.1258689899760213,41.380077329965495],[2.1258689899760213,41.378298113762824],[2.127922490196612,41.377408487408786]]]}},{\"type\":\"Feature\",\"id\":\"0.03713925368116764,0.794781541395466\",\"geometry\":{\"type\":\"Polygon\",\"coordinates\":[[[2.127922490196612,41.38274606300517],[2.129975990417203,41.3836356163477],[2.129975990417203,41.38541468652647],[2.127922490196612,41.38630420336262],[2.1258689899760213,41.38541468652647],[2.1258689899760213,41.3836356163477],[2.127922490196612,41.38274606300517]]]}},{\"type\":\"Feature\",\"id\":\"0.03713925368116764,0.7949056959752848\",\"geometry\":{\"type\":\"Polygon\",\"coordinates\":[[[2.127922490196612,41.38808320052814],[2.129975990417203,41.38897268085745],[2.129975990417203,41.390751605008894],[2.127922490196612,41.3916410488309],[2.1258689899760213,41.390751605008894],[2.1258689899760213,41.38897268085745],[2.127922490196612,41.38808320052814]]]}},{\"type\":\"Feature\",\"id\":\"0.03713925368116764,0.7950298505551036\",\"geometry\":{\"type\":\"Polygon\",\"coordinates\":[[[2.127922490196612,41.39341989996736],[2.129975990417203,41.394309307281695],[2.129975990417203,41.39608808540234],[2.127922490196612,41.39697745620856],[2.1258689899760213,41.39608808540234],[2.1258689899760213,41.394309307281695],[2.127922490196612,41.39341989996736]]]}},{\"type\":\"Feature\",\"id\":\"0.03713925368116764,0.7954023142945599\",\"geometry\":{\"type\":\"Polygon\",\"coordinates\":[[[2.127922490196612,41.40942736967922],[2.129975990417203,41.41031655793835],[2.129975990417203,41.412094897946005],[2.127922490196612,41.41298404969442],[2.1258689899760213,41.412094897946005],[2.1258689899760213,41.41031655793835],[2.127922490196612,41.40942736967922]]]}},{\"type\":\"Feature\",\"id\":\"0.03713925368116764,0.7955264688743786\",\"geometry\":{\"type\":\"Polygon\",\"coordinates\":[[[2.127922490196612,41.414762316680246],[2.129975990417203,41.41565143191752],[2.129975990417203,41.41742962588065],[2.127922490196612,41.41831870460638],[2.1258689899760213,41.41742962588065],[2.1258689899760213,41.41565143191752],[2.127922490196612,41.414762316680246]]]}},{\"type\":\"Feature\",\"id\":\"0.03721093436124713,0.7944090776560098\",\"geometry\":{\"type\":\"Polygon\",\"coordinates\":[[[2.132029490637794,41.3667320220373],[2.1340829908583854,41.36762179440918],[2.1340829908583854,41.369401302649266],[2.132029490637794,41.37029103851734],[2.1299759904172038,41.369401302649266],[2.1299759904172038,41.36762179440918],[2.132029490637794,41.3667320220373]]]}},{\"type\":\"Feature\",\"id\":\"0.03721093436124713,0.7945332322358285\",\"geometry\":{\"type\":\"Polygon\",\"coordinates\":[[[2.132029490637794,41.37207047374936],[2.1340829908583854,41.37296017311321],[2.1340829908583854,41.37473953533631],[2.132029490637794,41.37562919819547],[2.1299759904172038,41.37473953533631],[2.1299759904172038,41.37296017311321],[2.132029490637794,41.37207047374936]]]}},{\"type\":\"Feature\",\"id\":\"0.03721093436124713,0.7946573868156472\",\"geometry\":{\"type\":\"Polygon\",\"coordinates\":[[[2.132029490637794,41.377408487408786],[2.1340829908583854,41.378298113762824],[2.1340829908583854,41.380077329965495],[2.132029490637794,41.380966919814014],[2.1299759904172038,41.380077329965495],[2.1299759904172038,41.378298113762824],[2.132029490637794,41.377408487408786]]]}},{\"type\":\"Feature\",\"id\":\"0.03721093436124713,0.794781541395466\",\"geometry\":{\"type\":\"Polygon\",\"coordinates\":[[[2.132029490637794,41.38274606300517],[2.1340829908583854,41.3836356163477],[2.1340829908583854,41.38541468652647],[2.132029490637794,41.38630420336262],[2.1299759904172038,41.38541468652647],[2.1299759904172038,41.3836356163477],[2.132029490637794,41.38274606300517]]]}},{\"type\":\"Feature\",\"id\":\"0.03721093436124713,0.7950298505551036\",\"geometry\":{\"type\":\"Polygon\",\"coordinates\":[[[2.132029490637794,41.39341989996736],[2.1340829908583854,41.394309307281695],[2.1340829908583854,41.39608808540234],[2.132029490637794,41.39697745620856],[2.1299759904172038,41.39608808540234],[2.1299759904172038,41.394309307281695],[2.132029490637794,41.39341989996736]]]}},{\"type\":\"Feature\",\"id\":\"0.03721093436124713,0.7951540051349223\",\"geometry\":{\"type\":\"Polygon\",\"coordinates\":[[[2.132029490637794,41.398756161312505],[2.1340829908583854,41.39964549561015],[2.1340829908583854,41.401424127696544],[2.132029490637794,41.40231342548522],[2.1299759904172038,41.401424127696544],[2.1299759904172038,41.39964549561015],[2.132029490637794,41.398756161312505]]]}},{\"type\":\"Feature\",\"id\":\"0.03721093436124713,0.7954023142945599\",\"geometry\":{\"type\":\"Polygon\",\"coordinates\":[[[2.132029490637794,41.40942736967922],[2.1340829908583854,41.41031655793835],[2.1340829908583854,41.412094897946005],[2.132029490637794,41.41298404969442],[2.1299759904172038,41.412094897946005],[2.1299759904172038,41.41031655793835],[2.132029490637794,41.40942736967922]]]}},{\"type\":\"Feature\",\"id\":\"0.03721093436124713,0.7956506234541973\",\"geometry\":{\"type\":\"Polygon\",\"coordinates\":[[[2.132029490637794,41.42009682554596],[2.1340829908583854,41.42098586775969],[2.1340829908583854,41.42276391567488],[2.132029490637794,41.42365292137622],[2.1299759904172038,41.42276391567488],[2.1299759904172038,41.42098586775969],[2.132029490637794,41.42009682554596]]]}},{\"type\":\"Feature\",\"id\":\"0.03721093436124713,0.7957747780340161\",\"geometry\":{\"type\":\"Polygon\",\"coordinates\":[[[2.132029490637794,41.42543089626615],[2.1340829908583854,41.42631986545462],[2.1340829908583854,41.42809776731846],[2.132029490637794,41.42898669999367],[2.1299759904172038,41.42809776731846],[2.1299759904172038,41.42631986545462],[2.132029490637794,41.42543089626615]]]}},{\"type\":\"Feature\",\"id\":\"0.037282615041326614,0.7941607684963722\",\"geometry\":{\"type\":\"Polygon\",\"coordinates\":[[[2.136136491078976,41.35605380449684],[2.138189991299567,41.35694372287964],[2.138189991299567,41.35872352314324],[2.136136491078976,41.359613405023964],[2.1340829908583854,41.35872352314324],[2.1340829908583854,41.35694372287964],[2.136136491078976,41.35605380449684]]]}},{\"type\":\"Feature\",\"id\":\"0.037282615041326614,0.7942849230761909\",\"geometry\":{\"type\":\"Polygon\",\"coordinates\":[[[2.136136491078976,41.36139313228299],[2.138189991299567,41.3622829776612],[2.138189991299567,41.36406263191477],[2.136136491078976,41.36495244079003],[2.1340829908583854,41.36406263191477],[2.1340829908583854,41.3622829776612],[2.136136491078976,41.36139313228299]]]}},{\"type\":\"Feature\",\"id\":\"0.037282615041326614,0.7944090776560098\",\"geometry\":{\"type\":\"Polygon\",\"coordinates\":[[[2.136136491078976,41.3667320220373],[2.138189991299567,41.36762179440918],[2.138189991299567,41.369401302649266],[2.136136491078976,41.37029103851734],[2.1340829908583854,41.369401302649266],[2.1340829908583854,41.36762179440918],[2.136136491078976,41.3667320220373]]]}},{\"type\":\"Feature\",\"id\":\"0.037282615041326614,0.7945332322358285\",\"geometry\":{\"type\":\"Polygon\",\"coordinates\":[[[2.136136491078976,41.37207047374936],[2.138189991299567,41.37296017311321],[2.138189991299567,41.37473953533631],[2.136136491078976,41.37562919819547],[2.1340829908583854,41.37473953533631],[2.1340829908583854,41.37296017311321],[2.136136491078976,41.37207047374936]]]}},{\"type\":\"Feature\",\"id\":\"0.037282615041326614,0.7946573868156472\",\"geometry\":{\"type\":\"Polygon\",\"coordinates\":[[[2.136136491078976,41.377408487408786],[2.138189991299567,41.378298113762824],[2.138189991299567,41.380077329965495],[2.136136491078976,41.380966919814014],[2.1340829908583854,41.380077329965495],[2.1340829908583854,41.378298113762824],[2.136136491078976,41.377408487408786]]]}},{\"type\":\"Feature\",\"id\":\"0.037282615041326614,0.794781541395466\",\"geometry\":{\"type\":\"Polygon\",\"coordinates\":[[[2.136136491078976,41.38274606300517],[2.138189991299567,41.3836356163477],[2.138189991299567,41.38541468652647],[2.136136491078976,41.38630420336262],[2.1340829908583854,41.38541468652647],[2.1340829908583854,41.3836356163477],[2.136136491078976,41.38274606300517]]]}},{\"type\":\"Feature\",\"id\":\"0.037282615041326614,0.7949056959752848\",\"geometry\":{\"type\":\"Polygon\",\"coordinates\":[[[2.136136491078976,41.38808320052814],[2.138189991299567,41.38897268085745],[2.138189991299567,41.390751605008894],[2.136136491078976,41.3916410488309],[2.1340829908583854,41.390751605008894],[2.1340829908583854,41.38897268085745],[2.136136491078976,41.38808320052814]]]}},{\"type\":\"Feature\",\"id\":\"0.037282615041326614,0.7950298505551036\",\"geometry\":{\"type\":\"Polygon\",\"coordinates\":[[[2.136136491078976,41.39341989996736],[2.138189991299567,41.394309307281695],[2.138189991299567,41.39608808540234],[2.136136491078976,41.39697745620856],[2.1340829908583854,41.39608808540234],[2.1340829908583854,41.394309307281695],[2.136136491078976,41.39341989996736]]]}},{\"type\":\"Feature\",\"id\":\"0.037282615041326614,0.7951540051349223\",\"geometry\":{\"type\":\"Polygon\",\"coordinates\":[[[2.136136491078976,41.398756161312505],[2.138189991299567,41.39964549561015],[2.138189991299567,41.401424127696544],[2.136136491078976,41.40231342548522],[2.1340829908583854,41.401424127696544],[2.1340829908583854,41.39964549561015],[2.136136491078976,41.398756161312505]]]}},{\"type\":\"Feature\",\"id\":\"0.037282615041326614,0.795278159714741\",\"geometry\":{\"type\":\"Polygon\",\"coordinates\":[[[2.136136491078976,41.40409198455321],[2.138189991299567,41.40498124583247],[2.138189991299567,41.40675973188121],[2.136136491078976,41.4076489566506],[2.1340829908583854,41.40675973188121],[2.1340829908583854,41.40498124583247],[2.136136491078976,41.40409198455321]]]}},{\"type\":\"Feature\",\"id\":\"0.037354295721406104,0.7941607684963722\",\"geometry\":{\"type\":\"Polygon\",\"coordinates\":[[[2.1402434915201587,41.35605380449684],[2.1422969917407495,41.35694372287964],[2.1422969917407495,41.35872352314324],[2.1402434915201587,41.359613405023964],[2.1381899912995674,41.35872352314324],[2.1381899912995674,41.35694372287964],[2.1402434915201587,41.35605380449684]]]}},{\"type\":\"Feature\",\"id\":\"0.037354295721406104,0.7942849230761909\",\"geometry\":{\"type\":\"Polygon\",\"coordinates\":[[[2.1402434915201587,41.36139313228299],[2.1422969917407495,41.3622829776612],[2.1422969917407495,41.36406263191477],[2.1402434915201587,41.36495244079003],[2.1381899912995674,41.36406263191477],[2.1381899912995674,41.3622829776612],[2.1402434915201587,41.36139313228299]]]}},{\"type\":\"Feature\",\"id\":\"0.037354295721406104,0.7944090776560098\",\"geometry\":{\"type\":\"Polygon\",\"coordinates\":[[[2.1402434915201587,41.3667320220373],[2.1422969917407495,41.36762179440918],[2.1422969917407495,41.369401302649266],[2.1402434915201587,41.37029103851734],[2.1381899912995674,41.369401302649266],[2.1381899912995674,41.36762179440918],[2.1402434915201587,41.3667320220373]]]}},{\"type\":\"Feature\",\"id\":\"0.037354295721406104,0.7945332322358285\",\"geometry\":{\"type\":\"Polygon\",\"coordinates\":[[[2.1402434915201587,41.37207047374936],[2.1422969917407495,41.37296017311321],[2.1422969917407495,41.37473953533631],[2.1402434915201587,41.37562919819547],[2.1381899912995674,41.37473953533631],[2.1381899912995674,41.37296017311321],[2.1402434915201587,41.37207047374936]]]}},{\"type\":\"Feature\",\"id\":\"0.037354295721406104,0.7946573868156472\",\"geometry\":{\"type\":\"Polygon\",\"coordinates\":[[[2.1402434915201587,41.377408487408786],[2.1422969917407495,41.378298113762824],[2.1422969917407495,41.380077329965495],[2.1402434915201587,41.380966919814014],[2.1381899912995674,41.380077329965495],[2.1381899912995674,41.378298113762824],[2.1402434915201587,41.377408487408786]]]}},{\"type\":\"Feature\",\"id\":\"0.037354295721406104,0.794781541395466\",\"geometry\":{\"type\":\"Polygon\",\"coordinates\":[[[2.1402434915201587,41.38274606300517],[2.1422969917407495,41.3836356163477],[2.1422969917407495,41.38541468652647],[2.1402434915201587,41.38630420336262],[2.1381899912995674,41.38541468652647],[2.1381899912995674,41.3836356163477],[2.1402434915201587,41.38274606300517]]]}},{\"type\":\"Feature\",\"id\":\"0.037354295721406104,0.7949056959752848\",\"geometry\":{\"type\":\"Polygon\",\"coordinates\":[[[2.1402434915201587,41.38808320052814],[2.1422969917407495,41.38897268085745],[2.1422969917407495,41.390751605008894],[2.1402434915201587,41.3916410488309],[2.1381899912995674,41.390751605008894],[2.1381899912995674,41.38897268085745],[2.1402434915201587,41.38808320052814]]]}},{\"type\":\"Feature\",\"id\":\"0.037354295721406104,0.7950298505551036\",\"geometry\":{\"type\":\"Polygon\",\"coordinates\":[[[2.1402434915201587,41.39341989996736],[2.1422969917407495,41.394309307281695],[2.1422969917407495,41.39608808540234],[2.1402434915201587,41.39697745620856],[2.1381899912995674,41.39608808540234],[2.1381899912995674,41.394309307281695],[2.1402434915201587,41.39341989996736]]]}},{\"type\":\"Feature\",\"id\":\"0.037354295721406104,0.7951540051349223\",\"geometry\":{\"type\":\"Polygon\",\"coordinates\":[[[2.1402434915201587,41.398756161312505],[2.1422969917407495,41.39964549561015],[2.1422969917407495,41.401424127696544],[2.1402434915201587,41.40231342548522],[2.1381899912995674,41.401424127696544],[2.1381899912995674,41.39964549561015],[2.1402434915201587,41.398756161312505]]]}},{\"type\":\"Feature\",\"id\":\"0.037354295721406104,0.795278159714741\",\"geometry\":{\"type\":\"Polygon\",\"coordinates\":[[[2.1402434915201587,41.40409198455321],[2.1422969917407495,41.40498124583247],[2.1422969917407495,41.40675973188121],[2.1402434915201587,41.4076489566506],[2.1381899912995674,41.40675973188121],[2.1381899912995674,41.40498124583247],[2.1402434915201587,41.40409198455321]]]}},{\"type\":\"Feature\",\"id\":\"0.037354295721406104,0.7954023142945599\",\"geometry\":{\"type\":\"Polygon\",\"coordinates\":[[[2.1402434915201587,41.40942736967922],[2.1422969917407495,41.41031655793835],[2.1422969917407495,41.412094897946005],[2.1402434915201587,41.41298404969442],[2.1381899912995674,41.412094897946005],[2.1381899912995674,41.41031655793835],[2.1402434915201587,41.40942736967922]]]}},{\"type\":\"Feature\",\"id\":\"0.037354295721406104,0.7956506234541973\",\"geometry\":{\"type\":\"Polygon\",\"coordinates\":[[[2.1402434915201587,41.42009682554596],[2.1422969917407495,41.42098586775969],[2.1422969917407495,41.42276391567488],[2.1402434915201587,41.42365292137622],[2.1381899912995674,41.42276391567488],[2.1381899912995674,41.42098586775969],[2.1402434915201587,41.42009682554596]]]}},{\"type\":\"Feature\",\"id\":\"0.037354295721406104,0.7958989326138349\",\"geometry\":{\"type\":\"Polygon\",\"coordinates\":[[[2.1402434915201587,41.43076452883055],[2.1422969917407495,41.4316534249921],[2.1422969917407495,41.43343118080115],[2.1402434915201587,41.43432004044856],[2.1381899912995674,41.43343118080115],[2.1381899912995674,41.4316534249921],[2.1402434915201587,41.43076452883055]]]}},{\"type\":\"Feature\",\"id\":\"0.037425976401485594,0.7944090776560098\",\"geometry\":{\"type\":\"Polygon\",\"coordinates\":[[[2.1443504919613408,41.3667320220373],[2.1464039921819316,41.36762179440918],[2.1464039921819316,41.369401302649266],[2.1443504919613408,41.37029103851734],[2.14229699174075,41.369401302649266],[2.14229699174075,41.36762179440918],[2.1443504919613408,41.3667320220373]]]}},{\"type\":\"Feature\",\"id\":\"0.037425976401485594,0.7945332322358285\",\"geometry\":{\"type\":\"Polygon\",\"coordinates\":[[[2.1443504919613408,41.37207047374936],[2.1464039921819316,41.37296017311321],[2.1464039921819316,41.37473953533631],[2.1443504919613408,41.37562919819547],[2.14229699174075,41.37473953533631],[2.14229699174075,41.37296017311321],[2.1443504919613408,41.37207047374936]]]}},{\"type\":\"Feature\",\"id\":\"0.037425976401485594,0.7946573868156472\",\"geometry\":{\"type\":\"Polygon\",\"coordinates\":[[[2.1443504919613408,41.377408487408786],[2.1464039921819316,41.378298113762824],[2.1464039921819316,41.380077329965495],[2.1443504919613408,41.380966919814014],[2.14229699174075,41.380077329965495],[2.14229699174075,41.378298113762824],[2.1443504919613408,41.377408487408786]]]}},{\"type\":\"Feature\",\"id\":\"0.037425976401485594,0.794781541395466\",\"geometry\":{\"type\":\"Polygon\",\"coordinates\":[[[2.1443504919613408,41.38274606300517],[2.1464039921819316,41.3836356163477],[2.1464039921819316,41.38541468652647],[2.1443504919613408,41.38630420336262],[2.14229699174075,41.38541468652647],[2.14229699174075,41.3836356163477],[2.1443504919613408,41.38274606300517]]]}},{\"type\":\"Feature\",\"id\":\"0.037425976401485594,0.7949056959752848\",\"geometry\":{\"type\":\"Polygon\",\"coordinates\":[[[2.1443504919613408,41.38808320052814],[2.1464039921819316,41.38897268085745],[2.1464039921819316,41.390751605008894],[2.1443504919613408,41.3916410488309],[2.14229699174075,41.390751605008894],[2.14229699174075,41.38897268085745],[2.1443504919613408,41.38808320052814]]]}},{\"type\":\"Feature\",\"id\":\"0.037425976401485594,0.7950298505551036\",\"geometry\":{\"type\":\"Polygon\",\"coordinates\":[[[2.1443504919613408,41.39341989996736],[2.1464039921819316,41.394309307281695],[2.1464039921819316,41.39608808540234],[2.1443504919613408,41.39697745620856],[2.14229699174075,41.39608808540234],[2.14229699174075,41.394309307281695],[2.1443504919613408,41.39341989996736]]]}},{\"type\":\"Feature\",\"id\":\"0.037425976401485594,0.7951540051349223\",\"geometry\":{\"type\":\"Polygon\",\"coordinates\":[[[2.1443504919613408,41.398756161312505],[2.1464039921819316,41.39964549561015],[2.1464039921819316,41.401424127696544],[2.1443504919613408,41.40231342548522],[2.14229699174075,41.401424127696544],[2.14229699174075,41.39964549561015],[2.1443504919613408,41.398756161312505]]]}},{\"type\":\"Feature\",\"id\":\"0.037425976401485594,0.795278159714741\",\"geometry\":{\"type\":\"Polygon\",\"coordinates\":[[[2.1443504919613408,41.40409198455321],[2.1464039921819316,41.40498124583247],[2.1464039921819316,41.40675973188121],[2.1443504919613408,41.4076489566506],[2.14229699174075,41.40675973188121],[2.14229699174075,41.40498124583247],[2.1443504919613408,41.40409198455321]]]}},{\"type\":\"Feature\",\"id\":\"0.037425976401485594,0.7954023142945599\",\"geometry\":{\"type\":\"Polygon\",\"coordinates\":[[[2.1443504919613408,41.40942736967922],[2.1464039921819316,41.41031655793835],[2.1464039921819316,41.412094897946005],[2.1443504919613408,41.41298404969442],[2.14229699174075,41.412094897946005],[2.14229699174075,41.41031655793835],[2.1443504919613408,41.40942736967922]]]}},{\"type\":\"Feature\",\"id\":\"0.037425976401485594,0.7956506234541973\",\"geometry\":{\"type\":\"Polygon\",\"coordinates\":[[[2.1443504919613408,41.42009682554596],[2.1464039921819316,41.42098586775969],[2.1464039921819316,41.42276391567488],[2.1443504919613408,41.42365292137622],[2.14229699174075,41.42276391567488],[2.14229699174075,41.42098586775969],[2.1443504919613408,41.42009682554596]]]}},{\"type\":\"Feature\",\"id\":\"0.037425976401485594,0.7958989326138349\",\"geometry\":{\"type\":\"Polygon\",\"coordinates\":[[[2.1443504919613408,41.43076452883055],[2.1464039921819316,41.4316534249921],[2.1464039921819316,41.43343118080115],[2.1443504919613408,41.43432004044856],[2.14229699174075,41.43343118080115],[2.14229699174075,41.4316534249921],[2.1443504919613408,41.43076452883055]]]}},{\"type\":\"Feature\",\"id\":\"0.03749765708156508,0.7945332322358285\",\"geometry\":{\"type\":\"Polygon\",\"coordinates\":[[[2.148457492402523,41.37207047374936],[2.1505109926231136,41.37296017311321],[2.1505109926231136,41.37473953533631],[2.148457492402523,41.37562919819547],[2.1464039921819316,41.37473953533631],[2.1464039921819316,41.37296017311321],[2.148457492402523,41.37207047374936]]]}},{\"type\":\"Feature\",\"id\":\"0.03749765708156508,0.7946573868156472\",\"geometry\":{\"type\":\"Polygon\",\"coordinates\":[[[2.148457492402523,41.377408487408786],[2.1505109926231136,41.378298113762824],[2.1505109926231136,41.380077329965495],[2.148457492402523,41.380966919814014],[2.1464039921819316,41.380077329965495],[2.1464039921819316,41.378298113762824],[2.148457492402523,41.377408487408786]]]}},{\"type\":\"Feature\",\"id\":\"0.03749765708156508,0.794781541395466\",\"geometry\":{\"type\":\"Polygon\",\"coordinates\":[[[2.148457492402523,41.38274606300517],[2.1505109926231136,41.3836356163477],[2.1505109926231136,41.38541468652647],[2.148457492402523,41.38630420336262],[2.1464039921819316,41.38541468652647],[2.1464039921819316,41.3836356163477],[2.148457492402523,41.38274606300517]]]}},{\"type\":\"Feature\",\"id\":\"0.03749765708156508,0.7949056959752848\",\"geometry\":{\"type\":\"Polygon\",\"coordinates\":[[[2.148457492402523,41.38808320052814],[2.1505109926231136,41.38897268085745],[2.1505109926231136,41.390751605008894],[2.148457492402523,41.3916410488309],[2.1464039921819316,41.390751605008894],[2.1464039921819316,41.38897268085745],[2.148457492402523,41.38808320052814]]]}},{\"type\":\"Feature\",\"id\":\"0.03749765708156508,0.7950298505551036\",\"geometry\":{\"type\":\"Polygon\",\"coordinates\":[[[2.148457492402523,41.39341989996736],[2.1505109926231136,41.394309307281695],[2.1505109926231136,41.39608808540234],[2.148457492402523,41.39697745620856],[2.1464039921819316,41.39608808540234],[2.1464039921819316,41.394309307281695],[2.148457492402523,41.39341989996736]]]}},{\"type\":\"Feature\",\"id\":\"0.03749765708156508,0.7951540051349223\",\"geometry\":{\"type\":\"Polygon\",\"coordinates\":[[[2.148457492402523,41.398756161312505],[2.1505109926231136,41.39964549561015],[2.1505109926231136,41.401424127696544],[2.148457492402523,41.40231342548522],[2.1464039921819316,41.401424127696544],[2.1464039921819316,41.39964549561015],[2.148457492402523,41.398756161312505]]]}},{\"type\":\"Feature\",\"id\":\"0.03749765708156508,0.795278159714741\",\"geometry\":{\"type\":\"Polygon\",\"coordinates\":[[[2.148457492402523,41.40409198455321],[2.1505109926231136,41.40498124583247],[2.1505109926231136,41.40675973188121],[2.148457492402523,41.4076489566506],[2.1464039921819316,41.40675973188121],[2.1464039921819316,41.40498124583247],[2.148457492402523,41.40409198455321]]]}},{\"type\":\"Feature\",\"id\":\"0.03749765708156508,0.7954023142945599\",\"geometry\":{\"type\":\"Polygon\",\"coordinates\":[[[2.148457492402523,41.40942736967922],[2.1505109926231136,41.41031655793835],[2.1505109926231136,41.412094897946005],[2.148457492402523,41.41298404969442],[2.1464039921819316,41.412094897946005],[2.1464039921819316,41.41031655793835],[2.148457492402523,41.40942736967922]]]}},{\"type\":\"Feature\",\"id\":\"0.03749765708156508,0.7955264688743786\",\"geometry\":{\"type\":\"Polygon\",\"coordinates\":[[[2.148457492402523,41.414762316680246],[2.1505109926231136,41.41565143191752],[2.1505109926231136,41.41742962588065],[2.148457492402523,41.41831870460638],[2.1464039921819316,41.41742962588065],[2.1464039921819316,41.41565143191752],[2.148457492402523,41.414762316680246]]]}},{\"type\":\"Feature\",\"id\":\"0.03749765708156508,0.7956506234541973\",\"geometry\":{\"type\":\"Polygon\",\"coordinates\":[[[2.148457492402523,41.42009682554596],[2.1505109926231136,41.42098586775969],[2.1505109926231136,41.42276391567488],[2.148457492402523,41.42365292137622],[2.1464039921819316,41.42276391567488],[2.1464039921819316,41.42098586775969],[2.148457492402523,41.42009682554596]]]}},{\"type\":\"Feature\",\"id\":\"0.03749765708156508,0.7957747780340161\",\"geometry\":{\"type\":\"Polygon\",\"coordinates\":[[[2.148457492402523,41.42543089626615],[2.1505109926231136,41.42631986545462],[2.1505109926231136,41.42809776731846],[2.148457492402523,41.42898669999367],[2.1464039921819316,41.42809776731846],[2.1464039921819316,41.42631986545462],[2.148457492402523,41.42543089626615]]]}},{\"type\":\"Feature\",\"id\":\"0.03756933776164457,0.7945332322358285\",\"geometry\":{\"type\":\"Polygon\",\"coordinates\":[[[2.152564492843705,41.37207047374936],[2.154617993064296,41.37296017311321],[2.154617993064296,41.37473953533631],[2.152564492843705,41.37562919819547],[2.150510992623114,41.37473953533631],[2.150510992623114,41.37296017311321],[2.152564492843705,41.37207047374936]]]}},{\"type\":\"Feature\",\"id\":\"0.03756933776164457,0.7946573868156472\",\"geometry\":{\"type\":\"Polygon\",\"coordinates\":[[[2.152564492843705,41.377408487408786],[2.154617993064296,41.378298113762824],[2.154617993064296,41.380077329965495],[2.152564492843705,41.380966919814014],[2.150510992623114,41.380077329965495],[2.150510992623114,41.378298113762824],[2.152564492843705,41.377408487408786]]]}},{\"type\":\"Feature\",\"id\":\"0.03756933776164457,0.794781541395466\",\"geometry\":{\"type\":\"Polygon\",\"coordinates\":[[[2.152564492843705,41.38274606300517],[2.154617993064296,41.3836356163477],[2.154617993064296,41.38541468652647],[2.152564492843705,41.38630420336262],[2.150510992623114,41.38541468652647],[2.150510992623114,41.3836356163477],[2.152564492843705,41.38274606300517]]]}},{\"type\":\"Feature\",\"id\":\"0.03756933776164457,0.7949056959752848\",\"geometry\":{\"type\":\"Polygon\",\"coordinates\":[[[2.152564492843705,41.38808320052814],[2.154617993064296,41.38897268085745],[2.154617993064296,41.390751605008894],[2.152564492843705,41.3916410488309],[2.150510992623114,41.390751605008894],[2.150510992623114,41.38897268085745],[2.152564492843705,41.38808320052814]]]}},{\"type\":\"Feature\",\"id\":\"0.03756933776164457,0.7950298505551036\",\"geometry\":{\"type\":\"Polygon\",\"coordinates\":[[[2.152564492843705,41.39341989996736],[2.154617993064296,41.394309307281695],[2.154617993064296,41.39608808540234],[2.152564492843705,41.39697745620856],[2.150510992623114,41.39608808540234],[2.150510992623114,41.394309307281695],[2.152564492843705,41.39341989996736]]]}},{\"type\":\"Feature\",\"id\":\"0.03756933776164457,0.7951540051349223\",\"geometry\":{\"type\":\"Polygon\",\"coordinates\":[[[2.152564492843705,41.398756161312505],[2.154617993064296,41.39964549561015],[2.154617993064296,41.401424127696544],[2.152564492843705,41.40231342548522],[2.150510992623114,41.401424127696544],[2.150510992623114,41.39964549561015],[2.152564492843705,41.398756161312505]]]}},{\"type\":\"Feature\",\"id\":\"0.03756933776164457,0.795278159714741\",\"geometry\":{\"type\":\"Polygon\",\"coordinates\":[[[2.152564492843705,41.40409198455321],[2.154617993064296,41.40498124583247],[2.154617993064296,41.40675973188121],[2.152564492843705,41.4076489566506],[2.150510992623114,41.40675973188121],[2.150510992623114,41.40498124583247],[2.152564492843705,41.40409198455321]]]}},{\"type\":\"Feature\",\"id\":\"0.03756933776164457,0.7954023142945599\",\"geometry\":{\"type\":\"Polygon\",\"coordinates\":[[[2.152564492843705,41.40942736967922],[2.154617993064296,41.41031655793835],[2.154617993064296,41.412094897946005],[2.152564492843705,41.41298404969442],[2.150510992623114,41.412094897946005],[2.150510992623114,41.41031655793835],[2.152564492843705,41.40942736967922]]]}},{\"type\":\"Feature\",\"id\":\"0.03756933776164457,0.7956506234541973\",\"geometry\":{\"type\":\"Polygon\",\"coordinates\":[[[2.152564492843705,41.42009682554596],[2.154617993064296,41.42098586775969],[2.154617993064296,41.42276391567488],[2.152564492843705,41.42365292137622],[2.150510992623114,41.42276391567488],[2.150510992623114,41.42098586775969],[2.152564492843705,41.42009682554596]]]}},{\"type\":\"Feature\",\"id\":\"0.03756933776164457,0.7958989326138349\",\"geometry\":{\"type\":\"Polygon\",\"coordinates\":[[[2.152564492843705,41.43076452883055],[2.154617993064296,41.4316534249921],[2.154617993064296,41.43343118080115],[2.152564492843705,41.43432004044856],[2.150510992623114,41.43343118080115],[2.150510992623114,41.4316534249921],[2.152564492843705,41.43076452883055]]]}},{\"type\":\"Feature\",\"id\":\"0.03764101844172406,0.7945332322358285\",\"geometry\":{\"type\":\"Polygon\",\"coordinates\":[[[2.1566714932848874,41.37207047374936],[2.158724993505478,41.37296017311321],[2.158724993505478,41.37473953533631],[2.1566714932848874,41.37562919819547],[2.154617993064296,41.37473953533631],[2.154617993064296,41.37296017311321],[2.1566714932848874,41.37207047374936]]]}},{\"type\":\"Feature\",\"id\":\"0.03764101844172406,0.7946573868156472\",\"geometry\":{\"type\":\"Polygon\",\"coordinates\":[[[2.1566714932848874,41.377408487408786],[2.158724993505478,41.378298113762824],[2.158724993505478,41.380077329965495],[2.1566714932848874,41.380966919814014],[2.154617993064296,41.380077329965495],[2.154617993064296,41.378298113762824],[2.1566714932848874,41.377408487408786]]]}},{\"type\":\"Feature\",\"id\":\"0.03764101844172406,0.794781541395466\",\"geometry\":{\"type\":\"Polygon\",\"coordinates\":[[[2.1566714932848874,41.38274606300517],[2.158724993505478,41.3836356163477],[2.158724993505478,41.38541468652647],[2.1566714932848874,41.38630420336262],[2.154617993064296,41.38541468652647],[2.154617993064296,41.3836356163477],[2.1566714932848874,41.38274606300517]]]}},{\"type\":\"Feature\",\"id\":\"0.03764101844172406,0.7949056959752848\",\"geometry\":{\"type\":\"Polygon\",\"coordinates\":[[[2.1566714932848874,41.38808320052814],[2.158724993505478,41.38897268085745],[2.158724993505478,41.390751605008894],[2.1566714932848874,41.3916410488309],[2.154617993064296,41.390751605008894],[2.154617993064296,41.38897268085745],[2.1566714932848874,41.38808320052814]]]}},{\"type\":\"Feature\",\"id\":\"0.03764101844172406,0.7950298505551036\",\"geometry\":{\"type\":\"Polygon\",\"coordinates\":[[[2.1566714932848874,41.39341989996736],[2.158724993505478,41.394309307281695],[2.158724993505478,41.39608808540234],[2.1566714932848874,41.39697745620856],[2.154617993064296,41.39608808540234],[2.154617993064296,41.394309307281695],[2.1566714932848874,41.39341989996736]]]}},{\"type\":\"Feature\",\"id\":\"0.03764101844172406,0.7951540051349223\",\"geometry\":{\"type\":\"Polygon\",\"coordinates\":[[[2.1566714932848874,41.398756161312505],[2.158724993505478,41.39964549561015],[2.158724993505478,41.401424127696544],[2.1566714932848874,41.40231342548522],[2.154617993064296,41.401424127696544],[2.154617993064296,41.39964549561015],[2.1566714932848874,41.398756161312505]]]}},{\"type\":\"Feature\",\"id\":\"0.03764101844172406,0.795278159714741\",\"geometry\":{\"type\":\"Polygon\",\"coordinates\":[[[2.1566714932848874,41.40409198455321],[2.158724993505478,41.40498124583247],[2.158724993505478,41.40675973188121],[2.1566714932848874,41.4076489566506],[2.154617993064296,41.40675973188121],[2.154617993064296,41.40498124583247],[2.1566714932848874,41.40409198455321]]]}},{\"type\":\"Feature\",\"id\":\"0.03764101844172406,0.7954023142945599\",\"geometry\":{\"type\":\"Polygon\",\"coordinates\":[[[2.1566714932848874,41.40942736967922],[2.158724993505478,41.41031655793835],[2.158724993505478,41.412094897946005],[2.1566714932848874,41.41298404969442],[2.154617993064296,41.412094897946005],[2.154617993064296,41.41031655793835],[2.1566714932848874,41.40942736967922]]]}},{\"type\":\"Feature\",\"id\":\"0.03764101844172406,0.7955264688743786\",\"geometry\":{\"type\":\"Polygon\",\"coordinates\":[[[2.1566714932848874,41.414762316680246],[2.158724993505478,41.41565143191752],[2.158724993505478,41.41742962588065],[2.1566714932848874,41.41831870460638],[2.154617993064296,41.41742962588065],[2.154617993064296,41.41565143191752],[2.1566714932848874,41.414762316680246]]]}},{\"type\":\"Feature\",\"id\":\"0.03764101844172406,0.7956506234541973\",\"geometry\":{\"type\":\"Polygon\",\"coordinates\":[[[2.1566714932848874,41.42009682554596],[2.158724993505478,41.42098586775969],[2.158724993505478,41.42276391567488],[2.1566714932848874,41.42365292137622],[2.154617993064296,41.42276391567488],[2.154617993064296,41.42098586775969],[2.1566714932848874,41.42009682554596]]]}},{\"type\":\"Feature\",\"id\":\"0.03764101844172406,0.7957747780340161\",\"geometry\":{\"type\":\"Polygon\",\"coordinates\":[[[2.1566714932848874,41.42543089626615],[2.158724993505478,41.42631986545462],[2.158724993505478,41.42809776731846],[2.1566714932848874,41.42898669999367],[2.154617993064296,41.42809776731846],[2.154617993064296,41.42631986545462],[2.1566714932848874,41.42543089626615]]]}},{\"type\":\"Feature\",\"id\":\"0.03764101844172406,0.7958989326138349\",\"geometry\":{\"type\":\"Polygon\",\"coordinates\":[[[2.1566714932848874,41.43076452883055],[2.158724993505478,41.4316534249921],[2.158724993505478,41.43343118080115],[2.1566714932848874,41.43432004044856],[2.154617993064296,41.43343118080115],[2.154617993064296,41.4316534249921],[2.1566714932848874,41.43076452883055]]]}},{\"type\":\"Feature\",\"id\":\"0.03764101844172406,0.7960230871936537\",\"geometry\":{\"type\":\"Polygon\",\"coordinates\":[[[2.1566714932848874,41.43609772322898],[2.158724993505478,41.43698654636185],[2.158724993505478,41.43876415611273],[2.1566714932848874,41.439652942730646],[2.154617993064296,41.43876415611273],[2.154617993064296,41.43698654636185],[2.1566714932848874,41.43609772322898]]]}},{\"type\":\"Feature\",\"id\":\"0.03771269912180354,0.7945332322358285\",\"geometry\":{\"type\":\"Polygon\",\"coordinates\":[[[2.160778493726069,41.37207047374936],[2.16283199394666,41.37296017311321],[2.16283199394666,41.37473953533631],[2.160778493726069,41.37562919819547],[2.158724993505478,41.37473953533631],[2.158724993505478,41.37296017311321],[2.160778493726069,41.37207047374936]]]}},{\"type\":\"Feature\",\"id\":\"0.03771269912180354,0.7946573868156472\",\"geometry\":{\"type\":\"Polygon\",\"coordinates\":[[[2.160778493726069,41.377408487408786],[2.16283199394666,41.378298113762824],[2.16283199394666,41.380077329965495],[2.160778493726069,41.380966919814014],[2.158724993505478,41.380077329965495],[2.158724993505478,41.378298113762824],[2.160778493726069,41.377408487408786]]]}},{\"type\":\"Feature\",\"id\":\"0.03771269912180354,0.794781541395466\",\"geometry\":{\"type\":\"Polygon\",\"coordinates\":[[[2.160778493726069,41.38274606300517],[2.16283199394666,41.3836356163477],[2.16283199394666,41.38541468652647],[2.160778493726069,41.38630420336262],[2.158724993505478,41.38541468652647],[2.158724993505478,41.3836356163477],[2.160778493726069,41.38274606300517]]]}},{\"type\":\"Feature\",\"id\":\"0.03771269912180354,0.7949056959752848\",\"geometry\":{\"type\":\"Polygon\",\"coordinates\":[[[2.160778493726069,41.38808320052814],[2.16283199394666,41.38897268085745],[2.16283199394666,41.390751605008894],[2.160778493726069,41.3916410488309],[2.158724993505478,41.390751605008894],[2.158724993505478,41.38897268085745],[2.160778493726069,41.38808320052814]]]}},{\"type\":\"Feature\",\"id\":\"0.03771269912180354,0.7950298505551036\",\"geometry\":{\"type\":\"Polygon\",\"coordinates\":[[[2.160778493726069,41.39341989996736],[2.16283199394666,41.394309307281695],[2.16283199394666,41.39608808540234],[2.160778493726069,41.39697745620856],[2.158724993505478,41.39608808540234],[2.158724993505478,41.394309307281695],[2.160778493726069,41.39341989996736]]]}},{\"type\":\"Feature\",\"id\":\"0.03771269912180354,0.7951540051349223\",\"geometry\":{\"type\":\"Polygon\",\"coordinates\":[[[2.160778493726069,41.398756161312505],[2.16283199394666,41.39964549561015],[2.16283199394666,41.401424127696544],[2.160778493726069,41.40231342548522],[2.158724993505478,41.401424127696544],[2.158724993505478,41.39964549561015],[2.160778493726069,41.398756161312505]]]}},{\"type\":\"Feature\",\"id\":\"0.03771269912180354,0.795278159714741\",\"geometry\":{\"type\":\"Polygon\",\"coordinates\":[[[2.160778493726069,41.40409198455321],[2.16283199394666,41.40498124583247],[2.16283199394666,41.40675973188121],[2.160778493726069,41.4076489566506],[2.158724993505478,41.40675973188121],[2.158724993505478,41.40498124583247],[2.160778493726069,41.40409198455321]]]}},{\"type\":\"Feature\",\"id\":\"0.03771269912180354,0.7954023142945599\",\"geometry\":{\"type\":\"Polygon\",\"coordinates\":[[[2.160778493726069,41.40942736967922],[2.16283199394666,41.41031655793835],[2.16283199394666,41.412094897946005],[2.160778493726069,41.41298404969442],[2.158724993505478,41.412094897946005],[2.158724993505478,41.41031655793835],[2.160778493726069,41.40942736967922]]]}},{\"type\":\"Feature\",\"id\":\"0.03771269912180354,0.7955264688743786\",\"geometry\":{\"type\":\"Polygon\",\"coordinates\":[[[2.160778493726069,41.414762316680246],[2.16283199394666,41.41565143191752],[2.16283199394666,41.41742962588065],[2.160778493726069,41.41831870460638],[2.158724993505478,41.41742962588065],[2.158724993505478,41.41565143191752],[2.160778493726069,41.414762316680246]]]}},{\"type\":\"Feature\",\"id\":\"0.03771269912180354,0.7956506234541973\",\"geometry\":{\"type\":\"Polygon\",\"coordinates\":[[[2.160778493726069,41.42009682554596],[2.16283199394666,41.42098586775969],[2.16283199394666,41.42276391567488],[2.160778493726069,41.42365292137622],[2.158724993505478,41.42276391567488],[2.158724993505478,41.42098586775969],[2.160778493726069,41.42009682554596]]]}},{\"type\":\"Feature\",\"id\":\"0.03771269912180354,0.7957747780340161\",\"geometry\":{\"type\":\"Polygon\",\"coordinates\":[[[2.160778493726069,41.42543089626615],[2.16283199394666,41.42631986545462],[2.16283199394666,41.42809776731846],[2.160778493726069,41.42898669999367],[2.158724993505478,41.42809776731846],[2.158724993505478,41.42631986545462],[2.160778493726069,41.42543089626615]]]}},{\"type\":\"Feature\",\"id\":\"0.03771269912180354,0.7961472417734724\",\"geometry\":{\"type\":\"Polygon\",\"coordinates\":[[[2.160778493726069,41.441430479451185],[2.16283199394666,41.4423192295537],[2.16283199394666,41.44409669324301],[2.160778493726069,41.44498540682972],[2.158724993505478,41.44409669324301],[2.158724993505478,41.4423192295537],[2.160778493726069,41.441430479451185]]]}},{\"type\":\"Feature\",\"id\":\"0.03778437980188303,0.7944090776560098\",\"geometry\":{\"type\":\"Polygon\",\"coordinates\":[[[2.164885494167251,41.3667320220373],[2.1669389943878423,41.36762179440918],[2.1669389943878423,41.369401302649266],[2.164885494167251,41.37029103851734],[2.1628319939466607,41.369401302649266],[2.1628319939466607,41.36762179440918],[2.164885494167251,41.3667320220373]]]}},{\"type\":\"Feature\",\"id\":\"0.03778437980188303,0.7945332322358285\",\"geometry\":{\"type\":\"Polygon\",\"coordinates\":[[[2.164885494167251,41.37207047374936],[2.1669389943878423,41.37296017311321],[2.1669389943878423,41.37473953533631],[2.164885494167251,41.37562919819547],[2.1628319939466607,41.37473953533631],[2.1628319939466607,41.37296017311321],[2.164885494167251,41.37207047374936]]]}},{\"type\":\"Feature\",\"id\":\"0.03778437980188303,0.7946573868156472\",\"geometry\":{\"type\":\"Polygon\",\"coordinates\":[[[2.164885494167251,41.377408487408786],[2.1669389943878423,41.378298113762824],[2.1669389943878423,41.380077329965495],[2.164885494167251,41.380966919814014],[2.1628319939466607,41.380077329965495],[2.1628319939466607,41.378298113762824],[2.164885494167251,41.377408487408786]]]}},{\"type\":\"Feature\",\"id\":\"0.03778437980188303,0.794781541395466\",\"geometry\":{\"type\":\"Polygon\",\"coordinates\":[[[2.164885494167251,41.38274606300517],[2.1669389943878423,41.3836356163477],[2.1669389943878423,41.38541468652647],[2.164885494167251,41.38630420336262],[2.1628319939466607,41.38541468652647],[2.1628319939466607,41.3836356163477],[2.164885494167251,41.38274606300517]]]}},{\"type\":\"Feature\",\"id\":\"0.03778437980188303,0.7949056959752848\",\"geometry\":{\"type\":\"Polygon\",\"coordinates\":[[[2.164885494167251,41.38808320052814],[2.1669389943878423,41.38897268085745],[2.1669389943878423,41.390751605008894],[2.164885494167251,41.3916410488309],[2.1628319939466607,41.390751605008894],[2.1628319939466607,41.38897268085745],[2.164885494167251,41.38808320052814]]]}},{\"type\":\"Feature\",\"id\":\"0.03778437980188303,0.7950298505551036\",\"geometry\":{\"type\":\"Polygon\",\"coordinates\":[[[2.164885494167251,41.39341989996736],[2.1669389943878423,41.394309307281695],[2.1669389943878423,41.39608808540234],[2.164885494167251,41.39697745620856],[2.1628319939466607,41.39608808540234],[2.1628319939466607,41.394309307281695],[2.164885494167251,41.39341989996736]]]}},{\"type\":\"Feature\",\"id\":\"0.03778437980188303,0.7951540051349223\",\"geometry\":{\"type\":\"Polygon\",\"coordinates\":[[[2.164885494167251,41.398756161312505],[2.1669389943878423,41.39964549561015],[2.1669389943878423,41.401424127696544],[2.164885494167251,41.40231342548522],[2.1628319939466607,41.401424127696544],[2.1628319939466607,41.39964549561015],[2.164885494167251,41.398756161312505]]]}},{\"type\":\"Feature\",\"id\":\"0.03778437980188303,0.795278159714741\",\"geometry\":{\"type\":\"Polygon\",\"coordinates\":[[[2.164885494167251,41.40409198455321],[2.1669389943878423,41.40498124583247],[2.1669389943878423,41.40675973188121],[2.164885494167251,41.4076489566506],[2.1628319939466607,41.40675973188121],[2.1628319939466607,41.40498124583247],[2.164885494167251,41.40409198455321]]]}},{\"type\":\"Feature\",\"id\":\"0.03778437980188303,0.7954023142945599\",\"geometry\":{\"type\":\"Polygon\",\"coordinates\":[[[2.164885494167251,41.40942736967922],[2.1669389943878423,41.41031655793835],[2.1669389943878423,41.412094897946005],[2.164885494167251,41.41298404969442],[2.1628319939466607,41.412094897946005],[2.1628319939466607,41.41031655793835],[2.164885494167251,41.40942736967922]]]}},{\"type\":\"Feature\",\"id\":\"0.03778437980188303,0.7955264688743786\",\"geometry\":{\"type\":\"Polygon\",\"coordinates\":[[[2.164885494167251,41.414762316680246],[2.1669389943878423,41.41565143191752],[2.1669389943878423,41.41742962588065],[2.164885494167251,41.41831870460638],[2.1628319939466607,41.41742962588065],[2.1628319939466607,41.41565143191752],[2.164885494167251,41.414762316680246]]]}},{\"type\":\"Feature\",\"id\":\"0.03778437980188303,0.7958989326138349\",\"geometry\":{\"type\":\"Polygon\",\"coordinates\":[[[2.164885494167251,41.43076452883055],[2.1669389943878423,41.4316534249921],[2.1669389943878423,41.43343118080115],[2.164885494167251,41.43432004044856],[2.1628319939466607,41.43343118080115],[2.1628319939466607,41.4316534249921],[2.164885494167251,41.43076452883055]]]}},{\"type\":\"Feature\",\"id\":\"0.03778437980188303,0.7961472417734724\",\"geometry\":{\"type\":\"Polygon\",\"coordinates\":[[[2.164885494167251,41.441430479451185],[2.1669389943878423,41.4423192295537],[2.1669389943878423,41.44409669324301],[2.164885494167251,41.44498540682972],[2.1628319939466607,41.44409669324301],[2.1628319939466607,41.4423192295537],[2.164885494167251,41.441430479451185]]]}},{\"type\":\"Feature\",\"id\":\"0.03785606048196252,0.7945332322358285\",\"geometry\":{\"type\":\"Polygon\",\"coordinates\":[[[2.1689924946084336,41.37207047374936],[2.1710459948290244,41.37296017311321],[2.1710459948290244,41.37473953533631],[2.1689924946084336,41.37562919819547],[2.1669389943878428,41.37473953533631],[2.1669389943878428,41.37296017311321],[2.1689924946084336,41.37207047374936]]]}},{\"type\":\"Feature\",\"id\":\"0.03785606048196252,0.7946573868156472\",\"geometry\":{\"type\":\"Polygon\",\"coordinates\":[[[2.1689924946084336,41.377408487408786],[2.1710459948290244,41.378298113762824],[2.1710459948290244,41.380077329965495],[2.1689924946084336,41.380966919814014],[2.1669389943878428,41.380077329965495],[2.1669389943878428,41.378298113762824],[2.1689924946084336,41.377408487408786]]]}},{\"type\":\"Feature\",\"id\":\"0.03785606048196252,0.794781541395466\",\"geometry\":{\"type\":\"Polygon\",\"coordinates\":[[[2.1689924946084336,41.38274606300517],[2.1710459948290244,41.3836356163477],[2.1710459948290244,41.38541468652647],[2.1689924946084336,41.38630420336262],[2.1669389943878428,41.38541468652647],[2.1669389943878428,41.3836356163477],[2.1689924946084336,41.38274606300517]]]}},{\"type\":\"Feature\",\"id\":\"0.03785606048196252,0.7949056959752848\",\"geometry\":{\"type\":\"Polygon\",\"coordinates\":[[[2.1689924946084336,41.38808320052814],[2.1710459948290244,41.38897268085745],[2.1710459948290244,41.390751605008894],[2.1689924946084336,41.3916410488309],[2.1669389943878428,41.390751605008894],[2.1669389943878428,41.38897268085745],[2.1689924946084336,41.38808320052814]]]}},{\"type\":\"Feature\",\"id\":\"0.03785606048196252,0.7950298505551036\",\"geometry\":{\"type\":\"Polygon\",\"coordinates\":[[[2.1689924946084336,41.39341989996736],[2.1710459948290244,41.394309307281695],[2.1710459948290244,41.39608808540234],[2.1689924946084336,41.39697745620856],[2.1669389943878428,41.39608808540234],[2.1669389943878428,41.394309307281695],[2.1689924946084336,41.39341989996736]]]}},{\"type\":\"Feature\",\"id\":\"0.03785606048196252,0.7951540051349223\",\"geometry\":{\"type\":\"Polygon\",\"coordinates\":[[[2.1689924946084336,41.398756161312505],[2.1710459948290244,41.39964549561015],[2.1710459948290244,41.401424127696544],[2.1689924946084336,41.40231342548522],[2.1669389943878428,41.401424127696544],[2.1669389943878428,41.39964549561015],[2.1689924946084336,41.398756161312505]]]}},{\"type\":\"Feature\",\"id\":\"0.03785606048196252,0.795278159714741\",\"geometry\":{\"type\":\"Polygon\",\"coordinates\":[[[2.1689924946084336,41.40409198455321],[2.1710459948290244,41.40498124583247],[2.1710459948290244,41.40675973188121],[2.1689924946084336,41.4076489566506],[2.1669389943878428,41.40675973188121],[2.1669389943878428,41.40498124583247],[2.1689924946084336,41.40409198455321]]]}},{\"type\":\"Feature\",\"id\":\"0.03785606048196252,0.7954023142945599\",\"geometry\":{\"type\":\"Polygon\",\"coordinates\":[[[2.1689924946084336,41.40942736967922],[2.1710459948290244,41.41031655793835],[2.1710459948290244,41.412094897946005],[2.1689924946084336,41.41298404969442],[2.1669389943878428,41.412094897946005],[2.1669389943878428,41.41031655793835],[2.1689924946084336,41.40942736967922]]]}},{\"type\":\"Feature\",\"id\":\"0.03785606048196252,0.7955264688743786\",\"geometry\":{\"type\":\"Polygon\",\"coordinates\":[[[2.1689924946084336,41.414762316680246],[2.1710459948290244,41.41565143191752],[2.1710459948290244,41.41742962588065],[2.1689924946084336,41.41831870460638],[2.1669389943878428,41.41742962588065],[2.1669389943878428,41.41565143191752],[2.1689924946084336,41.414762316680246]]]}},{\"type\":\"Feature\",\"id\":\"0.03785606048196252,0.7956506234541973\",\"geometry\":{\"type\":\"Polygon\",\"coordinates\":[[[2.1689924946084336,41.42009682554596],[2.1710459948290244,41.42098586775969],[2.1710459948290244,41.42276391567488],[2.1689924946084336,41.42365292137622],[2.1669389943878428,41.42276391567488],[2.1669389943878428,41.42098586775969],[2.1689924946084336,41.42009682554596]]]}},{\"type\":\"Feature\",\"id\":\"0.03785606048196252,0.7957747780340161\",\"geometry\":{\"type\":\"Polygon\",\"coordinates\":[[[2.1689924946084336,41.42543089626615],[2.1710459948290244,41.42631986545462],[2.1710459948290244,41.42809776731846],[2.1689924946084336,41.42898669999367],[2.1669389943878428,41.42809776731846],[2.1669389943878428,41.42631986545462],[2.1689924946084336,41.42543089626615]]]}},{\"type\":\"Feature\",\"id\":\"0.03785606048196252,0.7958989326138349\",\"geometry\":{\"type\":\"Polygon\",\"coordinates\":[[[2.1689924946084336,41.43076452883055],[2.1710459948290244,41.4316534249921],[2.1710459948290244,41.43343118080115],[2.1689924946084336,41.43432004044856],[2.1669389943878428,41.43343118080115],[2.1669389943878428,41.4316534249921],[2.1689924946084336,41.43076452883055]]]}},{\"type\":\"Feature\",\"id\":\"0.03785606048196252,0.7960230871936537\",\"geometry\":{\"type\":\"Polygon\",\"coordinates\":[[[2.1689924946084336,41.43609772322898],[2.1710459948290244,41.43698654636185],[2.1710459948290244,41.43876415611273],[2.1689924946084336,41.439652942730646],[2.1669389943878428,41.43876415611273],[2.1669389943878428,41.43698654636185],[2.1689924946084336,41.43609772322898]]]}},{\"type\":\"Feature\",\"id\":\"0.037927741162042006,0.7945332322358285\",\"geometry\":{\"type\":\"Polygon\",\"coordinates\":[[[2.1730994950496156,41.37207047374936],[2.1751529952702064,41.37296017311321],[2.1751529952702064,41.37473953533631],[2.1730994950496156,41.37562919819547],[2.1710459948290244,41.37473953533631],[2.1710459948290244,41.37296017311321],[2.1730994950496156,41.37207047374936]]]}},{\"type\":\"Feature\",\"id\":\"0.037927741162042006,0.7946573868156472\",\"geometry\":{\"type\":\"Polygon\",\"coordinates\":[[[2.1730994950496156,41.377408487408786],[2.1751529952702064,41.378298113762824],[2.1751529952702064,41.380077329965495],[2.1730994950496156,41.380966919814014],[2.1710459948290244,41.380077329965495],[2.1710459948290244,41.378298113762824],[2.1730994950496156,41.377408487408786]]]}},{\"type\":\"Feature\",\"id\":\"0.037927741162042006,0.794781541395466\",\"geometry\":{\"type\":\"Polygon\",\"coordinates\":[[[2.1730994950496156,41.38274606300517],[2.1751529952702064,41.3836356163477],[2.1751529952702064,41.38541468652647],[2.1730994950496156,41.38630420336262],[2.1710459948290244,41.38541468652647],[2.1710459948290244,41.3836356163477],[2.1730994950496156,41.38274606300517]]]}},{\"type\":\"Feature\",\"id\":\"0.037927741162042006,0.7949056959752848\",\"geometry\":{\"type\":\"Polygon\",\"coordinates\":[[[2.1730994950496156,41.38808320052814],[2.1751529952702064,41.38897268085745],[2.1751529952702064,41.390751605008894],[2.1730994950496156,41.3916410488309],[2.1710459948290244,41.390751605008894],[2.1710459948290244,41.38897268085745],[2.1730994950496156,41.38808320052814]]]}},{\"type\":\"Feature\",\"id\":\"0.037927741162042006,0.7950298505551036\",\"geometry\":{\"type\":\"Polygon\",\"coordinates\":[[[2.1730994950496156,41.39341989996736],[2.1751529952702064,41.394309307281695],[2.1751529952702064,41.39608808540234],[2.1730994950496156,41.39697745620856],[2.1710459948290244,41.39608808540234],[2.1710459948290244,41.394309307281695],[2.1730994950496156,41.39341989996736]]]}},{\"type\":\"Feature\",\"id\":\"0.037927741162042006,0.7951540051349223\",\"geometry\":{\"type\":\"Polygon\",\"coordinates\":[[[2.1730994950496156,41.398756161312505],[2.1751529952702064,41.39964549561015],[2.1751529952702064,41.401424127696544],[2.1730994950496156,41.40231342548522],[2.1710459948290244,41.401424127696544],[2.1710459948290244,41.39964549561015],[2.1730994950496156,41.398756161312505]]]}},{\"type\":\"Feature\",\"id\":\"0.037927741162042006,0.795278159714741\",\"geometry\":{\"type\":\"Polygon\",\"coordinates\":[[[2.1730994950496156,41.40409198455321],[2.1751529952702064,41.40498124583247],[2.1751529952702064,41.40675973188121],[2.1730994950496156,41.4076489566506],[2.1710459948290244,41.40675973188121],[2.1710459948290244,41.40498124583247],[2.1730994950496156,41.40409198455321]]]}},{\"type\":\"Feature\",\"id\":\"0.037927741162042006,0.7954023142945599\",\"geometry\":{\"type\":\"Polygon\",\"coordinates\":[[[2.1730994950496156,41.40942736967922],[2.1751529952702064,41.41031655793835],[2.1751529952702064,41.412094897946005],[2.1730994950496156,41.41298404969442],[2.1710459948290244,41.412094897946005],[2.1710459948290244,41.41031655793835],[2.1730994950496156,41.40942736967922]]]}},{\"type\":\"Feature\",\"id\":\"0.037927741162042006,0.7955264688743786\",\"geometry\":{\"type\":\"Polygon\",\"coordinates\":[[[2.1730994950496156,41.414762316680246],[2.1751529952702064,41.41565143191752],[2.1751529952702064,41.41742962588065],[2.1730994950496156,41.41831870460638],[2.1710459948290244,41.41742962588065],[2.1710459948290244,41.41565143191752],[2.1730994950496156,41.414762316680246]]]}},{\"type\":\"Feature\",\"id\":\"0.037927741162042006,0.7956506234541973\",\"geometry\":{\"type\":\"Polygon\",\"coordinates\":[[[2.1730994950496156,41.42009682554596],[2.1751529952702064,41.42098586775969],[2.1751529952702064,41.42276391567488],[2.1730994950496156,41.42365292137622],[2.1710459948290244,41.42276391567488],[2.1710459948290244,41.42098586775969],[2.1730994950496156,41.42009682554596]]]}},{\"type\":\"Feature\",\"id\":\"0.037927741162042006,0.7957747780340161\",\"geometry\":{\"type\":\"Polygon\",\"coordinates\":[[[2.1730994950496156,41.42543089626615],[2.1751529952702064,41.42631986545462],[2.1751529952702064,41.42809776731846],[2.1730994950496156,41.42898669999367],[2.1710459948290244,41.42809776731846],[2.1710459948290244,41.42631986545462],[2.1730994950496156,41.42543089626615]]]}},{\"type\":\"Feature\",\"id\":\"0.037927741162042006,0.7958989326138349\",\"geometry\":{\"type\":\"Polygon\",\"coordinates\":[[[2.1730994950496156,41.43076452883055],[2.1751529952702064,41.4316534249921],[2.1751529952702064,41.43343118080115],[2.1730994950496156,41.43432004044856],[2.1710459948290244,41.43343118080115],[2.1710459948290244,41.4316534249921],[2.1730994950496156,41.43076452883055]]]}},{\"type\":\"Feature\",\"id\":\"0.037927741162042006,0.7960230871936537\",\"geometry\":{\"type\":\"Polygon\",\"coordinates\":[[[2.1730994950496156,41.43609772322898],[2.1751529952702064,41.43698654636185],[2.1751529952702064,41.43876415611273],[2.1730994950496156,41.439652942730646],[2.1710459948290244,41.43876415611273],[2.1710459948290244,41.43698654636185],[2.1730994950496156,41.43609772322898]]]}},{\"type\":\"Feature\",\"id\":\"0.037927741162042006,0.7961472417734724\",\"geometry\":{\"type\":\"Polygon\",\"coordinates\":[[[2.1730994950496156,41.441430479451185],[2.1751529952702064,41.4423192295537],[2.1751529952702064,41.44409669324301],[2.1730994950496156,41.44498540682972],[2.1710459948290244,41.44409669324301],[2.1710459948290244,41.4423192295537],[2.1730994950496156,41.441430479451185]]]}},{\"type\":\"Feature\",\"id\":\"0.037927741162042006,0.7962713963532911\",\"geometry\":{\"type\":\"Polygon\",\"coordinates\":[[[2.1730994950496156,41.446762797487],[2.1751529952702064,41.44765147455745],[2.1751529952702064,41.44942879218182],[2.1730994950496156,41.45031743273561],[2.1710459948290244,41.44942879218182],[2.1710459948290244,41.44765147455745],[2.1730994950496156,41.446762797487]]]}},{\"type\":\"Feature\",\"id\":\"0.037999421842121496,0.7945332322358285\",\"geometry\":{\"type\":\"Polygon\",\"coordinates\":[[[2.1772064954907977,41.37207047374936],[2.1792599957113885,41.37296017311321],[2.1792599957113885,41.37473953533631],[2.1772064954907977,41.37562919819547],[2.175152995270207,41.37473953533631],[2.175152995270207,41.37296017311321],[2.1772064954907977,41.37207047374936]]]}},{\"type\":\"Feature\",\"id\":\"0.037999421842121496,0.7946573868156472\",\"geometry\":{\"type\":\"Polygon\",\"coordinates\":[[[2.1772064954907977,41.377408487408786],[2.1792599957113885,41.378298113762824],[2.1792599957113885,41.380077329965495],[2.1772064954907977,41.380966919814014],[2.175152995270207,41.380077329965495],[2.175152995270207,41.378298113762824],[2.1772064954907977,41.377408487408786]]]}},{\"type\":\"Feature\",\"id\":\"0.037999421842121496,0.794781541395466\",\"geometry\":{\"type\":\"Polygon\",\"coordinates\":[[[2.1772064954907977,41.38274606300517],[2.1792599957113885,41.3836356163477],[2.1792599957113885,41.38541468652647],[2.1772064954907977,41.38630420336262],[2.175152995270207,41.38541468652647],[2.175152995270207,41.3836356163477],[2.1772064954907977,41.38274606300517]]]}},{\"type\":\"Feature\",\"id\":\"0.037999421842121496,0.7949056959752848\",\"geometry\":{\"type\":\"Polygon\",\"coordinates\":[[[2.1772064954907977,41.38808320052814],[2.1792599957113885,41.38897268085745],[2.1792599957113885,41.390751605008894],[2.1772064954907977,41.3916410488309],[2.175152995270207,41.390751605008894],[2.175152995270207,41.38897268085745],[2.1772064954907977,41.38808320052814]]]}},{\"type\":\"Feature\",\"id\":\"0.037999421842121496,0.7950298505551036\",\"geometry\":{\"type\":\"Polygon\",\"coordinates\":[[[2.1772064954907977,41.39341989996736],[2.1792599957113885,41.394309307281695],[2.1792599957113885,41.39608808540234],[2.1772064954907977,41.39697745620856],[2.175152995270207,41.39608808540234],[2.175152995270207,41.394309307281695],[2.1772064954907977,41.39341989996736]]]}},{\"type\":\"Feature\",\"id\":\"0.037999421842121496,0.7951540051349223\",\"geometry\":{\"type\":\"Polygon\",\"coordinates\":[[[2.1772064954907977,41.398756161312505],[2.1792599957113885,41.39964549561015],[2.1792599957113885,41.401424127696544],[2.1772064954907977,41.40231342548522],[2.175152995270207,41.401424127696544],[2.175152995270207,41.39964549561015],[2.1772064954907977,41.398756161312505]]]}},{\"type\":\"Feature\",\"id\":\"0.037999421842121496,0.795278159714741\",\"geometry\":{\"type\":\"Polygon\",\"coordinates\":[[[2.1772064954907977,41.40409198455321],[2.1792599957113885,41.40498124583247],[2.1792599957113885,41.40675973188121],[2.1772064954907977,41.4076489566506],[2.175152995270207,41.40675973188121],[2.175152995270207,41.40498124583247],[2.1772064954907977,41.40409198455321]]]}},{\"type\":\"Feature\",\"id\":\"0.037999421842121496,0.7954023142945599\",\"geometry\":{\"type\":\"Polygon\",\"coordinates\":[[[2.1772064954907977,41.40942736967922],[2.1792599957113885,41.41031655793835],[2.1792599957113885,41.412094897946005],[2.1772064954907977,41.41298404969442],[2.175152995270207,41.412094897946005],[2.175152995270207,41.41031655793835],[2.1772064954907977,41.40942736967922]]]}},{\"type\":\"Feature\",\"id\":\"0.037999421842121496,0.7955264688743786\",\"geometry\":{\"type\":\"Polygon\",\"coordinates\":[[[2.1772064954907977,41.414762316680246],[2.1792599957113885,41.41565143191752],[2.1792599957113885,41.41742962588065],[2.1772064954907977,41.41831870460638],[2.175152995270207,41.41742962588065],[2.175152995270207,41.41565143191752],[2.1772064954907977,41.414762316680246]]]}},{\"type\":\"Feature\",\"id\":\"0.037999421842121496,0.7956506234541973\",\"geometry\":{\"type\":\"Polygon\",\"coordinates\":[[[2.1772064954907977,41.42009682554596],[2.1792599957113885,41.42098586775969],[2.1792599957113885,41.42276391567488],[2.1772064954907977,41.42365292137622],[2.175152995270207,41.42276391567488],[2.175152995270207,41.42098586775969],[2.1772064954907977,41.42009682554596]]]}},{\"type\":\"Feature\",\"id\":\"0.037999421842121496,0.7957747780340161\",\"geometry\":{\"type\":\"Polygon\",\"coordinates\":[[[2.1772064954907977,41.42543089626615],[2.1792599957113885,41.42631986545462],[2.1792599957113885,41.42809776731846],[2.1772064954907977,41.42898669999367],[2.175152995270207,41.42809776731846],[2.175152995270207,41.42631986545462],[2.1772064954907977,41.42543089626615]]]}},{\"type\":\"Feature\",\"id\":\"0.037999421842121496,0.7958989326138349\",\"geometry\":{\"type\":\"Polygon\",\"coordinates\":[[[2.1772064954907977,41.43076452883055],[2.1792599957113885,41.4316534249921],[2.1792599957113885,41.43343118080115],[2.1772064954907977,41.43432004044856],[2.175152995270207,41.43343118080115],[2.175152995270207,41.4316534249921],[2.1772064954907977,41.43076452883055]]]}},{\"type\":\"Feature\",\"id\":\"0.037999421842121496,0.7960230871936537\",\"geometry\":{\"type\":\"Polygon\",\"coordinates\":[[[2.1772064954907977,41.43609772322898],[2.1792599957113885,41.43698654636185],[2.1792599957113885,41.43876415611273],[2.1772064954907977,41.439652942730646],[2.175152995270207,41.43876415611273],[2.175152995270207,41.43698654636185],[2.1772064954907977,41.43609772322898]]]}},{\"type\":\"Feature\",\"id\":\"0.037999421842121496,0.7961472417734724\",\"geometry\":{\"type\":\"Polygon\",\"coordinates\":[[[2.1772064954907977,41.441430479451185],[2.1792599957113885,41.4423192295537],[2.1792599957113885,41.44409669324301],[2.1772064954907977,41.44498540682972],[2.175152995270207,41.44409669324301],[2.175152995270207,41.4423192295537],[2.1772064954907977,41.441430479451185]]]}},{\"type\":\"Feature\",\"id\":\"0.037999421842121496,0.7962713963532911\",\"geometry\":{\"type\":\"Polygon\",\"coordinates\":[[[2.1772064954907977,41.446762797487],[2.1792599957113885,41.44765147455745],[2.1792599957113885,41.44942879218182],[2.1772064954907977,41.45031743273561],[2.175152995270207,41.44942879218182],[2.175152995270207,41.44765147455745],[2.1772064954907977,41.446762797487]]]}},{\"type\":\"Feature\",\"id\":\"0.037999421842121496,0.7965197055129287\",\"geometry\":{\"type\":\"Polygon\",\"coordinates\":[[[2.1772064954907977,41.45742611895874],[2.1792599957113885,41.45831464996],[2.1792599957113885,41.46009167544429],[2.1772064954907977,41.46098016992721],[2.175152995270207,41.46009167544429],[2.175152995270207,41.45831464996],[2.1772064954907977,41.45742611895874]]]}},{\"type\":\"Feature\",\"id\":\"0.038071102522200986,0.7946573868156472\",\"geometry\":{\"type\":\"Polygon\",\"coordinates\":[[[2.18131349593198,41.377408487408786],[2.183366996152571,41.378298113762824],[2.183366996152571,41.380077329965495],[2.18131349593198,41.380966919814014],[2.179259995711389,41.380077329965495],[2.179259995711389,41.378298113762824],[2.18131349593198,41.377408487408786]]]}},{\"type\":\"Feature\",\"id\":\"0.038071102522200986,0.794781541395466\",\"geometry\":{\"type\":\"Polygon\",\"coordinates\":[[[2.18131349593198,41.38274606300517],[2.183366996152571,41.3836356163477],[2.183366996152571,41.38541468652647],[2.18131349593198,41.38630420336262],[2.179259995711389,41.38541468652647],[2.179259995711389,41.3836356163477],[2.18131349593198,41.38274606300517]]]}},{\"type\":\"Feature\",\"id\":\"0.038071102522200986,0.7949056959752848\",\"geometry\":{\"type\":\"Polygon\",\"coordinates\":[[[2.18131349593198,41.38808320052814],[2.183366996152571,41.38897268085745],[2.183366996152571,41.390751605008894],[2.18131349593198,41.3916410488309],[2.179259995711389,41.390751605008894],[2.179259995711389,41.38897268085745],[2.18131349593198,41.38808320052814]]]}},{\"type\":\"Feature\",\"id\":\"0.038071102522200986,0.7950298505551036\",\"geometry\":{\"type\":\"Polygon\",\"coordinates\":[[[2.18131349593198,41.39341989996736],[2.183366996152571,41.394309307281695],[2.183366996152571,41.39608808540234],[2.18131349593198,41.39697745620856],[2.179259995711389,41.39608808540234],[2.179259995711389,41.394309307281695],[2.18131349593198,41.39341989996736]]]}},{\"type\":\"Feature\",\"id\":\"0.038071102522200986,0.7951540051349223\",\"geometry\":{\"type\":\"Polygon\",\"coordinates\":[[[2.18131349593198,41.398756161312505],[2.183366996152571,41.39964549561015],[2.183366996152571,41.401424127696544],[2.18131349593198,41.40231342548522],[2.179259995711389,41.401424127696544],[2.179259995711389,41.39964549561015],[2.18131349593198,41.398756161312505]]]}},{\"type\":\"Feature\",\"id\":\"0.038071102522200986,0.795278159714741\",\"geometry\":{\"type\":\"Polygon\",\"coordinates\":[[[2.18131349593198,41.40409198455321],[2.183366996152571,41.40498124583247],[2.183366996152571,41.40675973188121],[2.18131349593198,41.4076489566506],[2.179259995711389,41.40675973188121],[2.179259995711389,41.40498124583247],[2.18131349593198,41.40409198455321]]]}},{\"type\":\"Feature\",\"id\":\"0.038071102522200986,0.7954023142945599\",\"geometry\":{\"type\":\"Polygon\",\"coordinates\":[[[2.18131349593198,41.40942736967922],[2.183366996152571,41.41031655793835],[2.183366996152571,41.412094897946005],[2.18131349593198,41.41298404969442],[2.179259995711389,41.412094897946005],[2.179259995711389,41.41031655793835],[2.18131349593198,41.40942736967922]]]}},{\"type\":\"Feature\",\"id\":\"0.038071102522200986,0.7955264688743786\",\"geometry\":{\"type\":\"Polygon\",\"coordinates\":[[[2.18131349593198,41.414762316680246],[2.183366996152571,41.41565143191752],[2.183366996152571,41.41742962588065],[2.18131349593198,41.41831870460638],[2.179259995711389,41.41742962588065],[2.179259995711389,41.41565143191752],[2.18131349593198,41.414762316680246]]]}},{\"type\":\"Feature\",\"id\":\"0.038071102522200986,0.7956506234541973\",\"geometry\":{\"type\":\"Polygon\",\"coordinates\":[[[2.18131349593198,41.42009682554596],[2.183366996152571,41.42098586775969],[2.183366996152571,41.42276391567488],[2.18131349593198,41.42365292137622],[2.179259995711389,41.42276391567488],[2.179259995711389,41.42098586775969],[2.18131349593198,41.42009682554596]]]}},{\"type\":\"Feature\",\"id\":\"0.038071102522200986,0.7957747780340161\",\"geometry\":{\"type\":\"Polygon\",\"coordinates\":[[[2.18131349593198,41.42543089626615],[2.183366996152571,41.42631986545462],[2.183366996152571,41.42809776731846],[2.18131349593198,41.42898669999367],[2.179259995711389,41.42809776731846],[2.179259995711389,41.42631986545462],[2.18131349593198,41.42543089626615]]]}},{\"type\":\"Feature\",\"id\":\"0.038071102522200986,0.7958989326138349\",\"geometry\":{\"type\":\"Polygon\",\"coordinates\":[[[2.18131349593198,41.43076452883055],[2.183366996152571,41.4316534249921],[2.183366996152571,41.43343118080115],[2.18131349593198,41.43432004044856],[2.179259995711389,41.43343118080115],[2.179259995711389,41.4316534249921],[2.18131349593198,41.43076452883055]]]}},{\"type\":\"Feature\",\"id\":\"0.038071102522200986,0.7960230871936537\",\"geometry\":{\"type\":\"Polygon\",\"coordinates\":[[[2.18131349593198,41.43609772322898],[2.183366996152571,41.43698654636185],[2.183366996152571,41.43876415611273],[2.18131349593198,41.439652942730646],[2.179259995711389,41.43876415611273],[2.179259995711389,41.43698654636185],[2.18131349593198,41.43609772322898]]]}},{\"type\":\"Feature\",\"id\":\"0.038071102522200986,0.7962713963532911\",\"geometry\":{\"type\":\"Polygon\",\"coordinates\":[[[2.18131349593198,41.446762797487],[2.183366996152571,41.44765147455745],[2.183366996152571,41.44942879218182],[2.18131349593198,41.45031743273561],[2.179259995711389,41.44942879218182],[2.179259995711389,41.44765147455745],[2.18131349593198,41.446762797487]]]}},{\"type\":\"Feature\",\"id\":\"0.03814278320228047,0.7946573868156472\",\"geometry\":{\"type\":\"Polygon\",\"coordinates\":[[[2.185420496373162,41.377408487408786],[2.187473996593753,41.378298113762824],[2.187473996593753,41.380077329965495],[2.185420496373162,41.380966919814014],[2.183366996152571,41.380077329965495],[2.183366996152571,41.378298113762824],[2.185420496373162,41.377408487408786]]]}},{\"type\":\"Feature\",\"id\":\"0.03814278320228047,0.794781541395466\",\"geometry\":{\"type\":\"Polygon\",\"coordinates\":[[[2.185420496373162,41.38274606300517],[2.187473996593753,41.3836356163477],[2.187473996593753,41.38541468652647],[2.185420496373162,41.38630420336262],[2.183366996152571,41.38541468652647],[2.183366996152571,41.3836356163477],[2.185420496373162,41.38274606300517]]]}},{\"type\":\"Feature\",\"id\":\"0.03814278320228047,0.7949056959752848\",\"geometry\":{\"type\":\"Polygon\",\"coordinates\":[[[2.185420496373162,41.38808320052814],[2.187473996593753,41.38897268085745],[2.187473996593753,41.390751605008894],[2.185420496373162,41.3916410488309],[2.183366996152571,41.390751605008894],[2.183366996152571,41.38897268085745],[2.185420496373162,41.38808320052814]]]}},{\"type\":\"Feature\",\"id\":\"0.03814278320228047,0.7950298505551036\",\"geometry\":{\"type\":\"Polygon\",\"coordinates\":[[[2.185420496373162,41.39341989996736],[2.187473996593753,41.394309307281695],[2.187473996593753,41.39608808540234],[2.185420496373162,41.39697745620856],[2.183366996152571,41.39608808540234],[2.183366996152571,41.394309307281695],[2.185420496373162,41.39341989996736]]]}},{\"type\":\"Feature\",\"id\":\"0.03814278320228047,0.7951540051349223\",\"geometry\":{\"type\":\"Polygon\",\"coordinates\":[[[2.185420496373162,41.398756161312505],[2.187473996593753,41.39964549561015],[2.187473996593753,41.401424127696544],[2.185420496373162,41.40231342548522],[2.183366996152571,41.401424127696544],[2.183366996152571,41.39964549561015],[2.185420496373162,41.398756161312505]]]}},{\"type\":\"Feature\",\"id\":\"0.03814278320228047,0.795278159714741\",\"geometry\":{\"type\":\"Polygon\",\"coordinates\":[[[2.185420496373162,41.40409198455321],[2.187473996593753,41.40498124583247],[2.187473996593753,41.40675973188121],[2.185420496373162,41.4076489566506],[2.183366996152571,41.40675973188121],[2.183366996152571,41.40498124583247],[2.185420496373162,41.40409198455321]]]}},{\"type\":\"Feature\",\"id\":\"0.03814278320228047,0.7954023142945599\",\"geometry\":{\"type\":\"Polygon\",\"coordinates\":[[[2.185420496373162,41.40942736967922],[2.187473996593753,41.41031655793835],[2.187473996593753,41.412094897946005],[2.185420496373162,41.41298404969442],[2.183366996152571,41.412094897946005],[2.183366996152571,41.41031655793835],[2.185420496373162,41.40942736967922]]]}},{\"type\":\"Feature\",\"id\":\"0.03814278320228047,0.7955264688743786\",\"geometry\":{\"type\":\"Polygon\",\"coordinates\":[[[2.185420496373162,41.414762316680246],[2.187473996593753,41.41565143191752],[2.187473996593753,41.41742962588065],[2.185420496373162,41.41831870460638],[2.183366996152571,41.41742962588065],[2.183366996152571,41.41565143191752],[2.185420496373162,41.414762316680246]]]}},{\"type\":\"Feature\",\"id\":\"0.03814278320228047,0.7956506234541973\",\"geometry\":{\"type\":\"Polygon\",\"coordinates\":[[[2.185420496373162,41.42009682554596],[2.187473996593753,41.42098586775969],[2.187473996593753,41.42276391567488],[2.185420496373162,41.42365292137622],[2.183366996152571,41.42276391567488],[2.183366996152571,41.42098586775969],[2.185420496373162,41.42009682554596]]]}},{\"type\":\"Feature\",\"id\":\"0.03814278320228047,0.7961472417734724\",\"geometry\":{\"type\":\"Polygon\",\"coordinates\":[[[2.185420496373162,41.441430479451185],[2.187473996593753,41.4423192295537],[2.187473996593753,41.44409669324301],[2.185420496373162,41.44498540682972],[2.183366996152571,41.44409669324301],[2.183366996152571,41.4423192295537],[2.185420496373162,41.441430479451185]]]}},{\"type\":\"Feature\",\"id\":\"0.03821446388235996,0.7945332322358285\",\"geometry\":{\"type\":\"Polygon\",\"coordinates\":[[[2.1895274968143443,41.37207047374936],[2.191580997034935,41.37296017311321],[2.191580997034935,41.37473953533631],[2.1895274968143443,41.37562919819547],[2.187473996593753,41.37473953533631],[2.187473996593753,41.37296017311321],[2.1895274968143443,41.37207047374936]]]}},{\"type\":\"Feature\",\"id\":\"0.03821446388235996,0.7946573868156472\",\"geometry\":{\"type\":\"Polygon\",\"coordinates\":[[[2.1895274968143443,41.377408487408786],[2.191580997034935,41.378298113762824],[2.191580997034935,41.380077329965495],[2.1895274968143443,41.380966919814014],[2.187473996593753,41.380077329965495],[2.187473996593753,41.378298113762824],[2.1895274968143443,41.377408487408786]]]}},{\"type\":\"Feature\",\"id\":\"0.03821446388235996,0.7949056959752848\",\"geometry\":{\"type\":\"Polygon\",\"coordinates\":[[[2.1895274968143443,41.38808320052814],[2.191580997034935,41.38897268085745],[2.191580997034935,41.390751605008894],[2.1895274968143443,41.3916410488309],[2.187473996593753,41.390751605008894],[2.187473996593753,41.38897268085745],[2.1895274968143443,41.38808320052814]]]}},{\"type\":\"Feature\",\"id\":\"0.03821446388235996,0.7950298505551036\",\"geometry\":{\"type\":\"Polygon\",\"coordinates\":[[[2.1895274968143443,41.39341989996736],[2.191580997034935,41.394309307281695],[2.191580997034935,41.39608808540234],[2.1895274968143443,41.39697745620856],[2.187473996593753,41.39608808540234],[2.187473996593753,41.394309307281695],[2.1895274968143443,41.39341989996736]]]}},{\"type\":\"Feature\",\"id\":\"0.03821446388235996,0.7951540051349223\",\"geometry\":{\"type\":\"Polygon\",\"coordinates\":[[[2.1895274968143443,41.398756161312505],[2.191580997034935,41.39964549561015],[2.191580997034935,41.401424127696544],[2.1895274968143443,41.40231342548522],[2.187473996593753,41.401424127696544],[2.187473996593753,41.39964549561015],[2.1895274968143443,41.398756161312505]]]}},{\"type\":\"Feature\",\"id\":\"0.03821446388235996,0.795278159714741\",\"geometry\":{\"type\":\"Polygon\",\"coordinates\":[[[2.1895274968143443,41.40409198455321],[2.191580997034935,41.40498124583247],[2.191580997034935,41.40675973188121],[2.1895274968143443,41.4076489566506],[2.187473996593753,41.40675973188121],[2.187473996593753,41.40498124583247],[2.1895274968143443,41.40409198455321]]]}},{\"type\":\"Feature\",\"id\":\"0.03821446388235996,0.7954023142945599\",\"geometry\":{\"type\":\"Polygon\",\"coordinates\":[[[2.1895274968143443,41.40942736967922],[2.191580997034935,41.41031655793835],[2.191580997034935,41.412094897946005],[2.1895274968143443,41.41298404969442],[2.187473996593753,41.412094897946005],[2.187473996593753,41.41031655793835],[2.1895274968143443,41.40942736967922]]]}},{\"type\":\"Feature\",\"id\":\"0.03821446388235996,0.7955264688743786\",\"geometry\":{\"type\":\"Polygon\",\"coordinates\":[[[2.1895274968143443,41.414762316680246],[2.191580997034935,41.41565143191752],[2.191580997034935,41.41742962588065],[2.1895274968143443,41.41831870460638],[2.187473996593753,41.41742962588065],[2.187473996593753,41.41565143191752],[2.1895274968143443,41.414762316680246]]]}},{\"type\":\"Feature\",\"id\":\"0.03821446388235996,0.7956506234541973\",\"geometry\":{\"type\":\"Polygon\",\"coordinates\":[[[2.1895274968143443,41.42009682554596],[2.191580997034935,41.42098586775969],[2.191580997034935,41.42276391567488],[2.1895274968143443,41.42365292137622],[2.187473996593753,41.42276391567488],[2.187473996593753,41.42098586775969],[2.1895274968143443,41.42009682554596]]]}},{\"type\":\"Feature\",\"id\":\"0.03821446388235996,0.7957747780340161\",\"geometry\":{\"type\":\"Polygon\",\"coordinates\":[[[2.1895274968143443,41.42543089626615],[2.191580997034935,41.42631986545462],[2.191580997034935,41.42809776731846],[2.1895274968143443,41.42898669999367],[2.187473996593753,41.42809776731846],[2.187473996593753,41.42631986545462],[2.1895274968143443,41.42543089626615]]]}},{\"type\":\"Feature\",\"id\":\"0.03821446388235996,0.7960230871936537\",\"geometry\":{\"type\":\"Polygon\",\"coordinates\":[[[2.1895274968143443,41.43609772322898],[2.191580997034935,41.43698654636185],[2.191580997034935,41.43876415611273],[2.1895274968143443,41.439652942730646],[2.187473996593753,41.43876415611273],[2.187473996593753,41.43698654636185],[2.1895274968143443,41.43609772322898]]]}},{\"type\":\"Feature\",\"id\":\"0.03821446388235996,0.7961472417734724\",\"geometry\":{\"type\":\"Polygon\",\"coordinates\":[[[2.1895274968143443,41.441430479451185],[2.191580997034935,41.4423192295537],[2.191580997034935,41.44409669324301],[2.1895274968143443,41.44498540682972],[2.187473996593753,41.44409669324301],[2.187473996593753,41.4423192295537],[2.1895274968143443,41.441430479451185]]]}},{\"type\":\"Feature\",\"id\":\"0.03821446388235996,0.79639555093311\",\"geometry\":{\"type\":\"Polygon\",\"coordinates\":[[[2.1895274968143443,41.452094677326244],[2.191580997034935,41.45298328136295],[2.191580997034935,41.45476045291896],[2.1895274968143443,41.45564902043816],[2.187473996593753,41.45476045291896],[2.187473996593753,41.45298328136295],[2.1895274968143443,41.452094677326244]]]}},{\"type\":\"Feature\",\"id\":\"0.03828614456243945,0.7946573868156472\",\"geometry\":{\"type\":\"Polygon\",\"coordinates\":[[[2.1936344972555264,41.377408487408786],[2.1956879974761176,41.378298113762824],[2.1956879974761176,41.380077329965495],[2.1936344972555264,41.380966919814014],[2.1915809970349356,41.380077329965495],[2.1915809970349356,41.378298113762824],[2.1936344972555264,41.377408487408786]]]}},{\"type\":\"Feature\",\"id\":\"0.03828614456243945,0.7949056959752848\",\"geometry\":{\"type\":\"Polygon\",\"coordinates\":[[[2.1936344972555264,41.38808320052814],[2.1956879974761176,41.38897268085745],[2.1956879974761176,41.390751605008894],[2.1936344972555264,41.3916410488309],[2.1915809970349356,41.390751605008894],[2.1915809970349356,41.38897268085745],[2.1936344972555264,41.38808320052814]]]}},{\"type\":\"Feature\",\"id\":\"0.03828614456243945,0.7950298505551036\",\"geometry\":{\"type\":\"Polygon\",\"coordinates\":[[[2.1936344972555264,41.39341989996736],[2.1956879974761176,41.394309307281695],[2.1956879974761176,41.39608808540234],[2.1936344972555264,41.39697745620856],[2.1915809970349356,41.39608808540234],[2.1915809970349356,41.394309307281695],[2.1936344972555264,41.39341989996736]]]}},{\"type\":\"Feature\",\"id\":\"0.03828614456243945,0.7951540051349223\",\"geometry\":{\"type\":\"Polygon\",\"coordinates\":[[[2.1936344972555264,41.398756161312505],[2.1956879974761176,41.39964549561015],[2.1956879974761176,41.401424127696544],[2.1936344972555264,41.40231342548522],[2.1915809970349356,41.401424127696544],[2.1915809970349356,41.39964549561015],[2.1936344972555264,41.398756161312505]]]}},{\"type\":\"Feature\",\"id\":\"0.03828614456243945,0.795278159714741\",\"geometry\":{\"type\":\"Polygon\",\"coordinates\":[[[2.1936344972555264,41.40409198455321],[2.1956879974761176,41.40498124583247],[2.1956879974761176,41.40675973188121],[2.1936344972555264,41.4076489566506],[2.1915809970349356,41.40675973188121],[2.1915809970349356,41.40498124583247],[2.1936344972555264,41.40409198455321]]]}},{\"type\":\"Feature\",\"id\":\"0.03828614456243945,0.7954023142945599\",\"geometry\":{\"type\":\"Polygon\",\"coordinates\":[[[2.1936344972555264,41.40942736967922],[2.1956879974761176,41.41031655793835],[2.1956879974761176,41.412094897946005],[2.1936344972555264,41.41298404969442],[2.1915809970349356,41.412094897946005],[2.1915809970349356,41.41031655793835],[2.1936344972555264,41.40942736967922]]]}},{\"type\":\"Feature\",\"id\":\"0.03828614456243945,0.7955264688743786\",\"geometry\":{\"type\":\"Polygon\",\"coordinates\":[[[2.1936344972555264,41.414762316680246],[2.1956879974761176,41.41565143191752],[2.1956879974761176,41.41742962588065],[2.1936344972555264,41.41831870460638],[2.1915809970349356,41.41742962588065],[2.1915809970349356,41.41565143191752],[2.1936344972555264,41.414762316680246]]]}},{\"type\":\"Feature\",\"id\":\"0.03828614456243945,0.7958989326138349\",\"geometry\":{\"type\":\"Polygon\",\"coordinates\":[[[2.1936344972555264,41.43076452883055],[2.1956879974761176,41.4316534249921],[2.1956879974761176,41.43343118080115],[2.1936344972555264,41.43432004044856],[2.1915809970349356,41.43343118080115],[2.1915809970349356,41.4316534249921],[2.1936344972555264,41.43076452883055]]]}},{\"type\":\"Feature\",\"id\":\"0.038357825242518934,0.7950298505551036\",\"geometry\":{\"type\":\"Polygon\",\"coordinates\":[[[2.197741497696708,41.39341989996736],[2.1997949979172993,41.394309307281695],[2.1997949979172993,41.39608808540234],[2.197741497696708,41.39697745620856],[2.1956879974761176,41.39608808540234],[2.1956879974761176,41.394309307281695],[2.197741497696708,41.39341989996736]]]}},{\"type\":\"Feature\",\"id\":\"0.038357825242518934,0.7951540051349223\",\"geometry\":{\"type\":\"Polygon\",\"coordinates\":[[[2.197741497696708,41.398756161312505],[2.1997949979172993,41.39964549561015],[2.1997949979172993,41.401424127696544],[2.197741497696708,41.40231342548522],[2.1956879974761176,41.401424127696544],[2.1956879974761176,41.39964549561015],[2.197741497696708,41.398756161312505]]]}},{\"type\":\"Feature\",\"id\":\"0.038357825242518934,0.795278159714741\",\"geometry\":{\"type\":\"Polygon\",\"coordinates\":[[[2.197741497696708,41.40409198455321],[2.1997949979172993,41.40498124583247],[2.1997949979172993,41.40675973188121],[2.197741497696708,41.4076489566506],[2.1956879974761176,41.40675973188121],[2.1956879974761176,41.40498124583247],[2.197741497696708,41.40409198455321]]]}},{\"type\":\"Feature\",\"id\":\"0.038357825242518934,0.7954023142945599\",\"geometry\":{\"type\":\"Polygon\",\"coordinates\":[[[2.197741497696708,41.40942736967922],[2.1997949979172993,41.41031655793835],[2.1997949979172993,41.412094897946005],[2.197741497696708,41.41298404969442],[2.1956879974761176,41.412094897946005],[2.1956879974761176,41.41031655793835],[2.197741497696708,41.40942736967922]]]}},{\"type\":\"Feature\",\"id\":\"0.038357825242518934,0.7955264688743786\",\"geometry\":{\"type\":\"Polygon\",\"coordinates\":[[[2.197741497696708,41.414762316680246],[2.1997949979172993,41.41565143191752],[2.1997949979172993,41.41742962588065],[2.197741497696708,41.41831870460638],[2.1956879974761176,41.41742962588065],[2.1956879974761176,41.41565143191752],[2.197741497696708,41.414762316680246]]]}},{\"type\":\"Feature\",\"id\":\"0.038357825242518934,0.7956506234541973\",\"geometry\":{\"type\":\"Polygon\",\"coordinates\":[[[2.197741497696708,41.42009682554596],[2.1997949979172993,41.42098586775969],[2.1997949979172993,41.42276391567488],[2.197741497696708,41.42365292137622],[2.1956879974761176,41.42276391567488],[2.1956879974761176,41.42098586775969],[2.197741497696708,41.42009682554596]]]}},{\"type\":\"Feature\",\"id\":\"0.038429505922598424,0.7950298505551036\",\"geometry\":{\"type\":\"Polygon\",\"coordinates\":[[[2.2018484981378905,41.39341989996736],[2.2039019983584813,41.394309307281695],[2.2039019983584813,41.39608808540234],[2.2018484981378905,41.39697745620856],[2.1997949979172997,41.39608808540234],[2.1997949979172997,41.394309307281695],[2.2018484981378905,41.39341989996736]]]}},{\"type\":\"Feature\",\"id\":\"0.038429505922598424,0.7951540051349223\",\"geometry\":{\"type\":\"Polygon\",\"coordinates\":[[[2.2018484981378905,41.398756161312505],[2.2039019983584813,41.39964549561015],[2.2039019983584813,41.401424127696544],[2.2018484981378905,41.40231342548522],[2.1997949979172997,41.401424127696544],[2.1997949979172997,41.39964549561015],[2.2018484981378905,41.398756161312505]]]}},{\"type\":\"Feature\",\"id\":\"0.038429505922598424,0.795278159714741\",\"geometry\":{\"type\":\"Polygon\",\"coordinates\":[[[2.2018484981378905,41.40409198455321],[2.2039019983584813,41.40498124583247],[2.2039019983584813,41.40675973188121],[2.2018484981378905,41.4076489566506],[2.1997949979172997,41.40675973188121],[2.1997949979172997,41.40498124583247],[2.2018484981378905,41.40409198455321]]]}},{\"type\":\"Feature\",\"id\":\"0.038429505922598424,0.7955264688743786\",\"geometry\":{\"type\":\"Polygon\",\"coordinates\":[[[2.2018484981378905,41.414762316680246],[2.2039019983584813,41.41565143191752],[2.2039019983584813,41.41742962588065],[2.2018484981378905,41.41831870460638],[2.1997949979172997,41.41742962588065],[2.1997949979172997,41.41565143191752],[2.2018484981378905,41.414762316680246]]]}},{\"type\":\"Feature\",\"id\":\"0.038429505922598424,0.7956506234541973\",\"geometry\":{\"type\":\"Polygon\",\"coordinates\":[[[2.2018484981378905,41.42009682554596],[2.2039019983584813,41.42098586775969],[2.2039019983584813,41.42276391567488],[2.2018484981378905,41.42365292137622],[2.1997949979172997,41.42276391567488],[2.1997949979172997,41.42098586775969],[2.2018484981378905,41.42009682554596]]]}},{\"type\":\"Feature\",\"id\":\"0.038429505922598424,0.7960230871936537\",\"geometry\":{\"type\":\"Polygon\",\"coordinates\":[[[2.2018484981378905,41.43609772322898],[2.2039019983584813,41.43698654636185],[2.2039019983584813,41.43876415611273],[2.2018484981378905,41.439652942730646],[2.1997949979172997,41.43876415611273],[2.1997949979172997,41.43698654636185],[2.2018484981378905,41.43609772322898]]]}},{\"type\":\"Feature\",\"id\":\"0.038429505922598424,0.7961472417734724\",\"geometry\":{\"type\":\"Polygon\",\"coordinates\":[[[2.2018484981378905,41.441430479451185],[2.2039019983584813,41.4423192295537],[2.2039019983584813,41.44409669324301],[2.2018484981378905,41.44498540682972],[2.1997949979172997,41.44409669324301],[2.1997949979172997,41.4423192295537],[2.2018484981378905,41.441430479451185]]]}},{\"type\":\"Feature\",\"id\":\"0.038501186602677914,0.7951540051349223\",\"geometry\":{\"type\":\"Polygon\",\"coordinates\":[[[2.2059554985790726,41.398756161312505],[2.208008998799664,41.39964549561015],[2.208008998799664,41.401424127696544],[2.2059554985790726,41.40231342548522],[2.2039019983584818,41.401424127696544],[2.2039019983584818,41.39964549561015],[2.2059554985790726,41.398756161312505]]]}},{\"type\":\"Feature\",\"id\":\"0.038501186602677914,0.795278159714741\",\"geometry\":{\"type\":\"Polygon\",\"coordinates\":[[[2.2059554985790726,41.40409198455321],[2.208008998799664,41.40498124583247],[2.208008998799664,41.40675973188121],[2.2059554985790726,41.4076489566506],[2.2039019983584818,41.40675973188121],[2.2039019983584818,41.40498124583247],[2.2059554985790726,41.40409198455321]]]}},{\"type\":\"Feature\",\"id\":\"0.038501186602677914,0.7955264688743786\",\"geometry\":{\"type\":\"Polygon\",\"coordinates\":[[[2.2059554985790726,41.414762316680246],[2.208008998799664,41.41565143191752],[2.208008998799664,41.41742962588065],[2.2059554985790726,41.41831870460638],[2.2039019983584818,41.41742962588065],[2.2039019983584818,41.41565143191752],[2.2059554985790726,41.414762316680246]]]}},{\"type\":\"Feature\",\"id\":\"0.038501186602677914,0.7956506234541973\",\"geometry\":{\"type\":\"Polygon\",\"coordinates\":[[[2.2059554985790726,41.42009682554596],[2.208008998799664,41.42098586775969],[2.208008998799664,41.42276391567488],[2.2059554985790726,41.42365292137622],[2.2039019983584818,41.42276391567488],[2.2039019983584818,41.42098586775969],[2.2059554985790726,41.42009682554596]]]}},{\"type\":\"Feature\",\"id\":\"0.0385728672827574,0.7951540051349223\",\"geometry\":{\"type\":\"Polygon\",\"coordinates\":[[[2.2100624990202546,41.398756161312505],[2.2121159992408455,41.39964549561015],[2.2121159992408455,41.401424127696544],[2.2100624990202546,41.40231342548522],[2.208008998799664,41.401424127696544],[2.208008998799664,41.39964549561015],[2.2100624990202546,41.398756161312505]]]}},{\"type\":\"Feature\",\"id\":\"0.0385728672827574,0.795278159714741\",\"geometry\":{\"type\":\"Polygon\",\"coordinates\":[[[2.2100624990202546,41.40409198455321],[2.2121159992408455,41.40498124583247],[2.2121159992408455,41.40675973188121],[2.2100624990202546,41.4076489566506],[2.208008998799664,41.40675973188121],[2.208008998799664,41.40498124583247],[2.2100624990202546,41.40409198455321]]]}},{\"type\":\"Feature\",\"id\":\"0.0385728672827574,0.7954023142945599\",\"geometry\":{\"type\":\"Polygon\",\"coordinates\":[[[2.2100624990202546,41.40942736967922],[2.2121159992408455,41.41031655793835],[2.2121159992408455,41.412094897946005],[2.2100624990202546,41.41298404969442],[2.208008998799664,41.412094897946005],[2.208008998799664,41.41031655793835],[2.2100624990202546,41.40942736967922]]]}},{\"type\":\"Feature\",\"id\":\"0.0385728672827574,0.7955264688743786\",\"geometry\":{\"type\":\"Polygon\",\"coordinates\":[[[2.2100624990202546,41.414762316680246],[2.2121159992408455,41.41565143191752],[2.2121159992408455,41.41742962588065],[2.2100624990202546,41.41831870460638],[2.208008998799664,41.41742962588065],[2.208008998799664,41.41565143191752],[2.2100624990202546,41.414762316680246]]]}},{\"type\":\"Feature\",\"id\":\"0.0385728672827574,0.7956506234541973\",\"geometry\":{\"type\":\"Polygon\",\"coordinates\":[[[2.2100624990202546,41.42009682554596],[2.2121159992408455,41.42098586775969],[2.2121159992408455,41.42276391567488],[2.2100624990202546,41.42365292137622],[2.208008998799664,41.42276391567488],[2.208008998799664,41.42098586775969],[2.2100624990202546,41.42009682554596]]]}},{\"type\":\"Feature\",\"id\":\"0.03864454796283689,0.795278159714741\",\"geometry\":{\"type\":\"Polygon\",\"coordinates\":[[[2.214169499461437,41.40409198455321],[2.216222999682028,41.40498124583247],[2.216222999682028,41.40675973188121],[2.214169499461437,41.4076489566506],[2.2121159992408463,41.40675973188121],[2.2121159992408463,41.40498124583247],[2.214169499461437,41.40409198455321]]]}},{\"type\":\"Feature\",\"id\":\"0.03864454796283689,0.7954023142945599\",\"geometry\":{\"type\":\"Polygon\",\"coordinates\":[[[2.214169499461437,41.40942736967922],[2.216222999682028,41.41031655793835],[2.216222999682028,41.412094897946005],[2.214169499461437,41.41298404969442],[2.2121159992408463,41.412094897946005],[2.2121159992408463,41.41031655793835],[2.214169499461437,41.40942736967922]]]}},{\"type\":\"Feature\",\"id\":\"0.03864454796283689,0.7955264688743786\",\"geometry\":{\"type\":\"Polygon\",\"coordinates\":[[[2.214169499461437,41.414762316680246],[2.216222999682028,41.41565143191752],[2.216222999682028,41.41742962588065],[2.214169499461437,41.41831870460638],[2.2121159992408463,41.41742962588065],[2.2121159992408463,41.41565143191752],[2.214169499461437,41.414762316680246]]]}},{\"type\":\"Feature\",\"id\":\"0.03871622864291638,0.7954023142945599\",\"geometry\":{\"type\":\"Polygon\",\"coordinates\":[[[2.218276499902619,41.40942736967922],[2.22033000012321,41.41031655793835],[2.22033000012321,41.412094897946005],[2.218276499902619,41.41298404969442],[2.2162229996820284,41.412094897946005],[2.2162229996820284,41.41031655793835],[2.218276499902619,41.40942736967922]]]}},{\"type\":\"Feature\",\"id\":\"0.03871622864291638,0.7955264688743786\",\"geometry\":{\"type\":\"Polygon\",\"coordinates\":[[[2.218276499902619,41.414762316680246],[2.22033000012321,41.41565143191752],[2.22033000012321,41.41742962588065],[2.218276499902619,41.41831870460638],[2.2162229996820284,41.41742962588065],[2.2162229996820284,41.41565143191752],[2.218276499902619,41.414762316680246]]]}}]},\"hovertemplate\":\"score=%{z}\\u003cextra\\u003e\\u003c\\u002fextra\\u003e\",\"locations\":[\"0.03660164858057148,0.795588546164288\",\"0.036745009940730454,0.7953402370046504\",\"0.036745009940730454,0.7954643915844692\",\"0.036816690620809944,0.7948436186853753\",\"0.036816690620809944,0.7949677732651942\",\"0.036816690620809944,0.7953402370046504\",\"0.036888371300889435,0.7945953095257379\",\"0.036888371300889435,0.7948436186853753\",\"0.03696005198096892,0.7945953095257379\",\"0.03696005198096892,0.7952160824248317\",\"0.03696005198096892,0.795588546164288\",\"0.03703173266104841,0.7945953095257379\",\"0.03703173266104841,0.7948436186853753\",\"0.03703173266104841,0.7949677732651942\",\"0.03703173266104841,0.7950919278450129\",\"0.0371034133411279,0.7944711549459191\",\"0.0371034133411279,0.7945953095257379\",\"0.0371034133411279,0.7947194641055566\",\"0.0371034133411279,0.7949677732651942\",\"0.0371034133411279,0.7950919278450129\",\"0.0371034133411279,0.7952160824248317\",\"0.03717509402120738,0.7944711549459191\",\"0.03717509402120738,0.7945953095257379\",\"0.03717509402120738,0.7947194641055566\",\"0.03717509402120738,0.7948436186853753\",\"0.03717509402120738,0.7949677732651942\",\"0.03717509402120738,0.7952160824248317\",\"0.03724677470128687,0.7942228457862816\",\"0.03724677470128687,0.7943470003661003\",\"0.03724677470128687,0.7944711549459191\",\"0.03724677470128687,0.7945953095257379\",\"0.03724677470128687,0.7947194641055566\",\"0.03724677470128687,0.7948436186853753\",\"0.03724677470128687,0.7949677732651942\",\"0.03724677470128687,0.7950919278450129\",\"0.03724677470128687,0.7952160824248317\",\"0.03731845538136636,0.7942228457862816\",\"0.03731845538136636,0.7943470003661003\",\"0.03731845538136636,0.7944711549459191\",\"0.03731845538136636,0.7945953095257379\",\"0.03731845538136636,0.7947194641055566\",\"0.03731845538136636,0.7948436186853753\",\"0.03731845538136636,0.7949677732651942\",\"0.03731845538136636,0.7952160824248317\",\"0.03731845538136636,0.7953402370046504\",\"0.03731845538136636,0.7954643915844692\",\"0.03731845538136636,0.7957127007441067\",\"0.037390136061445846,0.7942228457862816\",\"0.037390136061445846,0.7943470003661003\",\"0.037390136061445846,0.7944711549459191\",\"0.037390136061445846,0.7945953095257379\",\"0.037390136061445846,0.7947194641055566\",\"0.037390136061445846,0.7948436186853753\",\"0.037390136061445846,0.7950919278450129\",\"0.037390136061445846,0.7952160824248317\",\"0.037390136061445846,0.7953402370046504\",\"0.037390136061445846,0.7954643915844692\",\"0.037390136061445846,0.7959610099037443\",\"0.037461816741525336,0.7942228457862816\",\"0.037461816741525336,0.7944711549459191\",\"0.037461816741525336,0.7945953095257379\",\"0.037461816741525336,0.7947194641055566\",\"0.037461816741525336,0.7948436186853753\",\"0.037461816741525336,0.7949677732651942\",\"0.037461816741525336,0.7950919278450129\",\"0.037461816741525336,0.7952160824248317\",\"0.037461816741525336,0.7953402370046504\",\"0.037461816741525336,0.7954643915844692\",\"0.037461816741525336,0.795588546164288\",\"0.037461816741525336,0.7957127007441067\",\"0.037533497421604826,0.7944711549459191\",\"0.037533497421604826,0.7945953095257379\",\"0.037533497421604826,0.7947194641055566\",\"0.037533497421604826,0.7948436186853753\",\"0.037533497421604826,0.7949677732651942\",\"0.037533497421604826,0.7950919278450129\",\"0.037533497421604826,0.7952160824248317\",\"0.037533497421604826,0.7953402370046504\",\"0.037533497421604826,0.7954643915844692\",\"0.037533497421604826,0.795588546164288\",\"0.037533497421604826,0.7957127007441067\",\"0.037533497421604826,0.7958368553239255\",\"0.03760517810168431,0.7944711549459191\",\"0.03760517810168431,0.7945953095257379\",\"0.03760517810168431,0.7947194641055566\",\"0.03760517810168431,0.7948436186853753\",\"0.03760517810168431,0.7949677732651942\",\"0.03760517810168431,0.7950919278450129\",\"0.03760517810168431,0.7952160824248317\",\"0.03760517810168431,0.7953402370046504\",\"0.03760517810168431,0.7954643915844692\",\"0.03760517810168431,0.795588546164288\",\"0.03760517810168431,0.7957127007441067\",\"0.03760517810168431,0.7959610099037443\",\"0.0376768587817638,0.7944711549459191\",\"0.0376768587817638,0.7945953095257379\",\"0.0376768587817638,0.7947194641055566\",\"0.0376768587817638,0.7948436186853753\",\"0.0376768587817638,0.7949677732651942\",\"0.0376768587817638,0.7950919278450129\",\"0.0376768587817638,0.7952160824248317\",\"0.0376768587817638,0.7953402370046504\",\"0.0376768587817638,0.7954643915844692\",\"0.0376768587817638,0.795588546164288\",\"0.0376768587817638,0.7957127007441067\",\"0.0376768587817638,0.7958368553239255\",\"0.0376768587817638,0.7959610099037443\",\"0.03774853946184329,0.7944711549459191\",\"0.03774853946184329,0.7945953095257379\",\"0.03774853946184329,0.7947194641055566\",\"0.03774853946184329,0.7948436186853753\",\"0.03774853946184329,0.7949677732651942\",\"0.03774853946184329,0.7950919278450129\",\"0.03774853946184329,0.7952160824248317\",\"0.03774853946184329,0.7953402370046504\",\"0.03774853946184329,0.7954643915844692\",\"0.03774853946184329,0.795588546164288\",\"0.03774853946184329,0.7958368553239255\",\"0.03774853946184329,0.7959610099037443\",\"0.037820220141922774,0.7944711549459191\",\"0.037820220141922774,0.7945953095257379\",\"0.037820220141922774,0.7947194641055566\",\"0.037820220141922774,0.7948436186853753\",\"0.037820220141922774,0.7949677732651942\",\"0.037820220141922774,0.7950919278450129\",\"0.037820220141922774,0.7952160824248317\",\"0.037820220141922774,0.7953402370046504\",\"0.037820220141922774,0.7954643915844692\",\"0.037820220141922774,0.7957127007441067\",\"0.037820220141922774,0.7958368553239255\",\"0.037820220141922774,0.7962093190633818\",\"0.037891900822002264,0.7944711549459191\",\"0.037891900822002264,0.7945953095257379\",\"0.037891900822002264,0.7947194641055566\",\"0.037891900822002264,0.7948436186853753\",\"0.037891900822002264,0.7949677732651942\",\"0.037891900822002264,0.7950919278450129\",\"0.037891900822002264,0.7952160824248317\",\"0.037891900822002264,0.7953402370046504\",\"0.037891900822002264,0.7954643915844692\",\"0.037891900822002264,0.795588546164288\",\"0.037891900822002264,0.7957127007441067\",\"0.037891900822002264,0.7958368553239255\",\"0.037891900822002264,0.7959610099037443\",\"0.037891900822002264,0.796085164483563\",\"0.037891900822002264,0.7962093190633818\",\"0.037963581502081754,0.7945953095257379\",\"0.037963581502081754,0.7947194641055566\",\"0.037963581502081754,0.7948436186853753\",\"0.037963581502081754,0.7949677732651942\",\"0.037963581502081754,0.7950919278450129\",\"0.037963581502081754,0.7952160824248317\",\"0.037963581502081754,0.7953402370046504\",\"0.037963581502081754,0.7954643915844692\",\"0.037963581502081754,0.795588546164288\",\"0.037963581502081754,0.7957127007441067\",\"0.037963581502081754,0.7958368553239255\",\"0.037963581502081754,0.7959610099037443\",\"0.037963581502081754,0.796085164483563\",\"0.037963581502081754,0.7962093190633818\",\"0.03803526218216124,0.7945953095257379\",\"0.03803526218216124,0.7947194641055566\",\"0.03803526218216124,0.7948436186853753\",\"0.03803526218216124,0.7949677732651942\",\"0.03803526218216124,0.7950919278450129\",\"0.03803526218216124,0.7952160824248317\",\"0.03803526218216124,0.7953402370046504\",\"0.03803526218216124,0.7954643915844692\",\"0.03803526218216124,0.795588546164288\",\"0.03803526218216124,0.7957127007441067\",\"0.03803526218216124,0.7958368553239255\",\"0.03803526218216124,0.796085164483563\",\"0.03803526218216124,0.7962093190633818\",\"0.03810694286224073,0.7945953095257379\",\"0.03810694286224073,0.7947194641055566\",\"0.03810694286224073,0.7948436186853753\",\"0.03810694286224073,0.7949677732651942\",\"0.03810694286224073,0.7950919278450129\",\"0.03810694286224073,0.7952160824248317\",\"0.03810694286224073,0.7953402370046504\",\"0.03810694286224073,0.7954643915844692\",\"0.03810694286224073,0.795588546164288\",\"0.03810694286224073,0.7957127007441067\",\"0.03810694286224073,0.7958368553239255\",\"0.03810694286224073,0.796085164483563\",\"0.03810694286224073,0.7962093190633818\",\"0.03810694286224073,0.7964576282230194\",\"0.03817862354232022,0.7945953095257379\",\"0.03817862354232022,0.7947194641055566\",\"0.03817862354232022,0.7948436186853753\",\"0.03817862354232022,0.7949677732651942\",\"0.03817862354232022,0.7950919278450129\",\"0.03817862354232022,0.7952160824248317\",\"0.03817862354232022,0.7953402370046504\",\"0.03817862354232022,0.7954643915844692\",\"0.03817862354232022,0.795588546164288\",\"0.03817862354232022,0.7957127007441067\",\"0.03817862354232022,0.7958368553239255\",\"0.03817862354232022,0.7959610099037443\",\"0.03817862354232022,0.7962093190633818\",\"0.03817862354232022,0.7963334736432005\",\"0.0382503042223997,0.7945953095257379\",\"0.0382503042223997,0.7947194641055566\",\"0.0382503042223997,0.7949677732651942\",\"0.0382503042223997,0.7950919278450129\",\"0.0382503042223997,0.7953402370046504\",\"0.0382503042223997,0.7954643915844692\",\"0.0382503042223997,0.795588546164288\",\"0.0382503042223997,0.7957127007441067\",\"0.0382503042223997,0.7959610099037443\",\"0.0382503042223997,0.7963334736432005\",\"0.03832198490247919,0.7948436186853753\",\"0.03832198490247919,0.7949677732651942\",\"0.03832198490247919,0.7950919278450129\",\"0.03832198490247919,0.7952160824248317\",\"0.03832198490247919,0.7953402370046504\",\"0.03832198490247919,0.7954643915844692\",\"0.03832198490247919,0.795588546164288\",\"0.03832198490247919,0.7957127007441067\",\"0.03832198490247919,0.7958368553239255\",\"0.03839366558255868,0.7948436186853753\",\"0.03839366558255868,0.7950919278450129\",\"0.03839366558255868,0.7952160824248317\",\"0.03839366558255868,0.7953402370046504\",\"0.03839366558255868,0.7954643915844692\",\"0.03839366558255868,0.795588546164288\",\"0.03839366558255868,0.7957127007441067\",\"0.038465346262638166,0.7950919278450129\",\"0.038465346262638166,0.7952160824248317\",\"0.038465346262638166,0.7953402370046504\",\"0.038465346262638166,0.7954643915844692\",\"0.038465346262638166,0.795588546164288\",\"0.038465346262638166,0.7957127007441067\",\"0.038537026942717656,0.7950919278450129\",\"0.038537026942717656,0.7952160824248317\",\"0.038537026942717656,0.7953402370046504\",\"0.038537026942717656,0.7954643915844692\",\"0.038537026942717656,0.795588546164288\",\"0.038537026942717656,0.7957127007441067\",\"0.038537026942717656,0.7959610099037443\",\"0.038608707622797146,0.7952160824248317\",\"0.038608707622797146,0.7953402370046504\",\"0.038608707622797146,0.7954643915844692\",\"0.038608707622797146,0.795588546164288\",\"0.03868038830287663,0.7953402370046504\",\"0.03868038830287663,0.7954643915844692\",\"0.03875206898295612,0.7954643915844692\",\"0.03663748892061122,0.7954023142945599\",\"0.03670916960069071,0.7954023142945599\",\"0.0367808502807702,0.794781541395466\",\"0.036852530960849686,0.794781541395466\",\"0.036852530960849686,0.7955264688743786\",\"0.036924211640929176,0.7946573868156472\",\"0.036924211640929176,0.7954023142945599\",\"0.036924211640929176,0.7956506234541973\",\"0.03699589232100867,0.7946573868156472\",\"0.03699589232100867,0.7949056959752848\",\"0.03699589232100867,0.7950298505551036\",\"0.03699589232100867,0.7951540051349223\",\"0.03699589232100867,0.7955264688743786\",\"0.03699589232100867,0.7956506234541973\",\"0.03706757300108815,0.7945332322358285\",\"0.03706757300108815,0.7946573868156472\",\"0.03706757300108815,0.794781541395466\",\"0.03706757300108815,0.7949056959752848\",\"0.03706757300108815,0.7950298505551036\",\"0.03706757300108815,0.7954023142945599\",\"0.03713925368116764,0.7945332322358285\",\"0.03713925368116764,0.7946573868156472\",\"0.03713925368116764,0.794781541395466\",\"0.03713925368116764,0.7949056959752848\",\"0.03713925368116764,0.7950298505551036\",\"0.03713925368116764,0.7954023142945599\",\"0.03713925368116764,0.7955264688743786\",\"0.03721093436124713,0.7944090776560098\",\"0.03721093436124713,0.7945332322358285\",\"0.03721093436124713,0.7946573868156472\",\"0.03721093436124713,0.794781541395466\",\"0.03721093436124713,0.7950298505551036\",\"0.03721093436124713,0.7951540051349223\",\"0.03721093436124713,0.7954023142945599\",\"0.03721093436124713,0.7956506234541973\",\"0.03721093436124713,0.7957747780340161\",\"0.037282615041326614,0.7941607684963722\",\"0.037282615041326614,0.7942849230761909\",\"0.037282615041326614,0.7944090776560098\",\"0.037282615041326614,0.7945332322358285\",\"0.037282615041326614,0.7946573868156472\",\"0.037282615041326614,0.794781541395466\",\"0.037282615041326614,0.7949056959752848\",\"0.037282615041326614,0.7950298505551036\",\"0.037282615041326614,0.7951540051349223\",\"0.037282615041326614,0.795278159714741\",\"0.037354295721406104,0.7941607684963722\",\"0.037354295721406104,0.7942849230761909\",\"0.037354295721406104,0.7944090776560098\",\"0.037354295721406104,0.7945332322358285\",\"0.037354295721406104,0.7946573868156472\",\"0.037354295721406104,0.794781541395466\",\"0.037354295721406104,0.7949056959752848\",\"0.037354295721406104,0.7950298505551036\",\"0.037354295721406104,0.7951540051349223\",\"0.037354295721406104,0.795278159714741\",\"0.037354295721406104,0.7954023142945599\",\"0.037354295721406104,0.7956506234541973\",\"0.037354295721406104,0.7958989326138349\",\"0.037425976401485594,0.7944090776560098\",\"0.037425976401485594,0.7945332322358285\",\"0.037425976401485594,0.7946573868156472\",\"0.037425976401485594,0.794781541395466\",\"0.037425976401485594,0.7949056959752848\",\"0.037425976401485594,0.7950298505551036\",\"0.037425976401485594,0.7951540051349223\",\"0.037425976401485594,0.795278159714741\",\"0.037425976401485594,0.7954023142945599\",\"0.037425976401485594,0.7956506234541973\",\"0.037425976401485594,0.7958989326138349\",\"0.03749765708156508,0.7945332322358285\",\"0.03749765708156508,0.7946573868156472\",\"0.03749765708156508,0.794781541395466\",\"0.03749765708156508,0.7949056959752848\",\"0.03749765708156508,0.7950298505551036\",\"0.03749765708156508,0.7951540051349223\",\"0.03749765708156508,0.795278159714741\",\"0.03749765708156508,0.7954023142945599\",\"0.03749765708156508,0.7955264688743786\",\"0.03749765708156508,0.7956506234541973\",\"0.03749765708156508,0.7957747780340161\",\"0.03756933776164457,0.7945332322358285\",\"0.03756933776164457,0.7946573868156472\",\"0.03756933776164457,0.794781541395466\",\"0.03756933776164457,0.7949056959752848\",\"0.03756933776164457,0.7950298505551036\",\"0.03756933776164457,0.7951540051349223\",\"0.03756933776164457,0.795278159714741\",\"0.03756933776164457,0.7954023142945599\",\"0.03756933776164457,0.7956506234541973\",\"0.03756933776164457,0.7958989326138349\",\"0.03764101844172406,0.7945332322358285\",\"0.03764101844172406,0.7946573868156472\",\"0.03764101844172406,0.794781541395466\",\"0.03764101844172406,0.7949056959752848\",\"0.03764101844172406,0.7950298505551036\",\"0.03764101844172406,0.7951540051349223\",\"0.03764101844172406,0.795278159714741\",\"0.03764101844172406,0.7954023142945599\",\"0.03764101844172406,0.7955264688743786\",\"0.03764101844172406,0.7956506234541973\",\"0.03764101844172406,0.7957747780340161\",\"0.03764101844172406,0.7958989326138349\",\"0.03764101844172406,0.7960230871936537\",\"0.03771269912180354,0.7945332322358285\",\"0.03771269912180354,0.7946573868156472\",\"0.03771269912180354,0.794781541395466\",\"0.03771269912180354,0.7949056959752848\",\"0.03771269912180354,0.7950298505551036\",\"0.03771269912180354,0.7951540051349223\",\"0.03771269912180354,0.795278159714741\",\"0.03771269912180354,0.7954023142945599\",\"0.03771269912180354,0.7955264688743786\",\"0.03771269912180354,0.7956506234541973\",\"0.03771269912180354,0.7957747780340161\",\"0.03771269912180354,0.7961472417734724\",\"0.03778437980188303,0.7944090776560098\",\"0.03778437980188303,0.7945332322358285\",\"0.03778437980188303,0.7946573868156472\",\"0.03778437980188303,0.794781541395466\",\"0.03778437980188303,0.7949056959752848\",\"0.03778437980188303,0.7950298505551036\",\"0.03778437980188303,0.7951540051349223\",\"0.03778437980188303,0.795278159714741\",\"0.03778437980188303,0.7954023142945599\",\"0.03778437980188303,0.7955264688743786\",\"0.03778437980188303,0.7958989326138349\",\"0.03778437980188303,0.7961472417734724\",\"0.03785606048196252,0.7945332322358285\",\"0.03785606048196252,0.7946573868156472\",\"0.03785606048196252,0.794781541395466\",\"0.03785606048196252,0.7949056959752848\",\"0.03785606048196252,0.7950298505551036\",\"0.03785606048196252,0.7951540051349223\",\"0.03785606048196252,0.795278159714741\",\"0.03785606048196252,0.7954023142945599\",\"0.03785606048196252,0.7955264688743786\",\"0.03785606048196252,0.7956506234541973\",\"0.03785606048196252,0.7957747780340161\",\"0.03785606048196252,0.7958989326138349\",\"0.03785606048196252,0.7960230871936537\",\"0.037927741162042006,0.7945332322358285\",\"0.037927741162042006,0.7946573868156472\",\"0.037927741162042006,0.794781541395466\",\"0.037927741162042006,0.7949056959752848\",\"0.037927741162042006,0.7950298505551036\",\"0.037927741162042006,0.7951540051349223\",\"0.037927741162042006,0.795278159714741\",\"0.037927741162042006,0.7954023142945599\",\"0.037927741162042006,0.7955264688743786\",\"0.037927741162042006,0.7956506234541973\",\"0.037927741162042006,0.7957747780340161\",\"0.037927741162042006,0.7958989326138349\",\"0.037927741162042006,0.7960230871936537\",\"0.037927741162042006,0.7961472417734724\",\"0.037927741162042006,0.7962713963532911\",\"0.037999421842121496,0.7945332322358285\",\"0.037999421842121496,0.7946573868156472\",\"0.037999421842121496,0.794781541395466\",\"0.037999421842121496,0.7949056959752848\",\"0.037999421842121496,0.7950298505551036\",\"0.037999421842121496,0.7951540051349223\",\"0.037999421842121496,0.795278159714741\",\"0.037999421842121496,0.7954023142945599\",\"0.037999421842121496,0.7955264688743786\",\"0.037999421842121496,0.7956506234541973\",\"0.037999421842121496,0.7957747780340161\",\"0.037999421842121496,0.7958989326138349\",\"0.037999421842121496,0.7960230871936537\",\"0.037999421842121496,0.7961472417734724\",\"0.037999421842121496,0.7962713963532911\",\"0.037999421842121496,0.7965197055129287\",\"0.038071102522200986,0.7946573868156472\",\"0.038071102522200986,0.794781541395466\",\"0.038071102522200986,0.7949056959752848\",\"0.038071102522200986,0.7950298505551036\",\"0.038071102522200986,0.7951540051349223\",\"0.038071102522200986,0.795278159714741\",\"0.038071102522200986,0.7954023142945599\",\"0.038071102522200986,0.7955264688743786\",\"0.038071102522200986,0.7956506234541973\",\"0.038071102522200986,0.7957747780340161\",\"0.038071102522200986,0.7958989326138349\",\"0.038071102522200986,0.7960230871936537\",\"0.038071102522200986,0.7962713963532911\",\"0.03814278320228047,0.7946573868156472\",\"0.03814278320228047,0.794781541395466\",\"0.03814278320228047,0.7949056959752848\",\"0.03814278320228047,0.7950298505551036\",\"0.03814278320228047,0.7951540051349223\",\"0.03814278320228047,0.795278159714741\",\"0.03814278320228047,0.7954023142945599\",\"0.03814278320228047,0.7955264688743786\",\"0.03814278320228047,0.7956506234541973\",\"0.03814278320228047,0.7961472417734724\",\"0.03821446388235996,0.7945332322358285\",\"0.03821446388235996,0.7946573868156472\",\"0.03821446388235996,0.7949056959752848\",\"0.03821446388235996,0.7950298505551036\",\"0.03821446388235996,0.7951540051349223\",\"0.03821446388235996,0.795278159714741\",\"0.03821446388235996,0.7954023142945599\",\"0.03821446388235996,0.7955264688743786\",\"0.03821446388235996,0.7956506234541973\",\"0.03821446388235996,0.7957747780340161\",\"0.03821446388235996,0.7960230871936537\",\"0.03821446388235996,0.7961472417734724\",\"0.03821446388235996,0.79639555093311\",\"0.03828614456243945,0.7946573868156472\",\"0.03828614456243945,0.7949056959752848\",\"0.03828614456243945,0.7950298505551036\",\"0.03828614456243945,0.7951540051349223\",\"0.03828614456243945,0.795278159714741\",\"0.03828614456243945,0.7954023142945599\",\"0.03828614456243945,0.7955264688743786\",\"0.03828614456243945,0.7958989326138349\",\"0.038357825242518934,0.7950298505551036\",\"0.038357825242518934,0.7951540051349223\",\"0.038357825242518934,0.795278159714741\",\"0.038357825242518934,0.7954023142945599\",\"0.038357825242518934,0.7955264688743786\",\"0.038357825242518934,0.7956506234541973\",\"0.038429505922598424,0.7950298505551036\",\"0.038429505922598424,0.7951540051349223\",\"0.038429505922598424,0.795278159714741\",\"0.038429505922598424,0.7955264688743786\",\"0.038429505922598424,0.7956506234541973\",\"0.038429505922598424,0.7960230871936537\",\"0.038429505922598424,0.7961472417734724\",\"0.038501186602677914,0.7951540051349223\",\"0.038501186602677914,0.795278159714741\",\"0.038501186602677914,0.7955264688743786\",\"0.038501186602677914,0.7956506234541973\",\"0.0385728672827574,0.7951540051349223\",\"0.0385728672827574,0.795278159714741\",\"0.0385728672827574,0.7954023142945599\",\"0.0385728672827574,0.7955264688743786\",\"0.0385728672827574,0.7956506234541973\",\"0.03864454796283689,0.795278159714741\",\"0.03864454796283689,0.7954023142945599\",\"0.03864454796283689,0.7955264688743786\",\"0.03871622864291638,0.7954023142945599\",\"0.03871622864291638,0.7955264688743786\"],\"marker\":{\"opacity\":0.6},\"name\":\"\",\"subplot\":\"mapbox\",\"z\":[3.8,2.55,1.75,2.1,2.2,2.55,2.9499999999999997,3.05,3.44,3.45,2.55,3.0125,3.4,1.875,3.45,2.6,2.952380952380952,3.5,3.0,3.5250000000000004,1.0,2.8850000000000002,3.223076923076923,2.61,2.225,2.3833333333333333,2.4499999999999997,2.4499999999999997,2.95,2.869444444444445,3.125,2.4749999999999996,3.233333333333333,3.0124999999999997,3.1,3.016666666666667,2.9277777777777776,3.8,2.875,3.0777777777777775,2.9142857142857146,3.2999999999999994,3.05,3.5,3.75,3.675,3.5666666666666664,4.05,2.5,3.139583333333333,2.97,2.8000000000000003,2.9722222222222223,2.36875,3.0625,2.4250000000000003,2.65,3.7,3.05,3.0833333333333335,2.885294117647059,3.0846153846153848,3.33,2.04375,3.4928571428571424,3.1999999999999997,2.9444444444444446,2.9250000000000003,3.05,3.0,3.09,2.8944444444444444,3.231818181818182,2.886666666666667,2.868181818181818,3.0972222222222223,2.980769230769231,3.433333333333333,3.7833333333333337,3.516666666666666,2.66875,4.3,3.5833333333333335,3.2024999999999997,3.1550000000000002,3.1750000000000003,2.784375,3.463333333333334,3.088095238095238,4.0375000000000005,2.95,2.25,3.7624999999999997,3.55,2.5949999999999998,3.219642857142857,3.0014285714285713,2.8954545454545464,2.5447368421052627,2.8282608695652174,3.4814814814814814,3.35,4.0875,3.07,2.9,3.375,2.95,3.1839999999999997,3.0250000000000004,3.344736842105263,2.778260869565217,2.683333333333334,3.1879310344827583,3.3125,3.407142857142858,3.0269230769230764,3.8,3.3,3.3,3.084090909090909,3.3391304347826085,3.402564102564103,2.54622641509434,2.234615384615385,3.3892857142857133,3.25,3.177272727272727,3.79,3.65,3.5449999999999995,2.875,3.6166666666666667,3.1140625,2.6364197530864204,3.0500000000000007,2.6828125000000003,3.0785714285714283,3.3218750000000004,3.3208333333333333,3.4,2.96875,2.7,3.3,3.6375,2.1,4.1,2.7426470588235294,2.873949579831933,3.0609375,3.0000000000000004,3.0760869565217397,3.2607142857142857,3.354347826086957,3.0,3.6400000000000006,3.425,3.825,3.1833333333333336,3.1666666666666665,3.225,2.5571428571428574,2.782291666666666,3.1874999999999996,3.4964285714285714,2.9734374999999997,3.246774193548387,3.1605263157894736,3.1357142857142857,3.5199999999999996,3.2399999999999998,3.3200000000000003,2.5,4.3,2.2,2.8209302325581396,2.992857142857143,2.9749999999999996,3.3187499999999996,3.106666666666666,2.86875,3.5444444444444443,3.3499999999999996,3.55,3.0124999999999997,3.25,3.4,4.15,2.8277777777777775,2.6859999999999995,2.8499999999999996,3.1921052631578952,1.875,3.9000000000000004,3.1966666666666663,3.0785714285714287,2.85,3.2999999999999994,2.7750000000000004,2.6833333333333336,3.8,2.5,2.755405405405405,3.035294117647059,3.7874999999999996,2.8833333333333333,2.71,3.2600000000000002,3.1,2.675,3.1,4.075,4.85,2.9499999999999997,3.0583333333333336,3.15,3.425,3.4428571428571426,3.3,2.4,3.3,3.45,2.84,3.75,2.825,3.96,3.3,3.45,3.6100000000000003,2.7750000000000004,2.8833333333333333,4.075,3.3,3.2249999999999996,2.3642857142857143,2.788888888888889,2.992857142857143,3.05,2.8499999999999996,3.0,3.6750000000000003,3.0833333333333335,2.966666666666667,1.7,3.0100000000000002,2.55,3.1100000000000003,3.0500000000000003,2.4,3.05,2.9,1.7,3.5,2.9499999999999997,3.55,2.95,3.25,2.5500000000000003,2.55,2.875,2.55,2.9,2.390909090909091,3.395454545454545,3.8,2.5,1.9000000000000001,3.4,3.2038461538461536,3.4555555555555557,3.2249999999999996,2.0666666666666664,2.9166666666666665,3.4,2.1,3.4,2.9925000000000006,3.7166666666666663,3.1545454545454543,3.05,1.4000000000000001,3.25,2.7,3.25,2.983333333333333,3.0374999999999996,2.983333333333333,2.6040000000000005,2.9916666666666667,3.7249999999999996,3.7249999999999996,2.0,3.1500000000000004,3.3875,3.4714285714285715,2.5,3.4214285714285713,3.2230769230769236,2.2416666666666667,2.73125,2.075,2.5,3.1833333333333336,3.5833333333333335,3.105555555555555,3.7,3.2249999999999996,3.5500000000000003,2.8021739130434784,3.142857142857143,3.1124999999999994,2.711764705882353,2.975,2.5807692307692305,2.8600000000000003,3.72,3.2875,3.35,2.7722222222222226,3.2399999999999998,3.2394736842105267,2.227272727272727,2.5949999999999998,3.224999999999999,2.62,3.25,4.15,3.3,3.0,3.15,2.956060606060606,3.1500000000000004,2.783333333333333,3.04,3.191071428571429,3.6049999999999995,3.271428571428572,3.15,3.95,3.025,2.9216216216216218,2.875641025641026,2.7823529411764705,2.960526315789474,3.337234042553191,3.6928571428571426,4.029999999999999,3.0916666666666663,3.48125,2.483333333333333,2.9,3.8249999999999997,3.076785714285714,3.417142857142857,2.9439393939393943,3.157608695652174,2.7233333333333336,2.932352941176471,3.45625,3.6916666666666664,3.1055555555555556,4.199999999999999,3.2,3.25,3.6999999999999997,3.0245283018867926,3.087244897959183,2.7879032258064504,2.7338235294117648,2.716666666666667,2.914583333333334,3.6149999999999998,3.0124999999999997,3.466666666666667,2.45,3.5,3.0128205128205137,2.9399999999999995,2.799324324324324,2.5833333333333335,2.775,2.75,3.2111111111111112,3.3227272727272723,3.4333333333333336,3.9,2.585714285714286,3.559090909090909,2.95,3.3111111111111113,2.8055555555555554,3.0490909090909093,2.5816666666666666,2.8269230769230775,2.9588235294117644,2.948648648648649,2.923684210526316,2.9583333333333335,3.408333333333333,3.25,3.3374999999999995,3.75,3.75,2.95,3.7,2.6920454545454544,2.8807692307692303,3.057377049180328,3.244186046511628,3.0349999999999997,3.170833333333334,3.172916666666667,2.75,3.8625,3.4375,2.6999999999999997,2.875,3.125,3.283333333333333,3.75,2.806818181818181,3.0500000000000003,2.9236842105263157,2.7357142857142853,3.217567567567567,3.3666666666666667,2.792857142857143,2.975,3.4850000000000003,2.775,3.95,3.0,4.2,2.685714285714286,2.6109375000000004,3.1750000000000003,3.4200000000000004,2.8428571428571425,3.475,2.6766666666666667,2.9499999999999997,3.3125,3.4125,3.2249999999999996,2.8148437499999996,3.2583333333333333,2.857142857142857,2.8874999999999997,3.4899999999999998,3.3428571428571425,3.24375,3.5125,3.55,3.44,3.1,3.75,3.228571428571428,3.7625,3.2928571428571423,3.633333333333333,3.3499999999999996,1.95,3.625,3.2,3.825,3.423076923076924,3.8499999999999996,3.5785714285714283,4.057142857142857,3.9666666666666663,3.05,3.1700000000000004,4.15,3.1833333333333336,2.8666666666666667,1.5,2.4,2.465384615384615,3.1999999999999997,3.5666666666666664,3.675,2.4,2.5124999999999997,2.75,3.075,3.525,2.983333333333333,3.2,2.875,2.9583333333333335,2.9916666666666667],\"type\":\"choroplethmapbox\"}],                        {\"template\":{\"data\":{\"histogram2dcontour\":[{\"type\":\"histogram2dcontour\",\"colorbar\":{\"outlinewidth\":0,\"ticks\":\"\"},\"colorscale\":[[0.0,\"#0d0887\"],[0.1111111111111111,\"#46039f\"],[0.2222222222222222,\"#7201a8\"],[0.3333333333333333,\"#9c179e\"],[0.4444444444444444,\"#bd3786\"],[0.5555555555555556,\"#d8576b\"],[0.6666666666666666,\"#ed7953\"],[0.7777777777777778,\"#fb9f3a\"],[0.8888888888888888,\"#fdca26\"],[1.0,\"#f0f921\"]]}],\"choropleth\":[{\"type\":\"choropleth\",\"colorbar\":{\"outlinewidth\":0,\"ticks\":\"\"}}],\"histogram2d\":[{\"type\":\"histogram2d\",\"colorbar\":{\"outlinewidth\":0,\"ticks\":\"\"},\"colorscale\":[[0.0,\"#0d0887\"],[0.1111111111111111,\"#46039f\"],[0.2222222222222222,\"#7201a8\"],[0.3333333333333333,\"#9c179e\"],[0.4444444444444444,\"#bd3786\"],[0.5555555555555556,\"#d8576b\"],[0.6666666666666666,\"#ed7953\"],[0.7777777777777778,\"#fb9f3a\"],[0.8888888888888888,\"#fdca26\"],[1.0,\"#f0f921\"]]}],\"heatmap\":[{\"type\":\"heatmap\",\"colorbar\":{\"outlinewidth\":0,\"ticks\":\"\"},\"colorscale\":[[0.0,\"#0d0887\"],[0.1111111111111111,\"#46039f\"],[0.2222222222222222,\"#7201a8\"],[0.3333333333333333,\"#9c179e\"],[0.4444444444444444,\"#bd3786\"],[0.5555555555555556,\"#d8576b\"],[0.6666666666666666,\"#ed7953\"],[0.7777777777777778,\"#fb9f3a\"],[0.8888888888888888,\"#fdca26\"],[1.0,\"#f0f921\"]]}],\"heatmapgl\":[{\"type\":\"heatmapgl\",\"colorbar\":{\"outlinewidth\":0,\"ticks\":\"\"},\"colorscale\":[[0.0,\"#0d0887\"],[0.1111111111111111,\"#46039f\"],[0.2222222222222222,\"#7201a8\"],[0.3333333333333333,\"#9c179e\"],[0.4444444444444444,\"#bd3786\"],[0.5555555555555556,\"#d8576b\"],[0.6666666666666666,\"#ed7953\"],[0.7777777777777778,\"#fb9f3a\"],[0.8888888888888888,\"#fdca26\"],[1.0,\"#f0f921\"]]}],\"contourcarpet\":[{\"type\":\"contourcarpet\",\"colorbar\":{\"outlinewidth\":0,\"ticks\":\"\"}}],\"contour\":[{\"type\":\"contour\",\"colorbar\":{\"outlinewidth\":0,\"ticks\":\"\"},\"colorscale\":[[0.0,\"#0d0887\"],[0.1111111111111111,\"#46039f\"],[0.2222222222222222,\"#7201a8\"],[0.3333333333333333,\"#9c179e\"],[0.4444444444444444,\"#bd3786\"],[0.5555555555555556,\"#d8576b\"],[0.6666666666666666,\"#ed7953\"],[0.7777777777777778,\"#fb9f3a\"],[0.8888888888888888,\"#fdca26\"],[1.0,\"#f0f921\"]]}],\"surface\":[{\"type\":\"surface\",\"colorbar\":{\"outlinewidth\":0,\"ticks\":\"\"},\"colorscale\":[[0.0,\"#0d0887\"],[0.1111111111111111,\"#46039f\"],[0.2222222222222222,\"#7201a8\"],[0.3333333333333333,\"#9c179e\"],[0.4444444444444444,\"#bd3786\"],[0.5555555555555556,\"#d8576b\"],[0.6666666666666666,\"#ed7953\"],[0.7777777777777778,\"#fb9f3a\"],[0.8888888888888888,\"#fdca26\"],[1.0,\"#f0f921\"]]}],\"mesh3d\":[{\"type\":\"mesh3d\",\"colorbar\":{\"outlinewidth\":0,\"ticks\":\"\"}}],\"scatter\":[{\"fillpattern\":{\"fillmode\":\"overlay\",\"size\":10,\"solidity\":0.2},\"type\":\"scatter\"}],\"parcoords\":[{\"type\":\"parcoords\",\"line\":{\"colorbar\":{\"outlinewidth\":0,\"ticks\":\"\"}}}],\"scatterpolargl\":[{\"type\":\"scatterpolargl\",\"marker\":{\"colorbar\":{\"outlinewidth\":0,\"ticks\":\"\"}}}],\"bar\":[{\"error_x\":{\"color\":\"#2a3f5f\"},\"error_y\":{\"color\":\"#2a3f5f\"},\"marker\":{\"line\":{\"color\":\"#E5ECF6\",\"width\":0.5},\"pattern\":{\"fillmode\":\"overlay\",\"size\":10,\"solidity\":0.2}},\"type\":\"bar\"}],\"scattergeo\":[{\"type\":\"scattergeo\",\"marker\":{\"colorbar\":{\"outlinewidth\":0,\"ticks\":\"\"}}}],\"scatterpolar\":[{\"type\":\"scatterpolar\",\"marker\":{\"colorbar\":{\"outlinewidth\":0,\"ticks\":\"\"}}}],\"histogram\":[{\"marker\":{\"pattern\":{\"fillmode\":\"overlay\",\"size\":10,\"solidity\":0.2}},\"type\":\"histogram\"}],\"scattergl\":[{\"type\":\"scattergl\",\"marker\":{\"colorbar\":{\"outlinewidth\":0,\"ticks\":\"\"}}}],\"scatter3d\":[{\"type\":\"scatter3d\",\"line\":{\"colorbar\":{\"outlinewidth\":0,\"ticks\":\"\"}},\"marker\":{\"colorbar\":{\"outlinewidth\":0,\"ticks\":\"\"}}}],\"scattermapbox\":[{\"type\":\"scattermapbox\",\"marker\":{\"colorbar\":{\"outlinewidth\":0,\"ticks\":\"\"}}}],\"scatterternary\":[{\"type\":\"scatterternary\",\"marker\":{\"colorbar\":{\"outlinewidth\":0,\"ticks\":\"\"}}}],\"scattercarpet\":[{\"type\":\"scattercarpet\",\"marker\":{\"colorbar\":{\"outlinewidth\":0,\"ticks\":\"\"}}}],\"carpet\":[{\"aaxis\":{\"endlinecolor\":\"#2a3f5f\",\"gridcolor\":\"white\",\"linecolor\":\"white\",\"minorgridcolor\":\"white\",\"startlinecolor\":\"#2a3f5f\"},\"baxis\":{\"endlinecolor\":\"#2a3f5f\",\"gridcolor\":\"white\",\"linecolor\":\"white\",\"minorgridcolor\":\"white\",\"startlinecolor\":\"#2a3f5f\"},\"type\":\"carpet\"}],\"table\":[{\"cells\":{\"fill\":{\"color\":\"#EBF0F8\"},\"line\":{\"color\":\"white\"}},\"header\":{\"fill\":{\"color\":\"#C8D4E3\"},\"line\":{\"color\":\"white\"}},\"type\":\"table\"}],\"barpolar\":[{\"marker\":{\"line\":{\"color\":\"#E5ECF6\",\"width\":0.5},\"pattern\":{\"fillmode\":\"overlay\",\"size\":10,\"solidity\":0.2}},\"type\":\"barpolar\"}],\"pie\":[{\"automargin\":true,\"type\":\"pie\"}]},\"layout\":{\"autotypenumbers\":\"strict\",\"colorway\":[\"#636efa\",\"#EF553B\",\"#00cc96\",\"#ab63fa\",\"#FFA15A\",\"#19d3f3\",\"#FF6692\",\"#B6E880\",\"#FF97FF\",\"#FECB52\"],\"font\":{\"color\":\"#2a3f5f\"},\"hovermode\":\"closest\",\"hoverlabel\":{\"align\":\"left\"},\"paper_bgcolor\":\"white\",\"plot_bgcolor\":\"#E5ECF6\",\"polar\":{\"bgcolor\":\"#E5ECF6\",\"angularaxis\":{\"gridcolor\":\"white\",\"linecolor\":\"white\",\"ticks\":\"\"},\"radialaxis\":{\"gridcolor\":\"white\",\"linecolor\":\"white\",\"ticks\":\"\"}},\"ternary\":{\"bgcolor\":\"#E5ECF6\",\"aaxis\":{\"gridcolor\":\"white\",\"linecolor\":\"white\",\"ticks\":\"\"},\"baxis\":{\"gridcolor\":\"white\",\"linecolor\":\"white\",\"ticks\":\"\"},\"caxis\":{\"gridcolor\":\"white\",\"linecolor\":\"white\",\"ticks\":\"\"}},\"coloraxis\":{\"colorbar\":{\"outlinewidth\":0,\"ticks\":\"\"}},\"colorscale\":{\"sequential\":[[0.0,\"#0d0887\"],[0.1111111111111111,\"#46039f\"],[0.2222222222222222,\"#7201a8\"],[0.3333333333333333,\"#9c179e\"],[0.4444444444444444,\"#bd3786\"],[0.5555555555555556,\"#d8576b\"],[0.6666666666666666,\"#ed7953\"],[0.7777777777777778,\"#fb9f3a\"],[0.8888888888888888,\"#fdca26\"],[1.0,\"#f0f921\"]],\"sequentialminus\":[[0.0,\"#0d0887\"],[0.1111111111111111,\"#46039f\"],[0.2222222222222222,\"#7201a8\"],[0.3333333333333333,\"#9c179e\"],[0.4444444444444444,\"#bd3786\"],[0.5555555555555556,\"#d8576b\"],[0.6666666666666666,\"#ed7953\"],[0.7777777777777778,\"#fb9f3a\"],[0.8888888888888888,\"#fdca26\"],[1.0,\"#f0f921\"]],\"diverging\":[[0,\"#8e0152\"],[0.1,\"#c51b7d\"],[0.2,\"#de77ae\"],[0.3,\"#f1b6da\"],[0.4,\"#fde0ef\"],[0.5,\"#f7f7f7\"],[0.6,\"#e6f5d0\"],[0.7,\"#b8e186\"],[0.8,\"#7fbc41\"],[0.9,\"#4d9221\"],[1,\"#276419\"]]},\"xaxis\":{\"gridcolor\":\"white\",\"linecolor\":\"white\",\"ticks\":\"\",\"title\":{\"standoff\":15},\"zerolinecolor\":\"white\",\"automargin\":true,\"zerolinewidth\":2},\"yaxis\":{\"gridcolor\":\"white\",\"linecolor\":\"white\",\"ticks\":\"\",\"title\":{\"standoff\":15},\"zerolinecolor\":\"white\",\"automargin\":true,\"zerolinewidth\":2},\"scene\":{\"xaxis\":{\"backgroundcolor\":\"#E5ECF6\",\"gridcolor\":\"white\",\"linecolor\":\"white\",\"showbackground\":true,\"ticks\":\"\",\"zerolinecolor\":\"white\",\"gridwidth\":2},\"yaxis\":{\"backgroundcolor\":\"#E5ECF6\",\"gridcolor\":\"white\",\"linecolor\":\"white\",\"showbackground\":true,\"ticks\":\"\",\"zerolinecolor\":\"white\",\"gridwidth\":2},\"zaxis\":{\"backgroundcolor\":\"#E5ECF6\",\"gridcolor\":\"white\",\"linecolor\":\"white\",\"showbackground\":true,\"ticks\":\"\",\"zerolinecolor\":\"white\",\"gridwidth\":2}},\"shapedefaults\":{\"line\":{\"color\":\"#2a3f5f\"}},\"annotationdefaults\":{\"arrowcolor\":\"#2a3f5f\",\"arrowhead\":0,\"arrowwidth\":1},\"geo\":{\"bgcolor\":\"white\",\"landcolor\":\"#E5ECF6\",\"subunitcolor\":\"white\",\"showland\":true,\"showlakes\":true,\"lakecolor\":\"white\"},\"title\":{\"x\":0.05},\"mapbox\":{\"style\":\"light\"}}},\"mapbox\":{\"domain\":{\"x\":[0.0,1.0],\"y\":[0.0,1.0]},\"center\":{\"lat\":41.40851811936827,\"lon\":2.158724993505478},\"zoom\":11.41222699230252,\"style\":\"open-street-map\"},\"coloraxis\":{\"colorbar\":{\"title\":{\"text\":\"score\"}},\"colorscale\":[[0.0,\"rgb(253, 237, 176)\"],[0.09090909090909091,\"rgb(250, 205, 145)\"],[0.18181818181818182,\"rgb(246, 173, 119)\"],[0.2727272727272727,\"rgb(240, 142, 98)\"],[0.36363636363636365,\"rgb(231, 109, 84)\"],[0.45454545454545453,\"rgb(216, 80, 83)\"],[0.5454545454545454,\"rgb(195, 56, 90)\"],[0.6363636363636364,\"rgb(168, 40, 96)\"],[0.7272727272727273,\"rgb(138, 29, 99)\"],[0.8181818181818182,\"rgb(107, 24, 93)\"],[0.9090909090909091,\"rgb(76, 21, 80)\"],[1.0,\"rgb(47, 15, 61)\"]],\"cmin\":1.0,\"cmax\":4.85},\"legend\":{\"tracegroupgap\":0},\"margin\":{\"t\":60},\"height\":800,\"width\":1000},                        {\"responsive\": true}                    ).then(function(){\n",
              "                            \n",
              "var gd = document.getElementById('2c5e0282-093c-4e91-91ec-ccb3e5ab475c');\n",
              "var x = new MutationObserver(function (mutations, observer) {{\n",
              "        var display = window.getComputedStyle(gd).display;\n",
              "        if (!display || display === 'none') {{\n",
              "            console.log([gd, 'removed!']);\n",
              "            Plotly.purge(gd);\n",
              "            observer.disconnect();\n",
              "        }}\n",
              "}});\n",
              "\n",
              "// Listen for the removal of the full notebook cells\n",
              "var notebookContainer = gd.closest('#notebook-container');\n",
              "if (notebookContainer) {{\n",
              "    x.observe(notebookContainer, {childList: true});\n",
              "}}\n",
              "\n",
              "// Listen for the clearing of the current output cell\n",
              "var outputEl = gd.closest('.output');\n",
              "if (outputEl) {{\n",
              "    x.observe(outputEl, {childList: true});\n",
              "}}\n",
              "\n",
              "                        })                };                            </script>        </div>\n",
              "</body>\n",
              "</html>"
            ]
          },
          "metadata": {}
        }
      ],
      "source": [
        "#Create hexbin mapbox to assign attractive score for listings\n",
        "#Listings are agggregated into hexagons\n",
        "#Darker colour is more attractive\n",
        "import plotly.figure_factory as ff\n",
        "import plotly.express as px\n",
        "import plotly.graph_objects as go\n",
        "\n",
        "fig = go.Figure()\n",
        "\n",
        "fig = ff.create_hexbin_mapbox(\n",
        "    data_frame=result, lat=\"latitude\", lon=\"longitude\",width=1000, height=800,\n",
        "    nx_hexagon=30, opacity=0.6, min_count=1,color='final score',agg_func=np.mean,\n",
        "    color_continuous_scale=\"matter\",\n",
        "    show_original_data=False, labels={'color': 'score'},\n",
        "    original_data_marker=dict(size=4, opacity=0.6, color=\"blue\"))\n",
        "\n",
        "\n",
        "fig.update_layout(mapbox_style=\"open-street-map\")\n",
        "\n",
        "fig.show()"
      ]
    },
    {
      "cell_type": "code",
      "source": [
        "import matplotlib.pyplot as plt\n",
        "\n",
        "# code to create the histogram\n",
        "final_scores = result['final score']\n",
        "plt.hist(final_scores, bins=20, edgecolor='k')  # You can adjust the number of bins\n",
        "plt.xlabel('Final Score')\n",
        "plt.ylabel('Frequency')\n",
        "plt.title('Distribution of Final Scores of Airbnb Listings in Barcelona')\n",
        "\n",
        "# Calculate the median\n",
        "median = final_scores.median()\n",
        "\n",
        "# Add a vertical line for the median\n",
        "plt.axvline(median, color='r', linestyle='dashed', linewidth=2, label=f'Median: {median:.2f}')\n",
        "\n",
        "# Display the legend\n",
        "plt.legend()\n",
        "\n",
        "# Display the histogram\n",
        "plt.show()"
      ],
      "metadata": {
        "colab": {
          "base_uri": "https://localhost:8080/",
          "height": 472
        },
        "id": "B9BcYs_UmO3b",
        "outputId": "f249ccfb-6c97-4773-ccdb-9365f9f50d75"
      },
      "execution_count": 73,
      "outputs": [
        {
          "output_type": "display_data",
          "data": {
            "text/plain": [
              "<Figure size 640x480 with 1 Axes>"
            ],
            "image/png": "[encoded data removed]"
          },
          "metadata": {}
        }
      ]
    },
    {
      "cell_type": "code",
      "execution_count": 73,
      "metadata": {
        "id": "9xJ2n9ti6vhM"
      },
      "outputs": [],
      "source": []
    }
  ],
  "metadata": {
    "colab": {
      "provenance": []
    },
    "kernelspec": {
      "display_name": "Python 3 (ipykernel)",
      "language": "python",
      "name": "python3"
    },
    "language_info": {
      "codemirror_mode": {
        "name": "ipython",
        "version": 3
      },
      "file_extension": ".py",
      "mimetype": "text/x-python",
      "name": "python",
      "nbconvert_exporter": "python",
      "pygments_lexer": "ipython3",
      "version": "3.10.9"
    }
  },
  "nbformat": 4,
  "nbformat_minor": 0
}