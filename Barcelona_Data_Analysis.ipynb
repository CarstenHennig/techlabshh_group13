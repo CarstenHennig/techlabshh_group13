{
  "cells": [
    {
      "cell_type": "markdown",
      "metadata": {
        "id": "wtG3_2JXTI4N"
      },
      "source": [
        "# Setup"
      ]
    },
    {
      "cell_type": "code",
      "execution_count": null,
      "metadata": {
        "colab": {
          "base_uri": "https://localhost:8080/"
        },
        "id": "z_vijsxsTNuH",
        "outputId": "a37d6237-858b-4b8a-a41e-cf87a1671f58"
      },
      "outputs": [
        {
          "name": "stdout",
          "output_type": "stream",
          "text": [
            "Mounted at /content/drive\n"
          ]
        }
      ],
      "source": [
        "#Connecting google drive to Colab to import data\n",
        "from google.colab import drive\n",
        "drive.mount('/content/drive')"
      ]
    },
    {
      "cell_type": "code",
      "execution_count": null,
      "metadata": {
        "id": "cwWm4dolNESY"
      },
      "outputs": [],
      "source": [
        "#Import Pandas and define dataframe as df\n",
        "import pandas as pd\n",
        "path = \"/content/drive/MyDrive/Barcelona/listings.csv\"\n",
        "df = pd.read_csv(path)"
      ]
    },
    {
      "cell_type": "code",
      "execution_count": null,
      "metadata": {
        "id": "GBNWeEIbUX0B"
      },
      "outputs": [],
      "source": [
        "#Import other libraries\n",
        "import matplotlib.pyplot as plt\n",
        "import seaborn as sns\n",
        "import numpy as np"
      ]
    },
    {
      "cell_type": "markdown",
      "metadata": {
        "id": "JQy_30AQVtIZ"
      },
      "source": [
        "#Data Cleaning"
      ]
    },
    {
      "cell_type": "markdown",
      "metadata": {
        "id": "7DQm--R1mb0M"
      },
      "source": [
        "##Verify Data"
      ]
    },
    {
      "cell_type": "code",
      "execution_count": null,
      "metadata": {
        "colab": {
          "base_uri": "https://localhost:8080/"
        },
        "id": "gdDZS_OWVqvk",
        "outputId": "0ab2fe4e-9318-4c8d-bcc5-fbe12c4d2f89"
      },
      "outputs": [
        {
          "data": {
            "text/plain": [
              "(17230, 75)"
            ]
          },
          "execution_count": 4,
          "metadata": {},
          "output_type": "execute_result"
        }
      ],
      "source": [
        "#Check the size of data (Rows,columns)\n",
        "#Total number of listings in Barcelona\n",
        "df.shape"
      ]
    },
    {
      "cell_type": "code",
      "execution_count": null,
      "metadata": {
        "colab": {
          "base_uri": "https://localhost:8080/"
        },
        "id": "GOVHABAV550x",
        "outputId": "75edc1de-4b51-448a-cd0d-82fed76c6a26"
      },
      "outputs": [
        {
          "data": {
            "text/html": [
              "\n",
              "  <div id=\"df-7bf50764-efd3-4412-8de1-408539b3359c\" class=\"colab-df-container\">\n",
              "    <div>\n",
              "<style scoped>\n",
              "    .dataframe tbody tr th:only-of-type {\n",
              "        vertical-align: middle;\n",
              "    }\n",
              "\n",
              "    .dataframe tbody tr th {\n",
              "        vertical-align: top;\n",
              "    }\n",
              "\n",
              "    .dataframe thead th {\n",
              "        text-align: right;\n",
              "    }\n",
              "</style>\n",
              "<table border=\"1\" class=\"dataframe\">\n",
              "  <thead>\n",
              "    <tr style=\"text-align: right;\">\n",
              "      <th></th>\n",
              "      <th>id</th>\n",
              "      <th>listing_url</th>\n",
              "      <th>scrape_id</th>\n",
              "      <th>last_scraped</th>\n",
              "      <th>source</th>\n",
              "      <th>name</th>\n",
              "      <th>description</th>\n",
              "      <th>neighborhood_overview</th>\n",
              "      <th>picture_url</th>\n",
              "      <th>host_id</th>\n",
              "      <th>host_url</th>\n",
              "      <th>host_name</th>\n",
              "      <th>host_since</th>\n",
              "      <th>host_location</th>\n",
              "      <th>host_about</th>\n",
              "      <th>host_response_time</th>\n",
              "      <th>host_response_rate</th>\n",
              "      <th>host_acceptance_rate</th>\n",
              "      <th>host_is_superhost</th>\n",
              "      <th>host_thumbnail_url</th>\n",
              "      <th>host_picture_url</th>\n",
              "      <th>host_neighbourhood</th>\n",
              "      <th>host_listings_count</th>\n",
              "      <th>host_total_listings_count</th>\n",
              "      <th>host_verifications</th>\n",
              "      <th>host_has_profile_pic</th>\n",
              "      <th>host_identity_verified</th>\n",
              "      <th>neighbourhood</th>\n",
              "      <th>neighbourhood_cleansed</th>\n",
              "      <th>neighbourhood_group_cleansed</th>\n",
              "      <th>latitude</th>\n",
              "      <th>longitude</th>\n",
              "      <th>property_type</th>\n",
              "      <th>room_type</th>\n",
              "      <th>accommodates</th>\n",
              "      <th>bathrooms</th>\n",
              "      <th>bathrooms_text</th>\n",
              "      <th>bedrooms</th>\n",
              "      <th>beds</th>\n",
              "      <th>amenities</th>\n",
              "      <th>price</th>\n",
              "      <th>minimum_nights</th>\n",
              "      <th>maximum_nights</th>\n",
              "      <th>minimum_minimum_nights</th>\n",
              "      <th>maximum_minimum_nights</th>\n",
              "      <th>minimum_maximum_nights</th>\n",
              "      <th>maximum_maximum_nights</th>\n",
              "      <th>minimum_nights_avg_ntm</th>\n",
              "      <th>maximum_nights_avg_ntm</th>\n",
              "      <th>calendar_updated</th>\n",
              "      <th>has_availability</th>\n",
              "      <th>availability_30</th>\n",
              "      <th>availability_60</th>\n",
              "      <th>availability_90</th>\n",
              "      <th>availability_365</th>\n",
              "      <th>calendar_last_scraped</th>\n",
              "      <th>number_of_reviews</th>\n",
              "      <th>number_of_reviews_ltm</th>\n",
              "      <th>number_of_reviews_l30d</th>\n",
              "      <th>first_review</th>\n",
              "      <th>last_review</th>\n",
              "      <th>review_scores_rating</th>\n",
              "      <th>review_scores_accuracy</th>\n",
              "      <th>review_scores_cleanliness</th>\n",
              "      <th>review_scores_checkin</th>\n",
              "      <th>review_scores_communication</th>\n",
              "      <th>review_scores_location</th>\n",
              "      <th>review_scores_value</th>\n",
              "      <th>license</th>\n",
              "      <th>instant_bookable</th>\n",
              "      <th>calculated_host_listings_count</th>\n",
              "      <th>calculated_host_listings_count_entire_homes</th>\n",
              "      <th>calculated_host_listings_count_private_rooms</th>\n",
              "      <th>calculated_host_listings_count_shared_rooms</th>\n",
              "      <th>reviews_per_month</th>\n",
              "    </tr>\n",
              "  </thead>\n",
              "  <tbody>\n",
              "    <tr>\n",
              "      <th>0</th>\n",
              "      <td>18674</td>\n",
              "      <td>https://www.airbnb.com/rooms/18674</td>\n",
              "      <td>20230610001920</td>\n",
              "      <td>2023-06-10</td>\n",
              "      <td>city scrape</td>\n",
              "      <td>Rental unit in Barcelona · ★4.35 · 3 bedrooms ...</td>\n",
              "      <td>110m2 apartment to rent in Barcelona. Located ...</td>\n",
              "      <td>Apartment in Barcelona located in the heart of...</td>\n",
              "      <td>https://a0.muscache.com/pictures/13031453/413c...</td>\n",
              "      <td>71615</td>\n",
              "      <td>https://www.airbnb.com/users/show/71615</td>\n",
              "      <td>Mireia And Maria</td>\n",
              "      <td>2010-01-19</td>\n",
              "      <td>Barcelona, Spain</td>\n",
              "      <td>We are Mireia (43) &amp; Maria (45), two multiling...</td>\n",
              "      <td>within an hour</td>\n",
              "      <td>95%</td>\n",
              "      <td>93%</td>\n",
              "      <td>f</td>\n",
              "      <td>https://a0.muscache.com/im/users/71615/profile...</td>\n",
              "      <td>https://a0.muscache.com/im/users/71615/profile...</td>\n",
              "      <td>la Sagrada Família</td>\n",
              "      <td>46.0</td>\n",
              "      <td>46.0</td>\n",
              "      <td>['email', 'phone']</td>\n",
              "      <td>t</td>\n",
              "      <td>t</td>\n",
              "      <td>Barcelona, CT, Spain</td>\n",
              "      <td>la Sagrada Família</td>\n",
              "      <td>Eixample</td>\n",
              "      <td>41.405560</td>\n",
              "      <td>2.172620</td>\n",
              "      <td>Entire rental unit</td>\n",
              "      <td>Entire home/apt</td>\n",
              "      <td>8</td>\n",
              "      <td>NaN</td>\n",
              "      <td>2 baths</td>\n",
              "      <td>3.0</td>\n",
              "      <td>6.0</td>\n",
              "      <td>[\"Refrigerator\", \"Hangers\", \"Wifi\", \"30\\\" TV\",...</td>\n",
              "      <td>$210.00</td>\n",
              "      <td>1</td>\n",
              "      <td>1125</td>\n",
              "      <td>1.0</td>\n",
              "      <td>5.0</td>\n",
              "      <td>1125.0</td>\n",
              "      <td>1125.0</td>\n",
              "      <td>2.8</td>\n",
              "      <td>1125.0</td>\n",
              "      <td>NaN</td>\n",
              "      <td>t</td>\n",
              "      <td>0</td>\n",
              "      <td>0</td>\n",
              "      <td>14</td>\n",
              "      <td>18</td>\n",
              "      <td>2023-06-10</td>\n",
              "      <td>35</td>\n",
              "      <td>8</td>\n",
              "      <td>0</td>\n",
              "      <td>2013-05-27</td>\n",
              "      <td>2023-04-07</td>\n",
              "      <td>4.35</td>\n",
              "      <td>4.44</td>\n",
              "      <td>4.65</td>\n",
              "      <td>4.79</td>\n",
              "      <td>4.71</td>\n",
              "      <td>4.82</td>\n",
              "      <td>4.32</td>\n",
              "      <td>HUTB-002062</td>\n",
              "      <td>t</td>\n",
              "      <td>28</td>\n",
              "      <td>28</td>\n",
              "      <td>0</td>\n",
              "      <td>0</td>\n",
              "      <td>0.29</td>\n",
              "    </tr>\n",
              "    <tr>\n",
              "      <th>1</th>\n",
              "      <td>23197</td>\n",
              "      <td>https://www.airbnb.com/rooms/23197</td>\n",
              "      <td>20230610001920</td>\n",
              "      <td>2023-06-10</td>\n",
              "      <td>city scrape</td>\n",
              "      <td>Rental unit in Sant Adria de Besos · ★4.77 · 3...</td>\n",
              "      <td>Beautiful spacious apartment, large terrace, 5...</td>\n",
              "      <td>Strategically located in the Parc del Fòrum, a...</td>\n",
              "      <td>https://a0.muscache.com/pictures/miso/Hosting-...</td>\n",
              "      <td>90417</td>\n",
              "      <td>https://www.airbnb.com/users/show/90417</td>\n",
              "      <td>Etain (Marnie)</td>\n",
              "      <td>2010-03-09</td>\n",
              "      <td>Catalonia, Spain</td>\n",
              "      <td>Hi there, I'm marnie from Australia, though I ...</td>\n",
              "      <td>within an hour</td>\n",
              "      <td>100%</td>\n",
              "      <td>100%</td>\n",
              "      <td>t</td>\n",
              "      <td>https://a0.muscache.com/im/pictures/user/44b56...</td>\n",
              "      <td>https://a0.muscache.com/im/pictures/user/44b56...</td>\n",
              "      <td>El Besòs i el Maresme</td>\n",
              "      <td>6.0</td>\n",
              "      <td>9.0</td>\n",
              "      <td>['email', 'phone']</td>\n",
              "      <td>t</td>\n",
              "      <td>t</td>\n",
              "      <td>Sant Adria de Besos, Barcelona, Spain</td>\n",
              "      <td>el Besòs i el Maresme</td>\n",
              "      <td>Sant Martí</td>\n",
              "      <td>41.412907</td>\n",
              "      <td>2.220633</td>\n",
              "      <td>Entire rental unit</td>\n",
              "      <td>Entire home/apt</td>\n",
              "      <td>5</td>\n",
              "      <td>NaN</td>\n",
              "      <td>2 baths</td>\n",
              "      <td>3.0</td>\n",
              "      <td>4.0</td>\n",
              "      <td>[\"Fire extinguisher\", \"Oven\", \"Refrigerator\", ...</td>\n",
              "      <td>$250.00</td>\n",
              "      <td>4</td>\n",
              "      <td>300</td>\n",
              "      <td>4.0</td>\n",
              "      <td>7.0</td>\n",
              "      <td>1125.0</td>\n",
              "      <td>1125.0</td>\n",
              "      <td>4.6</td>\n",
              "      <td>1125.0</td>\n",
              "      <td>NaN</td>\n",
              "      <td>t</td>\n",
              "      <td>8</td>\n",
              "      <td>15</td>\n",
              "      <td>39</td>\n",
              "      <td>185</td>\n",
              "      <td>2023-06-10</td>\n",
              "      <td>72</td>\n",
              "      <td>13</td>\n",
              "      <td>2</td>\n",
              "      <td>2011-03-15</td>\n",
              "      <td>2023-05-29</td>\n",
              "      <td>4.77</td>\n",
              "      <td>4.93</td>\n",
              "      <td>4.88</td>\n",
              "      <td>4.94</td>\n",
              "      <td>4.99</td>\n",
              "      <td>4.61</td>\n",
              "      <td>4.63</td>\n",
              "      <td>HUTB005057</td>\n",
              "      <td>f</td>\n",
              "      <td>2</td>\n",
              "      <td>2</td>\n",
              "      <td>0</td>\n",
              "      <td>0</td>\n",
              "      <td>0.48</td>\n",
              "    </tr>\n",
              "  </tbody>\n",
              "</table>\n",
              "</div>\n",
              "    <div class=\"colab-df-buttons\">\n",
              "\n",
              "  <div class=\"colab-df-container\">\n",
              "    <button class=\"colab-df-convert\" onclick=\"convertToInteractive('df-7bf50764-efd3-4412-8de1-408539b3359c')\"\n",
              "            title=\"Convert this dataframe to an interactive table.\"\n",
              "            style=\"display:none;\">\n",
              "\n",
              "  <svg xmlns=\"http://www.w3.org/2000/svg\" height=\"24px\" viewBox=\"0 -960 960 960\">\n",
              "    <path d=\"M120-120v-720h720v720H120Zm60-500h600v-160H180v160Zm220 220h160v-160H400v160Zm0 220h160v-160H400v160ZM180-400h160v-160H180v160Zm440 0h160v-160H620v160ZM180-180h160v-160H180v160Zm440 0h160v-160H620v160Z\"/>\n",
              "  </svg>\n",
              "    </button>\n",
              "\n",
              "  <style>\n",
              "    .colab-df-container {\n",
              "      display:flex;\n",
              "      gap: 12px;\n",
              "    }\n",
              "\n",
              "    .colab-df-convert {\n",
              "      background-color: #E8F0FE;\n",
              "      border: none;\n",
              "      border-radius: 50%;\n",
              "      cursor: pointer;\n",
              "      display: none;\n",
              "      fill: #1967D2;\n",
              "      height: 32px;\n",
              "      padding: 0 0 0 0;\n",
              "      width: 32px;\n",
              "    }\n",
              "\n",
              "    .colab-df-convert:hover {\n",
              "      background-color: #E2EBFA;\n",
              "      box-shadow: 0px 1px 2px rgba(60, 64, 67, 0.3), 0px 1px 3px 1px rgba(60, 64, 67, 0.15);\n",
              "      fill: #174EA6;\n",
              "    }\n",
              "\n",
              "    .colab-df-buttons div {\n",
              "      margin-bottom: 4px;\n",
              "    }\n",
              "\n",
              "    [theme=dark] .colab-df-convert {\n",
              "      background-color: #3B4455;\n",
              "      fill: #D2E3FC;\n",
              "    }\n",
              "\n",
              "    [theme=dark] .colab-df-convert:hover {\n",
              "      background-color: #434B5C;\n",
              "      box-shadow: 0px 1px 3px 1px rgba(0, 0, 0, 0.15);\n",
              "      filter: drop-shadow(0px 1px 2px rgba(0, 0, 0, 0.3));\n",
              "      fill: #FFFFFF;\n",
              "    }\n",
              "  </style>\n",
              "\n",
              "    <script>\n",
              "      const buttonEl =\n",
              "        document.querySelector('#df-7bf50764-efd3-4412-8de1-408539b3359c button.colab-df-convert');\n",
              "      buttonEl.style.display =\n",
              "        google.colab.kernel.accessAllowed ? 'block' : 'none';\n",
              "\n",
              "      async function convertToInteractive(key) {\n",
              "        const element = document.querySelector('#df-7bf50764-efd3-4412-8de1-408539b3359c');\n",
              "        const dataTable =\n",
              "          await google.colab.kernel.invokeFunction('convertToInteractive',\n",
              "                                                    [key], {});\n",
              "        if (!dataTable) return;\n",
              "\n",
              "        const docLinkHtml = 'Like what you see? Visit the ' +\n",
              "          '<a target=\"_blank\" href=https://colab.research.google.com/notebooks/data_table.ipynb>data table notebook</a>'\n",
              "          + ' to learn more about interactive tables.';\n",
              "        element.innerHTML = '';\n",
              "        dataTable['output_type'] = 'display_data';\n",
              "        await google.colab.output.renderOutput(dataTable, element);\n",
              "        const docLink = document.createElement('div');\n",
              "        docLink.innerHTML = docLinkHtml;\n",
              "        element.appendChild(docLink);\n",
              "      }\n",
              "    </script>\n",
              "  </div>\n",
              "\n",
              "\n",
              "<div id=\"df-30a1b289-46ab-4831-916b-888f18a1614b\">\n",
              "  <button class=\"colab-df-quickchart\" onclick=\"quickchart('df-30a1b289-46ab-4831-916b-888f18a1614b')\"\n",
              "            title=\"Suggest charts.\"\n",
              "            style=\"display:none;\">\n",
              "\n",
              "<svg xmlns=\"http://www.w3.org/2000/svg\" height=\"24px\"viewBox=\"0 0 24 24\"\n",
              "     width=\"24px\">\n",
              "    <g>\n",
              "        <path d=\"M19 3H5c-1.1 0-2 .9-2 2v14c0 1.1.9 2 2 2h14c1.1 0 2-.9 2-2V5c0-1.1-.9-2-2-2zM9 17H7v-7h2v7zm4 0h-2V7h2v10zm4 0h-2v-4h2v4z\"/>\n",
              "    </g>\n",
              "</svg>\n",
              "  </button>\n",
              "\n",
              "<style>\n",
              "  .colab-df-quickchart {\n",
              "      --bg-color: #E8F0FE;\n",
              "      --fill-color: #1967D2;\n",
              "      --hover-bg-color: #E2EBFA;\n",
              "      --hover-fill-color: #174EA6;\n",
              "      --disabled-fill-color: #AAA;\n",
              "      --disabled-bg-color: #DDD;\n",
              "  }\n",
              "\n",
              "  [theme=dark] .colab-df-quickchart {\n",
              "      --bg-color: #3B4455;\n",
              "      --fill-color: #D2E3FC;\n",
              "      --hover-bg-color: #434B5C;\n",
              "      --hover-fill-color: #FFFFFF;\n",
              "      --disabled-bg-color: #3B4455;\n",
              "      --disabled-fill-color: #666;\n",
              "  }\n",
              "\n",
              "  .colab-df-quickchart {\n",
              "    background-color: var(--bg-color);\n",
              "    border: none;\n",
              "    border-radius: 50%;\n",
              "    cursor: pointer;\n",
              "    display: none;\n",
              "    fill: var(--fill-color);\n",
              "    height: 32px;\n",
              "    padding: 0;\n",
              "    width: 32px;\n",
              "  }\n",
              "\n",
              "  .colab-df-quickchart:hover {\n",
              "    background-color: var(--hover-bg-color);\n",
              "    box-shadow: 0 1px 2px rgba(60, 64, 67, 0.3), 0 1px 3px 1px rgba(60, 64, 67, 0.15);\n",
              "    fill: var(--button-hover-fill-color);\n",
              "  }\n",
              "\n",
              "  .colab-df-quickchart-complete:disabled,\n",
              "  .colab-df-quickchart-complete:disabled:hover {\n",
              "    background-color: var(--disabled-bg-color);\n",
              "    fill: var(--disabled-fill-color);\n",
              "    box-shadow: none;\n",
              "  }\n",
              "\n",
              "  .colab-df-spinner {\n",
              "    border: 2px solid var(--fill-color);\n",
              "    border-color: transparent;\n",
              "    border-bottom-color: var(--fill-color);\n",
              "    animation:\n",
              "      spin 1s steps(1) infinite;\n",
              "  }\n",
              "\n",
              "  @keyframes spin {\n",
              "    0% {\n",
              "      border-color: transparent;\n",
              "      border-bottom-color: var(--fill-color);\n",
              "      border-left-color: var(--fill-color);\n",
              "    }\n",
              "    20% {\n",
              "      border-color: transparent;\n",
              "      border-left-color: var(--fill-color);\n",
              "      border-top-color: var(--fill-color);\n",
              "    }\n",
              "    30% {\n",
              "      border-color: transparent;\n",
              "      border-left-color: var(--fill-color);\n",
              "      border-top-color: var(--fill-color);\n",
              "      border-right-color: var(--fill-color);\n",
              "    }\n",
              "    40% {\n",
              "      border-color: transparent;\n",
              "      border-right-color: var(--fill-color);\n",
              "      border-top-color: var(--fill-color);\n",
              "    }\n",
              "    60% {\n",
              "      border-color: transparent;\n",
              "      border-right-color: var(--fill-color);\n",
              "    }\n",
              "    80% {\n",
              "      border-color: transparent;\n",
              "      border-right-color: var(--fill-color);\n",
              "      border-bottom-color: var(--fill-color);\n",
              "    }\n",
              "    90% {\n",
              "      border-color: transparent;\n",
              "      border-bottom-color: var(--fill-color);\n",
              "    }\n",
              "  }\n",
              "</style>\n",
              "\n",
              "  <script>\n",
              "    async function quickchart(key) {\n",
              "      const quickchartButtonEl =\n",
              "        document.querySelector('#' + key + ' button');\n",
              "      quickchartButtonEl.disabled = true;  // To prevent multiple clicks.\n",
              "      quickchartButtonEl.classList.add('colab-df-spinner');\n",
              "      try {\n",
              "        const charts = await google.colab.kernel.invokeFunction(\n",
              "            'suggestCharts', [key], {});\n",
              "      } catch (error) {\n",
              "        console.error('Error during call to suggestCharts:', error);\n",
              "      }\n",
              "      quickchartButtonEl.classList.remove('colab-df-spinner');\n",
              "      quickchartButtonEl.classList.add('colab-df-quickchart-complete');\n",
              "    }\n",
              "    (() => {\n",
              "      let quickchartButtonEl =\n",
              "        document.querySelector('#df-30a1b289-46ab-4831-916b-888f18a1614b button');\n",
              "      quickchartButtonEl.style.display =\n",
              "        google.colab.kernel.accessAllowed ? 'block' : 'none';\n",
              "    })();\n",
              "  </script>\n",
              "</div>\n",
              "    </div>\n",
              "  </div>\n"
            ],
            "text/plain": [
              "      id                         listing_url       scrape_id last_scraped  \\\n",
              "0  18674  https://www.airbnb.com/rooms/18674  20230610001920   2023-06-10   \n",
              "1  23197  https://www.airbnb.com/rooms/23197  20230610001920   2023-06-10   \n",
              "\n",
              "        source                                               name  \\\n",
              "0  city scrape  Rental unit in Barcelona · ★4.35 · 3 bedrooms ...   \n",
              "1  city scrape  Rental unit in Sant Adria de Besos · ★4.77 · 3...   \n",
              "\n",
              "                                         description  \\\n",
              "0  110m2 apartment to rent in Barcelona. Located ...   \n",
              "1  Beautiful spacious apartment, large terrace, 5...   \n",
              "\n",
              "                               neighborhood_overview  \\\n",
              "0  Apartment in Barcelona located in the heart of...   \n",
              "1  Strategically located in the Parc del Fòrum, a...   \n",
              "\n",
              "                                         picture_url  host_id  \\\n",
              "0  https://a0.muscache.com/pictures/13031453/413c...    71615   \n",
              "1  https://a0.muscache.com/pictures/miso/Hosting-...    90417   \n",
              "\n",
              "                                  host_url         host_name  host_since  \\\n",
              "0  https://www.airbnb.com/users/show/71615  Mireia And Maria  2010-01-19   \n",
              "1  https://www.airbnb.com/users/show/90417    Etain (Marnie)  2010-03-09   \n",
              "\n",
              "      host_location                                         host_about  \\\n",
              "0  Barcelona, Spain  We are Mireia (43) & Maria (45), two multiling...   \n",
              "1  Catalonia, Spain  Hi there, I'm marnie from Australia, though I ...   \n",
              "\n",
              "  host_response_time host_response_rate host_acceptance_rate  \\\n",
              "0     within an hour                95%                  93%   \n",
              "1     within an hour               100%                 100%   \n",
              "\n",
              "  host_is_superhost                                 host_thumbnail_url  \\\n",
              "0                 f  https://a0.muscache.com/im/users/71615/profile...   \n",
              "1                 t  https://a0.muscache.com/im/pictures/user/44b56...   \n",
              "\n",
              "                                    host_picture_url     host_neighbourhood  \\\n",
              "0  https://a0.muscache.com/im/users/71615/profile...     la Sagrada Família   \n",
              "1  https://a0.muscache.com/im/pictures/user/44b56...  El Besòs i el Maresme   \n",
              "\n",
              "   host_listings_count  host_total_listings_count  host_verifications  \\\n",
              "0                 46.0                       46.0  ['email', 'phone']   \n",
              "1                  6.0                        9.0  ['email', 'phone']   \n",
              "\n",
              "  host_has_profile_pic host_identity_verified  \\\n",
              "0                    t                      t   \n",
              "1                    t                      t   \n",
              "\n",
              "                           neighbourhood neighbourhood_cleansed  \\\n",
              "0                   Barcelona, CT, Spain     la Sagrada Família   \n",
              "1  Sant Adria de Besos, Barcelona, Spain  el Besòs i el Maresme   \n",
              "\n",
              "  neighbourhood_group_cleansed   latitude  longitude       property_type  \\\n",
              "0                     Eixample  41.405560   2.172620  Entire rental unit   \n",
              "1                   Sant Martí  41.412907   2.220633  Entire rental unit   \n",
              "\n",
              "         room_type  accommodates  bathrooms bathrooms_text  bedrooms  beds  \\\n",
              "0  Entire home/apt             8        NaN        2 baths       3.0   6.0   \n",
              "1  Entire home/apt             5        NaN        2 baths       3.0   4.0   \n",
              "\n",
              "                                           amenities    price  minimum_nights  \\\n",
              "0  [\"Refrigerator\", \"Hangers\", \"Wifi\", \"30\\\" TV\",...  $210.00               1   \n",
              "1  [\"Fire extinguisher\", \"Oven\", \"Refrigerator\", ...  $250.00               4   \n",
              "\n",
              "   maximum_nights  minimum_minimum_nights  maximum_minimum_nights  \\\n",
              "0            1125                     1.0                     5.0   \n",
              "1             300                     4.0                     7.0   \n",
              "\n",
              "   minimum_maximum_nights  maximum_maximum_nights  minimum_nights_avg_ntm  \\\n",
              "0                  1125.0                  1125.0                     2.8   \n",
              "1                  1125.0                  1125.0                     4.6   \n",
              "\n",
              "   maximum_nights_avg_ntm  calendar_updated has_availability  availability_30  \\\n",
              "0                  1125.0               NaN                t                0   \n",
              "1                  1125.0               NaN                t                8   \n",
              "\n",
              "   availability_60  availability_90  availability_365 calendar_last_scraped  \\\n",
              "0                0               14                18            2023-06-10   \n",
              "1               15               39               185            2023-06-10   \n",
              "\n",
              "   number_of_reviews  number_of_reviews_ltm  number_of_reviews_l30d  \\\n",
              "0                 35                      8                       0   \n",
              "1                 72                     13                       2   \n",
              "\n",
              "  first_review last_review  review_scores_rating  review_scores_accuracy  \\\n",
              "0   2013-05-27  2023-04-07                  4.35                    4.44   \n",
              "1   2011-03-15  2023-05-29                  4.77                    4.93   \n",
              "\n",
              "   review_scores_cleanliness  review_scores_checkin  \\\n",
              "0                       4.65                   4.79   \n",
              "1                       4.88                   4.94   \n",
              "\n",
              "   review_scores_communication  review_scores_location  review_scores_value  \\\n",
              "0                         4.71                    4.82                 4.32   \n",
              "1                         4.99                    4.61                 4.63   \n",
              "\n",
              "       license instant_bookable  calculated_host_listings_count  \\\n",
              "0  HUTB-002062                t                              28   \n",
              "1   HUTB005057                f                               2   \n",
              "\n",
              "   calculated_host_listings_count_entire_homes  \\\n",
              "0                                           28   \n",
              "1                                            2   \n",
              "\n",
              "   calculated_host_listings_count_private_rooms  \\\n",
              "0                                             0   \n",
              "1                                             0   \n",
              "\n",
              "   calculated_host_listings_count_shared_rooms  reviews_per_month  \n",
              "0                                            0               0.29  \n",
              "1                                            0               0.48  "
            ]
          },
          "execution_count": 5,
          "metadata": {},
          "output_type": "execute_result"
        }
      ],
      "source": [
        "#To display all the columns\n",
        "pd.set_option('display.max_columns', None)\n",
        "df.head(2)"
      ]
    },
    {
      "cell_type": "code",
      "execution_count": null,
      "metadata": {
        "colab": {
          "base_uri": "https://localhost:8080/"
        },
        "id": "O4m9o7PCsjdl",
        "outputId": "f7fb25fa-bf18-49cd-f43e-3fa1ff568c32"
      },
      "outputs": [
        {
          "name": "stdout",
          "output_type": "stream",
          "text": [
            "<class 'pandas.core.frame.DataFrame'>\n",
            "RangeIndex: 17230 entries, 0 to 17229\n",
            "Data columns (total 75 columns):\n",
            " #   Column                                        Non-Null Count  Dtype  \n",
            "---  ------                                        --------------  -----  \n",
            " 0   id                                            17230 non-null  int64  \n",
            " 1   listing_url                                   17230 non-null  object \n",
            " 2   scrape_id                                     17230 non-null  int64  \n",
            " 3   last_scraped                                  17230 non-null  object \n",
            " 4   source                                        17230 non-null  object \n",
            " 5   name                                          17230 non-null  object \n",
            " 6   description                                   17120 non-null  object \n",
            " 7   neighborhood_overview                         9879 non-null   object \n",
            " 8   picture_url                                   17230 non-null  object \n",
            " 9   host_id                                       17230 non-null  int64  \n",
            " 10  host_url                                      17230 non-null  object \n",
            " 11  host_name                                     17228 non-null  object \n",
            " 12  host_since                                    17228 non-null  object \n",
            " 13  host_location                                 13378 non-null  object \n",
            " 14  host_about                                    11002 non-null  object \n",
            " 15  host_response_time                            14224 non-null  object \n",
            " 16  host_response_rate                            14224 non-null  object \n",
            " 17  host_acceptance_rate                          14472 non-null  object \n",
            " 18  host_is_superhost                             11188 non-null  object \n",
            " 19  host_thumbnail_url                            17228 non-null  object \n",
            " 20  host_picture_url                              17228 non-null  object \n",
            " 21  host_neighbourhood                            9471 non-null   object \n",
            " 22  host_listings_count                           17228 non-null  float64\n",
            " 23  host_total_listings_count                     17228 non-null  float64\n",
            " 24  host_verifications                            17230 non-null  object \n",
            " 25  host_has_profile_pic                          17228 non-null  object \n",
            " 26  host_identity_verified                        17228 non-null  object \n",
            " 27  neighbourhood                                 9879 non-null   object \n",
            " 28  neighbourhood_cleansed                        17230 non-null  object \n",
            " 29  neighbourhood_group_cleansed                  17230 non-null  object \n",
            " 30  latitude                                      17230 non-null  float64\n",
            " 31  longitude                                     17230 non-null  float64\n",
            " 32  property_type                                 17230 non-null  object \n",
            " 33  room_type                                     17230 non-null  object \n",
            " 34  accommodates                                  17230 non-null  int64  \n",
            " 35  bathrooms                                     0 non-null      float64\n",
            " 36  bathrooms_text                                17222 non-null  object \n",
            " 37  bedrooms                                      11336 non-null  float64\n",
            " 38  beds                                          16906 non-null  float64\n",
            " 39  amenities                                     17230 non-null  object \n",
            " 40  price                                         17230 non-null  object \n",
            " 41  minimum_nights                                17230 non-null  int64  \n",
            " 42  maximum_nights                                17230 non-null  int64  \n",
            " 43  minimum_minimum_nights                        17229 non-null  float64\n",
            " 44  maximum_minimum_nights                        17229 non-null  float64\n",
            " 45  minimum_maximum_nights                        17229 non-null  float64\n",
            " 46  maximum_maximum_nights                        17229 non-null  float64\n",
            " 47  minimum_nights_avg_ntm                        17229 non-null  float64\n",
            " 48  maximum_nights_avg_ntm                        17229 non-null  float64\n",
            " 49  calendar_updated                              0 non-null      float64\n",
            " 50  has_availability                              17230 non-null  object \n",
            " 51  availability_30                               17230 non-null  int64  \n",
            " 52  availability_60                               17230 non-null  int64  \n",
            " 53  availability_90                               17230 non-null  int64  \n",
            " 54  availability_365                              17230 non-null  int64  \n",
            " 55  calendar_last_scraped                         17230 non-null  object \n",
            " 56  number_of_reviews                             17230 non-null  int64  \n",
            " 57  number_of_reviews_ltm                         17230 non-null  int64  \n",
            " 58  number_of_reviews_l30d                        17230 non-null  int64  \n",
            " 59  first_review                                  13198 non-null  object \n",
            " 60  last_review                                   13198 non-null  object \n",
            " 61  review_scores_rating                          13198 non-null  float64\n",
            " 62  review_scores_accuracy                        13111 non-null  float64\n",
            " 63  review_scores_cleanliness                     13112 non-null  float64\n",
            " 64  review_scores_checkin                         13107 non-null  float64\n",
            " 65  review_scores_communication                   13113 non-null  float64\n",
            " 66  review_scores_location                        13108 non-null  float64\n",
            " 67  review_scores_value                           13108 non-null  float64\n",
            " 68  license                                       8862 non-null   object \n",
            " 69  instant_bookable                              17230 non-null  object \n",
            " 70  calculated_host_listings_count                17230 non-null  int64  \n",
            " 71  calculated_host_listings_count_entire_homes   17230 non-null  int64  \n",
            " 72  calculated_host_listings_count_private_rooms  17230 non-null  int64  \n",
            " 73  calculated_host_listings_count_shared_rooms   17230 non-null  int64  \n",
            " 74  reviews_per_month                             13198 non-null  float64\n",
            "dtypes: float64(22), int64(17), object(36)\n",
            "memory usage: 9.9+ MB\n"
          ]
        }
      ],
      "source": [
        "df.info()"
      ]
    },
    {
      "cell_type": "code",
      "execution_count": null,
      "metadata": {
        "colab": {
          "base_uri": "https://localhost:8080/"
        },
        "id": "PMoYp3pO2ajQ",
        "outputId": "0c9be2a6-e595-4814-9d7c-73ffa2b0bfdd"
      },
      "outputs": [
        {
          "name": "stdout",
          "output_type": "stream",
          "text": [
            "id------------------------------------------------ : 0\n",
            "listing_url--------------------------------------- : 0\n",
            "scrape_id----------------------------------------- : 0\n",
            "last_scraped-------------------------------------- : 0\n",
            "source-------------------------------------------- : 0\n",
            "name---------------------------------------------- : 0\n",
            "description--------------------------------------- : 110\n",
            "neighborhood_overview----------------------------- : 7351\n",
            "picture_url--------------------------------------- : 0\n",
            "host_id------------------------------------------- : 0\n",
            "host_url------------------------------------------ : 0\n",
            "host_name----------------------------------------- : 2\n",
            "host_since---------------------------------------- : 2\n",
            "host_location------------------------------------- : 3852\n",
            "host_about---------------------------------------- : 6228\n",
            "host_response_time-------------------------------- : 3006\n",
            "host_response_rate-------------------------------- : 3006\n",
            "host_acceptance_rate------------------------------ : 2758\n",
            "host_is_superhost--------------------------------- : 6042\n",
            "host_thumbnail_url-------------------------------- : 2\n",
            "host_picture_url---------------------------------- : 2\n",
            "host_neighbourhood-------------------------------- : 7759\n",
            "host_listings_count------------------------------- : 2\n",
            "host_total_listings_count------------------------- : 2\n",
            "host_verifications-------------------------------- : 0\n",
            "host_has_profile_pic------------------------------ : 2\n",
            "host_identity_verified---------------------------- : 2\n",
            "neighbourhood------------------------------------- : 7351\n",
            "neighbourhood_cleansed---------------------------- : 0\n",
            "neighbourhood_group_cleansed---------------------- : 0\n",
            "latitude------------------------------------------ : 0\n",
            "longitude----------------------------------------- : 0\n",
            "property_type------------------------------------- : 0\n",
            "room_type----------------------------------------- : 0\n",
            "accommodates-------------------------------------- : 0\n",
            "bathrooms----------------------------------------- : 17230\n",
            "bathrooms_text------------------------------------ : 8\n",
            "bedrooms------------------------------------------ : 5894\n",
            "beds---------------------------------------------- : 324\n",
            "amenities----------------------------------------- : 0\n",
            "price--------------------------------------------- : 0\n",
            "minimum_nights------------------------------------ : 0\n",
            "maximum_nights------------------------------------ : 0\n",
            "minimum_minimum_nights---------------------------- : 1\n",
            "maximum_minimum_nights---------------------------- : 1\n",
            "minimum_maximum_nights---------------------------- : 1\n",
            "maximum_maximum_nights---------------------------- : 1\n",
            "minimum_nights_avg_ntm---------------------------- : 1\n",
            "maximum_nights_avg_ntm---------------------------- : 1\n",
            "calendar_updated---------------------------------- : 17230\n",
            "has_availability---------------------------------- : 0\n",
            "availability_30----------------------------------- : 0\n",
            "availability_60----------------------------------- : 0\n",
            "availability_90----------------------------------- : 0\n",
            "availability_365---------------------------------- : 0\n",
            "calendar_last_scraped----------------------------- : 0\n",
            "number_of_reviews--------------------------------- : 0\n",
            "number_of_reviews_ltm----------------------------- : 0\n",
            "number_of_reviews_l30d---------------------------- : 0\n",
            "first_review-------------------------------------- : 4032\n",
            "last_review--------------------------------------- : 4032\n",
            "review_scores_rating------------------------------ : 4032\n",
            "review_scores_accuracy---------------------------- : 4119\n",
            "review_scores_cleanliness------------------------- : 4118\n",
            "review_scores_checkin----------------------------- : 4123\n",
            "review_scores_communication----------------------- : 4117\n",
            "review_scores_location---------------------------- : 4122\n",
            "review_scores_value------------------------------- : 4122\n",
            "license------------------------------------------- : 8368\n",
            "instant_bookable---------------------------------- : 0\n",
            "calculated_host_listings_count-------------------- : 0\n",
            "calculated_host_listings_count_entire_homes------- : 0\n",
            "calculated_host_listings_count_private_rooms------ : 0\n",
            "calculated_host_listings_count_shared_rooms------- : 0\n",
            "reviews_per_month--------------------------------- : 4032\n"
          ]
        }
      ],
      "source": [
        "#Check missing values for all the columns before dropping\n",
        "for column in df.columns:\n",
        "  #if df[column].isna().sum()>0:\n",
        "\n",
        "  print(f\"{column:-<50} : {df[column].isna().sum()}\")\n"
      ]
    },
    {
      "cell_type": "markdown",
      "metadata": {
        "id": "EUsGLb3omjsW"
      },
      "source": [
        "##Delete irrelevant columns"
      ]
    },
    {
      "cell_type": "code",
      "execution_count": null,
      "metadata": {
        "id": "h2G0QLeD_rtT"
      },
      "outputs": [],
      "source": [
        "#Create new dataframe keeping only required columns\n",
        "df=df[['id','listing_url','name','host_since','host_is_superhost','neighbourhood_group_cleansed','accommodates','amenities','price','number_of_reviews','review_scores_rating','latitude','longitude']]"
      ]
    },
    {
      "cell_type": "code",
      "execution_count": null,
      "metadata": {
        "colab": {
          "base_uri": "https://localhost:8080/"
        },
        "id": "eVImzZkiBtdz",
        "outputId": "2f35171b-7d9f-4c4f-cb48-32b2628d04f7"
      },
      "outputs": [
        {
          "data": {
            "text/plain": [
              "Index(['id', 'listing_url', 'name', 'host_since', 'host_is_superhost',\n",
              "       'neighbourhood_group_cleansed', 'accommodates', 'amenities', 'price',\n",
              "       'number_of_reviews', 'review_scores_rating', 'latitude', 'longitude'],\n",
              "      dtype='object')"
            ]
          },
          "execution_count": 9,
          "metadata": {},
          "output_type": "execute_result"
        }
      ],
      "source": [
        "#Check columns that we have\n",
        "df.columns"
      ]
    },
    {
      "cell_type": "code",
      "execution_count": null,
      "metadata": {
        "colab": {
          "base_uri": "https://localhost:8080/"
        },
        "id": "fhCkuHnuJ0rr",
        "outputId": "9e12eef6-c74d-4c87-eac3-7228abbfe5dc"
      },
      "outputs": [
        {
          "name": "stderr",
          "output_type": "stream",
          "text": [
            "<ipython-input-10-dcbab0b901d4>:3: SettingWithCopyWarning: \n",
            "A value is trying to be set on a copy of a slice from a DataFrame\n",
            "\n",
            "See the caveats in the documentation: https://pandas.pydata.org/pandas-docs/stable/user_guide/indexing.html#returning-a-view-versus-a-copy\n",
            "  df.dropna(subset=['review_scores_rating'],inplace=True)\n"
          ]
        }
      ],
      "source": [
        "#Drop all listings with review_scores_rating is nill and number_of_reviews=0\n",
        "df.review_scores_rating.value_counts(dropna=False)\n",
        "df.dropna(subset=['review_scores_rating'],inplace=True)"
      ]
    },
    {
      "cell_type": "code",
      "execution_count": null,
      "metadata": {
        "colab": {
          "base_uri": "https://localhost:8080/"
        },
        "id": "gnvnk27gwy8p",
        "outputId": "8bde6b04-6843-4c94-e32f-d5ab70e13f55"
      },
      "outputs": [
        {
          "data": {
            "text/plain": [
              "(13198, 13)"
            ]
          },
          "execution_count": 11,
          "metadata": {},
          "output_type": "execute_result"
        }
      ],
      "source": [
        "#Original data has 17230 listings and after dropping listings with no reviews\n",
        "#size of df is 13198\n",
        "df.shape"
      ]
    },
    {
      "cell_type": "markdown",
      "metadata": {
        "id": "0eQ8SES3mOS8"
      },
      "source": [
        "##Filter by 'accomodates' (df1)"
      ]
    },
    {
      "cell_type": "code",
      "execution_count": null,
      "metadata": {
        "id": "WmamK2xB2z64"
      },
      "outputs": [],
      "source": [
        "#Assumption:Further filter the data based on <= 2 accommodates suitable for individual digital nomad\n",
        "#Use loc() for label indexing [Row, column]\n",
        "df1=df.loc[df.accommodates<3,:]"
      ]
    },
    {
      "cell_type": "code",
      "execution_count": null,
      "metadata": {
        "colab": {
          "base_uri": "https://localhost:8080/"
        },
        "id": "9YQHSxCZy4-b",
        "outputId": "3d24aa23-ed89-4d1b-bcad-825148c411ec"
      },
      "outputs": [
        {
          "data": {
            "text/plain": [
              "2    4271\n",
              "1    1523\n",
              "Name: accommodates, dtype: int64"
            ]
          },
          "execution_count": 13,
          "metadata": {},
          "output_type": "execute_result"
        }
      ],
      "source": [
        "#Use Count() to count unique values in 'accommodates'\n",
        "df1.accommodates.value_counts()"
      ]
    },
    {
      "cell_type": "code",
      "execution_count": null,
      "metadata": {
        "colab": {
          "base_uri": "https://localhost:8080/"
        },
        "id": "oHOF-Sl9Q743",
        "outputId": "661a4132-4b2a-4657-f8ba-9718553d18e6"
      },
      "outputs": [
        {
          "data": {
            "text/html": [
              "\n",
              "  <div id=\"df-e349aa49-5413-404e-9cf5-0b4fdac07b22\" class=\"colab-df-container\">\n",
              "    <div>\n",
              "<style scoped>\n",
              "    .dataframe tbody tr th:only-of-type {\n",
              "        vertical-align: middle;\n",
              "    }\n",
              "\n",
              "    .dataframe tbody tr th {\n",
              "        vertical-align: top;\n",
              "    }\n",
              "\n",
              "    .dataframe thead th {\n",
              "        text-align: right;\n",
              "    }\n",
              "</style>\n",
              "<table border=\"1\" class=\"dataframe\">\n",
              "  <thead>\n",
              "    <tr style=\"text-align: right;\">\n",
              "      <th></th>\n",
              "      <th>id</th>\n",
              "      <th>listing_url</th>\n",
              "      <th>name</th>\n",
              "      <th>host_since</th>\n",
              "      <th>host_is_superhost</th>\n",
              "      <th>neighbourhood_group_cleansed</th>\n",
              "      <th>accommodates</th>\n",
              "      <th>amenities</th>\n",
              "      <th>price</th>\n",
              "      <th>number_of_reviews</th>\n",
              "      <th>review_scores_rating</th>\n",
              "      <th>latitude</th>\n",
              "      <th>longitude</th>\n",
              "    </tr>\n",
              "  </thead>\n",
              "  <tbody>\n",
              "  </tbody>\n",
              "</table>\n",
              "</div>\n",
              "    <div class=\"colab-df-buttons\">\n",
              "\n",
              "  <div class=\"colab-df-container\">\n",
              "    <button class=\"colab-df-convert\" onclick=\"convertToInteractive('df-e349aa49-5413-404e-9cf5-0b4fdac07b22')\"\n",
              "            title=\"Convert this dataframe to an interactive table.\"\n",
              "            style=\"display:none;\">\n",
              "\n",
              "  <svg xmlns=\"http://www.w3.org/2000/svg\" height=\"24px\" viewBox=\"0 -960 960 960\">\n",
              "    <path d=\"M120-120v-720h720v720H120Zm60-500h600v-160H180v160Zm220 220h160v-160H400v160Zm0 220h160v-160H400v160ZM180-400h160v-160H180v160Zm440 0h160v-160H620v160ZM180-180h160v-160H180v160Zm440 0h160v-160H620v160Z\"/>\n",
              "  </svg>\n",
              "    </button>\n",
              "\n",
              "  <style>\n",
              "    .colab-df-container {\n",
              "      display:flex;\n",
              "      gap: 12px;\n",
              "    }\n",
              "\n",
              "    .colab-df-convert {\n",
              "      background-color: #E8F0FE;\n",
              "      border: none;\n",
              "      border-radius: 50%;\n",
              "      cursor: pointer;\n",
              "      display: none;\n",
              "      fill: #1967D2;\n",
              "      height: 32px;\n",
              "      padding: 0 0 0 0;\n",
              "      width: 32px;\n",
              "    }\n",
              "\n",
              "    .colab-df-convert:hover {\n",
              "      background-color: #E2EBFA;\n",
              "      box-shadow: 0px 1px 2px rgba(60, 64, 67, 0.3), 0px 1px 3px 1px rgba(60, 64, 67, 0.15);\n",
              "      fill: #174EA6;\n",
              "    }\n",
              "\n",
              "    .colab-df-buttons div {\n",
              "      margin-bottom: 4px;\n",
              "    }\n",
              "\n",
              "    [theme=dark] .colab-df-convert {\n",
              "      background-color: #3B4455;\n",
              "      fill: #D2E3FC;\n",
              "    }\n",
              "\n",
              "    [theme=dark] .colab-df-convert:hover {\n",
              "      background-color: #434B5C;\n",
              "      box-shadow: 0px 1px 3px 1px rgba(0, 0, 0, 0.15);\n",
              "      filter: drop-shadow(0px 1px 2px rgba(0, 0, 0, 0.3));\n",
              "      fill: #FFFFFF;\n",
              "    }\n",
              "  </style>\n",
              "\n",
              "    <script>\n",
              "      const buttonEl =\n",
              "        document.querySelector('#df-e349aa49-5413-404e-9cf5-0b4fdac07b22 button.colab-df-convert');\n",
              "      buttonEl.style.display =\n",
              "        google.colab.kernel.accessAllowed ? 'block' : 'none';\n",
              "\n",
              "      async function convertToInteractive(key) {\n",
              "        const element = document.querySelector('#df-e349aa49-5413-404e-9cf5-0b4fdac07b22');\n",
              "        const dataTable =\n",
              "          await google.colab.kernel.invokeFunction('convertToInteractive',\n",
              "                                                    [key], {});\n",
              "        if (!dataTable) return;\n",
              "\n",
              "        const docLinkHtml = 'Like what you see? Visit the ' +\n",
              "          '<a target=\"_blank\" href=https://colab.research.google.com/notebooks/data_table.ipynb>data table notebook</a>'\n",
              "          + ' to learn more about interactive tables.';\n",
              "        element.innerHTML = '';\n",
              "        dataTable['output_type'] = 'display_data';\n",
              "        await google.colab.output.renderOutput(dataTable, element);\n",
              "        const docLink = document.createElement('div');\n",
              "        docLink.innerHTML = docLinkHtml;\n",
              "        element.appendChild(docLink);\n",
              "      }\n",
              "    </script>\n",
              "  </div>\n",
              "\n",
              "    </div>\n",
              "  </div>\n"
            ],
            "text/plain": [
              "Empty DataFrame\n",
              "Columns: [id, listing_url, name, host_since, host_is_superhost, neighbourhood_group_cleansed, accommodates, amenities, price, number_of_reviews, review_scores_rating, latitude, longitude]\n",
              "Index: []"
            ]
          },
          "execution_count": 14,
          "metadata": {},
          "output_type": "execute_result"
        }
      ],
      "source": [
        "#Looks like there is an error as there is a listing which accommodates 0 people\n",
        "#Lets locate the entry using loc()\n",
        "df1.loc[df.accommodates==0]"
      ]
    },
    {
      "cell_type": "code",
      "execution_count": null,
      "metadata": {
        "id": "l03tdTT8SwoV"
      },
      "outputs": [],
      "source": [
        "#Looks like the above listing is indeed an error\n",
        "#Lets drop that entry using drop() & Boolean indexing technique\n",
        "df1=df1.drop(df1[df1['accommodates']==0].index)"
      ]
    },
    {
      "cell_type": "code",
      "execution_count": null,
      "metadata": {
        "colab": {
          "base_uri": "https://localhost:8080/"
        },
        "id": "0NXJhfp_lBXJ",
        "outputId": "b9cc3cd7-b155-4b5a-d6d5-f1bbe7dd8887"
      },
      "outputs": [
        {
          "data": {
            "text/plain": [
              "2    4271\n",
              "1    1523\n",
              "Name: accommodates, dtype: int64"
            ]
          },
          "execution_count": 16,
          "metadata": {},
          "output_type": "execute_result"
        }
      ],
      "source": [
        "#Now lets check unique values of accommodates again\n",
        "#Above entry is dropped\n",
        "df1.accommodates.value_counts()"
      ]
    },
    {
      "cell_type": "code",
      "execution_count": null,
      "metadata": {
        "colab": {
          "base_uri": "https://localhost:8080/"
        },
        "id": "TWAke-4Q1Kbo",
        "outputId": "6775fa04-a2b7-43a0-de10-086a83ed410a"
      },
      "outputs": [
        {
          "data": {
            "text/plain": [
              "(5794, 13)"
            ]
          },
          "execution_count": 17,
          "metadata": {},
          "output_type": "execute_result"
        }
      ],
      "source": [
        "#Final dataset size\n",
        "df1.shape"
      ]
    },
    {
      "cell_type": "code",
      "execution_count": null,
      "metadata": {
        "colab": {
          "base_uri": "https://localhost:8080/"
        },
        "id": "8uLa0wvmIKOo",
        "outputId": "b5684275-f5af-42e5-fa65-b2de8aca8eb9"
      },
      "outputs": [
        {
          "data": {
            "application/vnd.google.colaboratory.intrinsic+json": {
              "type": "string"
            },
            "text/plain": [
              "'#Original dataframe has 17230 listings\\n#after dropping listings with no review df has 13198 listings and\\n#after futher filtering by accommodates<3, df1 has 8117 listings'"
            ]
          },
          "execution_count": 18,
          "metadata": {},
          "output_type": "execute_result"
        }
      ],
      "source": [
        "'''#Original dataframe has 17230 listings\n",
        "#after dropping listings with no review df has 13198 listings and\n",
        "#after futher filtering by accommodates<3, df1 has 8117 listings'''"
      ]
    },
    {
      "cell_type": "markdown",
      "metadata": {
        "id": "RpAu2d7sI2nu"
      },
      "source": [
        "# Data manipulation"
      ]
    },
    {
      "cell_type": "code",
      "execution_count": null,
      "metadata": {
        "colab": {
          "base_uri": "https://localhost:8080/"
        },
        "id": "3bsc4wiaJWGp",
        "outputId": "a91f68b4-0f95-4e6b-be26-77e5e96a8c5e"
      },
      "outputs": [
        {
          "data": {
            "text/plain": [
              "Index(['id', 'listing_url', 'name', 'host_since', 'host_is_superhost',\n",
              "       'neighbourhood_group_cleansed', 'accommodates', 'amenities', 'price',\n",
              "       'number_of_reviews', 'review_scores_rating', 'latitude', 'longitude'],\n",
              "      dtype='object')"
            ]
          },
          "execution_count": 19,
          "metadata": {},
          "output_type": "execute_result"
        }
      ],
      "source": [
        "df1.columns"
      ]
    },
    {
      "cell_type": "markdown",
      "metadata": {
        "id": "U0RgECqNvlZ2"
      },
      "source": [
        "###host_since"
      ]
    },
    {
      "cell_type": "code",
      "execution_count": null,
      "metadata": {
        "colab": {
          "base_uri": "https://localhost:8080/"
        },
        "id": "XARUrLVqvRzb",
        "outputId": "40565095-e2c0-48c7-8088-b8f42c626971"
      },
      "outputs": [
        {
          "name": "stdout",
          "output_type": "stream",
          "text": [
            "<class 'pandas.core.frame.DataFrame'>\n",
            "Int64Index: 5794 entries, 4 to 17149\n",
            "Data columns (total 13 columns):\n",
            " #   Column                        Non-Null Count  Dtype  \n",
            "---  ------                        --------------  -----  \n",
            " 0   id                            5794 non-null   int64  \n",
            " 1   listing_url                   5794 non-null   object \n",
            " 2   name                          5794 non-null   object \n",
            " 3   host_since                    5793 non-null   object \n",
            " 4   host_is_superhost             2212 non-null   object \n",
            " 5   neighbourhood_group_cleansed  5794 non-null   object \n",
            " 6   accommodates                  5794 non-null   int64  \n",
            " 7   amenities                     5794 non-null   object \n",
            " 8   price                         5794 non-null   object \n",
            " 9   number_of_reviews             5794 non-null   int64  \n",
            " 10  review_scores_rating          5794 non-null   float64\n",
            " 11  latitude                      5794 non-null   float64\n",
            " 12  longitude                     5794 non-null   float64\n",
            "dtypes: float64(3), int64(3), object(7)\n",
            "memory usage: 633.7+ KB\n"
          ]
        }
      ],
      "source": [
        "#Lets check what type of info we have\n",
        "#Info gives details of each column's datatype like int, float, or string\n",
        "df1.info()"
      ]
    },
    {
      "cell_type": "code",
      "execution_count": null,
      "metadata": {
        "colab": {
          "base_uri": "https://localhost:8080/"
        },
        "id": "dqyLexFdsOgO",
        "outputId": "b4f38866-43a7-4774-ca98-448a5b2cbfe6"
      },
      "outputs": [
        {
          "data": {
            "text/plain": [
              "4        2010-03-09\n",
              "7        2010-07-05\n",
              "8        2011-01-09\n",
              "12       2011-01-28\n",
              "14       2011-03-14\n",
              "            ...    \n",
              "17060    2018-04-23\n",
              "17063    2019-08-20\n",
              "17074    2022-10-04\n",
              "17104    2019-08-27\n",
              "17149    2023-04-25\n",
              "Name: host_since, Length: 5794, dtype: object"
            ]
          },
          "execution_count": 21,
          "metadata": {},
          "output_type": "execute_result"
        }
      ],
      "source": [
        "#Lets find the experince of host\n",
        "df1.host_since"
      ]
    },
    {
      "cell_type": "code",
      "execution_count": null,
      "metadata": {
        "colab": {
          "base_uri": "https://localhost:8080/"
        },
        "id": "FeE8GRA7vzVf",
        "outputId": "2e8d8dc9-132a-4c04-9df6-9d7d9d06c3be"
      },
      "outputs": [
        {
          "data": {
            "text/plain": [
              "4        2010.0\n",
              "7        2010.0\n",
              "8        2011.0\n",
              "12       2011.0\n",
              "14       2011.0\n",
              "          ...  \n",
              "17060    2018.0\n",
              "17063    2019.0\n",
              "17074    2022.0\n",
              "17104    2019.0\n",
              "17149    2023.0\n",
              "Name: host_since, Length: 5794, dtype: float64"
            ]
          },
          "execution_count": 22,
          "metadata": {},
          "output_type": "execute_result"
        }
      ],
      "source": [
        "# Lets change the datatype from object to datetime\n",
        "from datetime import datetime as dt\n",
        "df1.host_since=pd.to_datetime(df1.host_since)\n",
        "df1.host_since.dt.year\n"
      ]
    },
    {
      "cell_type": "code",
      "execution_count": null,
      "metadata": {
        "colab": {
          "base_uri": "https://localhost:8080/"
        },
        "id": "f4fYuPVSwMtP",
        "outputId": "61537776-98a8-4dc6-b639-9c5aa0689da3"
      },
      "outputs": [
        {
          "data": {
            "text/plain": [
              "4        13.0\n",
              "7        13.0\n",
              "8        12.0\n",
              "12       12.0\n",
              "14       12.0\n",
              "         ... \n",
              "17060     5.0\n",
              "17063     4.0\n",
              "17074     1.0\n",
              "17104     4.0\n",
              "17149     0.0\n",
              "Name: host_exp, Length: 5794, dtype: float64"
            ]
          },
          "execution_count": 23,
          "metadata": {},
          "output_type": "execute_result"
        }
      ],
      "source": [
        "#Now datetype is changed to float\n",
        "#Create new column to verify no:of years of experience\n",
        "df1['host_exp']=dt.today().year-df1.host_since.dt.year\n",
        "df1.host_exp"
      ]
    },
    {
      "cell_type": "code",
      "execution_count": null,
      "metadata": {
        "colab": {
          "base_uri": "https://localhost:8080/"
        },
        "id": "FTnNZRr1KlLL",
        "outputId": "0f65a8dc-d65c-424c-b036-8722e5f8ac77"
      },
      "outputs": [
        {
          "name": "stdout",
          "output_type": "stream",
          "text": [
            "<class 'pandas.core.frame.DataFrame'>\n",
            "Int64Index: 5794 entries, 4 to 17149\n",
            "Data columns (total 14 columns):\n",
            " #   Column                        Non-Null Count  Dtype         \n",
            "---  ------                        --------------  -----         \n",
            " 0   id                            5794 non-null   int64         \n",
            " 1   listing_url                   5794 non-null   object        \n",
            " 2   name                          5794 non-null   object        \n",
            " 3   host_since                    5793 non-null   datetime64[ns]\n",
            " 4   host_is_superhost             2212 non-null   object        \n",
            " 5   neighbourhood_group_cleansed  5794 non-null   object        \n",
            " 6   accommodates                  5794 non-null   int64         \n",
            " 7   amenities                     5794 non-null   object        \n",
            " 8   price                         5794 non-null   object        \n",
            " 9   number_of_reviews             5794 non-null   int64         \n",
            " 10  review_scores_rating          5794 non-null   float64       \n",
            " 11  latitude                      5794 non-null   float64       \n",
            " 12  longitude                     5794 non-null   float64       \n",
            " 13  host_exp                      5793 non-null   float64       \n",
            "dtypes: datetime64[ns](1), float64(4), int64(3), object(6)\n",
            "memory usage: 679.0+ KB\n"
          ]
        }
      ],
      "source": [
        "#Verify if new column is added to the dataframe\n",
        "df1.info()"
      ]
    },
    {
      "cell_type": "markdown",
      "metadata": {
        "id": "cY61h6moKmOq"
      },
      "source": [
        "##host_is_superhost"
      ]
    },
    {
      "cell_type": "code",
      "execution_count": null,
      "metadata": {
        "colab": {
          "base_uri": "https://localhost:8080/"
        },
        "id": "GCVyJB1LKrNy",
        "outputId": "5f227ef6-e2ff-4304-ffad-d35b07cad92d"
      },
      "outputs": [
        {
          "data": {
            "text/plain": [
              "id                                 0\n",
              "listing_url                        0\n",
              "name                               0\n",
              "host_since                         1\n",
              "host_is_superhost               3582\n",
              "neighbourhood_group_cleansed       0\n",
              "accommodates                       0\n",
              "amenities                          0\n",
              "price                              0\n",
              "number_of_reviews                  0\n",
              "review_scores_rating               0\n",
              "latitude                           0\n",
              "longitude                          0\n",
              "host_exp                           1\n",
              "dtype: int64"
            ]
          },
          "execution_count": 25,
          "metadata": {},
          "output_type": "execute_result"
        }
      ],
      "source": [
        "df1.isna().sum()"
      ]
    },
    {
      "cell_type": "code",
      "execution_count": null,
      "metadata": {
        "colab": {
          "base_uri": "https://localhost:8080/"
        },
        "id": "sAibNAzAMXsM",
        "outputId": "4881a93e-e13a-4ec0-f409-9704ba9497f8"
      },
      "outputs": [
        {
          "data": {
            "text/plain": [
              "NaN    3582\n",
              "f      1643\n",
              "t       569\n",
              "Name: host_is_superhost, dtype: int64"
            ]
          },
          "execution_count": 26,
          "metadata": {},
          "output_type": "execute_result"
        }
      ],
      "source": [
        "#check unique values in this column including missing values\n",
        "df1.host_is_superhost.value_counts(dropna=False)"
      ]
    },
    {
      "cell_type": "code",
      "execution_count": null,
      "metadata": {
        "id": "tTkOeIuiK3OE"
      },
      "outputs": [],
      "source": [
        "#Since there are lot of missing values in this column\n",
        "#Lets assume missing values as f\n",
        "df1.host_is_superhost.fillna(\"f\",inplace=True)"
      ]
    },
    {
      "cell_type": "code",
      "execution_count": null,
      "metadata": {
        "colab": {
          "base_uri": "https://localhost:8080/"
        },
        "id": "fqmB6DFVPfYx",
        "outputId": "7cbdc11e-382b-47bb-a90d-5b079abf7603"
      },
      "outputs": [
        {
          "data": {
            "text/plain": [
              "f    5225\n",
              "t     569\n",
              "Name: host_is_superhost, dtype: int64"
            ]
          },
          "execution_count": 28,
          "metadata": {},
          "output_type": "execute_result"
        }
      ],
      "source": [
        "df1.host_is_superhost.value_counts()"
      ]
    },
    {
      "cell_type": "code",
      "execution_count": null,
      "metadata": {
        "id": "fcyeN-ooPiHG"
      },
      "outputs": [],
      "source": [
        "#Alter f or t (strings) to 0 or 1 (integers)\n",
        "df1['host_is_superhost']=df1.host_is_superhost.replace({'f':0, 't':1})"
      ]
    },
    {
      "cell_type": "code",
      "execution_count": null,
      "metadata": {
        "colab": {
          "base_uri": "https://localhost:8080/"
        },
        "id": "yVmub0OJQFBM",
        "outputId": "1ab75fc5-c840-45d0-df46-514d90e282d5"
      },
      "outputs": [
        {
          "data": {
            "text/plain": [
              "0    5225\n",
              "1     569\n",
              "Name: host_is_superhost, dtype: int64"
            ]
          },
          "execution_count": 30,
          "metadata": {},
          "output_type": "execute_result"
        }
      ],
      "source": [
        "df1.host_is_superhost.value_counts()"
      ]
    },
    {
      "cell_type": "markdown",
      "metadata": {
        "id": "Hb_o2HW1Qj4G"
      },
      "source": [
        "##price"
      ]
    },
    {
      "cell_type": "code",
      "execution_count": null,
      "metadata": {
        "colab": {
          "base_uri": "https://localhost:8080/"
        },
        "id": "4hwJLMofTKw5",
        "outputId": "d9e70479-9d7d-427e-892e-6513088a0f34"
      },
      "outputs": [
        {
          "data": {
            "text/plain": [
              "count       5794\n",
              "unique       364\n",
              "top       $50.00\n",
              "freq         223\n",
              "Name: price, dtype: object"
            ]
          },
          "execution_count": 31,
          "metadata": {},
          "output_type": "execute_result"
        }
      ],
      "source": [
        "df1.price.describe()"
      ]
    },
    {
      "cell_type": "code",
      "execution_count": null,
      "metadata": {
        "colab": {
          "base_uri": "https://localhost:8080/"
        },
        "id": "gU9r6hA9TjS2",
        "outputId": "b29d186a-cffb-4ae1-e30c-68fe7569d6ce"
      },
      "outputs": [
        {
          "name": "stderr",
          "output_type": "stream",
          "text": [
            "<ipython-input-32-4d5ced287eb1>:3: FutureWarning: The default value of regex will change from True to False in a future version. In addition, single character regular expressions will *not* be treated as literal strings when regex=True.\n",
            "  df1.price=df1.price.str.replace('$','').str.replace(',','').astype(float)\n"
          ]
        }
      ],
      "source": [
        "#Convert price from object to int/float and\n",
        "#also remove $ and Commas\n",
        "df1.price=df1.price.str.replace('$','').str.replace(',','').astype(float)"
      ]
    },
    {
      "cell_type": "code",
      "execution_count": null,
      "metadata": {
        "colab": {
          "base_uri": "https://localhost:8080/"
        },
        "id": "UhXz3uX-VRz-",
        "outputId": "a2a2f8c2-8139-4aa0-d02b-5587acf179f1"
      },
      "outputs": [
        {
          "data": {
            "text/plain": [
              "count     5794.000000\n",
              "mean       126.184156\n",
              "std       1447.327394\n",
              "min          8.000000\n",
              "25%         40.000000\n",
              "50%         63.000000\n",
              "75%        106.000000\n",
              "max      90000.000000\n",
              "Name: price, dtype: float64"
            ]
          },
          "execution_count": 33,
          "metadata": {},
          "output_type": "execute_result"
        }
      ],
      "source": [
        "#Now price is displayed as float\n",
        "df1.price.describe()"
      ]
    },
    {
      "cell_type": "code",
      "execution_count": null,
      "metadata": {
        "id": "ggaiTOaodtdY"
      },
      "outputs": [],
      "source": [
        "#Check all the listings with proce above 1000\n",
        "df1[df1['price']>1000]\n",
        "\n"
      ]
    },
    {
      "cell_type": "code",
      "execution_count": null,
      "metadata": {
        "id": "9_hgRV4Alely"
      },
      "outputs": [],
      "source": [
        "#There are a total 15 listings with wrong price or unavailable\n",
        "#After verifying each listing url, dropping all 15 to avoid skewness in the price and alter dataframe\n",
        "df1=df1[df1['price']<=1000]\n"
      ]
    },
    {
      "cell_type": "code",
      "execution_count": null,
      "metadata": {
        "colab": {
          "base_uri": "https://localhost:8080/"
        },
        "id": "sT3BKM1QnNBU",
        "outputId": "8de8e6a4-45c5-41e0-b27b-c3d08b7a1422"
      },
      "outputs": [
        {
          "data": {
            "text/plain": [
              "count    5779.000000\n",
              "mean       86.735594\n",
              "std        73.069690\n",
              "min         8.000000\n",
              "25%        40.000000\n",
              "50%        63.000000\n",
              "75%       105.000000\n",
              "max       726.000000\n",
              "Name: price, dtype: float64"
            ]
          },
          "execution_count": 53,
          "metadata": {},
          "output_type": "execute_result"
        }
      ],
      "source": [
        "df1.price.describe()"
      ]
    },
    {
      "cell_type": "code",
      "execution_count": null,
      "metadata": {
        "colab": {
          "base_uri": "https://localhost:8080/",
          "height": 466
        },
        "id": "feWS5GWIW6Gg",
        "outputId": "35513926-9037-4b3f-cede-de8cee278dd5"
      },
      "outputs": [
        {
          "data": {
            "text/plain": [
              "<Axes: xlabel='price'>"
            ]
          },
          "execution_count": 50,
          "metadata": {},
          "output_type": "execute_result"
        },
        {
          "data": {
            "image/png": "[encoded data removed]",
            "text/plain": [
              "<Figure size 640x480 with 1 Axes>"
            ]
          },
          "metadata": {},
          "output_type": "display_data"
        }
      ],
      "source": [
        "#plot outliers using boxplot (imported Seaborn already)\n",
        "sns.boxplot(data=df1,x='price')"
      ]
    },
    {
      "cell_type": "code",
      "execution_count": null,
      "metadata": {
        "id": "PNcJVCkZL9Xb"
      },
      "outputs": [],
      "source": [
        "# Identify outliers using interquartile range.\n",
        "#calculate IQR for 'price' column\n",
        "Q1 = df1['price'].quantile(0.25)\n",
        "Q3 = df1['price'].quantile(0.75)\n",
        "IQR = Q3 - Q1\n",
        "\n",
        "# identify outliers\n",
        "threshold = 1.5\n",
        "outliers = df1[(df1['price'] < Q1 - threshold * IQR) | (df1['price'] > Q3 + threshold * IQR)]"
      ]
    },
    {
      "cell_type": "code",
      "execution_count": null,
      "metadata": {
        "colab": {
          "base_uri": "https://localhost:8080/"
        },
        "id": "FMOMLgcLQdSw",
        "outputId": "87e3455a-cbfa-4444-d29b-d06f25b14a58"
      },
      "outputs": [
        {
          "name": "stdout",
          "output_type": "stream",
          "text": [
            "-57.5 202.5\n"
          ]
        }
      ],
      "source": [
        "print( Q1 - threshold * IQR,Q3 + threshold * IQR)"
      ]
    },
    {
      "cell_type": "code",
      "execution_count": null,
      "metadata": {
        "id": "GrPnYu2fWbEE"
      },
      "outputs": [],
      "source": [
        "#So anything less than -59 (which is impossible) or anything above 205 are considered as outliers by this method.\n",
        "#However, this is just for our reference, we are not deleting outliers based on boxplot!\n",
        "#although in real world, price per night could be more than 205, based on our assumption that digital nomads make $85k yearly income, its highly unlikely that they are willing to pay more than 205 per night'''"
      ]
    },
    {
      "cell_type": "code",
      "execution_count": null,
      "metadata": {
        "colab": {
          "base_uri": "https://localhost:8080/",
          "height": 466
        },
        "id": "KoCeB-F1CuPT",
        "outputId": "cac7546b-e449-4b46-8672-a00742a51d61"
      },
      "outputs": [
        {
          "data": {
            "text/plain": [
              "<Axes: xlabel='price', ylabel='Count'>"
            ]
          },
          "execution_count": 67,
          "metadata": {},
          "output_type": "execute_result"
        },
        {
          "data": {
            "image/png": "[encoded data removed]",
            "text/plain": [
              "<Figure size 640x480 with 1 Axes>"
            ]
          },
          "metadata": {},
          "output_type": "display_data"
        }
      ],
      "source": [
        "sns.histplot(data=df1.price, bins=10, kde=True)"
      ]
    },
    {
      "cell_type": "code",
      "execution_count": null,
      "metadata": {
        "id": "mHQ6Ro4a12Hi"
      },
      "outputs": [],
      "source": [
        "# Helper function to plot histograms based on the\n",
        "# format of the `sessions` histogram\n",
        "def histogrammer(df,column_str, median_text=True, **kwargs):    # **kwargs = any keyword arguments\n",
        "                                                             # from the sns.histplot() function\n",
        "    median=round(df[column_str].median(), 1)\n",
        "    plt.figure(figsize=(5,3))\n",
        "    ax = sns.histplot(x=df[column_str], **kwargs)            # Plot the histogram\n",
        "    plt.axvline(median, color='red', linestyle='--')         # Plot the median line\n",
        "    if median_text==True:                                    # Add median text unless set to False\n",
        "        ax.text(0.25, 0.85, f'median={median}', color='red',\n",
        "            ha='left', va='top', transform=ax.transAxes)\n",
        "    else:\n",
        "        print('Median:', median)\n",
        "    plt.title(f'{column_str} histogram');"
      ]
    },
    {
      "cell_type": "code",
      "execution_count": null,
      "metadata": {
        "colab": {
          "base_uri": "https://localhost:8080/",
          "height": 333
        },
        "id": "uBwaiN9F18Bd",
        "outputId": "d97a5cb5-1ce3-43a1-9db9-b705b7226290"
      },
      "outputs": [
        {
          "data": {
            "image/png": "[encoded data removed]",
            "text/plain": [
              "<Figure size 500x300 with 1 Axes>"
            ]
          },
          "metadata": {},
          "output_type": "display_data"
        }
      ],
      "source": [
        "histogrammer(df1,'price', median_text=True)"
      ]
    },
    {
      "cell_type": "markdown",
      "metadata": {
        "id": "QrG9KpO6dMLd"
      },
      "source": [
        "##Amenities"
      ]
    },
    {
      "cell_type": "code",
      "execution_count": null,
      "metadata": {
        "id": "a4PX38_FdR_6"
      },
      "outputs": [],
      "source": [
        "#Create new column for wifi\n",
        "df1['wifi']=(df1.amenities.str.contains('Wifi', case=False))"
      ]
    },
    {
      "cell_type": "code",
      "execution_count": null,
      "metadata": {
        "colab": {
          "base_uri": "https://localhost:8080/"
        },
        "id": "2E7z7G6MflKB",
        "outputId": "6fe61e37-e010-49a0-e20d-2b25b6e6a13c"
      },
      "outputs": [
        {
          "data": {
            "text/plain": [
              "0.9769856376535733"
            ]
          },
          "execution_count": 71,
          "metadata": {},
          "output_type": "execute_result"
        }
      ],
      "source": [
        "df1['wifi'].sum()/df1.shape[0]"
      ]
    },
    {
      "cell_type": "code",
      "execution_count": null,
      "metadata": {
        "colab": {
          "base_uri": "https://localhost:8080/"
        },
        "id": "eOjkJW95f0Nl",
        "outputId": "b2396c7f-5157-4696-8a83-e3f8525fb1ae"
      },
      "outputs": [
        {
          "data": {
            "text/plain": [
              "0.39435888562034954"
            ]
          },
          "execution_count": 73,
          "metadata": {},
          "output_type": "execute_result"
        }
      ],
      "source": [
        "#Create new column for workspace\n",
        "df1['workspace']=(df1.amenities.str.contains('workspace', case=False))\n",
        "df1['workspace'].sum()/df1.shape[0]"
      ]
    },
    {
      "cell_type": "markdown",
      "metadata": {
        "id": "Xmj3ewgJZlYs"
      },
      "source": [
        "##Coworking Place Data"
      ]
    },
    {
      "cell_type": "code",
      "execution_count": null,
      "metadata": {
        "id": "WgN5GmlbZprG"
      },
      "outputs": [],
      "source": [
        "path = \"/content/drive/MyDrive/Barcelona/modified_coordinates.csv\"\n",
        "cwp = pd.read_csv(path)"
      ]
    },
    {
      "cell_type": "code",
      "execution_count": null,
      "metadata": {
        "colab": {
          "base_uri": "https://localhost:8080/",
          "height": 206
        },
        "id": "NfURyQWKaL8-",
        "outputId": "358f47e1-9c8b-4d70-fdc9-a8f18ea23b17"
      },
      "outputs": [
        {
          "data": {
            "text/html": [
              "\n",
              "  <div id=\"df-e1d52c30-83a3-4569-bf6a-4c20b841ace8\" class=\"colab-df-container\">\n",
              "    <div>\n",
              "<style scoped>\n",
              "    .dataframe tbody tr th:only-of-type {\n",
              "        vertical-align: middle;\n",
              "    }\n",
              "\n",
              "    .dataframe tbody tr th {\n",
              "        vertical-align: top;\n",
              "    }\n",
              "\n",
              "    .dataframe thead th {\n",
              "        text-align: right;\n",
              "    }\n",
              "</style>\n",
              "<table border=\"1\" class=\"dataframe\">\n",
              "  <thead>\n",
              "    <tr style=\"text-align: right;\">\n",
              "      <th></th>\n",
              "      <th>city</th>\n",
              "      <th>name</th>\n",
              "      <th>adress</th>\n",
              "      <th>Google Plus-Code</th>\n",
              "      <th>longitude</th>\n",
              "      <th>latitude</th>\n",
              "    </tr>\n",
              "  </thead>\n",
              "  <tbody>\n",
              "    <tr>\n",
              "      <th>128</th>\n",
              "      <td>Barcelona</td>\n",
              "      <td>Coworking en Barcelona - Coworking Platon</td>\n",
              "      <td>C/ de Balmes, 177, 08006 Barcelona, Spanien</td>\n",
              "      <td>95W3+F8 Barcelona, Spanien</td>\n",
              "      <td>4139623</td>\n",
              "      <td>2153267</td>\n",
              "    </tr>\n",
              "    <tr>\n",
              "      <th>27</th>\n",
              "      <td>Lisbon</td>\n",
              "      <td>Heden Santa Apolónia</td>\n",
              "      <td>Doca Jardim do Tabaco, Terminal de Cruzeiros d...</td>\n",
              "      <td>PV6G+P7 Lissabon, Portugal</td>\n",
              "      <td>3871186</td>\n",
              "      <td>-912430</td>\n",
              "    </tr>\n",
              "    <tr>\n",
              "      <th>151</th>\n",
              "      <td>Barcelona</td>\n",
              "      <td>Eclektic Space I Coworking Poblenou</td>\n",
              "      <td>Passatge d'Aymà, 8, 08005 Barcelona, Spanien</td>\n",
              "      <td>96X3+3P Barcelona, Spanien</td>\n",
              "      <td>4139763</td>\n",
              "      <td>2204300</td>\n",
              "    </tr>\n",
              "    <tr>\n",
              "      <th>31</th>\n",
              "      <td>Lisbon</td>\n",
              "      <td>IDEA Spaces - São Sebastião</td>\n",
              "      <td>Av. António Augusto de Aguiar 122C, 1050-046 L...</td>\n",
              "      <td>PRMW+8W Lissabon, Portugal</td>\n",
              "      <td>3873327</td>\n",
              "      <td>-915270</td>\n",
              "    </tr>\n",
              "    <tr>\n",
              "      <th>42</th>\n",
              "      <td>Lisbon</td>\n",
              "      <td>Nau Coworking</td>\n",
              "      <td>R. dos Lagares d'El-Rei 19A, 1700-268 Lisboa, ...</td>\n",
              "      <td>PVX8+58 Lissabon, Portugal</td>\n",
              "      <td>3874795</td>\n",
              "      <td>-913414</td>\n",
              "    </tr>\n",
              "  </tbody>\n",
              "</table>\n",
              "</div>\n",
              "    <div class=\"colab-df-buttons\">\n",
              "\n",
              "  <div class=\"colab-df-container\">\n",
              "    <button class=\"colab-df-convert\" onclick=\"convertToInteractive('df-e1d52c30-83a3-4569-bf6a-4c20b841ace8')\"\n",
              "            title=\"Convert this dataframe to an interactive table.\"\n",
              "            style=\"display:none;\">\n",
              "\n",
              "  <svg xmlns=\"http://www.w3.org/2000/svg\" height=\"24px\" viewBox=\"0 -960 960 960\">\n",
              "    <path d=\"M120-120v-720h720v720H120Zm60-500h600v-160H180v160Zm220 220h160v-160H400v160Zm0 220h160v-160H400v160ZM180-400h160v-160H180v160Zm440 0h160v-160H620v160ZM180-180h160v-160H180v160Zm440 0h160v-160H620v160Z\"/>\n",
              "  </svg>\n",
              "    </button>\n",
              "\n",
              "  <style>\n",
              "    .colab-df-container {\n",
              "      display:flex;\n",
              "      gap: 12px;\n",
              "    }\n",
              "\n",
              "    .colab-df-convert {\n",
              "      background-color: #E8F0FE;\n",
              "      border: none;\n",
              "      border-radius: 50%;\n",
              "      cursor: pointer;\n",
              "      display: none;\n",
              "      fill: #1967D2;\n",
              "      height: 32px;\n",
              "      padding: 0 0 0 0;\n",
              "      width: 32px;\n",
              "    }\n",
              "\n",
              "    .colab-df-convert:hover {\n",
              "      background-color: #E2EBFA;\n",
              "      box-shadow: 0px 1px 2px rgba(60, 64, 67, 0.3), 0px 1px 3px 1px rgba(60, 64, 67, 0.15);\n",
              "      fill: #174EA6;\n",
              "    }\n",
              "\n",
              "    .colab-df-buttons div {\n",
              "      margin-bottom: 4px;\n",
              "    }\n",
              "\n",
              "    [theme=dark] .colab-df-convert {\n",
              "      background-color: #3B4455;\n",
              "      fill: #D2E3FC;\n",
              "    }\n",
              "\n",
              "    [theme=dark] .colab-df-convert:hover {\n",
              "      background-color: #434B5C;\n",
              "      box-shadow: 0px 1px 3px 1px rgba(0, 0, 0, 0.15);\n",
              "      filter: drop-shadow(0px 1px 2px rgba(0, 0, 0, 0.3));\n",
              "      fill: #FFFFFF;\n",
              "    }\n",
              "  </style>\n",
              "\n",
              "    <script>\n",
              "      const buttonEl =\n",
              "        document.querySelector('#df-e1d52c30-83a3-4569-bf6a-4c20b841ace8 button.colab-df-convert');\n",
              "      buttonEl.style.display =\n",
              "        google.colab.kernel.accessAllowed ? 'block' : 'none';\n",
              "\n",
              "      async function convertToInteractive(key) {\n",
              "        const element = document.querySelector('#df-e1d52c30-83a3-4569-bf6a-4c20b841ace8');\n",
              "        const dataTable =\n",
              "          await google.colab.kernel.invokeFunction('convertToInteractive',\n",
              "                                                    [key], {});\n",
              "        if (!dataTable) return;\n",
              "\n",
              "        const docLinkHtml = 'Like what you see? Visit the ' +\n",
              "          '<a target=\"_blank\" href=https://colab.research.google.com/notebooks/data_table.ipynb>data table notebook</a>'\n",
              "          + ' to learn more about interactive tables.';\n",
              "        element.innerHTML = '';\n",
              "        dataTable['output_type'] = 'display_data';\n",
              "        await google.colab.output.renderOutput(dataTable, element);\n",
              "        const docLink = document.createElement('div');\n",
              "        docLink.innerHTML = docLinkHtml;\n",
              "        element.appendChild(docLink);\n",
              "      }\n",
              "    </script>\n",
              "  </div>\n",
              "\n",
              "\n",
              "<div id=\"df-16728d86-d718-4ee3-be7a-79016b61eb95\">\n",
              "  <button class=\"colab-df-quickchart\" onclick=\"quickchart('df-16728d86-d718-4ee3-be7a-79016b61eb95')\"\n",
              "            title=\"Suggest charts.\"\n",
              "            style=\"display:none;\">\n",
              "\n",
              "<svg xmlns=\"http://www.w3.org/2000/svg\" height=\"24px\"viewBox=\"0 0 24 24\"\n",
              "     width=\"24px\">\n",
              "    <g>\n",
              "        <path d=\"M19 3H5c-1.1 0-2 .9-2 2v14c0 1.1.9 2 2 2h14c1.1 0 2-.9 2-2V5c0-1.1-.9-2-2-2zM9 17H7v-7h2v7zm4 0h-2V7h2v10zm4 0h-2v-4h2v4z\"/>\n",
              "    </g>\n",
              "</svg>\n",
              "  </button>\n",
              "\n",
              "<style>\n",
              "  .colab-df-quickchart {\n",
              "      --bg-color: #E8F0FE;\n",
              "      --fill-color: #1967D2;\n",
              "      --hover-bg-color: #E2EBFA;\n",
              "      --hover-fill-color: #174EA6;\n",
              "      --disabled-fill-color: #AAA;\n",
              "      --disabled-bg-color: #DDD;\n",
              "  }\n",
              "\n",
              "  [theme=dark] .colab-df-quickchart {\n",
              "      --bg-color: #3B4455;\n",
              "      --fill-color: #D2E3FC;\n",
              "      --hover-bg-color: #434B5C;\n",
              "      --hover-fill-color: #FFFFFF;\n",
              "      --disabled-bg-color: #3B4455;\n",
              "      --disabled-fill-color: #666;\n",
              "  }\n",
              "\n",
              "  .colab-df-quickchart {\n",
              "    background-color: var(--bg-color);\n",
              "    border: none;\n",
              "    border-radius: 50%;\n",
              "    cursor: pointer;\n",
              "    display: none;\n",
              "    fill: var(--fill-color);\n",
              "    height: 32px;\n",
              "    padding: 0;\n",
              "    width: 32px;\n",
              "  }\n",
              "\n",
              "  .colab-df-quickchart:hover {\n",
              "    background-color: var(--hover-bg-color);\n",
              "    box-shadow: 0 1px 2px rgba(60, 64, 67, 0.3), 0 1px 3px 1px rgba(60, 64, 67, 0.15);\n",
              "    fill: var(--button-hover-fill-color);\n",
              "  }\n",
              "\n",
              "  .colab-df-quickchart-complete:disabled,\n",
              "  .colab-df-quickchart-complete:disabled:hover {\n",
              "    background-color: var(--disabled-bg-color);\n",
              "    fill: var(--disabled-fill-color);\n",
              "    box-shadow: none;\n",
              "  }\n",
              "\n",
              "  .colab-df-spinner {\n",
              "    border: 2px solid var(--fill-color);\n",
              "    border-color: transparent;\n",
              "    border-bottom-color: var(--fill-color);\n",
              "    animation:\n",
              "      spin 1s steps(1) infinite;\n",
              "  }\n",
              "\n",
              "  @keyframes spin {\n",
              "    0% {\n",
              "      border-color: transparent;\n",
              "      border-bottom-color: var(--fill-color);\n",
              "      border-left-color: var(--fill-color);\n",
              "    }\n",
              "    20% {\n",
              "      border-color: transparent;\n",
              "      border-left-color: var(--fill-color);\n",
              "      border-top-color: var(--fill-color);\n",
              "    }\n",
              "    30% {\n",
              "      border-color: transparent;\n",
              "      border-left-color: var(--fill-color);\n",
              "      border-top-color: var(--fill-color);\n",
              "      border-right-color: var(--fill-color);\n",
              "    }\n",
              "    40% {\n",
              "      border-color: transparent;\n",
              "      border-right-color: var(--fill-color);\n",
              "      border-top-color: var(--fill-color);\n",
              "    }\n",
              "    60% {\n",
              "      border-color: transparent;\n",
              "      border-right-color: var(--fill-color);\n",
              "    }\n",
              "    80% {\n",
              "      border-color: transparent;\n",
              "      border-right-color: var(--fill-color);\n",
              "      border-bottom-color: var(--fill-color);\n",
              "    }\n",
              "    90% {\n",
              "      border-color: transparent;\n",
              "      border-bottom-color: var(--fill-color);\n",
              "    }\n",
              "  }\n",
              "</style>\n",
              "\n",
              "  <script>\n",
              "    async function quickchart(key) {\n",
              "      const quickchartButtonEl =\n",
              "        document.querySelector('#' + key + ' button');\n",
              "      quickchartButtonEl.disabled = true;  // To prevent multiple clicks.\n",
              "      quickchartButtonEl.classList.add('colab-df-spinner');\n",
              "      try {\n",
              "        const charts = await google.colab.kernel.invokeFunction(\n",
              "            'suggestCharts', [key], {});\n",
              "      } catch (error) {\n",
              "        console.error('Error during call to suggestCharts:', error);\n",
              "      }\n",
              "      quickchartButtonEl.classList.remove('colab-df-spinner');\n",
              "      quickchartButtonEl.classList.add('colab-df-quickchart-complete');\n",
              "    }\n",
              "    (() => {\n",
              "      let quickchartButtonEl =\n",
              "        document.querySelector('#df-16728d86-d718-4ee3-be7a-79016b61eb95 button');\n",
              "      quickchartButtonEl.style.display =\n",
              "        google.colab.kernel.accessAllowed ? 'block' : 'none';\n",
              "    })();\n",
              "  </script>\n",
              "</div>\n",
              "    </div>\n",
              "  </div>\n"
            ],
            "text/plain": [
              "          city                                       name  \\\n",
              "128  Barcelona  Coworking en Barcelona - Coworking Platon   \n",
              "27      Lisbon                       Heden Santa Apolónia   \n",
              "151  Barcelona        Eclektic Space I Coworking Poblenou   \n",
              "31      Lisbon                IDEA Spaces - São Sebastião   \n",
              "42      Lisbon                              Nau Coworking   \n",
              "\n",
              "                                                adress  \\\n",
              "128        C/ de Balmes, 177, 08006 Barcelona, Spanien   \n",
              "27   Doca Jardim do Tabaco, Terminal de Cruzeiros d...   \n",
              "151       Passatge d'Aymà, 8, 08005 Barcelona, Spanien   \n",
              "31   Av. António Augusto de Aguiar 122C, 1050-046 L...   \n",
              "42   R. dos Lagares d'El-Rei 19A, 1700-268 Lisboa, ...   \n",
              "\n",
              "               Google Plus-Code  longitude  latitude  \n",
              "128  95W3+F8 Barcelona, Spanien    4139623   2153267  \n",
              "27   PV6G+P7 Lissabon, Portugal    3871186   -912430  \n",
              "151  96X3+3P Barcelona, Spanien    4139763   2204300  \n",
              "31   PRMW+8W Lissabon, Portugal    3873327   -915270  \n",
              "42   PVX8+58 Lissabon, Portugal    3874795   -913414  "
            ]
          },
          "execution_count": 77,
          "metadata": {},
          "output_type": "execute_result"
        }
      ],
      "source": [
        "cwp.sample(5)\n",
        "#Dataset includes data for all the cities"
      ]
    },
    {
      "cell_type": "code",
      "execution_count": null,
      "metadata": {
        "id": "PGm3yx9PaNn1"
      },
      "outputs": [],
      "source": [
        "# lets Filter cwp data for Barcelona and rename as cwp_bar\n",
        "# and Drop useless columns\n",
        "# and Set index with name column\n",
        "cwp_bar=cwp[cwp.city=='Barcelona'].drop(['city', 'Google Plus-Code', 'adress'], axis=1).set_index('name')"
      ]
    },
    {
      "cell_type": "code",
      "execution_count": null,
      "metadata": {
        "colab": {
          "base_uri": "https://localhost:8080/",
          "height": 455
        },
        "id": "zF9hEluQbP03",
        "outputId": "510b5468-ea94-41e3-c4ca-ff9d0fbc485d"
      },
      "outputs": [
        {
          "data": {
            "text/html": [
              "\n",
              "  <div id=\"df-ab63adce-a6b1-4436-a268-e7488dc5f88d\" class=\"colab-df-container\">\n",
              "    <div>\n",
              "<style scoped>\n",
              "    .dataframe tbody tr th:only-of-type {\n",
              "        vertical-align: middle;\n",
              "    }\n",
              "\n",
              "    .dataframe tbody tr th {\n",
              "        vertical-align: top;\n",
              "    }\n",
              "\n",
              "    .dataframe thead th {\n",
              "        text-align: right;\n",
              "    }\n",
              "</style>\n",
              "<table border=\"1\" class=\"dataframe\">\n",
              "  <thead>\n",
              "    <tr style=\"text-align: right;\">\n",
              "      <th></th>\n",
              "      <th>longitude</th>\n",
              "      <th>latitude</th>\n",
              "    </tr>\n",
              "    <tr>\n",
              "      <th>name</th>\n",
              "      <th></th>\n",
              "      <th></th>\n",
              "    </tr>\n",
              "  </thead>\n",
              "  <tbody>\n",
              "    <tr>\n",
              "      <th>La Vaca Coworking Barcelona</th>\n",
              "      <td>4137409</td>\n",
              "      <td>2161937</td>\n",
              "    </tr>\n",
              "    <tr>\n",
              "      <th>OneCoWork Catedral | Barcelona Coworking</th>\n",
              "      <td>4138499</td>\n",
              "      <td>2176744</td>\n",
              "    </tr>\n",
              "    <tr>\n",
              "      <th>betahaus I - Coworking in Barcelona, Gràcia</th>\n",
              "      <td>4140696</td>\n",
              "      <td>2156778</td>\n",
              "    </tr>\n",
              "    <tr>\n",
              "      <th>Meet BCN - Coworking Space in Barcelona</th>\n",
              "      <td>4139482</td>\n",
              "      <td>2157991</td>\n",
              "    </tr>\n",
              "    <tr>\n",
              "      <th>Barcelona Reial Coworking</th>\n",
              "      <td>4137942</td>\n",
              "      <td>2175059</td>\n",
              "    </tr>\n",
              "    <tr>\n",
              "      <th>...</th>\n",
              "      <td>...</td>\n",
              "      <td>...</td>\n",
              "    </tr>\n",
              "    <tr>\n",
              "      <th>Coworking Poblenou</th>\n",
              "      <td>4139419</td>\n",
              "      <td>2188538</td>\n",
              "    </tr>\n",
              "    <tr>\n",
              "      <th>Acla Coworking</th>\n",
              "      <td>4139832</td>\n",
              "      <td>2167709</td>\n",
              "    </tr>\n",
              "    <tr>\n",
              "      <th>Beauty Loft Coworking</th>\n",
              "      <td>4140338</td>\n",
              "      <td>2160729</td>\n",
              "    </tr>\n",
              "    <tr>\n",
              "      <th>Spaces - Barcelona, Spaces Passatge Mas de Roda</th>\n",
              "      <td>4139629</td>\n",
              "      <td>2199412</td>\n",
              "    </tr>\n",
              "    <tr>\n",
              "      <th>Coworking el Raval</th>\n",
              "      <td>4138113</td>\n",
              "      <td>2165944</td>\n",
              "    </tr>\n",
              "  </tbody>\n",
              "</table>\n",
              "<p>111 rows × 2 columns</p>\n",
              "</div>\n",
              "    <div class=\"colab-df-buttons\">\n",
              "\n",
              "  <div class=\"colab-df-container\">\n",
              "    <button class=\"colab-df-convert\" onclick=\"convertToInteractive('df-ab63adce-a6b1-4436-a268-e7488dc5f88d')\"\n",
              "            title=\"Convert this dataframe to an interactive table.\"\n",
              "            style=\"display:none;\">\n",
              "\n",
              "  <svg xmlns=\"http://www.w3.org/2000/svg\" height=\"24px\" viewBox=\"0 -960 960 960\">\n",
              "    <path d=\"M120-120v-720h720v720H120Zm60-500h600v-160H180v160Zm220 220h160v-160H400v160Zm0 220h160v-160H400v160ZM180-400h160v-160H180v160Zm440 0h160v-160H620v160ZM180-180h160v-160H180v160Zm440 0h160v-160H620v160Z\"/>\n",
              "  </svg>\n",
              "    </button>\n",
              "\n",
              "  <style>\n",
              "    .colab-df-container {\n",
              "      display:flex;\n",
              "      gap: 12px;\n",
              "    }\n",
              "\n",
              "    .colab-df-convert {\n",
              "      background-color: #E8F0FE;\n",
              "      border: none;\n",
              "      border-radius: 50%;\n",
              "      cursor: pointer;\n",
              "      display: none;\n",
              "      fill: #1967D2;\n",
              "      height: 32px;\n",
              "      padding: 0 0 0 0;\n",
              "      width: 32px;\n",
              "    }\n",
              "\n",
              "    .colab-df-convert:hover {\n",
              "      background-color: #E2EBFA;\n",
              "      box-shadow: 0px 1px 2px rgba(60, 64, 67, 0.3), 0px 1px 3px 1px rgba(60, 64, 67, 0.15);\n",
              "      fill: #174EA6;\n",
              "    }\n",
              "\n",
              "    .colab-df-buttons div {\n",
              "      margin-bottom: 4px;\n",
              "    }\n",
              "\n",
              "    [theme=dark] .colab-df-convert {\n",
              "      background-color: #3B4455;\n",
              "      fill: #D2E3FC;\n",
              "    }\n",
              "\n",
              "    [theme=dark] .colab-df-convert:hover {\n",
              "      background-color: #434B5C;\n",
              "      box-shadow: 0px 1px 3px 1px rgba(0, 0, 0, 0.15);\n",
              "      filter: drop-shadow(0px 1px 2px rgba(0, 0, 0, 0.3));\n",
              "      fill: #FFFFFF;\n",
              "    }\n",
              "  </style>\n",
              "\n",
              "    <script>\n",
              "      const buttonEl =\n",
              "        document.querySelector('#df-ab63adce-a6b1-4436-a268-e7488dc5f88d button.colab-df-convert');\n",
              "      buttonEl.style.display =\n",
              "        google.colab.kernel.accessAllowed ? 'block' : 'none';\n",
              "\n",
              "      async function convertToInteractive(key) {\n",
              "        const element = document.querySelector('#df-ab63adce-a6b1-4436-a268-e7488dc5f88d');\n",
              "        const dataTable =\n",
              "          await google.colab.kernel.invokeFunction('convertToInteractive',\n",
              "                                                    [key], {});\n",
              "        if (!dataTable) return;\n",
              "\n",
              "        const docLinkHtml = 'Like what you see? Visit the ' +\n",
              "          '<a target=\"_blank\" href=https://colab.research.google.com/notebooks/data_table.ipynb>data table notebook</a>'\n",
              "          + ' to learn more about interactive tables.';\n",
              "        element.innerHTML = '';\n",
              "        dataTable['output_type'] = 'display_data';\n",
              "        await google.colab.output.renderOutput(dataTable, element);\n",
              "        const docLink = document.createElement('div');\n",
              "        docLink.innerHTML = docLinkHtml;\n",
              "        element.appendChild(docLink);\n",
              "      }\n",
              "    </script>\n",
              "  </div>\n",
              "\n",
              "\n",
              "<div id=\"df-1eb3fb48-d1f8-4e0f-969f-ceb72ba91775\">\n",
              "  <button class=\"colab-df-quickchart\" onclick=\"quickchart('df-1eb3fb48-d1f8-4e0f-969f-ceb72ba91775')\"\n",
              "            title=\"Suggest charts.\"\n",
              "            style=\"display:none;\">\n",
              "\n",
              "<svg xmlns=\"http://www.w3.org/2000/svg\" height=\"24px\"viewBox=\"0 0 24 24\"\n",
              "     width=\"24px\">\n",
              "    <g>\n",
              "        <path d=\"M19 3H5c-1.1 0-2 .9-2 2v14c0 1.1.9 2 2 2h14c1.1 0 2-.9 2-2V5c0-1.1-.9-2-2-2zM9 17H7v-7h2v7zm4 0h-2V7h2v10zm4 0h-2v-4h2v4z\"/>\n",
              "    </g>\n",
              "</svg>\n",
              "  </button>\n",
              "\n",
              "<style>\n",
              "  .colab-df-quickchart {\n",
              "      --bg-color: #E8F0FE;\n",
              "      --fill-color: #1967D2;\n",
              "      --hover-bg-color: #E2EBFA;\n",
              "      --hover-fill-color: #174EA6;\n",
              "      --disabled-fill-color: #AAA;\n",
              "      --disabled-bg-color: #DDD;\n",
              "  }\n",
              "\n",
              "  [theme=dark] .colab-df-quickchart {\n",
              "      --bg-color: #3B4455;\n",
              "      --fill-color: #D2E3FC;\n",
              "      --hover-bg-color: #434B5C;\n",
              "      --hover-fill-color: #FFFFFF;\n",
              "      --disabled-bg-color: #3B4455;\n",
              "      --disabled-fill-color: #666;\n",
              "  }\n",
              "\n",
              "  .colab-df-quickchart {\n",
              "    background-color: var(--bg-color);\n",
              "    border: none;\n",
              "    border-radius: 50%;\n",
              "    cursor: pointer;\n",
              "    display: none;\n",
              "    fill: var(--fill-color);\n",
              "    height: 32px;\n",
              "    padding: 0;\n",
              "    width: 32px;\n",
              "  }\n",
              "\n",
              "  .colab-df-quickchart:hover {\n",
              "    background-color: var(--hover-bg-color);\n",
              "    box-shadow: 0 1px 2px rgba(60, 64, 67, 0.3), 0 1px 3px 1px rgba(60, 64, 67, 0.15);\n",
              "    fill: var(--button-hover-fill-color);\n",
              "  }\n",
              "\n",
              "  .colab-df-quickchart-complete:disabled,\n",
              "  .colab-df-quickchart-complete:disabled:hover {\n",
              "    background-color: var(--disabled-bg-color);\n",
              "    fill: var(--disabled-fill-color);\n",
              "    box-shadow: none;\n",
              "  }\n",
              "\n",
              "  .colab-df-spinner {\n",
              "    border: 2px solid var(--fill-color);\n",
              "    border-color: transparent;\n",
              "    border-bottom-color: var(--fill-color);\n",
              "    animation:\n",
              "      spin 1s steps(1) infinite;\n",
              "  }\n",
              "\n",
              "  @keyframes spin {\n",
              "    0% {\n",
              "      border-color: transparent;\n",
              "      border-bottom-color: var(--fill-color);\n",
              "      border-left-color: var(--fill-color);\n",
              "    }\n",
              "    20% {\n",
              "      border-color: transparent;\n",
              "      border-left-color: var(--fill-color);\n",
              "      border-top-color: var(--fill-color);\n",
              "    }\n",
              "    30% {\n",
              "      border-color: transparent;\n",
              "      border-left-color: var(--fill-color);\n",
              "      border-top-color: var(--fill-color);\n",
              "      border-right-color: var(--fill-color);\n",
              "    }\n",
              "    40% {\n",
              "      border-color: transparent;\n",
              "      border-right-color: var(--fill-color);\n",
              "      border-top-color: var(--fill-color);\n",
              "    }\n",
              "    60% {\n",
              "      border-color: transparent;\n",
              "      border-right-color: var(--fill-color);\n",
              "    }\n",
              "    80% {\n",
              "      border-color: transparent;\n",
              "      border-right-color: var(--fill-color);\n",
              "      border-bottom-color: var(--fill-color);\n",
              "    }\n",
              "    90% {\n",
              "      border-color: transparent;\n",
              "      border-bottom-color: var(--fill-color);\n",
              "    }\n",
              "  }\n",
              "</style>\n",
              "\n",
              "  <script>\n",
              "    async function quickchart(key) {\n",
              "      const quickchartButtonEl =\n",
              "        document.querySelector('#' + key + ' button');\n",
              "      quickchartButtonEl.disabled = true;  // To prevent multiple clicks.\n",
              "      quickchartButtonEl.classList.add('colab-df-spinner');\n",
              "      try {\n",
              "        const charts = await google.colab.kernel.invokeFunction(\n",
              "            'suggestCharts', [key], {});\n",
              "      } catch (error) {\n",
              "        console.error('Error during call to suggestCharts:', error);\n",
              "      }\n",
              "      quickchartButtonEl.classList.remove('colab-df-spinner');\n",
              "      quickchartButtonEl.classList.add('colab-df-quickchart-complete');\n",
              "    }\n",
              "    (() => {\n",
              "      let quickchartButtonEl =\n",
              "        document.querySelector('#df-1eb3fb48-d1f8-4e0f-969f-ceb72ba91775 button');\n",
              "      quickchartButtonEl.style.display =\n",
              "        google.colab.kernel.accessAllowed ? 'block' : 'none';\n",
              "    })();\n",
              "  </script>\n",
              "</div>\n",
              "    </div>\n",
              "  </div>\n"
            ],
            "text/plain": [
              "                                                 longitude  latitude\n",
              "name                                                                \n",
              "La Vaca Coworking Barcelona                        4137409   2161937\n",
              "OneCoWork Catedral | Barcelona Coworking           4138499   2176744\n",
              "betahaus I - Coworking in Barcelona, Gràcia        4140696   2156778\n",
              "Meet BCN - Coworking Space in Barcelona            4139482   2157991\n",
              "Barcelona Reial Coworking                          4137942   2175059\n",
              "...                                                    ...       ...\n",
              "Coworking Poblenou                                 4139419   2188538\n",
              "Acla Coworking                                     4139832   2167709\n",
              "Beauty Loft Coworking                              4140338   2160729\n",
              "Spaces - Barcelona, Spaces Passatge Mas de Roda    4139629   2199412\n",
              "Coworking el Raval                                 4138113   2165944\n",
              "\n",
              "[111 rows x 2 columns]"
            ]
          },
          "execution_count": 79,
          "metadata": {},
          "output_type": "execute_result"
        }
      ],
      "source": [
        "cwp_bar"
      ]
    },
    {
      "cell_type": "code",
      "execution_count": null,
      "metadata": {
        "colab": {
          "base_uri": "https://localhost:8080/"
        },
        "id": "r2m-MXfwPMUO",
        "outputId": "95037fe3-458b-443d-a68b-897807f37e72"
      },
      "outputs": [
        {
          "data": {
            "text/plain": [
              "dtype('int64')"
            ]
          },
          "execution_count": 80,
          "metadata": {},
          "output_type": "execute_result"
        }
      ],
      "source": [
        "cwp_bar.longitude.dtype"
      ]
    },
    {
      "cell_type": "code",
      "execution_count": null,
      "metadata": {
        "id": "ZQ1UU3i-bQ6r"
      },
      "outputs": [],
      "source": [
        "# Adjust longitude and latitude in valid format\n",
        "cwp_bar.longitude=cwp_bar.longitude/100000\n",
        "cwp_bar.latitude=cwp_bar.latitude/1000000"
      ]
    },
    {
      "cell_type": "code",
      "execution_count": null,
      "metadata": {
        "id": "CWzjB0j3cbMu"
      },
      "outputs": [],
      "source": [
        "# Create a dictionnary dict_cwp for easy iteration\n",
        "dict_cwp={cwp_bar.index.tolist()[i] :(cwp_bar.longitude.tolist()[i],cwp_bar.latitude.tolist()[i]) for i in range(len(cwp_bar.index.tolist()))}"
      ]
    },
    {
      "cell_type": "code",
      "execution_count": null,
      "metadata": {
        "colab": {
          "base_uri": "https://localhost:8080/",
          "height": 36
        },
        "id": "v4rt7qtq3sRz",
        "outputId": "3cbb463a-271c-47dc-d0c6-23f9cbd6fdc1"
      },
      "outputs": [
        {
          "data": {
            "application/vnd.google.colaboratory.intrinsic+json": {
              "type": "string"
            },
            "text/plain": [
              "'Import functions for calculating distance from each listing to coworkingspace'"
            ]
          },
          "execution_count": 83,
          "metadata": {},
          "output_type": "execute_result"
        }
      ],
      "source": [
        "'''Import functions for calculating distance from each listing to coworkingspace'''"
      ]
    },
    {
      "cell_type": "code",
      "execution_count": null,
      "metadata": {
        "colab": {
          "base_uri": "https://localhost:8080/"
        },
        "id": "yOXQWsgmfs6H",
        "outputId": "840cff70-f965-480b-81ea-f3289cdc31d0"
      },
      "outputs": [
        {
          "data": {
            "text/plain": [
              "count    5779.000000\n",
              "mean       86.735594\n",
              "std        73.069690\n",
              "min         8.000000\n",
              "25%        40.000000\n",
              "50%        63.000000\n",
              "75%       105.000000\n",
              "max       726.000000\n",
              "Name: price, dtype: float64"
            ]
          },
          "execution_count": 84,
          "metadata": {},
          "output_type": "execute_result"
        }
      ],
      "source": [
        "df1.price.describe()"
      ]
    },
    {
      "cell_type": "code",
      "execution_count": null,
      "metadata": {
        "id": "BewVuHCX3zGT"
      },
      "outputs": [],
      "source": [
        "import math\n",
        "\n",
        "def distance(origin, destination):\n",
        "    \"\"\"\n",
        "    Calculate the Haversine distance used for calculation between our dataset entries and coworking places.\n",
        "\n",
        "    Parameters\n",
        "    ----------\n",
        "    origin : tuple of float\n",
        "        (lat, long)\n",
        "    destination : tuple of float\n",
        "        (lat, long)\n",
        "\n",
        "    Returns\n",
        "    -------\n",
        "    distance_in_km : float\n",
        "\n",
        "    Examples\n",
        "    --------\n",
        "    >>> origin = (48.1372, 11.5756)  # Munich\n",
        "    >>> destination = (52.5186, 13.4083)  # Berlin\n",
        "    >>> round(distance(origin, destination), 1)\n",
        "    504.2\n",
        "    \"\"\"\n",
        "    lat1, lon1 = origin\n",
        "    lat2, lon2 = destination\n",
        "    radius = 6371  # km\n",
        "\n",
        "    dlat = math.radians(lat2 - lat1)\n",
        "    dlon = math.radians(lon2 - lon1)\n",
        "    a = (math.sin(dlat / 2) * math.sin(dlat / 2) +\n",
        "         math.cos(math.radians(lat1)) * math.cos(math.radians(lat2)) *\n",
        "         math.sin(dlon / 2) * math.sin(dlon / 2))\n",
        "    c = 2 * math.atan2(math.sqrt(a), math.sqrt(1 - a))\n",
        "    d = radius * c\n",
        "\n",
        "    return d"
      ]
    },
    {
      "cell_type": "code",
      "execution_count": null,
      "metadata": {
        "id": "4Qb5g6M_4CvD"
      },
      "outputs": [],
      "source": [
        "def get_minimal_distance_from_coworking_place(l,L):\n",
        "    \"\"\"\n",
        "    Get the minimal distance from co-working place listed in the dictionnary dict_cwp build on 'modified_coordinates.csv\n",
        "    l for longitude\n",
        "    L for latitude\n",
        "    Result in km rounded with 3 digits\n",
        "    \"\"\"\n",
        "    origin=(l,L)\n",
        "    min_dist=\"\"\n",
        "    for cwp in dict_cwp:\n",
        "        if min_dist==\"\":\n",
        "            min_dist=distance(origin, dict_cwp[cwp])\n",
        "            continue\n",
        "        if min_dist<distance(origin, dict_cwp[cwp]):\n",
        "            continue\n",
        "        else:\n",
        "            min_dist=distance(origin, dict_cwp[cwp])\n",
        "    return round(min_dist,3)\n"
      ]
    },
    {
      "cell_type": "code",
      "execution_count": null,
      "metadata": {
        "id": "ZyHfPpLP4GVp"
      },
      "outputs": [],
      "source": [
        "def get_number_of_coworking_place_less_than_n_km(l,L,n):\n",
        "    \"\"\"\n",
        "    Get the number of co-working place listed in the dictionnary dict_cwp build on 'modified_coordinates.csv'\n",
        "    within a radius of n kilometers\n",
        "    l for longitude\n",
        "    L for latitude\n",
        "    n : float : lenght of radius within to check the number of co-working place\n",
        "    Result is integer\n",
        "    \"\"\"\n",
        "    origin=(l,L)\n",
        "    count=0\n",
        "    for cwp in dict_cwp:\n",
        "        if distance(origin, dict_cwp[cwp])<=n:\n",
        "            count+=1\n",
        "    return count"
      ]
    },
    {
      "cell_type": "code",
      "execution_count": null,
      "metadata": {
        "id": "YH5MB3Q-9vls"
      },
      "outputs": [],
      "source": [
        "#Find the distance between each listing to the nearest cwp\n",
        "df1['distance']=df1.apply(lambda x: get_minimal_distance_from_coworking_place(x.latitude,x.longitude), axis=1)"
      ]
    },
    {
      "cell_type": "code",
      "execution_count": null,
      "metadata": {
        "colab": {
          "base_uri": "https://localhost:8080/"
        },
        "id": "egcQGZvqR_0s",
        "outputId": "86cf879d-5c3f-424b-d503-c7579dc457bd"
      },
      "outputs": [
        {
          "data": {
            "text/plain": [
              "4        0.105\n",
              "7        0.307\n",
              "8        0.255\n",
              "12       0.203\n",
              "14       0.110\n",
              "         ...  \n",
              "17060    0.707\n",
              "17063    0.217\n",
              "17074    0.164\n",
              "17104    0.255\n",
              "17149    0.304\n",
              "Name: distance, Length: 5779, dtype: float64"
            ]
          },
          "execution_count": 89,
          "metadata": {},
          "output_type": "execute_result"
        }
      ],
      "source": [
        "df1.distance"
      ]
    },
    {
      "cell_type": "code",
      "execution_count": null,
      "metadata": {
        "colab": {
          "base_uri": "https://localhost:8080/"
        },
        "id": "ZpnITpZm5aFr",
        "outputId": "fcbb62db-f7be-4135-828a-32e58e69f093"
      },
      "outputs": [
        {
          "data": {
            "text/plain": [
              "count    5779.000000\n",
              "mean        0.438333\n",
              "std         0.553125\n",
              "min         0.002000\n",
              "25%         0.155000\n",
              "50%         0.257000\n",
              "75%         0.474000\n",
              "max         5.612000\n",
              "Name: distance, dtype: float64"
            ]
          },
          "execution_count": 90,
          "metadata": {},
          "output_type": "execute_result"
        }
      ],
      "source": [
        "#75%of listings are ,500m away from ant cwp\n",
        "#so lets say any listing which is 500m or less distance is considered attractive\n",
        "df1.distance.describe()"
      ]
    },
    {
      "cell_type": "code",
      "execution_count": null,
      "metadata": {
        "id": "mXnHq91BGKOi"
      },
      "outputs": [],
      "source": [
        "df1['count_of_cwp_0.5km']=df1.apply(lambda x: get_number_of_coworking_place_less_than_n_km(x.latitude,x.longitude,0.5), axis=1)"
      ]
    },
    {
      "cell_type": "markdown",
      "metadata": {
        "id": "n12a50u060QB"
      },
      "source": [
        "#Scoring\n"
      ]
    },
    {
      "cell_type": "code",
      "execution_count": null,
      "metadata": {
        "id": "-URMnjuEuSbz"
      },
      "outputs": [],
      "source": [
        "df1.columns"
      ]
    },
    {
      "cell_type": "code",
      "execution_count": null,
      "metadata": {
        "id": "8uU6PvbXu7BI"
      },
      "outputs": [],
      "source": [
        "columns=['price','host_exp','review_scores_rating','distance']"
      ]
    },
    {
      "cell_type": "code",
      "execution_count": null,
      "metadata": {
        "id": "7Q5RyMOIwpnX"
      },
      "outputs": [],
      "source": [
        "import numpy as np"
      ]
    },
    {
      "cell_type": "code",
      "execution_count": null,
      "metadata": {
        "id": "pHys-dvYwyBn"
      },
      "outputs": [],
      "source": [
        "quantiles = np.linspace(0.2, 1, 5)\n",
        "quantiles"
      ]
    },
    {
      "cell_type": "code",
      "execution_count": null,
      "metadata": {
        "id": "iCWYkzw6uNVh"
      },
      "outputs": [],
      "source": [
        "df_threshold = df1[columns].quantile(quantiles)\n",
        "df_threshold = df_threshold.reset_index(drop = True)\n",
        "df_threshold"
      ]
    },
    {
      "cell_type": "code",
      "execution_count": null,
      "metadata": {
        "id": "B1m6ziYCw8NZ"
      },
      "outputs": [],
      "source": [
        "def calc_attractiveness(\n",
        "        data: pd.DataFrame,\n",
        "        df_threshold: pd.DataFrame,\n",
        "    ) -> pd.Series:\n",
        "\n",
        "    for column in df_threshold.columns:\n",
        "        for idx, threshold in enumerate(df_threshold[column]):\n",
        "            if idx == 0:\n",
        "                boolean_series = data[column] <= threshold\n",
        "            else:\n",
        "                boolean_series = data[column].between(\n",
        "                    df_threshold.loc[idx-1, column],\n",
        "                    df_threshold.loc[idx, column]\n",
        "                )\n",
        "\n",
        "            if f'{column} Score' not in data.columns:\n",
        "                data[f'{column} Score'] = 8 # placeholder to create column\n",
        "            data.loc[boolean_series, f'{column} Score'] = idx + 1\n",
        "\n",
        "    return data"
      ]
    },
    {
      "cell_type": "code",
      "execution_count": null,
      "metadata": {
        "id": "qRknd0rp0kPa"
      },
      "outputs": [],
      "source": [
        "#Create new df 'result'\n",
        "result = calc_attractiveness(df1, df_threshold)"
      ]
    },
    {
      "cell_type": "code",
      "execution_count": null,
      "metadata": {
        "id": "30h0PrKy1CSh"
      },
      "outputs": [],
      "source": [
        "result.columns"
      ]
    },
    {
      "cell_type": "code",
      "execution_count": null,
      "metadata": {
        "id": "ZuOrP10oGij1"
      },
      "outputs": [],
      "source": [
        "reverse_price_quantile = result['price Score'].map(lambda x: 5 - (x - 1))"
      ]
    },
    {
      "cell_type": "code",
      "execution_count": null,
      "metadata": {
        "id": "1H25ij0kXd_T"
      },
      "outputs": [],
      "source": [
        "reverse_distance_quantile = result['distance Score'].map(lambda x: 5 - (x - 1))"
      ]
    },
    {
      "cell_type": "code",
      "execution_count": null,
      "metadata": {
        "id": "bwVseK66Z6H6"
      },
      "outputs": [],
      "source": [
        "result['final score'] = 0.5 * reverse_price_quantile + 0.25 * result['review_scores_rating Score'] + 0.15 * reverse_distance_quantile + 0.1 * result['host_exp Score']"
      ]
    },
    {
      "cell_type": "code",
      "execution_count": null,
      "metadata": {
        "id": "5jYPYoCx5njD"
      },
      "outputs": [],
      "source": [
        "result['final score'] = 0.5 * reverse_price_quantile +  0.1 * result['host_exp Score'] + 0.15 * result['review_scores_rating']\n",
        "result['final score']"
      ]
    },
    {
      "cell_type": "code",
      "execution_count": null,
      "metadata": {
        "id": "1aYovI4OKSN-"
      },
      "outputs": [],
      "source": [
        "result.groupby(['neighbourhood_group_cleansed'])['final score'].agg(['min','mean','median','max']).style.background_gradient()"
      ]
    },
    {
      "cell_type": "code",
      "execution_count": null,
      "metadata": {
        "id": "unvFbOnQ8mUj"
      },
      "outputs": [],
      "source": [
        "df1.columns"
      ]
    },
    {
      "cell_type": "code",
      "execution_count": null,
      "metadata": {
        "id": "sByO7WCvKSN_"
      },
      "outputs": [],
      "source": [
        "import plotly.figure_factory as ff\n",
        "import plotly.express as px\n",
        "import plotly.graph_objects as go\n",
        "\n",
        "fig = go.Figure()\n",
        "\n",
        "fig = ff.create_hexbin_mapbox(\n",
        "    data_frame=result, lat=\"latitude\", lon=\"longitude\",width=1000, height=800,\n",
        "    nx_hexagon=20, opacity=0.6, min_count=1,color='final score',agg_func=np.mean,\n",
        "    color_continuous_scale=\"matter\", range_color=[3,4],\n",
        "    show_original_data=False,\n",
        "    original_data_marker=dict(size=4, opacity=0.6, color=\"blue\"))\n",
        "\n",
        "\n",
        "fig.update_layout(mapbox_style=\"open-street-map\")\n",
        "\n",
        "fig.show()"
      ]
    },
    {
      "cell_type": "code",
      "source": [
        "import matplotlib.pyplot as plt\n",
        "\n",
        "# code to create the histogram\n",
        "final_scores = result['final score']\n",
        "plt.hist(final_scores, bins=20, edgecolor='k')  # You can adjust the number of bins\n",
        "plt.xlabel('Final Score')\n",
        "plt.ylabel('Frequency')\n",
        "plt.title('Distribution of Final Scores of Airbnb Listings in Barcelona')\n",
        "\n",
        "# Calculate the median\n",
        "median = final_scores.median()\n",
        "\n",
        "# Add a vertical line for the median\n",
        "plt.axvline(median, color='r', linestyle='dashed', linewidth=2, label=f'Median: {median:.2f}')\n",
        "\n",
        "# Display the legend\n",
        "plt.legend()\n",
        "\n",
        "# Display the histogram\n",
        "plt.show()"
      ],
      "metadata": {
        "colab": {
          "base_uri": "https://localhost:8080/",
          "height": 472
        },
        "id": "B9BcYs_UmO3b",
        "outputId": "3652797a-9931-49c1-971d-eb73ec69a234"
      },
      "execution_count": 86,
      "outputs": [
        {
          "output_type": "display_data",
          "data": {
            "text/plain": [
              "<Figure size 640x480 with 1 Axes>"
            ],
            "image/png": "[encoded data removed]"
          },
          "metadata": {}
        }
      ]
    },
    {
      "cell_type": "code",
      "execution_count": null,
      "metadata": {
        "colab": {
          "background_save": true
        },
        "id": "9xJ2n9ti6vhM"
      },
      "outputs": [],
      "source": []
    }
  ],
  "metadata": {
    "colab": {
      "collapsed_sections": [
        "7DQm--R1mb0M",
        "0eQ8SES3mOS8"
      ],
      "toc_visible": true,
      "provenance": []
    },
    "kernelspec": {
      "display_name": "Python 3 (ipykernel)",
      "language": "python",
      "name": "python3"
    },
    "language_info": {
      "codemirror_mode": {
        "name": "ipython",
        "version": 3
      },
      "file_extension": ".py",
      "mimetype": "text/x-python",
      "name": "python",
      "nbconvert_exporter": "python",
      "pygments_lexer": "ipython3",
      "version": "3.10.9"
    }
  },
  "nbformat": 4,
  "nbformat_minor": 0
}